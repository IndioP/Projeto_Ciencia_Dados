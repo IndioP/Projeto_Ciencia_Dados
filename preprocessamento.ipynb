{
  "nbformat": 4,
  "nbformat_minor": 0,
  "metadata": {
    "colab": {
      "name": "preprocessamento.ipynb",
      "provenance": [],
      "collapsed_sections": [],
      "mount_file_id": "1quBz9S5nkpSLvX-2dmuxa9XssZ11DiXT",
      "authorship_tag": "ABX9TyMPk9eYw9iJns5K6xbLwhus",
      "include_colab_link": true
    },
    "kernelspec": {
      "name": "python3",
      "display_name": "Python 3"
    },
    "language_info": {
      "name": "python"
    }
  },
  "cells": [
    {
      "cell_type": "markdown",
      "metadata": {
        "id": "view-in-github",
        "colab_type": "text"
      },
      "source": [
        "<a href=\"https://colab.research.google.com/github/IndioP/Projeto_Ciencia_Dados/blob/main/preprocessamento.ipynb\" target=\"_parent\"><img src=\"https://colab.research.google.com/assets/colab-badge.svg\" alt=\"Open In Colab\"/></a>"
      ]
    },
    {
      "cell_type": "code",
      "metadata": {
        "id": "lkOuRomea_tk"
      },
      "source": [
        "import numpy as np\n",
        "import pandas as pd"
      ],
      "execution_count": null,
      "outputs": []
    },
    {
      "cell_type": "markdown",
      "metadata": {
        "id": "eFl2G_WfzjI_"
      },
      "source": [
        "##Acidentes"
      ]
    },
    {
      "cell_type": "code",
      "metadata": {
        "id": "6TsqahvFbNsJ",
        "colab": {
          "base_uri": "https://localhost:8080/"
        },
        "outputId": "0e2665be-50a5-49b8-c60c-e75cc1955e72"
      },
      "source": [
        "acidentes=pd.read_csv(\"/content/drive/MyDrive/ciencia-de-dados/dataset preprocessado/acidentes_transito_2015_2021.csv\",delimiter = ';')"
      ],
      "execution_count": null,
      "outputs": [
        {
          "output_type": "stream",
          "text": [
            "/usr/local/lib/python3.7/dist-packages/IPython/core/interactiveshell.py:2718: DtypeWarning: Columns (11,25,26,27,28,29,30,31,32,33,34,35,36,37) have mixed types.Specify dtype option on import or set low_memory=False.\n",
            "  interactivity=interactivity, compiler=compiler, result=result)\n"
          ],
          "name": "stderr"
        }
      ]
    },
    {
      "cell_type": "code",
      "metadata": {
        "colab": {
          "base_uri": "https://localhost:8080/",
          "height": 417
        },
        "id": "vJ2jtgT7bl3X",
        "outputId": "e3ef4ecb-6e06-48b0-c0f1-4d09fbb7f195"
      },
      "source": [
        "acidentes.head()"
      ],
      "execution_count": null,
      "outputs": [
        {
          "output_type": "execute_result",
          "data": {
            "text/html": [
              "<div>\n",
              "<style scoped>\n",
              "    .dataframe tbody tr th:only-of-type {\n",
              "        vertical-align: middle;\n",
              "    }\n",
              "\n",
              "    .dataframe tbody tr th {\n",
              "        vertical-align: top;\n",
              "    }\n",
              "\n",
              "    .dataframe thead th {\n",
              "        text-align: right;\n",
              "    }\n",
              "</style>\n",
              "<table border=\"1\" class=\"dataframe\">\n",
              "  <thead>\n",
              "    <tr style=\"text-align: right;\">\n",
              "      <th></th>\n",
              "      <th>DATA</th>\n",
              "      <th>HORA</th>\n",
              "      <th>NATUREZA_ACIDENTE</th>\n",
              "      <th>SITUACAO</th>\n",
              "      <th>BAIRRO</th>\n",
              "      <th>ENDERECO</th>\n",
              "      <th>NUMERO</th>\n",
              "      <th>DETALHE_ENDERECO_ACIDENTE</th>\n",
              "      <th>COMPLEMENTO</th>\n",
              "      <th>BAIRRO_CRUZAMENTO</th>\n",
              "      <th>NUM_SEMAFORO</th>\n",
              "      <th>SENTIDO_VIA</th>\n",
              "      <th>TIPO</th>\n",
              "      <th>DESCRICAO</th>\n",
              "      <th>AUTO</th>\n",
              "      <th>MOTO</th>\n",
              "      <th>CICLOM</th>\n",
              "      <th>CICLISTA</th>\n",
              "      <th>PEDESTRE</th>\n",
              "      <th>ONIBUS</th>\n",
              "      <th>CAMINHAO</th>\n",
              "      <th>VIATURA</th>\n",
              "      <th>OUTROS</th>\n",
              "      <th>VITIMAS</th>\n",
              "      <th>VITIMASFATAIS</th>\n",
              "      <th>ACIDENTE_VERIFICADO</th>\n",
              "      <th>TEMPO_CLIMA</th>\n",
              "      <th>SITUACAO_SEMAFORO</th>\n",
              "      <th>SINALIZACAO</th>\n",
              "      <th>CONDICAO_VIA</th>\n",
              "      <th>CONSERVACAO_VIA</th>\n",
              "      <th>PONTO_CONTROLE</th>\n",
              "      <th>SITUACAO_PLACA</th>\n",
              "      <th>VELOCIDADE_MAX_VIA</th>\n",
              "      <th>MAO_DIRECAO</th>\n",
              "      <th>DIVISAO_VIA1</th>\n",
              "      <th>DIVISAO_VIA2</th>\n",
              "      <th>DIVISAO_VIA3</th>\n",
              "      <th>NATUREZA</th>\n",
              "      <th>ENDERECO_CRUZAMENTO</th>\n",
              "      <th>NUMERO_CRUZAMENTO</th>\n",
              "      <th>REFERENCIA_CRUZAMENTO</th>\n",
              "    </tr>\n",
              "  </thead>\n",
              "  <tbody>\n",
              "    <tr>\n",
              "      <th>0</th>\n",
              "      <td>2015-12-03</td>\n",
              "      <td>11:36:00.000</td>\n",
              "      <td>SEM VÍTIMA</td>\n",
              "      <td>CANCELADA</td>\n",
              "      <td>CASA AMARELA</td>\n",
              "      <td>AV NORTE</td>\n",
              "      <td>NaN</td>\n",
              "      <td>NaN</td>\n",
              "      <td>SENTIDO SUBURBIO   E/F AO SESC</td>\n",
              "      <td>NaN</td>\n",
              "      <td>NaN</td>\n",
              "      <td>NaN</td>\n",
              "      <td>COLISÃO</td>\n",
              "      <td>COLISÃO SEM VITIMAS</td>\n",
              "      <td>NaN</td>\n",
              "      <td>NaN</td>\n",
              "      <td>NaN</td>\n",
              "      <td>NaN</td>\n",
              "      <td>NaN</td>\n",
              "      <td>NaN</td>\n",
              "      <td>NaN</td>\n",
              "      <td>NaN</td>\n",
              "      <td>NaN</td>\n",
              "      <td>0.0</td>\n",
              "      <td>NaN</td>\n",
              "      <td>NaN</td>\n",
              "      <td>NaN</td>\n",
              "      <td>NaN</td>\n",
              "      <td>NaN</td>\n",
              "      <td>NaN</td>\n",
              "      <td>NaN</td>\n",
              "      <td>NaN</td>\n",
              "      <td>NaN</td>\n",
              "      <td>NaN</td>\n",
              "      <td>NaN</td>\n",
              "      <td>NaN</td>\n",
              "      <td>NaN</td>\n",
              "      <td>NaN</td>\n",
              "      <td>NaN</td>\n",
              "      <td>NaN</td>\n",
              "      <td>NaN</td>\n",
              "      <td>NaN</td>\n",
              "    </tr>\n",
              "    <tr>\n",
              "      <th>1</th>\n",
              "      <td>2015-06-01</td>\n",
              "      <td>06:35:00.000</td>\n",
              "      <td>SEM VÍTIMA</td>\n",
              "      <td>FINALIZADA</td>\n",
              "      <td>ENCRUZILHADA</td>\n",
              "      <td>EST DE BELEM</td>\n",
              "      <td>NaN</td>\n",
              "      <td>NaN</td>\n",
              "      <td>IGREJA BATISTA MEMORIAL DE BELÉM</td>\n",
              "      <td>NaN</td>\n",
              "      <td>NaN</td>\n",
              "      <td>NaN</td>\n",
              "      <td>COLISÃO</td>\n",
              "      <td>SEM VÍTIMAS.</td>\n",
              "      <td>NaN</td>\n",
              "      <td>2.0</td>\n",
              "      <td>NaN</td>\n",
              "      <td>NaN</td>\n",
              "      <td>NaN</td>\n",
              "      <td>NaN</td>\n",
              "      <td>NaN</td>\n",
              "      <td>NaN</td>\n",
              "      <td>NaN</td>\n",
              "      <td>0.0</td>\n",
              "      <td>NaN</td>\n",
              "      <td>NaN</td>\n",
              "      <td>NaN</td>\n",
              "      <td>NaN</td>\n",
              "      <td>NaN</td>\n",
              "      <td>NaN</td>\n",
              "      <td>NaN</td>\n",
              "      <td>NaN</td>\n",
              "      <td>NaN</td>\n",
              "      <td>NaN</td>\n",
              "      <td>NaN</td>\n",
              "      <td>NaN</td>\n",
              "      <td>NaN</td>\n",
              "      <td>NaN</td>\n",
              "      <td>NaN</td>\n",
              "      <td>NaN</td>\n",
              "      <td>NaN</td>\n",
              "      <td>NaN</td>\n",
              "    </tr>\n",
              "    <tr>\n",
              "      <th>2</th>\n",
              "      <td>2015-06-01</td>\n",
              "      <td>08:04:00.000</td>\n",
              "      <td>SEM VÍTIMA</td>\n",
              "      <td>FINALIZADA</td>\n",
              "      <td>BOA VIAGEM</td>\n",
              "      <td>RUA ERNESTO DE PAULA SANTOS</td>\n",
              "      <td>NaN</td>\n",
              "      <td>NaN</td>\n",
              "      <td>SEMAFORO Nº217</td>\n",
              "      <td>NaN</td>\n",
              "      <td>NaN</td>\n",
              "      <td>NaN</td>\n",
              "      <td>COLISÃO</td>\n",
              "      <td>SEM VITIMA</td>\n",
              "      <td>1.0</td>\n",
              "      <td>NaN</td>\n",
              "      <td>NaN</td>\n",
              "      <td>NaN</td>\n",
              "      <td>NaN</td>\n",
              "      <td>NaN</td>\n",
              "      <td>1.0</td>\n",
              "      <td>NaN</td>\n",
              "      <td>NaN</td>\n",
              "      <td>0.0</td>\n",
              "      <td>NaN</td>\n",
              "      <td>NaN</td>\n",
              "      <td>NaN</td>\n",
              "      <td>NaN</td>\n",
              "      <td>NaN</td>\n",
              "      <td>NaN</td>\n",
              "      <td>NaN</td>\n",
              "      <td>NaN</td>\n",
              "      <td>NaN</td>\n",
              "      <td>NaN</td>\n",
              "      <td>NaN</td>\n",
              "      <td>NaN</td>\n",
              "      <td>NaN</td>\n",
              "      <td>NaN</td>\n",
              "      <td>NaN</td>\n",
              "      <td>NaN</td>\n",
              "      <td>NaN</td>\n",
              "      <td>NaN</td>\n",
              "    </tr>\n",
              "    <tr>\n",
              "      <th>3</th>\n",
              "      <td>2015-06-01</td>\n",
              "      <td>08:06:00.000</td>\n",
              "      <td>SEM VÍTIMA</td>\n",
              "      <td>FINALIZADA</td>\n",
              "      <td>AFOGADOS</td>\n",
              "      <td>AV SUL</td>\n",
              "      <td>NaN</td>\n",
              "      <td>NaN</td>\n",
              "      <td>AO LADO DA ESTAÇAO LARGO DA PAZ</td>\n",
              "      <td>NaN</td>\n",
              "      <td>NaN</td>\n",
              "      <td>NaN</td>\n",
              "      <td>COLISÃO</td>\n",
              "      <td>COLISAO S/V</td>\n",
              "      <td>1.0</td>\n",
              "      <td>NaN</td>\n",
              "      <td>NaN</td>\n",
              "      <td>NaN</td>\n",
              "      <td>NaN</td>\n",
              "      <td>NaN</td>\n",
              "      <td>1.0</td>\n",
              "      <td>NaN</td>\n",
              "      <td>NaN</td>\n",
              "      <td>0.0</td>\n",
              "      <td>NaN</td>\n",
              "      <td>NaN</td>\n",
              "      <td>NaN</td>\n",
              "      <td>NaN</td>\n",
              "      <td>NaN</td>\n",
              "      <td>NaN</td>\n",
              "      <td>NaN</td>\n",
              "      <td>NaN</td>\n",
              "      <td>NaN</td>\n",
              "      <td>NaN</td>\n",
              "      <td>NaN</td>\n",
              "      <td>NaN</td>\n",
              "      <td>NaN</td>\n",
              "      <td>NaN</td>\n",
              "      <td>NaN</td>\n",
              "      <td>NaN</td>\n",
              "      <td>NaN</td>\n",
              "      <td>NaN</td>\n",
              "    </tr>\n",
              "    <tr>\n",
              "      <th>4</th>\n",
              "      <td>2015-06-01</td>\n",
              "      <td>08:13:00.000</td>\n",
              "      <td>SEM VÍTIMA</td>\n",
              "      <td>CANCELADA</td>\n",
              "      <td>MADALENA</td>\n",
              "      <td>RUA BENFICA</td>\n",
              "      <td>NaN</td>\n",
              "      <td>NaN</td>\n",
              "      <td>EM  FRENTE AO CLUBE INTERNACIONAL</td>\n",
              "      <td>NaN</td>\n",
              "      <td>NaN</td>\n",
              "      <td>NaN</td>\n",
              "      <td>COLISÃO</td>\n",
              "      <td>GM RIBEIRO JA NO LOCAL VT 05</td>\n",
              "      <td>2.0</td>\n",
              "      <td>NaN</td>\n",
              "      <td>NaN</td>\n",
              "      <td>NaN</td>\n",
              "      <td>NaN</td>\n",
              "      <td>NaN</td>\n",
              "      <td>NaN</td>\n",
              "      <td>NaN</td>\n",
              "      <td>NaN</td>\n",
              "      <td>0.0</td>\n",
              "      <td>NaN</td>\n",
              "      <td>NaN</td>\n",
              "      <td>NaN</td>\n",
              "      <td>NaN</td>\n",
              "      <td>NaN</td>\n",
              "      <td>NaN</td>\n",
              "      <td>NaN</td>\n",
              "      <td>NaN</td>\n",
              "      <td>NaN</td>\n",
              "      <td>NaN</td>\n",
              "      <td>NaN</td>\n",
              "      <td>NaN</td>\n",
              "      <td>NaN</td>\n",
              "      <td>NaN</td>\n",
              "      <td>NaN</td>\n",
              "      <td>NaN</td>\n",
              "      <td>NaN</td>\n",
              "      <td>NaN</td>\n",
              "    </tr>\n",
              "  </tbody>\n",
              "</table>\n",
              "</div>"
            ],
            "text/plain": [
              "         DATA          HORA  ... NUMERO_CRUZAMENTO REFERENCIA_CRUZAMENTO\n",
              "0  2015-12-03  11:36:00.000  ...               NaN                   NaN\n",
              "1  2015-06-01  06:35:00.000  ...               NaN                   NaN\n",
              "2  2015-06-01  08:04:00.000  ...               NaN                   NaN\n",
              "3  2015-06-01  08:06:00.000  ...               NaN                   NaN\n",
              "4  2015-06-01  08:13:00.000  ...               NaN                   NaN\n",
              "\n",
              "[5 rows x 42 columns]"
            ]
          },
          "metadata": {
            "tags": []
          },
          "execution_count": 3
        }
      ]
    },
    {
      "cell_type": "code",
      "metadata": {
        "colab": {
          "base_uri": "https://localhost:8080/"
        },
        "id": "0CPfi3r7oAf3",
        "outputId": "a783ad01-773f-482e-8771-1913e851bf37"
      },
      "source": [
        "acidentes.dtypes"
      ],
      "execution_count": null,
      "outputs": [
        {
          "output_type": "execute_result",
          "data": {
            "text/plain": [
              "DATA                          object\n",
              "HORA                          object\n",
              "NATUREZA_ACIDENTE             object\n",
              "SITUACAO                      object\n",
              "BAIRRO                        object\n",
              "ENDERECO                      object\n",
              "NUMERO                        object\n",
              "DETALHE_ENDERECO_ACIDENTE     object\n",
              "COMPLEMENTO                   object\n",
              "BAIRRO_CRUZAMENTO             object\n",
              "NUM_SEMAFORO                 float64\n",
              "SENTIDO_VIA                   object\n",
              "TIPO                          object\n",
              "DESCRICAO                     object\n",
              "AUTO                         float64\n",
              "MOTO                         float64\n",
              "CICLOM                       float64\n",
              "CICLISTA                     float64\n",
              "PEDESTRE                     float64\n",
              "ONIBUS                       float64\n",
              "CAMINHAO                     float64\n",
              "VIATURA                      float64\n",
              "OUTROS                       float64\n",
              "VITIMAS                      float64\n",
              "VITIMASFATAIS                float64\n",
              "ACIDENTE_VERIFICADO           object\n",
              "TEMPO_CLIMA                   object\n",
              "SITUACAO_SEMAFORO             object\n",
              "SINALIZACAO                   object\n",
              "CONDICAO_VIA                  object\n",
              "CONSERVACAO_VIA               object\n",
              "PONTO_CONTROLE                object\n",
              "SITUACAO_PLACA                object\n",
              "VELOCIDADE_MAX_VIA            object\n",
              "MAO_DIRECAO                   object\n",
              "DIVISAO_VIA1                  object\n",
              "DIVISAO_VIA2                  object\n",
              "DIVISAO_VIA3                  object\n",
              "NATUREZA                     float64\n",
              "ENDERECO_CRUZAMENTO           object\n",
              "NUMERO_CRUZAMENTO             object\n",
              "REFERENCIA_CRUZAMENTO         object\n",
              "dtype: object"
            ]
          },
          "metadata": {
            "tags": []
          },
          "execution_count": 4
        }
      ]
    },
    {
      "cell_type": "code",
      "metadata": {
        "id": "XPyWVVuz76yP"
      },
      "source": [
        "#ajustando tipos dos dados\n",
        "\n",
        "acidentes['DATA'] = pd.to_datetime(acidentes['DATA'], format='%Y-%m-%d', errors='ignore')\n",
        "acidentes['HORA'] = pd.to_datetime(acidentes['HORA'], format='%H:%M:%S', errors = 'ignore')\n",
        "\n",
        "acidentes = acidentes.astype({'NATUREZA_ACIDENTE':'category','SITUACAO':'category','BAIRRO':'category','ENDERECO':'category','NUMERO':'category','DETALHE_ENDERECO_ACIDENTE':'category','COMPLEMENTO':'category','BAIRRO_CRUZAMENTO':'category','NUM_SEMAFORO':'category','SENTIDO_VIA':'category','TIPO':'category','DESCRICAO':'category','AUTO':'float','MOTO':'float','CICLOM':'float','CICLISTA':'float','PEDESTRE':'float','ONIBUS':'float','CAMINHAO':'float','VIATURA':'float','OUTROS':'float','VITIMAS':'float','VITIMASFATAIS':'float','ACIDENTE_VERIFICADO':'category','TEMPO_CLIMA':'category','SITUACAO_SEMAFORO':'category','SINALIZACAO':'category','CONDICAO_VIA':'category','CONSERVACAO_VIA':'category','PONTO_CONTROLE':'category','SITUACAO_PLACA':'category','VELOCIDADE_MAX_VIA':'category','MAO_DIRECAO':'category','DIVISAO_VIA1':'category','DIVISAO_VIA2':'category','DIVISAO_VIA3':'category','NATUREZA':'category','ENDERECO_CRUZAMENTO':'category','NUMERO_CRUZAMENTO':'category','REFERENCIA_CRUZAMENTO':'category'})"
      ],
      "execution_count": null,
      "outputs": []
    },
    {
      "cell_type": "code",
      "metadata": {
        "colab": {
          "base_uri": "https://localhost:8080/"
        },
        "id": "YjwXenr44sxJ",
        "outputId": "f05c50e4-8a0d-46e9-af05-28fc49c5b077"
      },
      "source": [
        "acidentes.dtypes"
      ],
      "execution_count": null,
      "outputs": [
        {
          "output_type": "execute_result",
          "data": {
            "text/plain": [
              "DATA                         datetime64[ns]\n",
              "HORA                                 object\n",
              "NATUREZA_ACIDENTE                  category\n",
              "SITUACAO                           category\n",
              "BAIRRO                             category\n",
              "ENDERECO                           category\n",
              "NUMERO                             category\n",
              "DETALHE_ENDERECO_ACIDENTE          category\n",
              "COMPLEMENTO                        category\n",
              "BAIRRO_CRUZAMENTO                  category\n",
              "NUM_SEMAFORO                       category\n",
              "SENTIDO_VIA                        category\n",
              "TIPO                               category\n",
              "DESCRICAO                          category\n",
              "AUTO                                float64\n",
              "MOTO                                float64\n",
              "CICLOM                              float64\n",
              "CICLISTA                            float64\n",
              "PEDESTRE                            float64\n",
              "ONIBUS                              float64\n",
              "CAMINHAO                            float64\n",
              "VIATURA                             float64\n",
              "OUTROS                              float64\n",
              "VITIMAS                             float64\n",
              "VITIMASFATAIS                       float64\n",
              "ACIDENTE_VERIFICADO                category\n",
              "TEMPO_CLIMA                        category\n",
              "SITUACAO_SEMAFORO                  category\n",
              "SINALIZACAO                        category\n",
              "CONDICAO_VIA                       category\n",
              "CONSERVACAO_VIA                    category\n",
              "PONTO_CONTROLE                     category\n",
              "SITUACAO_PLACA                     category\n",
              "VELOCIDADE_MAX_VIA                 category\n",
              "MAO_DIRECAO                        category\n",
              "DIVISAO_VIA1                       category\n",
              "DIVISAO_VIA2                       category\n",
              "DIVISAO_VIA3                       category\n",
              "NATUREZA                           category\n",
              "ENDERECO_CRUZAMENTO                category\n",
              "NUMERO_CRUZAMENTO                  category\n",
              "REFERENCIA_CRUZAMENTO              category\n",
              "dtype: object"
            ]
          },
          "metadata": {
            "tags": []
          },
          "execution_count": 6
        }
      ]
    },
    {
      "cell_type": "code",
      "metadata": {
        "id": "zWVyHeyQ91x_"
      },
      "source": [
        "#Tentando gerar a coluna de Dia da semana...\n",
        "#não ta funcionando por enquanto....\n",
        "#precisamos rever\n",
        "\n",
        "\n",
        "#acidentes['DIA_DA_SEMANA'] = acidentes['DATA'].to_timestamp\n",
        "#acidentes['DIA_DA_SEMANA'].unique()\n",
        "#acidentes['DIA_DA_SEMANA'] = acidentes['DIA_DA_SEMANA'].day_name()\n"
      ],
      "execution_count": null,
      "outputs": []
    },
    {
      "cell_type": "code",
      "metadata": {
        "colab": {
          "base_uri": "https://localhost:8080/"
        },
        "id": "JRm2d8p003o2",
        "outputId": "9a801455-85f9-4a96-ef96-2d96ef25a3c6"
      },
      "source": [
        "print(acidentes.isnull().sum()/len(acidentes))"
      ],
      "execution_count": null,
      "outputs": [
        {
          "output_type": "stream",
          "text": [
            "DATA                         0.000000\n",
            "HORA                         0.000947\n",
            "NATUREZA_ACIDENTE            0.007267\n",
            "SITUACAO                     0.000930\n",
            "BAIRRO                       0.005631\n",
            "ENDERECO                     0.004064\n",
            "NUMERO                       0.544842\n",
            "DETALHE_ENDERECO_ACIDENTE    0.855468\n",
            "COMPLEMENTO                  0.062356\n",
            "BAIRRO_CRUZAMENTO            0.129051\n",
            "NUM_SEMAFORO                 0.915585\n",
            "SENTIDO_VIA                  0.776787\n",
            "TIPO                         0.000982\n",
            "DESCRICAO                    0.220561\n",
            "AUTO                         0.093422\n",
            "MOTO                         0.745256\n",
            "CICLOM                       0.992991\n",
            "CICLISTA                     0.985190\n",
            "PEDESTRE                     0.978405\n",
            "ONIBUS                       0.852041\n",
            "CAMINHAO                     0.900499\n",
            "VIATURA                      0.988307\n",
            "OUTROS                       0.988531\n",
            "VITIMAS                      0.004718\n",
            "VITIMASFATAIS                0.997382\n",
            "ACIDENTE_VERIFICADO          0.749458\n",
            "TEMPO_CLIMA                  0.739625\n",
            "SITUACAO_SEMAFORO            0.742931\n",
            "SINALIZACAO                  0.744464\n",
            "CONDICAO_VIA                 0.740434\n",
            "CONSERVACAO_VIA              0.744136\n",
            "PONTO_CONTROLE               0.764956\n",
            "SITUACAO_PLACA               0.764887\n",
            "VELOCIDADE_MAX_VIA           0.921595\n",
            "MAO_DIRECAO                  0.744567\n",
            "DIVISAO_VIA1                 0.754624\n",
            "DIVISAO_VIA2                 0.976718\n",
            "DIVISAO_VIA3                 0.995505\n",
            "NATUREZA                     1.000000\n",
            "ENDERECO_CRUZAMENTO          0.200844\n",
            "NUMERO_CRUZAMENTO            0.437403\n",
            "REFERENCIA_CRUZAMENTO        0.249475\n",
            "dtype: float64\n"
          ],
          "name": "stdout"
        }
      ]
    },
    {
      "cell_type": "markdown",
      "metadata": {
        "id": "mvVZ5hRZBHgk"
      },
      "source": [
        "*** As colunas abaixo vão ser retiradas pela falta de valores ser muito elevada em relação ao dataset***\n",
        "\n",
        "NUMERO além de que essa granularidade seria muito especifica para o nosso foco\n",
        "\n",
        "DETALHE_ENDERECO_ACIDENTE é um valor muito subjetivo e pouco padronizado\n",
        "\n",
        "NUM_SEMAFORO é um numero que não significa muita coisa pro nosso foco\n",
        "\n",
        "SENTIDO_VIA seria muito especifico para os testes que a gente vai fazer\n",
        "\n",
        "DIVISAO_VIA2 existem poucas vias com 3 faixas\n",
        "\n",
        "DIVISAO_VIA3 existem poucas vias com 4 faixas\n",
        "\n",
        "NATUREZA essa coluna ta vazia\n",
        "\n",
        "ENDERECO_CRUZAMENTO\n",
        "\n",
        "NUMERO_CRUZAMENTO\n",
        "\n",
        "REFERENCIA_CRUZAMENTO\n"
      ]
    },
    {
      "cell_type": "code",
      "metadata": {
        "colab": {
          "base_uri": "https://localhost:8080/",
          "height": 217
        },
        "id": "jFJMNlxsLFZl",
        "outputId": "5cca53ab-24c7-4da8-f823-39b48e07fa75"
      },
      "source": [
        "excluidos = acidentes[[ 'NUMERO','DETALHE_ENDERECO_ACIDENTE','NUM_SEMAFORO','SENTIDO_VIA','DIVISAO_VIA2','DIVISAO_VIA3','NATUREZA','ENDERECO_CRUZAMENTO','NUMERO_CRUZAMENTO','REFERENCIA_CRUZAMENTO']]\n",
        "excluidos.head()"
      ],
      "execution_count": null,
      "outputs": [
        {
          "output_type": "execute_result",
          "data": {
            "text/html": [
              "<div>\n",
              "<style scoped>\n",
              "    .dataframe tbody tr th:only-of-type {\n",
              "        vertical-align: middle;\n",
              "    }\n",
              "\n",
              "    .dataframe tbody tr th {\n",
              "        vertical-align: top;\n",
              "    }\n",
              "\n",
              "    .dataframe thead th {\n",
              "        text-align: right;\n",
              "    }\n",
              "</style>\n",
              "<table border=\"1\" class=\"dataframe\">\n",
              "  <thead>\n",
              "    <tr style=\"text-align: right;\">\n",
              "      <th></th>\n",
              "      <th>NUMERO</th>\n",
              "      <th>DETALHE_ENDERECO_ACIDENTE</th>\n",
              "      <th>NUM_SEMAFORO</th>\n",
              "      <th>SENTIDO_VIA</th>\n",
              "      <th>DIVISAO_VIA2</th>\n",
              "      <th>DIVISAO_VIA3</th>\n",
              "      <th>NATUREZA</th>\n",
              "      <th>ENDERECO_CRUZAMENTO</th>\n",
              "      <th>NUMERO_CRUZAMENTO</th>\n",
              "      <th>REFERENCIA_CRUZAMENTO</th>\n",
              "    </tr>\n",
              "  </thead>\n",
              "  <tbody>\n",
              "    <tr>\n",
              "      <th>0</th>\n",
              "      <td>NaN</td>\n",
              "      <td>NaN</td>\n",
              "      <td>NaN</td>\n",
              "      <td>NaN</td>\n",
              "      <td>NaN</td>\n",
              "      <td>NaN</td>\n",
              "      <td>NaN</td>\n",
              "      <td>NaN</td>\n",
              "      <td>NaN</td>\n",
              "      <td>NaN</td>\n",
              "    </tr>\n",
              "    <tr>\n",
              "      <th>1</th>\n",
              "      <td>NaN</td>\n",
              "      <td>NaN</td>\n",
              "      <td>NaN</td>\n",
              "      <td>NaN</td>\n",
              "      <td>NaN</td>\n",
              "      <td>NaN</td>\n",
              "      <td>NaN</td>\n",
              "      <td>NaN</td>\n",
              "      <td>NaN</td>\n",
              "      <td>NaN</td>\n",
              "    </tr>\n",
              "    <tr>\n",
              "      <th>2</th>\n",
              "      <td>NaN</td>\n",
              "      <td>NaN</td>\n",
              "      <td>NaN</td>\n",
              "      <td>NaN</td>\n",
              "      <td>NaN</td>\n",
              "      <td>NaN</td>\n",
              "      <td>NaN</td>\n",
              "      <td>NaN</td>\n",
              "      <td>NaN</td>\n",
              "      <td>NaN</td>\n",
              "    </tr>\n",
              "    <tr>\n",
              "      <th>3</th>\n",
              "      <td>NaN</td>\n",
              "      <td>NaN</td>\n",
              "      <td>NaN</td>\n",
              "      <td>NaN</td>\n",
              "      <td>NaN</td>\n",
              "      <td>NaN</td>\n",
              "      <td>NaN</td>\n",
              "      <td>NaN</td>\n",
              "      <td>NaN</td>\n",
              "      <td>NaN</td>\n",
              "    </tr>\n",
              "    <tr>\n",
              "      <th>4</th>\n",
              "      <td>NaN</td>\n",
              "      <td>NaN</td>\n",
              "      <td>NaN</td>\n",
              "      <td>NaN</td>\n",
              "      <td>NaN</td>\n",
              "      <td>NaN</td>\n",
              "      <td>NaN</td>\n",
              "      <td>NaN</td>\n",
              "      <td>NaN</td>\n",
              "      <td>NaN</td>\n",
              "    </tr>\n",
              "  </tbody>\n",
              "</table>\n",
              "</div>"
            ],
            "text/plain": [
              "  NUMERO DETALHE_ENDERECO_ACIDENTE  ... NUMERO_CRUZAMENTO REFERENCIA_CRUZAMENTO\n",
              "0    NaN                       NaN  ...               NaN                   NaN\n",
              "1    NaN                       NaN  ...               NaN                   NaN\n",
              "2    NaN                       NaN  ...               NaN                   NaN\n",
              "3    NaN                       NaN  ...               NaN                   NaN\n",
              "4    NaN                       NaN  ...               NaN                   NaN\n",
              "\n",
              "[5 rows x 10 columns]"
            ]
          },
          "metadata": {
            "tags": []
          },
          "execution_count": 9
        }
      ]
    },
    {
      "cell_type": "code",
      "metadata": {
        "id": "bE_6UOzF4x5f"
      },
      "source": [
        "#apagando algumas tabelas que não eram tão interessantes pra gente\n",
        "acidentes = acidentes.drop([ 'NUMERO','DETALHE_ENDERECO_ACIDENTE','NUM_SEMAFORO','SENTIDO_VIA','DIVISAO_VIA2','DIVISAO_VIA3','NATUREZA','ENDERECO_CRUZAMENTO','NUMERO_CRUZAMENTO','REFERENCIA_CRUZAMENTO'], axis=1)"
      ],
      "execution_count": null,
      "outputs": []
    },
    {
      "cell_type": "code",
      "metadata": {
        "colab": {
          "base_uri": "https://localhost:8080/",
          "height": 417
        },
        "id": "Zcojji404Ckm",
        "outputId": "8a8166f0-5453-4d94-e04a-58d5834503d3"
      },
      "source": [
        "acidentes.head()"
      ],
      "execution_count": null,
      "outputs": [
        {
          "output_type": "execute_result",
          "data": {
            "text/html": [
              "<div>\n",
              "<style scoped>\n",
              "    .dataframe tbody tr th:only-of-type {\n",
              "        vertical-align: middle;\n",
              "    }\n",
              "\n",
              "    .dataframe tbody tr th {\n",
              "        vertical-align: top;\n",
              "    }\n",
              "\n",
              "    .dataframe thead th {\n",
              "        text-align: right;\n",
              "    }\n",
              "</style>\n",
              "<table border=\"1\" class=\"dataframe\">\n",
              "  <thead>\n",
              "    <tr style=\"text-align: right;\">\n",
              "      <th></th>\n",
              "      <th>DATA</th>\n",
              "      <th>HORA</th>\n",
              "      <th>NATUREZA_ACIDENTE</th>\n",
              "      <th>SITUACAO</th>\n",
              "      <th>BAIRRO</th>\n",
              "      <th>ENDERECO</th>\n",
              "      <th>COMPLEMENTO</th>\n",
              "      <th>BAIRRO_CRUZAMENTO</th>\n",
              "      <th>TIPO</th>\n",
              "      <th>DESCRICAO</th>\n",
              "      <th>AUTO</th>\n",
              "      <th>MOTO</th>\n",
              "      <th>CICLOM</th>\n",
              "      <th>CICLISTA</th>\n",
              "      <th>PEDESTRE</th>\n",
              "      <th>ONIBUS</th>\n",
              "      <th>CAMINHAO</th>\n",
              "      <th>VIATURA</th>\n",
              "      <th>OUTROS</th>\n",
              "      <th>VITIMAS</th>\n",
              "      <th>VITIMASFATAIS</th>\n",
              "      <th>ACIDENTE_VERIFICADO</th>\n",
              "      <th>TEMPO_CLIMA</th>\n",
              "      <th>SITUACAO_SEMAFORO</th>\n",
              "      <th>SINALIZACAO</th>\n",
              "      <th>CONDICAO_VIA</th>\n",
              "      <th>CONSERVACAO_VIA</th>\n",
              "      <th>PONTO_CONTROLE</th>\n",
              "      <th>SITUACAO_PLACA</th>\n",
              "      <th>VELOCIDADE_MAX_VIA</th>\n",
              "      <th>MAO_DIRECAO</th>\n",
              "      <th>DIVISAO_VIA1</th>\n",
              "    </tr>\n",
              "  </thead>\n",
              "  <tbody>\n",
              "    <tr>\n",
              "      <th>0</th>\n",
              "      <td>2015-12-03</td>\n",
              "      <td>11:36:00.000</td>\n",
              "      <td>SEM VÍTIMA</td>\n",
              "      <td>CANCELADA</td>\n",
              "      <td>CASA AMARELA</td>\n",
              "      <td>AV NORTE</td>\n",
              "      <td>SENTIDO SUBURBIO   E/F AO SESC</td>\n",
              "      <td>NaN</td>\n",
              "      <td>COLISÃO</td>\n",
              "      <td>COLISÃO SEM VITIMAS</td>\n",
              "      <td>NaN</td>\n",
              "      <td>NaN</td>\n",
              "      <td>NaN</td>\n",
              "      <td>NaN</td>\n",
              "      <td>NaN</td>\n",
              "      <td>NaN</td>\n",
              "      <td>NaN</td>\n",
              "      <td>NaN</td>\n",
              "      <td>NaN</td>\n",
              "      <td>0.0</td>\n",
              "      <td>NaN</td>\n",
              "      <td>NaN</td>\n",
              "      <td>NaN</td>\n",
              "      <td>NaN</td>\n",
              "      <td>NaN</td>\n",
              "      <td>NaN</td>\n",
              "      <td>NaN</td>\n",
              "      <td>NaN</td>\n",
              "      <td>NaN</td>\n",
              "      <td>NaN</td>\n",
              "      <td>NaN</td>\n",
              "      <td>NaN</td>\n",
              "    </tr>\n",
              "    <tr>\n",
              "      <th>1</th>\n",
              "      <td>2015-06-01</td>\n",
              "      <td>06:35:00.000</td>\n",
              "      <td>SEM VÍTIMA</td>\n",
              "      <td>FINALIZADA</td>\n",
              "      <td>ENCRUZILHADA</td>\n",
              "      <td>EST DE BELEM</td>\n",
              "      <td>IGREJA BATISTA MEMORIAL DE BELÉM</td>\n",
              "      <td>NaN</td>\n",
              "      <td>COLISÃO</td>\n",
              "      <td>SEM VÍTIMAS.</td>\n",
              "      <td>NaN</td>\n",
              "      <td>2.0</td>\n",
              "      <td>NaN</td>\n",
              "      <td>NaN</td>\n",
              "      <td>NaN</td>\n",
              "      <td>NaN</td>\n",
              "      <td>NaN</td>\n",
              "      <td>NaN</td>\n",
              "      <td>NaN</td>\n",
              "      <td>0.0</td>\n",
              "      <td>NaN</td>\n",
              "      <td>NaN</td>\n",
              "      <td>NaN</td>\n",
              "      <td>NaN</td>\n",
              "      <td>NaN</td>\n",
              "      <td>NaN</td>\n",
              "      <td>NaN</td>\n",
              "      <td>NaN</td>\n",
              "      <td>NaN</td>\n",
              "      <td>NaN</td>\n",
              "      <td>NaN</td>\n",
              "      <td>NaN</td>\n",
              "    </tr>\n",
              "    <tr>\n",
              "      <th>2</th>\n",
              "      <td>2015-06-01</td>\n",
              "      <td>08:04:00.000</td>\n",
              "      <td>SEM VÍTIMA</td>\n",
              "      <td>FINALIZADA</td>\n",
              "      <td>BOA VIAGEM</td>\n",
              "      <td>RUA ERNESTO DE PAULA SANTOS</td>\n",
              "      <td>SEMAFORO Nº217</td>\n",
              "      <td>NaN</td>\n",
              "      <td>COLISÃO</td>\n",
              "      <td>SEM VITIMA</td>\n",
              "      <td>1.0</td>\n",
              "      <td>NaN</td>\n",
              "      <td>NaN</td>\n",
              "      <td>NaN</td>\n",
              "      <td>NaN</td>\n",
              "      <td>NaN</td>\n",
              "      <td>1.0</td>\n",
              "      <td>NaN</td>\n",
              "      <td>NaN</td>\n",
              "      <td>0.0</td>\n",
              "      <td>NaN</td>\n",
              "      <td>NaN</td>\n",
              "      <td>NaN</td>\n",
              "      <td>NaN</td>\n",
              "      <td>NaN</td>\n",
              "      <td>NaN</td>\n",
              "      <td>NaN</td>\n",
              "      <td>NaN</td>\n",
              "      <td>NaN</td>\n",
              "      <td>NaN</td>\n",
              "      <td>NaN</td>\n",
              "      <td>NaN</td>\n",
              "    </tr>\n",
              "    <tr>\n",
              "      <th>3</th>\n",
              "      <td>2015-06-01</td>\n",
              "      <td>08:06:00.000</td>\n",
              "      <td>SEM VÍTIMA</td>\n",
              "      <td>FINALIZADA</td>\n",
              "      <td>AFOGADOS</td>\n",
              "      <td>AV SUL</td>\n",
              "      <td>AO LADO DA ESTAÇAO LARGO DA PAZ</td>\n",
              "      <td>NaN</td>\n",
              "      <td>COLISÃO</td>\n",
              "      <td>COLISAO S/V</td>\n",
              "      <td>1.0</td>\n",
              "      <td>NaN</td>\n",
              "      <td>NaN</td>\n",
              "      <td>NaN</td>\n",
              "      <td>NaN</td>\n",
              "      <td>NaN</td>\n",
              "      <td>1.0</td>\n",
              "      <td>NaN</td>\n",
              "      <td>NaN</td>\n",
              "      <td>0.0</td>\n",
              "      <td>NaN</td>\n",
              "      <td>NaN</td>\n",
              "      <td>NaN</td>\n",
              "      <td>NaN</td>\n",
              "      <td>NaN</td>\n",
              "      <td>NaN</td>\n",
              "      <td>NaN</td>\n",
              "      <td>NaN</td>\n",
              "      <td>NaN</td>\n",
              "      <td>NaN</td>\n",
              "      <td>NaN</td>\n",
              "      <td>NaN</td>\n",
              "    </tr>\n",
              "    <tr>\n",
              "      <th>4</th>\n",
              "      <td>2015-06-01</td>\n",
              "      <td>08:13:00.000</td>\n",
              "      <td>SEM VÍTIMA</td>\n",
              "      <td>CANCELADA</td>\n",
              "      <td>MADALENA</td>\n",
              "      <td>RUA BENFICA</td>\n",
              "      <td>EM  FRENTE AO CLUBE INTERNACIONAL</td>\n",
              "      <td>NaN</td>\n",
              "      <td>COLISÃO</td>\n",
              "      <td>GM RIBEIRO JA NO LOCAL VT 05</td>\n",
              "      <td>2.0</td>\n",
              "      <td>NaN</td>\n",
              "      <td>NaN</td>\n",
              "      <td>NaN</td>\n",
              "      <td>NaN</td>\n",
              "      <td>NaN</td>\n",
              "      <td>NaN</td>\n",
              "      <td>NaN</td>\n",
              "      <td>NaN</td>\n",
              "      <td>0.0</td>\n",
              "      <td>NaN</td>\n",
              "      <td>NaN</td>\n",
              "      <td>NaN</td>\n",
              "      <td>NaN</td>\n",
              "      <td>NaN</td>\n",
              "      <td>NaN</td>\n",
              "      <td>NaN</td>\n",
              "      <td>NaN</td>\n",
              "      <td>NaN</td>\n",
              "      <td>NaN</td>\n",
              "      <td>NaN</td>\n",
              "      <td>NaN</td>\n",
              "    </tr>\n",
              "  </tbody>\n",
              "</table>\n",
              "</div>"
            ],
            "text/plain": [
              "        DATA          HORA  ... MAO_DIRECAO DIVISAO_VIA1\n",
              "0 2015-12-03  11:36:00.000  ...         NaN          NaN\n",
              "1 2015-06-01  06:35:00.000  ...         NaN          NaN\n",
              "2 2015-06-01  08:04:00.000  ...         NaN          NaN\n",
              "3 2015-06-01  08:06:00.000  ...         NaN          NaN\n",
              "4 2015-06-01  08:13:00.000  ...         NaN          NaN\n",
              "\n",
              "[5 rows x 32 columns]"
            ]
          },
          "metadata": {
            "tags": []
          },
          "execution_count": 11
        }
      ]
    },
    {
      "cell_type": "code",
      "metadata": {
        "id": "ThpKPu7_qyuy",
        "colab": {
          "base_uri": "https://localhost:8080/",
          "height": 552
        },
        "outputId": "341c8b83-907c-4daa-ec6f-4a0a127d547c"
      },
      "source": [
        "acidentes['auto'] = acidentes['auto'].fillna(0)\n",
        "acidentes['moto'] = acidentes['moto'].fillna(0)\n",
        "acidentes['ciclom'] = acidentes['ciclom'].fillna(0)\n",
        "acidentes['ciclista'] = acidentes['ciclista'].fillna(0)\n",
        "acidentes['pedestre'] = acidentes['pedestre'].fillna(0)\n",
        "acidentes['onibus'] = acidentes['onibus'].fillna(0)\n",
        "acidentes['caminhao'] = acidentes['caminhao'].fillna(0)\n",
        "acidentes['viatura'] = acidentes['viatura'].fillna(0)\n",
        "acidentes['outros'] = acidentes['outros'].fillna(0)\n",
        "\n",
        "acidentes['vitimasfatais'] = acidentes['vitimasfatais'].fillna(0)\n",
        "\n"
      ],
      "execution_count": null,
      "outputs": [
        {
          "output_type": "error",
          "ename": "KeyError",
          "evalue": "ignored",
          "traceback": [
            "\u001b[0;31m---------------------------------------------------------------------------\u001b[0m",
            "\u001b[0;31mKeyError\u001b[0m                                  Traceback (most recent call last)",
            "\u001b[0;32m/usr/local/lib/python3.7/dist-packages/pandas/core/indexes/base.py\u001b[0m in \u001b[0;36mget_loc\u001b[0;34m(self, key, method, tolerance)\u001b[0m\n\u001b[1;32m   2897\u001b[0m             \u001b[0;32mtry\u001b[0m\u001b[0;34m:\u001b[0m\u001b[0;34m\u001b[0m\u001b[0;34m\u001b[0m\u001b[0m\n\u001b[0;32m-> 2898\u001b[0;31m                 \u001b[0;32mreturn\u001b[0m \u001b[0mself\u001b[0m\u001b[0;34m.\u001b[0m\u001b[0m_engine\u001b[0m\u001b[0;34m.\u001b[0m\u001b[0mget_loc\u001b[0m\u001b[0;34m(\u001b[0m\u001b[0mcasted_key\u001b[0m\u001b[0;34m)\u001b[0m\u001b[0;34m\u001b[0m\u001b[0;34m\u001b[0m\u001b[0m\n\u001b[0m\u001b[1;32m   2899\u001b[0m             \u001b[0;32mexcept\u001b[0m \u001b[0mKeyError\u001b[0m \u001b[0;32mas\u001b[0m \u001b[0merr\u001b[0m\u001b[0;34m:\u001b[0m\u001b[0;34m\u001b[0m\u001b[0;34m\u001b[0m\u001b[0m\n",
            "\u001b[0;32mpandas/_libs/index.pyx\u001b[0m in \u001b[0;36mpandas._libs.index.IndexEngine.get_loc\u001b[0;34m()\u001b[0m\n",
            "\u001b[0;32mpandas/_libs/index.pyx\u001b[0m in \u001b[0;36mpandas._libs.index.IndexEngine.get_loc\u001b[0;34m()\u001b[0m\n",
            "\u001b[0;32mpandas/_libs/hashtable_class_helper.pxi\u001b[0m in \u001b[0;36mpandas._libs.hashtable.PyObjectHashTable.get_item\u001b[0;34m()\u001b[0m\n",
            "\u001b[0;32mpandas/_libs/hashtable_class_helper.pxi\u001b[0m in \u001b[0;36mpandas._libs.hashtable.PyObjectHashTable.get_item\u001b[0;34m()\u001b[0m\n",
            "\u001b[0;31mKeyError\u001b[0m: 'auto'",
            "\nThe above exception was the direct cause of the following exception:\n",
            "\u001b[0;31mKeyError\u001b[0m                                  Traceback (most recent call last)",
            "\u001b[0;32m<ipython-input-12-7b7b42fd48b5>\u001b[0m in \u001b[0;36m<module>\u001b[0;34m()\u001b[0m\n\u001b[0;32m----> 1\u001b[0;31m \u001b[0macidentes\u001b[0m\u001b[0;34m[\u001b[0m\u001b[0;34m'auto'\u001b[0m\u001b[0;34m]\u001b[0m \u001b[0;34m=\u001b[0m \u001b[0macidentes\u001b[0m\u001b[0;34m[\u001b[0m\u001b[0;34m'auto'\u001b[0m\u001b[0;34m]\u001b[0m\u001b[0;34m.\u001b[0m\u001b[0mfillna\u001b[0m\u001b[0;34m(\u001b[0m\u001b[0;36m0\u001b[0m\u001b[0;34m)\u001b[0m\u001b[0;34m\u001b[0m\u001b[0;34m\u001b[0m\u001b[0m\n\u001b[0m\u001b[1;32m      2\u001b[0m \u001b[0macidentes\u001b[0m\u001b[0;34m[\u001b[0m\u001b[0;34m'moto'\u001b[0m\u001b[0;34m]\u001b[0m \u001b[0;34m=\u001b[0m \u001b[0macidentes\u001b[0m\u001b[0;34m[\u001b[0m\u001b[0;34m'moto'\u001b[0m\u001b[0;34m]\u001b[0m\u001b[0;34m.\u001b[0m\u001b[0mfillna\u001b[0m\u001b[0;34m(\u001b[0m\u001b[0;36m0\u001b[0m\u001b[0;34m)\u001b[0m\u001b[0;34m\u001b[0m\u001b[0;34m\u001b[0m\u001b[0m\n\u001b[1;32m      3\u001b[0m \u001b[0macidentes\u001b[0m\u001b[0;34m[\u001b[0m\u001b[0;34m'ciclom'\u001b[0m\u001b[0;34m]\u001b[0m \u001b[0;34m=\u001b[0m \u001b[0macidentes\u001b[0m\u001b[0;34m[\u001b[0m\u001b[0;34m'ciclom'\u001b[0m\u001b[0;34m]\u001b[0m\u001b[0;34m.\u001b[0m\u001b[0mfillna\u001b[0m\u001b[0;34m(\u001b[0m\u001b[0;36m0\u001b[0m\u001b[0;34m)\u001b[0m\u001b[0;34m\u001b[0m\u001b[0;34m\u001b[0m\u001b[0m\n\u001b[1;32m      4\u001b[0m \u001b[0macidentes\u001b[0m\u001b[0;34m[\u001b[0m\u001b[0;34m'ciclista'\u001b[0m\u001b[0;34m]\u001b[0m \u001b[0;34m=\u001b[0m \u001b[0macidentes\u001b[0m\u001b[0;34m[\u001b[0m\u001b[0;34m'ciclista'\u001b[0m\u001b[0;34m]\u001b[0m\u001b[0;34m.\u001b[0m\u001b[0mfillna\u001b[0m\u001b[0;34m(\u001b[0m\u001b[0;36m0\u001b[0m\u001b[0;34m)\u001b[0m\u001b[0;34m\u001b[0m\u001b[0;34m\u001b[0m\u001b[0m\n\u001b[1;32m      5\u001b[0m \u001b[0macidentes\u001b[0m\u001b[0;34m[\u001b[0m\u001b[0;34m'pedestre'\u001b[0m\u001b[0;34m]\u001b[0m \u001b[0;34m=\u001b[0m \u001b[0macidentes\u001b[0m\u001b[0;34m[\u001b[0m\u001b[0;34m'pedestre'\u001b[0m\u001b[0;34m]\u001b[0m\u001b[0;34m.\u001b[0m\u001b[0mfillna\u001b[0m\u001b[0;34m(\u001b[0m\u001b[0;36m0\u001b[0m\u001b[0;34m)\u001b[0m\u001b[0;34m\u001b[0m\u001b[0;34m\u001b[0m\u001b[0m\n",
            "\u001b[0;32m/usr/local/lib/python3.7/dist-packages/pandas/core/frame.py\u001b[0m in \u001b[0;36m__getitem__\u001b[0;34m(self, key)\u001b[0m\n\u001b[1;32m   2904\u001b[0m             \u001b[0;32mif\u001b[0m \u001b[0mself\u001b[0m\u001b[0;34m.\u001b[0m\u001b[0mcolumns\u001b[0m\u001b[0;34m.\u001b[0m\u001b[0mnlevels\u001b[0m \u001b[0;34m>\u001b[0m \u001b[0;36m1\u001b[0m\u001b[0;34m:\u001b[0m\u001b[0;34m\u001b[0m\u001b[0;34m\u001b[0m\u001b[0m\n\u001b[1;32m   2905\u001b[0m                 \u001b[0;32mreturn\u001b[0m \u001b[0mself\u001b[0m\u001b[0;34m.\u001b[0m\u001b[0m_getitem_multilevel\u001b[0m\u001b[0;34m(\u001b[0m\u001b[0mkey\u001b[0m\u001b[0;34m)\u001b[0m\u001b[0;34m\u001b[0m\u001b[0;34m\u001b[0m\u001b[0m\n\u001b[0;32m-> 2906\u001b[0;31m             \u001b[0mindexer\u001b[0m \u001b[0;34m=\u001b[0m \u001b[0mself\u001b[0m\u001b[0;34m.\u001b[0m\u001b[0mcolumns\u001b[0m\u001b[0;34m.\u001b[0m\u001b[0mget_loc\u001b[0m\u001b[0;34m(\u001b[0m\u001b[0mkey\u001b[0m\u001b[0;34m)\u001b[0m\u001b[0;34m\u001b[0m\u001b[0;34m\u001b[0m\u001b[0m\n\u001b[0m\u001b[1;32m   2907\u001b[0m             \u001b[0;32mif\u001b[0m \u001b[0mis_integer\u001b[0m\u001b[0;34m(\u001b[0m\u001b[0mindexer\u001b[0m\u001b[0;34m)\u001b[0m\u001b[0;34m:\u001b[0m\u001b[0;34m\u001b[0m\u001b[0;34m\u001b[0m\u001b[0m\n\u001b[1;32m   2908\u001b[0m                 \u001b[0mindexer\u001b[0m \u001b[0;34m=\u001b[0m \u001b[0;34m[\u001b[0m\u001b[0mindexer\u001b[0m\u001b[0;34m]\u001b[0m\u001b[0;34m\u001b[0m\u001b[0;34m\u001b[0m\u001b[0m\n",
            "\u001b[0;32m/usr/local/lib/python3.7/dist-packages/pandas/core/indexes/base.py\u001b[0m in \u001b[0;36mget_loc\u001b[0;34m(self, key, method, tolerance)\u001b[0m\n\u001b[1;32m   2898\u001b[0m                 \u001b[0;32mreturn\u001b[0m \u001b[0mself\u001b[0m\u001b[0;34m.\u001b[0m\u001b[0m_engine\u001b[0m\u001b[0;34m.\u001b[0m\u001b[0mget_loc\u001b[0m\u001b[0;34m(\u001b[0m\u001b[0mcasted_key\u001b[0m\u001b[0;34m)\u001b[0m\u001b[0;34m\u001b[0m\u001b[0;34m\u001b[0m\u001b[0m\n\u001b[1;32m   2899\u001b[0m             \u001b[0;32mexcept\u001b[0m \u001b[0mKeyError\u001b[0m \u001b[0;32mas\u001b[0m \u001b[0merr\u001b[0m\u001b[0;34m:\u001b[0m\u001b[0;34m\u001b[0m\u001b[0;34m\u001b[0m\u001b[0m\n\u001b[0;32m-> 2900\u001b[0;31m                 \u001b[0;32mraise\u001b[0m \u001b[0mKeyError\u001b[0m\u001b[0;34m(\u001b[0m\u001b[0mkey\u001b[0m\u001b[0;34m)\u001b[0m \u001b[0;32mfrom\u001b[0m \u001b[0merr\u001b[0m\u001b[0;34m\u001b[0m\u001b[0;34m\u001b[0m\u001b[0m\n\u001b[0m\u001b[1;32m   2901\u001b[0m \u001b[0;34m\u001b[0m\u001b[0m\n\u001b[1;32m   2902\u001b[0m         \u001b[0;32mif\u001b[0m \u001b[0mtolerance\u001b[0m \u001b[0;32mis\u001b[0m \u001b[0;32mnot\u001b[0m \u001b[0;32mNone\u001b[0m\u001b[0;34m:\u001b[0m\u001b[0;34m\u001b[0m\u001b[0;34m\u001b[0m\u001b[0m\n",
            "\u001b[0;31mKeyError\u001b[0m: 'auto'"
          ]
        }
      ]
    },
    {
      "cell_type": "code",
      "metadata": {
        "id": "QjzSIo0xriur"
      },
      "source": [
        "acidentes.head()"
      ],
      "execution_count": null,
      "outputs": []
    },
    {
      "cell_type": "code",
      "metadata": {
        "colab": {
          "base_uri": "https://localhost:8080/",
          "height": 552
        },
        "id": "L3luohk9dz0r",
        "outputId": "7ee94a70-aad2-469c-ba01-3f89a499c7e1"
      },
      "source": [
        "acidentes['tipo'].unique()"
      ],
      "execution_count": null,
      "outputs": [
        {
          "output_type": "error",
          "ename": "KeyError",
          "evalue": "ignored",
          "traceback": [
            "\u001b[0;31m---------------------------------------------------------------------------\u001b[0m",
            "\u001b[0;31mKeyError\u001b[0m                                  Traceback (most recent call last)",
            "\u001b[0;32m/usr/local/lib/python3.7/dist-packages/pandas/core/indexes/base.py\u001b[0m in \u001b[0;36mget_loc\u001b[0;34m(self, key, method, tolerance)\u001b[0m\n\u001b[1;32m   2897\u001b[0m             \u001b[0;32mtry\u001b[0m\u001b[0;34m:\u001b[0m\u001b[0;34m\u001b[0m\u001b[0;34m\u001b[0m\u001b[0m\n\u001b[0;32m-> 2898\u001b[0;31m                 \u001b[0;32mreturn\u001b[0m \u001b[0mself\u001b[0m\u001b[0;34m.\u001b[0m\u001b[0m_engine\u001b[0m\u001b[0;34m.\u001b[0m\u001b[0mget_loc\u001b[0m\u001b[0;34m(\u001b[0m\u001b[0mcasted_key\u001b[0m\u001b[0;34m)\u001b[0m\u001b[0;34m\u001b[0m\u001b[0;34m\u001b[0m\u001b[0m\n\u001b[0m\u001b[1;32m   2899\u001b[0m             \u001b[0;32mexcept\u001b[0m \u001b[0mKeyError\u001b[0m \u001b[0;32mas\u001b[0m \u001b[0merr\u001b[0m\u001b[0;34m:\u001b[0m\u001b[0;34m\u001b[0m\u001b[0;34m\u001b[0m\u001b[0m\n",
            "\u001b[0;32mpandas/_libs/index.pyx\u001b[0m in \u001b[0;36mpandas._libs.index.IndexEngine.get_loc\u001b[0;34m()\u001b[0m\n",
            "\u001b[0;32mpandas/_libs/index.pyx\u001b[0m in \u001b[0;36mpandas._libs.index.IndexEngine.get_loc\u001b[0;34m()\u001b[0m\n",
            "\u001b[0;32mpandas/_libs/hashtable_class_helper.pxi\u001b[0m in \u001b[0;36mpandas._libs.hashtable.PyObjectHashTable.get_item\u001b[0;34m()\u001b[0m\n",
            "\u001b[0;32mpandas/_libs/hashtable_class_helper.pxi\u001b[0m in \u001b[0;36mpandas._libs.hashtable.PyObjectHashTable.get_item\u001b[0;34m()\u001b[0m\n",
            "\u001b[0;31mKeyError\u001b[0m: 'tipo'",
            "\nThe above exception was the direct cause of the following exception:\n",
            "\u001b[0;31mKeyError\u001b[0m                                  Traceback (most recent call last)",
            "\u001b[0;32m<ipython-input-13-8bc3d9bd19ed>\u001b[0m in \u001b[0;36m<module>\u001b[0;34m()\u001b[0m\n\u001b[0;32m----> 1\u001b[0;31m \u001b[0macidentes\u001b[0m\u001b[0;34m[\u001b[0m\u001b[0;34m'tipo'\u001b[0m\u001b[0;34m]\u001b[0m\u001b[0;34m.\u001b[0m\u001b[0munique\u001b[0m\u001b[0;34m(\u001b[0m\u001b[0;34m)\u001b[0m\u001b[0;34m\u001b[0m\u001b[0;34m\u001b[0m\u001b[0m\n\u001b[0m",
            "\u001b[0;32m/usr/local/lib/python3.7/dist-packages/pandas/core/frame.py\u001b[0m in \u001b[0;36m__getitem__\u001b[0;34m(self, key)\u001b[0m\n\u001b[1;32m   2904\u001b[0m             \u001b[0;32mif\u001b[0m \u001b[0mself\u001b[0m\u001b[0;34m.\u001b[0m\u001b[0mcolumns\u001b[0m\u001b[0;34m.\u001b[0m\u001b[0mnlevels\u001b[0m \u001b[0;34m>\u001b[0m \u001b[0;36m1\u001b[0m\u001b[0;34m:\u001b[0m\u001b[0;34m\u001b[0m\u001b[0;34m\u001b[0m\u001b[0m\n\u001b[1;32m   2905\u001b[0m                 \u001b[0;32mreturn\u001b[0m \u001b[0mself\u001b[0m\u001b[0;34m.\u001b[0m\u001b[0m_getitem_multilevel\u001b[0m\u001b[0;34m(\u001b[0m\u001b[0mkey\u001b[0m\u001b[0;34m)\u001b[0m\u001b[0;34m\u001b[0m\u001b[0;34m\u001b[0m\u001b[0m\n\u001b[0;32m-> 2906\u001b[0;31m             \u001b[0mindexer\u001b[0m \u001b[0;34m=\u001b[0m \u001b[0mself\u001b[0m\u001b[0;34m.\u001b[0m\u001b[0mcolumns\u001b[0m\u001b[0;34m.\u001b[0m\u001b[0mget_loc\u001b[0m\u001b[0;34m(\u001b[0m\u001b[0mkey\u001b[0m\u001b[0;34m)\u001b[0m\u001b[0;34m\u001b[0m\u001b[0;34m\u001b[0m\u001b[0m\n\u001b[0m\u001b[1;32m   2907\u001b[0m             \u001b[0;32mif\u001b[0m \u001b[0mis_integer\u001b[0m\u001b[0;34m(\u001b[0m\u001b[0mindexer\u001b[0m\u001b[0;34m)\u001b[0m\u001b[0;34m:\u001b[0m\u001b[0;34m\u001b[0m\u001b[0;34m\u001b[0m\u001b[0m\n\u001b[1;32m   2908\u001b[0m                 \u001b[0mindexer\u001b[0m \u001b[0;34m=\u001b[0m \u001b[0;34m[\u001b[0m\u001b[0mindexer\u001b[0m\u001b[0;34m]\u001b[0m\u001b[0;34m\u001b[0m\u001b[0;34m\u001b[0m\u001b[0m\n",
            "\u001b[0;32m/usr/local/lib/python3.7/dist-packages/pandas/core/indexes/base.py\u001b[0m in \u001b[0;36mget_loc\u001b[0;34m(self, key, method, tolerance)\u001b[0m\n\u001b[1;32m   2898\u001b[0m                 \u001b[0;32mreturn\u001b[0m \u001b[0mself\u001b[0m\u001b[0;34m.\u001b[0m\u001b[0m_engine\u001b[0m\u001b[0;34m.\u001b[0m\u001b[0mget_loc\u001b[0m\u001b[0;34m(\u001b[0m\u001b[0mcasted_key\u001b[0m\u001b[0;34m)\u001b[0m\u001b[0;34m\u001b[0m\u001b[0;34m\u001b[0m\u001b[0m\n\u001b[1;32m   2899\u001b[0m             \u001b[0;32mexcept\u001b[0m \u001b[0mKeyError\u001b[0m \u001b[0;32mas\u001b[0m \u001b[0merr\u001b[0m\u001b[0;34m:\u001b[0m\u001b[0;34m\u001b[0m\u001b[0;34m\u001b[0m\u001b[0m\n\u001b[0;32m-> 2900\u001b[0;31m                 \u001b[0;32mraise\u001b[0m \u001b[0mKeyError\u001b[0m\u001b[0;34m(\u001b[0m\u001b[0mkey\u001b[0m\u001b[0;34m)\u001b[0m \u001b[0;32mfrom\u001b[0m \u001b[0merr\u001b[0m\u001b[0;34m\u001b[0m\u001b[0;34m\u001b[0m\u001b[0m\n\u001b[0m\u001b[1;32m   2901\u001b[0m \u001b[0;34m\u001b[0m\u001b[0m\n\u001b[1;32m   2902\u001b[0m         \u001b[0;32mif\u001b[0m \u001b[0mtolerance\u001b[0m \u001b[0;32mis\u001b[0m \u001b[0;32mnot\u001b[0m \u001b[0;32mNone\u001b[0m\u001b[0;34m:\u001b[0m\u001b[0;34m\u001b[0m\u001b[0;34m\u001b[0m\u001b[0m\n",
            "\u001b[0;31mKeyError\u001b[0m: 'tipo'"
          ]
        }
      ]
    },
    {
      "cell_type": "code",
      "metadata": {
        "id": "2WbAxRhXeONm"
      },
      "source": [
        "acidentes['descricao'].unique()"
      ],
      "execution_count": null,
      "outputs": []
    },
    {
      "cell_type": "code",
      "metadata": {
        "colab": {
          "base_uri": "https://localhost:8080/",
          "height": 552
        },
        "id": "gz5bQnE6soYT",
        "outputId": "e79543f2-d75b-48a3-c47b-5711f7996c97"
      },
      "source": [
        "acidentes['natureza_acidente'].unique()"
      ],
      "execution_count": null,
      "outputs": [
        {
          "output_type": "error",
          "ename": "KeyError",
          "evalue": "ignored",
          "traceback": [
            "\u001b[0;31m---------------------------------------------------------------------------\u001b[0m",
            "\u001b[0;31mKeyError\u001b[0m                                  Traceback (most recent call last)",
            "\u001b[0;32m/usr/local/lib/python3.7/dist-packages/pandas/core/indexes/base.py\u001b[0m in \u001b[0;36mget_loc\u001b[0;34m(self, key, method, tolerance)\u001b[0m\n\u001b[1;32m   2897\u001b[0m             \u001b[0;32mtry\u001b[0m\u001b[0;34m:\u001b[0m\u001b[0;34m\u001b[0m\u001b[0;34m\u001b[0m\u001b[0m\n\u001b[0;32m-> 2898\u001b[0;31m                 \u001b[0;32mreturn\u001b[0m \u001b[0mself\u001b[0m\u001b[0;34m.\u001b[0m\u001b[0m_engine\u001b[0m\u001b[0;34m.\u001b[0m\u001b[0mget_loc\u001b[0m\u001b[0;34m(\u001b[0m\u001b[0mcasted_key\u001b[0m\u001b[0;34m)\u001b[0m\u001b[0;34m\u001b[0m\u001b[0;34m\u001b[0m\u001b[0m\n\u001b[0m\u001b[1;32m   2899\u001b[0m             \u001b[0;32mexcept\u001b[0m \u001b[0mKeyError\u001b[0m \u001b[0;32mas\u001b[0m \u001b[0merr\u001b[0m\u001b[0;34m:\u001b[0m\u001b[0;34m\u001b[0m\u001b[0;34m\u001b[0m\u001b[0m\n",
            "\u001b[0;32mpandas/_libs/index.pyx\u001b[0m in \u001b[0;36mpandas._libs.index.IndexEngine.get_loc\u001b[0;34m()\u001b[0m\n",
            "\u001b[0;32mpandas/_libs/index.pyx\u001b[0m in \u001b[0;36mpandas._libs.index.IndexEngine.get_loc\u001b[0;34m()\u001b[0m\n",
            "\u001b[0;32mpandas/_libs/hashtable_class_helper.pxi\u001b[0m in \u001b[0;36mpandas._libs.hashtable.PyObjectHashTable.get_item\u001b[0;34m()\u001b[0m\n",
            "\u001b[0;32mpandas/_libs/hashtable_class_helper.pxi\u001b[0m in \u001b[0;36mpandas._libs.hashtable.PyObjectHashTable.get_item\u001b[0;34m()\u001b[0m\n",
            "\u001b[0;31mKeyError\u001b[0m: 'natureza_acidente'",
            "\nThe above exception was the direct cause of the following exception:\n",
            "\u001b[0;31mKeyError\u001b[0m                                  Traceback (most recent call last)",
            "\u001b[0;32m<ipython-input-14-53b282b1625a>\u001b[0m in \u001b[0;36m<module>\u001b[0;34m()\u001b[0m\n\u001b[0;32m----> 1\u001b[0;31m \u001b[0macidentes\u001b[0m\u001b[0;34m[\u001b[0m\u001b[0;34m'natureza_acidente'\u001b[0m\u001b[0;34m]\u001b[0m\u001b[0;34m.\u001b[0m\u001b[0munique\u001b[0m\u001b[0;34m(\u001b[0m\u001b[0;34m)\u001b[0m\u001b[0;34m\u001b[0m\u001b[0;34m\u001b[0m\u001b[0m\n\u001b[0m",
            "\u001b[0;32m/usr/local/lib/python3.7/dist-packages/pandas/core/frame.py\u001b[0m in \u001b[0;36m__getitem__\u001b[0;34m(self, key)\u001b[0m\n\u001b[1;32m   2904\u001b[0m             \u001b[0;32mif\u001b[0m \u001b[0mself\u001b[0m\u001b[0;34m.\u001b[0m\u001b[0mcolumns\u001b[0m\u001b[0;34m.\u001b[0m\u001b[0mnlevels\u001b[0m \u001b[0;34m>\u001b[0m \u001b[0;36m1\u001b[0m\u001b[0;34m:\u001b[0m\u001b[0;34m\u001b[0m\u001b[0;34m\u001b[0m\u001b[0m\n\u001b[1;32m   2905\u001b[0m                 \u001b[0;32mreturn\u001b[0m \u001b[0mself\u001b[0m\u001b[0;34m.\u001b[0m\u001b[0m_getitem_multilevel\u001b[0m\u001b[0;34m(\u001b[0m\u001b[0mkey\u001b[0m\u001b[0;34m)\u001b[0m\u001b[0;34m\u001b[0m\u001b[0;34m\u001b[0m\u001b[0m\n\u001b[0;32m-> 2906\u001b[0;31m             \u001b[0mindexer\u001b[0m \u001b[0;34m=\u001b[0m \u001b[0mself\u001b[0m\u001b[0;34m.\u001b[0m\u001b[0mcolumns\u001b[0m\u001b[0;34m.\u001b[0m\u001b[0mget_loc\u001b[0m\u001b[0;34m(\u001b[0m\u001b[0mkey\u001b[0m\u001b[0;34m)\u001b[0m\u001b[0;34m\u001b[0m\u001b[0;34m\u001b[0m\u001b[0m\n\u001b[0m\u001b[1;32m   2907\u001b[0m             \u001b[0;32mif\u001b[0m \u001b[0mis_integer\u001b[0m\u001b[0;34m(\u001b[0m\u001b[0mindexer\u001b[0m\u001b[0;34m)\u001b[0m\u001b[0;34m:\u001b[0m\u001b[0;34m\u001b[0m\u001b[0;34m\u001b[0m\u001b[0m\n\u001b[1;32m   2908\u001b[0m                 \u001b[0mindexer\u001b[0m \u001b[0;34m=\u001b[0m \u001b[0;34m[\u001b[0m\u001b[0mindexer\u001b[0m\u001b[0;34m]\u001b[0m\u001b[0;34m\u001b[0m\u001b[0;34m\u001b[0m\u001b[0m\n",
            "\u001b[0;32m/usr/local/lib/python3.7/dist-packages/pandas/core/indexes/base.py\u001b[0m in \u001b[0;36mget_loc\u001b[0;34m(self, key, method, tolerance)\u001b[0m\n\u001b[1;32m   2898\u001b[0m                 \u001b[0;32mreturn\u001b[0m \u001b[0mself\u001b[0m\u001b[0;34m.\u001b[0m\u001b[0m_engine\u001b[0m\u001b[0;34m.\u001b[0m\u001b[0mget_loc\u001b[0m\u001b[0;34m(\u001b[0m\u001b[0mcasted_key\u001b[0m\u001b[0;34m)\u001b[0m\u001b[0;34m\u001b[0m\u001b[0;34m\u001b[0m\u001b[0m\n\u001b[1;32m   2899\u001b[0m             \u001b[0;32mexcept\u001b[0m \u001b[0mKeyError\u001b[0m \u001b[0;32mas\u001b[0m \u001b[0merr\u001b[0m\u001b[0;34m:\u001b[0m\u001b[0;34m\u001b[0m\u001b[0;34m\u001b[0m\u001b[0m\n\u001b[0;32m-> 2900\u001b[0;31m                 \u001b[0;32mraise\u001b[0m \u001b[0mKeyError\u001b[0m\u001b[0;34m(\u001b[0m\u001b[0mkey\u001b[0m\u001b[0;34m)\u001b[0m \u001b[0;32mfrom\u001b[0m \u001b[0merr\u001b[0m\u001b[0;34m\u001b[0m\u001b[0;34m\u001b[0m\u001b[0m\n\u001b[0m\u001b[1;32m   2901\u001b[0m \u001b[0;34m\u001b[0m\u001b[0m\n\u001b[1;32m   2902\u001b[0m         \u001b[0;32mif\u001b[0m \u001b[0mtolerance\u001b[0m \u001b[0;32mis\u001b[0m \u001b[0;32mnot\u001b[0m \u001b[0;32mNone\u001b[0m\u001b[0;34m:\u001b[0m\u001b[0;34m\u001b[0m\u001b[0;34m\u001b[0m\u001b[0m\n",
            "\u001b[0;31mKeyError\u001b[0m: 'natureza_acidente'"
          ]
        }
      ]
    },
    {
      "cell_type": "code",
      "metadata": {
        "id": "fya5QV6vxqBY"
      },
      "source": [
        "print(acidentes.isnull().sum())"
      ],
      "execution_count": null,
      "outputs": []
    },
    {
      "cell_type": "code",
      "metadata": {
        "colab": {
          "base_uri": "https://localhost:8080/",
          "height": 127
        },
        "id": "vXtpbJBMyF4V",
        "outputId": "1bfe4807-53f8-4b21-a519-23bc2bf7903b"
      },
      "source": [
        "acidentes[acidentes['vitimas'].isnull() && acidentes['natureza_acidente'] == 'COM VÍTIMA']"
      ],
      "execution_count": null,
      "outputs": [
        {
          "output_type": "error",
          "ename": "SyntaxError",
          "evalue": "ignored",
          "traceback": [
            "\u001b[0;36m  File \u001b[0;32m\"<ipython-input-15-2e5acb30a85a>\"\u001b[0;36m, line \u001b[0;32m1\u001b[0m\n\u001b[0;31m    acidentes[acidentes['vitimas'].isnull() && acidentes['natureza_acidente'] == 'COM VÍTIMA']\u001b[0m\n\u001b[0m                                             ^\u001b[0m\n\u001b[0;31mSyntaxError\u001b[0m\u001b[0;31m:\u001b[0m invalid syntax\n"
          ]
        }
      ]
    },
    {
      "cell_type": "code",
      "metadata": {
        "id": "bhfFd42UycvB"
      },
      "source": [
        "comercios = pd.read_csv(\"/content/drive/MyDrive/ciencia-de-dados/dataset preprocessado/comercios_2015_2021_trimestre.csv\",delimiter = ';')"
      ],
      "execution_count": null,
      "outputs": []
    },
    {
      "cell_type": "code",
      "metadata": {
        "colab": {
          "base_uri": "https://localhost:8080/",
          "height": 484
        },
        "id": "Pmc5-5GXzv0g",
        "outputId": "0864bfd4-7091-4eb0-b16a-fc3ae19d49e2"
      },
      "source": [
        "comercios.head()"
      ],
      "execution_count": null,
      "outputs": [
        {
          "output_type": "execute_result",
          "data": {
            "text/html": [
              "<div>\n",
              "<style scoped>\n",
              "    .dataframe tbody tr th:only-of-type {\n",
              "        vertical-align: middle;\n",
              "    }\n",
              "\n",
              "    .dataframe tbody tr th {\n",
              "        vertical-align: top;\n",
              "    }\n",
              "\n",
              "    .dataframe thead th {\n",
              "        text-align: right;\n",
              "    }\n",
              "</style>\n",
              "<table border=\"1\" class=\"dataframe\">\n",
              "  <thead>\n",
              "    <tr style=\"text-align: right;\">\n",
              "      <th></th>\n",
              "      <th>ANO</th>\n",
              "      <th>TRIMESTRE</th>\n",
              "      <th>RAZAO_SOCIAL</th>\n",
              "      <th>NOME_FANTASIA</th>\n",
              "      <th>CNPJ</th>\n",
              "      <th>PORTE</th>\n",
              "      <th>DATA_INICIO_OPERACAO</th>\n",
              "      <th>SITUACAO</th>\n",
              "      <th>ATIVIDADE</th>\n",
              "      <th>CEP</th>\n",
              "      <th>UF</th>\n",
              "      <th>LOCALIDADE</th>\n",
              "      <th>BAIRRO</th>\n",
              "      <th>LOGRADOURO</th>\n",
              "      <th>DATA_GERACAO_CERTIFICADO</th>\n",
              "      <th>DATA_VALIDADE_CERTIFICADO</th>\n",
              "      <th>CODIGO_CERTIFICADO</th>\n",
              "      <th>CODIGO_DESCRICAO_CNAE</th>\n",
              "      <th>NATUREZA_JURIDICA</th>\n",
              "    </tr>\n",
              "  </thead>\n",
              "  <tbody>\n",
              "    <tr>\n",
              "      <th>0</th>\n",
              "      <td>2021</td>\n",
              "      <td>1</td>\n",
              "      <td>MELLO, RIBEIRO &amp; MELLO LTDA</td>\n",
              "      <td>China in Box Rosarinho</td>\n",
              "      <td>00.874.830/0001-48</td>\n",
              "      <td>EMPRESA DE PEQUENO PORTE</td>\n",
              "      <td>25/10/1995</td>\n",
              "      <td>Em Operação</td>\n",
              "      <td>Restaurante, Cafeteria, Bar e Similares</td>\n",
              "      <td>52041-305</td>\n",
              "      <td>PE</td>\n",
              "      <td>Recife</td>\n",
              "      <td>Rosarinho</td>\n",
              "      <td>Amaro Coutinho</td>\n",
              "      <td>23/03/2020 09:27</td>\n",
              "      <td>23/03/2022 09:27</td>\n",
              "      <td>00.874.830/0001-48</td>\n",
              "      <td>5611-2/03 - LANCHONETES, CASAS DE CHÁ, DE SUCO...</td>\n",
              "      <td>Sociedade Empresária Limitada</td>\n",
              "    </tr>\n",
              "    <tr>\n",
              "      <th>1</th>\n",
              "      <td>2021</td>\n",
              "      <td>1</td>\n",
              "      <td>M DAS DORES DE SOUZA CHURRASCARIA</td>\n",
              "      <td>Restaurante e Churrascaria da Dodora</td>\n",
              "      <td>01.219.705/0001-67</td>\n",
              "      <td>MICROEMPRESA</td>\n",
              "      <td>28/05/1996</td>\n",
              "      <td>Em Operação</td>\n",
              "      <td>Restaurante, Cafeteria, Bar e Similares</td>\n",
              "      <td>55690-000</td>\n",
              "      <td>PE</td>\n",
              "      <td>Barra de Guabiraba</td>\n",
              "      <td>-</td>\n",
              "      <td>Av. Eneias Texeira de Carvalho n 101</td>\n",
              "      <td>01/04/2019 10:44</td>\n",
              "      <td>01/04/2021 10:44</td>\n",
              "      <td>01.219.705/0001-67</td>\n",
              "      <td>5611-2/02 - BARES E OUTROS ESTABELECIMENTOS ES...</td>\n",
              "      <td>Empresário Individual</td>\n",
              "    </tr>\n",
              "    <tr>\n",
              "      <th>2</th>\n",
              "      <td>2021</td>\n",
              "      <td>1</td>\n",
              "      <td>POUSADA DO AMPARO - EIRELI</td>\n",
              "      <td>POUSADA DO AMPARO</td>\n",
              "      <td>01.790.381/0001-12</td>\n",
              "      <td>MICROEMPRESA</td>\n",
              "      <td>06/04/1997</td>\n",
              "      <td>Em Operação</td>\n",
              "      <td>Restaurante, Cafeteria, Bar e Similares</td>\n",
              "      <td>53025-080</td>\n",
              "      <td>PE</td>\n",
              "      <td>Olinda</td>\n",
              "      <td>Amparo</td>\n",
              "      <td>do Amparo</td>\n",
              "      <td>11/06/2020 08:17</td>\n",
              "      <td>11/06/2022 08:17</td>\n",
              "      <td>01.790.381/0001-12</td>\n",
              "      <td>5611-2/01 - RESTAURANTES E SIMILARES</td>\n",
              "      <td>Empresa Individual de Responsabilidade Limitad...</td>\n",
              "    </tr>\n",
              "    <tr>\n",
              "      <th>3</th>\n",
              "      <td>2021</td>\n",
              "      <td>1</td>\n",
              "      <td>NEZ BISTRO COMERCIO DE BEBIDAS E RESTAURANTE E...</td>\n",
              "      <td>NEZ BISTRO</td>\n",
              "      <td>02.217.561/0001-72</td>\n",
              "      <td>MICROEMPRESA</td>\n",
              "      <td>30/10/1997</td>\n",
              "      <td>Em Operação</td>\n",
              "      <td>Restaurante, Cafeteria, Bar e Similares</td>\n",
              "      <td>52061-420</td>\n",
              "      <td>PE</td>\n",
              "      <td>Recife</td>\n",
              "      <td>Casa Forte</td>\n",
              "      <td>de Casa Forte</td>\n",
              "      <td>16/07/2020 12:44</td>\n",
              "      <td>16/07/2022 12:44</td>\n",
              "      <td>02.217.561/0001-72</td>\n",
              "      <td>5611-2/01 - RESTAURANTES E SIMILARES</td>\n",
              "      <td>Empresa Individual de Responsabilidade Limitad...</td>\n",
              "    </tr>\n",
              "    <tr>\n",
              "      <th>4</th>\n",
              "      <td>2021</td>\n",
              "      <td>1</td>\n",
              "      <td>ATLANTICA HOTELS INTERNATIONAL BRASIL LTDA</td>\n",
              "      <td>RESTAURANTE NABUCO</td>\n",
              "      <td>02.223.966/0036-43</td>\n",
              "      <td>DEMAIS</td>\n",
              "      <td>03/10/2003</td>\n",
              "      <td>Em Operação</td>\n",
              "      <td>Restaurante, Cafeteria, Bar e Similares</td>\n",
              "      <td>51111-000</td>\n",
              "      <td>PE</td>\n",
              "      <td>Recife</td>\n",
              "      <td>Boa Viagem</td>\n",
              "      <td>Boa Viagem</td>\n",
              "      <td>19/12/2019 07:58</td>\n",
              "      <td>19/12/2021 07:58</td>\n",
              "      <td>02.223.966/0036-43</td>\n",
              "      <td>5611-2/01 - RESTAURANTES E SIMILARES</td>\n",
              "      <td>Sociedade Empresária Limitada</td>\n",
              "    </tr>\n",
              "  </tbody>\n",
              "</table>\n",
              "</div>"
            ],
            "text/plain": [
              "    ANO  ...                                  NATUREZA_JURIDICA\n",
              "0  2021  ...                      Sociedade Empresária Limitada\n",
              "1  2021  ...                              Empresário Individual\n",
              "2  2021  ...  Empresa Individual de Responsabilidade Limitad...\n",
              "3  2021  ...  Empresa Individual de Responsabilidade Limitad...\n",
              "4  2021  ...                      Sociedade Empresária Limitada\n",
              "\n",
              "[5 rows x 19 columns]"
            ]
          },
          "metadata": {
            "tags": []
          },
          "execution_count": 17
        }
      ]
    },
    {
      "cell_type": "code",
      "metadata": {
        "colab": {
          "base_uri": "https://localhost:8080/"
        },
        "id": "U3RM5zghzxk6",
        "outputId": "1e303524-e666-4b95-97da-b8390db24810"
      },
      "source": [
        "comercios.dtypes"
      ],
      "execution_count": null,
      "outputs": [
        {
          "output_type": "execute_result",
          "data": {
            "text/plain": [
              "ANO                           int64\n",
              "TRIMESTRE                     int64\n",
              "RAZAO_SOCIAL                 object\n",
              "NOME_FANTASIA                object\n",
              "CNPJ                         object\n",
              "PORTE                        object\n",
              "DATA_INICIO_OPERACAO         object\n",
              "SITUACAO                     object\n",
              "ATIVIDADE                    object\n",
              "CEP                          object\n",
              "UF                           object\n",
              "LOCALIDADE                   object\n",
              "BAIRRO                       object\n",
              "LOGRADOURO                   object\n",
              "DATA_GERACAO_CERTIFICADO     object\n",
              "DATA_VALIDADE_CERTIFICADO    object\n",
              "CODIGO_CERTIFICADO           object\n",
              "CODIGO_DESCRICAO_CNAE        object\n",
              "NATUREZA_JURIDICA            object\n",
              "dtype: object"
            ]
          },
          "metadata": {
            "tags": []
          },
          "execution_count": 18
        }
      ]
    },
    {
      "cell_type": "code",
      "metadata": {
        "colab": {
          "base_uri": "https://localhost:8080/",
          "height": 434
        },
        "id": "avmc01jT2o4X",
        "outputId": "49626133-0ed6-44bf-d315-b999f7c2fc28"
      },
      "source": [
        "excluidos = comercios[['ANO','TRIMESTRE','RAZAO_SOCIAL','NOME_FANTASIA','CNPJ','PORTE','SITUACAO','UF','DATA_GERACAO_CERTIFICADO','DATA_VALIDADE_CERTIFICADO','CODIGO_CERTIFICADO',\t'CODIGO_DESCRICAO_CNAE',\t'NATUREZA_JURIDICA']]\n",
        "excluidos.head()"
      ],
      "execution_count": null,
      "outputs": [
        {
          "output_type": "execute_result",
          "data": {
            "text/html": [
              "<div>\n",
              "<style scoped>\n",
              "    .dataframe tbody tr th:only-of-type {\n",
              "        vertical-align: middle;\n",
              "    }\n",
              "\n",
              "    .dataframe tbody tr th {\n",
              "        vertical-align: top;\n",
              "    }\n",
              "\n",
              "    .dataframe thead th {\n",
              "        text-align: right;\n",
              "    }\n",
              "</style>\n",
              "<table border=\"1\" class=\"dataframe\">\n",
              "  <thead>\n",
              "    <tr style=\"text-align: right;\">\n",
              "      <th></th>\n",
              "      <th>ANO</th>\n",
              "      <th>TRIMESTRE</th>\n",
              "      <th>RAZAO_SOCIAL</th>\n",
              "      <th>NOME_FANTASIA</th>\n",
              "      <th>CNPJ</th>\n",
              "      <th>PORTE</th>\n",
              "      <th>SITUACAO</th>\n",
              "      <th>UF</th>\n",
              "      <th>DATA_GERACAO_CERTIFICADO</th>\n",
              "      <th>DATA_VALIDADE_CERTIFICADO</th>\n",
              "      <th>CODIGO_CERTIFICADO</th>\n",
              "      <th>CODIGO_DESCRICAO_CNAE</th>\n",
              "      <th>NATUREZA_JURIDICA</th>\n",
              "    </tr>\n",
              "  </thead>\n",
              "  <tbody>\n",
              "    <tr>\n",
              "      <th>0</th>\n",
              "      <td>2021</td>\n",
              "      <td>1</td>\n",
              "      <td>MELLO, RIBEIRO &amp; MELLO LTDA</td>\n",
              "      <td>China in Box Rosarinho</td>\n",
              "      <td>00.874.830/0001-48</td>\n",
              "      <td>EMPRESA DE PEQUENO PORTE</td>\n",
              "      <td>Em Operação</td>\n",
              "      <td>PE</td>\n",
              "      <td>23/03/2020 09:27</td>\n",
              "      <td>23/03/2022 09:27</td>\n",
              "      <td>00.874.830/0001-48</td>\n",
              "      <td>5611-2/03 - LANCHONETES, CASAS DE CHÁ, DE SUCO...</td>\n",
              "      <td>Sociedade Empresária Limitada</td>\n",
              "    </tr>\n",
              "    <tr>\n",
              "      <th>1</th>\n",
              "      <td>2021</td>\n",
              "      <td>1</td>\n",
              "      <td>M DAS DORES DE SOUZA CHURRASCARIA</td>\n",
              "      <td>Restaurante e Churrascaria da Dodora</td>\n",
              "      <td>01.219.705/0001-67</td>\n",
              "      <td>MICROEMPRESA</td>\n",
              "      <td>Em Operação</td>\n",
              "      <td>PE</td>\n",
              "      <td>01/04/2019 10:44</td>\n",
              "      <td>01/04/2021 10:44</td>\n",
              "      <td>01.219.705/0001-67</td>\n",
              "      <td>5611-2/02 - BARES E OUTROS ESTABELECIMENTOS ES...</td>\n",
              "      <td>Empresário Individual</td>\n",
              "    </tr>\n",
              "    <tr>\n",
              "      <th>2</th>\n",
              "      <td>2021</td>\n",
              "      <td>1</td>\n",
              "      <td>POUSADA DO AMPARO - EIRELI</td>\n",
              "      <td>POUSADA DO AMPARO</td>\n",
              "      <td>01.790.381/0001-12</td>\n",
              "      <td>MICROEMPRESA</td>\n",
              "      <td>Em Operação</td>\n",
              "      <td>PE</td>\n",
              "      <td>11/06/2020 08:17</td>\n",
              "      <td>11/06/2022 08:17</td>\n",
              "      <td>01.790.381/0001-12</td>\n",
              "      <td>5611-2/01 - RESTAURANTES E SIMILARES</td>\n",
              "      <td>Empresa Individual de Responsabilidade Limitad...</td>\n",
              "    </tr>\n",
              "    <tr>\n",
              "      <th>3</th>\n",
              "      <td>2021</td>\n",
              "      <td>1</td>\n",
              "      <td>NEZ BISTRO COMERCIO DE BEBIDAS E RESTAURANTE E...</td>\n",
              "      <td>NEZ BISTRO</td>\n",
              "      <td>02.217.561/0001-72</td>\n",
              "      <td>MICROEMPRESA</td>\n",
              "      <td>Em Operação</td>\n",
              "      <td>PE</td>\n",
              "      <td>16/07/2020 12:44</td>\n",
              "      <td>16/07/2022 12:44</td>\n",
              "      <td>02.217.561/0001-72</td>\n",
              "      <td>5611-2/01 - RESTAURANTES E SIMILARES</td>\n",
              "      <td>Empresa Individual de Responsabilidade Limitad...</td>\n",
              "    </tr>\n",
              "    <tr>\n",
              "      <th>4</th>\n",
              "      <td>2021</td>\n",
              "      <td>1</td>\n",
              "      <td>ATLANTICA HOTELS INTERNATIONAL BRASIL LTDA</td>\n",
              "      <td>RESTAURANTE NABUCO</td>\n",
              "      <td>02.223.966/0036-43</td>\n",
              "      <td>DEMAIS</td>\n",
              "      <td>Em Operação</td>\n",
              "      <td>PE</td>\n",
              "      <td>19/12/2019 07:58</td>\n",
              "      <td>19/12/2021 07:58</td>\n",
              "      <td>02.223.966/0036-43</td>\n",
              "      <td>5611-2/01 - RESTAURANTES E SIMILARES</td>\n",
              "      <td>Sociedade Empresária Limitada</td>\n",
              "    </tr>\n",
              "  </tbody>\n",
              "</table>\n",
              "</div>"
            ],
            "text/plain": [
              "    ANO  ...                                  NATUREZA_JURIDICA\n",
              "0  2021  ...                      Sociedade Empresária Limitada\n",
              "1  2021  ...                              Empresário Individual\n",
              "2  2021  ...  Empresa Individual de Responsabilidade Limitad...\n",
              "3  2021  ...  Empresa Individual de Responsabilidade Limitad...\n",
              "4  2021  ...                      Sociedade Empresária Limitada\n",
              "\n",
              "[5 rows x 13 columns]"
            ]
          },
          "metadata": {
            "tags": []
          },
          "execution_count": 25
        }
      ]
    },
    {
      "cell_type": "code",
      "metadata": {
        "id": "yvl5vxIi5px9"
      },
      "source": [
        "comercios = comercios.drop(['ANO','TRIMESTRE','RAZAO_SOCIAL','NOME_FANTASIA','CNPJ','PORTE','SITUACAO','UF','DATA_GERACAO_CERTIFICADO','DATA_VALIDADE_CERTIFICADO','CODIGO_CERTIFICADO',\t'CODIGO_DESCRICAO_CNAE',\t'NATUREZA_JURIDICA'], axis=1)"
      ],
      "execution_count": null,
      "outputs": []
    },
    {
      "cell_type": "code",
      "metadata": {
        "colab": {
          "base_uri": "https://localhost:8080/",
          "height": 197
        },
        "id": "aSCfoWou5z8a",
        "outputId": "0ee91603-2692-4e33-a03a-661949ea7fad"
      },
      "source": [
        "comercios.head()"
      ],
      "execution_count": null,
      "outputs": [
        {
          "output_type": "execute_result",
          "data": {
            "text/html": [
              "<div>\n",
              "<style scoped>\n",
              "    .dataframe tbody tr th:only-of-type {\n",
              "        vertical-align: middle;\n",
              "    }\n",
              "\n",
              "    .dataframe tbody tr th {\n",
              "        vertical-align: top;\n",
              "    }\n",
              "\n",
              "    .dataframe thead th {\n",
              "        text-align: right;\n",
              "    }\n",
              "</style>\n",
              "<table border=\"1\" class=\"dataframe\">\n",
              "  <thead>\n",
              "    <tr style=\"text-align: right;\">\n",
              "      <th></th>\n",
              "      <th>DATA_INICIO_OPERACAO</th>\n",
              "      <th>ATIVIDADE</th>\n",
              "      <th>CEP</th>\n",
              "      <th>LOCALIDADE</th>\n",
              "      <th>BAIRRO</th>\n",
              "      <th>LOGRADOURO</th>\n",
              "    </tr>\n",
              "  </thead>\n",
              "  <tbody>\n",
              "    <tr>\n",
              "      <th>0</th>\n",
              "      <td>25/10/1995</td>\n",
              "      <td>Restaurante, Cafeteria, Bar e Similares</td>\n",
              "      <td>52041-305</td>\n",
              "      <td>Recife</td>\n",
              "      <td>Rosarinho</td>\n",
              "      <td>Amaro Coutinho</td>\n",
              "    </tr>\n",
              "    <tr>\n",
              "      <th>1</th>\n",
              "      <td>28/05/1996</td>\n",
              "      <td>Restaurante, Cafeteria, Bar e Similares</td>\n",
              "      <td>55690-000</td>\n",
              "      <td>Barra de Guabiraba</td>\n",
              "      <td>-</td>\n",
              "      <td>Av. Eneias Texeira de Carvalho n 101</td>\n",
              "    </tr>\n",
              "    <tr>\n",
              "      <th>2</th>\n",
              "      <td>06/04/1997</td>\n",
              "      <td>Restaurante, Cafeteria, Bar e Similares</td>\n",
              "      <td>53025-080</td>\n",
              "      <td>Olinda</td>\n",
              "      <td>Amparo</td>\n",
              "      <td>do Amparo</td>\n",
              "    </tr>\n",
              "    <tr>\n",
              "      <th>3</th>\n",
              "      <td>30/10/1997</td>\n",
              "      <td>Restaurante, Cafeteria, Bar e Similares</td>\n",
              "      <td>52061-420</td>\n",
              "      <td>Recife</td>\n",
              "      <td>Casa Forte</td>\n",
              "      <td>de Casa Forte</td>\n",
              "    </tr>\n",
              "    <tr>\n",
              "      <th>4</th>\n",
              "      <td>03/10/2003</td>\n",
              "      <td>Restaurante, Cafeteria, Bar e Similares</td>\n",
              "      <td>51111-000</td>\n",
              "      <td>Recife</td>\n",
              "      <td>Boa Viagem</td>\n",
              "      <td>Boa Viagem</td>\n",
              "    </tr>\n",
              "  </tbody>\n",
              "</table>\n",
              "</div>"
            ],
            "text/plain": [
              "  DATA_INICIO_OPERACAO  ...                            LOGRADOURO\n",
              "0           25/10/1995  ...                        Amaro Coutinho\n",
              "1           28/05/1996  ...  Av. Eneias Texeira de Carvalho n 101\n",
              "2           06/04/1997  ...                             do Amparo\n",
              "3           30/10/1997  ...                         de Casa Forte\n",
              "4           03/10/2003  ...                            Boa Viagem\n",
              "\n",
              "[5 rows x 6 columns]"
            ]
          },
          "metadata": {
            "tags": []
          },
          "execution_count": 27
        }
      ]
    },
    {
      "cell_type": "code",
      "metadata": {
        "id": "euce5Daz6C-f"
      },
      "source": [
        "comercios['DATA_INICIO_OPERACAO'] = pd.to_datetime(comercios['DATA_INICIO_OPERACAO'], format='%Y-%m-%d', errors='ignore')\n",
        "comercios = comercios.astype({'ATIVIDADE':'category',\t'CEP':'category',\t'LOCALIDADE':'category',\t'BAIRRO':'category', 'LOGRADOURO':'category'})"
      ],
      "execution_count": null,
      "outputs": []
    },
    {
      "cell_type": "markdown",
      "metadata": {
        "id": "Aq0RXt5c7C3K"
      },
      "source": [
        "**Equipamento velocidade vias**"
      ]
    },
    {
      "cell_type": "code",
      "metadata": {
        "id": "m9ZWNocLz3Po"
      },
      "source": [
        "equipamento_velocidade_vias = pd.read_csv(\"/content/drive/MyDrive/ciencia-de-dados/dataset preprocessado/equipamento_velocidade_vias_2016_2021.csv\",delimiter = ';')"
      ],
      "execution_count": null,
      "outputs": []
    },
    {
      "cell_type": "code",
      "metadata": {
        "colab": {
          "base_uri": "https://localhost:8080/",
          "height": 197
        },
        "id": "HNp5AL-MMmPg",
        "outputId": "f2c807df-5001-41e1-a85b-75cfe8b0e142"
      },
      "source": [
        "equipamento_velocidade_vias.head()"
      ],
      "execution_count": null,
      "outputs": [
        {
          "output_type": "execute_result",
          "data": {
            "text/html": [
              "<div>\n",
              "<style scoped>\n",
              "    .dataframe tbody tr th:only-of-type {\n",
              "        vertical-align: middle;\n",
              "    }\n",
              "\n",
              "    .dataframe tbody tr th {\n",
              "        vertical-align: top;\n",
              "    }\n",
              "\n",
              "    .dataframe thead th {\n",
              "        text-align: right;\n",
              "    }\n",
              "</style>\n",
              "<table border=\"1\" class=\"dataframe\">\n",
              "  <thead>\n",
              "    <tr style=\"text-align: right;\">\n",
              "      <th></th>\n",
              "      <th>ANO</th>\n",
              "      <th>EQUIPAMENTO</th>\n",
              "      <th>TIPO</th>\n",
              "      <th>LOGRADOURO</th>\n",
              "      <th>VELOCIDADE_VIA</th>\n",
              "      <th>LATITUDE</th>\n",
              "      <th>LONGITUDE</th>\n",
              "    </tr>\n",
              "  </thead>\n",
              "  <tbody>\n",
              "    <tr>\n",
              "      <th>0</th>\n",
              "      <td>2016</td>\n",
              "      <td>5941</td>\n",
              "      <td>Lombada</td>\n",
              "      <td>AV. MAL. MASCARENHAS DE MORAES, EM FRENTE AERO...</td>\n",
              "      <td>60 km/h</td>\n",
              "      <td>-8.130970</td>\n",
              "      <td>-34.916161</td>\n",
              "    </tr>\n",
              "    <tr>\n",
              "      <th>1</th>\n",
              "      <td>2016</td>\n",
              "      <td>5942</td>\n",
              "      <td>Lombada</td>\n",
              "      <td>AV. MAL. MASCARENHAS DE MORAES, EM FRENTE AERO...</td>\n",
              "      <td>60 km/h</td>\n",
              "      <td>-8.130647</td>\n",
              "      <td>-34.915886</td>\n",
              "    </tr>\n",
              "    <tr>\n",
              "      <th>2</th>\n",
              "      <td>2016</td>\n",
              "      <td>5943</td>\n",
              "      <td>Lombada</td>\n",
              "      <td>AV. BOA VIAGEM - TERCEIRO JARDIM</td>\n",
              "      <td>60 km/h</td>\n",
              "      <td>-8.107843</td>\n",
              "      <td>-34.888161</td>\n",
              "    </tr>\n",
              "    <tr>\n",
              "      <th>3</th>\n",
              "      <td>2016</td>\n",
              "      <td>5944</td>\n",
              "      <td>Lombada</td>\n",
              "      <td>DEFRONTE A PCA. GOV. PAULO GUERRA, CABANGA - S...</td>\n",
              "      <td>60 km/h</td>\n",
              "      <td>-8.080121</td>\n",
              "      <td>-34.892187</td>\n",
              "    </tr>\n",
              "    <tr>\n",
              "      <th>4</th>\n",
              "      <td>2016</td>\n",
              "      <td>5945</td>\n",
              "      <td>Lombada</td>\n",
              "      <td>APOS PONTE AGAMENON MAGALHAES, CABANGA - SENT....</td>\n",
              "      <td>60 km/h</td>\n",
              "      <td>-8.080820</td>\n",
              "      <td>-34.891159</td>\n",
              "    </tr>\n",
              "  </tbody>\n",
              "</table>\n",
              "</div>"
            ],
            "text/plain": [
              "    ANO EQUIPAMENTO     TIPO  ... VELOCIDADE_VIA  LATITUDE  LONGITUDE\n",
              "0  2016        5941  Lombada  ...        60 km/h -8.130970 -34.916161\n",
              "1  2016        5942  Lombada  ...        60 km/h -8.130647 -34.915886\n",
              "2  2016        5943  Lombada  ...        60 km/h -8.107843 -34.888161\n",
              "3  2016        5944  Lombada  ...        60 km/h -8.080121 -34.892187\n",
              "4  2016        5945  Lombada  ...        60 km/h -8.080820 -34.891159\n",
              "\n",
              "[5 rows x 7 columns]"
            ]
          },
          "metadata": {
            "tags": []
          },
          "execution_count": 20
        }
      ]
    },
    {
      "cell_type": "code",
      "metadata": {
        "colab": {
          "base_uri": "https://localhost:8080/",
          "height": 197
        },
        "id": "ZjWalSsv7rb_",
        "outputId": "08314dba-b37c-4955-e571-cbca57e20805"
      },
      "source": [
        "excluidos = equipamento_velocidade_vias[['TIPO']]\n",
        "excluidos.head()"
      ],
      "execution_count": null,
      "outputs": [
        {
          "output_type": "execute_result",
          "data": {
            "text/html": [
              "<div>\n",
              "<style scoped>\n",
              "    .dataframe tbody tr th:only-of-type {\n",
              "        vertical-align: middle;\n",
              "    }\n",
              "\n",
              "    .dataframe tbody tr th {\n",
              "        vertical-align: top;\n",
              "    }\n",
              "\n",
              "    .dataframe thead th {\n",
              "        text-align: right;\n",
              "    }\n",
              "</style>\n",
              "<table border=\"1\" class=\"dataframe\">\n",
              "  <thead>\n",
              "    <tr style=\"text-align: right;\">\n",
              "      <th></th>\n",
              "      <th>TIPO</th>\n",
              "    </tr>\n",
              "  </thead>\n",
              "  <tbody>\n",
              "    <tr>\n",
              "      <th>0</th>\n",
              "      <td>Lombada</td>\n",
              "    </tr>\n",
              "    <tr>\n",
              "      <th>1</th>\n",
              "      <td>Lombada</td>\n",
              "    </tr>\n",
              "    <tr>\n",
              "      <th>2</th>\n",
              "      <td>Lombada</td>\n",
              "    </tr>\n",
              "    <tr>\n",
              "      <th>3</th>\n",
              "      <td>Lombada</td>\n",
              "    </tr>\n",
              "    <tr>\n",
              "      <th>4</th>\n",
              "      <td>Lombada</td>\n",
              "    </tr>\n",
              "  </tbody>\n",
              "</table>\n",
              "</div>"
            ],
            "text/plain": [
              "      TIPO\n",
              "0  Lombada\n",
              "1  Lombada\n",
              "2  Lombada\n",
              "3  Lombada\n",
              "4  Lombada"
            ]
          },
          "metadata": {
            "tags": []
          },
          "execution_count": 28
        }
      ]
    },
    {
      "cell_type": "code",
      "metadata": {
        "id": "KW92O5Nc8GMz"
      },
      "source": [
        "equipamento_velocidade_vias = equipamento_velocidade_vias.drop(['TIPO'], axis=1)"
      ],
      "execution_count": null,
      "outputs": []
    },
    {
      "cell_type": "code",
      "metadata": {
        "id": "zW_cl1VQ8FY9"
      },
      "source": [
        "equipamento_velocidade_vias = equipamento_velocidade_vias.astype({'ANO':'category',\t'EQUIPAMENTO':'category',\t'LOGRADOURO':'category',\t'VELOCIDADE_VIA':'category', 'LATITUDE':'category','LONGITUDE':'category'})"
      ],
      "execution_count": null,
      "outputs": []
    },
    {
      "cell_type": "code",
      "metadata": {
        "colab": {
          "base_uri": "https://localhost:8080/"
        },
        "id": "NDhhE00b87cR",
        "outputId": "5cd03f7c-16f7-47e2-b2ec-554d80b6924b"
      },
      "source": [
        "equipamento_velocidade_vias.dtypes"
      ],
      "execution_count": null,
      "outputs": [
        {
          "output_type": "execute_result",
          "data": {
            "text/plain": [
              "ANO               category\n",
              "EQUIPAMENTO       category\n",
              "LOGRADOURO        category\n",
              "VELOCIDADE_VIA    category\n",
              "LATITUDE          category\n",
              "LONGITUDE         category\n",
              "dtype: object"
            ]
          },
          "metadata": {
            "tags": []
          },
          "execution_count": 31
        }
      ]
    },
    {
      "cell_type": "markdown",
      "metadata": {
        "id": "4IesQ4vK9VU7"
      },
      "source": [
        "**dataset de multas**"
      ]
    },
    {
      "cell_type": "code",
      "metadata": {
        "colab": {
          "base_uri": "https://localhost:8080/",
          "height": 177
        },
        "id": "4Jq_ir7tMoFT",
        "outputId": "39ab0b7f-579a-41fc-b45f-172536ee0e3f"
      },
      "source": [
        "multas = pd.read_csv(\"/content/drive/MyDrive/ciencia-de-dados/dataset preprocessado/relatorio_multas_2015_2021.csv\",delimiter = ';')"
      ],
      "execution_count": null,
      "outputs": [
        {
          "output_type": "error",
          "ename": "NameError",
          "evalue": "ignored",
          "traceback": [
            "\u001b[0;31m---------------------------------------------------------------------------\u001b[0m",
            "\u001b[0;31mNameError\u001b[0m                                 Traceback (most recent call last)",
            "\u001b[0;32m<ipython-input-2-c4a12af18b2c>\u001b[0m in \u001b[0;36m<module>\u001b[0;34m()\u001b[0m\n\u001b[0;32m----> 1\u001b[0;31m \u001b[0mmultas\u001b[0m \u001b[0;34m=\u001b[0m \u001b[0mpd\u001b[0m\u001b[0;34m.\u001b[0m\u001b[0mread_csv\u001b[0m\u001b[0;34m(\u001b[0m\u001b[0;34m\"/content/drive/MyDrive/ciencia-de-dados/dataset preprocessado/relatorio_multas_2015_2021.csv\"\u001b[0m\u001b[0;34m,\u001b[0m\u001b[0mdelimiter\u001b[0m \u001b[0;34m=\u001b[0m \u001b[0;34m';'\u001b[0m\u001b[0;34m)\u001b[0m\u001b[0;34m\u001b[0m\u001b[0;34m\u001b[0m\u001b[0m\n\u001b[0m",
            "\u001b[0;31mNameError\u001b[0m: name 'pd' is not defined"
          ]
        }
      ]
    },
    {
      "cell_type": "code",
      "metadata": {
        "colab": {
          "base_uri": "https://localhost:8080/",
          "height": 161
        },
        "id": "qX4j0KpNMzCn",
        "outputId": "2e498630-1279-43a0-bdc0-762368ed4fe5"
      },
      "source": [
        "multas.head()"
      ],
      "execution_count": null,
      "outputs": [
        {
          "output_type": "error",
          "ename": "NameError",
          "evalue": "ignored",
          "traceback": [
            "\u001b[0;31m---------------------------------------------------------------------------\u001b[0m",
            "\u001b[0;31mNameError\u001b[0m                                 Traceback (most recent call last)",
            "\u001b[0;32m<ipython-input-3-aa30ab81eca3>\u001b[0m in \u001b[0;36m<module>\u001b[0;34m()\u001b[0m\n\u001b[0;32m----> 1\u001b[0;31m \u001b[0mmultas\u001b[0m\u001b[0;34m.\u001b[0m\u001b[0mhead\u001b[0m\u001b[0;34m(\u001b[0m\u001b[0;34m)\u001b[0m\u001b[0;34m\u001b[0m\u001b[0;34m\u001b[0m\u001b[0m\n\u001b[0m",
            "\u001b[0;31mNameError\u001b[0m: name 'multas' is not defined"
          ]
        }
      ]
    },
    {
      "cell_type": "code",
      "metadata": {
        "colab": {
          "base_uri": "https://localhost:8080/",
          "height": 177
        },
        "id": "kv_OmRAF9ZAa",
        "outputId": "1ed8545f-c2de-4739-ec81-b37a9debb682"
      },
      "source": [
        "excluidos = multas[['DATAIMPLANTACAO', 'AGENTEEQUIPAMENTO',\t'AMPAROLEGAL']]\n",
        "excluidos.head()"
      ],
      "execution_count": null,
      "outputs": [
        {
          "output_type": "error",
          "ename": "NameError",
          "evalue": "ignored",
          "traceback": [
            "\u001b[0;31m---------------------------------------------------------------------------\u001b[0m",
            "\u001b[0;31mNameError\u001b[0m                                 Traceback (most recent call last)",
            "\u001b[0;32m<ipython-input-4-1317cf59323a>\u001b[0m in \u001b[0;36m<module>\u001b[0;34m()\u001b[0m\n\u001b[0;32m----> 1\u001b[0;31m \u001b[0mexcluidos\u001b[0m \u001b[0;34m=\u001b[0m \u001b[0mmultas\u001b[0m\u001b[0;34m[\u001b[0m\u001b[0;34m[\u001b[0m\u001b[0;34m'DATAIMPLANTACAO'\u001b[0m\u001b[0;34m,\u001b[0m \u001b[0;34m'AGENTEEQUIPAMENTO'\u001b[0m\u001b[0;34m,\u001b[0m     \u001b[0;34m'AMPAROLEGAL'\u001b[0m\u001b[0;34m]\u001b[0m\u001b[0;34m]\u001b[0m\u001b[0;34m\u001b[0m\u001b[0;34m\u001b[0m\u001b[0m\n\u001b[0m\u001b[1;32m      2\u001b[0m \u001b[0mexcluidos\u001b[0m\u001b[0;34m.\u001b[0m\u001b[0mhead\u001b[0m\u001b[0;34m(\u001b[0m\u001b[0;34m)\u001b[0m\u001b[0;34m\u001b[0m\u001b[0;34m\u001b[0m\u001b[0m\n",
            "\u001b[0;31mNameError\u001b[0m: name 'multas' is not defined"
          ]
        }
      ]
    },
    {
      "cell_type": "code",
      "metadata": {
        "id": "VtdU_0RD9yEQ"
      },
      "source": [
        "multas = multas.drop(['DATAIMPLANTACAO', 'AGENTEEQUIPAMENTO',\t'AMPAROLEGAL'], axis=1)"
      ],
      "execution_count": null,
      "outputs": []
    },
    {
      "cell_type": "code",
      "metadata": {
        "id": "gHUZrD309-KZ",
        "colab": {
          "base_uri": "https://localhost:8080/",
          "height": 194
        },
        "outputId": "6e0d89a7-8e4e-44a2-b65a-286b577a74eb"
      },
      "source": [
        "multas['DATAINFRACAO'] = pd.to_datetime(multas['DATAINFRACAO'], format='%Y-%m-%d', errors='ignore')\n",
        "multas['HORAINFRACAO'] = pd.to_datetime(multas['HORAINFRACAO'], format='%H:%M:%S', errors = 'ignore')\n",
        "multas = multas.astype({'INFRACAO':'category', 'DESCRICAOINFRACAO':'category','LOCALCOMETIMENTO':'category'})"
      ],
      "execution_count": null,
      "outputs": [
        {
          "output_type": "error",
          "ename": "NameError",
          "evalue": "ignored",
          "traceback": [
            "\u001b[0;31m---------------------------------------------------------------------------\u001b[0m",
            "\u001b[0;31mNameError\u001b[0m                                 Traceback (most recent call last)",
            "\u001b[0;32m<ipython-input-5-cc7ef7e536ae>\u001b[0m in \u001b[0;36m<module>\u001b[0;34m()\u001b[0m\n\u001b[0;32m----> 1\u001b[0;31m \u001b[0mmultas\u001b[0m\u001b[0;34m[\u001b[0m\u001b[0;34m'DATAINFRACAO'\u001b[0m\u001b[0;34m]\u001b[0m \u001b[0;34m=\u001b[0m \u001b[0mpd\u001b[0m\u001b[0;34m.\u001b[0m\u001b[0mto_datetime\u001b[0m\u001b[0;34m(\u001b[0m\u001b[0mmultas\u001b[0m\u001b[0;34m[\u001b[0m\u001b[0;34m'DATAINFRACAO'\u001b[0m\u001b[0;34m]\u001b[0m\u001b[0;34m,\u001b[0m \u001b[0mformat\u001b[0m\u001b[0;34m=\u001b[0m\u001b[0;34m'%Y-%m-%d'\u001b[0m\u001b[0;34m,\u001b[0m \u001b[0merrors\u001b[0m\u001b[0;34m=\u001b[0m\u001b[0;34m'ignore'\u001b[0m\u001b[0;34m)\u001b[0m\u001b[0;34m\u001b[0m\u001b[0;34m\u001b[0m\u001b[0m\n\u001b[0m\u001b[1;32m      2\u001b[0m \u001b[0mmultas\u001b[0m\u001b[0;34m[\u001b[0m\u001b[0;34m'HORAINFRACAO'\u001b[0m\u001b[0;34m]\u001b[0m \u001b[0;34m=\u001b[0m \u001b[0mpd\u001b[0m\u001b[0;34m.\u001b[0m\u001b[0mto_datetime\u001b[0m\u001b[0;34m(\u001b[0m\u001b[0mmultas\u001b[0m\u001b[0;34m[\u001b[0m\u001b[0;34m'HORAINFRACAO'\u001b[0m\u001b[0;34m]\u001b[0m\u001b[0;34m,\u001b[0m \u001b[0mformat\u001b[0m\u001b[0;34m=\u001b[0m\u001b[0;34m'%H:%M:%S'\u001b[0m\u001b[0;34m,\u001b[0m \u001b[0merrors\u001b[0m \u001b[0;34m=\u001b[0m \u001b[0;34m'ignore'\u001b[0m\u001b[0;34m)\u001b[0m\u001b[0;34m\u001b[0m\u001b[0;34m\u001b[0m\u001b[0m\n\u001b[1;32m      3\u001b[0m \u001b[0mmultas\u001b[0m \u001b[0;34m=\u001b[0m \u001b[0mmultas\u001b[0m\u001b[0;34m.\u001b[0m\u001b[0mastype\u001b[0m\u001b[0;34m(\u001b[0m\u001b[0;34m{\u001b[0m\u001b[0;34m'INFRACAO'\u001b[0m\u001b[0;34m:\u001b[0m\u001b[0;34m'category'\u001b[0m\u001b[0;34m,\u001b[0m \u001b[0;34m'DESCRICAOINFRACAO'\u001b[0m\u001b[0;34m:\u001b[0m\u001b[0;34m'category'\u001b[0m\u001b[0;34m,\u001b[0m\u001b[0;34m'LOCALCOMETIMENTO'\u001b[0m\u001b[0;34m:\u001b[0m\u001b[0;34m'category'\u001b[0m\u001b[0;34m}\u001b[0m\u001b[0;34m)\u001b[0m\u001b[0;34m\u001b[0m\u001b[0;34m\u001b[0m\u001b[0m\n",
            "\u001b[0;31mNameError\u001b[0m: name 'pd' is not defined"
          ]
        }
      ]
    },
    {
      "cell_type": "code",
      "metadata": {
        "id": "LTTCZ4lP_jCD"
      },
      "source": [
        "multas.dtypes"
      ],
      "execution_count": null,
      "outputs": []
    },
    {
      "cell_type": "markdown",
      "metadata": {
        "id": "ZT2p4su_hygw"
      },
      "source": [
        "**velocidades**"
      ]
    },
    {
      "cell_type": "code",
      "metadata": {
        "colab": {
          "base_uri": "https://localhost:8080/"
        },
        "id": "GozuL0uWMzzn",
        "outputId": "6c88b2ca-250a-4e6b-88fd-9470ae5d3058"
      },
      "source": [
        "velocidades = pd.read_csv(\"/content/drive/MyDrive/ciencia-de-dados/dataset preprocessado/velocidade_vias_media_15minutos_2016_2021.csv\",delimiter = ';')"
      ],
      "execution_count": null,
      "outputs": [
        {
          "output_type": "stream",
          "text": [
            "/usr/local/lib/python3.7/dist-packages/IPython/core/interactiveshell.py:2718: DtypeWarning: Columns (2) have mixed types.Specify dtype option on import or set low_memory=False.\n",
            "  interactivity=interactivity, compiler=compiler, result=result)\n"
          ],
          "name": "stderr"
        }
      ]
    },
    {
      "cell_type": "code",
      "metadata": {
        "colab": {
          "base_uri": "https://localhost:8080/",
          "height": 301
        },
        "id": "cdKIwBhgNFTK",
        "outputId": "2233cdc7-af55-4b51-b9eb-da286259079d"
      },
      "source": [
        "velocidades.head()"
      ],
      "execution_count": null,
      "outputs": [
        {
          "output_type": "execute_result",
          "data": {
            "text/html": [
              "<div>\n",
              "<style scoped>\n",
              "    .dataframe tbody tr th:only-of-type {\n",
              "        vertical-align: middle;\n",
              "    }\n",
              "\n",
              "    .dataframe tbody tr th {\n",
              "        vertical-align: top;\n",
              "    }\n",
              "\n",
              "    .dataframe thead th {\n",
              "        text-align: right;\n",
              "    }\n",
              "</style>\n",
              "<table border=\"1\" class=\"dataframe\">\n",
              "  <thead>\n",
              "    <tr style=\"text-align: right;\">\n",
              "      <th></th>\n",
              "      <th>ANO</th>\n",
              "      <th>MES</th>\n",
              "      <th>EQUIPAMENTO</th>\n",
              "      <th>FAIXA</th>\n",
              "      <th>DATA</th>\n",
              "      <th>HORA</th>\n",
              "      <th>MINUTOS_INTERVALO</th>\n",
              "      <th>QTD_0A10KM</th>\n",
              "      <th>QTD_11A20KM</th>\n",
              "      <th>QTD_21A30KM</th>\n",
              "      <th>QTD_31A40KM</th>\n",
              "      <th>QTD_41A50KM</th>\n",
              "      <th>QTD_51A60KM</th>\n",
              "      <th>QTD_61A70KM</th>\n",
              "      <th>QTD_71A80KM</th>\n",
              "      <th>QTD_81A90KM</th>\n",
              "      <th>QTD_91A100KM</th>\n",
              "      <th>QTD_ACIMADE100KM</th>\n",
              "    </tr>\n",
              "  </thead>\n",
              "  <tbody>\n",
              "    <tr>\n",
              "      <th>0</th>\n",
              "      <td>2016</td>\n",
              "      <td>1.0</td>\n",
              "      <td>FS002REC</td>\n",
              "      <td>1.0</td>\n",
              "      <td>2016-01-01</td>\n",
              "      <td>0.0</td>\n",
              "      <td>0-15</td>\n",
              "      <td>0.0</td>\n",
              "      <td>2.0</td>\n",
              "      <td>0.0</td>\n",
              "      <td>0.0</td>\n",
              "      <td>0.0</td>\n",
              "      <td>0.0</td>\n",
              "      <td>0.0</td>\n",
              "      <td>0.0</td>\n",
              "      <td>0.0</td>\n",
              "      <td>0.0</td>\n",
              "      <td>0.0</td>\n",
              "    </tr>\n",
              "    <tr>\n",
              "      <th>1</th>\n",
              "      <td>2016</td>\n",
              "      <td>1.0</td>\n",
              "      <td>FS002REC</td>\n",
              "      <td>1.0</td>\n",
              "      <td>2016-01-01</td>\n",
              "      <td>0.0</td>\n",
              "      <td>16-30</td>\n",
              "      <td>0.0</td>\n",
              "      <td>1.0</td>\n",
              "      <td>0.0</td>\n",
              "      <td>0.0</td>\n",
              "      <td>0.0</td>\n",
              "      <td>0.0</td>\n",
              "      <td>0.0</td>\n",
              "      <td>0.0</td>\n",
              "      <td>0.0</td>\n",
              "      <td>0.0</td>\n",
              "      <td>0.0</td>\n",
              "    </tr>\n",
              "    <tr>\n",
              "      <th>2</th>\n",
              "      <td>2016</td>\n",
              "      <td>1.0</td>\n",
              "      <td>FS002REC</td>\n",
              "      <td>1.0</td>\n",
              "      <td>2016-01-01</td>\n",
              "      <td>0.0</td>\n",
              "      <td>31-45</td>\n",
              "      <td>1.0</td>\n",
              "      <td>3.0</td>\n",
              "      <td>1.0</td>\n",
              "      <td>0.0</td>\n",
              "      <td>0.0</td>\n",
              "      <td>0.0</td>\n",
              "      <td>0.0</td>\n",
              "      <td>0.0</td>\n",
              "      <td>0.0</td>\n",
              "      <td>0.0</td>\n",
              "      <td>0.0</td>\n",
              "    </tr>\n",
              "    <tr>\n",
              "      <th>3</th>\n",
              "      <td>2016</td>\n",
              "      <td>1.0</td>\n",
              "      <td>FS002REC</td>\n",
              "      <td>1.0</td>\n",
              "      <td>2016-01-01</td>\n",
              "      <td>0.0</td>\n",
              "      <td>46-59</td>\n",
              "      <td>1.0</td>\n",
              "      <td>1.0</td>\n",
              "      <td>0.0</td>\n",
              "      <td>0.0</td>\n",
              "      <td>0.0</td>\n",
              "      <td>0.0</td>\n",
              "      <td>0.0</td>\n",
              "      <td>0.0</td>\n",
              "      <td>0.0</td>\n",
              "      <td>0.0</td>\n",
              "      <td>0.0</td>\n",
              "    </tr>\n",
              "    <tr>\n",
              "      <th>4</th>\n",
              "      <td>2016</td>\n",
              "      <td>1.0</td>\n",
              "      <td>FS002REC</td>\n",
              "      <td>1.0</td>\n",
              "      <td>2016-01-01</td>\n",
              "      <td>1.0</td>\n",
              "      <td>0-15</td>\n",
              "      <td>0.0</td>\n",
              "      <td>4.0</td>\n",
              "      <td>0.0</td>\n",
              "      <td>0.0</td>\n",
              "      <td>0.0</td>\n",
              "      <td>0.0</td>\n",
              "      <td>0.0</td>\n",
              "      <td>0.0</td>\n",
              "      <td>0.0</td>\n",
              "      <td>0.0</td>\n",
              "      <td>0.0</td>\n",
              "    </tr>\n",
              "  </tbody>\n",
              "</table>\n",
              "</div>"
            ],
            "text/plain": [
              "    ANO  MES EQUIPAMENTO  ...  QTD_81A90KM QTD_91A100KM  QTD_ACIMADE100KM\n",
              "0  2016  1.0    FS002REC  ...          0.0          0.0               0.0\n",
              "1  2016  1.0    FS002REC  ...          0.0          0.0               0.0\n",
              "2  2016  1.0    FS002REC  ...          0.0          0.0               0.0\n",
              "3  2016  1.0    FS002REC  ...          0.0          0.0               0.0\n",
              "4  2016  1.0    FS002REC  ...          0.0          0.0               0.0\n",
              "\n",
              "[5 rows x 18 columns]"
            ]
          },
          "metadata": {
            "tags": []
          },
          "execution_count": 10
        }
      ]
    },
    {
      "cell_type": "code",
      "metadata": {
        "id": "Zn0OjVqekYKy"
      },
      "source": [
        "velocidades['DATA'] = pd.to_datetime(velocidades['DATA'], format='%Y-%m-%d', errors='ignore')\n",
        "\n",
        "velocidades = velocidades.astype({'ANO':'category',\t'MES':'category',\t'EQUIPAMENTO':'category',\t'FAIXA':'category',\t'HORA':'category',\t'MINUTOS_INTERVALO':'category',\t'QTD_0A10KM':'float',\t'QTD_11A20KM':'float',\t'QTD_21A30KM':'float',\t'QTD_31A40KM':'float',\t'QTD_41A50KM':'float',\t'QTD_51A60KM':'float',\t'QTD_61A70KM':'float',\t'QTD_71A80KM':'float',\t'QTD_81A90KM':'float',\t'QTD_91A100KM':'float',\t'QTD_ACIMADE100KM':'float'})"
      ],
      "execution_count": null,
      "outputs": []
    },
    {
      "cell_type": "markdown",
      "metadata": {
        "id": "lzyW_yRxUBU_"
      },
      "source": [
        "#**precisa verificar se o codigo do equipamento no dataset acima é igual ao codigo do equipamento do dataset das multas**"
      ]
    },
    {
      "cell_type": "code",
      "metadata": {
        "id": "CF2dFcRBNH83"
      },
      "source": [
        ""
      ],
      "execution_count": null,
      "outputs": []
    }
  ]
}