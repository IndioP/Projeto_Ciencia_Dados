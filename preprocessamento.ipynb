{
  "nbformat": 4,
  "nbformat_minor": 0,
  "metadata": {
    "colab": {
      "name": "preprocessamento.ipynb",
      "provenance": [],
      "collapsed_sections": [],
      "include_colab_link": true
    },
    "kernelspec": {
      "name": "python3",
      "display_name": "Python 3"
    },
    "language_info": {
      "name": "python"
    }
  },
  "cells": [
    {
      "cell_type": "markdown",
      "metadata": {
        "id": "view-in-github",
        "colab_type": "text"
      },
      "source": [
        "<a href=\"https://colab.research.google.com/github/IndioP/Projeto_Ciencia_Dados/blob/main/preprocessamento.ipynb\" target=\"_parent\"><img src=\"https://colab.research.google.com/assets/colab-badge.svg\" alt=\"Open In Colab\"/></a>"
      ]
    },
    {
      "cell_type": "code",
      "metadata": {
        "id": "lkOuRomea_tk"
      },
      "source": [
        "import numpy as np\n",
        "import pandas as pd"
      ],
      "execution_count": 1,
      "outputs": []
    },
    {
      "cell_type": "markdown",
      "metadata": {
        "id": "eFl2G_WfzjI_"
      },
      "source": [
        "##Acidentes"
      ]
    },
    {
      "cell_type": "code",
      "metadata": {
        "id": "Eo6VDx1eb9tJ",
        "colab": {
          "base_uri": "https://localhost:8080/"
        },
        "outputId": "70fdef13-6850-41ab-fbb9-abd2d8d177bb"
      },
      "source": [
        "from google.colab import drive\n",
        "drive.mount('/content/drive')"
      ],
      "execution_count": 2,
      "outputs": [
        {
          "output_type": "stream",
          "text": [
            "Mounted at /content/drive\n"
          ],
          "name": "stdout"
        }
      ]
    },
    {
      "cell_type": "code",
      "metadata": {
        "id": "6TsqahvFbNsJ",
        "colab": {
          "base_uri": "https://localhost:8080/"
        },
        "outputId": "1475de85-87ba-412a-aa09-32eb89bfad60"
      },
      "source": [
        "acidentes=pd.read_csv(\"/content/drive/MyDrive/ciencia-de-dados/dataset preprocessado/acidentes_transito_2015_2021.csv\",delimiter = ';')"
      ],
      "execution_count": 3,
      "outputs": [
        {
          "output_type": "stream",
          "text": [
            "/usr/local/lib/python3.7/dist-packages/IPython/core/interactiveshell.py:2718: DtypeWarning: Columns (11,25,26,27,28,29,30,31,32,33,34,35,36,37) have mixed types.Specify dtype option on import or set low_memory=False.\n",
            "  interactivity=interactivity, compiler=compiler, result=result)\n"
          ],
          "name": "stderr"
        }
      ]
    },
    {
      "cell_type": "code",
      "metadata": {
        "colab": {
          "base_uri": "https://localhost:8080/",
          "height": 417
        },
        "id": "vJ2jtgT7bl3X",
        "outputId": "aada95dd-e811-4544-d1b0-c200b8838521"
      },
      "source": [
        "#dando a primeira olhada nos dados...\n",
        "acidentes.head()"
      ],
      "execution_count": 4,
      "outputs": [
        {
          "output_type": "execute_result",
          "data": {
            "text/html": [
              "<div>\n",
              "<style scoped>\n",
              "    .dataframe tbody tr th:only-of-type {\n",
              "        vertical-align: middle;\n",
              "    }\n",
              "\n",
              "    .dataframe tbody tr th {\n",
              "        vertical-align: top;\n",
              "    }\n",
              "\n",
              "    .dataframe thead th {\n",
              "        text-align: right;\n",
              "    }\n",
              "</style>\n",
              "<table border=\"1\" class=\"dataframe\">\n",
              "  <thead>\n",
              "    <tr style=\"text-align: right;\">\n",
              "      <th></th>\n",
              "      <th>DATA</th>\n",
              "      <th>HORA</th>\n",
              "      <th>NATUREZA_ACIDENTE</th>\n",
              "      <th>SITUACAO</th>\n",
              "      <th>BAIRRO</th>\n",
              "      <th>ENDERECO</th>\n",
              "      <th>NUMERO</th>\n",
              "      <th>DETALHE_ENDERECO_ACIDENTE</th>\n",
              "      <th>COMPLEMENTO</th>\n",
              "      <th>BAIRRO_CRUZAMENTO</th>\n",
              "      <th>NUM_SEMAFORO</th>\n",
              "      <th>SENTIDO_VIA</th>\n",
              "      <th>TIPO</th>\n",
              "      <th>DESCRICAO</th>\n",
              "      <th>AUTO</th>\n",
              "      <th>MOTO</th>\n",
              "      <th>CICLOM</th>\n",
              "      <th>CICLISTA</th>\n",
              "      <th>PEDESTRE</th>\n",
              "      <th>ONIBUS</th>\n",
              "      <th>CAMINHAO</th>\n",
              "      <th>VIATURA</th>\n",
              "      <th>OUTROS</th>\n",
              "      <th>VITIMAS</th>\n",
              "      <th>VITIMASFATAIS</th>\n",
              "      <th>ACIDENTE_VERIFICADO</th>\n",
              "      <th>TEMPO_CLIMA</th>\n",
              "      <th>SITUACAO_SEMAFORO</th>\n",
              "      <th>SINALIZACAO</th>\n",
              "      <th>CONDICAO_VIA</th>\n",
              "      <th>CONSERVACAO_VIA</th>\n",
              "      <th>PONTO_CONTROLE</th>\n",
              "      <th>SITUACAO_PLACA</th>\n",
              "      <th>VELOCIDADE_MAX_VIA</th>\n",
              "      <th>MAO_DIRECAO</th>\n",
              "      <th>DIVISAO_VIA1</th>\n",
              "      <th>DIVISAO_VIA2</th>\n",
              "      <th>DIVISAO_VIA3</th>\n",
              "      <th>NATUREZA</th>\n",
              "      <th>ENDERECO_CRUZAMENTO</th>\n",
              "      <th>NUMERO_CRUZAMENTO</th>\n",
              "      <th>REFERENCIA_CRUZAMENTO</th>\n",
              "    </tr>\n",
              "  </thead>\n",
              "  <tbody>\n",
              "    <tr>\n",
              "      <th>0</th>\n",
              "      <td>2015-12-03</td>\n",
              "      <td>11:36:00.000</td>\n",
              "      <td>SEM VÍTIMA</td>\n",
              "      <td>CANCELADA</td>\n",
              "      <td>CASA AMARELA</td>\n",
              "      <td>AV NORTE</td>\n",
              "      <td>NaN</td>\n",
              "      <td>NaN</td>\n",
              "      <td>SENTIDO SUBURBIO   E/F AO SESC</td>\n",
              "      <td>NaN</td>\n",
              "      <td>NaN</td>\n",
              "      <td>NaN</td>\n",
              "      <td>COLISÃO</td>\n",
              "      <td>COLISÃO SEM VITIMAS</td>\n",
              "      <td>NaN</td>\n",
              "      <td>NaN</td>\n",
              "      <td>NaN</td>\n",
              "      <td>NaN</td>\n",
              "      <td>NaN</td>\n",
              "      <td>NaN</td>\n",
              "      <td>NaN</td>\n",
              "      <td>NaN</td>\n",
              "      <td>NaN</td>\n",
              "      <td>0.0</td>\n",
              "      <td>NaN</td>\n",
              "      <td>NaN</td>\n",
              "      <td>NaN</td>\n",
              "      <td>NaN</td>\n",
              "      <td>NaN</td>\n",
              "      <td>NaN</td>\n",
              "      <td>NaN</td>\n",
              "      <td>NaN</td>\n",
              "      <td>NaN</td>\n",
              "      <td>NaN</td>\n",
              "      <td>NaN</td>\n",
              "      <td>NaN</td>\n",
              "      <td>NaN</td>\n",
              "      <td>NaN</td>\n",
              "      <td>NaN</td>\n",
              "      <td>NaN</td>\n",
              "      <td>NaN</td>\n",
              "      <td>NaN</td>\n",
              "    </tr>\n",
              "    <tr>\n",
              "      <th>1</th>\n",
              "      <td>2015-06-01</td>\n",
              "      <td>06:35:00.000</td>\n",
              "      <td>SEM VÍTIMA</td>\n",
              "      <td>FINALIZADA</td>\n",
              "      <td>ENCRUZILHADA</td>\n",
              "      <td>EST DE BELEM</td>\n",
              "      <td>NaN</td>\n",
              "      <td>NaN</td>\n",
              "      <td>IGREJA BATISTA MEMORIAL DE BELÉM</td>\n",
              "      <td>NaN</td>\n",
              "      <td>NaN</td>\n",
              "      <td>NaN</td>\n",
              "      <td>COLISÃO</td>\n",
              "      <td>SEM VÍTIMAS.</td>\n",
              "      <td>NaN</td>\n",
              "      <td>2.0</td>\n",
              "      <td>NaN</td>\n",
              "      <td>NaN</td>\n",
              "      <td>NaN</td>\n",
              "      <td>NaN</td>\n",
              "      <td>NaN</td>\n",
              "      <td>NaN</td>\n",
              "      <td>NaN</td>\n",
              "      <td>0.0</td>\n",
              "      <td>NaN</td>\n",
              "      <td>NaN</td>\n",
              "      <td>NaN</td>\n",
              "      <td>NaN</td>\n",
              "      <td>NaN</td>\n",
              "      <td>NaN</td>\n",
              "      <td>NaN</td>\n",
              "      <td>NaN</td>\n",
              "      <td>NaN</td>\n",
              "      <td>NaN</td>\n",
              "      <td>NaN</td>\n",
              "      <td>NaN</td>\n",
              "      <td>NaN</td>\n",
              "      <td>NaN</td>\n",
              "      <td>NaN</td>\n",
              "      <td>NaN</td>\n",
              "      <td>NaN</td>\n",
              "      <td>NaN</td>\n",
              "    </tr>\n",
              "    <tr>\n",
              "      <th>2</th>\n",
              "      <td>2015-06-01</td>\n",
              "      <td>08:04:00.000</td>\n",
              "      <td>SEM VÍTIMA</td>\n",
              "      <td>FINALIZADA</td>\n",
              "      <td>BOA VIAGEM</td>\n",
              "      <td>RUA ERNESTO DE PAULA SANTOS</td>\n",
              "      <td>NaN</td>\n",
              "      <td>NaN</td>\n",
              "      <td>SEMAFORO Nº217</td>\n",
              "      <td>NaN</td>\n",
              "      <td>NaN</td>\n",
              "      <td>NaN</td>\n",
              "      <td>COLISÃO</td>\n",
              "      <td>SEM VITIMA</td>\n",
              "      <td>1.0</td>\n",
              "      <td>NaN</td>\n",
              "      <td>NaN</td>\n",
              "      <td>NaN</td>\n",
              "      <td>NaN</td>\n",
              "      <td>NaN</td>\n",
              "      <td>1.0</td>\n",
              "      <td>NaN</td>\n",
              "      <td>NaN</td>\n",
              "      <td>0.0</td>\n",
              "      <td>NaN</td>\n",
              "      <td>NaN</td>\n",
              "      <td>NaN</td>\n",
              "      <td>NaN</td>\n",
              "      <td>NaN</td>\n",
              "      <td>NaN</td>\n",
              "      <td>NaN</td>\n",
              "      <td>NaN</td>\n",
              "      <td>NaN</td>\n",
              "      <td>NaN</td>\n",
              "      <td>NaN</td>\n",
              "      <td>NaN</td>\n",
              "      <td>NaN</td>\n",
              "      <td>NaN</td>\n",
              "      <td>NaN</td>\n",
              "      <td>NaN</td>\n",
              "      <td>NaN</td>\n",
              "      <td>NaN</td>\n",
              "    </tr>\n",
              "    <tr>\n",
              "      <th>3</th>\n",
              "      <td>2015-06-01</td>\n",
              "      <td>08:06:00.000</td>\n",
              "      <td>SEM VÍTIMA</td>\n",
              "      <td>FINALIZADA</td>\n",
              "      <td>AFOGADOS</td>\n",
              "      <td>AV SUL</td>\n",
              "      <td>NaN</td>\n",
              "      <td>NaN</td>\n",
              "      <td>AO LADO DA ESTAÇAO LARGO DA PAZ</td>\n",
              "      <td>NaN</td>\n",
              "      <td>NaN</td>\n",
              "      <td>NaN</td>\n",
              "      <td>COLISÃO</td>\n",
              "      <td>COLISAO S/V</td>\n",
              "      <td>1.0</td>\n",
              "      <td>NaN</td>\n",
              "      <td>NaN</td>\n",
              "      <td>NaN</td>\n",
              "      <td>NaN</td>\n",
              "      <td>NaN</td>\n",
              "      <td>1.0</td>\n",
              "      <td>NaN</td>\n",
              "      <td>NaN</td>\n",
              "      <td>0.0</td>\n",
              "      <td>NaN</td>\n",
              "      <td>NaN</td>\n",
              "      <td>NaN</td>\n",
              "      <td>NaN</td>\n",
              "      <td>NaN</td>\n",
              "      <td>NaN</td>\n",
              "      <td>NaN</td>\n",
              "      <td>NaN</td>\n",
              "      <td>NaN</td>\n",
              "      <td>NaN</td>\n",
              "      <td>NaN</td>\n",
              "      <td>NaN</td>\n",
              "      <td>NaN</td>\n",
              "      <td>NaN</td>\n",
              "      <td>NaN</td>\n",
              "      <td>NaN</td>\n",
              "      <td>NaN</td>\n",
              "      <td>NaN</td>\n",
              "    </tr>\n",
              "    <tr>\n",
              "      <th>4</th>\n",
              "      <td>2015-06-01</td>\n",
              "      <td>08:13:00.000</td>\n",
              "      <td>SEM VÍTIMA</td>\n",
              "      <td>CANCELADA</td>\n",
              "      <td>MADALENA</td>\n",
              "      <td>RUA BENFICA</td>\n",
              "      <td>NaN</td>\n",
              "      <td>NaN</td>\n",
              "      <td>EM  FRENTE AO CLUBE INTERNACIONAL</td>\n",
              "      <td>NaN</td>\n",
              "      <td>NaN</td>\n",
              "      <td>NaN</td>\n",
              "      <td>COLISÃO</td>\n",
              "      <td>GM RIBEIRO JA NO LOCAL VT 05</td>\n",
              "      <td>2.0</td>\n",
              "      <td>NaN</td>\n",
              "      <td>NaN</td>\n",
              "      <td>NaN</td>\n",
              "      <td>NaN</td>\n",
              "      <td>NaN</td>\n",
              "      <td>NaN</td>\n",
              "      <td>NaN</td>\n",
              "      <td>NaN</td>\n",
              "      <td>0.0</td>\n",
              "      <td>NaN</td>\n",
              "      <td>NaN</td>\n",
              "      <td>NaN</td>\n",
              "      <td>NaN</td>\n",
              "      <td>NaN</td>\n",
              "      <td>NaN</td>\n",
              "      <td>NaN</td>\n",
              "      <td>NaN</td>\n",
              "      <td>NaN</td>\n",
              "      <td>NaN</td>\n",
              "      <td>NaN</td>\n",
              "      <td>NaN</td>\n",
              "      <td>NaN</td>\n",
              "      <td>NaN</td>\n",
              "      <td>NaN</td>\n",
              "      <td>NaN</td>\n",
              "      <td>NaN</td>\n",
              "      <td>NaN</td>\n",
              "    </tr>\n",
              "  </tbody>\n",
              "</table>\n",
              "</div>"
            ],
            "text/plain": [
              "         DATA          HORA  ... NUMERO_CRUZAMENTO REFERENCIA_CRUZAMENTO\n",
              "0  2015-12-03  11:36:00.000  ...               NaN                   NaN\n",
              "1  2015-06-01  06:35:00.000  ...               NaN                   NaN\n",
              "2  2015-06-01  08:04:00.000  ...               NaN                   NaN\n",
              "3  2015-06-01  08:06:00.000  ...               NaN                   NaN\n",
              "4  2015-06-01  08:13:00.000  ...               NaN                   NaN\n",
              "\n",
              "[5 rows x 42 columns]"
            ]
          },
          "metadata": {
            "tags": []
          },
          "execution_count": 4
        }
      ]
    },
    {
      "cell_type": "code",
      "metadata": {
        "colab": {
          "base_uri": "https://localhost:8080/"
        },
        "id": "0CPfi3r7oAf3",
        "outputId": "aa335852-0858-47ce-cd72-a23045ca8d0c"
      },
      "source": [
        "#olhando os tipos que foram inferidos inicialmente no pandas\n",
        "acidentes.dtypes"
      ],
      "execution_count": 5,
      "outputs": [
        {
          "output_type": "execute_result",
          "data": {
            "text/plain": [
              "DATA                          object\n",
              "HORA                          object\n",
              "NATUREZA_ACIDENTE             object\n",
              "SITUACAO                      object\n",
              "BAIRRO                        object\n",
              "ENDERECO                      object\n",
              "NUMERO                        object\n",
              "DETALHE_ENDERECO_ACIDENTE     object\n",
              "COMPLEMENTO                   object\n",
              "BAIRRO_CRUZAMENTO             object\n",
              "NUM_SEMAFORO                 float64\n",
              "SENTIDO_VIA                   object\n",
              "TIPO                          object\n",
              "DESCRICAO                     object\n",
              "AUTO                         float64\n",
              "MOTO                         float64\n",
              "CICLOM                       float64\n",
              "CICLISTA                     float64\n",
              "PEDESTRE                     float64\n",
              "ONIBUS                       float64\n",
              "CAMINHAO                     float64\n",
              "VIATURA                      float64\n",
              "OUTROS                       float64\n",
              "VITIMAS                      float64\n",
              "VITIMASFATAIS                float64\n",
              "ACIDENTE_VERIFICADO           object\n",
              "TEMPO_CLIMA                   object\n",
              "SITUACAO_SEMAFORO             object\n",
              "SINALIZACAO                   object\n",
              "CONDICAO_VIA                  object\n",
              "CONSERVACAO_VIA               object\n",
              "PONTO_CONTROLE                object\n",
              "SITUACAO_PLACA                object\n",
              "VELOCIDADE_MAX_VIA            object\n",
              "MAO_DIRECAO                   object\n",
              "DIVISAO_VIA1                  object\n",
              "DIVISAO_VIA2                  object\n",
              "DIVISAO_VIA3                  object\n",
              "NATUREZA                     float64\n",
              "ENDERECO_CRUZAMENTO           object\n",
              "NUMERO_CRUZAMENTO             object\n",
              "REFERENCIA_CRUZAMENTO         object\n",
              "dtype: object"
            ]
          },
          "metadata": {
            "tags": []
          },
          "execution_count": 5
        }
      ]
    },
    {
      "cell_type": "code",
      "metadata": {
        "id": "qe7bz6urEYXR"
      },
      "source": [
        "#como pouquissimos dados de hora estão ausentes, optamos por exclui-los o que não prejudicaria muito a nossa amostra...\n",
        "acidentes.dropna(subset = [\"HORA\"], inplace=True)\n",
        "acidentes['HORA'] = acidentes['HORA'].astype(str)\n",
        "acidentes['HORA'] = acidentes['HORA'].str.slice(stop = 2)\n",
        "#pegamos os primeiros 2 caracteres pois queriamos discretizar os horarios em manhã tarde e noite, para isso a hora seria o suficiente."
      ],
      "execution_count": 6,
      "outputs": []
    },
    {
      "cell_type": "code",
      "metadata": {
        "colab": {
          "base_uri": "https://localhost:8080/"
        },
        "id": "W3Me_684MvqH",
        "outputId": "5f412f0f-cd0e-4d15-8e0d-fa0360b3ec49"
      },
      "source": [
        "#apos um tempo apanhando, descobrimos que existia alguns dados invalidos na hora que estavam prejudicando a nossa analise,\n",
        "#então nos tivemos que nos livrar deles\n",
        "acidentes['HORA'].unique()"
      ],
      "execution_count": 7,
      "outputs": [
        {
          "output_type": "execute_result",
          "data": {
            "text/plain": [
              "array(['11', '06', '08', '09', '10', '12', '13', '14', '15', '16', '17',\n",
              "       '18', '07', '19', '20', '21', '22', '01', '05', '23', '00', '03',\n",
              "       '04', '02', 'ju', '29', 'CI', 'M', 'MA', '.', '48'], dtype=object)"
            ]
          },
          "metadata": {
            "tags": []
          },
          "execution_count": 7
        }
      ]
    },
    {
      "cell_type": "code",
      "metadata": {
        "colab": {
          "base_uri": "https://localhost:8080/"
        },
        "id": "T7hF4iUtOVxq",
        "outputId": "6d7fb250-b5c8-43ac-aeb5-2f2b82295e00"
      },
      "source": [
        "#olhando a quantidade de dados invalidos que foram excluidos para medir o impacto que isso traria para a nossa analise\n",
        "len(acidentes['HORA'])"
      ],
      "execution_count": 8,
      "outputs": [
        {
          "output_type": "execute_result",
          "data": {
            "text/plain": [
              "58015"
            ]
          },
          "metadata": {
            "tags": []
          },
          "execution_count": 8
        }
      ]
    },
    {
      "cell_type": "code",
      "metadata": {
        "id": "vQxsUbYHNOS9",
        "colab": {
          "base_uri": "https://localhost:8080/"
        },
        "outputId": "4d332d70-086a-496d-a153-7bb4f2d194e2"
      },
      "source": [
        "#nos livrando dos dados invalidos da coluna hora\n",
        "#como podemos observar, não existia um numero expressivo de dados invalidos então simplesmente excluilos não seria um grande problema\n",
        "acidentes = acidentes[acidentes.HORA != 'ju']\n",
        "acidentes = acidentes[acidentes.HORA != '29']\n",
        "acidentes = acidentes[acidentes.HORA != 'CI']\n",
        "acidentes = acidentes[acidentes.HORA != 'M']\n",
        "acidentes = acidentes[acidentes.HORA != 'MA']\n",
        "acidentes = acidentes[acidentes.HORA != '.']\n",
        "acidentes = acidentes[acidentes.HORA != '48']\n",
        "\n",
        "len(acidentes['HORA'])\n"
      ],
      "execution_count": 9,
      "outputs": [
        {
          "output_type": "execute_result",
          "data": {
            "text/plain": [
              "58008"
            ]
          },
          "metadata": {
            "tags": []
          },
          "execution_count": 9
        }
      ]
    },
    {
      "cell_type": "code",
      "metadata": {
        "id": "zyEzqozqjWdJ"
      },
      "source": [
        "#convertendo as horas para inteiro, pois posteriormente vamos usar o comparador de < <= > e >=...\n",
        "acidentes['HORA'] = acidentes['HORA'].astype(int)"
      ],
      "execution_count": 10,
      "outputs": []
    },
    {
      "cell_type": "code",
      "metadata": {
        "id": "gcWcPmpTQjE5"
      },
      "source": [
        "#discretizando as horas em periodos do dia\n",
        "acidentes['PERIODO_DO_DIA'] = 'manha'\n",
        "acidentes.loc[(acidentes['HORA'] < 6),'PERIODO_DO_DIA'] = 'madrugada'\n",
        "acidentes.loc[((acidentes['HORA'] >= 6) & (acidentes['HORA'] < 12)),'PERIODO_DO_DIA'] = 'manha'\n",
        "acidentes.loc[((acidentes['HORA'] >= 12) & (acidentes['HORA'] < 18)),'PERIODO_DO_DIA'] = 'tarde'\n",
        "acidentes.loc[(acidentes['HORA'] > 18),'PERIODO_DO_DIA'] = 'noite'\n",
        "acidentes['PERIODO_DO_DIA'] = acidentes['PERIODO_DO_DIA'].astype(str)"
      ],
      "execution_count": 11,
      "outputs": []
    },
    {
      "cell_type": "code",
      "metadata": {
        "id": "XPyWVVuz76yP"
      },
      "source": [
        "#ajustando tipos dos dados\n",
        "\n",
        "acidentes['DATA'] = pd.to_datetime(acidentes['DATA'], format='%Y-%m-%d', errors='ignore')\n",
        "#acidentes['HORA'] = pd.to_datetime(acidentes['HORA'], format='%H:%M:%S', errors = 'ignore')\n",
        "\n",
        "acidentes = acidentes.astype({'NATUREZA_ACIDENTE':'category','SITUACAO':'category','BAIRRO':'category','ENDERECO':'category','NUMERO':'category','DETALHE_ENDERECO_ACIDENTE':'category','COMPLEMENTO':'category','BAIRRO_CRUZAMENTO':'category','NUM_SEMAFORO':'category','SENTIDO_VIA':'category','TIPO':'category','DESCRICAO':'category','AUTO':'float','MOTO':'float','CICLOM':'float','CICLISTA':'float','PEDESTRE':'float','ONIBUS':'float','CAMINHAO':'float','VIATURA':'float','OUTROS':'float','VITIMAS':'float','VITIMASFATAIS':'float','ACIDENTE_VERIFICADO':'category','TEMPO_CLIMA':'category','SITUACAO_SEMAFORO':'category','SINALIZACAO':'category','CONDICAO_VIA':'category','CONSERVACAO_VIA':'category','PONTO_CONTROLE':'category','SITUACAO_PLACA':'category','VELOCIDADE_MAX_VIA':'category','MAO_DIRECAO':'category','DIVISAO_VIA1':'category','DIVISAO_VIA2':'category','DIVISAO_VIA3':'category','NATUREZA':'category','ENDERECO_CRUZAMENTO':'category','NUMERO_CRUZAMENTO':'category','REFERENCIA_CRUZAMENTO':'category'})"
      ],
      "execution_count": 12,
      "outputs": []
    },
    {
      "cell_type": "code",
      "metadata": {
        "colab": {
          "base_uri": "https://localhost:8080/"
        },
        "id": "YjwXenr44sxJ",
        "outputId": "57c51f81-cf2e-4ab5-85ca-834b37356aa6"
      },
      "source": [
        "#visualizando os tipos depois do cast\n",
        "acidentes.dtypes"
      ],
      "execution_count": 13,
      "outputs": [
        {
          "output_type": "execute_result",
          "data": {
            "text/plain": [
              "DATA                         datetime64[ns]\n",
              "HORA                                  int64\n",
              "NATUREZA_ACIDENTE                  category\n",
              "SITUACAO                           category\n",
              "BAIRRO                             category\n",
              "ENDERECO                           category\n",
              "NUMERO                             category\n",
              "DETALHE_ENDERECO_ACIDENTE          category\n",
              "COMPLEMENTO                        category\n",
              "BAIRRO_CRUZAMENTO                  category\n",
              "NUM_SEMAFORO                       category\n",
              "SENTIDO_VIA                        category\n",
              "TIPO                               category\n",
              "DESCRICAO                          category\n",
              "AUTO                                float64\n",
              "MOTO                                float64\n",
              "CICLOM                              float64\n",
              "CICLISTA                            float64\n",
              "PEDESTRE                            float64\n",
              "ONIBUS                              float64\n",
              "CAMINHAO                            float64\n",
              "VIATURA                             float64\n",
              "OUTROS                              float64\n",
              "VITIMAS                             float64\n",
              "VITIMASFATAIS                       float64\n",
              "ACIDENTE_VERIFICADO                category\n",
              "TEMPO_CLIMA                        category\n",
              "SITUACAO_SEMAFORO                  category\n",
              "SINALIZACAO                        category\n",
              "CONDICAO_VIA                       category\n",
              "CONSERVACAO_VIA                    category\n",
              "PONTO_CONTROLE                     category\n",
              "SITUACAO_PLACA                     category\n",
              "VELOCIDADE_MAX_VIA                 category\n",
              "MAO_DIRECAO                        category\n",
              "DIVISAO_VIA1                       category\n",
              "DIVISAO_VIA2                       category\n",
              "DIVISAO_VIA3                       category\n",
              "NATUREZA                           category\n",
              "ENDERECO_CRUZAMENTO                category\n",
              "NUMERO_CRUZAMENTO                  category\n",
              "REFERENCIA_CRUZAMENTO              category\n",
              "PERIODO_DO_DIA                       object\n",
              "dtype: object"
            ]
          },
          "metadata": {
            "tags": []
          },
          "execution_count": 13
        }
      ]
    },
    {
      "cell_type": "code",
      "metadata": {
        "id": "zWVyHeyQ91x_"
      },
      "source": [
        "#discretizando também o dia da semana baseado na data do dia\n",
        "#vamos usar isso para futuras comparações\n",
        "acidentes['DIA_DA_SEMANA'] = acidentes['DATA'].dt.dayofweek\n",
        "acidentes.loc[(acidentes['DIA_DA_SEMANA'] == 0),'DIA_DA_SEMANA'] = 'Segunda'\n",
        "acidentes.loc[(acidentes['DIA_DA_SEMANA'] == 1),'DIA_DA_SEMANA'] = 'Terca'\n",
        "acidentes.loc[(acidentes['DIA_DA_SEMANA'] == 2),'DIA_DA_SEMANA'] = 'Quarta'\n",
        "acidentes.loc[(acidentes['DIA_DA_SEMANA'] == 3),'DIA_DA_SEMANA'] = 'Quinta'\n",
        "acidentes.loc[(acidentes['DIA_DA_SEMANA'] == 4),'DIA_DA_SEMANA'] = 'Sexta'\n",
        "acidentes.loc[(acidentes['DIA_DA_SEMANA'] == 5),'DIA_DA_SEMANA'] = 'Sabado'\n",
        "acidentes.loc[(acidentes['DIA_DA_SEMANA'] == 6),'DIA_DA_SEMANA'] = 'Domingo'"
      ],
      "execution_count": 14,
      "outputs": []
    },
    {
      "cell_type": "markdown",
      "metadata": {
        "id": "8u2a-qa7lP3h"
      },
      "source": [
        "tratando os dados ausentes\n"
      ]
    },
    {
      "cell_type": "code",
      "metadata": {
        "colab": {
          "base_uri": "https://localhost:8080/"
        },
        "id": "JRm2d8p003o2",
        "outputId": "0d28c74f-a680-47d9-b125-a1e6d9168315"
      },
      "source": [
        "#dando uma olhada em quais colunas possuem mais dados ausentes\n",
        "print(acidentes.isnull().sum()/len(acidentes))"
      ],
      "execution_count": 15,
      "outputs": [
        {
          "output_type": "stream",
          "text": [
            "DATA                         0.000000\n",
            "HORA                         0.000000\n",
            "NATUREZA_ACIDENTE            0.007275\n",
            "SITUACAO                     0.000931\n",
            "BAIRRO                       0.005637\n",
            "ENDERECO                     0.004068\n",
            "NUMERO                       0.544890\n",
            "DETALHE_ENDERECO_ACIDENTE    0.855468\n",
            "COMPLEMENTO                  0.062319\n",
            "BAIRRO_CRUZAMENTO            0.129189\n",
            "NUM_SEMAFORO                 0.915581\n",
            "SENTIDO_VIA                  0.776738\n",
            "TIPO                         0.000983\n",
            "DESCRICAO                    0.220383\n",
            "AUTO                         0.093470\n",
            "MOTO                         0.745277\n",
            "CICLOM                       0.992984\n",
            "CICLISTA                     0.985209\n",
            "PEDESTRE                     0.978382\n",
            "ONIBUS                       0.851951\n",
            "CAMINHAO                     0.900496\n",
            "VIATURA                      0.988295\n",
            "OUTROS                       0.988536\n",
            "VITIMAS                      0.004723\n",
            "VITIMASFATAIS                0.997380\n",
            "ACIDENTE_VERIFICADO          0.749414\n",
            "TEMPO_CLIMA                  0.739553\n",
            "SITUACAO_SEMAFORO            0.742880\n",
            "SINALIZACAO                  0.744415\n",
            "CONDICAO_VIA                 0.740381\n",
            "CONSERVACAO_VIA              0.744087\n",
            "PONTO_CONTROLE               0.764929\n",
            "SITUACAO_PLACA               0.764860\n",
            "VELOCIDADE_MAX_VIA           0.921666\n",
            "MAO_DIRECAO                  0.744518\n",
            "DIVISAO_VIA1                 0.754568\n",
            "DIVISAO_VIA2                 0.976710\n",
            "DIVISAO_VIA3                 0.995501\n",
            "NATUREZA                     1.000000\n",
            "ENDERECO_CRUZAMENTO          0.201058\n",
            "NUMERO_CRUZAMENTO            0.437560\n",
            "REFERENCIA_CRUZAMENTO        0.249655\n",
            "PERIODO_DO_DIA               0.000000\n",
            "DIA_DA_SEMANA                0.000000\n",
            "dtype: float64\n"
          ],
          "name": "stdout"
        }
      ]
    },
    {
      "cell_type": "markdown",
      "metadata": {
        "id": "mvVZ5hRZBHgk"
      },
      "source": [
        "*** As colunas abaixo vão ser retiradas pela falta de valores ser muito elevada em relação ao dataset***\n",
        "\n",
        "NUMERO além de que essa granularidade seria muito especifica para o nosso foco\n",
        "\n",
        "DETALHE_ENDERECO_ACIDENTE é um valor muito subjetivo e pouco padronizado\n",
        "\n",
        "NUM_SEMAFORO é um numero que não significa muita coisa pro nosso foco\n",
        "\n",
        "SENTIDO_VIA seria muito especifico para os testes que a gente vai fazer\n",
        "\n",
        "DIVISAO_VIA2 existem poucas vias com 3 faixas\n",
        "\n",
        "DIVISAO_VIA3 existem poucas vias com 4 faixas\n",
        "\n",
        "NATUREZA essa coluna ta vazia\n",
        "\n",
        "ENDERECO_CRUZAMENTO\n",
        "\n",
        "NUMERO_CRUZAMENTO\n",
        "\n",
        "REFERENCIA_CRUZAMENTO\n"
      ]
    },
    {
      "cell_type": "code",
      "metadata": {
        "colab": {
          "base_uri": "https://localhost:8080/",
          "height": 217
        },
        "id": "jFJMNlxsLFZl",
        "outputId": "93a1def0-9c76-4c00-b52e-0e54fc3be9a3"
      },
      "source": [
        "excluidos = acidentes[[ 'NUMERO','DETALHE_ENDERECO_ACIDENTE','NUM_SEMAFORO','SENTIDO_VIA','DIVISAO_VIA2','DIVISAO_VIA3','NATUREZA','ENDERECO_CRUZAMENTO','NUMERO_CRUZAMENTO','REFERENCIA_CRUZAMENTO']]\n",
        "excluidos.head()"
      ],
      "execution_count": 16,
      "outputs": [
        {
          "output_type": "execute_result",
          "data": {
            "text/html": [
              "<div>\n",
              "<style scoped>\n",
              "    .dataframe tbody tr th:only-of-type {\n",
              "        vertical-align: middle;\n",
              "    }\n",
              "\n",
              "    .dataframe tbody tr th {\n",
              "        vertical-align: top;\n",
              "    }\n",
              "\n",
              "    .dataframe thead th {\n",
              "        text-align: right;\n",
              "    }\n",
              "</style>\n",
              "<table border=\"1\" class=\"dataframe\">\n",
              "  <thead>\n",
              "    <tr style=\"text-align: right;\">\n",
              "      <th></th>\n",
              "      <th>NUMERO</th>\n",
              "      <th>DETALHE_ENDERECO_ACIDENTE</th>\n",
              "      <th>NUM_SEMAFORO</th>\n",
              "      <th>SENTIDO_VIA</th>\n",
              "      <th>DIVISAO_VIA2</th>\n",
              "      <th>DIVISAO_VIA3</th>\n",
              "      <th>NATUREZA</th>\n",
              "      <th>ENDERECO_CRUZAMENTO</th>\n",
              "      <th>NUMERO_CRUZAMENTO</th>\n",
              "      <th>REFERENCIA_CRUZAMENTO</th>\n",
              "    </tr>\n",
              "  </thead>\n",
              "  <tbody>\n",
              "    <tr>\n",
              "      <th>0</th>\n",
              "      <td>NaN</td>\n",
              "      <td>NaN</td>\n",
              "      <td>NaN</td>\n",
              "      <td>NaN</td>\n",
              "      <td>NaN</td>\n",
              "      <td>NaN</td>\n",
              "      <td>NaN</td>\n",
              "      <td>NaN</td>\n",
              "      <td>NaN</td>\n",
              "      <td>NaN</td>\n",
              "    </tr>\n",
              "    <tr>\n",
              "      <th>1</th>\n",
              "      <td>NaN</td>\n",
              "      <td>NaN</td>\n",
              "      <td>NaN</td>\n",
              "      <td>NaN</td>\n",
              "      <td>NaN</td>\n",
              "      <td>NaN</td>\n",
              "      <td>NaN</td>\n",
              "      <td>NaN</td>\n",
              "      <td>NaN</td>\n",
              "      <td>NaN</td>\n",
              "    </tr>\n",
              "    <tr>\n",
              "      <th>2</th>\n",
              "      <td>NaN</td>\n",
              "      <td>NaN</td>\n",
              "      <td>NaN</td>\n",
              "      <td>NaN</td>\n",
              "      <td>NaN</td>\n",
              "      <td>NaN</td>\n",
              "      <td>NaN</td>\n",
              "      <td>NaN</td>\n",
              "      <td>NaN</td>\n",
              "      <td>NaN</td>\n",
              "    </tr>\n",
              "    <tr>\n",
              "      <th>3</th>\n",
              "      <td>NaN</td>\n",
              "      <td>NaN</td>\n",
              "      <td>NaN</td>\n",
              "      <td>NaN</td>\n",
              "      <td>NaN</td>\n",
              "      <td>NaN</td>\n",
              "      <td>NaN</td>\n",
              "      <td>NaN</td>\n",
              "      <td>NaN</td>\n",
              "      <td>NaN</td>\n",
              "    </tr>\n",
              "    <tr>\n",
              "      <th>4</th>\n",
              "      <td>NaN</td>\n",
              "      <td>NaN</td>\n",
              "      <td>NaN</td>\n",
              "      <td>NaN</td>\n",
              "      <td>NaN</td>\n",
              "      <td>NaN</td>\n",
              "      <td>NaN</td>\n",
              "      <td>NaN</td>\n",
              "      <td>NaN</td>\n",
              "      <td>NaN</td>\n",
              "    </tr>\n",
              "  </tbody>\n",
              "</table>\n",
              "</div>"
            ],
            "text/plain": [
              "  NUMERO DETALHE_ENDERECO_ACIDENTE  ... NUMERO_CRUZAMENTO REFERENCIA_CRUZAMENTO\n",
              "0    NaN                       NaN  ...               NaN                   NaN\n",
              "1    NaN                       NaN  ...               NaN                   NaN\n",
              "2    NaN                       NaN  ...               NaN                   NaN\n",
              "3    NaN                       NaN  ...               NaN                   NaN\n",
              "4    NaN                       NaN  ...               NaN                   NaN\n",
              "\n",
              "[5 rows x 10 columns]"
            ]
          },
          "metadata": {
            "tags": []
          },
          "execution_count": 16
        }
      ]
    },
    {
      "cell_type": "code",
      "metadata": {
        "id": "bE_6UOzF4x5f"
      },
      "source": [
        "#apagando algumas tabelas que não eram tão interessantes pra gente\n",
        "acidentes = acidentes.drop([ 'NUMERO','DETALHE_ENDERECO_ACIDENTE','NUM_SEMAFORO','SENTIDO_VIA','DIVISAO_VIA2','DIVISAO_VIA3','NATUREZA','ENDERECO_CRUZAMENTO','NUMERO_CRUZAMENTO','REFERENCIA_CRUZAMENTO'], axis=1)"
      ],
      "execution_count": 17,
      "outputs": []
    },
    {
      "cell_type": "code",
      "metadata": {
        "colab": {
          "base_uri": "https://localhost:8080/",
          "height": 417
        },
        "id": "Zcojji404Ckm",
        "outputId": "f3e136e7-2b98-424d-9982-b0fee1580dfd"
      },
      "source": [
        "#olhando a tabela apos a exclusão das colunas desnecessarias\n",
        "acidentes.head()"
      ],
      "execution_count": 18,
      "outputs": [
        {
          "output_type": "execute_result",
          "data": {
            "text/html": [
              "<div>\n",
              "<style scoped>\n",
              "    .dataframe tbody tr th:only-of-type {\n",
              "        vertical-align: middle;\n",
              "    }\n",
              "\n",
              "    .dataframe tbody tr th {\n",
              "        vertical-align: top;\n",
              "    }\n",
              "\n",
              "    .dataframe thead th {\n",
              "        text-align: right;\n",
              "    }\n",
              "</style>\n",
              "<table border=\"1\" class=\"dataframe\">\n",
              "  <thead>\n",
              "    <tr style=\"text-align: right;\">\n",
              "      <th></th>\n",
              "      <th>DATA</th>\n",
              "      <th>HORA</th>\n",
              "      <th>NATUREZA_ACIDENTE</th>\n",
              "      <th>SITUACAO</th>\n",
              "      <th>BAIRRO</th>\n",
              "      <th>ENDERECO</th>\n",
              "      <th>COMPLEMENTO</th>\n",
              "      <th>BAIRRO_CRUZAMENTO</th>\n",
              "      <th>TIPO</th>\n",
              "      <th>DESCRICAO</th>\n",
              "      <th>AUTO</th>\n",
              "      <th>MOTO</th>\n",
              "      <th>CICLOM</th>\n",
              "      <th>CICLISTA</th>\n",
              "      <th>PEDESTRE</th>\n",
              "      <th>ONIBUS</th>\n",
              "      <th>CAMINHAO</th>\n",
              "      <th>VIATURA</th>\n",
              "      <th>OUTROS</th>\n",
              "      <th>VITIMAS</th>\n",
              "      <th>VITIMASFATAIS</th>\n",
              "      <th>ACIDENTE_VERIFICADO</th>\n",
              "      <th>TEMPO_CLIMA</th>\n",
              "      <th>SITUACAO_SEMAFORO</th>\n",
              "      <th>SINALIZACAO</th>\n",
              "      <th>CONDICAO_VIA</th>\n",
              "      <th>CONSERVACAO_VIA</th>\n",
              "      <th>PONTO_CONTROLE</th>\n",
              "      <th>SITUACAO_PLACA</th>\n",
              "      <th>VELOCIDADE_MAX_VIA</th>\n",
              "      <th>MAO_DIRECAO</th>\n",
              "      <th>DIVISAO_VIA1</th>\n",
              "      <th>PERIODO_DO_DIA</th>\n",
              "      <th>DIA_DA_SEMANA</th>\n",
              "    </tr>\n",
              "  </thead>\n",
              "  <tbody>\n",
              "    <tr>\n",
              "      <th>0</th>\n",
              "      <td>2015-12-03</td>\n",
              "      <td>11</td>\n",
              "      <td>SEM VÍTIMA</td>\n",
              "      <td>CANCELADA</td>\n",
              "      <td>CASA AMARELA</td>\n",
              "      <td>AV NORTE</td>\n",
              "      <td>SENTIDO SUBURBIO   E/F AO SESC</td>\n",
              "      <td>NaN</td>\n",
              "      <td>COLISÃO</td>\n",
              "      <td>COLISÃO SEM VITIMAS</td>\n",
              "      <td>NaN</td>\n",
              "      <td>NaN</td>\n",
              "      <td>NaN</td>\n",
              "      <td>NaN</td>\n",
              "      <td>NaN</td>\n",
              "      <td>NaN</td>\n",
              "      <td>NaN</td>\n",
              "      <td>NaN</td>\n",
              "      <td>NaN</td>\n",
              "      <td>0.0</td>\n",
              "      <td>NaN</td>\n",
              "      <td>NaN</td>\n",
              "      <td>NaN</td>\n",
              "      <td>NaN</td>\n",
              "      <td>NaN</td>\n",
              "      <td>NaN</td>\n",
              "      <td>NaN</td>\n",
              "      <td>NaN</td>\n",
              "      <td>NaN</td>\n",
              "      <td>NaN</td>\n",
              "      <td>NaN</td>\n",
              "      <td>NaN</td>\n",
              "      <td>manha</td>\n",
              "      <td>Quinta</td>\n",
              "    </tr>\n",
              "    <tr>\n",
              "      <th>1</th>\n",
              "      <td>2015-06-01</td>\n",
              "      <td>6</td>\n",
              "      <td>SEM VÍTIMA</td>\n",
              "      <td>FINALIZADA</td>\n",
              "      <td>ENCRUZILHADA</td>\n",
              "      <td>EST DE BELEM</td>\n",
              "      <td>IGREJA BATISTA MEMORIAL DE BELÉM</td>\n",
              "      <td>NaN</td>\n",
              "      <td>COLISÃO</td>\n",
              "      <td>SEM VÍTIMAS.</td>\n",
              "      <td>NaN</td>\n",
              "      <td>2.0</td>\n",
              "      <td>NaN</td>\n",
              "      <td>NaN</td>\n",
              "      <td>NaN</td>\n",
              "      <td>NaN</td>\n",
              "      <td>NaN</td>\n",
              "      <td>NaN</td>\n",
              "      <td>NaN</td>\n",
              "      <td>0.0</td>\n",
              "      <td>NaN</td>\n",
              "      <td>NaN</td>\n",
              "      <td>NaN</td>\n",
              "      <td>NaN</td>\n",
              "      <td>NaN</td>\n",
              "      <td>NaN</td>\n",
              "      <td>NaN</td>\n",
              "      <td>NaN</td>\n",
              "      <td>NaN</td>\n",
              "      <td>NaN</td>\n",
              "      <td>NaN</td>\n",
              "      <td>NaN</td>\n",
              "      <td>manha</td>\n",
              "      <td>Segunda</td>\n",
              "    </tr>\n",
              "    <tr>\n",
              "      <th>2</th>\n",
              "      <td>2015-06-01</td>\n",
              "      <td>8</td>\n",
              "      <td>SEM VÍTIMA</td>\n",
              "      <td>FINALIZADA</td>\n",
              "      <td>BOA VIAGEM</td>\n",
              "      <td>RUA ERNESTO DE PAULA SANTOS</td>\n",
              "      <td>SEMAFORO Nº217</td>\n",
              "      <td>NaN</td>\n",
              "      <td>COLISÃO</td>\n",
              "      <td>SEM VITIMA</td>\n",
              "      <td>1.0</td>\n",
              "      <td>NaN</td>\n",
              "      <td>NaN</td>\n",
              "      <td>NaN</td>\n",
              "      <td>NaN</td>\n",
              "      <td>NaN</td>\n",
              "      <td>1.0</td>\n",
              "      <td>NaN</td>\n",
              "      <td>NaN</td>\n",
              "      <td>0.0</td>\n",
              "      <td>NaN</td>\n",
              "      <td>NaN</td>\n",
              "      <td>NaN</td>\n",
              "      <td>NaN</td>\n",
              "      <td>NaN</td>\n",
              "      <td>NaN</td>\n",
              "      <td>NaN</td>\n",
              "      <td>NaN</td>\n",
              "      <td>NaN</td>\n",
              "      <td>NaN</td>\n",
              "      <td>NaN</td>\n",
              "      <td>NaN</td>\n",
              "      <td>manha</td>\n",
              "      <td>Segunda</td>\n",
              "    </tr>\n",
              "    <tr>\n",
              "      <th>3</th>\n",
              "      <td>2015-06-01</td>\n",
              "      <td>8</td>\n",
              "      <td>SEM VÍTIMA</td>\n",
              "      <td>FINALIZADA</td>\n",
              "      <td>AFOGADOS</td>\n",
              "      <td>AV SUL</td>\n",
              "      <td>AO LADO DA ESTAÇAO LARGO DA PAZ</td>\n",
              "      <td>NaN</td>\n",
              "      <td>COLISÃO</td>\n",
              "      <td>COLISAO S/V</td>\n",
              "      <td>1.0</td>\n",
              "      <td>NaN</td>\n",
              "      <td>NaN</td>\n",
              "      <td>NaN</td>\n",
              "      <td>NaN</td>\n",
              "      <td>NaN</td>\n",
              "      <td>1.0</td>\n",
              "      <td>NaN</td>\n",
              "      <td>NaN</td>\n",
              "      <td>0.0</td>\n",
              "      <td>NaN</td>\n",
              "      <td>NaN</td>\n",
              "      <td>NaN</td>\n",
              "      <td>NaN</td>\n",
              "      <td>NaN</td>\n",
              "      <td>NaN</td>\n",
              "      <td>NaN</td>\n",
              "      <td>NaN</td>\n",
              "      <td>NaN</td>\n",
              "      <td>NaN</td>\n",
              "      <td>NaN</td>\n",
              "      <td>NaN</td>\n",
              "      <td>manha</td>\n",
              "      <td>Segunda</td>\n",
              "    </tr>\n",
              "    <tr>\n",
              "      <th>4</th>\n",
              "      <td>2015-06-01</td>\n",
              "      <td>8</td>\n",
              "      <td>SEM VÍTIMA</td>\n",
              "      <td>CANCELADA</td>\n",
              "      <td>MADALENA</td>\n",
              "      <td>RUA BENFICA</td>\n",
              "      <td>EM  FRENTE AO CLUBE INTERNACIONAL</td>\n",
              "      <td>NaN</td>\n",
              "      <td>COLISÃO</td>\n",
              "      <td>GM RIBEIRO JA NO LOCAL VT 05</td>\n",
              "      <td>2.0</td>\n",
              "      <td>NaN</td>\n",
              "      <td>NaN</td>\n",
              "      <td>NaN</td>\n",
              "      <td>NaN</td>\n",
              "      <td>NaN</td>\n",
              "      <td>NaN</td>\n",
              "      <td>NaN</td>\n",
              "      <td>NaN</td>\n",
              "      <td>0.0</td>\n",
              "      <td>NaN</td>\n",
              "      <td>NaN</td>\n",
              "      <td>NaN</td>\n",
              "      <td>NaN</td>\n",
              "      <td>NaN</td>\n",
              "      <td>NaN</td>\n",
              "      <td>NaN</td>\n",
              "      <td>NaN</td>\n",
              "      <td>NaN</td>\n",
              "      <td>NaN</td>\n",
              "      <td>NaN</td>\n",
              "      <td>NaN</td>\n",
              "      <td>manha</td>\n",
              "      <td>Segunda</td>\n",
              "    </tr>\n",
              "  </tbody>\n",
              "</table>\n",
              "</div>"
            ],
            "text/plain": [
              "        DATA  HORA NATUREZA_ACIDENTE  ... DIVISAO_VIA1 PERIODO_DO_DIA DIA_DA_SEMANA\n",
              "0 2015-12-03    11        SEM VÍTIMA  ...          NaN          manha        Quinta\n",
              "1 2015-06-01     6        SEM VÍTIMA  ...          NaN          manha       Segunda\n",
              "2 2015-06-01     8        SEM VÍTIMA  ...          NaN          manha       Segunda\n",
              "3 2015-06-01     8        SEM VÍTIMA  ...          NaN          manha       Segunda\n",
              "4 2015-06-01     8        SEM VÍTIMA  ...          NaN          manha       Segunda\n",
              "\n",
              "[5 rows x 34 columns]"
            ]
          },
          "metadata": {
            "tags": []
          },
          "execution_count": 18
        }
      ]
    },
    {
      "cell_type": "code",
      "metadata": {
        "colab": {
          "base_uri": "https://localhost:8080/"
        },
        "id": "l3FuLDGnmtrD",
        "outputId": "b3aab22a-9ca5-4cca-cbe4-f76bac95d078"
      },
      "source": [
        "#percebemos que a coluna NATUREZA_ACIDENTE tem um dado redundante que poderia nos ajudar a repopular a coluna vitima e vitia fatal\n",
        "acidentes.NATUREZA_ACIDENTE.unique()"
      ],
      "execution_count": 19,
      "outputs": [
        {
          "output_type": "execute_result",
          "data": {
            "text/plain": [
              "['SEM VÍTIMA', 'COM VÍTIMA', 'VÍTIMA FATAL', NaN, 'ENTRADA E SAÍDA', 'APOIO']\n",
              "Categories (5, object): ['SEM VÍTIMA', 'COM VÍTIMA', 'VÍTIMA FATAL', 'ENTRADA E SAÍDA', 'APOIO']"
            ]
          },
          "metadata": {
            "tags": []
          },
          "execution_count": 19
        }
      ]
    },
    {
      "cell_type": "code",
      "metadata": {
        "id": "aYVjGyhnnFfA"
      },
      "source": [
        "#usando os valores da tabela NATUREZA_ACIDENTE para repopular a coluna vitimas fatais\n",
        "acidentes.loc[(acidentes['VITIMASFATAIS'].isnull()) & (acidentes['NATUREZA_ACIDENTE'] == 'VÍTIMA FATAL'),'VITIMASFATAIS'] = 1.0"
      ],
      "execution_count": 20,
      "outputs": []
    },
    {
      "cell_type": "code",
      "metadata": {
        "id": "sHvaRhzg4EpR"
      },
      "source": [
        "#como não podemos assumir nada a respeito dessas linhas, vamos zerar o valor de vitimas fatais\n",
        "acidentes.loc[(acidentes['VITIMASFATAIS'].isnull()),'VITIMASFATAIS'] = 0.0"
      ],
      "execution_count": 21,
      "outputs": []
    },
    {
      "cell_type": "code",
      "metadata": {
        "colab": {
          "base_uri": "https://localhost:8080/"
        },
        "id": "3xQaaN-X4TZv",
        "outputId": "edf0f58f-c676-470c-aa25-9269df31ed2d"
      },
      "source": [
        "#já melhoramos a ausencia de valores na coluna de vitimas fatais\n",
        "print(acidentes.isnull().sum()/len(acidentes))"
      ],
      "execution_count": 22,
      "outputs": [
        {
          "output_type": "stream",
          "text": [
            "DATA                   0.000000\n",
            "HORA                   0.000000\n",
            "NATUREZA_ACIDENTE      0.007275\n",
            "SITUACAO               0.000931\n",
            "BAIRRO                 0.005637\n",
            "ENDERECO               0.004068\n",
            "COMPLEMENTO            0.062319\n",
            "BAIRRO_CRUZAMENTO      0.129189\n",
            "TIPO                   0.000983\n",
            "DESCRICAO              0.220383\n",
            "AUTO                   0.093470\n",
            "MOTO                   0.745277\n",
            "CICLOM                 0.992984\n",
            "CICLISTA               0.985209\n",
            "PEDESTRE               0.978382\n",
            "ONIBUS                 0.851951\n",
            "CAMINHAO               0.900496\n",
            "VIATURA                0.988295\n",
            "OUTROS                 0.988536\n",
            "VITIMAS                0.004723\n",
            "VITIMASFATAIS          0.000000\n",
            "ACIDENTE_VERIFICADO    0.749414\n",
            "TEMPO_CLIMA            0.739553\n",
            "SITUACAO_SEMAFORO      0.742880\n",
            "SINALIZACAO            0.744415\n",
            "CONDICAO_VIA           0.740381\n",
            "CONSERVACAO_VIA        0.744087\n",
            "PONTO_CONTROLE         0.764929\n",
            "SITUACAO_PLACA         0.764860\n",
            "VELOCIDADE_MAX_VIA     0.921666\n",
            "MAO_DIRECAO            0.744518\n",
            "DIVISAO_VIA1           0.754568\n",
            "PERIODO_DO_DIA         0.000000\n",
            "DIA_DA_SEMANA          0.000000\n",
            "dtype: float64\n"
          ],
          "name": "stdout"
        }
      ]
    },
    {
      "cell_type": "code",
      "metadata": {
        "id": "nwyJqLg_P_9D"
      },
      "source": [
        "#vamos fazer o mesmo para as vitimas leves\n",
        "acidentes.loc[(acidentes['VITIMAS'].isnull()) & (acidentes['NATUREZA_ACIDENTE'] == 'COM VÍTIMA'),'VITIMAS'] = 1.0"
      ],
      "execution_count": 23,
      "outputs": []
    },
    {
      "cell_type": "code",
      "metadata": {
        "id": "LuoT_TZTRNW9"
      },
      "source": [
        "acidentes.loc[(acidentes['VITIMAS'].isnull()) ,'VITIMAS'] = 0.0"
      ],
      "execution_count": 24,
      "outputs": []
    },
    {
      "cell_type": "code",
      "metadata": {
        "id": "TFBxuSp9RVeZ",
        "colab": {
          "base_uri": "https://localhost:8080/"
        },
        "outputId": "786780be-68be-49ae-f6b7-d87b2099cfa6"
      },
      "source": [
        "print(acidentes.isnull().sum()/len(acidentes))"
      ],
      "execution_count": 25,
      "outputs": [
        {
          "output_type": "stream",
          "text": [
            "DATA                   0.000000\n",
            "HORA                   0.000000\n",
            "NATUREZA_ACIDENTE      0.007275\n",
            "SITUACAO               0.000931\n",
            "BAIRRO                 0.005637\n",
            "ENDERECO               0.004068\n",
            "COMPLEMENTO            0.062319\n",
            "BAIRRO_CRUZAMENTO      0.129189\n",
            "TIPO                   0.000983\n",
            "DESCRICAO              0.220383\n",
            "AUTO                   0.093470\n",
            "MOTO                   0.745277\n",
            "CICLOM                 0.992984\n",
            "CICLISTA               0.985209\n",
            "PEDESTRE               0.978382\n",
            "ONIBUS                 0.851951\n",
            "CAMINHAO               0.900496\n",
            "VIATURA                0.988295\n",
            "OUTROS                 0.988536\n",
            "VITIMAS                0.000000\n",
            "VITIMASFATAIS          0.000000\n",
            "ACIDENTE_VERIFICADO    0.749414\n",
            "TEMPO_CLIMA            0.739553\n",
            "SITUACAO_SEMAFORO      0.742880\n",
            "SINALIZACAO            0.744415\n",
            "CONDICAO_VIA           0.740381\n",
            "CONSERVACAO_VIA        0.744087\n",
            "PONTO_CONTROLE         0.764929\n",
            "SITUACAO_PLACA         0.764860\n",
            "VELOCIDADE_MAX_VIA     0.921666\n",
            "MAO_DIRECAO            0.744518\n",
            "DIVISAO_VIA1           0.754568\n",
            "PERIODO_DO_DIA         0.000000\n",
            "DIA_DA_SEMANA          0.000000\n",
            "dtype: float64\n"
          ],
          "name": "stdout"
        }
      ]
    },
    {
      "cell_type": "code",
      "metadata": {
        "id": "ThpKPu7_qyuy"
      },
      "source": [
        "#aqui vamos zerar os valores ausentes das colunas dos elementos envolvidos no acidente\n",
        "acidentes['AUTO'] = acidentes['AUTO'].fillna(0)\n",
        "acidentes['MOTO'] = acidentes['MOTO'].fillna(0)\n",
        "acidentes['CICLOM'] = acidentes['CICLOM'].fillna(0)\n",
        "acidentes['CICLISTA'] = acidentes['CICLISTA'].fillna(0)\n",
        "acidentes['PEDESTRE'] = acidentes['PEDESTRE'].fillna(0)\n",
        "acidentes['ONIBUS'] = acidentes['ONIBUS'].fillna(0)\n",
        "acidentes['CAMINHAO'] = acidentes['CAMINHAO'].fillna(0)\n",
        "acidentes['VIATURA'] = acidentes['VIATURA'].fillna(0)\n",
        "acidentes['OUTROS'] = acidentes['OUTROS'].fillna(0)"
      ],
      "execution_count": 26,
      "outputs": []
    },
    {
      "cell_type": "code",
      "metadata": {
        "colab": {
          "base_uri": "https://localhost:8080/"
        },
        "id": "9c8BgfIXm1V-",
        "outputId": "6cc639a9-c44e-4212-999e-dbdd6296ed36"
      },
      "source": [
        "print(acidentes.isnull().sum()/len(acidentes))"
      ],
      "execution_count": 27,
      "outputs": [
        {
          "output_type": "stream",
          "text": [
            "DATA                   0.000000\n",
            "HORA                   0.000000\n",
            "NATUREZA_ACIDENTE      0.007275\n",
            "SITUACAO               0.000931\n",
            "BAIRRO                 0.005637\n",
            "ENDERECO               0.004068\n",
            "COMPLEMENTO            0.062319\n",
            "BAIRRO_CRUZAMENTO      0.129189\n",
            "TIPO                   0.000983\n",
            "DESCRICAO              0.220383\n",
            "AUTO                   0.000000\n",
            "MOTO                   0.000000\n",
            "CICLOM                 0.000000\n",
            "CICLISTA               0.000000\n",
            "PEDESTRE               0.000000\n",
            "ONIBUS                 0.000000\n",
            "CAMINHAO               0.000000\n",
            "VIATURA                0.000000\n",
            "OUTROS                 0.000000\n",
            "VITIMAS                0.000000\n",
            "VITIMASFATAIS          0.000000\n",
            "ACIDENTE_VERIFICADO    0.749414\n",
            "TEMPO_CLIMA            0.739553\n",
            "SITUACAO_SEMAFORO      0.742880\n",
            "SINALIZACAO            0.744415\n",
            "CONDICAO_VIA           0.740381\n",
            "CONSERVACAO_VIA        0.744087\n",
            "PONTO_CONTROLE         0.764929\n",
            "SITUACAO_PLACA         0.764860\n",
            "VELOCIDADE_MAX_VIA     0.921666\n",
            "MAO_DIRECAO            0.744518\n",
            "DIVISAO_VIA1           0.754568\n",
            "PERIODO_DO_DIA         0.000000\n",
            "DIA_DA_SEMANA          0.000000\n",
            "dtype: float64\n"
          ],
          "name": "stdout"
        }
      ]
    },
    {
      "cell_type": "code",
      "metadata": {
        "id": "QjzSIo0xriur",
        "colab": {
          "base_uri": "https://localhost:8080/",
          "height": 417
        },
        "outputId": "9d7919fa-8ddc-4b64-f463-1ad50d3fa778"
      },
      "source": [
        "acidentes.head()"
      ],
      "execution_count": 28,
      "outputs": [
        {
          "output_type": "execute_result",
          "data": {
            "text/html": [
              "<div>\n",
              "<style scoped>\n",
              "    .dataframe tbody tr th:only-of-type {\n",
              "        vertical-align: middle;\n",
              "    }\n",
              "\n",
              "    .dataframe tbody tr th {\n",
              "        vertical-align: top;\n",
              "    }\n",
              "\n",
              "    .dataframe thead th {\n",
              "        text-align: right;\n",
              "    }\n",
              "</style>\n",
              "<table border=\"1\" class=\"dataframe\">\n",
              "  <thead>\n",
              "    <tr style=\"text-align: right;\">\n",
              "      <th></th>\n",
              "      <th>DATA</th>\n",
              "      <th>HORA</th>\n",
              "      <th>NATUREZA_ACIDENTE</th>\n",
              "      <th>SITUACAO</th>\n",
              "      <th>BAIRRO</th>\n",
              "      <th>ENDERECO</th>\n",
              "      <th>COMPLEMENTO</th>\n",
              "      <th>BAIRRO_CRUZAMENTO</th>\n",
              "      <th>TIPO</th>\n",
              "      <th>DESCRICAO</th>\n",
              "      <th>AUTO</th>\n",
              "      <th>MOTO</th>\n",
              "      <th>CICLOM</th>\n",
              "      <th>CICLISTA</th>\n",
              "      <th>PEDESTRE</th>\n",
              "      <th>ONIBUS</th>\n",
              "      <th>CAMINHAO</th>\n",
              "      <th>VIATURA</th>\n",
              "      <th>OUTROS</th>\n",
              "      <th>VITIMAS</th>\n",
              "      <th>VITIMASFATAIS</th>\n",
              "      <th>ACIDENTE_VERIFICADO</th>\n",
              "      <th>TEMPO_CLIMA</th>\n",
              "      <th>SITUACAO_SEMAFORO</th>\n",
              "      <th>SINALIZACAO</th>\n",
              "      <th>CONDICAO_VIA</th>\n",
              "      <th>CONSERVACAO_VIA</th>\n",
              "      <th>PONTO_CONTROLE</th>\n",
              "      <th>SITUACAO_PLACA</th>\n",
              "      <th>VELOCIDADE_MAX_VIA</th>\n",
              "      <th>MAO_DIRECAO</th>\n",
              "      <th>DIVISAO_VIA1</th>\n",
              "      <th>PERIODO_DO_DIA</th>\n",
              "      <th>DIA_DA_SEMANA</th>\n",
              "    </tr>\n",
              "  </thead>\n",
              "  <tbody>\n",
              "    <tr>\n",
              "      <th>0</th>\n",
              "      <td>2015-12-03</td>\n",
              "      <td>11</td>\n",
              "      <td>SEM VÍTIMA</td>\n",
              "      <td>CANCELADA</td>\n",
              "      <td>CASA AMARELA</td>\n",
              "      <td>AV NORTE</td>\n",
              "      <td>SENTIDO SUBURBIO   E/F AO SESC</td>\n",
              "      <td>NaN</td>\n",
              "      <td>COLISÃO</td>\n",
              "      <td>COLISÃO SEM VITIMAS</td>\n",
              "      <td>0.0</td>\n",
              "      <td>0.0</td>\n",
              "      <td>0.0</td>\n",
              "      <td>0.0</td>\n",
              "      <td>0.0</td>\n",
              "      <td>0.0</td>\n",
              "      <td>0.0</td>\n",
              "      <td>0.0</td>\n",
              "      <td>0.0</td>\n",
              "      <td>0.0</td>\n",
              "      <td>0.0</td>\n",
              "      <td>NaN</td>\n",
              "      <td>NaN</td>\n",
              "      <td>NaN</td>\n",
              "      <td>NaN</td>\n",
              "      <td>NaN</td>\n",
              "      <td>NaN</td>\n",
              "      <td>NaN</td>\n",
              "      <td>NaN</td>\n",
              "      <td>NaN</td>\n",
              "      <td>NaN</td>\n",
              "      <td>NaN</td>\n",
              "      <td>manha</td>\n",
              "      <td>Quinta</td>\n",
              "    </tr>\n",
              "    <tr>\n",
              "      <th>1</th>\n",
              "      <td>2015-06-01</td>\n",
              "      <td>6</td>\n",
              "      <td>SEM VÍTIMA</td>\n",
              "      <td>FINALIZADA</td>\n",
              "      <td>ENCRUZILHADA</td>\n",
              "      <td>EST DE BELEM</td>\n",
              "      <td>IGREJA BATISTA MEMORIAL DE BELÉM</td>\n",
              "      <td>NaN</td>\n",
              "      <td>COLISÃO</td>\n",
              "      <td>SEM VÍTIMAS.</td>\n",
              "      <td>0.0</td>\n",
              "      <td>2.0</td>\n",
              "      <td>0.0</td>\n",
              "      <td>0.0</td>\n",
              "      <td>0.0</td>\n",
              "      <td>0.0</td>\n",
              "      <td>0.0</td>\n",
              "      <td>0.0</td>\n",
              "      <td>0.0</td>\n",
              "      <td>0.0</td>\n",
              "      <td>0.0</td>\n",
              "      <td>NaN</td>\n",
              "      <td>NaN</td>\n",
              "      <td>NaN</td>\n",
              "      <td>NaN</td>\n",
              "      <td>NaN</td>\n",
              "      <td>NaN</td>\n",
              "      <td>NaN</td>\n",
              "      <td>NaN</td>\n",
              "      <td>NaN</td>\n",
              "      <td>NaN</td>\n",
              "      <td>NaN</td>\n",
              "      <td>manha</td>\n",
              "      <td>Segunda</td>\n",
              "    </tr>\n",
              "    <tr>\n",
              "      <th>2</th>\n",
              "      <td>2015-06-01</td>\n",
              "      <td>8</td>\n",
              "      <td>SEM VÍTIMA</td>\n",
              "      <td>FINALIZADA</td>\n",
              "      <td>BOA VIAGEM</td>\n",
              "      <td>RUA ERNESTO DE PAULA SANTOS</td>\n",
              "      <td>SEMAFORO Nº217</td>\n",
              "      <td>NaN</td>\n",
              "      <td>COLISÃO</td>\n",
              "      <td>SEM VITIMA</td>\n",
              "      <td>1.0</td>\n",
              "      <td>0.0</td>\n",
              "      <td>0.0</td>\n",
              "      <td>0.0</td>\n",
              "      <td>0.0</td>\n",
              "      <td>0.0</td>\n",
              "      <td>1.0</td>\n",
              "      <td>0.0</td>\n",
              "      <td>0.0</td>\n",
              "      <td>0.0</td>\n",
              "      <td>0.0</td>\n",
              "      <td>NaN</td>\n",
              "      <td>NaN</td>\n",
              "      <td>NaN</td>\n",
              "      <td>NaN</td>\n",
              "      <td>NaN</td>\n",
              "      <td>NaN</td>\n",
              "      <td>NaN</td>\n",
              "      <td>NaN</td>\n",
              "      <td>NaN</td>\n",
              "      <td>NaN</td>\n",
              "      <td>NaN</td>\n",
              "      <td>manha</td>\n",
              "      <td>Segunda</td>\n",
              "    </tr>\n",
              "    <tr>\n",
              "      <th>3</th>\n",
              "      <td>2015-06-01</td>\n",
              "      <td>8</td>\n",
              "      <td>SEM VÍTIMA</td>\n",
              "      <td>FINALIZADA</td>\n",
              "      <td>AFOGADOS</td>\n",
              "      <td>AV SUL</td>\n",
              "      <td>AO LADO DA ESTAÇAO LARGO DA PAZ</td>\n",
              "      <td>NaN</td>\n",
              "      <td>COLISÃO</td>\n",
              "      <td>COLISAO S/V</td>\n",
              "      <td>1.0</td>\n",
              "      <td>0.0</td>\n",
              "      <td>0.0</td>\n",
              "      <td>0.0</td>\n",
              "      <td>0.0</td>\n",
              "      <td>0.0</td>\n",
              "      <td>1.0</td>\n",
              "      <td>0.0</td>\n",
              "      <td>0.0</td>\n",
              "      <td>0.0</td>\n",
              "      <td>0.0</td>\n",
              "      <td>NaN</td>\n",
              "      <td>NaN</td>\n",
              "      <td>NaN</td>\n",
              "      <td>NaN</td>\n",
              "      <td>NaN</td>\n",
              "      <td>NaN</td>\n",
              "      <td>NaN</td>\n",
              "      <td>NaN</td>\n",
              "      <td>NaN</td>\n",
              "      <td>NaN</td>\n",
              "      <td>NaN</td>\n",
              "      <td>manha</td>\n",
              "      <td>Segunda</td>\n",
              "    </tr>\n",
              "    <tr>\n",
              "      <th>4</th>\n",
              "      <td>2015-06-01</td>\n",
              "      <td>8</td>\n",
              "      <td>SEM VÍTIMA</td>\n",
              "      <td>CANCELADA</td>\n",
              "      <td>MADALENA</td>\n",
              "      <td>RUA BENFICA</td>\n",
              "      <td>EM  FRENTE AO CLUBE INTERNACIONAL</td>\n",
              "      <td>NaN</td>\n",
              "      <td>COLISÃO</td>\n",
              "      <td>GM RIBEIRO JA NO LOCAL VT 05</td>\n",
              "      <td>2.0</td>\n",
              "      <td>0.0</td>\n",
              "      <td>0.0</td>\n",
              "      <td>0.0</td>\n",
              "      <td>0.0</td>\n",
              "      <td>0.0</td>\n",
              "      <td>0.0</td>\n",
              "      <td>0.0</td>\n",
              "      <td>0.0</td>\n",
              "      <td>0.0</td>\n",
              "      <td>0.0</td>\n",
              "      <td>NaN</td>\n",
              "      <td>NaN</td>\n",
              "      <td>NaN</td>\n",
              "      <td>NaN</td>\n",
              "      <td>NaN</td>\n",
              "      <td>NaN</td>\n",
              "      <td>NaN</td>\n",
              "      <td>NaN</td>\n",
              "      <td>NaN</td>\n",
              "      <td>NaN</td>\n",
              "      <td>NaN</td>\n",
              "      <td>manha</td>\n",
              "      <td>Segunda</td>\n",
              "    </tr>\n",
              "  </tbody>\n",
              "</table>\n",
              "</div>"
            ],
            "text/plain": [
              "        DATA  HORA NATUREZA_ACIDENTE  ... DIVISAO_VIA1 PERIODO_DO_DIA DIA_DA_SEMANA\n",
              "0 2015-12-03    11        SEM VÍTIMA  ...          NaN          manha        Quinta\n",
              "1 2015-06-01     6        SEM VÍTIMA  ...          NaN          manha       Segunda\n",
              "2 2015-06-01     8        SEM VÍTIMA  ...          NaN          manha       Segunda\n",
              "3 2015-06-01     8        SEM VÍTIMA  ...          NaN          manha       Segunda\n",
              "4 2015-06-01     8        SEM VÍTIMA  ...          NaN          manha       Segunda\n",
              "\n",
              "[5 rows x 34 columns]"
            ]
          },
          "metadata": {
            "tags": []
          },
          "execution_count": 28
        }
      ]
    },
    {
      "cell_type": "code",
      "metadata": {
        "colab": {
          "base_uri": "https://localhost:8080/"
        },
        "id": "L3luohk9dz0r",
        "outputId": "12268bfc-b659-45f1-c54d-b971bbdf5448"
      },
      "source": [
        "acidentes['TIPO'].unique()"
      ],
      "execution_count": 29,
      "outputs": [
        {
          "output_type": "execute_result",
          "data": {
            "text/plain": [
              "['COLISÃO', 'CHOQUE', 'ATROPELAMENTO ANIMAL', 'QUEDA DE ÁRVORE', 'ATROPELAMENTO', ..., 'CHOQUE VEÍCULO PARADO', 'ABALROAMENTO TRANSVERSAL', 'COLISÃO FRONTAL', 'CHOQUE OBJETO FIXO', 'SUBURBIO']\n",
              "Length: 24\n",
              "Categories (23, object): ['COLISÃO', 'CHOQUE', 'ATROPELAMENTO ANIMAL', 'QUEDA DE ÁRVORE', ...,\n",
              "                          'ABALROAMENTO TRANSVERSAL', 'COLISÃO FRONTAL', 'CHOQUE OBJETO FIXO', 'SUBURBIO']"
            ]
          },
          "metadata": {
            "tags": []
          },
          "execution_count": 29
        }
      ]
    },
    {
      "cell_type": "code",
      "metadata": {
        "id": "2WbAxRhXeONm",
        "colab": {
          "base_uri": "https://localhost:8080/"
        },
        "outputId": "75b7dba4-74f3-45ca-ec71-9dc6ea1342e2"
      },
      "source": [
        "acidentes['DESCRICAO'].unique()"
      ],
      "execution_count": 30,
      "outputs": [
        {
          "output_type": "execute_result",
          "data": {
            "text/plain": [
              "['COLISÃO SEM VITIMAS', 'SEM VÍTIMAS.', 'SEM VITIMA', 'COLISAO S/V', 'GM RIBEIRO JA NO LOCAL VT 05', ..., 'COM VITIMA AGUARDANDO SAMU / CONDUTOR DO AUTO..., 'COLISÃO 2 AUTOS - SEGUIDA DE CAPOTAMENTO - C/..., 'COM VITIMAS / BOMBEIROS NO LOCAL', 'COLISÃO AUTO X MOTO / VT 14 NO LOCAL', 'COLISÃO CARRO X MOTO / CARRO SE EVADIU DO LOC...]\n",
              "Length: 11610\n",
              "Categories (11609, object): ['COLISÃO SEM VITIMAS', 'SEM VÍTIMAS.', 'SEM VITIMA', 'COLISAO S/V', ...,\n",
              "                             'COLISÃO 2 AUTOS - SEGUIDA DE CAPOTAMENTO - C/..., 'COM VITIMAS / BOMBEIROS NO LOCAL',\n",
              "                             'COLISÃO AUTO X MOTO / VT 14 NO LOCAL', 'COLISÃO CARRO X MOTO / CARRO SE EVADIU DO LOC...]"
            ]
          },
          "metadata": {
            "tags": []
          },
          "execution_count": 30
        }
      ]
    },
    {
      "cell_type": "code",
      "metadata": {
        "id": "fya5QV6vxqBY",
        "colab": {
          "base_uri": "https://localhost:8080/"
        },
        "outputId": "fe352ea9-70d9-4149-d023-7862640c96bb"
      },
      "source": [
        "print(acidentes.isnull().sum()/len(acidentes))"
      ],
      "execution_count": 31,
      "outputs": [
        {
          "output_type": "stream",
          "text": [
            "DATA                   0.000000\n",
            "HORA                   0.000000\n",
            "NATUREZA_ACIDENTE      0.007275\n",
            "SITUACAO               0.000931\n",
            "BAIRRO                 0.005637\n",
            "ENDERECO               0.004068\n",
            "COMPLEMENTO            0.062319\n",
            "BAIRRO_CRUZAMENTO      0.129189\n",
            "TIPO                   0.000983\n",
            "DESCRICAO              0.220383\n",
            "AUTO                   0.000000\n",
            "MOTO                   0.000000\n",
            "CICLOM                 0.000000\n",
            "CICLISTA               0.000000\n",
            "PEDESTRE               0.000000\n",
            "ONIBUS                 0.000000\n",
            "CAMINHAO               0.000000\n",
            "VIATURA                0.000000\n",
            "OUTROS                 0.000000\n",
            "VITIMAS                0.000000\n",
            "VITIMASFATAIS          0.000000\n",
            "ACIDENTE_VERIFICADO    0.749414\n",
            "TEMPO_CLIMA            0.739553\n",
            "SITUACAO_SEMAFORO      0.742880\n",
            "SINALIZACAO            0.744415\n",
            "CONDICAO_VIA           0.740381\n",
            "CONSERVACAO_VIA        0.744087\n",
            "PONTO_CONTROLE         0.764929\n",
            "SITUACAO_PLACA         0.764860\n",
            "VELOCIDADE_MAX_VIA     0.921666\n",
            "MAO_DIRECAO            0.744518\n",
            "DIVISAO_VIA1           0.754568\n",
            "PERIODO_DO_DIA         0.000000\n",
            "DIA_DA_SEMANA          0.000000\n",
            "dtype: float64\n"
          ],
          "name": "stdout"
        }
      ]
    },
    {
      "cell_type": "markdown",
      "metadata": {
        "id": "Kyef8HSfHEUq"
      },
      "source": [
        "Tentando criar uma serie temporal para aplicar a normalização e aplicação de outliers"
      ]
    },
    {
      "cell_type": "code",
      "metadata": {
        "colab": {
          "base_uri": "https://localhost:8080/",
          "height": 197
        },
        "id": "7HkpbqwlC-D_",
        "outputId": "2bfa9ec8-884c-4b90-a7aa-e78bf009d3e4"
      },
      "source": [
        "acidentes['NUM'] = 1\n",
        "\n",
        "acidentes2 = pd.DataFrame(acidentes.groupby([\"DATA\",\"DIA_DA_SEMANA\"])[\"NUM\"].count())\n",
        "acidentes2 = acidentes2.reset_index()\n",
        "acidentes2.head()"
      ],
      "execution_count": 32,
      "outputs": [
        {
          "output_type": "execute_result",
          "data": {
            "text/html": [
              "<div>\n",
              "<style scoped>\n",
              "    .dataframe tbody tr th:only-of-type {\n",
              "        vertical-align: middle;\n",
              "    }\n",
              "\n",
              "    .dataframe tbody tr th {\n",
              "        vertical-align: top;\n",
              "    }\n",
              "\n",
              "    .dataframe thead th {\n",
              "        text-align: right;\n",
              "    }\n",
              "</style>\n",
              "<table border=\"1\" class=\"dataframe\">\n",
              "  <thead>\n",
              "    <tr style=\"text-align: right;\">\n",
              "      <th></th>\n",
              "      <th>DATA</th>\n",
              "      <th>DIA_DA_SEMANA</th>\n",
              "      <th>NUM</th>\n",
              "    </tr>\n",
              "  </thead>\n",
              "  <tbody>\n",
              "    <tr>\n",
              "      <th>0</th>\n",
              "      <td>2015-06-01</td>\n",
              "      <td>Segunda</td>\n",
              "      <td>39</td>\n",
              "    </tr>\n",
              "    <tr>\n",
              "      <th>1</th>\n",
              "      <td>2015-06-02</td>\n",
              "      <td>Terca</td>\n",
              "      <td>49</td>\n",
              "    </tr>\n",
              "    <tr>\n",
              "      <th>2</th>\n",
              "      <td>2015-06-03</td>\n",
              "      <td>Quarta</td>\n",
              "      <td>46</td>\n",
              "    </tr>\n",
              "    <tr>\n",
              "      <th>3</th>\n",
              "      <td>2015-06-04</td>\n",
              "      <td>Quinta</td>\n",
              "      <td>28</td>\n",
              "    </tr>\n",
              "    <tr>\n",
              "      <th>4</th>\n",
              "      <td>2015-06-05</td>\n",
              "      <td>Sexta</td>\n",
              "      <td>40</td>\n",
              "    </tr>\n",
              "  </tbody>\n",
              "</table>\n",
              "</div>"
            ],
            "text/plain": [
              "        DATA DIA_DA_SEMANA  NUM\n",
              "0 2015-06-01       Segunda   39\n",
              "1 2015-06-02         Terca   49\n",
              "2 2015-06-03        Quarta   46\n",
              "3 2015-06-04        Quinta   28\n",
              "4 2015-06-05         Sexta   40"
            ]
          },
          "metadata": {
            "tags": []
          },
          "execution_count": 32
        }
      ]
    },
    {
      "cell_type": "code",
      "metadata": {
        "colab": {
          "base_uri": "https://localhost:8080/",
          "height": 287
        },
        "id": "T7U8g3LGI9a0",
        "outputId": "64190bb7-5fdb-4952-c2a7-ccc8a040b1aa"
      },
      "source": [
        "segunda = acidentes2[acidentes2.DIA_DA_SEMANA == 'Segunda']\n",
        "segunda.describe() "
      ],
      "execution_count": 33,
      "outputs": [
        {
          "output_type": "execute_result",
          "data": {
            "text/html": [
              "<div>\n",
              "<style scoped>\n",
              "    .dataframe tbody tr th:only-of-type {\n",
              "        vertical-align: middle;\n",
              "    }\n",
              "\n",
              "    .dataframe tbody tr th {\n",
              "        vertical-align: top;\n",
              "    }\n",
              "\n",
              "    .dataframe thead th {\n",
              "        text-align: right;\n",
              "    }\n",
              "</style>\n",
              "<table border=\"1\" class=\"dataframe\">\n",
              "  <thead>\n",
              "    <tr style=\"text-align: right;\">\n",
              "      <th></th>\n",
              "      <th>NUM</th>\n",
              "    </tr>\n",
              "  </thead>\n",
              "  <tbody>\n",
              "    <tr>\n",
              "      <th>count</th>\n",
              "      <td>293.000000</td>\n",
              "    </tr>\n",
              "    <tr>\n",
              "      <th>mean</th>\n",
              "      <td>31.105802</td>\n",
              "    </tr>\n",
              "    <tr>\n",
              "      <th>std</th>\n",
              "      <td>13.758151</td>\n",
              "    </tr>\n",
              "    <tr>\n",
              "      <th>min</th>\n",
              "      <td>1.000000</td>\n",
              "    </tr>\n",
              "    <tr>\n",
              "      <th>25%</th>\n",
              "      <td>24.000000</td>\n",
              "    </tr>\n",
              "    <tr>\n",
              "      <th>50%</th>\n",
              "      <td>34.000000</td>\n",
              "    </tr>\n",
              "    <tr>\n",
              "      <th>75%</th>\n",
              "      <td>41.000000</td>\n",
              "    </tr>\n",
              "    <tr>\n",
              "      <th>max</th>\n",
              "      <td>62.000000</td>\n",
              "    </tr>\n",
              "  </tbody>\n",
              "</table>\n",
              "</div>"
            ],
            "text/plain": [
              "              NUM\n",
              "count  293.000000\n",
              "mean    31.105802\n",
              "std     13.758151\n",
              "min      1.000000\n",
              "25%     24.000000\n",
              "50%     34.000000\n",
              "75%     41.000000\n",
              "max     62.000000"
            ]
          },
          "metadata": {
            "tags": []
          },
          "execution_count": 33
        }
      ]
    },
    {
      "cell_type": "code",
      "metadata": {
        "colab": {
          "base_uri": "https://localhost:8080/",
          "height": 281
        },
        "id": "fN_AXcpkcdFL",
        "outputId": "0e8d5f22-1cc6-4cb9-8290-aa3b4a40373d"
      },
      "source": [
        "(segunda['NUM']).hist()"
      ],
      "execution_count": 34,
      "outputs": [
        {
          "output_type": "execute_result",
          "data": {
            "text/plain": [
              "<matplotlib.axes._subplots.AxesSubplot at 0x7f7d38b05710>"
            ]
          },
          "metadata": {
            "tags": []
          },
          "execution_count": 34
        },
        {
          "output_type": "display_data",
          "data": {
            "image/png": "[encoded data removed]",
            "text/plain": [
              "<Figure size 432x288 with 1 Axes>"
            ]
          },
          "metadata": {
            "tags": [],
            "needs_background": "light"
          }
        }
      ]
    },
    {
      "cell_type": "code",
      "metadata": {
        "id": "kQzcze4FhgJs",
        "colab": {
          "base_uri": "https://localhost:8080/",
          "height": 281
        },
        "outputId": "ab17443a-a463-48d3-9996-2cf005173b8b"
      },
      "source": [
        "segunda.boxplot(column=['NUM'])"
      ],
      "execution_count": 35,
      "outputs": [
        {
          "output_type": "execute_result",
          "data": {
            "text/plain": [
              "<matplotlib.axes._subplots.AxesSubplot at 0x7f7d38d17550>"
            ]
          },
          "metadata": {
            "tags": []
          },
          "execution_count": 35
        },
        {
          "output_type": "display_data",
          "data": {
            "image/png": "[encoded data removed]",
            "text/plain": [
              "<Figure size 432x288 with 1 Axes>"
            ]
          },
          "metadata": {
            "tags": [],
            "needs_background": "light"
          }
        }
      ]
    },
    {
      "cell_type": "code",
      "metadata": {
        "id": "HECnOXncxUn7"
      },
      "source": [
        "IQR = segunda['NUM'].describe()[6] - segunda['NUM'].describe()[4]\n",
        "segunda = segunda[(segunda.NUM > (segunda['NUM'].describe()[4] - IQR)) & (segunda.NUM < (segunda['NUM'].describe()[6] + IQR))]"
      ],
      "execution_count": 36,
      "outputs": []
    },
    {
      "cell_type": "code",
      "metadata": {
        "colab": {
          "base_uri": "https://localhost:8080/",
          "height": 281
        },
        "id": "M1xmnHZKxfnb",
        "outputId": "7bb9df85-759d-4402-cce1-9c15ee728f96"
      },
      "source": [
        "(segunda['NUM']).hist()"
      ],
      "execution_count": 37,
      "outputs": [
        {
          "output_type": "execute_result",
          "data": {
            "text/plain": [
              "<matplotlib.axes._subplots.AxesSubplot at 0x7f7d38d65e90>"
            ]
          },
          "metadata": {
            "tags": []
          },
          "execution_count": 37
        },
        {
          "output_type": "display_data",
          "data": {
            "image/png": "[encoded data removed]",
            "text/plain": [
              "<Figure size 432x288 with 1 Axes>"
            ]
          },
          "metadata": {
            "tags": [],
            "needs_background": "light"
          }
        }
      ]
    },
    {
      "cell_type": "code",
      "metadata": {
        "colab": {
          "base_uri": "https://localhost:8080/",
          "height": 281
        },
        "id": "Ru5HqVWSxhoJ",
        "outputId": "f9c1f0c2-784a-4d0d-9ee7-41597a2f7de7"
      },
      "source": [
        "segunda.boxplot(column=['NUM'])"
      ],
      "execution_count": 38,
      "outputs": [
        {
          "output_type": "execute_result",
          "data": {
            "text/plain": [
              "<matplotlib.axes._subplots.AxesSubplot at 0x7f7d38c6f810>"
            ]
          },
          "metadata": {
            "tags": []
          },
          "execution_count": 38
        },
        {
          "output_type": "display_data",
          "data": {
            "image/png": "[encoded data removed]",
            "text/plain": [
              "<Figure size 432x288 with 1 Axes>"
            ]
          },
          "metadata": {
            "tags": [],
            "needs_background": "light"
          }
        }
      ]
    },
    {
      "cell_type": "code",
      "metadata": {
        "colab": {
          "base_uri": "https://localhost:8080/",
          "height": 287
        },
        "id": "HtUkbi1qI_Gx",
        "outputId": "bec932a6-44c7-4c4e-fec6-c3459398ed40"
      },
      "source": [
        "terca = acidentes2[acidentes2.DIA_DA_SEMANA == 'Terca']\n",
        "terca.describe() "
      ],
      "execution_count": 39,
      "outputs": [
        {
          "output_type": "execute_result",
          "data": {
            "text/html": [
              "<div>\n",
              "<style scoped>\n",
              "    .dataframe tbody tr th:only-of-type {\n",
              "        vertical-align: middle;\n",
              "    }\n",
              "\n",
              "    .dataframe tbody tr th {\n",
              "        vertical-align: top;\n",
              "    }\n",
              "\n",
              "    .dataframe thead th {\n",
              "        text-align: right;\n",
              "    }\n",
              "</style>\n",
              "<table border=\"1\" class=\"dataframe\">\n",
              "  <thead>\n",
              "    <tr style=\"text-align: right;\">\n",
              "      <th></th>\n",
              "      <th>NUM</th>\n",
              "    </tr>\n",
              "  </thead>\n",
              "  <tbody>\n",
              "    <tr>\n",
              "      <th>count</th>\n",
              "      <td>294.000000</td>\n",
              "    </tr>\n",
              "    <tr>\n",
              "      <th>mean</th>\n",
              "      <td>31.517007</td>\n",
              "    </tr>\n",
              "    <tr>\n",
              "      <th>std</th>\n",
              "      <td>13.420149</td>\n",
              "    </tr>\n",
              "    <tr>\n",
              "      <th>min</th>\n",
              "      <td>1.000000</td>\n",
              "    </tr>\n",
              "    <tr>\n",
              "      <th>25%</th>\n",
              "      <td>26.000000</td>\n",
              "    </tr>\n",
              "    <tr>\n",
              "      <th>50%</th>\n",
              "      <td>35.000000</td>\n",
              "    </tr>\n",
              "    <tr>\n",
              "      <th>75%</th>\n",
              "      <td>40.000000</td>\n",
              "    </tr>\n",
              "    <tr>\n",
              "      <th>max</th>\n",
              "      <td>59.000000</td>\n",
              "    </tr>\n",
              "  </tbody>\n",
              "</table>\n",
              "</div>"
            ],
            "text/plain": [
              "              NUM\n",
              "count  294.000000\n",
              "mean    31.517007\n",
              "std     13.420149\n",
              "min      1.000000\n",
              "25%     26.000000\n",
              "50%     35.000000\n",
              "75%     40.000000\n",
              "max     59.000000"
            ]
          },
          "metadata": {
            "tags": []
          },
          "execution_count": 39
        }
      ]
    },
    {
      "cell_type": "code",
      "metadata": {
        "colab": {
          "base_uri": "https://localhost:8080/",
          "height": 281
        },
        "id": "m0WyTOT1cuKF",
        "outputId": "d2858f19-ee93-436d-b4f7-047cc6c61f02"
      },
      "source": [
        "(terca['NUM']).hist()"
      ],
      "execution_count": 40,
      "outputs": [
        {
          "output_type": "execute_result",
          "data": {
            "text/plain": [
              "<matplotlib.axes._subplots.AxesSubplot at 0x7f7d38b96ad0>"
            ]
          },
          "metadata": {
            "tags": []
          },
          "execution_count": 40
        },
        {
          "output_type": "display_data",
          "data": {
            "image/png": "[encoded data removed]",
            "text/plain": [
              "<Figure size 432x288 with 1 Axes>"
            ]
          },
          "metadata": {
            "tags": [],
            "needs_background": "light"
          }
        }
      ]
    },
    {
      "cell_type": "code",
      "metadata": {
        "id": "lUdQ9L5xhdoQ",
        "colab": {
          "base_uri": "https://localhost:8080/",
          "height": 281
        },
        "outputId": "d0b2e3f4-a169-4663-b52a-87317ee662d0"
      },
      "source": [
        "terca.boxplot(column=['NUM'])"
      ],
      "execution_count": 41,
      "outputs": [
        {
          "output_type": "execute_result",
          "data": {
            "text/plain": [
              "<matplotlib.axes._subplots.AxesSubplot at 0x7f7d38b7b750>"
            ]
          },
          "metadata": {
            "tags": []
          },
          "execution_count": 41
        },
        {
          "output_type": "display_data",
          "data": {
            "image/png": "[encoded data removed]",
            "text/plain": [
              "<Figure size 432x288 with 1 Axes>"
            ]
          },
          "metadata": {
            "tags": [],
            "needs_background": "light"
          }
        }
      ]
    },
    {
      "cell_type": "code",
      "metadata": {
        "id": "tdn4HGFR0_BC"
      },
      "source": [
        "IQR = terca['NUM'].describe()[6] - terca['NUM'].describe()[4]\n",
        "terca = terca[(terca.NUM > (terca['NUM'].describe()[4] - IQR)) & (terca.NUM < (terca['NUM'].describe()[6] + IQR))]"
      ],
      "execution_count": 42,
      "outputs": []
    },
    {
      "cell_type": "code",
      "metadata": {
        "colab": {
          "base_uri": "https://localhost:8080/",
          "height": 281
        },
        "id": "UWwDFNhIJEz_",
        "outputId": "9a9a92dc-d1c0-4968-89c4-94d91731ae18"
      },
      "source": [
        "(terca['NUM']).hist()"
      ],
      "execution_count": 43,
      "outputs": [
        {
          "output_type": "execute_result",
          "data": {
            "text/plain": [
              "<matplotlib.axes._subplots.AxesSubplot at 0x7f7d3859fd10>"
            ]
          },
          "metadata": {
            "tags": []
          },
          "execution_count": 43
        },
        {
          "output_type": "display_data",
          "data": {
            "image/png": "[encoded data removed]",
            "text/plain": [
              "<Figure size 432x288 with 1 Axes>"
            ]
          },
          "metadata": {
            "tags": [],
            "needs_background": "light"
          }
        }
      ]
    },
    {
      "cell_type": "code",
      "metadata": {
        "colab": {
          "base_uri": "https://localhost:8080/",
          "height": 285
        },
        "id": "jd9JyxUj49T4",
        "outputId": "da82b78e-a19d-412e-f9c4-79af9050de79"
      },
      "source": [
        "terca.boxplot(column=['NUM'])"
      ],
      "execution_count": 44,
      "outputs": [
        {
          "output_type": "execute_result",
          "data": {
            "text/plain": [
              "<matplotlib.axes._subplots.AxesSubplot at 0x7f7d3857bcd0>"
            ]
          },
          "metadata": {
            "tags": []
          },
          "execution_count": 44
        },
        {
          "output_type": "display_data",
          "data": {
            "image/png": "[encoded data removed]",
            "text/plain": [
              "<Figure size 432x288 with 1 Axes>"
            ]
          },
          "metadata": {
            "tags": [],
            "needs_background": "light"
          }
        }
      ]
    },
    {
      "cell_type": "code",
      "metadata": {
        "colab": {
          "base_uri": "https://localhost:8080/",
          "height": 287
        },
        "id": "v8yava5pNi2a",
        "outputId": "c83a36d1-b6b2-43c9-ec9f-7a0e8b218451"
      },
      "source": [
        "quarta = acidentes2[acidentes2.DIA_DA_SEMANA == 'Quarta']\n",
        "quarta.describe() "
      ],
      "execution_count": 51,
      "outputs": [
        {
          "output_type": "execute_result",
          "data": {
            "text/html": [
              "<div>\n",
              "<style scoped>\n",
              "    .dataframe tbody tr th:only-of-type {\n",
              "        vertical-align: middle;\n",
              "    }\n",
              "\n",
              "    .dataframe tbody tr th {\n",
              "        vertical-align: top;\n",
              "    }\n",
              "\n",
              "    .dataframe thead th {\n",
              "        text-align: right;\n",
              "    }\n",
              "</style>\n",
              "<table border=\"1\" class=\"dataframe\">\n",
              "  <thead>\n",
              "    <tr style=\"text-align: right;\">\n",
              "      <th></th>\n",
              "      <th>NUM</th>\n",
              "    </tr>\n",
              "  </thead>\n",
              "  <tbody>\n",
              "    <tr>\n",
              "      <th>count</th>\n",
              "      <td>294.000000</td>\n",
              "    </tr>\n",
              "    <tr>\n",
              "      <th>mean</th>\n",
              "      <td>31.414966</td>\n",
              "    </tr>\n",
              "    <tr>\n",
              "      <th>std</th>\n",
              "      <td>12.999261</td>\n",
              "    </tr>\n",
              "    <tr>\n",
              "      <th>min</th>\n",
              "      <td>1.000000</td>\n",
              "    </tr>\n",
              "    <tr>\n",
              "      <th>25%</th>\n",
              "      <td>26.000000</td>\n",
              "    </tr>\n",
              "    <tr>\n",
              "      <th>50%</th>\n",
              "      <td>34.000000</td>\n",
              "    </tr>\n",
              "    <tr>\n",
              "      <th>75%</th>\n",
              "      <td>41.000000</td>\n",
              "    </tr>\n",
              "    <tr>\n",
              "      <th>max</th>\n",
              "      <td>59.000000</td>\n",
              "    </tr>\n",
              "  </tbody>\n",
              "</table>\n",
              "</div>"
            ],
            "text/plain": [
              "              NUM\n",
              "count  294.000000\n",
              "mean    31.414966\n",
              "std     12.999261\n",
              "min      1.000000\n",
              "25%     26.000000\n",
              "50%     34.000000\n",
              "75%     41.000000\n",
              "max     59.000000"
            ]
          },
          "metadata": {
            "tags": []
          },
          "execution_count": 51
        }
      ]
    },
    {
      "cell_type": "code",
      "metadata": {
        "colab": {
          "base_uri": "https://localhost:8080/",
          "height": 281
        },
        "id": "HKk8_D_5c1BH",
        "outputId": "d5b8c521-c439-4022-bbf6-44fc3414edba"
      },
      "source": [
        "(quarta['NUM']).hist()"
      ],
      "execution_count": 52,
      "outputs": [
        {
          "output_type": "execute_result",
          "data": {
            "text/plain": [
              "<matplotlib.axes._subplots.AxesSubplot at 0x7f7d38585c90>"
            ]
          },
          "metadata": {
            "tags": []
          },
          "execution_count": 52
        },
        {
          "output_type": "display_data",
          "data": {
            "image/png": "[encoded data removed]",
            "text/plain": [
              "<Figure size 432x288 with 1 Axes>"
            ]
          },
          "metadata": {
            "tags": [],
            "needs_background": "light"
          }
        }
      ]
    },
    {
      "cell_type": "code",
      "metadata": {
        "colab": {
          "base_uri": "https://localhost:8080/",
          "height": 281
        },
        "id": "HYJD2lRvha0q",
        "outputId": "7fc933e8-d12a-445a-946e-260d73e81196"
      },
      "source": [
        "quarta.boxplot(column=['NUM'])"
      ],
      "execution_count": 53,
      "outputs": [
        {
          "output_type": "execute_result",
          "data": {
            "text/plain": [
              "<matplotlib.axes._subplots.AxesSubplot at 0x7f7d41534850>"
            ]
          },
          "metadata": {
            "tags": []
          },
          "execution_count": 53
        },
        {
          "output_type": "display_data",
          "data": {
            "image/png": "[encoded data removed]",
            "text/plain": [
              "<Figure size 432x288 with 1 Axes>"
            ]
          },
          "metadata": {
            "tags": [],
            "needs_background": "light"
          }
        }
      ]
    },
    {
      "cell_type": "code",
      "metadata": {
        "id": "P7tIJyTtxu4E"
      },
      "source": [
        "IQR = quarta['NUM'].describe()[6] - quarta['NUM'].describe()[4]\n",
        "quarta = quarta[(quarta.NUM > (quarta['NUM'].describe()[4] - IQR)) & (quarta.NUM < (quarta['NUM'].describe()[6] + IQR))]"
      ],
      "execution_count": 54,
      "outputs": []
    },
    {
      "cell_type": "code",
      "metadata": {
        "colab": {
          "base_uri": "https://localhost:8080/",
          "height": 281
        },
        "id": "G5rq4E2iyPit",
        "outputId": "4f6ff3d8-d6c3-46b7-baa6-13ee4b3288f2"
      },
      "source": [
        "(quarta['NUM']).hist()"
      ],
      "execution_count": 55,
      "outputs": [
        {
          "output_type": "execute_result",
          "data": {
            "text/plain": [
              "<matplotlib.axes._subplots.AxesSubplot at 0x7f7d38490510>"
            ]
          },
          "metadata": {
            "tags": []
          },
          "execution_count": 55
        },
        {
          "output_type": "display_data",
          "data": {
            "image/png": "[encoded data removed]",
            "text/plain": [
              "<Figure size 432x288 with 1 Axes>"
            ]
          },
          "metadata": {
            "tags": [],
            "needs_background": "light"
          }
        }
      ]
    },
    {
      "cell_type": "code",
      "metadata": {
        "colab": {
          "base_uri": "https://localhost:8080/",
          "height": 281
        },
        "id": "G-Xa4XXIySGG",
        "outputId": "458ec323-d3f7-408b-bcbc-ac17ad1392cf"
      },
      "source": [
        "quarta.boxplot(column=['NUM'])"
      ],
      "execution_count": 56,
      "outputs": [
        {
          "output_type": "execute_result",
          "data": {
            "text/plain": [
              "<matplotlib.axes._subplots.AxesSubplot at 0x7f7d382fa550>"
            ]
          },
          "metadata": {
            "tags": []
          },
          "execution_count": 56
        },
        {
          "output_type": "display_data",
          "data": {
            "image/png": "[encoded data removed]",
            "text/plain": [
              "<Figure size 432x288 with 1 Axes>"
            ]
          },
          "metadata": {
            "tags": [],
            "needs_background": "light"
          }
        }
      ]
    },
    {
      "cell_type": "code",
      "metadata": {
        "colab": {
          "base_uri": "https://localhost:8080/",
          "height": 287
        },
        "id": "lmF6_YcLJGXI",
        "outputId": "3b708ad4-92b7-4a07-8a11-5189e8316d9c"
      },
      "source": [
        "quinta = acidentes2[acidentes2.DIA_DA_SEMANA == 'Quinta']\n",
        "quinta.describe() "
      ],
      "execution_count": 57,
      "outputs": [
        {
          "output_type": "execute_result",
          "data": {
            "text/html": [
              "<div>\n",
              "<style scoped>\n",
              "    .dataframe tbody tr th:only-of-type {\n",
              "        vertical-align: middle;\n",
              "    }\n",
              "\n",
              "    .dataframe tbody tr th {\n",
              "        vertical-align: top;\n",
              "    }\n",
              "\n",
              "    .dataframe thead th {\n",
              "        text-align: right;\n",
              "    }\n",
              "</style>\n",
              "<table border=\"1\" class=\"dataframe\">\n",
              "  <thead>\n",
              "    <tr style=\"text-align: right;\">\n",
              "      <th></th>\n",
              "      <th>NUM</th>\n",
              "    </tr>\n",
              "  </thead>\n",
              "  <tbody>\n",
              "    <tr>\n",
              "      <th>count</th>\n",
              "      <td>294.000000</td>\n",
              "    </tr>\n",
              "    <tr>\n",
              "      <th>mean</th>\n",
              "      <td>31.578231</td>\n",
              "    </tr>\n",
              "    <tr>\n",
              "      <th>std</th>\n",
              "      <td>13.260028</td>\n",
              "    </tr>\n",
              "    <tr>\n",
              "      <th>min</th>\n",
              "      <td>1.000000</td>\n",
              "    </tr>\n",
              "    <tr>\n",
              "      <th>25%</th>\n",
              "      <td>27.000000</td>\n",
              "    </tr>\n",
              "    <tr>\n",
              "      <th>50%</th>\n",
              "      <td>34.500000</td>\n",
              "    </tr>\n",
              "    <tr>\n",
              "      <th>75%</th>\n",
              "      <td>41.000000</td>\n",
              "    </tr>\n",
              "    <tr>\n",
              "      <th>max</th>\n",
              "      <td>65.000000</td>\n",
              "    </tr>\n",
              "  </tbody>\n",
              "</table>\n",
              "</div>"
            ],
            "text/plain": [
              "              NUM\n",
              "count  294.000000\n",
              "mean    31.578231\n",
              "std     13.260028\n",
              "min      1.000000\n",
              "25%     27.000000\n",
              "50%     34.500000\n",
              "75%     41.000000\n",
              "max     65.000000"
            ]
          },
          "metadata": {
            "tags": []
          },
          "execution_count": 57
        }
      ]
    },
    {
      "cell_type": "code",
      "metadata": {
        "colab": {
          "base_uri": "https://localhost:8080/",
          "height": 281
        },
        "id": "jQa2l_cfc5J8",
        "outputId": "8a667f04-3c37-4157-c114-53f056f84ce5"
      },
      "source": [
        "(quinta['NUM']).hist()"
      ],
      "execution_count": 58,
      "outputs": [
        {
          "output_type": "execute_result",
          "data": {
            "text/plain": [
              "<matplotlib.axes._subplots.AxesSubplot at 0x7f7d38be15d0>"
            ]
          },
          "metadata": {
            "tags": []
          },
          "execution_count": 58
        },
        {
          "output_type": "display_data",
          "data": {
            "image/png": "[encoded data removed]",
            "text/plain": [
              "<Figure size 432x288 with 1 Axes>"
            ]
          },
          "metadata": {
            "tags": [],
            "needs_background": "light"
          }
        }
      ]
    },
    {
      "cell_type": "code",
      "metadata": {
        "colab": {
          "base_uri": "https://localhost:8080/",
          "height": 281
        },
        "id": "rKu9gA3HhXJN",
        "outputId": "7bb0dccf-7925-4912-d8bd-98212078d96d"
      },
      "source": [
        "quinta.boxplot(column=['NUM'])"
      ],
      "execution_count": 59,
      "outputs": [
        {
          "output_type": "execute_result",
          "data": {
            "text/plain": [
              "<matplotlib.axes._subplots.AxesSubplot at 0x7f7d381e1190>"
            ]
          },
          "metadata": {
            "tags": []
          },
          "execution_count": 59
        },
        {
          "output_type": "display_data",
          "data": {
            "image/png": "[encoded data removed]",
            "text/plain": [
              "<Figure size 432x288 with 1 Axes>"
            ]
          },
          "metadata": {
            "tags": [],
            "needs_background": "light"
          }
        }
      ]
    },
    {
      "cell_type": "code",
      "metadata": {
        "id": "rY0vSsemx3DK"
      },
      "source": [
        "IQR = quinta['NUM'].describe()[6] - quinta['NUM'].describe()[4]\n",
        "quinta = quinta[(quinta.NUM > (quinta['NUM'].describe()[4] - IQR)) & (quinta.NUM < (quinta['NUM'].describe()[6] + IQR))]"
      ],
      "execution_count": 60,
      "outputs": []
    },
    {
      "cell_type": "code",
      "metadata": {
        "colab": {
          "base_uri": "https://localhost:8080/",
          "height": 281
        },
        "id": "jMCAomBSyVDN",
        "outputId": "51965ffe-6e09-438e-f167-b0876ef8ad91"
      },
      "source": [
        "(quinta['NUM']).hist()"
      ],
      "execution_count": 61,
      "outputs": [
        {
          "output_type": "execute_result",
          "data": {
            "text/plain": [
              "<matplotlib.axes._subplots.AxesSubplot at 0x7f7d382dca10>"
            ]
          },
          "metadata": {
            "tags": []
          },
          "execution_count": 61
        },
        {
          "output_type": "display_data",
          "data": {
            "image/png": "[encoded data removed]",
            "text/plain": [
              "<Figure size 432x288 with 1 Axes>"
            ]
          },
          "metadata": {
            "tags": [],
            "needs_background": "light"
          }
        }
      ]
    },
    {
      "cell_type": "code",
      "metadata": {
        "colab": {
          "base_uri": "https://localhost:8080/",
          "height": 281
        },
        "id": "rdOuwIV3yXFX",
        "outputId": "96bd7cd3-910b-44b1-c8e7-693d1d8eade3"
      },
      "source": [
        "quinta.boxplot(column=['NUM'])"
      ],
      "execution_count": 62,
      "outputs": [
        {
          "output_type": "execute_result",
          "data": {
            "text/plain": [
              "<matplotlib.axes._subplots.AxesSubplot at 0x7f7d380e3b10>"
            ]
          },
          "metadata": {
            "tags": []
          },
          "execution_count": 62
        },
        {
          "output_type": "display_data",
          "data": {
            "image/png": "[encoded data removed]",
            "text/plain": [
              "<Figure size 432x288 with 1 Axes>"
            ]
          },
          "metadata": {
            "tags": [],
            "needs_background": "light"
          }
        }
      ]
    },
    {
      "cell_type": "code",
      "metadata": {
        "id": "0w1x1nb1JH3-",
        "colab": {
          "base_uri": "https://localhost:8080/",
          "height": 287
        },
        "outputId": "e41f7fb3-3f59-4536-a4f4-98cf9be65e4d"
      },
      "source": [
        "sexta = acidentes2[acidentes2.DIA_DA_SEMANA == 'Sexta']\n",
        "sexta.describe() "
      ],
      "execution_count": 63,
      "outputs": [
        {
          "output_type": "execute_result",
          "data": {
            "text/html": [
              "<div>\n",
              "<style scoped>\n",
              "    .dataframe tbody tr th:only-of-type {\n",
              "        vertical-align: middle;\n",
              "    }\n",
              "\n",
              "    .dataframe tbody tr th {\n",
              "        vertical-align: top;\n",
              "    }\n",
              "\n",
              "    .dataframe thead th {\n",
              "        text-align: right;\n",
              "    }\n",
              "</style>\n",
              "<table border=\"1\" class=\"dataframe\">\n",
              "  <thead>\n",
              "    <tr style=\"text-align: right;\">\n",
              "      <th></th>\n",
              "      <th>NUM</th>\n",
              "    </tr>\n",
              "  </thead>\n",
              "  <tbody>\n",
              "    <tr>\n",
              "      <th>count</th>\n",
              "      <td>294.000000</td>\n",
              "    </tr>\n",
              "    <tr>\n",
              "      <th>mean</th>\n",
              "      <td>32.095238</td>\n",
              "    </tr>\n",
              "    <tr>\n",
              "      <th>std</th>\n",
              "      <td>14.581925</td>\n",
              "    </tr>\n",
              "    <tr>\n",
              "      <th>min</th>\n",
              "      <td>2.000000</td>\n",
              "    </tr>\n",
              "    <tr>\n",
              "      <th>25%</th>\n",
              "      <td>23.250000</td>\n",
              "    </tr>\n",
              "    <tr>\n",
              "      <th>50%</th>\n",
              "      <td>36.000000</td>\n",
              "    </tr>\n",
              "    <tr>\n",
              "      <th>75%</th>\n",
              "      <td>42.000000</td>\n",
              "    </tr>\n",
              "    <tr>\n",
              "      <th>max</th>\n",
              "      <td>63.000000</td>\n",
              "    </tr>\n",
              "  </tbody>\n",
              "</table>\n",
              "</div>"
            ],
            "text/plain": [
              "              NUM\n",
              "count  294.000000\n",
              "mean    32.095238\n",
              "std     14.581925\n",
              "min      2.000000\n",
              "25%     23.250000\n",
              "50%     36.000000\n",
              "75%     42.000000\n",
              "max     63.000000"
            ]
          },
          "metadata": {
            "tags": []
          },
          "execution_count": 63
        }
      ]
    },
    {
      "cell_type": "code",
      "metadata": {
        "colab": {
          "base_uri": "https://localhost:8080/",
          "height": 281
        },
        "id": "7GHU7Xq9c5Iq",
        "outputId": "c3681879-217b-46bc-dd7f-459a8ece06b6"
      },
      "source": [
        "(sexta['NUM']).hist()"
      ],
      "execution_count": 64,
      "outputs": [
        {
          "output_type": "execute_result",
          "data": {
            "text/plain": [
              "<matplotlib.axes._subplots.AxesSubplot at 0x7f7d38067790>"
            ]
          },
          "metadata": {
            "tags": []
          },
          "execution_count": 64
        },
        {
          "output_type": "display_data",
          "data": {
            "image/png": "[encoded data removed]",
            "text/plain": [
              "<Figure size 432x288 with 1 Axes>"
            ]
          },
          "metadata": {
            "tags": [],
            "needs_background": "light"
          }
        }
      ]
    },
    {
      "cell_type": "code",
      "metadata": {
        "colab": {
          "base_uri": "https://localhost:8080/",
          "height": 281
        },
        "id": "hxWgvCPKhUAV",
        "outputId": "1b7e9390-59f5-4305-da56-fa40a8ee5881"
      },
      "source": [
        "sexta.boxplot(column=['NUM'])"
      ],
      "execution_count": 65,
      "outputs": [
        {
          "output_type": "execute_result",
          "data": {
            "text/plain": [
              "<matplotlib.axes._subplots.AxesSubplot at 0x7f7d37fea8d0>"
            ]
          },
          "metadata": {
            "tags": []
          },
          "execution_count": 65
        },
        {
          "output_type": "display_data",
          "data": {
            "image/png": "[encoded data removed]",
            "text/plain": [
              "<Figure size 432x288 with 1 Axes>"
            ]
          },
          "metadata": {
            "tags": [],
            "needs_background": "light"
          }
        }
      ]
    },
    {
      "cell_type": "code",
      "metadata": {
        "id": "S6o1jhnJx6mI"
      },
      "source": [
        "IQR = sexta['NUM'].describe()[6] - sexta['NUM'].describe()[4]\n",
        "sexta = sexta[(sexta.NUM > (sexta['NUM'].describe()[4] - IQR)) & (sexta.NUM < (sexta['NUM'].describe()[6] + IQR))]"
      ],
      "execution_count": 66,
      "outputs": []
    },
    {
      "cell_type": "code",
      "metadata": {
        "colab": {
          "base_uri": "https://localhost:8080/",
          "height": 281
        },
        "id": "EtFAtp9oyZcL",
        "outputId": "47fdd41a-9d9b-4b77-cf93-e692f6a332ae"
      },
      "source": [
        "(sexta['NUM']).hist()"
      ],
      "execution_count": 67,
      "outputs": [
        {
          "output_type": "execute_result",
          "data": {
            "text/plain": [
              "<matplotlib.axes._subplots.AxesSubplot at 0x7f7d37f60450>"
            ]
          },
          "metadata": {
            "tags": []
          },
          "execution_count": 67
        },
        {
          "output_type": "display_data",
          "data": {
            "image/png": "[encoded data removed]",
            "text/plain": [
              "<Figure size 432x288 with 1 Axes>"
            ]
          },
          "metadata": {
            "tags": [],
            "needs_background": "light"
          }
        }
      ]
    },
    {
      "cell_type": "code",
      "metadata": {
        "colab": {
          "base_uri": "https://localhost:8080/",
          "height": 281
        },
        "id": "VQkujaA3ybgr",
        "outputId": "848c64ee-3059-4e26-ca74-61db0514872e"
      },
      "source": [
        "sexta.boxplot(column=['NUM'])"
      ],
      "execution_count": 68,
      "outputs": [
        {
          "output_type": "execute_result",
          "data": {
            "text/plain": [
              "<matplotlib.axes._subplots.AxesSubplot at 0x7f7d37ed3dd0>"
            ]
          },
          "metadata": {
            "tags": []
          },
          "execution_count": 68
        },
        {
          "output_type": "display_data",
          "data": {
            "image/png": "[encoded data removed]",
            "text/plain": [
              "<Figure size 432x288 with 1 Axes>"
            ]
          },
          "metadata": {
            "tags": [],
            "needs_background": "light"
          }
        }
      ]
    },
    {
      "cell_type": "code",
      "metadata": {
        "id": "YdKiP6EhJJ4_",
        "colab": {
          "base_uri": "https://localhost:8080/",
          "height": 287
        },
        "outputId": "632e717f-2816-4751-971a-835e6a32cd45"
      },
      "source": [
        "sabado = acidentes2[acidentes2.DIA_DA_SEMANA == 'Sabado']\n",
        "sabado.describe() "
      ],
      "execution_count": 69,
      "outputs": [
        {
          "output_type": "execute_result",
          "data": {
            "text/html": [
              "<div>\n",
              "<style scoped>\n",
              "    .dataframe tbody tr th:only-of-type {\n",
              "        vertical-align: middle;\n",
              "    }\n",
              "\n",
              "    .dataframe tbody tr th {\n",
              "        vertical-align: top;\n",
              "    }\n",
              "\n",
              "    .dataframe thead th {\n",
              "        text-align: right;\n",
              "    }\n",
              "</style>\n",
              "<table border=\"1\" class=\"dataframe\">\n",
              "  <thead>\n",
              "    <tr style=\"text-align: right;\">\n",
              "      <th></th>\n",
              "      <th>NUM</th>\n",
              "    </tr>\n",
              "  </thead>\n",
              "  <tbody>\n",
              "    <tr>\n",
              "      <th>count</th>\n",
              "      <td>294.000000</td>\n",
              "    </tr>\n",
              "    <tr>\n",
              "      <th>mean</th>\n",
              "      <td>23.418367</td>\n",
              "    </tr>\n",
              "    <tr>\n",
              "      <th>std</th>\n",
              "      <td>9.813542</td>\n",
              "    </tr>\n",
              "    <tr>\n",
              "      <th>min</th>\n",
              "      <td>1.000000</td>\n",
              "    </tr>\n",
              "    <tr>\n",
              "      <th>25%</th>\n",
              "      <td>19.000000</td>\n",
              "    </tr>\n",
              "    <tr>\n",
              "      <th>50%</th>\n",
              "      <td>25.000000</td>\n",
              "    </tr>\n",
              "    <tr>\n",
              "      <th>75%</th>\n",
              "      <td>29.750000</td>\n",
              "    </tr>\n",
              "    <tr>\n",
              "      <th>max</th>\n",
              "      <td>48.000000</td>\n",
              "    </tr>\n",
              "  </tbody>\n",
              "</table>\n",
              "</div>"
            ],
            "text/plain": [
              "              NUM\n",
              "count  294.000000\n",
              "mean    23.418367\n",
              "std      9.813542\n",
              "min      1.000000\n",
              "25%     19.000000\n",
              "50%     25.000000\n",
              "75%     29.750000\n",
              "max     48.000000"
            ]
          },
          "metadata": {
            "tags": []
          },
          "execution_count": 69
        }
      ]
    },
    {
      "cell_type": "code",
      "metadata": {
        "colab": {
          "base_uri": "https://localhost:8080/",
          "height": 283
        },
        "id": "MNsrwgnWc-fs",
        "outputId": "aa56e8dc-7674-402d-bf6b-4311bf7952c4"
      },
      "source": [
        "(sabado['NUM']).hist()"
      ],
      "execution_count": 70,
      "outputs": [
        {
          "output_type": "execute_result",
          "data": {
            "text/plain": [
              "<matplotlib.axes._subplots.AxesSubplot at 0x7f7d37e5d990>"
            ]
          },
          "metadata": {
            "tags": []
          },
          "execution_count": 70
        },
        {
          "output_type": "display_data",
          "data": {
            "image/png": "[encoded data removed]",
            "text/plain": [
              "<Figure size 432x288 with 1 Axes>"
            ]
          },
          "metadata": {
            "tags": [],
            "needs_background": "light"
          }
        }
      ]
    },
    {
      "cell_type": "code",
      "metadata": {
        "colab": {
          "base_uri": "https://localhost:8080/",
          "height": 284
        },
        "id": "DLwsxuDvhQdF",
        "outputId": "f79e44ae-dd94-4c4d-a35c-d62b2474c05b"
      },
      "source": [
        "sabado.boxplot(column=['NUM'])"
      ],
      "execution_count": 71,
      "outputs": [
        {
          "output_type": "execute_result",
          "data": {
            "text/plain": [
              "<matplotlib.axes._subplots.AxesSubplot at 0x7f7d37e25c10>"
            ]
          },
          "metadata": {
            "tags": []
          },
          "execution_count": 71
        },
        {
          "output_type": "display_data",
          "data": {
            "image/png": "[encoded data removed]",
            "text/plain": [
              "<Figure size 432x288 with 1 Axes>"
            ]
          },
          "metadata": {
            "tags": [],
            "needs_background": "light"
          }
        }
      ]
    },
    {
      "cell_type": "code",
      "metadata": {
        "id": "J6-SRCQrx-Hx"
      },
      "source": [
        "IQR = sabado['NUM'].describe()[6] - sabado['NUM'].describe()[4]\n",
        "sabado = sabado[(sabado.NUM > (sabado['NUM'].describe()[4] - IQR)) & (sabado.NUM < (sabado['NUM'].describe()[6] + IQR))]"
      ],
      "execution_count": 72,
      "outputs": []
    },
    {
      "cell_type": "code",
      "metadata": {
        "colab": {
          "base_uri": "https://localhost:8080/",
          "height": 281
        },
        "id": "LfkChsyJyeL6",
        "outputId": "0602292d-e9e4-407e-b16a-5fe0a15687e2"
      },
      "source": [
        "(sabado['NUM']).hist()"
      ],
      "execution_count": 73,
      "outputs": [
        {
          "output_type": "execute_result",
          "data": {
            "text/plain": [
              "<matplotlib.axes._subplots.AxesSubplot at 0x7f7d37d57150>"
            ]
          },
          "metadata": {
            "tags": []
          },
          "execution_count": 73
        },
        {
          "output_type": "display_data",
          "data": {
            "image/png": "[encoded data removed]",
            "text/plain": [
              "<Figure size 432x288 with 1 Axes>"
            ]
          },
          "metadata": {
            "tags": [],
            "needs_background": "light"
          }
        }
      ]
    },
    {
      "cell_type": "code",
      "metadata": {
        "colab": {
          "base_uri": "https://localhost:8080/",
          "height": 281
        },
        "id": "XwifOIaMyfwx",
        "outputId": "3915b4fc-46a8-4176-fa91-28f1e197f728"
      },
      "source": [
        "sabado.boxplot(column=['NUM'])"
      ],
      "execution_count": 74,
      "outputs": [
        {
          "output_type": "execute_result",
          "data": {
            "text/plain": [
              "<matplotlib.axes._subplots.AxesSubplot at 0x7f7d37cd9690>"
            ]
          },
          "metadata": {
            "tags": []
          },
          "execution_count": 74
        },
        {
          "output_type": "display_data",
          "data": {
            "image/png": "[encoded data removed]",
            "text/plain": [
              "<Figure size 432x288 with 1 Axes>"
            ]
          },
          "metadata": {
            "tags": [],
            "needs_background": "light"
          }
        }
      ]
    },
    {
      "cell_type": "code",
      "metadata": {
        "id": "YIjAyxgeJL_J",
        "colab": {
          "base_uri": "https://localhost:8080/",
          "height": 287
        },
        "outputId": "a0c01ab0-e78d-426b-9934-4ed5bf97abf2"
      },
      "source": [
        "domingo = acidentes2[acidentes2.DIA_DA_SEMANA == 'Domingo']\n",
        "domingo.describe() "
      ],
      "execution_count": 75,
      "outputs": [
        {
          "output_type": "execute_result",
          "data": {
            "text/html": [
              "<div>\n",
              "<style scoped>\n",
              "    .dataframe tbody tr th:only-of-type {\n",
              "        vertical-align: middle;\n",
              "    }\n",
              "\n",
              "    .dataframe tbody tr th {\n",
              "        vertical-align: top;\n",
              "    }\n",
              "\n",
              "    .dataframe thead th {\n",
              "        text-align: right;\n",
              "    }\n",
              "</style>\n",
              "<table border=\"1\" class=\"dataframe\">\n",
              "  <thead>\n",
              "    <tr style=\"text-align: right;\">\n",
              "      <th></th>\n",
              "      <th>NUM</th>\n",
              "    </tr>\n",
              "  </thead>\n",
              "  <tbody>\n",
              "    <tr>\n",
              "      <th>count</th>\n",
              "      <td>294.000000</td>\n",
              "    </tr>\n",
              "    <tr>\n",
              "      <th>mean</th>\n",
              "      <td>16.282313</td>\n",
              "    </tr>\n",
              "    <tr>\n",
              "      <th>std</th>\n",
              "      <td>6.926126</td>\n",
              "    </tr>\n",
              "    <tr>\n",
              "      <th>min</th>\n",
              "      <td>1.000000</td>\n",
              "    </tr>\n",
              "    <tr>\n",
              "      <th>25%</th>\n",
              "      <td>12.250000</td>\n",
              "    </tr>\n",
              "    <tr>\n",
              "      <th>50%</th>\n",
              "      <td>17.000000</td>\n",
              "    </tr>\n",
              "    <tr>\n",
              "      <th>75%</th>\n",
              "      <td>21.000000</td>\n",
              "    </tr>\n",
              "    <tr>\n",
              "      <th>max</th>\n",
              "      <td>36.000000</td>\n",
              "    </tr>\n",
              "  </tbody>\n",
              "</table>\n",
              "</div>"
            ],
            "text/plain": [
              "              NUM\n",
              "count  294.000000\n",
              "mean    16.282313\n",
              "std      6.926126\n",
              "min      1.000000\n",
              "25%     12.250000\n",
              "50%     17.000000\n",
              "75%     21.000000\n",
              "max     36.000000"
            ]
          },
          "metadata": {
            "tags": []
          },
          "execution_count": 75
        }
      ]
    },
    {
      "cell_type": "code",
      "metadata": {
        "colab": {
          "base_uri": "https://localhost:8080/",
          "height": 281
        },
        "id": "UVQ72oGcdAm0",
        "outputId": "87d65cc3-2a69-4eef-db14-99bbecdd52d7"
      },
      "source": [
        "(domingo['NUM']).hist()"
      ],
      "execution_count": 76,
      "outputs": [
        {
          "output_type": "execute_result",
          "data": {
            "text/plain": [
              "<matplotlib.axes._subplots.AxesSubplot at 0x7f7d380f2590>"
            ]
          },
          "metadata": {
            "tags": []
          },
          "execution_count": 76
        },
        {
          "output_type": "display_data",
          "data": {
            "image/png": "[encoded data removed]",
            "text/plain": [
              "<Figure size 432x288 with 1 Axes>"
            ]
          },
          "metadata": {
            "tags": [],
            "needs_background": "light"
          }
        }
      ]
    },
    {
      "cell_type": "code",
      "metadata": {
        "colab": {
          "base_uri": "https://localhost:8080/",
          "height": 281
        },
        "id": "qvKCxmoVhIJq",
        "outputId": "0eb31760-6582-494a-d0e7-e5b67b67d06a"
      },
      "source": [
        "domingo.boxplot(column=['NUM'])"
      ],
      "execution_count": 77,
      "outputs": [
        {
          "output_type": "execute_result",
          "data": {
            "text/plain": [
              "<matplotlib.axes._subplots.AxesSubplot at 0x7f7d37c41a90>"
            ]
          },
          "metadata": {
            "tags": []
          },
          "execution_count": 77
        },
        {
          "output_type": "display_data",
          "data": {
            "image/png": "[encoded data removed]",
            "text/plain": [
              "<Figure size 432x288 with 1 Axes>"
            ]
          },
          "metadata": {
            "tags": [],
            "needs_background": "light"
          }
        }
      ]
    },
    {
      "cell_type": "code",
      "metadata": {
        "id": "cn1wBN43yBdb"
      },
      "source": [
        "IQR = domingo['NUM'].describe()[6] - domingo['NUM'].describe()[4]\n",
        "domingo = domingo[(domingo.NUM > (domingo['NUM'].describe()[4] - IQR)) & (domingo.NUM < (domingo['NUM'].describe()[6] + IQR))]"
      ],
      "execution_count": 78,
      "outputs": []
    },
    {
      "cell_type": "code",
      "metadata": {
        "colab": {
          "base_uri": "https://localhost:8080/",
          "height": 281
        },
        "id": "CfoGtpuTyi-j",
        "outputId": "58754817-0516-4395-abd2-097449cf36e5"
      },
      "source": [
        "(domingo['NUM']).hist()"
      ],
      "execution_count": 79,
      "outputs": [
        {
          "output_type": "execute_result",
          "data": {
            "text/plain": [
              "<matplotlib.axes._subplots.AxesSubplot at 0x7f7d37bbc290>"
            ]
          },
          "metadata": {
            "tags": []
          },
          "execution_count": 79
        },
        {
          "output_type": "display_data",
          "data": {
            "image/png": "[encoded data removed]",
            "text/plain": [
              "<Figure size 432x288 with 1 Axes>"
            ]
          },
          "metadata": {
            "tags": [],
            "needs_background": "light"
          }
        }
      ]
    },
    {
      "cell_type": "code",
      "metadata": {
        "colab": {
          "base_uri": "https://localhost:8080/",
          "height": 283
        },
        "id": "J9rqHcsfylOr",
        "outputId": "ca514232-f73e-4314-a710-d6e12fbef512"
      },
      "source": [
        "domingo.boxplot(column=['NUM'])"
      ],
      "execution_count": 80,
      "outputs": [
        {
          "output_type": "execute_result",
          "data": {
            "text/plain": [
              "<matplotlib.axes._subplots.AxesSubplot at 0x7f7d37ac5850>"
            ]
          },
          "metadata": {
            "tags": []
          },
          "execution_count": 80
        },
        {
          "output_type": "display_data",
          "data": {
            "image/png": "[encoded data removed]",
            "text/plain": [
              "<Figure size 432x288 with 1 Axes>"
            ]
          },
          "metadata": {
            "tags": [],
            "needs_background": "light"
          }
        }
      ]
    },
    {
      "cell_type": "code",
      "metadata": {
        "id": "bhfFd42UycvB"
      },
      "source": [
        "comercios = pd.read_csv(\"/content/drive/MyDrive/ciencia-de-dados/dataset preprocessado/comercios_2015_2021_trimestre.csv\",delimiter = ';')"
      ],
      "execution_count": null,
      "outputs": []
    },
    {
      "cell_type": "code",
      "metadata": {
        "colab": {
          "base_uri": "https://localhost:8080/",
          "height": 484
        },
        "id": "Pmc5-5GXzv0g",
        "outputId": "82eb39fe-9d44-4777-bdaa-4ff1da305e6c"
      },
      "source": [
        "comercios.head() "
      ],
      "execution_count": null,
      "outputs": [
        {
          "output_type": "execute_result",
          "data": {
            "text/html": [
              "<div>\n",
              "<style scoped>\n",
              "    .dataframe tbody tr th:only-of-type {\n",
              "        vertical-align: middle;\n",
              "    }\n",
              "\n",
              "    .dataframe tbody tr th {\n",
              "        vertical-align: top;\n",
              "    }\n",
              "\n",
              "    .dataframe thead th {\n",
              "        text-align: right;\n",
              "    }\n",
              "</style>\n",
              "<table border=\"1\" class=\"dataframe\">\n",
              "  <thead>\n",
              "    <tr style=\"text-align: right;\">\n",
              "      <th></th>\n",
              "      <th>ANO</th>\n",
              "      <th>TRIMESTRE</th>\n",
              "      <th>RAZAO_SOCIAL</th>\n",
              "      <th>NOME_FANTASIA</th>\n",
              "      <th>CNPJ</th>\n",
              "      <th>PORTE</th>\n",
              "      <th>DATA_INICIO_OPERACAO</th>\n",
              "      <th>SITUACAO</th>\n",
              "      <th>ATIVIDADE</th>\n",
              "      <th>CEP</th>\n",
              "      <th>UF</th>\n",
              "      <th>LOCALIDADE</th>\n",
              "      <th>BAIRRO</th>\n",
              "      <th>LOGRADOURO</th>\n",
              "      <th>DATA_GERACAO_CERTIFICADO</th>\n",
              "      <th>DATA_VALIDADE_CERTIFICADO</th>\n",
              "      <th>CODIGO_CERTIFICADO</th>\n",
              "      <th>CODIGO_DESCRICAO_CNAE</th>\n",
              "      <th>NATUREZA_JURIDICA</th>\n",
              "    </tr>\n",
              "  </thead>\n",
              "  <tbody>\n",
              "    <tr>\n",
              "      <th>0</th>\n",
              "      <td>2021</td>\n",
              "      <td>1</td>\n",
              "      <td>MELLO, RIBEIRO &amp; MELLO LTDA</td>\n",
              "      <td>China in Box Rosarinho</td>\n",
              "      <td>00.874.830/0001-48</td>\n",
              "      <td>EMPRESA DE PEQUENO PORTE</td>\n",
              "      <td>25/10/1995</td>\n",
              "      <td>Em Operação</td>\n",
              "      <td>Restaurante, Cafeteria, Bar e Similares</td>\n",
              "      <td>52041-305</td>\n",
              "      <td>PE</td>\n",
              "      <td>Recife</td>\n",
              "      <td>Rosarinho</td>\n",
              "      <td>Amaro Coutinho</td>\n",
              "      <td>23/03/2020 09:27</td>\n",
              "      <td>23/03/2022 09:27</td>\n",
              "      <td>00.874.830/0001-48</td>\n",
              "      <td>5611-2/03 - LANCHONETES, CASAS DE CHÁ, DE SUCO...</td>\n",
              "      <td>Sociedade Empresária Limitada</td>\n",
              "    </tr>\n",
              "    <tr>\n",
              "      <th>1</th>\n",
              "      <td>2021</td>\n",
              "      <td>1</td>\n",
              "      <td>M DAS DORES DE SOUZA CHURRASCARIA</td>\n",
              "      <td>Restaurante e Churrascaria da Dodora</td>\n",
              "      <td>01.219.705/0001-67</td>\n",
              "      <td>MICROEMPRESA</td>\n",
              "      <td>28/05/1996</td>\n",
              "      <td>Em Operação</td>\n",
              "      <td>Restaurante, Cafeteria, Bar e Similares</td>\n",
              "      <td>55690-000</td>\n",
              "      <td>PE</td>\n",
              "      <td>Barra de Guabiraba</td>\n",
              "      <td>-</td>\n",
              "      <td>Av. Eneias Texeira de Carvalho n 101</td>\n",
              "      <td>01/04/2019 10:44</td>\n",
              "      <td>01/04/2021 10:44</td>\n",
              "      <td>01.219.705/0001-67</td>\n",
              "      <td>5611-2/02 - BARES E OUTROS ESTABELECIMENTOS ES...</td>\n",
              "      <td>Empresário Individual</td>\n",
              "    </tr>\n",
              "    <tr>\n",
              "      <th>2</th>\n",
              "      <td>2021</td>\n",
              "      <td>1</td>\n",
              "      <td>POUSADA DO AMPARO - EIRELI</td>\n",
              "      <td>POUSADA DO AMPARO</td>\n",
              "      <td>01.790.381/0001-12</td>\n",
              "      <td>MICROEMPRESA</td>\n",
              "      <td>06/04/1997</td>\n",
              "      <td>Em Operação</td>\n",
              "      <td>Restaurante, Cafeteria, Bar e Similares</td>\n",
              "      <td>53025-080</td>\n",
              "      <td>PE</td>\n",
              "      <td>Olinda</td>\n",
              "      <td>Amparo</td>\n",
              "      <td>do Amparo</td>\n",
              "      <td>11/06/2020 08:17</td>\n",
              "      <td>11/06/2022 08:17</td>\n",
              "      <td>01.790.381/0001-12</td>\n",
              "      <td>5611-2/01 - RESTAURANTES E SIMILARES</td>\n",
              "      <td>Empresa Individual de Responsabilidade Limitad...</td>\n",
              "    </tr>\n",
              "    <tr>\n",
              "      <th>3</th>\n",
              "      <td>2021</td>\n",
              "      <td>1</td>\n",
              "      <td>NEZ BISTRO COMERCIO DE BEBIDAS E RESTAURANTE E...</td>\n",
              "      <td>NEZ BISTRO</td>\n",
              "      <td>02.217.561/0001-72</td>\n",
              "      <td>MICROEMPRESA</td>\n",
              "      <td>30/10/1997</td>\n",
              "      <td>Em Operação</td>\n",
              "      <td>Restaurante, Cafeteria, Bar e Similares</td>\n",
              "      <td>52061-420</td>\n",
              "      <td>PE</td>\n",
              "      <td>Recife</td>\n",
              "      <td>Casa Forte</td>\n",
              "      <td>de Casa Forte</td>\n",
              "      <td>16/07/2020 12:44</td>\n",
              "      <td>16/07/2022 12:44</td>\n",
              "      <td>02.217.561/0001-72</td>\n",
              "      <td>5611-2/01 - RESTAURANTES E SIMILARES</td>\n",
              "      <td>Empresa Individual de Responsabilidade Limitad...</td>\n",
              "    </tr>\n",
              "    <tr>\n",
              "      <th>4</th>\n",
              "      <td>2021</td>\n",
              "      <td>1</td>\n",
              "      <td>ATLANTICA HOTELS INTERNATIONAL BRASIL LTDA</td>\n",
              "      <td>RESTAURANTE NABUCO</td>\n",
              "      <td>02.223.966/0036-43</td>\n",
              "      <td>DEMAIS</td>\n",
              "      <td>03/10/2003</td>\n",
              "      <td>Em Operação</td>\n",
              "      <td>Restaurante, Cafeteria, Bar e Similares</td>\n",
              "      <td>51111-000</td>\n",
              "      <td>PE</td>\n",
              "      <td>Recife</td>\n",
              "      <td>Boa Viagem</td>\n",
              "      <td>Boa Viagem</td>\n",
              "      <td>19/12/2019 07:58</td>\n",
              "      <td>19/12/2021 07:58</td>\n",
              "      <td>02.223.966/0036-43</td>\n",
              "      <td>5611-2/01 - RESTAURANTES E SIMILARES</td>\n",
              "      <td>Sociedade Empresária Limitada</td>\n",
              "    </tr>\n",
              "  </tbody>\n",
              "</table>\n",
              "</div>"
            ],
            "text/plain": [
              "    ANO  ...                                  NATUREZA_JURIDICA\n",
              "0  2021  ...                      Sociedade Empresária Limitada\n",
              "1  2021  ...                              Empresário Individual\n",
              "2  2021  ...  Empresa Individual de Responsabilidade Limitad...\n",
              "3  2021  ...  Empresa Individual de Responsabilidade Limitad...\n",
              "4  2021  ...                      Sociedade Empresária Limitada\n",
              "\n",
              "[5 rows x 19 columns]"
            ]
          },
          "metadata": {
            "tags": []
          },
          "execution_count": 59
        }
      ]
    },
    {
      "cell_type": "code",
      "metadata": {
        "colab": {
          "base_uri": "https://localhost:8080/"
        },
        "id": "U3RM5zghzxk6",
        "outputId": "f4555b14-e8d6-49a7-94f7-0ad4960b4f0e"
      },
      "source": [
        "comercios.dtypes"
      ],
      "execution_count": null,
      "outputs": [
        {
          "output_type": "execute_result",
          "data": {
            "text/plain": [
              "ANO                           int64\n",
              "TRIMESTRE                     int64\n",
              "RAZAO_SOCIAL                 object\n",
              "NOME_FANTASIA                object\n",
              "CNPJ                         object\n",
              "PORTE                        object\n",
              "DATA_INICIO_OPERACAO         object\n",
              "SITUACAO                     object\n",
              "ATIVIDADE                    object\n",
              "CEP                          object\n",
              "UF                           object\n",
              "LOCALIDADE                   object\n",
              "BAIRRO                       object\n",
              "LOGRADOURO                   object\n",
              "DATA_GERACAO_CERTIFICADO     object\n",
              "DATA_VALIDADE_CERTIFICADO    object\n",
              "CODIGO_CERTIFICADO           object\n",
              "CODIGO_DESCRICAO_CNAE        object\n",
              "NATUREZA_JURIDICA            object\n",
              "dtype: object"
            ]
          },
          "metadata": {
            "tags": []
          },
          "execution_count": 60
        }
      ]
    },
    {
      "cell_type": "code",
      "metadata": {
        "colab": {
          "base_uri": "https://localhost:8080/",
          "height": 434
        },
        "id": "avmc01jT2o4X",
        "outputId": "4b04adc0-2bd3-44d7-8b52-51c169ddfccc"
      },
      "source": [
        "excluidos = comercios[['ANO','TRIMESTRE','RAZAO_SOCIAL','NOME_FANTASIA','CNPJ','PORTE','SITUACAO','UF','DATA_GERACAO_CERTIFICADO','DATA_VALIDADE_CERTIFICADO','CODIGO_CERTIFICADO',\t'CODIGO_DESCRICAO_CNAE',\t'NATUREZA_JURIDICA']]\n",
        "excluidos.head()"
      ],
      "execution_count": null,
      "outputs": [
        {
          "output_type": "execute_result",
          "data": {
            "text/html": [
              "<div>\n",
              "<style scoped>\n",
              "    .dataframe tbody tr th:only-of-type {\n",
              "        vertical-align: middle;\n",
              "    }\n",
              "\n",
              "    .dataframe tbody tr th {\n",
              "        vertical-align: top;\n",
              "    }\n",
              "\n",
              "    .dataframe thead th {\n",
              "        text-align: right;\n",
              "    }\n",
              "</style>\n",
              "<table border=\"1\" class=\"dataframe\">\n",
              "  <thead>\n",
              "    <tr style=\"text-align: right;\">\n",
              "      <th></th>\n",
              "      <th>ANO</th>\n",
              "      <th>TRIMESTRE</th>\n",
              "      <th>RAZAO_SOCIAL</th>\n",
              "      <th>NOME_FANTASIA</th>\n",
              "      <th>CNPJ</th>\n",
              "      <th>PORTE</th>\n",
              "      <th>SITUACAO</th>\n",
              "      <th>UF</th>\n",
              "      <th>DATA_GERACAO_CERTIFICADO</th>\n",
              "      <th>DATA_VALIDADE_CERTIFICADO</th>\n",
              "      <th>CODIGO_CERTIFICADO</th>\n",
              "      <th>CODIGO_DESCRICAO_CNAE</th>\n",
              "      <th>NATUREZA_JURIDICA</th>\n",
              "    </tr>\n",
              "  </thead>\n",
              "  <tbody>\n",
              "    <tr>\n",
              "      <th>0</th>\n",
              "      <td>2021</td>\n",
              "      <td>1</td>\n",
              "      <td>MELLO, RIBEIRO &amp; MELLO LTDA</td>\n",
              "      <td>China in Box Rosarinho</td>\n",
              "      <td>00.874.830/0001-48</td>\n",
              "      <td>EMPRESA DE PEQUENO PORTE</td>\n",
              "      <td>Em Operação</td>\n",
              "      <td>PE</td>\n",
              "      <td>23/03/2020 09:27</td>\n",
              "      <td>23/03/2022 09:27</td>\n",
              "      <td>00.874.830/0001-48</td>\n",
              "      <td>5611-2/03 - LANCHONETES, CASAS DE CHÁ, DE SUCO...</td>\n",
              "      <td>Sociedade Empresária Limitada</td>\n",
              "    </tr>\n",
              "    <tr>\n",
              "      <th>1</th>\n",
              "      <td>2021</td>\n",
              "      <td>1</td>\n",
              "      <td>M DAS DORES DE SOUZA CHURRASCARIA</td>\n",
              "      <td>Restaurante e Churrascaria da Dodora</td>\n",
              "      <td>01.219.705/0001-67</td>\n",
              "      <td>MICROEMPRESA</td>\n",
              "      <td>Em Operação</td>\n",
              "      <td>PE</td>\n",
              "      <td>01/04/2019 10:44</td>\n",
              "      <td>01/04/2021 10:44</td>\n",
              "      <td>01.219.705/0001-67</td>\n",
              "      <td>5611-2/02 - BARES E OUTROS ESTABELECIMENTOS ES...</td>\n",
              "      <td>Empresário Individual</td>\n",
              "    </tr>\n",
              "    <tr>\n",
              "      <th>2</th>\n",
              "      <td>2021</td>\n",
              "      <td>1</td>\n",
              "      <td>POUSADA DO AMPARO - EIRELI</td>\n",
              "      <td>POUSADA DO AMPARO</td>\n",
              "      <td>01.790.381/0001-12</td>\n",
              "      <td>MICROEMPRESA</td>\n",
              "      <td>Em Operação</td>\n",
              "      <td>PE</td>\n",
              "      <td>11/06/2020 08:17</td>\n",
              "      <td>11/06/2022 08:17</td>\n",
              "      <td>01.790.381/0001-12</td>\n",
              "      <td>5611-2/01 - RESTAURANTES E SIMILARES</td>\n",
              "      <td>Empresa Individual de Responsabilidade Limitad...</td>\n",
              "    </tr>\n",
              "    <tr>\n",
              "      <th>3</th>\n",
              "      <td>2021</td>\n",
              "      <td>1</td>\n",
              "      <td>NEZ BISTRO COMERCIO DE BEBIDAS E RESTAURANTE E...</td>\n",
              "      <td>NEZ BISTRO</td>\n",
              "      <td>02.217.561/0001-72</td>\n",
              "      <td>MICROEMPRESA</td>\n",
              "      <td>Em Operação</td>\n",
              "      <td>PE</td>\n",
              "      <td>16/07/2020 12:44</td>\n",
              "      <td>16/07/2022 12:44</td>\n",
              "      <td>02.217.561/0001-72</td>\n",
              "      <td>5611-2/01 - RESTAURANTES E SIMILARES</td>\n",
              "      <td>Empresa Individual de Responsabilidade Limitad...</td>\n",
              "    </tr>\n",
              "    <tr>\n",
              "      <th>4</th>\n",
              "      <td>2021</td>\n",
              "      <td>1</td>\n",
              "      <td>ATLANTICA HOTELS INTERNATIONAL BRASIL LTDA</td>\n",
              "      <td>RESTAURANTE NABUCO</td>\n",
              "      <td>02.223.966/0036-43</td>\n",
              "      <td>DEMAIS</td>\n",
              "      <td>Em Operação</td>\n",
              "      <td>PE</td>\n",
              "      <td>19/12/2019 07:58</td>\n",
              "      <td>19/12/2021 07:58</td>\n",
              "      <td>02.223.966/0036-43</td>\n",
              "      <td>5611-2/01 - RESTAURANTES E SIMILARES</td>\n",
              "      <td>Sociedade Empresária Limitada</td>\n",
              "    </tr>\n",
              "  </tbody>\n",
              "</table>\n",
              "</div>"
            ],
            "text/plain": [
              "    ANO  ...                                  NATUREZA_JURIDICA\n",
              "0  2021  ...                      Sociedade Empresária Limitada\n",
              "1  2021  ...                              Empresário Individual\n",
              "2  2021  ...  Empresa Individual de Responsabilidade Limitad...\n",
              "3  2021  ...  Empresa Individual de Responsabilidade Limitad...\n",
              "4  2021  ...                      Sociedade Empresária Limitada\n",
              "\n",
              "[5 rows x 13 columns]"
            ]
          },
          "metadata": {
            "tags": []
          },
          "execution_count": 61
        }
      ]
    },
    {
      "cell_type": "code",
      "metadata": {
        "id": "yvl5vxIi5px9"
      },
      "source": [
        "comercios = comercios.drop(['ANO','TRIMESTRE','RAZAO_SOCIAL','NOME_FANTASIA','CNPJ','PORTE','SITUACAO','UF','DATA_GERACAO_CERTIFICADO','DATA_VALIDADE_CERTIFICADO','CODIGO_CERTIFICADO',\t'CODIGO_DESCRICAO_CNAE',\t'NATUREZA_JURIDICA'], axis=1)"
      ],
      "execution_count": null,
      "outputs": []
    },
    {
      "cell_type": "code",
      "metadata": {
        "colab": {
          "base_uri": "https://localhost:8080/",
          "height": 197
        },
        "id": "aSCfoWou5z8a",
        "outputId": "d562fdbb-1c25-4153-8943-c3417da5c340"
      },
      "source": [
        "comercios.head()"
      ],
      "execution_count": null,
      "outputs": [
        {
          "output_type": "execute_result",
          "data": {
            "text/html": [
              "<div>\n",
              "<style scoped>\n",
              "    .dataframe tbody tr th:only-of-type {\n",
              "        vertical-align: middle;\n",
              "    }\n",
              "\n",
              "    .dataframe tbody tr th {\n",
              "        vertical-align: top;\n",
              "    }\n",
              "\n",
              "    .dataframe thead th {\n",
              "        text-align: right;\n",
              "    }\n",
              "</style>\n",
              "<table border=\"1\" class=\"dataframe\">\n",
              "  <thead>\n",
              "    <tr style=\"text-align: right;\">\n",
              "      <th></th>\n",
              "      <th>DATA_INICIO_OPERACAO</th>\n",
              "      <th>ATIVIDADE</th>\n",
              "      <th>CEP</th>\n",
              "      <th>LOCALIDADE</th>\n",
              "      <th>BAIRRO</th>\n",
              "      <th>LOGRADOURO</th>\n",
              "    </tr>\n",
              "  </thead>\n",
              "  <tbody>\n",
              "    <tr>\n",
              "      <th>0</th>\n",
              "      <td>25/10/1995</td>\n",
              "      <td>Restaurante, Cafeteria, Bar e Similares</td>\n",
              "      <td>52041-305</td>\n",
              "      <td>Recife</td>\n",
              "      <td>Rosarinho</td>\n",
              "      <td>Amaro Coutinho</td>\n",
              "    </tr>\n",
              "    <tr>\n",
              "      <th>1</th>\n",
              "      <td>28/05/1996</td>\n",
              "      <td>Restaurante, Cafeteria, Bar e Similares</td>\n",
              "      <td>55690-000</td>\n",
              "      <td>Barra de Guabiraba</td>\n",
              "      <td>-</td>\n",
              "      <td>Av. Eneias Texeira de Carvalho n 101</td>\n",
              "    </tr>\n",
              "    <tr>\n",
              "      <th>2</th>\n",
              "      <td>06/04/1997</td>\n",
              "      <td>Restaurante, Cafeteria, Bar e Similares</td>\n",
              "      <td>53025-080</td>\n",
              "      <td>Olinda</td>\n",
              "      <td>Amparo</td>\n",
              "      <td>do Amparo</td>\n",
              "    </tr>\n",
              "    <tr>\n",
              "      <th>3</th>\n",
              "      <td>30/10/1997</td>\n",
              "      <td>Restaurante, Cafeteria, Bar e Similares</td>\n",
              "      <td>52061-420</td>\n",
              "      <td>Recife</td>\n",
              "      <td>Casa Forte</td>\n",
              "      <td>de Casa Forte</td>\n",
              "    </tr>\n",
              "    <tr>\n",
              "      <th>4</th>\n",
              "      <td>03/10/2003</td>\n",
              "      <td>Restaurante, Cafeteria, Bar e Similares</td>\n",
              "      <td>51111-000</td>\n",
              "      <td>Recife</td>\n",
              "      <td>Boa Viagem</td>\n",
              "      <td>Boa Viagem</td>\n",
              "    </tr>\n",
              "  </tbody>\n",
              "</table>\n",
              "</div>"
            ],
            "text/plain": [
              "  DATA_INICIO_OPERACAO  ...                            LOGRADOURO\n",
              "0           25/10/1995  ...                        Amaro Coutinho\n",
              "1           28/05/1996  ...  Av. Eneias Texeira de Carvalho n 101\n",
              "2           06/04/1997  ...                             do Amparo\n",
              "3           30/10/1997  ...                         de Casa Forte\n",
              "4           03/10/2003  ...                            Boa Viagem\n",
              "\n",
              "[5 rows x 6 columns]"
            ]
          },
          "metadata": {
            "tags": []
          },
          "execution_count": 63
        }
      ]
    },
    {
      "cell_type": "code",
      "metadata": {
        "id": "euce5Daz6C-f"
      },
      "source": [
        "comercios['DATA_INICIO_OPERACAO'] = pd.to_datetime(comercios['DATA_INICIO_OPERACAO'], format='%Y-%m-%d', errors='ignore')\n",
        "comercios = comercios.astype({'ATIVIDADE':'category',\t'CEP':'category',\t'LOCALIDADE':'category',\t'BAIRRO':'category', 'LOGRADOURO':'category'})"
      ],
      "execution_count": null,
      "outputs": []
    },
    {
      "cell_type": "code",
      "metadata": {
        "colab": {
          "base_uri": "https://localhost:8080/"
        },
        "id": "i2eq4VvApFQZ",
        "outputId": "6867a8c5-6b88-4151-8be6-90b506e4af75"
      },
      "source": [
        "print(comercios.isnull().sum()/len(comercios))"
      ],
      "execution_count": null,
      "outputs": [
        {
          "output_type": "stream",
          "text": [
            "DATA_INICIO_OPERACAO    0.117073\n",
            "ATIVIDADE               0.000000\n",
            "CEP                     0.000000\n",
            "LOCALIDADE              0.000000\n",
            "BAIRRO                  0.000000\n",
            "LOGRADOURO              0.000000\n",
            "dtype: float64\n"
          ],
          "name": "stdout"
        }
      ]
    },
    {
      "cell_type": "code",
      "metadata": {
        "id": "kfgxjWpTpW6g"
      },
      "source": [
        "comercios.dropna(subset = [\"DATA_INICIO_OPERACAO\"], inplace=True)"
      ],
      "execution_count": null,
      "outputs": []
    },
    {
      "cell_type": "code",
      "metadata": {
        "colab": {
          "base_uri": "https://localhost:8080/"
        },
        "id": "SaafYG_JpdoE",
        "outputId": "5a224416-e533-4b7f-b28e-175c16b9d298"
      },
      "source": [
        "print(comercios.isnull().sum()/len(comercios))"
      ],
      "execution_count": null,
      "outputs": [
        {
          "output_type": "stream",
          "text": [
            "DATA_INICIO_OPERACAO    0.0\n",
            "ATIVIDADE               0.0\n",
            "CEP                     0.0\n",
            "LOCALIDADE              0.0\n",
            "BAIRRO                  0.0\n",
            "LOGRADOURO              0.0\n",
            "dtype: float64\n"
          ],
          "name": "stdout"
        }
      ]
    },
    {
      "cell_type": "markdown",
      "metadata": {
        "id": "Aq0RXt5c7C3K"
      },
      "source": [
        "**Equipamento velocidade vias**"
      ]
    },
    {
      "cell_type": "code",
      "metadata": {
        "id": "m9ZWNocLz3Po"
      },
      "source": [
        "equipamento_velocidade_vias = pd.read_csv(\"/content/drive/MyDrive/ciencia-de-dados/dataset preprocessado/equipamento_velocidade_vias_2016_2021.csv\",delimiter = ';')"
      ],
      "execution_count": null,
      "outputs": []
    },
    {
      "cell_type": "code",
      "metadata": {
        "colab": {
          "base_uri": "https://localhost:8080/",
          "height": 197
        },
        "id": "HNp5AL-MMmPg",
        "outputId": "b693fc77-a0c6-43dd-f7a8-3d1db87038f5"
      },
      "source": [
        "equipamento_velocidade_vias.head()"
      ],
      "execution_count": null,
      "outputs": [
        {
          "output_type": "execute_result",
          "data": {
            "text/html": [
              "<div>\n",
              "<style scoped>\n",
              "    .dataframe tbody tr th:only-of-type {\n",
              "        vertical-align: middle;\n",
              "    }\n",
              "\n",
              "    .dataframe tbody tr th {\n",
              "        vertical-align: top;\n",
              "    }\n",
              "\n",
              "    .dataframe thead th {\n",
              "        text-align: right;\n",
              "    }\n",
              "</style>\n",
              "<table border=\"1\" class=\"dataframe\">\n",
              "  <thead>\n",
              "    <tr style=\"text-align: right;\">\n",
              "      <th></th>\n",
              "      <th>ANO</th>\n",
              "      <th>EQUIPAMENTO</th>\n",
              "      <th>TIPO</th>\n",
              "      <th>LOGRADOURO</th>\n",
              "      <th>VELOCIDADE_VIA</th>\n",
              "      <th>LATITUDE</th>\n",
              "      <th>LONGITUDE</th>\n",
              "    </tr>\n",
              "  </thead>\n",
              "  <tbody>\n",
              "    <tr>\n",
              "      <th>0</th>\n",
              "      <td>2016</td>\n",
              "      <td>5941</td>\n",
              "      <td>Lombada</td>\n",
              "      <td>AV. MAL. MASCARENHAS DE MORAES, EM FRENTE AERO...</td>\n",
              "      <td>60 km/h</td>\n",
              "      <td>-8.130970</td>\n",
              "      <td>-34.916161</td>\n",
              "    </tr>\n",
              "    <tr>\n",
              "      <th>1</th>\n",
              "      <td>2016</td>\n",
              "      <td>5942</td>\n",
              "      <td>Lombada</td>\n",
              "      <td>AV. MAL. MASCARENHAS DE MORAES, EM FRENTE AERO...</td>\n",
              "      <td>60 km/h</td>\n",
              "      <td>-8.130647</td>\n",
              "      <td>-34.915886</td>\n",
              "    </tr>\n",
              "    <tr>\n",
              "      <th>2</th>\n",
              "      <td>2016</td>\n",
              "      <td>5943</td>\n",
              "      <td>Lombada</td>\n",
              "      <td>AV. BOA VIAGEM - TERCEIRO JARDIM</td>\n",
              "      <td>60 km/h</td>\n",
              "      <td>-8.107843</td>\n",
              "      <td>-34.888161</td>\n",
              "    </tr>\n",
              "    <tr>\n",
              "      <th>3</th>\n",
              "      <td>2016</td>\n",
              "      <td>5944</td>\n",
              "      <td>Lombada</td>\n",
              "      <td>DEFRONTE A PCA. GOV. PAULO GUERRA, CABANGA - S...</td>\n",
              "      <td>60 km/h</td>\n",
              "      <td>-8.080121</td>\n",
              "      <td>-34.892187</td>\n",
              "    </tr>\n",
              "    <tr>\n",
              "      <th>4</th>\n",
              "      <td>2016</td>\n",
              "      <td>5945</td>\n",
              "      <td>Lombada</td>\n",
              "      <td>APOS PONTE AGAMENON MAGALHAES, CABANGA - SENT....</td>\n",
              "      <td>60 km/h</td>\n",
              "      <td>-8.080820</td>\n",
              "      <td>-34.891159</td>\n",
              "    </tr>\n",
              "  </tbody>\n",
              "</table>\n",
              "</div>"
            ],
            "text/plain": [
              "    ANO EQUIPAMENTO     TIPO  ... VELOCIDADE_VIA  LATITUDE  LONGITUDE\n",
              "0  2016        5941  Lombada  ...        60 km/h -8.130970 -34.916161\n",
              "1  2016        5942  Lombada  ...        60 km/h -8.130647 -34.915886\n",
              "2  2016        5943  Lombada  ...        60 km/h -8.107843 -34.888161\n",
              "3  2016        5944  Lombada  ...        60 km/h -8.080121 -34.892187\n",
              "4  2016        5945  Lombada  ...        60 km/h -8.080820 -34.891159\n",
              "\n",
              "[5 rows x 7 columns]"
            ]
          },
          "metadata": {
            "tags": []
          },
          "execution_count": 69
        }
      ]
    },
    {
      "cell_type": "code",
      "metadata": {
        "colab": {
          "base_uri": "https://localhost:8080/",
          "height": 197
        },
        "id": "ZjWalSsv7rb_",
        "outputId": "d339e0d0-d0ba-4dc6-abb8-be5cd9363e45"
      },
      "source": [
        "excluidos = equipamento_velocidade_vias[['TIPO']]\n",
        "excluidos.head()"
      ],
      "execution_count": null,
      "outputs": [
        {
          "output_type": "execute_result",
          "data": {
            "text/html": [
              "<div>\n",
              "<style scoped>\n",
              "    .dataframe tbody tr th:only-of-type {\n",
              "        vertical-align: middle;\n",
              "    }\n",
              "\n",
              "    .dataframe tbody tr th {\n",
              "        vertical-align: top;\n",
              "    }\n",
              "\n",
              "    .dataframe thead th {\n",
              "        text-align: right;\n",
              "    }\n",
              "</style>\n",
              "<table border=\"1\" class=\"dataframe\">\n",
              "  <thead>\n",
              "    <tr style=\"text-align: right;\">\n",
              "      <th></th>\n",
              "      <th>TIPO</th>\n",
              "    </tr>\n",
              "  </thead>\n",
              "  <tbody>\n",
              "    <tr>\n",
              "      <th>0</th>\n",
              "      <td>Lombada</td>\n",
              "    </tr>\n",
              "    <tr>\n",
              "      <th>1</th>\n",
              "      <td>Lombada</td>\n",
              "    </tr>\n",
              "    <tr>\n",
              "      <th>2</th>\n",
              "      <td>Lombada</td>\n",
              "    </tr>\n",
              "    <tr>\n",
              "      <th>3</th>\n",
              "      <td>Lombada</td>\n",
              "    </tr>\n",
              "    <tr>\n",
              "      <th>4</th>\n",
              "      <td>Lombada</td>\n",
              "    </tr>\n",
              "  </tbody>\n",
              "</table>\n",
              "</div>"
            ],
            "text/plain": [
              "      TIPO\n",
              "0  Lombada\n",
              "1  Lombada\n",
              "2  Lombada\n",
              "3  Lombada\n",
              "4  Lombada"
            ]
          },
          "metadata": {
            "tags": []
          },
          "execution_count": 70
        }
      ]
    },
    {
      "cell_type": "code",
      "metadata": {
        "id": "KW92O5Nc8GMz"
      },
      "source": [
        "equipamento_velocidade_vias = equipamento_velocidade_vias.drop(['TIPO'], axis=1)"
      ],
      "execution_count": null,
      "outputs": []
    },
    {
      "cell_type": "code",
      "metadata": {
        "id": "zW_cl1VQ8FY9"
      },
      "source": [
        "equipamento_velocidade_vias = equipamento_velocidade_vias.astype({'ANO':'category',\t'EQUIPAMENTO':'category',\t'LOGRADOURO':'category',\t'VELOCIDADE_VIA':'category', 'LATITUDE':'category','LONGITUDE':'category'})"
      ],
      "execution_count": null,
      "outputs": []
    },
    {
      "cell_type": "code",
      "metadata": {
        "colab": {
          "base_uri": "https://localhost:8080/"
        },
        "id": "NDhhE00b87cR",
        "outputId": "c3ed7d31-c3ca-4ca1-aac8-88c5127edecf"
      },
      "source": [
        "equipamento_velocidade_vias.dtypes"
      ],
      "execution_count": null,
      "outputs": [
        {
          "output_type": "execute_result",
          "data": {
            "text/plain": [
              "ANO               category\n",
              "EQUIPAMENTO       category\n",
              "LOGRADOURO        category\n",
              "VELOCIDADE_VIA    category\n",
              "LATITUDE          category\n",
              "LONGITUDE         category\n",
              "dtype: object"
            ]
          },
          "metadata": {
            "tags": []
          },
          "execution_count": 73
        }
      ]
    },
    {
      "cell_type": "code",
      "metadata": {
        "colab": {
          "base_uri": "https://localhost:8080/"
        },
        "id": "PJMOmzN7pyCX",
        "outputId": "a3187cde-5c91-43f4-a6c9-9f294885a712"
      },
      "source": [
        "print(equipamento_velocidade_vias.isnull().sum()/len(equipamento_velocidade_vias))"
      ],
      "execution_count": null,
      "outputs": [
        {
          "output_type": "stream",
          "text": [
            "ANO               0.0\n",
            "EQUIPAMENTO       0.0\n",
            "LOGRADOURO        0.0\n",
            "VELOCIDADE_VIA    0.0\n",
            "LATITUDE          0.0\n",
            "LONGITUDE         0.0\n",
            "dtype: float64\n"
          ],
          "name": "stdout"
        }
      ]
    },
    {
      "cell_type": "markdown",
      "metadata": {
        "id": "4IesQ4vK9VU7"
      },
      "source": [
        "**dataset de multas**"
      ]
    },
    {
      "cell_type": "code",
      "metadata": {
        "colab": {
          "base_uri": "https://localhost:8080/"
        },
        "id": "4Jq_ir7tMoFT",
        "outputId": "4fcf5a7e-22d2-4b2f-851e-cf192cd7426e"
      },
      "source": [
        "multas = pd.read_csv(\"/content/drive/MyDrive/ciencia-de-dados/dataset preprocessado/relatorio_multas_2015_2021.csv\",delimiter = ';')"
      ],
      "execution_count": null,
      "outputs": [
        {
          "output_type": "stream",
          "text": [
            "/usr/local/lib/python3.7/dist-packages/IPython/core/interactiveshell.py:2718: DtypeWarning: Columns (4) have mixed types.Specify dtype option on import or set low_memory=False.\n",
            "  interactivity=interactivity, compiler=compiler, result=result)\n"
          ],
          "name": "stderr"
        }
      ]
    },
    {
      "cell_type": "code",
      "metadata": {
        "colab": {
          "base_uri": "https://localhost:8080/",
          "height": 281
        },
        "id": "qX4j0KpNMzCn",
        "outputId": "269859ba-ab23-4ec3-a886-3bb9f27d4b57"
      },
      "source": [
        "multas.head()"
      ],
      "execution_count": null,
      "outputs": [
        {
          "output_type": "execute_result",
          "data": {
            "text/html": [
              "<div>\n",
              "<style scoped>\n",
              "    .dataframe tbody tr th:only-of-type {\n",
              "        vertical-align: middle;\n",
              "    }\n",
              "\n",
              "    .dataframe tbody tr th {\n",
              "        vertical-align: top;\n",
              "    }\n",
              "\n",
              "    .dataframe thead th {\n",
              "        text-align: right;\n",
              "    }\n",
              "</style>\n",
              "<table border=\"1\" class=\"dataframe\">\n",
              "  <thead>\n",
              "    <tr style=\"text-align: right;\">\n",
              "      <th></th>\n",
              "      <th>DATAINFRACAO</th>\n",
              "      <th>HORAINFRACAO</th>\n",
              "      <th>DATAIMPLANTACAO</th>\n",
              "      <th>AGENTEEQUIPAMENTO</th>\n",
              "      <th>INFRACAO</th>\n",
              "      <th>DESCRICAOINFRACAO</th>\n",
              "      <th>AMPAROLEGAL</th>\n",
              "      <th>LOCALCOMETIMENTO</th>\n",
              "    </tr>\n",
              "  </thead>\n",
              "  <tbody>\n",
              "    <tr>\n",
              "      <th>0</th>\n",
              "      <td>2015/10/26 00:00:00.000</td>\n",
              "      <td>08:42:00</td>\n",
              "      <td>2015/11/03 00:00:00.000</td>\n",
              "      <td>Código 6 - AUTOS NO TALÃO MANUAL</td>\n",
              "      <td>5541</td>\n",
              "      <td>Estacionar o veículo em desacordo com as condi...</td>\n",
              "      <td>Art. 181, Inc. XVII</td>\n",
              "      <td>AV PORTUGAL EM FRENTE AO IMOVEL N 89</td>\n",
              "    </tr>\n",
              "    <tr>\n",
              "      <th>1</th>\n",
              "      <td>2015/10/26 00:00:00.000</td>\n",
              "      <td>08:45:00</td>\n",
              "      <td>2015/11/03 00:00:00.000</td>\n",
              "      <td>Código 6 - AUTOS NO TALÃO MANUAL</td>\n",
              "      <td>5541</td>\n",
              "      <td>Estacionar o veículo em desacordo com as condi...</td>\n",
              "      <td>Art. 181, Inc. XVII</td>\n",
              "      <td>AV PORTUGAL EM FRENTE AO IMOVEL N 89</td>\n",
              "    </tr>\n",
              "    <tr>\n",
              "      <th>2</th>\n",
              "      <td>2015/10/26 00:00:00.000</td>\n",
              "      <td>08:48:00</td>\n",
              "      <td>2015/11/03 00:00:00.000</td>\n",
              "      <td>Código 6 - AUTOS NO TALÃO MANUAL</td>\n",
              "      <td>5525</td>\n",
              "      <td>Estacionar o veículo na contramão de direção.</td>\n",
              "      <td>Art. 181, Inc. XV</td>\n",
              "      <td>AV PORTUGAL EM FRENTE AO IMOVEL N 101</td>\n",
              "    </tr>\n",
              "    <tr>\n",
              "      <th>3</th>\n",
              "      <td>2015/10/26 00:00:00.000</td>\n",
              "      <td>08:55:00</td>\n",
              "      <td>2015/11/03 00:00:00.000</td>\n",
              "      <td>Código 6 - AUTOS NO TALÃO MANUAL</td>\n",
              "      <td>5550</td>\n",
              "      <td>Estacionar o veículo em locais e horários proi...</td>\n",
              "      <td>Art. 181, Inc. XVIII</td>\n",
              "      <td>RUA PACIFICO DOS SANTOS EM FRENTE AO IMOVEL N 124</td>\n",
              "    </tr>\n",
              "    <tr>\n",
              "      <th>4</th>\n",
              "      <td>2015/10/26 00:00:00.000</td>\n",
              "      <td>09:10:00</td>\n",
              "      <td>2015/11/03 00:00:00.000</td>\n",
              "      <td>Código 6 - AUTOS NO TALÃO MANUAL</td>\n",
              "      <td>7366</td>\n",
              "      <td>Dirigir o veículo utilizando-se de telefone ce...</td>\n",
              "      <td>Art. 252, Inc. VI</td>\n",
              "      <td>AV GOV AGAMENON MAGALHAES EM FRENTE AO SEMAFOR...</td>\n",
              "    </tr>\n",
              "  </tbody>\n",
              "</table>\n",
              "</div>"
            ],
            "text/plain": [
              "              DATAINFRACAO  ...                                   LOCALCOMETIMENTO\n",
              "0  2015/10/26 00:00:00.000  ...               AV PORTUGAL EM FRENTE AO IMOVEL N 89\n",
              "1  2015/10/26 00:00:00.000  ...               AV PORTUGAL EM FRENTE AO IMOVEL N 89\n",
              "2  2015/10/26 00:00:00.000  ...              AV PORTUGAL EM FRENTE AO IMOVEL N 101\n",
              "3  2015/10/26 00:00:00.000  ...  RUA PACIFICO DOS SANTOS EM FRENTE AO IMOVEL N 124\n",
              "4  2015/10/26 00:00:00.000  ...  AV GOV AGAMENON MAGALHAES EM FRENTE AO SEMAFOR...\n",
              "\n",
              "[5 rows x 8 columns]"
            ]
          },
          "metadata": {
            "tags": []
          },
          "execution_count": 76
        }
      ]
    },
    {
      "cell_type": "code",
      "metadata": {
        "colab": {
          "base_uri": "https://localhost:8080/",
          "height": 197
        },
        "id": "kv_OmRAF9ZAa",
        "outputId": "e4468c05-0739-48ed-c423-58fae6771c8a"
      },
      "source": [
        "excluidos = multas[['DATAIMPLANTACAO', 'AGENTEEQUIPAMENTO',\t'AMPAROLEGAL']]\n",
        "excluidos.head()"
      ],
      "execution_count": null,
      "outputs": [
        {
          "output_type": "execute_result",
          "data": {
            "text/html": [
              "<div>\n",
              "<style scoped>\n",
              "    .dataframe tbody tr th:only-of-type {\n",
              "        vertical-align: middle;\n",
              "    }\n",
              "\n",
              "    .dataframe tbody tr th {\n",
              "        vertical-align: top;\n",
              "    }\n",
              "\n",
              "    .dataframe thead th {\n",
              "        text-align: right;\n",
              "    }\n",
              "</style>\n",
              "<table border=\"1\" class=\"dataframe\">\n",
              "  <thead>\n",
              "    <tr style=\"text-align: right;\">\n",
              "      <th></th>\n",
              "      <th>DATAIMPLANTACAO</th>\n",
              "      <th>AGENTEEQUIPAMENTO</th>\n",
              "      <th>AMPAROLEGAL</th>\n",
              "    </tr>\n",
              "  </thead>\n",
              "  <tbody>\n",
              "    <tr>\n",
              "      <th>0</th>\n",
              "      <td>2015/11/03 00:00:00.000</td>\n",
              "      <td>Código 6 - AUTOS NO TALÃO MANUAL</td>\n",
              "      <td>Art. 181, Inc. XVII</td>\n",
              "    </tr>\n",
              "    <tr>\n",
              "      <th>1</th>\n",
              "      <td>2015/11/03 00:00:00.000</td>\n",
              "      <td>Código 6 - AUTOS NO TALÃO MANUAL</td>\n",
              "      <td>Art. 181, Inc. XVII</td>\n",
              "    </tr>\n",
              "    <tr>\n",
              "      <th>2</th>\n",
              "      <td>2015/11/03 00:00:00.000</td>\n",
              "      <td>Código 6 - AUTOS NO TALÃO MANUAL</td>\n",
              "      <td>Art. 181, Inc. XV</td>\n",
              "    </tr>\n",
              "    <tr>\n",
              "      <th>3</th>\n",
              "      <td>2015/11/03 00:00:00.000</td>\n",
              "      <td>Código 6 - AUTOS NO TALÃO MANUAL</td>\n",
              "      <td>Art. 181, Inc. XVIII</td>\n",
              "    </tr>\n",
              "    <tr>\n",
              "      <th>4</th>\n",
              "      <td>2015/11/03 00:00:00.000</td>\n",
              "      <td>Código 6 - AUTOS NO TALÃO MANUAL</td>\n",
              "      <td>Art. 252, Inc. VI</td>\n",
              "    </tr>\n",
              "  </tbody>\n",
              "</table>\n",
              "</div>"
            ],
            "text/plain": [
              "           DATAIMPLANTACAO  ...           AMPAROLEGAL\n",
              "0  2015/11/03 00:00:00.000  ...   Art. 181, Inc. XVII\n",
              "1  2015/11/03 00:00:00.000  ...   Art. 181, Inc. XVII\n",
              "2  2015/11/03 00:00:00.000  ...     Art. 181, Inc. XV\n",
              "3  2015/11/03 00:00:00.000  ...  Art. 181, Inc. XVIII\n",
              "4  2015/11/03 00:00:00.000  ...     Art. 252, Inc. VI\n",
              "\n",
              "[5 rows x 3 columns]"
            ]
          },
          "metadata": {
            "tags": []
          },
          "execution_count": 77
        }
      ]
    },
    {
      "cell_type": "code",
      "metadata": {
        "id": "VtdU_0RD9yEQ"
      },
      "source": [
        "multas = multas.drop(['DATAIMPLANTACAO', 'AGENTEEQUIPAMENTO',\t'AMPAROLEGAL'], axis=1)"
      ],
      "execution_count": null,
      "outputs": []
    },
    {
      "cell_type": "code",
      "metadata": {
        "id": "gHUZrD309-KZ"
      },
      "source": [
        "multas['DATAINFRACAO'] = pd.to_datetime(multas['DATAINFRACAO'], format='%Y-%m-%d', errors='ignore')\n",
        "multas['HORAINFRACAO'] = pd.to_datetime(multas['HORAINFRACAO'], format='%H:%M:%S', errors = 'ignore')\n",
        "multas = multas.astype({'INFRACAO':'category', 'DESCRICAOINFRACAO':'category','LOCALCOMETIMENTO':'category'})"
      ],
      "execution_count": null,
      "outputs": []
    },
    {
      "cell_type": "code",
      "metadata": {
        "id": "LTTCZ4lP_jCD",
        "colab": {
          "base_uri": "https://localhost:8080/"
        },
        "outputId": "331ccaa5-5e01-4ac9-8f73-9815e8548082"
      },
      "source": [
        "multas.dtypes"
      ],
      "execution_count": null,
      "outputs": [
        {
          "output_type": "execute_result",
          "data": {
            "text/plain": [
              "DATAINFRACAO         datetime64[ns]\n",
              "HORAINFRACAO                 object\n",
              "INFRACAO                   category\n",
              "DESCRICAOINFRACAO          category\n",
              "LOCALCOMETIMENTO           category\n",
              "dtype: object"
            ]
          },
          "metadata": {
            "tags": []
          },
          "execution_count": 80
        }
      ]
    },
    {
      "cell_type": "code",
      "metadata": {
        "colab": {
          "base_uri": "https://localhost:8080/"
        },
        "id": "aoc1GODjp482",
        "outputId": "1c5f6cdc-cf05-489c-d0f7-74b5b912d20a"
      },
      "source": [
        "print(multas.isnull().sum()/len(multas))"
      ],
      "execution_count": null,
      "outputs": [
        {
          "output_type": "stream",
          "text": [
            "DATAINFRACAO         1.157818e-06\n",
            "HORAINFRACAO         0.000000e+00\n",
            "INFRACAO             5.789091e-07\n",
            "DESCRICAOINFRACAO    1.157818e-06\n",
            "LOCALCOMETIMENTO     4.052363e-06\n",
            "dtype: float64\n"
          ],
          "name": "stdout"
        }
      ]
    },
    {
      "cell_type": "code",
      "metadata": {
        "id": "iuf_u98MqIxV"
      },
      "source": [
        "multas.dropna(subset = [\"DATAINFRACAO\",\"HORAINFRACAO\",\"INFRACAO\",\"DESCRICAOINFRACAO\",\"LOCALCOMETIMENTO\"], inplace=True)"
      ],
      "execution_count": null,
      "outputs": []
    },
    {
      "cell_type": "code",
      "metadata": {
        "colab": {
          "base_uri": "https://localhost:8080/"
        },
        "id": "uqb0-ulDqYw0",
        "outputId": "faf33499-09c3-4e8a-dfef-d570f2a827a0"
      },
      "source": [
        "print(multas.isnull().sum()/len(multas))"
      ],
      "execution_count": null,
      "outputs": [
        {
          "output_type": "stream",
          "text": [
            "DATAINFRACAO         0.0\n",
            "HORAINFRACAO         0.0\n",
            "INFRACAO             0.0\n",
            "DESCRICAOINFRACAO    0.0\n",
            "LOCALCOMETIMENTO     0.0\n",
            "dtype: float64\n"
          ],
          "name": "stdout"
        }
      ]
    },
    {
      "cell_type": "markdown",
      "metadata": {
        "id": "ZT2p4su_hygw"
      },
      "source": [
        "**velocidades**"
      ]
    },
    {
      "cell_type": "code",
      "metadata": {
        "colab": {
          "base_uri": "https://localhost:8080/"
        },
        "id": "GozuL0uWMzzn",
        "outputId": "126c93fa-537a-409b-f471-92140e93900b"
      },
      "source": [
        "velocidades = pd.read_csv(\"/content/drive/MyDrive/ciencia-de-dados/dataset preprocessado/velocidade_vias_media_15minutos_2016_2021.csv\",delimiter = ';')"
      ],
      "execution_count": null,
      "outputs": [
        {
          "output_type": "stream",
          "text": [
            "/usr/local/lib/python3.7/dist-packages/IPython/core/interactiveshell.py:2718: DtypeWarning: Columns (2) have mixed types.Specify dtype option on import or set low_memory=False.\n",
            "  interactivity=interactivity, compiler=compiler, result=result)\n"
          ],
          "name": "stderr"
        }
      ]
    },
    {
      "cell_type": "code",
      "metadata": {
        "colab": {
          "base_uri": "https://localhost:8080/",
          "height": 301
        },
        "id": "cdKIwBhgNFTK",
        "outputId": "252bcca7-6a65-4e31-c405-6c6ca02c185c"
      },
      "source": [
        "velocidades.head()"
      ],
      "execution_count": null,
      "outputs": [
        {
          "output_type": "execute_result",
          "data": {
            "text/html": [
              "<div>\n",
              "<style scoped>\n",
              "    .dataframe tbody tr th:only-of-type {\n",
              "        vertical-align: middle;\n",
              "    }\n",
              "\n",
              "    .dataframe tbody tr th {\n",
              "        vertical-align: top;\n",
              "    }\n",
              "\n",
              "    .dataframe thead th {\n",
              "        text-align: right;\n",
              "    }\n",
              "</style>\n",
              "<table border=\"1\" class=\"dataframe\">\n",
              "  <thead>\n",
              "    <tr style=\"text-align: right;\">\n",
              "      <th></th>\n",
              "      <th>ANO</th>\n",
              "      <th>MES</th>\n",
              "      <th>EQUIPAMENTO</th>\n",
              "      <th>FAIXA</th>\n",
              "      <th>DATA</th>\n",
              "      <th>HORA</th>\n",
              "      <th>MINUTOS_INTERVALO</th>\n",
              "      <th>QTD_0A10KM</th>\n",
              "      <th>QTD_11A20KM</th>\n",
              "      <th>QTD_21A30KM</th>\n",
              "      <th>QTD_31A40KM</th>\n",
              "      <th>QTD_41A50KM</th>\n",
              "      <th>QTD_51A60KM</th>\n",
              "      <th>QTD_61A70KM</th>\n",
              "      <th>QTD_71A80KM</th>\n",
              "      <th>QTD_81A90KM</th>\n",
              "      <th>QTD_91A100KM</th>\n",
              "      <th>QTD_ACIMADE100KM</th>\n",
              "    </tr>\n",
              "  </thead>\n",
              "  <tbody>\n",
              "    <tr>\n",
              "      <th>0</th>\n",
              "      <td>2016</td>\n",
              "      <td>1.0</td>\n",
              "      <td>FS002REC</td>\n",
              "      <td>1.0</td>\n",
              "      <td>2016-01-01</td>\n",
              "      <td>0.0</td>\n",
              "      <td>0-15</td>\n",
              "      <td>0.0</td>\n",
              "      <td>2.0</td>\n",
              "      <td>0.0</td>\n",
              "      <td>0.0</td>\n",
              "      <td>0.0</td>\n",
              "      <td>0.0</td>\n",
              "      <td>0.0</td>\n",
              "      <td>0.0</td>\n",
              "      <td>0.0</td>\n",
              "      <td>0.0</td>\n",
              "      <td>0.0</td>\n",
              "    </tr>\n",
              "    <tr>\n",
              "      <th>1</th>\n",
              "      <td>2016</td>\n",
              "      <td>1.0</td>\n",
              "      <td>FS002REC</td>\n",
              "      <td>1.0</td>\n",
              "      <td>2016-01-01</td>\n",
              "      <td>0.0</td>\n",
              "      <td>16-30</td>\n",
              "      <td>0.0</td>\n",
              "      <td>1.0</td>\n",
              "      <td>0.0</td>\n",
              "      <td>0.0</td>\n",
              "      <td>0.0</td>\n",
              "      <td>0.0</td>\n",
              "      <td>0.0</td>\n",
              "      <td>0.0</td>\n",
              "      <td>0.0</td>\n",
              "      <td>0.0</td>\n",
              "      <td>0.0</td>\n",
              "    </tr>\n",
              "    <tr>\n",
              "      <th>2</th>\n",
              "      <td>2016</td>\n",
              "      <td>1.0</td>\n",
              "      <td>FS002REC</td>\n",
              "      <td>1.0</td>\n",
              "      <td>2016-01-01</td>\n",
              "      <td>0.0</td>\n",
              "      <td>31-45</td>\n",
              "      <td>1.0</td>\n",
              "      <td>3.0</td>\n",
              "      <td>1.0</td>\n",
              "      <td>0.0</td>\n",
              "      <td>0.0</td>\n",
              "      <td>0.0</td>\n",
              "      <td>0.0</td>\n",
              "      <td>0.0</td>\n",
              "      <td>0.0</td>\n",
              "      <td>0.0</td>\n",
              "      <td>0.0</td>\n",
              "    </tr>\n",
              "    <tr>\n",
              "      <th>3</th>\n",
              "      <td>2016</td>\n",
              "      <td>1.0</td>\n",
              "      <td>FS002REC</td>\n",
              "      <td>1.0</td>\n",
              "      <td>2016-01-01</td>\n",
              "      <td>0.0</td>\n",
              "      <td>46-59</td>\n",
              "      <td>1.0</td>\n",
              "      <td>1.0</td>\n",
              "      <td>0.0</td>\n",
              "      <td>0.0</td>\n",
              "      <td>0.0</td>\n",
              "      <td>0.0</td>\n",
              "      <td>0.0</td>\n",
              "      <td>0.0</td>\n",
              "      <td>0.0</td>\n",
              "      <td>0.0</td>\n",
              "      <td>0.0</td>\n",
              "    </tr>\n",
              "    <tr>\n",
              "      <th>4</th>\n",
              "      <td>2016</td>\n",
              "      <td>1.0</td>\n",
              "      <td>FS002REC</td>\n",
              "      <td>1.0</td>\n",
              "      <td>2016-01-01</td>\n",
              "      <td>1.0</td>\n",
              "      <td>0-15</td>\n",
              "      <td>0.0</td>\n",
              "      <td>4.0</td>\n",
              "      <td>0.0</td>\n",
              "      <td>0.0</td>\n",
              "      <td>0.0</td>\n",
              "      <td>0.0</td>\n",
              "      <td>0.0</td>\n",
              "      <td>0.0</td>\n",
              "      <td>0.0</td>\n",
              "      <td>0.0</td>\n",
              "      <td>0.0</td>\n",
              "    </tr>\n",
              "  </tbody>\n",
              "</table>\n",
              "</div>"
            ],
            "text/plain": [
              "    ANO  MES EQUIPAMENTO  ...  QTD_81A90KM QTD_91A100KM  QTD_ACIMADE100KM\n",
              "0  2016  1.0    FS002REC  ...          0.0          0.0               0.0\n",
              "1  2016  1.0    FS002REC  ...          0.0          0.0               0.0\n",
              "2  2016  1.0    FS002REC  ...          0.0          0.0               0.0\n",
              "3  2016  1.0    FS002REC  ...          0.0          0.0               0.0\n",
              "4  2016  1.0    FS002REC  ...          0.0          0.0               0.0\n",
              "\n",
              "[5 rows x 18 columns]"
            ]
          },
          "metadata": {
            "tags": []
          },
          "execution_count": 86
        }
      ]
    },
    {
      "cell_type": "code",
      "metadata": {
        "id": "Zn0OjVqekYKy"
      },
      "source": [
        "velocidades['DATA'] = pd.to_datetime(velocidades['DATA'], format='%Y-%m-%d', errors='ignore')\n",
        "\n",
        "velocidades = velocidades.astype({'ANO':'category',\t'MES':'category',\t'EQUIPAMENTO':'category',\t'FAIXA':'category',\t'HORA':'category',\t'MINUTOS_INTERVALO':'category',\t'QTD_0A10KM':'float',\t'QTD_11A20KM':'float',\t'QTD_21A30KM':'float',\t'QTD_31A40KM':'float',\t'QTD_41A50KM':'float',\t'QTD_51A60KM':'float',\t'QTD_61A70KM':'float',\t'QTD_71A80KM':'float',\t'QTD_81A90KM':'float',\t'QTD_91A100KM':'float',\t'QTD_ACIMADE100KM':'float'})"
      ],
      "execution_count": null,
      "outputs": []
    },
    {
      "cell_type": "code",
      "metadata": {
        "colab": {
          "base_uri": "https://localhost:8080/"
        },
        "id": "ZlJ5nJmyqbRc",
        "outputId": "7fc6e92a-a538-4497-adaf-231a4549b4b0"
      },
      "source": [
        "print(velocidades.isnull().sum()/len(velocidades))"
      ],
      "execution_count": null,
      "outputs": [
        {
          "output_type": "stream",
          "text": [
            "ANO                  0.000000e+00\n",
            "MES                  1.806735e-07\n",
            "EQUIPAMENTO          1.264715e-06\n",
            "FAIXA                1.445388e-06\n",
            "DATA                 1.626062e-06\n",
            "HORA                 1.987409e-06\n",
            "MINUTOS_INTERVALO    2.168082e-06\n",
            "QTD_0A10KM           2.710103e-06\n",
            "QTD_11A20KM          3.252123e-06\n",
            "QTD_21A30KM          3.432797e-06\n",
            "QTD_31A40KM          3.794144e-06\n",
            "QTD_41A50KM          4.155491e-06\n",
            "QTD_51A60KM          4.155491e-06\n",
            "QTD_61A70KM          4.336164e-06\n",
            "QTD_71A80KM          4.336164e-06\n",
            "QTD_81A90KM          4.697511e-06\n",
            "QTD_91A100KM         4.697511e-06\n",
            "QTD_ACIMADE100KM     5.058858e-06\n",
            "dtype: float64\n"
          ],
          "name": "stdout"
        }
      ]
    },
    {
      "cell_type": "code",
      "metadata": {
        "id": "WNBrnMWdqleK"
      },
      "source": [
        "velocidades.dropna(subset = [\"ANO\", \"MES\", \"EQUIPAMENTO\", \"FAIXA\", \"DATA\", \"HORA\", \"MINUTOS_INTERVALO\", \"QTD_0A10KM\", \"QTD_11A20KM\", \"QTD_21A30KM\", \"QTD_31A40KM\", \"QTD_41A50KM\", \"QTD_51A60KM\", \"QTD_61A70KM\", \"QTD_71A80KM\", \"QTD_81A90KM\", \"QTD_91A100KM\", \"QTD_ACIMADE100KM\"],inplace=True)"
      ],
      "execution_count": null,
      "outputs": []
    },
    {
      "cell_type": "code",
      "metadata": {
        "colab": {
          "base_uri": "https://localhost:8080/"
        },
        "id": "bLoHDV2Wqo_2",
        "outputId": "d5bc0e1e-a2c8-4e37-86fe-88e713fd8752"
      },
      "source": [
        "  print(velocidades.isnull().sum()/len(velocidades))"
      ],
      "execution_count": null,
      "outputs": [
        {
          "output_type": "stream",
          "text": [
            "ANO                  0.0\n",
            "MES                  0.0\n",
            "EQUIPAMENTO          0.0\n",
            "FAIXA                0.0\n",
            "DATA                 0.0\n",
            "HORA                 0.0\n",
            "MINUTOS_INTERVALO    0.0\n",
            "QTD_0A10KM           0.0\n",
            "QTD_11A20KM          0.0\n",
            "QTD_21A30KM          0.0\n",
            "QTD_31A40KM          0.0\n",
            "QTD_41A50KM          0.0\n",
            "QTD_51A60KM          0.0\n",
            "QTD_61A70KM          0.0\n",
            "QTD_71A80KM          0.0\n",
            "QTD_81A90KM          0.0\n",
            "QTD_91A100KM         0.0\n",
            "QTD_ACIMADE100KM     0.0\n",
            "dtype: float64\n"
          ],
          "name": "stdout"
        }
      ]
    },
    {
      "cell_type": "markdown",
      "metadata": {
        "id": "lzyW_yRxUBU_"
      },
      "source": [
        "#**precisa verificar se o codigo do equipamento no dataset acima é igual ao codigo do equipamento do dataset das multas**"
      ]
    },
    {
      "cell_type": "code",
      "metadata": {
        "id": "CF2dFcRBNH83"
      },
      "source": [
        ""
      ],
      "execution_count": null,
      "outputs": []
    }
  ]
}