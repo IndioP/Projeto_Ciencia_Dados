{
  "nbformat": 4,
  "nbformat_minor": 0,
  "metadata": {
    "colab": {
      "name": "BancoDeDados.ipynb",
      "provenance": [],
      "collapsed_sections": [],
      "mount_file_id": "1quBz9S5nkpSLvX-2dmuxa9XssZ11DiXT",
      "authorship_tag": "ABX9TyPU0ZPIRzD9EeOqKfe23kSE",
      "include_colab_link": true
    },
    "kernelspec": {
      "name": "python3",
      "display_name": "Python 3"
    },
    "language_info": {
      "name": "python"
    }
  },
  "cells": [
    {
      "cell_type": "markdown",
      "metadata": {
        "id": "view-in-github",
        "colab_type": "text"
      },
      "source": [
        "<a href=\"https://colab.research.google.com/github/IndioP/Projeto_Ciencia_Dados/blob/main/preprocessamento.ipynb\" target=\"_parent\"><img src=\"https://colab.research.google.com/assets/colab-badge.svg\" alt=\"Open In Colab\"/></a>"
      ]
    },
    {
      "cell_type": "code",
      "metadata": {
        "id": "lkOuRomea_tk"
      },
      "source": [
        "import numpy as np\n",
        "import pandas as pd"
      ],
      "execution_count": 1,
      "outputs": []
    },
    {
      "cell_type": "markdown",
      "metadata": {
        "id": "eFl2G_WfzjI_"
      },
      "source": [
        "##Acidentes"
      ]
    },
    {
      "cell_type": "code",
      "metadata": {
        "id": "6TsqahvFbNsJ",
        "colab": {
          "base_uri": "https://localhost:8080/"
        },
        "outputId": "35a73f34-77cc-47a0-f51f-3157165611c1"
      },
      "source": [
        "acidentes=pd.read_csv(\"/content/drive/MyDrive/ciencia-de-dados/dataset preprocessado/acidentes_transito_2015_2021.csv\",delimiter = ';')"
      ],
      "execution_count": 6,
      "outputs": [
        {
          "output_type": "stream",
          "text": [
            "/usr/local/lib/python3.7/dist-packages/IPython/core/interactiveshell.py:2718: DtypeWarning: Columns (11,25,26,27,28,29,30,31,32,33,34,35,36,37) have mixed types.Specify dtype option on import or set low_memory=False.\n",
            "  interactivity=interactivity, compiler=compiler, result=result)\n"
          ],
          "name": "stderr"
        }
      ]
    },
    {
      "cell_type": "code",
      "metadata": {
        "colab": {
          "base_uri": "https://localhost:8080/",
          "height": 417
        },
        "id": "vJ2jtgT7bl3X",
        "outputId": "1a9cddb4-2bbf-4237-9acd-8d2cdb909034"
      },
      "source": [
        "acidentes.head()"
      ],
      "execution_count": 7,
      "outputs": [
        {
          "output_type": "execute_result",
          "data": {
            "text/html": [
              "<div>\n",
              "<style scoped>\n",
              "    .dataframe tbody tr th:only-of-type {\n",
              "        vertical-align: middle;\n",
              "    }\n",
              "\n",
              "    .dataframe tbody tr th {\n",
              "        vertical-align: top;\n",
              "    }\n",
              "\n",
              "    .dataframe thead th {\n",
              "        text-align: right;\n",
              "    }\n",
              "</style>\n",
              "<table border=\"1\" class=\"dataframe\">\n",
              "  <thead>\n",
              "    <tr style=\"text-align: right;\">\n",
              "      <th></th>\n",
              "      <th>DATA</th>\n",
              "      <th>HORA</th>\n",
              "      <th>NATUREZA_ACIDENTE</th>\n",
              "      <th>SITUACAO</th>\n",
              "      <th>BAIRRO</th>\n",
              "      <th>ENDERECO</th>\n",
              "      <th>NUMERO</th>\n",
              "      <th>DETALHE_ENDERECO_ACIDENTE</th>\n",
              "      <th>COMPLEMENTO</th>\n",
              "      <th>BAIRRO_CRUZAMENTO</th>\n",
              "      <th>NUM_SEMAFORO</th>\n",
              "      <th>SENTIDO_VIA</th>\n",
              "      <th>TIPO</th>\n",
              "      <th>DESCRICAO</th>\n",
              "      <th>AUTO</th>\n",
              "      <th>MOTO</th>\n",
              "      <th>CICLOM</th>\n",
              "      <th>CICLISTA</th>\n",
              "      <th>PEDESTRE</th>\n",
              "      <th>ONIBUS</th>\n",
              "      <th>CAMINHAO</th>\n",
              "      <th>VIATURA</th>\n",
              "      <th>OUTROS</th>\n",
              "      <th>VITIMAS</th>\n",
              "      <th>VITIMASFATAIS</th>\n",
              "      <th>ACIDENTE_VERIFICADO</th>\n",
              "      <th>TEMPO_CLIMA</th>\n",
              "      <th>SITUACAO_SEMAFORO</th>\n",
              "      <th>SINALIZACAO</th>\n",
              "      <th>CONDICAO_VIA</th>\n",
              "      <th>CONSERVACAO_VIA</th>\n",
              "      <th>PONTO_CONTROLE</th>\n",
              "      <th>SITUACAO_PLACA</th>\n",
              "      <th>VELOCIDADE_MAX_VIA</th>\n",
              "      <th>MAO_DIRECAO</th>\n",
              "      <th>DIVISAO_VIA1</th>\n",
              "      <th>DIVISAO_VIA2</th>\n",
              "      <th>DIVISAO_VIA3</th>\n",
              "      <th>NATUREZA</th>\n",
              "      <th>ENDERECO_CRUZAMENTO</th>\n",
              "      <th>NUMERO_CRUZAMENTO</th>\n",
              "      <th>REFERENCIA_CRUZAMENTO</th>\n",
              "    </tr>\n",
              "  </thead>\n",
              "  <tbody>\n",
              "    <tr>\n",
              "      <th>0</th>\n",
              "      <td>2015-12-03</td>\n",
              "      <td>11:36:00.000</td>\n",
              "      <td>SEM VÍTIMA</td>\n",
              "      <td>CANCELADA</td>\n",
              "      <td>CASA AMARELA</td>\n",
              "      <td>AV NORTE</td>\n",
              "      <td>NaN</td>\n",
              "      <td>NaN</td>\n",
              "      <td>SENTIDO SUBURBIO   E/F AO SESC</td>\n",
              "      <td>NaN</td>\n",
              "      <td>NaN</td>\n",
              "      <td>NaN</td>\n",
              "      <td>COLISÃO</td>\n",
              "      <td>COLISÃO SEM VITIMAS</td>\n",
              "      <td>NaN</td>\n",
              "      <td>NaN</td>\n",
              "      <td>NaN</td>\n",
              "      <td>NaN</td>\n",
              "      <td>NaN</td>\n",
              "      <td>NaN</td>\n",
              "      <td>NaN</td>\n",
              "      <td>NaN</td>\n",
              "      <td>NaN</td>\n",
              "      <td>0.0</td>\n",
              "      <td>NaN</td>\n",
              "      <td>NaN</td>\n",
              "      <td>NaN</td>\n",
              "      <td>NaN</td>\n",
              "      <td>NaN</td>\n",
              "      <td>NaN</td>\n",
              "      <td>NaN</td>\n",
              "      <td>NaN</td>\n",
              "      <td>NaN</td>\n",
              "      <td>NaN</td>\n",
              "      <td>NaN</td>\n",
              "      <td>NaN</td>\n",
              "      <td>NaN</td>\n",
              "      <td>NaN</td>\n",
              "      <td>NaN</td>\n",
              "      <td>NaN</td>\n",
              "      <td>NaN</td>\n",
              "      <td>NaN</td>\n",
              "    </tr>\n",
              "    <tr>\n",
              "      <th>1</th>\n",
              "      <td>2015-06-01</td>\n",
              "      <td>06:35:00.000</td>\n",
              "      <td>SEM VÍTIMA</td>\n",
              "      <td>FINALIZADA</td>\n",
              "      <td>ENCRUZILHADA</td>\n",
              "      <td>EST DE BELEM</td>\n",
              "      <td>NaN</td>\n",
              "      <td>NaN</td>\n",
              "      <td>IGREJA BATISTA MEMORIAL DE BELÉM</td>\n",
              "      <td>NaN</td>\n",
              "      <td>NaN</td>\n",
              "      <td>NaN</td>\n",
              "      <td>COLISÃO</td>\n",
              "      <td>SEM VÍTIMAS.</td>\n",
              "      <td>NaN</td>\n",
              "      <td>2.0</td>\n",
              "      <td>NaN</td>\n",
              "      <td>NaN</td>\n",
              "      <td>NaN</td>\n",
              "      <td>NaN</td>\n",
              "      <td>NaN</td>\n",
              "      <td>NaN</td>\n",
              "      <td>NaN</td>\n",
              "      <td>0.0</td>\n",
              "      <td>NaN</td>\n",
              "      <td>NaN</td>\n",
              "      <td>NaN</td>\n",
              "      <td>NaN</td>\n",
              "      <td>NaN</td>\n",
              "      <td>NaN</td>\n",
              "      <td>NaN</td>\n",
              "      <td>NaN</td>\n",
              "      <td>NaN</td>\n",
              "      <td>NaN</td>\n",
              "      <td>NaN</td>\n",
              "      <td>NaN</td>\n",
              "      <td>NaN</td>\n",
              "      <td>NaN</td>\n",
              "      <td>NaN</td>\n",
              "      <td>NaN</td>\n",
              "      <td>NaN</td>\n",
              "      <td>NaN</td>\n",
              "    </tr>\n",
              "    <tr>\n",
              "      <th>2</th>\n",
              "      <td>2015-06-01</td>\n",
              "      <td>08:04:00.000</td>\n",
              "      <td>SEM VÍTIMA</td>\n",
              "      <td>FINALIZADA</td>\n",
              "      <td>BOA VIAGEM</td>\n",
              "      <td>RUA ERNESTO DE PAULA SANTOS</td>\n",
              "      <td>NaN</td>\n",
              "      <td>NaN</td>\n",
              "      <td>SEMAFORO Nº217</td>\n",
              "      <td>NaN</td>\n",
              "      <td>NaN</td>\n",
              "      <td>NaN</td>\n",
              "      <td>COLISÃO</td>\n",
              "      <td>SEM VITIMA</td>\n",
              "      <td>1.0</td>\n",
              "      <td>NaN</td>\n",
              "      <td>NaN</td>\n",
              "      <td>NaN</td>\n",
              "      <td>NaN</td>\n",
              "      <td>NaN</td>\n",
              "      <td>1.0</td>\n",
              "      <td>NaN</td>\n",
              "      <td>NaN</td>\n",
              "      <td>0.0</td>\n",
              "      <td>NaN</td>\n",
              "      <td>NaN</td>\n",
              "      <td>NaN</td>\n",
              "      <td>NaN</td>\n",
              "      <td>NaN</td>\n",
              "      <td>NaN</td>\n",
              "      <td>NaN</td>\n",
              "      <td>NaN</td>\n",
              "      <td>NaN</td>\n",
              "      <td>NaN</td>\n",
              "      <td>NaN</td>\n",
              "      <td>NaN</td>\n",
              "      <td>NaN</td>\n",
              "      <td>NaN</td>\n",
              "      <td>NaN</td>\n",
              "      <td>NaN</td>\n",
              "      <td>NaN</td>\n",
              "      <td>NaN</td>\n",
              "    </tr>\n",
              "    <tr>\n",
              "      <th>3</th>\n",
              "      <td>2015-06-01</td>\n",
              "      <td>08:06:00.000</td>\n",
              "      <td>SEM VÍTIMA</td>\n",
              "      <td>FINALIZADA</td>\n",
              "      <td>AFOGADOS</td>\n",
              "      <td>AV SUL</td>\n",
              "      <td>NaN</td>\n",
              "      <td>NaN</td>\n",
              "      <td>AO LADO DA ESTAÇAO LARGO DA PAZ</td>\n",
              "      <td>NaN</td>\n",
              "      <td>NaN</td>\n",
              "      <td>NaN</td>\n",
              "      <td>COLISÃO</td>\n",
              "      <td>COLISAO S/V</td>\n",
              "      <td>1.0</td>\n",
              "      <td>NaN</td>\n",
              "      <td>NaN</td>\n",
              "      <td>NaN</td>\n",
              "      <td>NaN</td>\n",
              "      <td>NaN</td>\n",
              "      <td>1.0</td>\n",
              "      <td>NaN</td>\n",
              "      <td>NaN</td>\n",
              "      <td>0.0</td>\n",
              "      <td>NaN</td>\n",
              "      <td>NaN</td>\n",
              "      <td>NaN</td>\n",
              "      <td>NaN</td>\n",
              "      <td>NaN</td>\n",
              "      <td>NaN</td>\n",
              "      <td>NaN</td>\n",
              "      <td>NaN</td>\n",
              "      <td>NaN</td>\n",
              "      <td>NaN</td>\n",
              "      <td>NaN</td>\n",
              "      <td>NaN</td>\n",
              "      <td>NaN</td>\n",
              "      <td>NaN</td>\n",
              "      <td>NaN</td>\n",
              "      <td>NaN</td>\n",
              "      <td>NaN</td>\n",
              "      <td>NaN</td>\n",
              "    </tr>\n",
              "    <tr>\n",
              "      <th>4</th>\n",
              "      <td>2015-06-01</td>\n",
              "      <td>08:13:00.000</td>\n",
              "      <td>SEM VÍTIMA</td>\n",
              "      <td>CANCELADA</td>\n",
              "      <td>MADALENA</td>\n",
              "      <td>RUA BENFICA</td>\n",
              "      <td>NaN</td>\n",
              "      <td>NaN</td>\n",
              "      <td>EM  FRENTE AO CLUBE INTERNACIONAL</td>\n",
              "      <td>NaN</td>\n",
              "      <td>NaN</td>\n",
              "      <td>NaN</td>\n",
              "      <td>COLISÃO</td>\n",
              "      <td>GM RIBEIRO JA NO LOCAL VT 05</td>\n",
              "      <td>2.0</td>\n",
              "      <td>NaN</td>\n",
              "      <td>NaN</td>\n",
              "      <td>NaN</td>\n",
              "      <td>NaN</td>\n",
              "      <td>NaN</td>\n",
              "      <td>NaN</td>\n",
              "      <td>NaN</td>\n",
              "      <td>NaN</td>\n",
              "      <td>0.0</td>\n",
              "      <td>NaN</td>\n",
              "      <td>NaN</td>\n",
              "      <td>NaN</td>\n",
              "      <td>NaN</td>\n",
              "      <td>NaN</td>\n",
              "      <td>NaN</td>\n",
              "      <td>NaN</td>\n",
              "      <td>NaN</td>\n",
              "      <td>NaN</td>\n",
              "      <td>NaN</td>\n",
              "      <td>NaN</td>\n",
              "      <td>NaN</td>\n",
              "      <td>NaN</td>\n",
              "      <td>NaN</td>\n",
              "      <td>NaN</td>\n",
              "      <td>NaN</td>\n",
              "      <td>NaN</td>\n",
              "      <td>NaN</td>\n",
              "    </tr>\n",
              "  </tbody>\n",
              "</table>\n",
              "</div>"
            ],
            "text/plain": [
              "         DATA          HORA  ... NUMERO_CRUZAMENTO REFERENCIA_CRUZAMENTO\n",
              "0  2015-12-03  11:36:00.000  ...               NaN                   NaN\n",
              "1  2015-06-01  06:35:00.000  ...               NaN                   NaN\n",
              "2  2015-06-01  08:04:00.000  ...               NaN                   NaN\n",
              "3  2015-06-01  08:06:00.000  ...               NaN                   NaN\n",
              "4  2015-06-01  08:13:00.000  ...               NaN                   NaN\n",
              "\n",
              "[5 rows x 42 columns]"
            ]
          },
          "metadata": {
            "tags": []
          },
          "execution_count": 7
        }
      ]
    },
    {
      "cell_type": "code",
      "metadata": {
        "colab": {
          "base_uri": "https://localhost:8080/"
        },
        "id": "0CPfi3r7oAf3",
        "outputId": "36bf7dfe-666a-4fd9-d35b-8e94ccf2a44a"
      },
      "source": [
        "acidentes.dtypes"
      ],
      "execution_count": 8,
      "outputs": [
        {
          "output_type": "execute_result",
          "data": {
            "text/plain": [
              "DATA                          object\n",
              "HORA                          object\n",
              "NATUREZA_ACIDENTE             object\n",
              "SITUACAO                      object\n",
              "BAIRRO                        object\n",
              "ENDERECO                      object\n",
              "NUMERO                        object\n",
              "DETALHE_ENDERECO_ACIDENTE     object\n",
              "COMPLEMENTO                   object\n",
              "BAIRRO_CRUZAMENTO             object\n",
              "NUM_SEMAFORO                 float64\n",
              "SENTIDO_VIA                   object\n",
              "TIPO                          object\n",
              "DESCRICAO                     object\n",
              "AUTO                         float64\n",
              "MOTO                         float64\n",
              "CICLOM                       float64\n",
              "CICLISTA                     float64\n",
              "PEDESTRE                     float64\n",
              "ONIBUS                       float64\n",
              "CAMINHAO                     float64\n",
              "VIATURA                      float64\n",
              "OUTROS                       float64\n",
              "VITIMAS                      float64\n",
              "VITIMASFATAIS                float64\n",
              "ACIDENTE_VERIFICADO           object\n",
              "TEMPO_CLIMA                   object\n",
              "SITUACAO_SEMAFORO             object\n",
              "SINALIZACAO                   object\n",
              "CONDICAO_VIA                  object\n",
              "CONSERVACAO_VIA               object\n",
              "PONTO_CONTROLE                object\n",
              "SITUACAO_PLACA                object\n",
              "VELOCIDADE_MAX_VIA            object\n",
              "MAO_DIRECAO                   object\n",
              "DIVISAO_VIA1                  object\n",
              "DIVISAO_VIA2                  object\n",
              "DIVISAO_VIA3                  object\n",
              "NATUREZA                     float64\n",
              "ENDERECO_CRUZAMENTO           object\n",
              "NUMERO_CRUZAMENTO             object\n",
              "REFERENCIA_CRUZAMENTO         object\n",
              "dtype: object"
            ]
          },
          "metadata": {
            "tags": []
          },
          "execution_count": 8
        }
      ]
    },
    {
      "cell_type": "code",
      "metadata": {
        "id": "XPyWVVuz76yP"
      },
      "source": [
        "#ajustando tipos dos dados\n",
        "\n",
        "acidentes['DATA'] = pd.to_datetime(acidentes['DATA'], format='%Y-%m-%d', errors='ignore')\n",
        "acidentes['HORA'] = pd.to_datetime(acidentes['HORA'], format='%H:%M:%S', errors = 'ignore')\n",
        "\n",
        "acidentes = acidentes.astype({'NATUREZA_ACIDENTE':'category','SITUACAO':'category','BAIRRO':'category','ENDERECO':'category','NUMERO':'category','DETALHE_ENDERECO_ACIDENTE':'category','COMPLEMENTO':'category','BAIRRO_CRUZAMENTO':'category','NUM_SEMAFORO':'category','SENTIDO_VIA':'category','TIPO':'category','DESCRICAO':'category','AUTO':'float','MOTO':'float','CICLOM':'float','CICLISTA':'float','PEDESTRE':'float','ONIBUS':'float','CAMINHAO':'float','VIATURA':'float','OUTROS':'float','VITIMAS':'float','VITIMASFATAIS':'float','ACIDENTE_VERIFICADO':'category','TEMPO_CLIMA':'category','SITUACAO_SEMAFORO':'category','SINALIZACAO':'category','CONDICAO_VIA':'category','CONSERVACAO_VIA':'category','PONTO_CONTROLE':'category','SITUACAO_PLACA':'category','VELOCIDADE_MAX_VIA':'category','MAO_DIRECAO':'category','DIVISAO_VIA1':'category','DIVISAO_VIA2':'category','DIVISAO_VIA3':'category','NATUREZA':'category','ENDERECO_CRUZAMENTO':'category','NUMERO_CRUZAMENTO':'category','REFERENCIA_CRUZAMENTO':'category'})"
      ],
      "execution_count": 37,
      "outputs": []
    },
    {
      "cell_type": "code",
      "metadata": {
        "colab": {
          "base_uri": "https://localhost:8080/"
        },
        "id": "YjwXenr44sxJ",
        "outputId": "1ab0be99-0dd2-45c6-a681-971b425814b5"
      },
      "source": [
        "acidentes.dtypes"
      ],
      "execution_count": 38,
      "outputs": [
        {
          "output_type": "execute_result",
          "data": {
            "text/plain": [
              "DATA                         datetime64[ns]\n",
              "HORA                                 object\n",
              "NATUREZA_ACIDENTE                  category\n",
              "SITUACAO                           category\n",
              "BAIRRO                             category\n",
              "ENDERECO                           category\n",
              "NUMERO                             category\n",
              "DETALHE_ENDERECO_ACIDENTE          category\n",
              "COMPLEMENTO                        category\n",
              "BAIRRO_CRUZAMENTO                  category\n",
              "NUM_SEMAFORO                       category\n",
              "SENTIDO_VIA                        category\n",
              "TIPO                               category\n",
              "DESCRICAO                          category\n",
              "AUTO                                float64\n",
              "MOTO                                float64\n",
              "CICLOM                              float64\n",
              "CICLISTA                            float64\n",
              "PEDESTRE                            float64\n",
              "ONIBUS                              float64\n",
              "CAMINHAO                            float64\n",
              "VIATURA                             float64\n",
              "OUTROS                              float64\n",
              "VITIMAS                             float64\n",
              "VITIMASFATAIS                       float64\n",
              "ACIDENTE_VERIFICADO                category\n",
              "TEMPO_CLIMA                        category\n",
              "SITUACAO_SEMAFORO                  category\n",
              "SINALIZACAO                        category\n",
              "CONDICAO_VIA                       category\n",
              "CONSERVACAO_VIA                    category\n",
              "PONTO_CONTROLE                     category\n",
              "SITUACAO_PLACA                     category\n",
              "VELOCIDADE_MAX_VIA                 category\n",
              "MAO_DIRECAO                        category\n",
              "DIVISAO_VIA1                       category\n",
              "DIVISAO_VIA2                       category\n",
              "DIVISAO_VIA3                       category\n",
              "NATUREZA                           category\n",
              "ENDERECO_CRUZAMENTO                category\n",
              "NUMERO_CRUZAMENTO                  category\n",
              "REFERENCIA_CRUZAMENTO              category\n",
              "dtype: object"
            ]
          },
          "metadata": {
            "tags": []
          },
          "execution_count": 38
        }
      ]
    },
    {
      "cell_type": "code",
      "metadata": {
        "id": "zWVyHeyQ91x_"
      },
      "source": [
        "#Tentando gerar a coluna de Dia da semana...\n",
        "#não ta funcionando por enquanto....\n",
        "#precisamos rever\n",
        "\n",
        "\n",
        "#acidentes['DIA_DA_SEMANA'] = acidentes['DATA'].to_timestamp\n",
        "#acidentes['DIA_DA_SEMANA'].unique()\n",
        "#acidentes['DIA_DA_SEMANA'] = acidentes['DIA_DA_SEMANA'].day_name()\n"
      ],
      "execution_count": 43,
      "outputs": []
    },
    {
      "cell_type": "code",
      "metadata": {
        "colab": {
          "base_uri": "https://localhost:8080/"
        },
        "id": "JRm2d8p003o2",
        "outputId": "648d1b04-447d-4d8e-fb77-da16d05bf0d2"
      },
      "source": [
        "print(acidentes.isnull().sum()/len(acidentes))"
      ],
      "execution_count": 45,
      "outputs": [
        {
          "output_type": "stream",
          "text": [
            "DATA                         0.000000\n",
            "HORA                         0.000947\n",
            "NATUREZA_ACIDENTE            0.007267\n",
            "SITUACAO                     0.000930\n",
            "BAIRRO                       0.005631\n",
            "ENDERECO                     0.004064\n",
            "NUMERO                       0.544842\n",
            "DETALHE_ENDERECO_ACIDENTE    0.855468\n",
            "COMPLEMENTO                  0.062356\n",
            "BAIRRO_CRUZAMENTO            0.129051\n",
            "NUM_SEMAFORO                 0.915585\n",
            "SENTIDO_VIA                  0.776787\n",
            "TIPO                         0.000982\n",
            "DESCRICAO                    0.220561\n",
            "AUTO                         0.093422\n",
            "MOTO                         0.745256\n",
            "CICLOM                       0.992991\n",
            "CICLISTA                     0.985190\n",
            "PEDESTRE                     0.978405\n",
            "ONIBUS                       0.852041\n",
            "CAMINHAO                     0.900499\n",
            "VIATURA                      0.988307\n",
            "OUTROS                       0.988531\n",
            "VITIMAS                      0.004718\n",
            "VITIMASFATAIS                0.997382\n",
            "ACIDENTE_VERIFICADO          0.749458\n",
            "TEMPO_CLIMA                  0.739625\n",
            "SITUACAO_SEMAFORO            0.742931\n",
            "SINALIZACAO                  0.744464\n",
            "CONDICAO_VIA                 0.740434\n",
            "CONSERVACAO_VIA              0.744136\n",
            "PONTO_CONTROLE               0.764956\n",
            "SITUACAO_PLACA               0.764887\n",
            "VELOCIDADE_MAX_VIA           0.921595\n",
            "MAO_DIRECAO                  0.744567\n",
            "DIVISAO_VIA1                 0.754624\n",
            "DIVISAO_VIA2                 0.976718\n",
            "DIVISAO_VIA3                 0.995505\n",
            "NATUREZA                     1.000000\n",
            "ENDERECO_CRUZAMENTO          0.200844\n",
            "NUMERO_CRUZAMENTO            0.437403\n",
            "REFERENCIA_CRUZAMENTO        0.249475\n",
            "DIA_DA_SEMANA                0.000000\n",
            "dtype: float64\n"
          ],
          "name": "stdout"
        }
      ]
    },
    {
      "cell_type": "markdown",
      "metadata": {
        "id": "mvVZ5hRZBHgk"
      },
      "source": [
        "*** As colunas abaixo vão ser retiradas pela falta de valores ser muito elevada em relação ao dataset***\n",
        "\n",
        "NUMERO além de que essa granularidade seria muito especifica para o nosso foco\n",
        "\n",
        "DETALHE_ENDERECO_ACIDENTE é um valor muito subjetivo e pouco padronizado\n",
        "\n",
        "NUM_SEMAFORO é um numero que não significa muita coisa pro nosso foco\n",
        "\n",
        "SENTIDO_VIA seria muito especifico para os testes que a gente vai fazer\n",
        "\n",
        "DIVISAO_VIA2 existem poucas vias com 3 faixas\n",
        "\n",
        "DIVISAO_VIA3 existem poucas vias com 4 faixas\n",
        "\n",
        "NATUREZA essa coluna ta vazia\n",
        "\n",
        "ENDERECO_CRUZAMENTO\n",
        "\n",
        "NUMERO_CRUZAMENTO\n",
        "\n",
        "REFERENCIA_CRUZAMENTO\n"
      ]
    },
    {
      "cell_type": "code",
      "metadata": {
        "colab": {
          "base_uri": "https://localhost:8080/",
          "height": 217
        },
        "id": "jFJMNlxsLFZl",
        "outputId": "6c4c1e5e-e048-4deb-891a-0936ffb17a95"
      },
      "source": [
        "excluidos = acidentes[[ 'NUMERO','DETALHE_ENDERECO_ACIDENTE','NUM_SEMAFORO','SENTIDO_VIA','DIVISAO_VIA2','DIVISAO_VIA3','NATUREZA','ENDERECO_CRUZAMENTO','NUMERO_CRUZAMENTO','REFERENCIA_CRUZAMENTO']]\n",
        "excluidos.head()"
      ],
      "execution_count": 62,
      "outputs": [
        {
          "output_type": "execute_result",
          "data": {
            "text/html": [
              "<div>\n",
              "<style scoped>\n",
              "    .dataframe tbody tr th:only-of-type {\n",
              "        vertical-align: middle;\n",
              "    }\n",
              "\n",
              "    .dataframe tbody tr th {\n",
              "        vertical-align: top;\n",
              "    }\n",
              "\n",
              "    .dataframe thead th {\n",
              "        text-align: right;\n",
              "    }\n",
              "</style>\n",
              "<table border=\"1\" class=\"dataframe\">\n",
              "  <thead>\n",
              "    <tr style=\"text-align: right;\">\n",
              "      <th></th>\n",
              "      <th>NUMERO</th>\n",
              "      <th>DETALHE_ENDERECO_ACIDENTE</th>\n",
              "      <th>NUM_SEMAFORO</th>\n",
              "      <th>SENTIDO_VIA</th>\n",
              "      <th>DIVISAO_VIA2</th>\n",
              "      <th>DIVISAO_VIA3</th>\n",
              "      <th>NATUREZA</th>\n",
              "      <th>ENDERECO_CRUZAMENTO</th>\n",
              "      <th>NUMERO_CRUZAMENTO</th>\n",
              "      <th>REFERENCIA_CRUZAMENTO</th>\n",
              "    </tr>\n",
              "  </thead>\n",
              "  <tbody>\n",
              "    <tr>\n",
              "      <th>0</th>\n",
              "      <td>NaN</td>\n",
              "      <td>NaN</td>\n",
              "      <td>NaN</td>\n",
              "      <td>NaN</td>\n",
              "      <td>NaN</td>\n",
              "      <td>NaN</td>\n",
              "      <td>NaN</td>\n",
              "      <td>NaN</td>\n",
              "      <td>NaN</td>\n",
              "      <td>NaN</td>\n",
              "    </tr>\n",
              "    <tr>\n",
              "      <th>1</th>\n",
              "      <td>NaN</td>\n",
              "      <td>NaN</td>\n",
              "      <td>NaN</td>\n",
              "      <td>NaN</td>\n",
              "      <td>NaN</td>\n",
              "      <td>NaN</td>\n",
              "      <td>NaN</td>\n",
              "      <td>NaN</td>\n",
              "      <td>NaN</td>\n",
              "      <td>NaN</td>\n",
              "    </tr>\n",
              "    <tr>\n",
              "      <th>2</th>\n",
              "      <td>NaN</td>\n",
              "      <td>NaN</td>\n",
              "      <td>NaN</td>\n",
              "      <td>NaN</td>\n",
              "      <td>NaN</td>\n",
              "      <td>NaN</td>\n",
              "      <td>NaN</td>\n",
              "      <td>NaN</td>\n",
              "      <td>NaN</td>\n",
              "      <td>NaN</td>\n",
              "    </tr>\n",
              "    <tr>\n",
              "      <th>3</th>\n",
              "      <td>NaN</td>\n",
              "      <td>NaN</td>\n",
              "      <td>NaN</td>\n",
              "      <td>NaN</td>\n",
              "      <td>NaN</td>\n",
              "      <td>NaN</td>\n",
              "      <td>NaN</td>\n",
              "      <td>NaN</td>\n",
              "      <td>NaN</td>\n",
              "      <td>NaN</td>\n",
              "    </tr>\n",
              "    <tr>\n",
              "      <th>4</th>\n",
              "      <td>NaN</td>\n",
              "      <td>NaN</td>\n",
              "      <td>NaN</td>\n",
              "      <td>NaN</td>\n",
              "      <td>NaN</td>\n",
              "      <td>NaN</td>\n",
              "      <td>NaN</td>\n",
              "      <td>NaN</td>\n",
              "      <td>NaN</td>\n",
              "      <td>NaN</td>\n",
              "    </tr>\n",
              "  </tbody>\n",
              "</table>\n",
              "</div>"
            ],
            "text/plain": [
              "  NUMERO DETALHE_ENDERECO_ACIDENTE  ... NUMERO_CRUZAMENTO REFERENCIA_CRUZAMENTO\n",
              "0    NaN                       NaN  ...               NaN                   NaN\n",
              "1    NaN                       NaN  ...               NaN                   NaN\n",
              "2    NaN                       NaN  ...               NaN                   NaN\n",
              "3    NaN                       NaN  ...               NaN                   NaN\n",
              "4    NaN                       NaN  ...               NaN                   NaN\n",
              "\n",
              "[5 rows x 10 columns]"
            ]
          },
          "metadata": {
            "tags": []
          },
          "execution_count": 62
        }
      ]
    },
    {
      "cell_type": "code",
      "metadata": {
        "id": "bE_6UOzF4x5f"
      },
      "source": [
        "#apagando algumas tabelas que não eram tão interessantes pra gente\n",
        "acidentes = acidentes.drop([ 'NUMERO','DETALHE_ENDERECO_ACIDENTE','NUM_SEMAFORO','SENTIDO_VIA','DIVISAO_VIA2','DIVISAO_VIA3','NATUREZA','ENDERECO_CRUZAMENTO','NUMERO_CRUZAMENTO','REFERENCIA_CRUZAMENTO'], axis=1)"
      ],
      "execution_count": 63,
      "outputs": []
    },
    {
      "cell_type": "code",
      "metadata": {
        "colab": {
          "base_uri": "https://localhost:8080/",
          "height": 584
        },
        "id": "Zcojji404Ckm",
        "outputId": "b261ab99-a67d-4e21-c5e9-08be982a0a2d"
      },
      "source": [
        "acidentes.head()"
      ],
      "execution_count": null,
      "outputs": [
        {
          "output_type": "execute_result",
          "data": {
            "text/html": [
              "<div>\n",
              "<style scoped>\n",
              "    .dataframe tbody tr th:only-of-type {\n",
              "        vertical-align: middle;\n",
              "    }\n",
              "\n",
              "    .dataframe tbody tr th {\n",
              "        vertical-align: top;\n",
              "    }\n",
              "\n",
              "    .dataframe thead th {\n",
              "        text-align: right;\n",
              "    }\n",
              "</style>\n",
              "<table border=\"1\" class=\"dataframe\">\n",
              "  <thead>\n",
              "    <tr style=\"text-align: right;\">\n",
              "      <th></th>\n",
              "      <th>data</th>\n",
              "      <th>hora</th>\n",
              "      <th>natureza_acidente</th>\n",
              "      <th>situacao</th>\n",
              "      <th>bairro</th>\n",
              "      <th>endereco</th>\n",
              "      <th>numero</th>\n",
              "      <th>tipo</th>\n",
              "      <th>descricao</th>\n",
              "      <th>auto</th>\n",
              "      <th>moto</th>\n",
              "      <th>ciclom</th>\n",
              "      <th>ciclista</th>\n",
              "      <th>pedestre</th>\n",
              "      <th>onibus</th>\n",
              "      <th>caminhao</th>\n",
              "      <th>viatura</th>\n",
              "      <th>outros</th>\n",
              "      <th>vitimas</th>\n",
              "      <th>vitimasfatais</th>\n",
              "    </tr>\n",
              "  </thead>\n",
              "  <tbody>\n",
              "    <tr>\n",
              "      <th>0</th>\n",
              "      <td>2016-01-01</td>\n",
              "      <td>00:58:00</td>\n",
              "      <td>SEM VÍTIMA</td>\n",
              "      <td>FINALIZADA</td>\n",
              "      <td>IPUTINGA</td>\n",
              "      <td>AV JORNALISTA POSSIDONIO CAVALCANTI BASTOS</td>\n",
              "      <td>NaN</td>\n",
              "      <td>COLISÃO</td>\n",
              "      <td>COLISAO ENTRE UMA VIATUA E UM CAMINHAO S/V</td>\n",
              "      <td>1.0</td>\n",
              "      <td>0.0</td>\n",
              "      <td>0.0</td>\n",
              "      <td>0.0</td>\n",
              "      <td>0.0</td>\n",
              "      <td>0.0</td>\n",
              "      <td>1.0</td>\n",
              "      <td>0.0</td>\n",
              "      <td>0.0</td>\n",
              "      <td>0.0</td>\n",
              "      <td>0.0</td>\n",
              "    </tr>\n",
              "    <tr>\n",
              "      <th>1</th>\n",
              "      <td>2016-01-01</td>\n",
              "      <td>01:23:00</td>\n",
              "      <td>SEM VÍTIMA</td>\n",
              "      <td>FINALIZADA</td>\n",
              "      <td>BOA VIAGEM</td>\n",
              "      <td>AV ENGENHEIRO DOMINGOS FERREIRA</td>\n",
              "      <td>NaN</td>\n",
              "      <td>COLISÃO</td>\n",
              "      <td>COLISAO ENTRE DOIS AUTO S/V</td>\n",
              "      <td>2.0</td>\n",
              "      <td>0.0</td>\n",
              "      <td>0.0</td>\n",
              "      <td>0.0</td>\n",
              "      <td>0.0</td>\n",
              "      <td>0.0</td>\n",
              "      <td>0.0</td>\n",
              "      <td>0.0</td>\n",
              "      <td>0.0</td>\n",
              "      <td>0.0</td>\n",
              "      <td>0.0</td>\n",
              "    </tr>\n",
              "    <tr>\n",
              "      <th>2</th>\n",
              "      <td>2016-01-01</td>\n",
              "      <td>01:42:00</td>\n",
              "      <td>SEM VÍTIMA</td>\n",
              "      <td>CANCELADA</td>\n",
              "      <td>JORDÃO</td>\n",
              "      <td>RUA DR ALVARO FERRAZ</td>\n",
              "      <td>20</td>\n",
              "      <td>COLISÃO</td>\n",
              "      <td>COLISAO ENTRE DOIS AUTO S/V</td>\n",
              "      <td>2.0</td>\n",
              "      <td>0.0</td>\n",
              "      <td>0.0</td>\n",
              "      <td>0.0</td>\n",
              "      <td>0.0</td>\n",
              "      <td>0.0</td>\n",
              "      <td>0.0</td>\n",
              "      <td>0.0</td>\n",
              "      <td>0.0</td>\n",
              "      <td>0.0</td>\n",
              "      <td>0.0</td>\n",
              "    </tr>\n",
              "    <tr>\n",
              "      <th>3</th>\n",
              "      <td>2016-01-01</td>\n",
              "      <td>03:08:00</td>\n",
              "      <td>SEM VÍTIMA</td>\n",
              "      <td>FINALIZADA</td>\n",
              "      <td>IBURA</td>\n",
              "      <td>AV JORNALISTA COSTA PORTO</td>\n",
              "      <td>1080</td>\n",
              "      <td>COLISÃO</td>\n",
              "      <td>COLISAO ENTRE DOIS CARROS S/V</td>\n",
              "      <td>2.0</td>\n",
              "      <td>0.0</td>\n",
              "      <td>0.0</td>\n",
              "      <td>0.0</td>\n",
              "      <td>0.0</td>\n",
              "      <td>0.0</td>\n",
              "      <td>0.0</td>\n",
              "      <td>0.0</td>\n",
              "      <td>0.0</td>\n",
              "      <td>0.0</td>\n",
              "      <td>0.0</td>\n",
              "    </tr>\n",
              "    <tr>\n",
              "      <th>4</th>\n",
              "      <td>2016-01-01</td>\n",
              "      <td>05:34:00</td>\n",
              "      <td>COM VÍTIMA</td>\n",
              "      <td>CANCELADA</td>\n",
              "      <td>PAISSANDU</td>\n",
              "      <td>AV GOVERNADOR AGAMENON MAGALHAES</td>\n",
              "      <td>NaN</td>\n",
              "      <td>CHOQUE</td>\n",
              "      <td>MOTO CHOCOU-SE CONTRA A CALÇADA, COM VITIMA</td>\n",
              "      <td>0.0</td>\n",
              "      <td>1.0</td>\n",
              "      <td>0.0</td>\n",
              "      <td>0.0</td>\n",
              "      <td>0.0</td>\n",
              "      <td>0.0</td>\n",
              "      <td>0.0</td>\n",
              "      <td>0.0</td>\n",
              "      <td>0.0</td>\n",
              "      <td>1.0</td>\n",
              "      <td>0.0</td>\n",
              "    </tr>\n",
              "  </tbody>\n",
              "</table>\n",
              "</div>"
            ],
            "text/plain": [
              "        data      hora natureza_acidente  ... outros vitimas vitimasfatais\n",
              "0 2016-01-01  00:58:00        SEM VÍTIMA  ...    0.0     0.0           0.0\n",
              "1 2016-01-01  01:23:00        SEM VÍTIMA  ...    0.0     0.0           0.0\n",
              "2 2016-01-01  01:42:00        SEM VÍTIMA  ...    0.0     0.0           0.0\n",
              "3 2016-01-01  03:08:00        SEM VÍTIMA  ...    0.0     0.0           0.0\n",
              "4 2016-01-01  05:34:00        COM VÍTIMA  ...    0.0     1.0           0.0\n",
              "\n",
              "[5 rows x 20 columns]"
            ]
          },
          "metadata": {
            "tags": []
          },
          "execution_count": 25
        }
      ]
    },
    {
      "cell_type": "code",
      "metadata": {
        "id": "ThpKPu7_qyuy"
      },
      "source": [
        "acidentes['auto'] = acidentes['auto'].fillna(0)\n",
        "acidentes['moto'] = acidentes['moto'].fillna(0)\n",
        "acidentes['ciclom'] = acidentes['ciclom'].fillna(0)\n",
        "acidentes['ciclista'] = acidentes['ciclista'].fillna(0)\n",
        "acidentes['pedestre'] = acidentes['pedestre'].fillna(0)\n",
        "acidentes['onibus'] = acidentes['onibus'].fillna(0)\n",
        "acidentes['caminhao'] = acidentes['caminhao'].fillna(0)\n",
        "acidentes['viatura'] = acidentes['viatura'].fillna(0)\n",
        "acidentes['outros'] = acidentes['outros'].fillna(0)\n",
        "\n",
        "acidentes['vitimasfatais'] = acidentes['vitimasfatais'].fillna(0)\n",
        "\n"
      ],
      "execution_count": null,
      "outputs": []
    },
    {
      "cell_type": "code",
      "metadata": {
        "colab": {
          "base_uri": "https://localhost:8080/",
          "height": 584
        },
        "id": "QjzSIo0xriur",
        "outputId": "ec6090cc-4d73-4cb5-c649-7317a402765d"
      },
      "source": [
        "acidentes.head()"
      ],
      "execution_count": null,
      "outputs": [
        {
          "output_type": "execute_result",
          "data": {
            "text/html": [
              "<div>\n",
              "<style scoped>\n",
              "    .dataframe tbody tr th:only-of-type {\n",
              "        vertical-align: middle;\n",
              "    }\n",
              "\n",
              "    .dataframe tbody tr th {\n",
              "        vertical-align: top;\n",
              "    }\n",
              "\n",
              "    .dataframe thead th {\n",
              "        text-align: right;\n",
              "    }\n",
              "</style>\n",
              "<table border=\"1\" class=\"dataframe\">\n",
              "  <thead>\n",
              "    <tr style=\"text-align: right;\">\n",
              "      <th></th>\n",
              "      <th>data</th>\n",
              "      <th>hora</th>\n",
              "      <th>natureza_acidente</th>\n",
              "      <th>situacao</th>\n",
              "      <th>bairro</th>\n",
              "      <th>endereco</th>\n",
              "      <th>numero</th>\n",
              "      <th>tipo</th>\n",
              "      <th>descricao</th>\n",
              "      <th>auto</th>\n",
              "      <th>moto</th>\n",
              "      <th>ciclom</th>\n",
              "      <th>ciclista</th>\n",
              "      <th>pedestre</th>\n",
              "      <th>onibus</th>\n",
              "      <th>caminhao</th>\n",
              "      <th>viatura</th>\n",
              "      <th>outros</th>\n",
              "      <th>vitimas</th>\n",
              "      <th>vitimasfatais</th>\n",
              "    </tr>\n",
              "  </thead>\n",
              "  <tbody>\n",
              "    <tr>\n",
              "      <th>0</th>\n",
              "      <td>2016-01-01</td>\n",
              "      <td>00:58:00</td>\n",
              "      <td>SEM VÍTIMA</td>\n",
              "      <td>FINALIZADA</td>\n",
              "      <td>IPUTINGA</td>\n",
              "      <td>AV JORNALISTA POSSIDONIO CAVALCANTI BASTOS</td>\n",
              "      <td>NaN</td>\n",
              "      <td>COLISÃO</td>\n",
              "      <td>COLISAO ENTRE UMA VIATUA E UM CAMINHAO S/V</td>\n",
              "      <td>1.0</td>\n",
              "      <td>0.0</td>\n",
              "      <td>0.0</td>\n",
              "      <td>0.0</td>\n",
              "      <td>0.0</td>\n",
              "      <td>0.0</td>\n",
              "      <td>1.0</td>\n",
              "      <td>0.0</td>\n",
              "      <td>0.0</td>\n",
              "      <td>0.0</td>\n",
              "      <td>0.0</td>\n",
              "    </tr>\n",
              "    <tr>\n",
              "      <th>1</th>\n",
              "      <td>2016-01-01</td>\n",
              "      <td>01:23:00</td>\n",
              "      <td>SEM VÍTIMA</td>\n",
              "      <td>FINALIZADA</td>\n",
              "      <td>BOA VIAGEM</td>\n",
              "      <td>AV ENGENHEIRO DOMINGOS FERREIRA</td>\n",
              "      <td>NaN</td>\n",
              "      <td>COLISÃO</td>\n",
              "      <td>COLISAO ENTRE DOIS AUTO S/V</td>\n",
              "      <td>2.0</td>\n",
              "      <td>0.0</td>\n",
              "      <td>0.0</td>\n",
              "      <td>0.0</td>\n",
              "      <td>0.0</td>\n",
              "      <td>0.0</td>\n",
              "      <td>0.0</td>\n",
              "      <td>0.0</td>\n",
              "      <td>0.0</td>\n",
              "      <td>0.0</td>\n",
              "      <td>0.0</td>\n",
              "    </tr>\n",
              "    <tr>\n",
              "      <th>2</th>\n",
              "      <td>2016-01-01</td>\n",
              "      <td>01:42:00</td>\n",
              "      <td>SEM VÍTIMA</td>\n",
              "      <td>CANCELADA</td>\n",
              "      <td>JORDÃO</td>\n",
              "      <td>RUA DR ALVARO FERRAZ</td>\n",
              "      <td>20</td>\n",
              "      <td>COLISÃO</td>\n",
              "      <td>COLISAO ENTRE DOIS AUTO S/V</td>\n",
              "      <td>2.0</td>\n",
              "      <td>0.0</td>\n",
              "      <td>0.0</td>\n",
              "      <td>0.0</td>\n",
              "      <td>0.0</td>\n",
              "      <td>0.0</td>\n",
              "      <td>0.0</td>\n",
              "      <td>0.0</td>\n",
              "      <td>0.0</td>\n",
              "      <td>0.0</td>\n",
              "      <td>0.0</td>\n",
              "    </tr>\n",
              "    <tr>\n",
              "      <th>3</th>\n",
              "      <td>2016-01-01</td>\n",
              "      <td>03:08:00</td>\n",
              "      <td>SEM VÍTIMA</td>\n",
              "      <td>FINALIZADA</td>\n",
              "      <td>IBURA</td>\n",
              "      <td>AV JORNALISTA COSTA PORTO</td>\n",
              "      <td>1080</td>\n",
              "      <td>COLISÃO</td>\n",
              "      <td>COLISAO ENTRE DOIS CARROS S/V</td>\n",
              "      <td>2.0</td>\n",
              "      <td>0.0</td>\n",
              "      <td>0.0</td>\n",
              "      <td>0.0</td>\n",
              "      <td>0.0</td>\n",
              "      <td>0.0</td>\n",
              "      <td>0.0</td>\n",
              "      <td>0.0</td>\n",
              "      <td>0.0</td>\n",
              "      <td>0.0</td>\n",
              "      <td>0.0</td>\n",
              "    </tr>\n",
              "    <tr>\n",
              "      <th>4</th>\n",
              "      <td>2016-01-01</td>\n",
              "      <td>05:34:00</td>\n",
              "      <td>COM VÍTIMA</td>\n",
              "      <td>CANCELADA</td>\n",
              "      <td>PAISSANDU</td>\n",
              "      <td>AV GOVERNADOR AGAMENON MAGALHAES</td>\n",
              "      <td>NaN</td>\n",
              "      <td>CHOQUE</td>\n",
              "      <td>MOTO CHOCOU-SE CONTRA A CALÇADA, COM VITIMA</td>\n",
              "      <td>0.0</td>\n",
              "      <td>1.0</td>\n",
              "      <td>0.0</td>\n",
              "      <td>0.0</td>\n",
              "      <td>0.0</td>\n",
              "      <td>0.0</td>\n",
              "      <td>0.0</td>\n",
              "      <td>0.0</td>\n",
              "      <td>0.0</td>\n",
              "      <td>1.0</td>\n",
              "      <td>0.0</td>\n",
              "    </tr>\n",
              "  </tbody>\n",
              "</table>\n",
              "</div>"
            ],
            "text/plain": [
              "        data      hora natureza_acidente  ... outros vitimas vitimasfatais\n",
              "0 2016-01-01  00:58:00        SEM VÍTIMA  ...    0.0     0.0           0.0\n",
              "1 2016-01-01  01:23:00        SEM VÍTIMA  ...    0.0     0.0           0.0\n",
              "2 2016-01-01  01:42:00        SEM VÍTIMA  ...    0.0     0.0           0.0\n",
              "3 2016-01-01  03:08:00        SEM VÍTIMA  ...    0.0     0.0           0.0\n",
              "4 2016-01-01  05:34:00        COM VÍTIMA  ...    0.0     1.0           0.0\n",
              "\n",
              "[5 rows x 20 columns]"
            ]
          },
          "metadata": {
            "tags": []
          },
          "execution_count": 27
        }
      ]
    },
    {
      "cell_type": "code",
      "metadata": {
        "colab": {
          "base_uri": "https://localhost:8080/"
        },
        "id": "L3luohk9dz0r",
        "outputId": "59195e47-06df-4196-f5bf-d58d8cc60a4f"
      },
      "source": [
        "acidentes['tipo'].unique()"
      ],
      "execution_count": null,
      "outputs": [
        {
          "output_type": "execute_result",
          "data": {
            "text/plain": [
              "['COLISÃO', 'CHOQUE', 'ATROPELAMENTO', 'CAPOTAMENTO', 'ENGAVETAMENTO', 'COLISÃO COM CICLISTA', 'TOMBAMENTO', 'ATROPELAMENTO ANIMAL', 'ACID. DE PERCURSO']\n",
              "Categories (9, object): ['COLISÃO', 'CHOQUE', 'ATROPELAMENTO', 'CAPOTAMENTO', ...,\n",
              "                         'COLISÃO COM CICLISTA', 'TOMBAMENTO', 'ATROPELAMENTO ANIMAL', 'ACID. DE PERCURSO']"
            ]
          },
          "metadata": {
            "tags": []
          },
          "execution_count": 42
        }
      ]
    },
    {
      "cell_type": "code",
      "metadata": {
        "id": "2WbAxRhXeONm",
        "colab": {
          "base_uri": "https://localhost:8080/"
        },
        "outputId": "e26d8c06-07e0-4fdf-8843-cf09349bc89d"
      },
      "source": [
        "acidentes['descricao'].unique()"
      ],
      "execution_count": null,
      "outputs": [
        {
          "output_type": "execute_result",
          "data": {
            "text/plain": [
              "['COLISAO ENTRE UMA VIATUA E UM CAMINHAO S/V', 'COLISAO ENTRE DOIS AUTO S/V', 'COLISAO ENTRE DOIS CARROS S/V', 'MOTO CHOCOU-SE CONTRA A CALÇADA, COM VITIMA', 'COL.C/V,SET.CD', ..., 'COL.S/V SET VILA SÃO MIGUEL', 'CHOQUE COM MTOCICLISTA', 'COLISAO ENTRE AUTO E MOTO SEM', 'ENGAVETAMENTO ENTRE AUTOS E MOTO', 'D']\n",
              "Length: 2262\n",
              "Categories (2261, object): ['COLISAO ENTRE UMA VIATUA E UM CAMINHAO S/V', 'COLISAO ENTRE DOIS AUTO S/V',\n",
              "                            'COLISAO ENTRE DOIS CARROS S/V', 'MOTO CHOCOU-SE CONTRA A CALÇADA, COM VITIMA', ...,\n",
              "                            'CHOQUE COM MTOCICLISTA', 'COLISAO ENTRE AUTO E MOTO SEM',\n",
              "                            'ENGAVETAMENTO ENTRE AUTOS E MOTO', 'D']"
            ]
          },
          "metadata": {
            "tags": []
          },
          "execution_count": 43
        }
      ]
    },
    {
      "cell_type": "code",
      "metadata": {
        "colab": {
          "base_uri": "https://localhost:8080/"
        },
        "id": "gz5bQnE6soYT",
        "outputId": "f56201a8-ae7e-46ea-86f1-fa4d24d8b824"
      },
      "source": [
        "acidentes['natureza_acidente'].unique()"
      ],
      "execution_count": null,
      "outputs": [
        {
          "output_type": "execute_result",
          "data": {
            "text/plain": [
              "['SEM VÍTIMA', 'COM VÍTIMA', 'VÍTIMA FATAL', NaN]\n",
              "Categories (3, object): ['SEM VÍTIMA', 'COM VÍTIMA', 'VÍTIMA FATAL']"
            ]
          },
          "metadata": {
            "tags": []
          },
          "execution_count": 45
        }
      ]
    },
    {
      "cell_type": "code",
      "metadata": {
        "colab": {
          "base_uri": "https://localhost:8080/"
        },
        "id": "fya5QV6vxqBY",
        "outputId": "81da759d-130b-44f0-d6e6-176e696b4757"
      },
      "source": [
        "print(acidentes.isnull().sum())"
      ],
      "execution_count": null,
      "outputs": [
        {
          "output_type": "stream",
          "text": [
            "data                    0\n",
            "hora                    4\n",
            "natureza_acidente     122\n",
            "situacao                0\n",
            "bairro                 56\n",
            "endereco               62\n",
            "numero               5098\n",
            "tipo                    0\n",
            "descricao             145\n",
            "auto                    0\n",
            "moto                    0\n",
            "ciclom                  0\n",
            "ciclista                0\n",
            "pedestre                0\n",
            "onibus                  0\n",
            "caminhao                0\n",
            "viatura                 0\n",
            "outros                  0\n",
            "vitimas               109\n",
            "vitimasfatais           0\n",
            "dtype: int64\n"
          ],
          "name": "stdout"
        }
      ]
    },
    {
      "cell_type": "code",
      "metadata": {
        "colab": {
          "base_uri": "https://localhost:8080/",
          "height": 127
        },
        "id": "vXtpbJBMyF4V",
        "outputId": "843c0fec-db2d-4e0f-e82d-bd59fc121cee"
      },
      "source": [
        "acidentes[acidentes['vitimas'].isnull() && acidentes['natureza_acidente'] == 'COM VÍTIMA']"
      ],
      "execution_count": null,
      "outputs": [
        {
          "output_type": "error",
          "ename": "SyntaxError",
          "evalue": "ignored",
          "traceback": [
            "\u001b[0;36m  File \u001b[0;32m\"<ipython-input-50-2e5acb30a85a>\"\u001b[0;36m, line \u001b[0;32m1\u001b[0m\n\u001b[0;31m    acidentes[acidentes['vitimas'].isnull() && acidentes['natureza_acidente'] == 'COM VÍTIMA']\u001b[0m\n\u001b[0m                                             ^\u001b[0m\n\u001b[0;31mSyntaxError\u001b[0m\u001b[0;31m:\u001b[0m invalid syntax\n"
          ]
        }
      ]
    },
    {
      "cell_type": "code",
      "metadata": {
        "id": "bhfFd42UycvB"
      },
      "source": [
        "comercios = pd.read_csv(\"/content/drive/MyDrive/ciencia-de-dados/dataset preprocessado/comercios_2015_2021_trimestre.csv\",delimiter = ';')"
      ],
      "execution_count": 2,
      "outputs": []
    },
    {
      "cell_type": "code",
      "metadata": {
        "colab": {
          "base_uri": "https://localhost:8080/",
          "height": 484
        },
        "id": "Pmc5-5GXzv0g",
        "outputId": "f1dbcc91-2a5a-47f1-b009-3821b82b4c71"
      },
      "source": [
        "comercios.head()"
      ],
      "execution_count": 3,
      "outputs": [
        {
          "output_type": "execute_result",
          "data": {
            "text/html": [
              "<div>\n",
              "<style scoped>\n",
              "    .dataframe tbody tr th:only-of-type {\n",
              "        vertical-align: middle;\n",
              "    }\n",
              "\n",
              "    .dataframe tbody tr th {\n",
              "        vertical-align: top;\n",
              "    }\n",
              "\n",
              "    .dataframe thead th {\n",
              "        text-align: right;\n",
              "    }\n",
              "</style>\n",
              "<table border=\"1\" class=\"dataframe\">\n",
              "  <thead>\n",
              "    <tr style=\"text-align: right;\">\n",
              "      <th></th>\n",
              "      <th>ANO</th>\n",
              "      <th>TRIMESTRE</th>\n",
              "      <th>RAZAO_SOCIAL</th>\n",
              "      <th>NOME_FANTASIA</th>\n",
              "      <th>CNPJ</th>\n",
              "      <th>PORTE</th>\n",
              "      <th>DATA_INICIO_OPERACAO</th>\n",
              "      <th>SITUACAO</th>\n",
              "      <th>ATIVIDADE</th>\n",
              "      <th>CEP</th>\n",
              "      <th>UF</th>\n",
              "      <th>LOCALIDADE</th>\n",
              "      <th>BAIRRO</th>\n",
              "      <th>LOGRADOURO</th>\n",
              "      <th>DATA_GERACAO_CERTIFICADO</th>\n",
              "      <th>DATA_VALIDADE_CERTIFICADO</th>\n",
              "      <th>CODIGO_CERTIFICADO</th>\n",
              "      <th>CODIGO_DESCRICAO_CNAE</th>\n",
              "      <th>NATUREZA_JURIDICA</th>\n",
              "    </tr>\n",
              "  </thead>\n",
              "  <tbody>\n",
              "    <tr>\n",
              "      <th>0</th>\n",
              "      <td>2021</td>\n",
              "      <td>1</td>\n",
              "      <td>MELLO, RIBEIRO &amp; MELLO LTDA</td>\n",
              "      <td>China in Box Rosarinho</td>\n",
              "      <td>00.874.830/0001-48</td>\n",
              "      <td>EMPRESA DE PEQUENO PORTE</td>\n",
              "      <td>25/10/1995</td>\n",
              "      <td>Em Operação</td>\n",
              "      <td>Restaurante, Cafeteria, Bar e Similares</td>\n",
              "      <td>52041-305</td>\n",
              "      <td>PE</td>\n",
              "      <td>Recife</td>\n",
              "      <td>Rosarinho</td>\n",
              "      <td>Amaro Coutinho</td>\n",
              "      <td>23/03/2020 09:27</td>\n",
              "      <td>23/03/2022 09:27</td>\n",
              "      <td>00.874.830/0001-48</td>\n",
              "      <td>5611-2/03 - LANCHONETES, CASAS DE CHÁ, DE SUCO...</td>\n",
              "      <td>Sociedade Empresária Limitada</td>\n",
              "    </tr>\n",
              "    <tr>\n",
              "      <th>1</th>\n",
              "      <td>2021</td>\n",
              "      <td>1</td>\n",
              "      <td>M DAS DORES DE SOUZA CHURRASCARIA</td>\n",
              "      <td>Restaurante e Churrascaria da Dodora</td>\n",
              "      <td>01.219.705/0001-67</td>\n",
              "      <td>MICROEMPRESA</td>\n",
              "      <td>28/05/1996</td>\n",
              "      <td>Em Operação</td>\n",
              "      <td>Restaurante, Cafeteria, Bar e Similares</td>\n",
              "      <td>55690-000</td>\n",
              "      <td>PE</td>\n",
              "      <td>Barra de Guabiraba</td>\n",
              "      <td>-</td>\n",
              "      <td>Av. Eneias Texeira de Carvalho n 101</td>\n",
              "      <td>01/04/2019 10:44</td>\n",
              "      <td>01/04/2021 10:44</td>\n",
              "      <td>01.219.705/0001-67</td>\n",
              "      <td>5611-2/02 - BARES E OUTROS ESTABELECIMENTOS ES...</td>\n",
              "      <td>Empresário Individual</td>\n",
              "    </tr>\n",
              "    <tr>\n",
              "      <th>2</th>\n",
              "      <td>2021</td>\n",
              "      <td>1</td>\n",
              "      <td>POUSADA DO AMPARO - EIRELI</td>\n",
              "      <td>POUSADA DO AMPARO</td>\n",
              "      <td>01.790.381/0001-12</td>\n",
              "      <td>MICROEMPRESA</td>\n",
              "      <td>06/04/1997</td>\n",
              "      <td>Em Operação</td>\n",
              "      <td>Restaurante, Cafeteria, Bar e Similares</td>\n",
              "      <td>53025-080</td>\n",
              "      <td>PE</td>\n",
              "      <td>Olinda</td>\n",
              "      <td>Amparo</td>\n",
              "      <td>do Amparo</td>\n",
              "      <td>11/06/2020 08:17</td>\n",
              "      <td>11/06/2022 08:17</td>\n",
              "      <td>01.790.381/0001-12</td>\n",
              "      <td>5611-2/01 - RESTAURANTES E SIMILARES</td>\n",
              "      <td>Empresa Individual de Responsabilidade Limitad...</td>\n",
              "    </tr>\n",
              "    <tr>\n",
              "      <th>3</th>\n",
              "      <td>2021</td>\n",
              "      <td>1</td>\n",
              "      <td>NEZ BISTRO COMERCIO DE BEBIDAS E RESTAURANTE E...</td>\n",
              "      <td>NEZ BISTRO</td>\n",
              "      <td>02.217.561/0001-72</td>\n",
              "      <td>MICROEMPRESA</td>\n",
              "      <td>30/10/1997</td>\n",
              "      <td>Em Operação</td>\n",
              "      <td>Restaurante, Cafeteria, Bar e Similares</td>\n",
              "      <td>52061-420</td>\n",
              "      <td>PE</td>\n",
              "      <td>Recife</td>\n",
              "      <td>Casa Forte</td>\n",
              "      <td>de Casa Forte</td>\n",
              "      <td>16/07/2020 12:44</td>\n",
              "      <td>16/07/2022 12:44</td>\n",
              "      <td>02.217.561/0001-72</td>\n",
              "      <td>5611-2/01 - RESTAURANTES E SIMILARES</td>\n",
              "      <td>Empresa Individual de Responsabilidade Limitad...</td>\n",
              "    </tr>\n",
              "    <tr>\n",
              "      <th>4</th>\n",
              "      <td>2021</td>\n",
              "      <td>1</td>\n",
              "      <td>ATLANTICA HOTELS INTERNATIONAL BRASIL LTDA</td>\n",
              "      <td>RESTAURANTE NABUCO</td>\n",
              "      <td>02.223.966/0036-43</td>\n",
              "      <td>DEMAIS</td>\n",
              "      <td>03/10/2003</td>\n",
              "      <td>Em Operação</td>\n",
              "      <td>Restaurante, Cafeteria, Bar e Similares</td>\n",
              "      <td>51111-000</td>\n",
              "      <td>PE</td>\n",
              "      <td>Recife</td>\n",
              "      <td>Boa Viagem</td>\n",
              "      <td>Boa Viagem</td>\n",
              "      <td>19/12/2019 07:58</td>\n",
              "      <td>19/12/2021 07:58</td>\n",
              "      <td>02.223.966/0036-43</td>\n",
              "      <td>5611-2/01 - RESTAURANTES E SIMILARES</td>\n",
              "      <td>Sociedade Empresária Limitada</td>\n",
              "    </tr>\n",
              "  </tbody>\n",
              "</table>\n",
              "</div>"
            ],
            "text/plain": [
              "    ANO  ...                                  NATUREZA_JURIDICA\n",
              "0  2021  ...                      Sociedade Empresária Limitada\n",
              "1  2021  ...                              Empresário Individual\n",
              "2  2021  ...  Empresa Individual de Responsabilidade Limitad...\n",
              "3  2021  ...  Empresa Individual de Responsabilidade Limitad...\n",
              "4  2021  ...                      Sociedade Empresária Limitada\n",
              "\n",
              "[5 rows x 19 columns]"
            ]
          },
          "metadata": {
            "tags": []
          },
          "execution_count": 3
        }
      ]
    },
    {
      "cell_type": "code",
      "metadata": {
        "colab": {
          "base_uri": "https://localhost:8080/"
        },
        "id": "U3RM5zghzxk6",
        "outputId": "d1ad3475-f72e-4838-8e39-f798dac3af5b"
      },
      "source": [
        "comercios.dtypes"
      ],
      "execution_count": 5,
      "outputs": [
        {
          "output_type": "execute_result",
          "data": {
            "text/plain": [
              "ANO                           int64\n",
              "TRIMESTRE                     int64\n",
              "RAZAO_SOCIAL                 object\n",
              "NOME_FANTASIA                object\n",
              "CNPJ                         object\n",
              "PORTE                        object\n",
              "DATA_INICIO_OPERACAO         object\n",
              "SITUACAO                     object\n",
              "ATIVIDADE                    object\n",
              "CEP                          object\n",
              "UF                           object\n",
              "LOCALIDADE                   object\n",
              "BAIRRO                       object\n",
              "LOGRADOURO                   object\n",
              "DATA_GERACAO_CERTIFICADO     object\n",
              "DATA_VALIDADE_CERTIFICADO    object\n",
              "CODIGO_CERTIFICADO           object\n",
              "CODIGO_DESCRICAO_CNAE        object\n",
              "NATUREZA_JURIDICA            object\n",
              "dtype: object"
            ]
          },
          "metadata": {
            "tags": []
          },
          "execution_count": 5
        }
      ]
    },
    {
      "cell_type": "code",
      "metadata": {
        "id": "m9ZWNocLz3Po"
      },
      "source": [
        "equipamento_velocidade_vias = pd.read_csv(\"/content/drive/MyDrive/ciencia-de-dados/dataset preprocessado/equipamento_velocidade_vias_2016_2021.csv\",delimiter = ';')"
      ],
      "execution_count": 55,
      "outputs": []
    },
    {
      "cell_type": "code",
      "metadata": {
        "colab": {
          "base_uri": "https://localhost:8080/",
          "height": 197
        },
        "id": "HNp5AL-MMmPg",
        "outputId": "19df8191-ac68-4853-89db-67428348615d"
      },
      "source": [
        "equipamento_velocidade_vias.head()"
      ],
      "execution_count": 56,
      "outputs": [
        {
          "output_type": "execute_result",
          "data": {
            "text/html": [
              "<div>\n",
              "<style scoped>\n",
              "    .dataframe tbody tr th:only-of-type {\n",
              "        vertical-align: middle;\n",
              "    }\n",
              "\n",
              "    .dataframe tbody tr th {\n",
              "        vertical-align: top;\n",
              "    }\n",
              "\n",
              "    .dataframe thead th {\n",
              "        text-align: right;\n",
              "    }\n",
              "</style>\n",
              "<table border=\"1\" class=\"dataframe\">\n",
              "  <thead>\n",
              "    <tr style=\"text-align: right;\">\n",
              "      <th></th>\n",
              "      <th>ANO</th>\n",
              "      <th>EQUIPAMENTO</th>\n",
              "      <th>TIPO</th>\n",
              "      <th>LOGRADOURO</th>\n",
              "      <th>VELOCIDADE_VIA</th>\n",
              "      <th>LATITUDE</th>\n",
              "      <th>LONGITUDE</th>\n",
              "    </tr>\n",
              "  </thead>\n",
              "  <tbody>\n",
              "    <tr>\n",
              "      <th>0</th>\n",
              "      <td>2016</td>\n",
              "      <td>5941</td>\n",
              "      <td>Lombada</td>\n",
              "      <td>AV. MAL. MASCARENHAS DE MORAES, EM FRENTE AERO...</td>\n",
              "      <td>60 km/h</td>\n",
              "      <td>-8.130970</td>\n",
              "      <td>-34.916161</td>\n",
              "    </tr>\n",
              "    <tr>\n",
              "      <th>1</th>\n",
              "      <td>2016</td>\n",
              "      <td>5942</td>\n",
              "      <td>Lombada</td>\n",
              "      <td>AV. MAL. MASCARENHAS DE MORAES, EM FRENTE AERO...</td>\n",
              "      <td>60 km/h</td>\n",
              "      <td>-8.130647</td>\n",
              "      <td>-34.915886</td>\n",
              "    </tr>\n",
              "    <tr>\n",
              "      <th>2</th>\n",
              "      <td>2016</td>\n",
              "      <td>5943</td>\n",
              "      <td>Lombada</td>\n",
              "      <td>AV. BOA VIAGEM - TERCEIRO JARDIM</td>\n",
              "      <td>60 km/h</td>\n",
              "      <td>-8.107843</td>\n",
              "      <td>-34.888161</td>\n",
              "    </tr>\n",
              "    <tr>\n",
              "      <th>3</th>\n",
              "      <td>2016</td>\n",
              "      <td>5944</td>\n",
              "      <td>Lombada</td>\n",
              "      <td>DEFRONTE A PCA. GOV. PAULO GUERRA, CABANGA - S...</td>\n",
              "      <td>60 km/h</td>\n",
              "      <td>-8.080121</td>\n",
              "      <td>-34.892187</td>\n",
              "    </tr>\n",
              "    <tr>\n",
              "      <th>4</th>\n",
              "      <td>2016</td>\n",
              "      <td>5945</td>\n",
              "      <td>Lombada</td>\n",
              "      <td>APOS PONTE AGAMENON MAGALHAES, CABANGA - SENT....</td>\n",
              "      <td>60 km/h</td>\n",
              "      <td>-8.080820</td>\n",
              "      <td>-34.891159</td>\n",
              "    </tr>\n",
              "  </tbody>\n",
              "</table>\n",
              "</div>"
            ],
            "text/plain": [
              "    ANO EQUIPAMENTO     TIPO  ... VELOCIDADE_VIA  LATITUDE  LONGITUDE\n",
              "0  2016        5941  Lombada  ...        60 km/h -8.130970 -34.916161\n",
              "1  2016        5942  Lombada  ...        60 km/h -8.130647 -34.915886\n",
              "2  2016        5943  Lombada  ...        60 km/h -8.107843 -34.888161\n",
              "3  2016        5944  Lombada  ...        60 km/h -8.080121 -34.892187\n",
              "4  2016        5945  Lombada  ...        60 km/h -8.080820 -34.891159\n",
              "\n",
              "[5 rows x 7 columns]"
            ]
          },
          "metadata": {
            "tags": []
          },
          "execution_count": 56
        }
      ]
    },
    {
      "cell_type": "code",
      "metadata": {
        "colab": {
          "base_uri": "https://localhost:8080/"
        },
        "id": "4Jq_ir7tMoFT",
        "outputId": "23faa181-d54b-4f9c-cc73-3f9b72bea874"
      },
      "source": [
        "multas = pd.read_csv(\"/content/drive/MyDrive/ciencia-de-dados/dataset preprocessado/relatorio_multas_2015_2021.csv\",delimiter = ';')"
      ],
      "execution_count": 52,
      "outputs": [
        {
          "output_type": "stream",
          "text": [
            "/usr/local/lib/python3.7/dist-packages/IPython/core/interactiveshell.py:2718: DtypeWarning: Columns (4) have mixed types.Specify dtype option on import or set low_memory=False.\n",
            "  interactivity=interactivity, compiler=compiler, result=result)\n"
          ],
          "name": "stderr"
        }
      ]
    },
    {
      "cell_type": "code",
      "metadata": {
        "colab": {
          "base_uri": "https://localhost:8080/",
          "height": 401
        },
        "id": "qX4j0KpNMzCn",
        "outputId": "8983cfd7-8e03-449e-91c3-a2fd5e7e1b71"
      },
      "source": [
        "multas.head()"
      ],
      "execution_count": 53,
      "outputs": [
        {
          "output_type": "execute_result",
          "data": {
            "text/html": [
              "<div>\n",
              "<style scoped>\n",
              "    .dataframe tbody tr th:only-of-type {\n",
              "        vertical-align: middle;\n",
              "    }\n",
              "\n",
              "    .dataframe tbody tr th {\n",
              "        vertical-align: top;\n",
              "    }\n",
              "\n",
              "    .dataframe thead th {\n",
              "        text-align: right;\n",
              "    }\n",
              "</style>\n",
              "<table border=\"1\" class=\"dataframe\">\n",
              "  <thead>\n",
              "    <tr style=\"text-align: right;\">\n",
              "      <th></th>\n",
              "      <th>DATAINFRACAO</th>\n",
              "      <th>HORAINFRACAO</th>\n",
              "      <th>DATAIMPLANTACAO</th>\n",
              "      <th>AGENTEEQUIPAMENTO</th>\n",
              "      <th>INFRACAO</th>\n",
              "      <th>DESCRICAOINFRACAO</th>\n",
              "      <th>AMPAROLEGAL</th>\n",
              "      <th>LOCALCOMETIMENTO</th>\n",
              "    </tr>\n",
              "  </thead>\n",
              "  <tbody>\n",
              "    <tr>\n",
              "      <th>0</th>\n",
              "      <td>2015/10/26 00:00:00.000</td>\n",
              "      <td>08:42:00</td>\n",
              "      <td>2015/11/03 00:00:00.000</td>\n",
              "      <td>Código 6 - AUTOS NO TALÃO MANUAL</td>\n",
              "      <td>5541</td>\n",
              "      <td>Estacionar o veículo em desacordo com as condi...</td>\n",
              "      <td>Art. 181, Inc. XVII</td>\n",
              "      <td>AV PORTUGAL EM FRENTE AO IMOVEL N 89</td>\n",
              "    </tr>\n",
              "    <tr>\n",
              "      <th>1</th>\n",
              "      <td>2015/10/26 00:00:00.000</td>\n",
              "      <td>08:45:00</td>\n",
              "      <td>2015/11/03 00:00:00.000</td>\n",
              "      <td>Código 6 - AUTOS NO TALÃO MANUAL</td>\n",
              "      <td>5541</td>\n",
              "      <td>Estacionar o veículo em desacordo com as condi...</td>\n",
              "      <td>Art. 181, Inc. XVII</td>\n",
              "      <td>AV PORTUGAL EM FRENTE AO IMOVEL N 89</td>\n",
              "    </tr>\n",
              "    <tr>\n",
              "      <th>2</th>\n",
              "      <td>2015/10/26 00:00:00.000</td>\n",
              "      <td>08:48:00</td>\n",
              "      <td>2015/11/03 00:00:00.000</td>\n",
              "      <td>Código 6 - AUTOS NO TALÃO MANUAL</td>\n",
              "      <td>5525</td>\n",
              "      <td>Estacionar o veículo na contramão de direção.</td>\n",
              "      <td>Art. 181, Inc. XV</td>\n",
              "      <td>AV PORTUGAL EM FRENTE AO IMOVEL N 101</td>\n",
              "    </tr>\n",
              "    <tr>\n",
              "      <th>3</th>\n",
              "      <td>2015/10/26 00:00:00.000</td>\n",
              "      <td>08:55:00</td>\n",
              "      <td>2015/11/03 00:00:00.000</td>\n",
              "      <td>Código 6 - AUTOS NO TALÃO MANUAL</td>\n",
              "      <td>5550</td>\n",
              "      <td>Estacionar o veículo em locais e horários proi...</td>\n",
              "      <td>Art. 181, Inc. XVIII</td>\n",
              "      <td>RUA PACIFICO DOS SANTOS EM FRENTE AO IMOVEL N 124</td>\n",
              "    </tr>\n",
              "    <tr>\n",
              "      <th>4</th>\n",
              "      <td>2015/10/26 00:00:00.000</td>\n",
              "      <td>09:10:00</td>\n",
              "      <td>2015/11/03 00:00:00.000</td>\n",
              "      <td>Código 6 - AUTOS NO TALÃO MANUAL</td>\n",
              "      <td>7366</td>\n",
              "      <td>Dirigir o veículo utilizando-se de telefone ce...</td>\n",
              "      <td>Art. 252, Inc. VI</td>\n",
              "      <td>AV GOV AGAMENON MAGALHAES EM FRENTE AO SEMAFOR...</td>\n",
              "    </tr>\n",
              "  </tbody>\n",
              "</table>\n",
              "</div>"
            ],
            "text/plain": [
              "              DATAINFRACAO  ...                                   LOCALCOMETIMENTO\n",
              "0  2015/10/26 00:00:00.000  ...               AV PORTUGAL EM FRENTE AO IMOVEL N 89\n",
              "1  2015/10/26 00:00:00.000  ...               AV PORTUGAL EM FRENTE AO IMOVEL N 89\n",
              "2  2015/10/26 00:00:00.000  ...              AV PORTUGAL EM FRENTE AO IMOVEL N 101\n",
              "3  2015/10/26 00:00:00.000  ...  RUA PACIFICO DOS SANTOS EM FRENTE AO IMOVEL N 124\n",
              "4  2015/10/26 00:00:00.000  ...  AV GOV AGAMENON MAGALHAES EM FRENTE AO SEMAFOR...\n",
              "\n",
              "[5 rows x 8 columns]"
            ]
          },
          "metadata": {
            "tags": []
          },
          "execution_count": 53
        }
      ]
    },
    {
      "cell_type": "code",
      "metadata": {
        "colab": {
          "base_uri": "https://localhost:8080/"
        },
        "id": "GozuL0uWMzzn",
        "outputId": "c52a1088-d404-4f75-e5d6-63db50672d98"
      },
      "source": [
        "velocidade = pd.read_csv(\"/content/drive/MyDrive/ciencia-de-dados/dataset preprocessado/velocidade_vias_media_15minutos_2016_2021.csv\",delimiter = ';')"
      ],
      "execution_count": 57,
      "outputs": [
        {
          "output_type": "stream",
          "text": [
            "/usr/local/lib/python3.7/dist-packages/IPython/core/interactiveshell.py:2718: DtypeWarning: Columns (2) have mixed types.Specify dtype option on import or set low_memory=False.\n",
            "  interactivity=interactivity, compiler=compiler, result=result)\n"
          ],
          "name": "stderr"
        }
      ]
    },
    {
      "cell_type": "code",
      "metadata": {
        "colab": {
          "base_uri": "https://localhost:8080/",
          "height": 301
        },
        "id": "cdKIwBhgNFTK",
        "outputId": "4989072a-7dd7-4aba-ed04-588d095a0b4c"
      },
      "source": [
        "velocidade.head()"
      ],
      "execution_count": 58,
      "outputs": [
        {
          "output_type": "execute_result",
          "data": {
            "text/html": [
              "<div>\n",
              "<style scoped>\n",
              "    .dataframe tbody tr th:only-of-type {\n",
              "        vertical-align: middle;\n",
              "    }\n",
              "\n",
              "    .dataframe tbody tr th {\n",
              "        vertical-align: top;\n",
              "    }\n",
              "\n",
              "    .dataframe thead th {\n",
              "        text-align: right;\n",
              "    }\n",
              "</style>\n",
              "<table border=\"1\" class=\"dataframe\">\n",
              "  <thead>\n",
              "    <tr style=\"text-align: right;\">\n",
              "      <th></th>\n",
              "      <th>ANO</th>\n",
              "      <th>MES</th>\n",
              "      <th>EQUIPAMENTO</th>\n",
              "      <th>FAIXA</th>\n",
              "      <th>DATA</th>\n",
              "      <th>HORA</th>\n",
              "      <th>MINUTOS_INTERVALO</th>\n",
              "      <th>QTD_0A10KM</th>\n",
              "      <th>QTD_11A20KM</th>\n",
              "      <th>QTD_21A30KM</th>\n",
              "      <th>QTD_31A40KM</th>\n",
              "      <th>QTD_41A50KM</th>\n",
              "      <th>QTD_51A60KM</th>\n",
              "      <th>QTD_61A70KM</th>\n",
              "      <th>QTD_71A80KM</th>\n",
              "      <th>QTD_81A90KM</th>\n",
              "      <th>QTD_91A100KM</th>\n",
              "      <th>QTD_ACIMADE100KM</th>\n",
              "    </tr>\n",
              "  </thead>\n",
              "  <tbody>\n",
              "    <tr>\n",
              "      <th>0</th>\n",
              "      <td>2016</td>\n",
              "      <td>1.0</td>\n",
              "      <td>FS002REC</td>\n",
              "      <td>1.0</td>\n",
              "      <td>2016-01-01</td>\n",
              "      <td>0.0</td>\n",
              "      <td>0-15</td>\n",
              "      <td>0.0</td>\n",
              "      <td>2.0</td>\n",
              "      <td>0.0</td>\n",
              "      <td>0.0</td>\n",
              "      <td>0.0</td>\n",
              "      <td>0.0</td>\n",
              "      <td>0.0</td>\n",
              "      <td>0.0</td>\n",
              "      <td>0.0</td>\n",
              "      <td>0.0</td>\n",
              "      <td>0.0</td>\n",
              "    </tr>\n",
              "    <tr>\n",
              "      <th>1</th>\n",
              "      <td>2016</td>\n",
              "      <td>1.0</td>\n",
              "      <td>FS002REC</td>\n",
              "      <td>1.0</td>\n",
              "      <td>2016-01-01</td>\n",
              "      <td>0.0</td>\n",
              "      <td>16-30</td>\n",
              "      <td>0.0</td>\n",
              "      <td>1.0</td>\n",
              "      <td>0.0</td>\n",
              "      <td>0.0</td>\n",
              "      <td>0.0</td>\n",
              "      <td>0.0</td>\n",
              "      <td>0.0</td>\n",
              "      <td>0.0</td>\n",
              "      <td>0.0</td>\n",
              "      <td>0.0</td>\n",
              "      <td>0.0</td>\n",
              "    </tr>\n",
              "    <tr>\n",
              "      <th>2</th>\n",
              "      <td>2016</td>\n",
              "      <td>1.0</td>\n",
              "      <td>FS002REC</td>\n",
              "      <td>1.0</td>\n",
              "      <td>2016-01-01</td>\n",
              "      <td>0.0</td>\n",
              "      <td>31-45</td>\n",
              "      <td>1.0</td>\n",
              "      <td>3.0</td>\n",
              "      <td>1.0</td>\n",
              "      <td>0.0</td>\n",
              "      <td>0.0</td>\n",
              "      <td>0.0</td>\n",
              "      <td>0.0</td>\n",
              "      <td>0.0</td>\n",
              "      <td>0.0</td>\n",
              "      <td>0.0</td>\n",
              "      <td>0.0</td>\n",
              "    </tr>\n",
              "    <tr>\n",
              "      <th>3</th>\n",
              "      <td>2016</td>\n",
              "      <td>1.0</td>\n",
              "      <td>FS002REC</td>\n",
              "      <td>1.0</td>\n",
              "      <td>2016-01-01</td>\n",
              "      <td>0.0</td>\n",
              "      <td>46-59</td>\n",
              "      <td>1.0</td>\n",
              "      <td>1.0</td>\n",
              "      <td>0.0</td>\n",
              "      <td>0.0</td>\n",
              "      <td>0.0</td>\n",
              "      <td>0.0</td>\n",
              "      <td>0.0</td>\n",
              "      <td>0.0</td>\n",
              "      <td>0.0</td>\n",
              "      <td>0.0</td>\n",
              "      <td>0.0</td>\n",
              "    </tr>\n",
              "    <tr>\n",
              "      <th>4</th>\n",
              "      <td>2016</td>\n",
              "      <td>1.0</td>\n",
              "      <td>FS002REC</td>\n",
              "      <td>1.0</td>\n",
              "      <td>2016-01-01</td>\n",
              "      <td>1.0</td>\n",
              "      <td>0-15</td>\n",
              "      <td>0.0</td>\n",
              "      <td>4.0</td>\n",
              "      <td>0.0</td>\n",
              "      <td>0.0</td>\n",
              "      <td>0.0</td>\n",
              "      <td>0.0</td>\n",
              "      <td>0.0</td>\n",
              "      <td>0.0</td>\n",
              "      <td>0.0</td>\n",
              "      <td>0.0</td>\n",
              "      <td>0.0</td>\n",
              "    </tr>\n",
              "  </tbody>\n",
              "</table>\n",
              "</div>"
            ],
            "text/plain": [
              "    ANO  MES EQUIPAMENTO  ...  QTD_81A90KM QTD_91A100KM  QTD_ACIMADE100KM\n",
              "0  2016  1.0    FS002REC  ...          0.0          0.0               0.0\n",
              "1  2016  1.0    FS002REC  ...          0.0          0.0               0.0\n",
              "2  2016  1.0    FS002REC  ...          0.0          0.0               0.0\n",
              "3  2016  1.0    FS002REC  ...          0.0          0.0               0.0\n",
              "4  2016  1.0    FS002REC  ...          0.0          0.0               0.0\n",
              "\n",
              "[5 rows x 18 columns]"
            ]
          },
          "metadata": {
            "tags": []
          },
          "execution_count": 58
        }
      ]
    },
    {
      "cell_type": "markdown",
      "metadata": {
        "id": "lzyW_yRxUBU_"
      },
      "source": [
        "#**precisa verificar se o codigo do equipamento no dataset acima é igual ao codigo do equipamento do dataset das multas**"
      ]
    },
    {
      "cell_type": "code",
      "metadata": {
        "id": "CF2dFcRBNH83"
      },
      "source": [
        ""
      ],
      "execution_count": null,
      "outputs": []
    }
  ]
}