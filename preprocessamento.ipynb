{
  "nbformat": 4,
  "nbformat_minor": 0,
  "metadata": {
    "colab": {
      "name": "preprocessamento.ipynb",
      "provenance": [],
      "collapsed_sections": [],
      "include_colab_link": true
    },
    "kernelspec": {
      "name": "python3",
      "display_name": "Python 3"
    },
    "language_info": {
      "name": "python"
    }
  },
  "cells": [
    {
      "cell_type": "markdown",
      "metadata": {
        "id": "view-in-github",
        "colab_type": "text"
      },
      "source": [
        "<a href=\"https://colab.research.google.com/github/IndioP/Projeto_Ciencia_Dados/blob/main/preprocessamento.ipynb\" target=\"_parent\"><img src=\"https://colab.research.google.com/assets/colab-badge.svg\" alt=\"Open In Colab\"/></a>"
      ]
    },
    {
      "cell_type": "code",
      "metadata": {
        "id": "lkOuRomea_tk"
      },
      "source": [
        "import numpy as np\n",
        "import pandas as pd"
      ],
      "execution_count": 1,
      "outputs": []
    },
    {
      "cell_type": "markdown",
      "metadata": {
        "id": "eFl2G_WfzjI_"
      },
      "source": [
        "##Acidentes"
      ]
    },
    {
      "cell_type": "code",
      "metadata": {
        "id": "Eo6VDx1eb9tJ",
        "colab": {
          "base_uri": "https://localhost:8080/"
        },
        "outputId": "6b52967d-25c7-4174-c175-aab83b496ad8"
      },
      "source": [
        "from google.colab import drive\n",
        "drive.mount('/content/drive')"
      ],
      "execution_count": 2,
      "outputs": [
        {
          "output_type": "stream",
          "text": [
            "Mounted at /content/drive\n"
          ],
          "name": "stdout"
        }
      ]
    },
    {
      "cell_type": "code",
      "metadata": {
        "id": "6TsqahvFbNsJ",
        "colab": {
          "base_uri": "https://localhost:8080/"
        },
        "outputId": "f8f0116b-be42-4715-9fbf-4ed415fdf8b3"
      },
      "source": [
        "acidentes=pd.read_csv(\"/content/drive/MyDrive/ciencia-de-dados/dataset preprocessado/acidentes_transito_2015_2021.csv\",delimiter = ';')"
      ],
      "execution_count": 37,
      "outputs": [
        {
          "output_type": "stream",
          "text": [
            "/usr/local/lib/python3.7/dist-packages/IPython/core/interactiveshell.py:2718: DtypeWarning: Columns (11,25,26,27,28,29,30,31,32,33,34,35,36,37) have mixed types.Specify dtype option on import or set low_memory=False.\n",
            "  interactivity=interactivity, compiler=compiler, result=result)\n"
          ],
          "name": "stderr"
        }
      ]
    },
    {
      "cell_type": "code",
      "metadata": {
        "colab": {
          "base_uri": "https://localhost:8080/",
          "height": 417
        },
        "id": "vJ2jtgT7bl3X",
        "outputId": "122c5031-eb47-444c-c51c-fce12c180e47"
      },
      "source": [
        "#dando a primeira olhada nos dados...\n",
        "acidentes.head()"
      ],
      "execution_count": 38,
      "outputs": [
        {
          "output_type": "execute_result",
          "data": {
            "text/html": [
              "<div>\n",
              "<style scoped>\n",
              "    .dataframe tbody tr th:only-of-type {\n",
              "        vertical-align: middle;\n",
              "    }\n",
              "\n",
              "    .dataframe tbody tr th {\n",
              "        vertical-align: top;\n",
              "    }\n",
              "\n",
              "    .dataframe thead th {\n",
              "        text-align: right;\n",
              "    }\n",
              "</style>\n",
              "<table border=\"1\" class=\"dataframe\">\n",
              "  <thead>\n",
              "    <tr style=\"text-align: right;\">\n",
              "      <th></th>\n",
              "      <th>DATA</th>\n",
              "      <th>HORA</th>\n",
              "      <th>NATUREZA_ACIDENTE</th>\n",
              "      <th>SITUACAO</th>\n",
              "      <th>BAIRRO</th>\n",
              "      <th>ENDERECO</th>\n",
              "      <th>NUMERO</th>\n",
              "      <th>DETALHE_ENDERECO_ACIDENTE</th>\n",
              "      <th>COMPLEMENTO</th>\n",
              "      <th>BAIRRO_CRUZAMENTO</th>\n",
              "      <th>NUM_SEMAFORO</th>\n",
              "      <th>SENTIDO_VIA</th>\n",
              "      <th>TIPO</th>\n",
              "      <th>DESCRICAO</th>\n",
              "      <th>AUTO</th>\n",
              "      <th>MOTO</th>\n",
              "      <th>CICLOM</th>\n",
              "      <th>CICLISTA</th>\n",
              "      <th>PEDESTRE</th>\n",
              "      <th>ONIBUS</th>\n",
              "      <th>CAMINHAO</th>\n",
              "      <th>VIATURA</th>\n",
              "      <th>OUTROS</th>\n",
              "      <th>VITIMAS</th>\n",
              "      <th>VITIMASFATAIS</th>\n",
              "      <th>ACIDENTE_VERIFICADO</th>\n",
              "      <th>TEMPO_CLIMA</th>\n",
              "      <th>SITUACAO_SEMAFORO</th>\n",
              "      <th>SINALIZACAO</th>\n",
              "      <th>CONDICAO_VIA</th>\n",
              "      <th>CONSERVACAO_VIA</th>\n",
              "      <th>PONTO_CONTROLE</th>\n",
              "      <th>SITUACAO_PLACA</th>\n",
              "      <th>VELOCIDADE_MAX_VIA</th>\n",
              "      <th>MAO_DIRECAO</th>\n",
              "      <th>DIVISAO_VIA1</th>\n",
              "      <th>DIVISAO_VIA2</th>\n",
              "      <th>DIVISAO_VIA3</th>\n",
              "      <th>NATUREZA</th>\n",
              "      <th>ENDERECO_CRUZAMENTO</th>\n",
              "      <th>NUMERO_CRUZAMENTO</th>\n",
              "      <th>REFERENCIA_CRUZAMENTO</th>\n",
              "    </tr>\n",
              "  </thead>\n",
              "  <tbody>\n",
              "    <tr>\n",
              "      <th>0</th>\n",
              "      <td>2015-12-03</td>\n",
              "      <td>11:36:00.000</td>\n",
              "      <td>SEM VÍTIMA</td>\n",
              "      <td>CANCELADA</td>\n",
              "      <td>CASA AMARELA</td>\n",
              "      <td>AV NORTE</td>\n",
              "      <td>NaN</td>\n",
              "      <td>NaN</td>\n",
              "      <td>SENTIDO SUBURBIO   E/F AO SESC</td>\n",
              "      <td>NaN</td>\n",
              "      <td>NaN</td>\n",
              "      <td>NaN</td>\n",
              "      <td>COLISÃO</td>\n",
              "      <td>COLISÃO SEM VITIMAS</td>\n",
              "      <td>NaN</td>\n",
              "      <td>NaN</td>\n",
              "      <td>NaN</td>\n",
              "      <td>NaN</td>\n",
              "      <td>NaN</td>\n",
              "      <td>NaN</td>\n",
              "      <td>NaN</td>\n",
              "      <td>NaN</td>\n",
              "      <td>NaN</td>\n",
              "      <td>0.0</td>\n",
              "      <td>NaN</td>\n",
              "      <td>NaN</td>\n",
              "      <td>NaN</td>\n",
              "      <td>NaN</td>\n",
              "      <td>NaN</td>\n",
              "      <td>NaN</td>\n",
              "      <td>NaN</td>\n",
              "      <td>NaN</td>\n",
              "      <td>NaN</td>\n",
              "      <td>NaN</td>\n",
              "      <td>NaN</td>\n",
              "      <td>NaN</td>\n",
              "      <td>NaN</td>\n",
              "      <td>NaN</td>\n",
              "      <td>NaN</td>\n",
              "      <td>NaN</td>\n",
              "      <td>NaN</td>\n",
              "      <td>NaN</td>\n",
              "    </tr>\n",
              "    <tr>\n",
              "      <th>1</th>\n",
              "      <td>2015-06-01</td>\n",
              "      <td>06:35:00.000</td>\n",
              "      <td>SEM VÍTIMA</td>\n",
              "      <td>FINALIZADA</td>\n",
              "      <td>ENCRUZILHADA</td>\n",
              "      <td>EST DE BELEM</td>\n",
              "      <td>NaN</td>\n",
              "      <td>NaN</td>\n",
              "      <td>IGREJA BATISTA MEMORIAL DE BELÉM</td>\n",
              "      <td>NaN</td>\n",
              "      <td>NaN</td>\n",
              "      <td>NaN</td>\n",
              "      <td>COLISÃO</td>\n",
              "      <td>SEM VÍTIMAS.</td>\n",
              "      <td>NaN</td>\n",
              "      <td>2.0</td>\n",
              "      <td>NaN</td>\n",
              "      <td>NaN</td>\n",
              "      <td>NaN</td>\n",
              "      <td>NaN</td>\n",
              "      <td>NaN</td>\n",
              "      <td>NaN</td>\n",
              "      <td>NaN</td>\n",
              "      <td>0.0</td>\n",
              "      <td>NaN</td>\n",
              "      <td>NaN</td>\n",
              "      <td>NaN</td>\n",
              "      <td>NaN</td>\n",
              "      <td>NaN</td>\n",
              "      <td>NaN</td>\n",
              "      <td>NaN</td>\n",
              "      <td>NaN</td>\n",
              "      <td>NaN</td>\n",
              "      <td>NaN</td>\n",
              "      <td>NaN</td>\n",
              "      <td>NaN</td>\n",
              "      <td>NaN</td>\n",
              "      <td>NaN</td>\n",
              "      <td>NaN</td>\n",
              "      <td>NaN</td>\n",
              "      <td>NaN</td>\n",
              "      <td>NaN</td>\n",
              "    </tr>\n",
              "    <tr>\n",
              "      <th>2</th>\n",
              "      <td>2015-06-01</td>\n",
              "      <td>08:04:00.000</td>\n",
              "      <td>SEM VÍTIMA</td>\n",
              "      <td>FINALIZADA</td>\n",
              "      <td>BOA VIAGEM</td>\n",
              "      <td>RUA ERNESTO DE PAULA SANTOS</td>\n",
              "      <td>NaN</td>\n",
              "      <td>NaN</td>\n",
              "      <td>SEMAFORO Nº217</td>\n",
              "      <td>NaN</td>\n",
              "      <td>NaN</td>\n",
              "      <td>NaN</td>\n",
              "      <td>COLISÃO</td>\n",
              "      <td>SEM VITIMA</td>\n",
              "      <td>1.0</td>\n",
              "      <td>NaN</td>\n",
              "      <td>NaN</td>\n",
              "      <td>NaN</td>\n",
              "      <td>NaN</td>\n",
              "      <td>NaN</td>\n",
              "      <td>1.0</td>\n",
              "      <td>NaN</td>\n",
              "      <td>NaN</td>\n",
              "      <td>0.0</td>\n",
              "      <td>NaN</td>\n",
              "      <td>NaN</td>\n",
              "      <td>NaN</td>\n",
              "      <td>NaN</td>\n",
              "      <td>NaN</td>\n",
              "      <td>NaN</td>\n",
              "      <td>NaN</td>\n",
              "      <td>NaN</td>\n",
              "      <td>NaN</td>\n",
              "      <td>NaN</td>\n",
              "      <td>NaN</td>\n",
              "      <td>NaN</td>\n",
              "      <td>NaN</td>\n",
              "      <td>NaN</td>\n",
              "      <td>NaN</td>\n",
              "      <td>NaN</td>\n",
              "      <td>NaN</td>\n",
              "      <td>NaN</td>\n",
              "    </tr>\n",
              "    <tr>\n",
              "      <th>3</th>\n",
              "      <td>2015-06-01</td>\n",
              "      <td>08:06:00.000</td>\n",
              "      <td>SEM VÍTIMA</td>\n",
              "      <td>FINALIZADA</td>\n",
              "      <td>AFOGADOS</td>\n",
              "      <td>AV SUL</td>\n",
              "      <td>NaN</td>\n",
              "      <td>NaN</td>\n",
              "      <td>AO LADO DA ESTAÇAO LARGO DA PAZ</td>\n",
              "      <td>NaN</td>\n",
              "      <td>NaN</td>\n",
              "      <td>NaN</td>\n",
              "      <td>COLISÃO</td>\n",
              "      <td>COLISAO S/V</td>\n",
              "      <td>1.0</td>\n",
              "      <td>NaN</td>\n",
              "      <td>NaN</td>\n",
              "      <td>NaN</td>\n",
              "      <td>NaN</td>\n",
              "      <td>NaN</td>\n",
              "      <td>1.0</td>\n",
              "      <td>NaN</td>\n",
              "      <td>NaN</td>\n",
              "      <td>0.0</td>\n",
              "      <td>NaN</td>\n",
              "      <td>NaN</td>\n",
              "      <td>NaN</td>\n",
              "      <td>NaN</td>\n",
              "      <td>NaN</td>\n",
              "      <td>NaN</td>\n",
              "      <td>NaN</td>\n",
              "      <td>NaN</td>\n",
              "      <td>NaN</td>\n",
              "      <td>NaN</td>\n",
              "      <td>NaN</td>\n",
              "      <td>NaN</td>\n",
              "      <td>NaN</td>\n",
              "      <td>NaN</td>\n",
              "      <td>NaN</td>\n",
              "      <td>NaN</td>\n",
              "      <td>NaN</td>\n",
              "      <td>NaN</td>\n",
              "    </tr>\n",
              "    <tr>\n",
              "      <th>4</th>\n",
              "      <td>2015-06-01</td>\n",
              "      <td>08:13:00.000</td>\n",
              "      <td>SEM VÍTIMA</td>\n",
              "      <td>CANCELADA</td>\n",
              "      <td>MADALENA</td>\n",
              "      <td>RUA BENFICA</td>\n",
              "      <td>NaN</td>\n",
              "      <td>NaN</td>\n",
              "      <td>EM  FRENTE AO CLUBE INTERNACIONAL</td>\n",
              "      <td>NaN</td>\n",
              "      <td>NaN</td>\n",
              "      <td>NaN</td>\n",
              "      <td>COLISÃO</td>\n",
              "      <td>GM RIBEIRO JA NO LOCAL VT 05</td>\n",
              "      <td>2.0</td>\n",
              "      <td>NaN</td>\n",
              "      <td>NaN</td>\n",
              "      <td>NaN</td>\n",
              "      <td>NaN</td>\n",
              "      <td>NaN</td>\n",
              "      <td>NaN</td>\n",
              "      <td>NaN</td>\n",
              "      <td>NaN</td>\n",
              "      <td>0.0</td>\n",
              "      <td>NaN</td>\n",
              "      <td>NaN</td>\n",
              "      <td>NaN</td>\n",
              "      <td>NaN</td>\n",
              "      <td>NaN</td>\n",
              "      <td>NaN</td>\n",
              "      <td>NaN</td>\n",
              "      <td>NaN</td>\n",
              "      <td>NaN</td>\n",
              "      <td>NaN</td>\n",
              "      <td>NaN</td>\n",
              "      <td>NaN</td>\n",
              "      <td>NaN</td>\n",
              "      <td>NaN</td>\n",
              "      <td>NaN</td>\n",
              "      <td>NaN</td>\n",
              "      <td>NaN</td>\n",
              "      <td>NaN</td>\n",
              "    </tr>\n",
              "  </tbody>\n",
              "</table>\n",
              "</div>"
            ],
            "text/plain": [
              "         DATA          HORA  ... NUMERO_CRUZAMENTO REFERENCIA_CRUZAMENTO\n",
              "0  2015-12-03  11:36:00.000  ...               NaN                   NaN\n",
              "1  2015-06-01  06:35:00.000  ...               NaN                   NaN\n",
              "2  2015-06-01  08:04:00.000  ...               NaN                   NaN\n",
              "3  2015-06-01  08:06:00.000  ...               NaN                   NaN\n",
              "4  2015-06-01  08:13:00.000  ...               NaN                   NaN\n",
              "\n",
              "[5 rows x 42 columns]"
            ]
          },
          "metadata": {
            "tags": []
          },
          "execution_count": 38
        }
      ]
    },
    {
      "cell_type": "code",
      "metadata": {
        "colab": {
          "base_uri": "https://localhost:8080/"
        },
        "id": "0CPfi3r7oAf3",
        "outputId": "20f9da6c-723e-48bc-bcea-39f350bbb351"
      },
      "source": [
        "#olhando os tipos que foram inferidos inicialmente no pandas\n",
        "acidentes.dtypes"
      ],
      "execution_count": 39,
      "outputs": [
        {
          "output_type": "execute_result",
          "data": {
            "text/plain": [
              "DATA                          object\n",
              "HORA                          object\n",
              "NATUREZA_ACIDENTE             object\n",
              "SITUACAO                      object\n",
              "BAIRRO                        object\n",
              "ENDERECO                      object\n",
              "NUMERO                        object\n",
              "DETALHE_ENDERECO_ACIDENTE     object\n",
              "COMPLEMENTO                   object\n",
              "BAIRRO_CRUZAMENTO             object\n",
              "NUM_SEMAFORO                 float64\n",
              "SENTIDO_VIA                   object\n",
              "TIPO                          object\n",
              "DESCRICAO                     object\n",
              "AUTO                         float64\n",
              "MOTO                         float64\n",
              "CICLOM                       float64\n",
              "CICLISTA                     float64\n",
              "PEDESTRE                     float64\n",
              "ONIBUS                       float64\n",
              "CAMINHAO                     float64\n",
              "VIATURA                      float64\n",
              "OUTROS                       float64\n",
              "VITIMAS                      float64\n",
              "VITIMASFATAIS                float64\n",
              "ACIDENTE_VERIFICADO           object\n",
              "TEMPO_CLIMA                   object\n",
              "SITUACAO_SEMAFORO             object\n",
              "SINALIZACAO                   object\n",
              "CONDICAO_VIA                  object\n",
              "CONSERVACAO_VIA               object\n",
              "PONTO_CONTROLE                object\n",
              "SITUACAO_PLACA                object\n",
              "VELOCIDADE_MAX_VIA            object\n",
              "MAO_DIRECAO                   object\n",
              "DIVISAO_VIA1                  object\n",
              "DIVISAO_VIA2                  object\n",
              "DIVISAO_VIA3                  object\n",
              "NATUREZA                     float64\n",
              "ENDERECO_CRUZAMENTO           object\n",
              "NUMERO_CRUZAMENTO             object\n",
              "REFERENCIA_CRUZAMENTO         object\n",
              "dtype: object"
            ]
          },
          "metadata": {
            "tags": []
          },
          "execution_count": 39
        }
      ]
    },
    {
      "cell_type": "code",
      "metadata": {
        "id": "qe7bz6urEYXR"
      },
      "source": [
        "#como pouquissimos dados de hora estão ausentes, optamos por exclui-los o que não prejudicaria muito a nossa amostra...\n",
        "acidentes.dropna(subset = [\"HORA\"], inplace=True)\n",
        "acidentes['HORA'] = acidentes['HORA'].astype(str)\n",
        "acidentes['HORA'] = acidentes['HORA'].str.slice(stop = 2)\n",
        "#pegamos os primeiros 2 caracteres pois queriamos discretizar os horarios em manhã tarde e noite, para isso a hora seria o suficiente."
      ],
      "execution_count": 40,
      "outputs": []
    },
    {
      "cell_type": "code",
      "metadata": {
        "colab": {
          "base_uri": "https://localhost:8080/"
        },
        "id": "W3Me_684MvqH",
        "outputId": "84affe4a-84c2-47fe-d5c9-799d18cf0615"
      },
      "source": [
        "#apos um tempo apanhando, descobrimos que existia alguns dados invalidos na hora que estavam prejudicando a nossa analise,\n",
        "#então nos tivemos que nos livrar deles\n",
        "acidentes['HORA'].unique()"
      ],
      "execution_count": 41,
      "outputs": [
        {
          "output_type": "execute_result",
          "data": {
            "text/plain": [
              "array(['11', '06', '08', '09', '10', '12', '13', '14', '15', '16', '17',\n",
              "       '18', '07', '19', '20', '21', '22', '01', '05', '23', '00', '03',\n",
              "       '04', '02', 'ju', '29', 'CI', 'M', 'MA', '.', '48'], dtype=object)"
            ]
          },
          "metadata": {
            "tags": []
          },
          "execution_count": 41
        }
      ]
    },
    {
      "cell_type": "code",
      "metadata": {
        "colab": {
          "base_uri": "https://localhost:8080/"
        },
        "id": "T7hF4iUtOVxq",
        "outputId": "80448919-e1b5-49a2-8a5b-1743ebe53222"
      },
      "source": [
        "#olhando a quantidade de dados invalidos que foram excluidos para medir o impacto que isso traria para a nossa analise\n",
        "len(acidentes['HORA'])"
      ],
      "execution_count": 8,
      "outputs": [
        {
          "output_type": "execute_result",
          "data": {
            "text/plain": [
              "58015"
            ]
          },
          "metadata": {
            "tags": []
          },
          "execution_count": 8
        }
      ]
    },
    {
      "cell_type": "code",
      "metadata": {
        "id": "vQxsUbYHNOS9",
        "colab": {
          "base_uri": "https://localhost:8080/"
        },
        "outputId": "48b5e644-1227-4b26-9d83-dc49adaf6375"
      },
      "source": [
        "#nos livrando dos dados invalidos da coluna hora\n",
        "#como podemos observar, não existia um numero expressivo de dados invalidos então simplesmente excluilos não seria um grande problema\n",
        "acidentes = acidentes[acidentes.HORA != 'ju']\n",
        "acidentes = acidentes[acidentes.HORA != '29']\n",
        "acidentes = acidentes[acidentes.HORA != 'CI']\n",
        "acidentes = acidentes[acidentes.HORA != 'M']\n",
        "acidentes = acidentes[acidentes.HORA != 'MA']\n",
        "acidentes = acidentes[acidentes.HORA != '.']\n",
        "acidentes = acidentes[acidentes.HORA != '48']\n",
        "\n",
        "len(acidentes['HORA'])\n"
      ],
      "execution_count": 42,
      "outputs": [
        {
          "output_type": "execute_result",
          "data": {
            "text/plain": [
              "58008"
            ]
          },
          "metadata": {
            "tags": []
          },
          "execution_count": 42
        }
      ]
    },
    {
      "cell_type": "code",
      "metadata": {
        "id": "zyEzqozqjWdJ"
      },
      "source": [
        "#convertendo as horas para inteiro, pois posteriormente vamos usar o comparador de < <= > e >=...\n",
        "acidentes['HORA'] = acidentes['HORA'].astype(int)"
      ],
      "execution_count": 44,
      "outputs": []
    },
    {
      "cell_type": "code",
      "metadata": {
        "id": "gcWcPmpTQjE5"
      },
      "source": [
        "#discretizando as horas em periodos do dia\n",
        "acidentes['PERIODO_DO_DIA'] = 'manha'\n",
        "acidentes.loc[(acidentes['HORA'] < 6),'PERIODO_DO_DIA'] = 'madrugada'\n",
        "acidentes.loc[((acidentes['HORA'] >= 6) & (acidentes['HORA'] < 12)),'PERIODO_DO_DIA'] = 'manha'\n",
        "acidentes.loc[((acidentes['HORA'] >= 12) & (acidentes['HORA'] < 18)),'PERIODO_DO_DIA'] = 'tarde'\n",
        "acidentes.loc[(acidentes['HORA'] > 18),'PERIODO_DO_DIA'] = 'noite'\n",
        "acidentes['PERIODO_DO_DIA'] = acidentes['PERIODO_DO_DIA'].astype(str)"
      ],
      "execution_count": 45,
      "outputs": []
    },
    {
      "cell_type": "code",
      "metadata": {
        "id": "XPyWVVuz76yP"
      },
      "source": [
        "#ajustando tipos dos dados\n",
        "\n",
        "acidentes['DATA'] = pd.to_datetime(acidentes['DATA'], format='%Y-%m-%d', errors='ignore')\n",
        "#acidentes['HORA'] = pd.to_datetime(acidentes['HORA'], format='%H:%M:%S', errors = 'ignore')\n",
        "\n",
        "acidentes = acidentes.astype({'NATUREZA_ACIDENTE':'category','SITUACAO':'category','BAIRRO':'category','ENDERECO':'category','NUMERO':'category','DETALHE_ENDERECO_ACIDENTE':'category','COMPLEMENTO':'category','BAIRRO_CRUZAMENTO':'category','NUM_SEMAFORO':'category','SENTIDO_VIA':'category','TIPO':'category','DESCRICAO':'category','AUTO':'float','MOTO':'float','CICLOM':'float','CICLISTA':'float','PEDESTRE':'float','ONIBUS':'float','CAMINHAO':'float','VIATURA':'float','OUTROS':'float','VITIMAS':'float','VITIMASFATAIS':'float','ACIDENTE_VERIFICADO':'category','TEMPO_CLIMA':'category','SITUACAO_SEMAFORO':'category','SINALIZACAO':'category','CONDICAO_VIA':'category','CONSERVACAO_VIA':'category','PONTO_CONTROLE':'category','SITUACAO_PLACA':'category','VELOCIDADE_MAX_VIA':'category','MAO_DIRECAO':'category','DIVISAO_VIA1':'category','DIVISAO_VIA2':'category','DIVISAO_VIA3':'category','NATUREZA':'category','ENDERECO_CRUZAMENTO':'category','NUMERO_CRUZAMENTO':'category','REFERENCIA_CRUZAMENTO':'category'})"
      ],
      "execution_count": 47,
      "outputs": []
    },
    {
      "cell_type": "code",
      "metadata": {
        "colab": {
          "base_uri": "https://localhost:8080/"
        },
        "id": "YjwXenr44sxJ",
        "outputId": "9cc4bfc6-4355-49e0-daee-3ad78ef3c891"
      },
      "source": [
        "#visualizando os tipos depois do cast\n",
        "acidentes.dtypes"
      ],
      "execution_count": 48,
      "outputs": [
        {
          "output_type": "execute_result",
          "data": {
            "text/plain": [
              "DATA                         datetime64[ns]\n",
              "HORA                                  int64\n",
              "NATUREZA_ACIDENTE                  category\n",
              "SITUACAO                           category\n",
              "BAIRRO                             category\n",
              "ENDERECO                           category\n",
              "NUMERO                             category\n",
              "DETALHE_ENDERECO_ACIDENTE          category\n",
              "COMPLEMENTO                        category\n",
              "BAIRRO_CRUZAMENTO                  category\n",
              "NUM_SEMAFORO                       category\n",
              "SENTIDO_VIA                        category\n",
              "TIPO                               category\n",
              "DESCRICAO                          category\n",
              "AUTO                                float64\n",
              "MOTO                                float64\n",
              "CICLOM                              float64\n",
              "CICLISTA                            float64\n",
              "PEDESTRE                            float64\n",
              "ONIBUS                              float64\n",
              "CAMINHAO                            float64\n",
              "VIATURA                             float64\n",
              "OUTROS                              float64\n",
              "VITIMAS                             float64\n",
              "VITIMASFATAIS                       float64\n",
              "ACIDENTE_VERIFICADO                category\n",
              "TEMPO_CLIMA                        category\n",
              "SITUACAO_SEMAFORO                  category\n",
              "SINALIZACAO                        category\n",
              "CONDICAO_VIA                       category\n",
              "CONSERVACAO_VIA                    category\n",
              "PONTO_CONTROLE                     category\n",
              "SITUACAO_PLACA                     category\n",
              "VELOCIDADE_MAX_VIA                 category\n",
              "MAO_DIRECAO                        category\n",
              "DIVISAO_VIA1                       category\n",
              "DIVISAO_VIA2                       category\n",
              "DIVISAO_VIA3                       category\n",
              "NATUREZA                           category\n",
              "ENDERECO_CRUZAMENTO                category\n",
              "NUMERO_CRUZAMENTO                  category\n",
              "REFERENCIA_CRUZAMENTO              category\n",
              "PERIODO_DO_DIA                       object\n",
              "dtype: object"
            ]
          },
          "metadata": {
            "tags": []
          },
          "execution_count": 48
        }
      ]
    },
    {
      "cell_type": "code",
      "metadata": {
        "id": "zWVyHeyQ91x_"
      },
      "source": [
        "#discretizando também o dia da semana baseado na data do dia\n",
        "#vamos usar isso para futuras comparações\n",
        "acidentes['DIA_DA_SEMANA'] = acidentes['DATA'].dt.dayofweek\n",
        "acidentes.loc[(acidentes['DIA_DA_SEMANA'] == 0),'DIA_DA_SEMANA'] = 'Segunda'\n",
        "acidentes.loc[(acidentes['DIA_DA_SEMANA'] == 1),'DIA_DA_SEMANA'] = 'Terca'\n",
        "acidentes.loc[(acidentes['DIA_DA_SEMANA'] == 2),'DIA_DA_SEMANA'] = 'Quarta'\n",
        "acidentes.loc[(acidentes['DIA_DA_SEMANA'] == 3),'DIA_DA_SEMANA'] = 'Quinta'\n",
        "acidentes.loc[(acidentes['DIA_DA_SEMANA'] == 4),'DIA_DA_SEMANA'] = 'Sexta'\n",
        "acidentes.loc[(acidentes['DIA_DA_SEMANA'] == 5),'DIA_DA_SEMANA'] = 'Sabado'\n",
        "acidentes.loc[(acidentes['DIA_DA_SEMANA'] == 6),'DIA_DA_SEMANA'] = 'Domingo'"
      ],
      "execution_count": 13,
      "outputs": []
    },
    {
      "cell_type": "markdown",
      "metadata": {
        "id": "8u2a-qa7lP3h"
      },
      "source": [
        "tratando os dados ausentes\n"
      ]
    },
    {
      "cell_type": "code",
      "metadata": {
        "colab": {
          "base_uri": "https://localhost:8080/"
        },
        "id": "JRm2d8p003o2",
        "outputId": "80049bb0-b4a1-42d9-d18f-508ef3228e5e"
      },
      "source": [
        "#dando uma olhada em quais colunas possuem mais dados ausentes\n",
        "print(acidentes.isnull().sum()/len(acidentes))"
      ],
      "execution_count": 14,
      "outputs": [
        {
          "output_type": "stream",
          "text": [
            "DATA                         0.000000\n",
            "HORA                         0.000000\n",
            "NATUREZA_ACIDENTE            0.007275\n",
            "SITUACAO                     0.000931\n",
            "BAIRRO                       0.005637\n",
            "ENDERECO                     0.004068\n",
            "NUMERO                       0.544890\n",
            "DETALHE_ENDERECO_ACIDENTE    0.855468\n",
            "COMPLEMENTO                  0.062319\n",
            "BAIRRO_CRUZAMENTO            0.129189\n",
            "NUM_SEMAFORO                 0.915581\n",
            "SENTIDO_VIA                  0.776738\n",
            "TIPO                         0.000983\n",
            "DESCRICAO                    0.220383\n",
            "AUTO                         0.093470\n",
            "MOTO                         0.745277\n",
            "CICLOM                       0.992984\n",
            "CICLISTA                     0.985209\n",
            "PEDESTRE                     0.978382\n",
            "ONIBUS                       0.851951\n",
            "CAMINHAO                     0.900496\n",
            "VIATURA                      0.988295\n",
            "OUTROS                       0.988536\n",
            "VITIMAS                      0.004723\n",
            "VITIMASFATAIS                0.997380\n",
            "ACIDENTE_VERIFICADO          0.749414\n",
            "TEMPO_CLIMA                  0.739553\n",
            "SITUACAO_SEMAFORO            0.742880\n",
            "SINALIZACAO                  0.744415\n",
            "CONDICAO_VIA                 0.740381\n",
            "CONSERVACAO_VIA              0.744087\n",
            "PONTO_CONTROLE               0.764929\n",
            "SITUACAO_PLACA               0.764860\n",
            "VELOCIDADE_MAX_VIA           0.921666\n",
            "MAO_DIRECAO                  0.744518\n",
            "DIVISAO_VIA1                 0.754568\n",
            "DIVISAO_VIA2                 0.976710\n",
            "DIVISAO_VIA3                 0.995501\n",
            "NATUREZA                     1.000000\n",
            "ENDERECO_CRUZAMENTO          0.201058\n",
            "NUMERO_CRUZAMENTO            0.437560\n",
            "REFERENCIA_CRUZAMENTO        0.249655\n",
            "PERIODO_DO_DIA               0.000000\n",
            "DIA_DA_SEMANA                0.000000\n",
            "dtype: float64\n"
          ],
          "name": "stdout"
        }
      ]
    },
    {
      "cell_type": "markdown",
      "metadata": {
        "id": "mvVZ5hRZBHgk"
      },
      "source": [
        "*** As colunas abaixo vão ser retiradas pela falta de valores ser muito elevada em relação ao dataset***\n",
        "\n",
        "NUMERO além de que essa granularidade seria muito especifica para o nosso foco\n",
        "\n",
        "DETALHE_ENDERECO_ACIDENTE é um valor muito subjetivo e pouco padronizado\n",
        "\n",
        "NUM_SEMAFORO é um numero que não significa muita coisa pro nosso foco\n",
        "\n",
        "SENTIDO_VIA seria muito especifico para os testes que a gente vai fazer\n",
        "\n",
        "DIVISAO_VIA2 existem poucas vias com 3 faixas\n",
        "\n",
        "DIVISAO_VIA3 existem poucas vias com 4 faixas\n",
        "\n",
        "NATUREZA essa coluna ta vazia\n",
        "\n",
        "ENDERECO_CRUZAMENTO\n",
        "\n",
        "NUMERO_CRUZAMENTO\n",
        "\n",
        "REFERENCIA_CRUZAMENTO\n"
      ]
    },
    {
      "cell_type": "code",
      "metadata": {
        "colab": {
          "base_uri": "https://localhost:8080/",
          "height": 217
        },
        "id": "jFJMNlxsLFZl",
        "outputId": "b2941980-afb0-41f3-b67c-36cc8a04fb59"
      },
      "source": [
        "excluidos = acidentes[[ 'NUMERO','DETALHE_ENDERECO_ACIDENTE','NUM_SEMAFORO','SENTIDO_VIA','DIVISAO_VIA2','DIVISAO_VIA3','NATUREZA','ENDERECO_CRUZAMENTO','NUMERO_CRUZAMENTO','REFERENCIA_CRUZAMENTO']]\n",
        "excluidos.head()"
      ],
      "execution_count": 49,
      "outputs": [
        {
          "output_type": "execute_result",
          "data": {
            "text/html": [
              "<div>\n",
              "<style scoped>\n",
              "    .dataframe tbody tr th:only-of-type {\n",
              "        vertical-align: middle;\n",
              "    }\n",
              "\n",
              "    .dataframe tbody tr th {\n",
              "        vertical-align: top;\n",
              "    }\n",
              "\n",
              "    .dataframe thead th {\n",
              "        text-align: right;\n",
              "    }\n",
              "</style>\n",
              "<table border=\"1\" class=\"dataframe\">\n",
              "  <thead>\n",
              "    <tr style=\"text-align: right;\">\n",
              "      <th></th>\n",
              "      <th>NUMERO</th>\n",
              "      <th>DETALHE_ENDERECO_ACIDENTE</th>\n",
              "      <th>NUM_SEMAFORO</th>\n",
              "      <th>SENTIDO_VIA</th>\n",
              "      <th>DIVISAO_VIA2</th>\n",
              "      <th>DIVISAO_VIA3</th>\n",
              "      <th>NATUREZA</th>\n",
              "      <th>ENDERECO_CRUZAMENTO</th>\n",
              "      <th>NUMERO_CRUZAMENTO</th>\n",
              "      <th>REFERENCIA_CRUZAMENTO</th>\n",
              "    </tr>\n",
              "  </thead>\n",
              "  <tbody>\n",
              "    <tr>\n",
              "      <th>0</th>\n",
              "      <td>NaN</td>\n",
              "      <td>NaN</td>\n",
              "      <td>NaN</td>\n",
              "      <td>NaN</td>\n",
              "      <td>NaN</td>\n",
              "      <td>NaN</td>\n",
              "      <td>NaN</td>\n",
              "      <td>NaN</td>\n",
              "      <td>NaN</td>\n",
              "      <td>NaN</td>\n",
              "    </tr>\n",
              "    <tr>\n",
              "      <th>1</th>\n",
              "      <td>NaN</td>\n",
              "      <td>NaN</td>\n",
              "      <td>NaN</td>\n",
              "      <td>NaN</td>\n",
              "      <td>NaN</td>\n",
              "      <td>NaN</td>\n",
              "      <td>NaN</td>\n",
              "      <td>NaN</td>\n",
              "      <td>NaN</td>\n",
              "      <td>NaN</td>\n",
              "    </tr>\n",
              "    <tr>\n",
              "      <th>2</th>\n",
              "      <td>NaN</td>\n",
              "      <td>NaN</td>\n",
              "      <td>NaN</td>\n",
              "      <td>NaN</td>\n",
              "      <td>NaN</td>\n",
              "      <td>NaN</td>\n",
              "      <td>NaN</td>\n",
              "      <td>NaN</td>\n",
              "      <td>NaN</td>\n",
              "      <td>NaN</td>\n",
              "    </tr>\n",
              "    <tr>\n",
              "      <th>3</th>\n",
              "      <td>NaN</td>\n",
              "      <td>NaN</td>\n",
              "      <td>NaN</td>\n",
              "      <td>NaN</td>\n",
              "      <td>NaN</td>\n",
              "      <td>NaN</td>\n",
              "      <td>NaN</td>\n",
              "      <td>NaN</td>\n",
              "      <td>NaN</td>\n",
              "      <td>NaN</td>\n",
              "    </tr>\n",
              "    <tr>\n",
              "      <th>4</th>\n",
              "      <td>NaN</td>\n",
              "      <td>NaN</td>\n",
              "      <td>NaN</td>\n",
              "      <td>NaN</td>\n",
              "      <td>NaN</td>\n",
              "      <td>NaN</td>\n",
              "      <td>NaN</td>\n",
              "      <td>NaN</td>\n",
              "      <td>NaN</td>\n",
              "      <td>NaN</td>\n",
              "    </tr>\n",
              "  </tbody>\n",
              "</table>\n",
              "</div>"
            ],
            "text/plain": [
              "  NUMERO DETALHE_ENDERECO_ACIDENTE  ... NUMERO_CRUZAMENTO REFERENCIA_CRUZAMENTO\n",
              "0    NaN                       NaN  ...               NaN                   NaN\n",
              "1    NaN                       NaN  ...               NaN                   NaN\n",
              "2    NaN                       NaN  ...               NaN                   NaN\n",
              "3    NaN                       NaN  ...               NaN                   NaN\n",
              "4    NaN                       NaN  ...               NaN                   NaN\n",
              "\n",
              "[5 rows x 10 columns]"
            ]
          },
          "metadata": {
            "tags": []
          },
          "execution_count": 49
        }
      ]
    },
    {
      "cell_type": "code",
      "metadata": {
        "id": "bE_6UOzF4x5f"
      },
      "source": [
        "#apagando algumas tabelas que não eram tão interessantes pra gente\n",
        "acidentes = acidentes.drop([ 'NUMERO','DETALHE_ENDERECO_ACIDENTE','NUM_SEMAFORO','SENTIDO_VIA','DIVISAO_VIA2','DIVISAO_VIA3','NATUREZA','ENDERECO_CRUZAMENTO','NUMERO_CRUZAMENTO','REFERENCIA_CRUZAMENTO'], axis=1)"
      ],
      "execution_count": 16,
      "outputs": []
    },
    {
      "cell_type": "code",
      "metadata": {
        "colab": {
          "base_uri": "https://localhost:8080/",
          "height": 417
        },
        "id": "Zcojji404Ckm",
        "outputId": "5f081629-4221-4404-8abc-24565767bb11"
      },
      "source": [
        "#olhando a tabela apos a exclusão das colunas desnecessarias\n",
        "acidentes.head()"
      ],
      "execution_count": 17,
      "outputs": [
        {
          "output_type": "execute_result",
          "data": {
            "text/html": [
              "<div>\n",
              "<style scoped>\n",
              "    .dataframe tbody tr th:only-of-type {\n",
              "        vertical-align: middle;\n",
              "    }\n",
              "\n",
              "    .dataframe tbody tr th {\n",
              "        vertical-align: top;\n",
              "    }\n",
              "\n",
              "    .dataframe thead th {\n",
              "        text-align: right;\n",
              "    }\n",
              "</style>\n",
              "<table border=\"1\" class=\"dataframe\">\n",
              "  <thead>\n",
              "    <tr style=\"text-align: right;\">\n",
              "      <th></th>\n",
              "      <th>DATA</th>\n",
              "      <th>HORA</th>\n",
              "      <th>NATUREZA_ACIDENTE</th>\n",
              "      <th>SITUACAO</th>\n",
              "      <th>BAIRRO</th>\n",
              "      <th>ENDERECO</th>\n",
              "      <th>COMPLEMENTO</th>\n",
              "      <th>BAIRRO_CRUZAMENTO</th>\n",
              "      <th>TIPO</th>\n",
              "      <th>DESCRICAO</th>\n",
              "      <th>AUTO</th>\n",
              "      <th>MOTO</th>\n",
              "      <th>CICLOM</th>\n",
              "      <th>CICLISTA</th>\n",
              "      <th>PEDESTRE</th>\n",
              "      <th>ONIBUS</th>\n",
              "      <th>CAMINHAO</th>\n",
              "      <th>VIATURA</th>\n",
              "      <th>OUTROS</th>\n",
              "      <th>VITIMAS</th>\n",
              "      <th>VITIMASFATAIS</th>\n",
              "      <th>ACIDENTE_VERIFICADO</th>\n",
              "      <th>TEMPO_CLIMA</th>\n",
              "      <th>SITUACAO_SEMAFORO</th>\n",
              "      <th>SINALIZACAO</th>\n",
              "      <th>CONDICAO_VIA</th>\n",
              "      <th>CONSERVACAO_VIA</th>\n",
              "      <th>PONTO_CONTROLE</th>\n",
              "      <th>SITUACAO_PLACA</th>\n",
              "      <th>VELOCIDADE_MAX_VIA</th>\n",
              "      <th>MAO_DIRECAO</th>\n",
              "      <th>DIVISAO_VIA1</th>\n",
              "      <th>PERIODO_DO_DIA</th>\n",
              "      <th>DIA_DA_SEMANA</th>\n",
              "    </tr>\n",
              "  </thead>\n",
              "  <tbody>\n",
              "    <tr>\n",
              "      <th>0</th>\n",
              "      <td>2015-12-03</td>\n",
              "      <td>11</td>\n",
              "      <td>SEM VÍTIMA</td>\n",
              "      <td>CANCELADA</td>\n",
              "      <td>CASA AMARELA</td>\n",
              "      <td>AV NORTE</td>\n",
              "      <td>SENTIDO SUBURBIO   E/F AO SESC</td>\n",
              "      <td>NaN</td>\n",
              "      <td>COLISÃO</td>\n",
              "      <td>COLISÃO SEM VITIMAS</td>\n",
              "      <td>NaN</td>\n",
              "      <td>NaN</td>\n",
              "      <td>NaN</td>\n",
              "      <td>NaN</td>\n",
              "      <td>NaN</td>\n",
              "      <td>NaN</td>\n",
              "      <td>NaN</td>\n",
              "      <td>NaN</td>\n",
              "      <td>NaN</td>\n",
              "      <td>0.0</td>\n",
              "      <td>NaN</td>\n",
              "      <td>NaN</td>\n",
              "      <td>NaN</td>\n",
              "      <td>NaN</td>\n",
              "      <td>NaN</td>\n",
              "      <td>NaN</td>\n",
              "      <td>NaN</td>\n",
              "      <td>NaN</td>\n",
              "      <td>NaN</td>\n",
              "      <td>NaN</td>\n",
              "      <td>NaN</td>\n",
              "      <td>NaN</td>\n",
              "      <td>manha</td>\n",
              "      <td>Quinta</td>\n",
              "    </tr>\n",
              "    <tr>\n",
              "      <th>1</th>\n",
              "      <td>2015-06-01</td>\n",
              "      <td>6</td>\n",
              "      <td>SEM VÍTIMA</td>\n",
              "      <td>FINALIZADA</td>\n",
              "      <td>ENCRUZILHADA</td>\n",
              "      <td>EST DE BELEM</td>\n",
              "      <td>IGREJA BATISTA MEMORIAL DE BELÉM</td>\n",
              "      <td>NaN</td>\n",
              "      <td>COLISÃO</td>\n",
              "      <td>SEM VÍTIMAS.</td>\n",
              "      <td>NaN</td>\n",
              "      <td>2.0</td>\n",
              "      <td>NaN</td>\n",
              "      <td>NaN</td>\n",
              "      <td>NaN</td>\n",
              "      <td>NaN</td>\n",
              "      <td>NaN</td>\n",
              "      <td>NaN</td>\n",
              "      <td>NaN</td>\n",
              "      <td>0.0</td>\n",
              "      <td>NaN</td>\n",
              "      <td>NaN</td>\n",
              "      <td>NaN</td>\n",
              "      <td>NaN</td>\n",
              "      <td>NaN</td>\n",
              "      <td>NaN</td>\n",
              "      <td>NaN</td>\n",
              "      <td>NaN</td>\n",
              "      <td>NaN</td>\n",
              "      <td>NaN</td>\n",
              "      <td>NaN</td>\n",
              "      <td>NaN</td>\n",
              "      <td>manha</td>\n",
              "      <td>Segunda</td>\n",
              "    </tr>\n",
              "    <tr>\n",
              "      <th>2</th>\n",
              "      <td>2015-06-01</td>\n",
              "      <td>8</td>\n",
              "      <td>SEM VÍTIMA</td>\n",
              "      <td>FINALIZADA</td>\n",
              "      <td>BOA VIAGEM</td>\n",
              "      <td>RUA ERNESTO DE PAULA SANTOS</td>\n",
              "      <td>SEMAFORO Nº217</td>\n",
              "      <td>NaN</td>\n",
              "      <td>COLISÃO</td>\n",
              "      <td>SEM VITIMA</td>\n",
              "      <td>1.0</td>\n",
              "      <td>NaN</td>\n",
              "      <td>NaN</td>\n",
              "      <td>NaN</td>\n",
              "      <td>NaN</td>\n",
              "      <td>NaN</td>\n",
              "      <td>1.0</td>\n",
              "      <td>NaN</td>\n",
              "      <td>NaN</td>\n",
              "      <td>0.0</td>\n",
              "      <td>NaN</td>\n",
              "      <td>NaN</td>\n",
              "      <td>NaN</td>\n",
              "      <td>NaN</td>\n",
              "      <td>NaN</td>\n",
              "      <td>NaN</td>\n",
              "      <td>NaN</td>\n",
              "      <td>NaN</td>\n",
              "      <td>NaN</td>\n",
              "      <td>NaN</td>\n",
              "      <td>NaN</td>\n",
              "      <td>NaN</td>\n",
              "      <td>manha</td>\n",
              "      <td>Segunda</td>\n",
              "    </tr>\n",
              "    <tr>\n",
              "      <th>3</th>\n",
              "      <td>2015-06-01</td>\n",
              "      <td>8</td>\n",
              "      <td>SEM VÍTIMA</td>\n",
              "      <td>FINALIZADA</td>\n",
              "      <td>AFOGADOS</td>\n",
              "      <td>AV SUL</td>\n",
              "      <td>AO LADO DA ESTAÇAO LARGO DA PAZ</td>\n",
              "      <td>NaN</td>\n",
              "      <td>COLISÃO</td>\n",
              "      <td>COLISAO S/V</td>\n",
              "      <td>1.0</td>\n",
              "      <td>NaN</td>\n",
              "      <td>NaN</td>\n",
              "      <td>NaN</td>\n",
              "      <td>NaN</td>\n",
              "      <td>NaN</td>\n",
              "      <td>1.0</td>\n",
              "      <td>NaN</td>\n",
              "      <td>NaN</td>\n",
              "      <td>0.0</td>\n",
              "      <td>NaN</td>\n",
              "      <td>NaN</td>\n",
              "      <td>NaN</td>\n",
              "      <td>NaN</td>\n",
              "      <td>NaN</td>\n",
              "      <td>NaN</td>\n",
              "      <td>NaN</td>\n",
              "      <td>NaN</td>\n",
              "      <td>NaN</td>\n",
              "      <td>NaN</td>\n",
              "      <td>NaN</td>\n",
              "      <td>NaN</td>\n",
              "      <td>manha</td>\n",
              "      <td>Segunda</td>\n",
              "    </tr>\n",
              "    <tr>\n",
              "      <th>4</th>\n",
              "      <td>2015-06-01</td>\n",
              "      <td>8</td>\n",
              "      <td>SEM VÍTIMA</td>\n",
              "      <td>CANCELADA</td>\n",
              "      <td>MADALENA</td>\n",
              "      <td>RUA BENFICA</td>\n",
              "      <td>EM  FRENTE AO CLUBE INTERNACIONAL</td>\n",
              "      <td>NaN</td>\n",
              "      <td>COLISÃO</td>\n",
              "      <td>GM RIBEIRO JA NO LOCAL VT 05</td>\n",
              "      <td>2.0</td>\n",
              "      <td>NaN</td>\n",
              "      <td>NaN</td>\n",
              "      <td>NaN</td>\n",
              "      <td>NaN</td>\n",
              "      <td>NaN</td>\n",
              "      <td>NaN</td>\n",
              "      <td>NaN</td>\n",
              "      <td>NaN</td>\n",
              "      <td>0.0</td>\n",
              "      <td>NaN</td>\n",
              "      <td>NaN</td>\n",
              "      <td>NaN</td>\n",
              "      <td>NaN</td>\n",
              "      <td>NaN</td>\n",
              "      <td>NaN</td>\n",
              "      <td>NaN</td>\n",
              "      <td>NaN</td>\n",
              "      <td>NaN</td>\n",
              "      <td>NaN</td>\n",
              "      <td>NaN</td>\n",
              "      <td>NaN</td>\n",
              "      <td>manha</td>\n",
              "      <td>Segunda</td>\n",
              "    </tr>\n",
              "  </tbody>\n",
              "</table>\n",
              "</div>"
            ],
            "text/plain": [
              "        DATA  HORA NATUREZA_ACIDENTE  ... DIVISAO_VIA1 PERIODO_DO_DIA DIA_DA_SEMANA\n",
              "0 2015-12-03    11        SEM VÍTIMA  ...          NaN          manha        Quinta\n",
              "1 2015-06-01     6        SEM VÍTIMA  ...          NaN          manha       Segunda\n",
              "2 2015-06-01     8        SEM VÍTIMA  ...          NaN          manha       Segunda\n",
              "3 2015-06-01     8        SEM VÍTIMA  ...          NaN          manha       Segunda\n",
              "4 2015-06-01     8        SEM VÍTIMA  ...          NaN          manha       Segunda\n",
              "\n",
              "[5 rows x 34 columns]"
            ]
          },
          "metadata": {
            "tags": []
          },
          "execution_count": 17
        }
      ]
    },
    {
      "cell_type": "code",
      "metadata": {
        "colab": {
          "base_uri": "https://localhost:8080/"
        },
        "id": "l3FuLDGnmtrD",
        "outputId": "cbe025a1-627b-46e1-badf-86e8f29497c7"
      },
      "source": [
        "#percebemos que a coluna NATUREZA_ACIDENTE tem um dado redundante que poderia nos ajudar a repopular a coluna vitima e vitia fatal\n",
        "acidentes.NATUREZA_ACIDENTE.unique()"
      ],
      "execution_count": 18,
      "outputs": [
        {
          "output_type": "execute_result",
          "data": {
            "text/plain": [
              "['SEM VÍTIMA', 'COM VÍTIMA', 'VÍTIMA FATAL', NaN, 'ENTRADA E SAÍDA', 'APOIO']\n",
              "Categories (5, object): ['SEM VÍTIMA', 'COM VÍTIMA', 'VÍTIMA FATAL', 'ENTRADA E SAÍDA', 'APOIO']"
            ]
          },
          "metadata": {
            "tags": []
          },
          "execution_count": 18
        }
      ]
    },
    {
      "cell_type": "code",
      "metadata": {
        "id": "aYVjGyhnnFfA"
      },
      "source": [
        "#usando os valores da tabela NATUREZA_ACIDENTE para repopular a coluna vitimas fatais\n",
        "acidentes.loc[(acidentes['VITIMASFATAIS'].isnull()) & (acidentes['NATUREZA_ACIDENTE'] == 'VÍTIMA FATAL'),'VITIMASFATAIS'] = 1.0"
      ],
      "execution_count": 50,
      "outputs": []
    },
    {
      "cell_type": "code",
      "metadata": {
        "id": "sHvaRhzg4EpR"
      },
      "source": [
        "#como não podemos assumir nada a respeito dessas linhas, vamos zerar o valor de vitimas fatais\n",
        "acidentes.loc[(acidentes['VITIMASFATAIS'].isnull()),'VITIMASFATAIS'] = 0.0"
      ],
      "execution_count": 51,
      "outputs": []
    },
    {
      "cell_type": "code",
      "metadata": {
        "colab": {
          "base_uri": "https://localhost:8080/"
        },
        "id": "3xQaaN-X4TZv",
        "outputId": "8e75a795-d4c0-4ee5-a41e-9b0a365a0a01"
      },
      "source": [
        "#já melhoramos a ausencia de valores na coluna de vitimas fatais\n",
        "print(acidentes.isnull().sum()/len(acidentes))"
      ],
      "execution_count": 52,
      "outputs": [
        {
          "output_type": "stream",
          "text": [
            "DATA                         0.000000\n",
            "HORA                         0.000000\n",
            "NATUREZA_ACIDENTE            0.007275\n",
            "SITUACAO                     0.000931\n",
            "BAIRRO                       0.005637\n",
            "ENDERECO                     0.004068\n",
            "NUMERO                       0.544890\n",
            "DETALHE_ENDERECO_ACIDENTE    0.855468\n",
            "COMPLEMENTO                  0.062319\n",
            "BAIRRO_CRUZAMENTO            0.129189\n",
            "NUM_SEMAFORO                 0.915581\n",
            "SENTIDO_VIA                  0.776738\n",
            "TIPO                         0.000983\n",
            "DESCRICAO                    0.220383\n",
            "AUTO                         0.093470\n",
            "MOTO                         0.745277\n",
            "CICLOM                       0.992984\n",
            "CICLISTA                     0.985209\n",
            "PEDESTRE                     0.978382\n",
            "ONIBUS                       0.851951\n",
            "CAMINHAO                     0.900496\n",
            "VIATURA                      0.988295\n",
            "OUTROS                       0.988536\n",
            "VITIMAS                      0.004723\n",
            "VITIMASFATAIS                0.000000\n",
            "ACIDENTE_VERIFICADO          0.749414\n",
            "TEMPO_CLIMA                  0.739553\n",
            "SITUACAO_SEMAFORO            0.742880\n",
            "SINALIZACAO                  0.744415\n",
            "CONDICAO_VIA                 0.740381\n",
            "CONSERVACAO_VIA              0.744087\n",
            "PONTO_CONTROLE               0.764929\n",
            "SITUACAO_PLACA               0.764860\n",
            "VELOCIDADE_MAX_VIA           0.921666\n",
            "MAO_DIRECAO                  0.744518\n",
            "DIVISAO_VIA1                 0.754568\n",
            "DIVISAO_VIA2                 0.976710\n",
            "DIVISAO_VIA3                 0.995501\n",
            "NATUREZA                     1.000000\n",
            "ENDERECO_CRUZAMENTO          0.201058\n",
            "NUMERO_CRUZAMENTO            0.437560\n",
            "REFERENCIA_CRUZAMENTO        0.249655\n",
            "PERIODO_DO_DIA               0.000000\n",
            "dtype: float64\n"
          ],
          "name": "stdout"
        }
      ]
    },
    {
      "cell_type": "code",
      "metadata": {
        "id": "nwyJqLg_P_9D"
      },
      "source": [
        "#vamos fazer o mesmo para as vitimas leves\n",
        "acidentes.loc[(acidentes['VITIMAS'].isnull()) & (acidentes['NATUREZA_ACIDENTE'] == 'COM VÍTIMA'),'VITIMAS'] = 1.0"
      ],
      "execution_count": 53,
      "outputs": []
    },
    {
      "cell_type": "code",
      "metadata": {
        "id": "LuoT_TZTRNW9"
      },
      "source": [
        "acidentes.loc[(acidentes['VITIMAS'].isnull()) ,'VITIMAS'] = 0.0"
      ],
      "execution_count": 54,
      "outputs": []
    },
    {
      "cell_type": "code",
      "metadata": {
        "id": "TFBxuSp9RVeZ",
        "colab": {
          "base_uri": "https://localhost:8080/"
        },
        "outputId": "a1a486a4-84c7-4ee2-8da4-9ce8cf1a744c"
      },
      "source": [
        "print(acidentes.isnull().sum()/len(acidentes))"
      ],
      "execution_count": 55,
      "outputs": [
        {
          "output_type": "stream",
          "text": [
            "DATA                         0.000000\n",
            "HORA                         0.000000\n",
            "NATUREZA_ACIDENTE            0.007275\n",
            "SITUACAO                     0.000931\n",
            "BAIRRO                       0.005637\n",
            "ENDERECO                     0.004068\n",
            "NUMERO                       0.544890\n",
            "DETALHE_ENDERECO_ACIDENTE    0.855468\n",
            "COMPLEMENTO                  0.062319\n",
            "BAIRRO_CRUZAMENTO            0.129189\n",
            "NUM_SEMAFORO                 0.915581\n",
            "SENTIDO_VIA                  0.776738\n",
            "TIPO                         0.000983\n",
            "DESCRICAO                    0.220383\n",
            "AUTO                         0.093470\n",
            "MOTO                         0.745277\n",
            "CICLOM                       0.992984\n",
            "CICLISTA                     0.985209\n",
            "PEDESTRE                     0.978382\n",
            "ONIBUS                       0.851951\n",
            "CAMINHAO                     0.900496\n",
            "VIATURA                      0.988295\n",
            "OUTROS                       0.988536\n",
            "VITIMAS                      0.000000\n",
            "VITIMASFATAIS                0.000000\n",
            "ACIDENTE_VERIFICADO          0.749414\n",
            "TEMPO_CLIMA                  0.739553\n",
            "SITUACAO_SEMAFORO            0.742880\n",
            "SINALIZACAO                  0.744415\n",
            "CONDICAO_VIA                 0.740381\n",
            "CONSERVACAO_VIA              0.744087\n",
            "PONTO_CONTROLE               0.764929\n",
            "SITUACAO_PLACA               0.764860\n",
            "VELOCIDADE_MAX_VIA           0.921666\n",
            "MAO_DIRECAO                  0.744518\n",
            "DIVISAO_VIA1                 0.754568\n",
            "DIVISAO_VIA2                 0.976710\n",
            "DIVISAO_VIA3                 0.995501\n",
            "NATUREZA                     1.000000\n",
            "ENDERECO_CRUZAMENTO          0.201058\n",
            "NUMERO_CRUZAMENTO            0.437560\n",
            "REFERENCIA_CRUZAMENTO        0.249655\n",
            "PERIODO_DO_DIA               0.000000\n",
            "dtype: float64\n"
          ],
          "name": "stdout"
        }
      ]
    },
    {
      "cell_type": "code",
      "metadata": {
        "id": "ThpKPu7_qyuy"
      },
      "source": [
        "#aqui vamos zerar os valores ausentes das colunas dos elementos envolvidos no acidente\n",
        "acidentes['AUTO'] = acidentes['AUTO'].fillna(0)\n",
        "acidentes['MOTO'] = acidentes['MOTO'].fillna(0)\n",
        "acidentes['CICLOM'] = acidentes['CICLOM'].fillna(0)\n",
        "acidentes['CICLISTA'] = acidentes['CICLISTA'].fillna(0)\n",
        "acidentes['PEDESTRE'] = acidentes['PEDESTRE'].fillna(0)\n",
        "acidentes['ONIBUS'] = acidentes['ONIBUS'].fillna(0)\n",
        "acidentes['CAMINHAO'] = acidentes['CAMINHAO'].fillna(0)\n",
        "acidentes['VIATURA'] = acidentes['VIATURA'].fillna(0)\n",
        "acidentes['OUTROS'] = acidentes['OUTROS'].fillna(0)"
      ],
      "execution_count": 57,
      "outputs": []
    },
    {
      "cell_type": "code",
      "metadata": {
        "colab": {
          "base_uri": "https://localhost:8080/"
        },
        "id": "9c8BgfIXm1V-",
        "outputId": "cbf76b75-2e52-45c9-b594-f34451238bb4"
      },
      "source": [
        "print(acidentes.isnull().sum()/len(acidentes))"
      ],
      "execution_count": 58,
      "outputs": [
        {
          "output_type": "stream",
          "text": [
            "DATA                         0.000000\n",
            "HORA                         0.000000\n",
            "NATUREZA_ACIDENTE            0.007275\n",
            "SITUACAO                     0.000931\n",
            "BAIRRO                       0.005637\n",
            "ENDERECO                     0.004068\n",
            "NUMERO                       0.544890\n",
            "DETALHE_ENDERECO_ACIDENTE    0.855468\n",
            "COMPLEMENTO                  0.062319\n",
            "BAIRRO_CRUZAMENTO            0.129189\n",
            "NUM_SEMAFORO                 0.915581\n",
            "SENTIDO_VIA                  0.776738\n",
            "TIPO                         0.000983\n",
            "DESCRICAO                    0.220383\n",
            "AUTO                         0.000000\n",
            "MOTO                         0.000000\n",
            "CICLOM                       0.000000\n",
            "CICLISTA                     0.000000\n",
            "PEDESTRE                     0.000000\n",
            "ONIBUS                       0.000000\n",
            "CAMINHAO                     0.000000\n",
            "VIATURA                      0.000000\n",
            "OUTROS                       0.000000\n",
            "VITIMAS                      0.000000\n",
            "VITIMASFATAIS                0.000000\n",
            "ACIDENTE_VERIFICADO          0.749414\n",
            "TEMPO_CLIMA                  0.739553\n",
            "SITUACAO_SEMAFORO            0.742880\n",
            "SINALIZACAO                  0.744415\n",
            "CONDICAO_VIA                 0.740381\n",
            "CONSERVACAO_VIA              0.744087\n",
            "PONTO_CONTROLE               0.764929\n",
            "SITUACAO_PLACA               0.764860\n",
            "VELOCIDADE_MAX_VIA           0.921666\n",
            "MAO_DIRECAO                  0.744518\n",
            "DIVISAO_VIA1                 0.754568\n",
            "DIVISAO_VIA2                 0.976710\n",
            "DIVISAO_VIA3                 0.995501\n",
            "NATUREZA                     1.000000\n",
            "ENDERECO_CRUZAMENTO          0.201058\n",
            "NUMERO_CRUZAMENTO            0.437560\n",
            "REFERENCIA_CRUZAMENTO        0.249655\n",
            "PERIODO_DO_DIA               0.000000\n",
            "dtype: float64\n"
          ],
          "name": "stdout"
        }
      ]
    },
    {
      "cell_type": "code",
      "metadata": {
        "id": "QjzSIo0xriur",
        "colab": {
          "base_uri": "https://localhost:8080/",
          "height": 417
        },
        "outputId": "b4a2ce6a-9ab6-4292-9766-345e9a8ba965"
      },
      "source": [
        "acidentes.head()"
      ],
      "execution_count": 28,
      "outputs": [
        {
          "output_type": "execute_result",
          "data": {
            "text/html": [
              "<div>\n",
              "<style scoped>\n",
              "    .dataframe tbody tr th:only-of-type {\n",
              "        vertical-align: middle;\n",
              "    }\n",
              "\n",
              "    .dataframe tbody tr th {\n",
              "        vertical-align: top;\n",
              "    }\n",
              "\n",
              "    .dataframe thead th {\n",
              "        text-align: right;\n",
              "    }\n",
              "</style>\n",
              "<table border=\"1\" class=\"dataframe\">\n",
              "  <thead>\n",
              "    <tr style=\"text-align: right;\">\n",
              "      <th></th>\n",
              "      <th>DATA</th>\n",
              "      <th>HORA</th>\n",
              "      <th>NATUREZA_ACIDENTE</th>\n",
              "      <th>SITUACAO</th>\n",
              "      <th>BAIRRO</th>\n",
              "      <th>ENDERECO</th>\n",
              "      <th>COMPLEMENTO</th>\n",
              "      <th>BAIRRO_CRUZAMENTO</th>\n",
              "      <th>TIPO</th>\n",
              "      <th>DESCRICAO</th>\n",
              "      <th>AUTO</th>\n",
              "      <th>MOTO</th>\n",
              "      <th>CICLOM</th>\n",
              "      <th>CICLISTA</th>\n",
              "      <th>PEDESTRE</th>\n",
              "      <th>ONIBUS</th>\n",
              "      <th>CAMINHAO</th>\n",
              "      <th>VIATURA</th>\n",
              "      <th>OUTROS</th>\n",
              "      <th>VITIMAS</th>\n",
              "      <th>VITIMASFATAIS</th>\n",
              "      <th>ACIDENTE_VERIFICADO</th>\n",
              "      <th>TEMPO_CLIMA</th>\n",
              "      <th>SITUACAO_SEMAFORO</th>\n",
              "      <th>SINALIZACAO</th>\n",
              "      <th>CONDICAO_VIA</th>\n",
              "      <th>CONSERVACAO_VIA</th>\n",
              "      <th>PONTO_CONTROLE</th>\n",
              "      <th>SITUACAO_PLACA</th>\n",
              "      <th>VELOCIDADE_MAX_VIA</th>\n",
              "      <th>MAO_DIRECAO</th>\n",
              "      <th>DIVISAO_VIA1</th>\n",
              "      <th>PERIODO_DO_DIA</th>\n",
              "      <th>DIA_DA_SEMANA</th>\n",
              "    </tr>\n",
              "  </thead>\n",
              "  <tbody>\n",
              "    <tr>\n",
              "      <th>0</th>\n",
              "      <td>2015-12-03</td>\n",
              "      <td>11</td>\n",
              "      <td>SEM VÍTIMA</td>\n",
              "      <td>CANCELADA</td>\n",
              "      <td>CASA AMARELA</td>\n",
              "      <td>AV NORTE</td>\n",
              "      <td>SENTIDO SUBURBIO   E/F AO SESC</td>\n",
              "      <td>NaN</td>\n",
              "      <td>COLISÃO</td>\n",
              "      <td>COLISÃO SEM VITIMAS</td>\n",
              "      <td>0.0</td>\n",
              "      <td>0.0</td>\n",
              "      <td>0.0</td>\n",
              "      <td>0.0</td>\n",
              "      <td>0.0</td>\n",
              "      <td>0.0</td>\n",
              "      <td>0.0</td>\n",
              "      <td>0.0</td>\n",
              "      <td>0.0</td>\n",
              "      <td>0.0</td>\n",
              "      <td>0.0</td>\n",
              "      <td>NaN</td>\n",
              "      <td>NaN</td>\n",
              "      <td>NaN</td>\n",
              "      <td>NaN</td>\n",
              "      <td>NaN</td>\n",
              "      <td>NaN</td>\n",
              "      <td>NaN</td>\n",
              "      <td>NaN</td>\n",
              "      <td>NaN</td>\n",
              "      <td>NaN</td>\n",
              "      <td>NaN</td>\n",
              "      <td>manha</td>\n",
              "      <td>Quinta</td>\n",
              "    </tr>\n",
              "    <tr>\n",
              "      <th>1</th>\n",
              "      <td>2015-06-01</td>\n",
              "      <td>6</td>\n",
              "      <td>SEM VÍTIMA</td>\n",
              "      <td>FINALIZADA</td>\n",
              "      <td>ENCRUZILHADA</td>\n",
              "      <td>EST DE BELEM</td>\n",
              "      <td>IGREJA BATISTA MEMORIAL DE BELÉM</td>\n",
              "      <td>NaN</td>\n",
              "      <td>COLISÃO</td>\n",
              "      <td>SEM VÍTIMAS.</td>\n",
              "      <td>0.0</td>\n",
              "      <td>2.0</td>\n",
              "      <td>0.0</td>\n",
              "      <td>0.0</td>\n",
              "      <td>0.0</td>\n",
              "      <td>0.0</td>\n",
              "      <td>0.0</td>\n",
              "      <td>0.0</td>\n",
              "      <td>0.0</td>\n",
              "      <td>0.0</td>\n",
              "      <td>0.0</td>\n",
              "      <td>NaN</td>\n",
              "      <td>NaN</td>\n",
              "      <td>NaN</td>\n",
              "      <td>NaN</td>\n",
              "      <td>NaN</td>\n",
              "      <td>NaN</td>\n",
              "      <td>NaN</td>\n",
              "      <td>NaN</td>\n",
              "      <td>NaN</td>\n",
              "      <td>NaN</td>\n",
              "      <td>NaN</td>\n",
              "      <td>manha</td>\n",
              "      <td>Segunda</td>\n",
              "    </tr>\n",
              "    <tr>\n",
              "      <th>2</th>\n",
              "      <td>2015-06-01</td>\n",
              "      <td>8</td>\n",
              "      <td>SEM VÍTIMA</td>\n",
              "      <td>FINALIZADA</td>\n",
              "      <td>BOA VIAGEM</td>\n",
              "      <td>RUA ERNESTO DE PAULA SANTOS</td>\n",
              "      <td>SEMAFORO Nº217</td>\n",
              "      <td>NaN</td>\n",
              "      <td>COLISÃO</td>\n",
              "      <td>SEM VITIMA</td>\n",
              "      <td>1.0</td>\n",
              "      <td>0.0</td>\n",
              "      <td>0.0</td>\n",
              "      <td>0.0</td>\n",
              "      <td>0.0</td>\n",
              "      <td>0.0</td>\n",
              "      <td>1.0</td>\n",
              "      <td>0.0</td>\n",
              "      <td>0.0</td>\n",
              "      <td>0.0</td>\n",
              "      <td>0.0</td>\n",
              "      <td>NaN</td>\n",
              "      <td>NaN</td>\n",
              "      <td>NaN</td>\n",
              "      <td>NaN</td>\n",
              "      <td>NaN</td>\n",
              "      <td>NaN</td>\n",
              "      <td>NaN</td>\n",
              "      <td>NaN</td>\n",
              "      <td>NaN</td>\n",
              "      <td>NaN</td>\n",
              "      <td>NaN</td>\n",
              "      <td>manha</td>\n",
              "      <td>Segunda</td>\n",
              "    </tr>\n",
              "    <tr>\n",
              "      <th>3</th>\n",
              "      <td>2015-06-01</td>\n",
              "      <td>8</td>\n",
              "      <td>SEM VÍTIMA</td>\n",
              "      <td>FINALIZADA</td>\n",
              "      <td>AFOGADOS</td>\n",
              "      <td>AV SUL</td>\n",
              "      <td>AO LADO DA ESTAÇAO LARGO DA PAZ</td>\n",
              "      <td>NaN</td>\n",
              "      <td>COLISÃO</td>\n",
              "      <td>COLISAO S/V</td>\n",
              "      <td>1.0</td>\n",
              "      <td>0.0</td>\n",
              "      <td>0.0</td>\n",
              "      <td>0.0</td>\n",
              "      <td>0.0</td>\n",
              "      <td>0.0</td>\n",
              "      <td>1.0</td>\n",
              "      <td>0.0</td>\n",
              "      <td>0.0</td>\n",
              "      <td>0.0</td>\n",
              "      <td>0.0</td>\n",
              "      <td>NaN</td>\n",
              "      <td>NaN</td>\n",
              "      <td>NaN</td>\n",
              "      <td>NaN</td>\n",
              "      <td>NaN</td>\n",
              "      <td>NaN</td>\n",
              "      <td>NaN</td>\n",
              "      <td>NaN</td>\n",
              "      <td>NaN</td>\n",
              "      <td>NaN</td>\n",
              "      <td>NaN</td>\n",
              "      <td>manha</td>\n",
              "      <td>Segunda</td>\n",
              "    </tr>\n",
              "    <tr>\n",
              "      <th>4</th>\n",
              "      <td>2015-06-01</td>\n",
              "      <td>8</td>\n",
              "      <td>SEM VÍTIMA</td>\n",
              "      <td>CANCELADA</td>\n",
              "      <td>MADALENA</td>\n",
              "      <td>RUA BENFICA</td>\n",
              "      <td>EM  FRENTE AO CLUBE INTERNACIONAL</td>\n",
              "      <td>NaN</td>\n",
              "      <td>COLISÃO</td>\n",
              "      <td>GM RIBEIRO JA NO LOCAL VT 05</td>\n",
              "      <td>2.0</td>\n",
              "      <td>0.0</td>\n",
              "      <td>0.0</td>\n",
              "      <td>0.0</td>\n",
              "      <td>0.0</td>\n",
              "      <td>0.0</td>\n",
              "      <td>0.0</td>\n",
              "      <td>0.0</td>\n",
              "      <td>0.0</td>\n",
              "      <td>0.0</td>\n",
              "      <td>0.0</td>\n",
              "      <td>NaN</td>\n",
              "      <td>NaN</td>\n",
              "      <td>NaN</td>\n",
              "      <td>NaN</td>\n",
              "      <td>NaN</td>\n",
              "      <td>NaN</td>\n",
              "      <td>NaN</td>\n",
              "      <td>NaN</td>\n",
              "      <td>NaN</td>\n",
              "      <td>NaN</td>\n",
              "      <td>NaN</td>\n",
              "      <td>manha</td>\n",
              "      <td>Segunda</td>\n",
              "    </tr>\n",
              "  </tbody>\n",
              "</table>\n",
              "</div>"
            ],
            "text/plain": [
              "        DATA  HORA NATUREZA_ACIDENTE  ... DIVISAO_VIA1 PERIODO_DO_DIA DIA_DA_SEMANA\n",
              "0 2015-12-03    11        SEM VÍTIMA  ...          NaN          manha        Quinta\n",
              "1 2015-06-01     6        SEM VÍTIMA  ...          NaN          manha       Segunda\n",
              "2 2015-06-01     8        SEM VÍTIMA  ...          NaN          manha       Segunda\n",
              "3 2015-06-01     8        SEM VÍTIMA  ...          NaN          manha       Segunda\n",
              "4 2015-06-01     8        SEM VÍTIMA  ...          NaN          manha       Segunda\n",
              "\n",
              "[5 rows x 34 columns]"
            ]
          },
          "metadata": {
            "tags": []
          },
          "execution_count": 28
        }
      ]
    },
    {
      "cell_type": "code",
      "metadata": {
        "colab": {
          "base_uri": "https://localhost:8080/"
        },
        "id": "L3luohk9dz0r",
        "outputId": "9967f7ed-1c02-4118-ccc4-7f8c6e28b242"
      },
      "source": [
        "acidentes['TIPO'].unique()"
      ],
      "execution_count": 29,
      "outputs": [
        {
          "output_type": "execute_result",
          "data": {
            "text/plain": [
              "['COLISÃO', 'CHOQUE', 'ATROPELAMENTO ANIMAL', 'QUEDA DE ÁRVORE', 'ATROPELAMENTO', ..., 'CHOQUE VEÍCULO PARADO', 'ABALROAMENTO TRANSVERSAL', 'COLISÃO FRONTAL', 'CHOQUE OBJETO FIXO', 'SUBURBIO']\n",
              "Length: 24\n",
              "Categories (23, object): ['COLISÃO', 'CHOQUE', 'ATROPELAMENTO ANIMAL', 'QUEDA DE ÁRVORE', ...,\n",
              "                          'ABALROAMENTO TRANSVERSAL', 'COLISÃO FRONTAL', 'CHOQUE OBJETO FIXO', 'SUBURBIO']"
            ]
          },
          "metadata": {
            "tags": []
          },
          "execution_count": 29
        }
      ]
    },
    {
      "cell_type": "code",
      "metadata": {
        "id": "2WbAxRhXeONm",
        "colab": {
          "base_uri": "https://localhost:8080/"
        },
        "outputId": "1dd2d918-1aee-4f92-d753-f48bef739d95"
      },
      "source": [
        "acidentes['DESCRICAO'].unique()"
      ],
      "execution_count": 30,
      "outputs": [
        {
          "output_type": "execute_result",
          "data": {
            "text/plain": [
              "['COLISÃO SEM VITIMAS', 'SEM VÍTIMAS.', 'SEM VITIMA', 'COLISAO S/V', 'GM RIBEIRO JA NO LOCAL VT 05', ..., 'COM VITIMA AGUARDANDO SAMU / CONDUTOR DO AUTO..., 'COLISÃO 2 AUTOS - SEGUIDA DE CAPOTAMENTO - C/..., 'COM VITIMAS / BOMBEIROS NO LOCAL', 'COLISÃO AUTO X MOTO / VT 14 NO LOCAL', 'COLISÃO CARRO X MOTO / CARRO SE EVADIU DO LOC...]\n",
              "Length: 11610\n",
              "Categories (11609, object): ['COLISÃO SEM VITIMAS', 'SEM VÍTIMAS.', 'SEM VITIMA', 'COLISAO S/V', ...,\n",
              "                             'COLISÃO 2 AUTOS - SEGUIDA DE CAPOTAMENTO - C/..., 'COM VITIMAS / BOMBEIROS NO LOCAL',\n",
              "                             'COLISÃO AUTO X MOTO / VT 14 NO LOCAL', 'COLISÃO CARRO X MOTO / CARRO SE EVADIU DO LOC...]"
            ]
          },
          "metadata": {
            "tags": []
          },
          "execution_count": 30
        }
      ]
    },
    {
      "cell_type": "code",
      "metadata": {
        "id": "fya5QV6vxqBY",
        "colab": {
          "base_uri": "https://localhost:8080/"
        },
        "outputId": "0b18d902-fede-408f-83b3-fc0eb37b0ca8"
      },
      "source": [
        "print(acidentes.isnull().sum()/len(acidentes))"
      ],
      "execution_count": 33,
      "outputs": [
        {
          "output_type": "stream",
          "text": [
            "DATA                   0.000000\n",
            "HORA                   0.000000\n",
            "NATUREZA_ACIDENTE      0.007275\n",
            "SITUACAO               0.000931\n",
            "BAIRRO                 0.005637\n",
            "ENDERECO               0.004068\n",
            "COMPLEMENTO            0.062319\n",
            "BAIRRO_CRUZAMENTO      0.129189\n",
            "TIPO                   0.000983\n",
            "DESCRICAO              0.220383\n",
            "AUTO                   0.000000\n",
            "MOTO                   0.000000\n",
            "CICLOM                 0.000000\n",
            "CICLISTA               0.000000\n",
            "PEDESTRE               0.000000\n",
            "ONIBUS                 0.000000\n",
            "CAMINHAO               0.000000\n",
            "VIATURA                0.000000\n",
            "OUTROS                 0.000000\n",
            "VITIMAS                0.000000\n",
            "VITIMASFATAIS          0.000000\n",
            "ACIDENTE_VERIFICADO    0.749414\n",
            "TEMPO_CLIMA            0.739553\n",
            "SITUACAO_SEMAFORO      0.742880\n",
            "SINALIZACAO            0.744415\n",
            "CONDICAO_VIA           0.740381\n",
            "CONSERVACAO_VIA        0.744087\n",
            "PONTO_CONTROLE         0.764929\n",
            "SITUACAO_PLACA         0.764860\n",
            "VELOCIDADE_MAX_VIA     0.921666\n",
            "MAO_DIRECAO            0.744518\n",
            "DIVISAO_VIA1           0.754568\n",
            "PERIODO_DO_DIA         0.000000\n",
            "DIA_DA_SEMANA          0.000000\n",
            "dtype: float64\n"
          ],
          "name": "stdout"
        }
      ]
    },
    {
      "cell_type": "code",
      "metadata": {
        "id": "bhfFd42UycvB"
      },
      "source": [
        "comercios = pd.read_csv(\"/content/drive/MyDrive/ciencia-de-dados/dataset preprocessado/comercios_2015_2021_trimestre.csv\",delimiter = ';')"
      ],
      "execution_count": 34,
      "outputs": []
    },
    {
      "cell_type": "code",
      "metadata": {
        "colab": {
          "base_uri": "https://localhost:8080/",
          "height": 484
        },
        "id": "Pmc5-5GXzv0g",
        "outputId": "82eb39fe-9d44-4777-bdaa-4ff1da305e6c"
      },
      "source": [
        "comercios.head() "
      ],
      "execution_count": 59,
      "outputs": [
        {
          "output_type": "execute_result",
          "data": {
            "text/html": [
              "<div>\n",
              "<style scoped>\n",
              "    .dataframe tbody tr th:only-of-type {\n",
              "        vertical-align: middle;\n",
              "    }\n",
              "\n",
              "    .dataframe tbody tr th {\n",
              "        vertical-align: top;\n",
              "    }\n",
              "\n",
              "    .dataframe thead th {\n",
              "        text-align: right;\n",
              "    }\n",
              "</style>\n",
              "<table border=\"1\" class=\"dataframe\">\n",
              "  <thead>\n",
              "    <tr style=\"text-align: right;\">\n",
              "      <th></th>\n",
              "      <th>ANO</th>\n",
              "      <th>TRIMESTRE</th>\n",
              "      <th>RAZAO_SOCIAL</th>\n",
              "      <th>NOME_FANTASIA</th>\n",
              "      <th>CNPJ</th>\n",
              "      <th>PORTE</th>\n",
              "      <th>DATA_INICIO_OPERACAO</th>\n",
              "      <th>SITUACAO</th>\n",
              "      <th>ATIVIDADE</th>\n",
              "      <th>CEP</th>\n",
              "      <th>UF</th>\n",
              "      <th>LOCALIDADE</th>\n",
              "      <th>BAIRRO</th>\n",
              "      <th>LOGRADOURO</th>\n",
              "      <th>DATA_GERACAO_CERTIFICADO</th>\n",
              "      <th>DATA_VALIDADE_CERTIFICADO</th>\n",
              "      <th>CODIGO_CERTIFICADO</th>\n",
              "      <th>CODIGO_DESCRICAO_CNAE</th>\n",
              "      <th>NATUREZA_JURIDICA</th>\n",
              "    </tr>\n",
              "  </thead>\n",
              "  <tbody>\n",
              "    <tr>\n",
              "      <th>0</th>\n",
              "      <td>2021</td>\n",
              "      <td>1</td>\n",
              "      <td>MELLO, RIBEIRO &amp; MELLO LTDA</td>\n",
              "      <td>China in Box Rosarinho</td>\n",
              "      <td>00.874.830/0001-48</td>\n",
              "      <td>EMPRESA DE PEQUENO PORTE</td>\n",
              "      <td>25/10/1995</td>\n",
              "      <td>Em Operação</td>\n",
              "      <td>Restaurante, Cafeteria, Bar e Similares</td>\n",
              "      <td>52041-305</td>\n",
              "      <td>PE</td>\n",
              "      <td>Recife</td>\n",
              "      <td>Rosarinho</td>\n",
              "      <td>Amaro Coutinho</td>\n",
              "      <td>23/03/2020 09:27</td>\n",
              "      <td>23/03/2022 09:27</td>\n",
              "      <td>00.874.830/0001-48</td>\n",
              "      <td>5611-2/03 - LANCHONETES, CASAS DE CHÁ, DE SUCO...</td>\n",
              "      <td>Sociedade Empresária Limitada</td>\n",
              "    </tr>\n",
              "    <tr>\n",
              "      <th>1</th>\n",
              "      <td>2021</td>\n",
              "      <td>1</td>\n",
              "      <td>M DAS DORES DE SOUZA CHURRASCARIA</td>\n",
              "      <td>Restaurante e Churrascaria da Dodora</td>\n",
              "      <td>01.219.705/0001-67</td>\n",
              "      <td>MICROEMPRESA</td>\n",
              "      <td>28/05/1996</td>\n",
              "      <td>Em Operação</td>\n",
              "      <td>Restaurante, Cafeteria, Bar e Similares</td>\n",
              "      <td>55690-000</td>\n",
              "      <td>PE</td>\n",
              "      <td>Barra de Guabiraba</td>\n",
              "      <td>-</td>\n",
              "      <td>Av. Eneias Texeira de Carvalho n 101</td>\n",
              "      <td>01/04/2019 10:44</td>\n",
              "      <td>01/04/2021 10:44</td>\n",
              "      <td>01.219.705/0001-67</td>\n",
              "      <td>5611-2/02 - BARES E OUTROS ESTABELECIMENTOS ES...</td>\n",
              "      <td>Empresário Individual</td>\n",
              "    </tr>\n",
              "    <tr>\n",
              "      <th>2</th>\n",
              "      <td>2021</td>\n",
              "      <td>1</td>\n",
              "      <td>POUSADA DO AMPARO - EIRELI</td>\n",
              "      <td>POUSADA DO AMPARO</td>\n",
              "      <td>01.790.381/0001-12</td>\n",
              "      <td>MICROEMPRESA</td>\n",
              "      <td>06/04/1997</td>\n",
              "      <td>Em Operação</td>\n",
              "      <td>Restaurante, Cafeteria, Bar e Similares</td>\n",
              "      <td>53025-080</td>\n",
              "      <td>PE</td>\n",
              "      <td>Olinda</td>\n",
              "      <td>Amparo</td>\n",
              "      <td>do Amparo</td>\n",
              "      <td>11/06/2020 08:17</td>\n",
              "      <td>11/06/2022 08:17</td>\n",
              "      <td>01.790.381/0001-12</td>\n",
              "      <td>5611-2/01 - RESTAURANTES E SIMILARES</td>\n",
              "      <td>Empresa Individual de Responsabilidade Limitad...</td>\n",
              "    </tr>\n",
              "    <tr>\n",
              "      <th>3</th>\n",
              "      <td>2021</td>\n",
              "      <td>1</td>\n",
              "      <td>NEZ BISTRO COMERCIO DE BEBIDAS E RESTAURANTE E...</td>\n",
              "      <td>NEZ BISTRO</td>\n",
              "      <td>02.217.561/0001-72</td>\n",
              "      <td>MICROEMPRESA</td>\n",
              "      <td>30/10/1997</td>\n",
              "      <td>Em Operação</td>\n",
              "      <td>Restaurante, Cafeteria, Bar e Similares</td>\n",
              "      <td>52061-420</td>\n",
              "      <td>PE</td>\n",
              "      <td>Recife</td>\n",
              "      <td>Casa Forte</td>\n",
              "      <td>de Casa Forte</td>\n",
              "      <td>16/07/2020 12:44</td>\n",
              "      <td>16/07/2022 12:44</td>\n",
              "      <td>02.217.561/0001-72</td>\n",
              "      <td>5611-2/01 - RESTAURANTES E SIMILARES</td>\n",
              "      <td>Empresa Individual de Responsabilidade Limitad...</td>\n",
              "    </tr>\n",
              "    <tr>\n",
              "      <th>4</th>\n",
              "      <td>2021</td>\n",
              "      <td>1</td>\n",
              "      <td>ATLANTICA HOTELS INTERNATIONAL BRASIL LTDA</td>\n",
              "      <td>RESTAURANTE NABUCO</td>\n",
              "      <td>02.223.966/0036-43</td>\n",
              "      <td>DEMAIS</td>\n",
              "      <td>03/10/2003</td>\n",
              "      <td>Em Operação</td>\n",
              "      <td>Restaurante, Cafeteria, Bar e Similares</td>\n",
              "      <td>51111-000</td>\n",
              "      <td>PE</td>\n",
              "      <td>Recife</td>\n",
              "      <td>Boa Viagem</td>\n",
              "      <td>Boa Viagem</td>\n",
              "      <td>19/12/2019 07:58</td>\n",
              "      <td>19/12/2021 07:58</td>\n",
              "      <td>02.223.966/0036-43</td>\n",
              "      <td>5611-2/01 - RESTAURANTES E SIMILARES</td>\n",
              "      <td>Sociedade Empresária Limitada</td>\n",
              "    </tr>\n",
              "  </tbody>\n",
              "</table>\n",
              "</div>"
            ],
            "text/plain": [
              "    ANO  ...                                  NATUREZA_JURIDICA\n",
              "0  2021  ...                      Sociedade Empresária Limitada\n",
              "1  2021  ...                              Empresário Individual\n",
              "2  2021  ...  Empresa Individual de Responsabilidade Limitad...\n",
              "3  2021  ...  Empresa Individual de Responsabilidade Limitad...\n",
              "4  2021  ...                      Sociedade Empresária Limitada\n",
              "\n",
              "[5 rows x 19 columns]"
            ]
          },
          "metadata": {
            "tags": []
          },
          "execution_count": 59
        }
      ]
    },
    {
      "cell_type": "code",
      "metadata": {
        "colab": {
          "base_uri": "https://localhost:8080/"
        },
        "id": "U3RM5zghzxk6",
        "outputId": "f4555b14-e8d6-49a7-94f7-0ad4960b4f0e"
      },
      "source": [
        "comercios.dtypes"
      ],
      "execution_count": 60,
      "outputs": [
        {
          "output_type": "execute_result",
          "data": {
            "text/plain": [
              "ANO                           int64\n",
              "TRIMESTRE                     int64\n",
              "RAZAO_SOCIAL                 object\n",
              "NOME_FANTASIA                object\n",
              "CNPJ                         object\n",
              "PORTE                        object\n",
              "DATA_INICIO_OPERACAO         object\n",
              "SITUACAO                     object\n",
              "ATIVIDADE                    object\n",
              "CEP                          object\n",
              "UF                           object\n",
              "LOCALIDADE                   object\n",
              "BAIRRO                       object\n",
              "LOGRADOURO                   object\n",
              "DATA_GERACAO_CERTIFICADO     object\n",
              "DATA_VALIDADE_CERTIFICADO    object\n",
              "CODIGO_CERTIFICADO           object\n",
              "CODIGO_DESCRICAO_CNAE        object\n",
              "NATUREZA_JURIDICA            object\n",
              "dtype: object"
            ]
          },
          "metadata": {
            "tags": []
          },
          "execution_count": 60
        }
      ]
    },
    {
      "cell_type": "code",
      "metadata": {
        "colab": {
          "base_uri": "https://localhost:8080/",
          "height": 434
        },
        "id": "avmc01jT2o4X",
        "outputId": "4b04adc0-2bd3-44d7-8b52-51c169ddfccc"
      },
      "source": [
        "excluidos = comercios[['ANO','TRIMESTRE','RAZAO_SOCIAL','NOME_FANTASIA','CNPJ','PORTE','SITUACAO','UF','DATA_GERACAO_CERTIFICADO','DATA_VALIDADE_CERTIFICADO','CODIGO_CERTIFICADO',\t'CODIGO_DESCRICAO_CNAE',\t'NATUREZA_JURIDICA']]\n",
        "excluidos.head()"
      ],
      "execution_count": 61,
      "outputs": [
        {
          "output_type": "execute_result",
          "data": {
            "text/html": [
              "<div>\n",
              "<style scoped>\n",
              "    .dataframe tbody tr th:only-of-type {\n",
              "        vertical-align: middle;\n",
              "    }\n",
              "\n",
              "    .dataframe tbody tr th {\n",
              "        vertical-align: top;\n",
              "    }\n",
              "\n",
              "    .dataframe thead th {\n",
              "        text-align: right;\n",
              "    }\n",
              "</style>\n",
              "<table border=\"1\" class=\"dataframe\">\n",
              "  <thead>\n",
              "    <tr style=\"text-align: right;\">\n",
              "      <th></th>\n",
              "      <th>ANO</th>\n",
              "      <th>TRIMESTRE</th>\n",
              "      <th>RAZAO_SOCIAL</th>\n",
              "      <th>NOME_FANTASIA</th>\n",
              "      <th>CNPJ</th>\n",
              "      <th>PORTE</th>\n",
              "      <th>SITUACAO</th>\n",
              "      <th>UF</th>\n",
              "      <th>DATA_GERACAO_CERTIFICADO</th>\n",
              "      <th>DATA_VALIDADE_CERTIFICADO</th>\n",
              "      <th>CODIGO_CERTIFICADO</th>\n",
              "      <th>CODIGO_DESCRICAO_CNAE</th>\n",
              "      <th>NATUREZA_JURIDICA</th>\n",
              "    </tr>\n",
              "  </thead>\n",
              "  <tbody>\n",
              "    <tr>\n",
              "      <th>0</th>\n",
              "      <td>2021</td>\n",
              "      <td>1</td>\n",
              "      <td>MELLO, RIBEIRO &amp; MELLO LTDA</td>\n",
              "      <td>China in Box Rosarinho</td>\n",
              "      <td>00.874.830/0001-48</td>\n",
              "      <td>EMPRESA DE PEQUENO PORTE</td>\n",
              "      <td>Em Operação</td>\n",
              "      <td>PE</td>\n",
              "      <td>23/03/2020 09:27</td>\n",
              "      <td>23/03/2022 09:27</td>\n",
              "      <td>00.874.830/0001-48</td>\n",
              "      <td>5611-2/03 - LANCHONETES, CASAS DE CHÁ, DE SUCO...</td>\n",
              "      <td>Sociedade Empresária Limitada</td>\n",
              "    </tr>\n",
              "    <tr>\n",
              "      <th>1</th>\n",
              "      <td>2021</td>\n",
              "      <td>1</td>\n",
              "      <td>M DAS DORES DE SOUZA CHURRASCARIA</td>\n",
              "      <td>Restaurante e Churrascaria da Dodora</td>\n",
              "      <td>01.219.705/0001-67</td>\n",
              "      <td>MICROEMPRESA</td>\n",
              "      <td>Em Operação</td>\n",
              "      <td>PE</td>\n",
              "      <td>01/04/2019 10:44</td>\n",
              "      <td>01/04/2021 10:44</td>\n",
              "      <td>01.219.705/0001-67</td>\n",
              "      <td>5611-2/02 - BARES E OUTROS ESTABELECIMENTOS ES...</td>\n",
              "      <td>Empresário Individual</td>\n",
              "    </tr>\n",
              "    <tr>\n",
              "      <th>2</th>\n",
              "      <td>2021</td>\n",
              "      <td>1</td>\n",
              "      <td>POUSADA DO AMPARO - EIRELI</td>\n",
              "      <td>POUSADA DO AMPARO</td>\n",
              "      <td>01.790.381/0001-12</td>\n",
              "      <td>MICROEMPRESA</td>\n",
              "      <td>Em Operação</td>\n",
              "      <td>PE</td>\n",
              "      <td>11/06/2020 08:17</td>\n",
              "      <td>11/06/2022 08:17</td>\n",
              "      <td>01.790.381/0001-12</td>\n",
              "      <td>5611-2/01 - RESTAURANTES E SIMILARES</td>\n",
              "      <td>Empresa Individual de Responsabilidade Limitad...</td>\n",
              "    </tr>\n",
              "    <tr>\n",
              "      <th>3</th>\n",
              "      <td>2021</td>\n",
              "      <td>1</td>\n",
              "      <td>NEZ BISTRO COMERCIO DE BEBIDAS E RESTAURANTE E...</td>\n",
              "      <td>NEZ BISTRO</td>\n",
              "      <td>02.217.561/0001-72</td>\n",
              "      <td>MICROEMPRESA</td>\n",
              "      <td>Em Operação</td>\n",
              "      <td>PE</td>\n",
              "      <td>16/07/2020 12:44</td>\n",
              "      <td>16/07/2022 12:44</td>\n",
              "      <td>02.217.561/0001-72</td>\n",
              "      <td>5611-2/01 - RESTAURANTES E SIMILARES</td>\n",
              "      <td>Empresa Individual de Responsabilidade Limitad...</td>\n",
              "    </tr>\n",
              "    <tr>\n",
              "      <th>4</th>\n",
              "      <td>2021</td>\n",
              "      <td>1</td>\n",
              "      <td>ATLANTICA HOTELS INTERNATIONAL BRASIL LTDA</td>\n",
              "      <td>RESTAURANTE NABUCO</td>\n",
              "      <td>02.223.966/0036-43</td>\n",
              "      <td>DEMAIS</td>\n",
              "      <td>Em Operação</td>\n",
              "      <td>PE</td>\n",
              "      <td>19/12/2019 07:58</td>\n",
              "      <td>19/12/2021 07:58</td>\n",
              "      <td>02.223.966/0036-43</td>\n",
              "      <td>5611-2/01 - RESTAURANTES E SIMILARES</td>\n",
              "      <td>Sociedade Empresária Limitada</td>\n",
              "    </tr>\n",
              "  </tbody>\n",
              "</table>\n",
              "</div>"
            ],
            "text/plain": [
              "    ANO  ...                                  NATUREZA_JURIDICA\n",
              "0  2021  ...                      Sociedade Empresária Limitada\n",
              "1  2021  ...                              Empresário Individual\n",
              "2  2021  ...  Empresa Individual de Responsabilidade Limitad...\n",
              "3  2021  ...  Empresa Individual de Responsabilidade Limitad...\n",
              "4  2021  ...                      Sociedade Empresária Limitada\n",
              "\n",
              "[5 rows x 13 columns]"
            ]
          },
          "metadata": {
            "tags": []
          },
          "execution_count": 61
        }
      ]
    },
    {
      "cell_type": "code",
      "metadata": {
        "id": "yvl5vxIi5px9"
      },
      "source": [
        "comercios = comercios.drop(['ANO','TRIMESTRE','RAZAO_SOCIAL','NOME_FANTASIA','CNPJ','PORTE','SITUACAO','UF','DATA_GERACAO_CERTIFICADO','DATA_VALIDADE_CERTIFICADO','CODIGO_CERTIFICADO',\t'CODIGO_DESCRICAO_CNAE',\t'NATUREZA_JURIDICA'], axis=1)"
      ],
      "execution_count": 62,
      "outputs": []
    },
    {
      "cell_type": "code",
      "metadata": {
        "colab": {
          "base_uri": "https://localhost:8080/",
          "height": 197
        },
        "id": "aSCfoWou5z8a",
        "outputId": "d562fdbb-1c25-4153-8943-c3417da5c340"
      },
      "source": [
        "comercios.head()"
      ],
      "execution_count": 63,
      "outputs": [
        {
          "output_type": "execute_result",
          "data": {
            "text/html": [
              "<div>\n",
              "<style scoped>\n",
              "    .dataframe tbody tr th:only-of-type {\n",
              "        vertical-align: middle;\n",
              "    }\n",
              "\n",
              "    .dataframe tbody tr th {\n",
              "        vertical-align: top;\n",
              "    }\n",
              "\n",
              "    .dataframe thead th {\n",
              "        text-align: right;\n",
              "    }\n",
              "</style>\n",
              "<table border=\"1\" class=\"dataframe\">\n",
              "  <thead>\n",
              "    <tr style=\"text-align: right;\">\n",
              "      <th></th>\n",
              "      <th>DATA_INICIO_OPERACAO</th>\n",
              "      <th>ATIVIDADE</th>\n",
              "      <th>CEP</th>\n",
              "      <th>LOCALIDADE</th>\n",
              "      <th>BAIRRO</th>\n",
              "      <th>LOGRADOURO</th>\n",
              "    </tr>\n",
              "  </thead>\n",
              "  <tbody>\n",
              "    <tr>\n",
              "      <th>0</th>\n",
              "      <td>25/10/1995</td>\n",
              "      <td>Restaurante, Cafeteria, Bar e Similares</td>\n",
              "      <td>52041-305</td>\n",
              "      <td>Recife</td>\n",
              "      <td>Rosarinho</td>\n",
              "      <td>Amaro Coutinho</td>\n",
              "    </tr>\n",
              "    <tr>\n",
              "      <th>1</th>\n",
              "      <td>28/05/1996</td>\n",
              "      <td>Restaurante, Cafeteria, Bar e Similares</td>\n",
              "      <td>55690-000</td>\n",
              "      <td>Barra de Guabiraba</td>\n",
              "      <td>-</td>\n",
              "      <td>Av. Eneias Texeira de Carvalho n 101</td>\n",
              "    </tr>\n",
              "    <tr>\n",
              "      <th>2</th>\n",
              "      <td>06/04/1997</td>\n",
              "      <td>Restaurante, Cafeteria, Bar e Similares</td>\n",
              "      <td>53025-080</td>\n",
              "      <td>Olinda</td>\n",
              "      <td>Amparo</td>\n",
              "      <td>do Amparo</td>\n",
              "    </tr>\n",
              "    <tr>\n",
              "      <th>3</th>\n",
              "      <td>30/10/1997</td>\n",
              "      <td>Restaurante, Cafeteria, Bar e Similares</td>\n",
              "      <td>52061-420</td>\n",
              "      <td>Recife</td>\n",
              "      <td>Casa Forte</td>\n",
              "      <td>de Casa Forte</td>\n",
              "    </tr>\n",
              "    <tr>\n",
              "      <th>4</th>\n",
              "      <td>03/10/2003</td>\n",
              "      <td>Restaurante, Cafeteria, Bar e Similares</td>\n",
              "      <td>51111-000</td>\n",
              "      <td>Recife</td>\n",
              "      <td>Boa Viagem</td>\n",
              "      <td>Boa Viagem</td>\n",
              "    </tr>\n",
              "  </tbody>\n",
              "</table>\n",
              "</div>"
            ],
            "text/plain": [
              "  DATA_INICIO_OPERACAO  ...                            LOGRADOURO\n",
              "0           25/10/1995  ...                        Amaro Coutinho\n",
              "1           28/05/1996  ...  Av. Eneias Texeira de Carvalho n 101\n",
              "2           06/04/1997  ...                             do Amparo\n",
              "3           30/10/1997  ...                         de Casa Forte\n",
              "4           03/10/2003  ...                            Boa Viagem\n",
              "\n",
              "[5 rows x 6 columns]"
            ]
          },
          "metadata": {
            "tags": []
          },
          "execution_count": 63
        }
      ]
    },
    {
      "cell_type": "code",
      "metadata": {
        "id": "euce5Daz6C-f"
      },
      "source": [
        "comercios['DATA_INICIO_OPERACAO'] = pd.to_datetime(comercios['DATA_INICIO_OPERACAO'], format='%Y-%m-%d', errors='ignore')\n",
        "comercios = comercios.astype({'ATIVIDADE':'category',\t'CEP':'category',\t'LOCALIDADE':'category',\t'BAIRRO':'category', 'LOGRADOURO':'category'})"
      ],
      "execution_count": 64,
      "outputs": []
    },
    {
      "cell_type": "code",
      "metadata": {
        "colab": {
          "base_uri": "https://localhost:8080/"
        },
        "id": "i2eq4VvApFQZ",
        "outputId": "6867a8c5-6b88-4151-8be6-90b506e4af75"
      },
      "source": [
        "print(comercios.isnull().sum()/len(comercios))"
      ],
      "execution_count": 65,
      "outputs": [
        {
          "output_type": "stream",
          "text": [
            "DATA_INICIO_OPERACAO    0.117073\n",
            "ATIVIDADE               0.000000\n",
            "CEP                     0.000000\n",
            "LOCALIDADE              0.000000\n",
            "BAIRRO                  0.000000\n",
            "LOGRADOURO              0.000000\n",
            "dtype: float64\n"
          ],
          "name": "stdout"
        }
      ]
    },
    {
      "cell_type": "code",
      "metadata": {
        "id": "kfgxjWpTpW6g"
      },
      "source": [
        "comercios.dropna(subset = [\"DATA_INICIO_OPERACAO\"], inplace=True)"
      ],
      "execution_count": 66,
      "outputs": []
    },
    {
      "cell_type": "code",
      "metadata": {
        "colab": {
          "base_uri": "https://localhost:8080/"
        },
        "id": "SaafYG_JpdoE",
        "outputId": "5a224416-e533-4b7f-b28e-175c16b9d298"
      },
      "source": [
        "print(comercios.isnull().sum()/len(comercios))"
      ],
      "execution_count": 67,
      "outputs": [
        {
          "output_type": "stream",
          "text": [
            "DATA_INICIO_OPERACAO    0.0\n",
            "ATIVIDADE               0.0\n",
            "CEP                     0.0\n",
            "LOCALIDADE              0.0\n",
            "BAIRRO                  0.0\n",
            "LOGRADOURO              0.0\n",
            "dtype: float64\n"
          ],
          "name": "stdout"
        }
      ]
    },
    {
      "cell_type": "markdown",
      "metadata": {
        "id": "Aq0RXt5c7C3K"
      },
      "source": [
        "**Equipamento velocidade vias**"
      ]
    },
    {
      "cell_type": "code",
      "metadata": {
        "id": "m9ZWNocLz3Po"
      },
      "source": [
        "equipamento_velocidade_vias = pd.read_csv(\"/content/drive/MyDrive/ciencia-de-dados/dataset preprocessado/equipamento_velocidade_vias_2016_2021.csv\",delimiter = ';')"
      ],
      "execution_count": 68,
      "outputs": []
    },
    {
      "cell_type": "code",
      "metadata": {
        "colab": {
          "base_uri": "https://localhost:8080/",
          "height": 197
        },
        "id": "HNp5AL-MMmPg",
        "outputId": "b693fc77-a0c6-43dd-f7a8-3d1db87038f5"
      },
      "source": [
        "equipamento_velocidade_vias.head()"
      ],
      "execution_count": 69,
      "outputs": [
        {
          "output_type": "execute_result",
          "data": {
            "text/html": [
              "<div>\n",
              "<style scoped>\n",
              "    .dataframe tbody tr th:only-of-type {\n",
              "        vertical-align: middle;\n",
              "    }\n",
              "\n",
              "    .dataframe tbody tr th {\n",
              "        vertical-align: top;\n",
              "    }\n",
              "\n",
              "    .dataframe thead th {\n",
              "        text-align: right;\n",
              "    }\n",
              "</style>\n",
              "<table border=\"1\" class=\"dataframe\">\n",
              "  <thead>\n",
              "    <tr style=\"text-align: right;\">\n",
              "      <th></th>\n",
              "      <th>ANO</th>\n",
              "      <th>EQUIPAMENTO</th>\n",
              "      <th>TIPO</th>\n",
              "      <th>LOGRADOURO</th>\n",
              "      <th>VELOCIDADE_VIA</th>\n",
              "      <th>LATITUDE</th>\n",
              "      <th>LONGITUDE</th>\n",
              "    </tr>\n",
              "  </thead>\n",
              "  <tbody>\n",
              "    <tr>\n",
              "      <th>0</th>\n",
              "      <td>2016</td>\n",
              "      <td>5941</td>\n",
              "      <td>Lombada</td>\n",
              "      <td>AV. MAL. MASCARENHAS DE MORAES, EM FRENTE AERO...</td>\n",
              "      <td>60 km/h</td>\n",
              "      <td>-8.130970</td>\n",
              "      <td>-34.916161</td>\n",
              "    </tr>\n",
              "    <tr>\n",
              "      <th>1</th>\n",
              "      <td>2016</td>\n",
              "      <td>5942</td>\n",
              "      <td>Lombada</td>\n",
              "      <td>AV. MAL. MASCARENHAS DE MORAES, EM FRENTE AERO...</td>\n",
              "      <td>60 km/h</td>\n",
              "      <td>-8.130647</td>\n",
              "      <td>-34.915886</td>\n",
              "    </tr>\n",
              "    <tr>\n",
              "      <th>2</th>\n",
              "      <td>2016</td>\n",
              "      <td>5943</td>\n",
              "      <td>Lombada</td>\n",
              "      <td>AV. BOA VIAGEM - TERCEIRO JARDIM</td>\n",
              "      <td>60 km/h</td>\n",
              "      <td>-8.107843</td>\n",
              "      <td>-34.888161</td>\n",
              "    </tr>\n",
              "    <tr>\n",
              "      <th>3</th>\n",
              "      <td>2016</td>\n",
              "      <td>5944</td>\n",
              "      <td>Lombada</td>\n",
              "      <td>DEFRONTE A PCA. GOV. PAULO GUERRA, CABANGA - S...</td>\n",
              "      <td>60 km/h</td>\n",
              "      <td>-8.080121</td>\n",
              "      <td>-34.892187</td>\n",
              "    </tr>\n",
              "    <tr>\n",
              "      <th>4</th>\n",
              "      <td>2016</td>\n",
              "      <td>5945</td>\n",
              "      <td>Lombada</td>\n",
              "      <td>APOS PONTE AGAMENON MAGALHAES, CABANGA - SENT....</td>\n",
              "      <td>60 km/h</td>\n",
              "      <td>-8.080820</td>\n",
              "      <td>-34.891159</td>\n",
              "    </tr>\n",
              "  </tbody>\n",
              "</table>\n",
              "</div>"
            ],
            "text/plain": [
              "    ANO EQUIPAMENTO     TIPO  ... VELOCIDADE_VIA  LATITUDE  LONGITUDE\n",
              "0  2016        5941  Lombada  ...        60 km/h -8.130970 -34.916161\n",
              "1  2016        5942  Lombada  ...        60 km/h -8.130647 -34.915886\n",
              "2  2016        5943  Lombada  ...        60 km/h -8.107843 -34.888161\n",
              "3  2016        5944  Lombada  ...        60 km/h -8.080121 -34.892187\n",
              "4  2016        5945  Lombada  ...        60 km/h -8.080820 -34.891159\n",
              "\n",
              "[5 rows x 7 columns]"
            ]
          },
          "metadata": {
            "tags": []
          },
          "execution_count": 69
        }
      ]
    },
    {
      "cell_type": "code",
      "metadata": {
        "colab": {
          "base_uri": "https://localhost:8080/",
          "height": 197
        },
        "id": "ZjWalSsv7rb_",
        "outputId": "d339e0d0-d0ba-4dc6-abb8-be5cd9363e45"
      },
      "source": [
        "excluidos = equipamento_velocidade_vias[['TIPO']]\n",
        "excluidos.head()"
      ],
      "execution_count": 70,
      "outputs": [
        {
          "output_type": "execute_result",
          "data": {
            "text/html": [
              "<div>\n",
              "<style scoped>\n",
              "    .dataframe tbody tr th:only-of-type {\n",
              "        vertical-align: middle;\n",
              "    }\n",
              "\n",
              "    .dataframe tbody tr th {\n",
              "        vertical-align: top;\n",
              "    }\n",
              "\n",
              "    .dataframe thead th {\n",
              "        text-align: right;\n",
              "    }\n",
              "</style>\n",
              "<table border=\"1\" class=\"dataframe\">\n",
              "  <thead>\n",
              "    <tr style=\"text-align: right;\">\n",
              "      <th></th>\n",
              "      <th>TIPO</th>\n",
              "    </tr>\n",
              "  </thead>\n",
              "  <tbody>\n",
              "    <tr>\n",
              "      <th>0</th>\n",
              "      <td>Lombada</td>\n",
              "    </tr>\n",
              "    <tr>\n",
              "      <th>1</th>\n",
              "      <td>Lombada</td>\n",
              "    </tr>\n",
              "    <tr>\n",
              "      <th>2</th>\n",
              "      <td>Lombada</td>\n",
              "    </tr>\n",
              "    <tr>\n",
              "      <th>3</th>\n",
              "      <td>Lombada</td>\n",
              "    </tr>\n",
              "    <tr>\n",
              "      <th>4</th>\n",
              "      <td>Lombada</td>\n",
              "    </tr>\n",
              "  </tbody>\n",
              "</table>\n",
              "</div>"
            ],
            "text/plain": [
              "      TIPO\n",
              "0  Lombada\n",
              "1  Lombada\n",
              "2  Lombada\n",
              "3  Lombada\n",
              "4  Lombada"
            ]
          },
          "metadata": {
            "tags": []
          },
          "execution_count": 70
        }
      ]
    },
    {
      "cell_type": "code",
      "metadata": {
        "id": "KW92O5Nc8GMz"
      },
      "source": [
        "equipamento_velocidade_vias = equipamento_velocidade_vias.drop(['TIPO'], axis=1)"
      ],
      "execution_count": 71,
      "outputs": []
    },
    {
      "cell_type": "code",
      "metadata": {
        "id": "zW_cl1VQ8FY9"
      },
      "source": [
        "equipamento_velocidade_vias = equipamento_velocidade_vias.astype({'ANO':'category',\t'EQUIPAMENTO':'category',\t'LOGRADOURO':'category',\t'VELOCIDADE_VIA':'category', 'LATITUDE':'category','LONGITUDE':'category'})"
      ],
      "execution_count": 72,
      "outputs": []
    },
    {
      "cell_type": "code",
      "metadata": {
        "colab": {
          "base_uri": "https://localhost:8080/"
        },
        "id": "NDhhE00b87cR",
        "outputId": "c3ed7d31-c3ca-4ca1-aac8-88c5127edecf"
      },
      "source": [
        "equipamento_velocidade_vias.dtypes"
      ],
      "execution_count": 73,
      "outputs": [
        {
          "output_type": "execute_result",
          "data": {
            "text/plain": [
              "ANO               category\n",
              "EQUIPAMENTO       category\n",
              "LOGRADOURO        category\n",
              "VELOCIDADE_VIA    category\n",
              "LATITUDE          category\n",
              "LONGITUDE         category\n",
              "dtype: object"
            ]
          },
          "metadata": {
            "tags": []
          },
          "execution_count": 73
        }
      ]
    },
    {
      "cell_type": "code",
      "metadata": {
        "colab": {
          "base_uri": "https://localhost:8080/"
        },
        "id": "PJMOmzN7pyCX",
        "outputId": "a3187cde-5c91-43f4-a6c9-9f294885a712"
      },
      "source": [
        "print(equipamento_velocidade_vias.isnull().sum()/len(equipamento_velocidade_vias))"
      ],
      "execution_count": 74,
      "outputs": [
        {
          "output_type": "stream",
          "text": [
            "ANO               0.0\n",
            "EQUIPAMENTO       0.0\n",
            "LOGRADOURO        0.0\n",
            "VELOCIDADE_VIA    0.0\n",
            "LATITUDE          0.0\n",
            "LONGITUDE         0.0\n",
            "dtype: float64\n"
          ],
          "name": "stdout"
        }
      ]
    },
    {
      "cell_type": "markdown",
      "metadata": {
        "id": "4IesQ4vK9VU7"
      },
      "source": [
        "**dataset de multas**"
      ]
    },
    {
      "cell_type": "code",
      "metadata": {
        "colab": {
          "base_uri": "https://localhost:8080/"
        },
        "id": "4Jq_ir7tMoFT",
        "outputId": "4fcf5a7e-22d2-4b2f-851e-cf192cd7426e"
      },
      "source": [
        "multas = pd.read_csv(\"/content/drive/MyDrive/ciencia-de-dados/dataset preprocessado/relatorio_multas_2015_2021.csv\",delimiter = ';')"
      ],
      "execution_count": 75,
      "outputs": [
        {
          "output_type": "stream",
          "text": [
            "/usr/local/lib/python3.7/dist-packages/IPython/core/interactiveshell.py:2718: DtypeWarning: Columns (4) have mixed types.Specify dtype option on import or set low_memory=False.\n",
            "  interactivity=interactivity, compiler=compiler, result=result)\n"
          ],
          "name": "stderr"
        }
      ]
    },
    {
      "cell_type": "code",
      "metadata": {
        "colab": {
          "base_uri": "https://localhost:8080/",
          "height": 281
        },
        "id": "qX4j0KpNMzCn",
        "outputId": "269859ba-ab23-4ec3-a886-3bb9f27d4b57"
      },
      "source": [
        "multas.head()"
      ],
      "execution_count": 76,
      "outputs": [
        {
          "output_type": "execute_result",
          "data": {
            "text/html": [
              "<div>\n",
              "<style scoped>\n",
              "    .dataframe tbody tr th:only-of-type {\n",
              "        vertical-align: middle;\n",
              "    }\n",
              "\n",
              "    .dataframe tbody tr th {\n",
              "        vertical-align: top;\n",
              "    }\n",
              "\n",
              "    .dataframe thead th {\n",
              "        text-align: right;\n",
              "    }\n",
              "</style>\n",
              "<table border=\"1\" class=\"dataframe\">\n",
              "  <thead>\n",
              "    <tr style=\"text-align: right;\">\n",
              "      <th></th>\n",
              "      <th>DATAINFRACAO</th>\n",
              "      <th>HORAINFRACAO</th>\n",
              "      <th>DATAIMPLANTACAO</th>\n",
              "      <th>AGENTEEQUIPAMENTO</th>\n",
              "      <th>INFRACAO</th>\n",
              "      <th>DESCRICAOINFRACAO</th>\n",
              "      <th>AMPAROLEGAL</th>\n",
              "      <th>LOCALCOMETIMENTO</th>\n",
              "    </tr>\n",
              "  </thead>\n",
              "  <tbody>\n",
              "    <tr>\n",
              "      <th>0</th>\n",
              "      <td>2015/10/26 00:00:00.000</td>\n",
              "      <td>08:42:00</td>\n",
              "      <td>2015/11/03 00:00:00.000</td>\n",
              "      <td>Código 6 - AUTOS NO TALÃO MANUAL</td>\n",
              "      <td>5541</td>\n",
              "      <td>Estacionar o veículo em desacordo com as condi...</td>\n",
              "      <td>Art. 181, Inc. XVII</td>\n",
              "      <td>AV PORTUGAL EM FRENTE AO IMOVEL N 89</td>\n",
              "    </tr>\n",
              "    <tr>\n",
              "      <th>1</th>\n",
              "      <td>2015/10/26 00:00:00.000</td>\n",
              "      <td>08:45:00</td>\n",
              "      <td>2015/11/03 00:00:00.000</td>\n",
              "      <td>Código 6 - AUTOS NO TALÃO MANUAL</td>\n",
              "      <td>5541</td>\n",
              "      <td>Estacionar o veículo em desacordo com as condi...</td>\n",
              "      <td>Art. 181, Inc. XVII</td>\n",
              "      <td>AV PORTUGAL EM FRENTE AO IMOVEL N 89</td>\n",
              "    </tr>\n",
              "    <tr>\n",
              "      <th>2</th>\n",
              "      <td>2015/10/26 00:00:00.000</td>\n",
              "      <td>08:48:00</td>\n",
              "      <td>2015/11/03 00:00:00.000</td>\n",
              "      <td>Código 6 - AUTOS NO TALÃO MANUAL</td>\n",
              "      <td>5525</td>\n",
              "      <td>Estacionar o veículo na contramão de direção.</td>\n",
              "      <td>Art. 181, Inc. XV</td>\n",
              "      <td>AV PORTUGAL EM FRENTE AO IMOVEL N 101</td>\n",
              "    </tr>\n",
              "    <tr>\n",
              "      <th>3</th>\n",
              "      <td>2015/10/26 00:00:00.000</td>\n",
              "      <td>08:55:00</td>\n",
              "      <td>2015/11/03 00:00:00.000</td>\n",
              "      <td>Código 6 - AUTOS NO TALÃO MANUAL</td>\n",
              "      <td>5550</td>\n",
              "      <td>Estacionar o veículo em locais e horários proi...</td>\n",
              "      <td>Art. 181, Inc. XVIII</td>\n",
              "      <td>RUA PACIFICO DOS SANTOS EM FRENTE AO IMOVEL N 124</td>\n",
              "    </tr>\n",
              "    <tr>\n",
              "      <th>4</th>\n",
              "      <td>2015/10/26 00:00:00.000</td>\n",
              "      <td>09:10:00</td>\n",
              "      <td>2015/11/03 00:00:00.000</td>\n",
              "      <td>Código 6 - AUTOS NO TALÃO MANUAL</td>\n",
              "      <td>7366</td>\n",
              "      <td>Dirigir o veículo utilizando-se de telefone ce...</td>\n",
              "      <td>Art. 252, Inc. VI</td>\n",
              "      <td>AV GOV AGAMENON MAGALHAES EM FRENTE AO SEMAFOR...</td>\n",
              "    </tr>\n",
              "  </tbody>\n",
              "</table>\n",
              "</div>"
            ],
            "text/plain": [
              "              DATAINFRACAO  ...                                   LOCALCOMETIMENTO\n",
              "0  2015/10/26 00:00:00.000  ...               AV PORTUGAL EM FRENTE AO IMOVEL N 89\n",
              "1  2015/10/26 00:00:00.000  ...               AV PORTUGAL EM FRENTE AO IMOVEL N 89\n",
              "2  2015/10/26 00:00:00.000  ...              AV PORTUGAL EM FRENTE AO IMOVEL N 101\n",
              "3  2015/10/26 00:00:00.000  ...  RUA PACIFICO DOS SANTOS EM FRENTE AO IMOVEL N 124\n",
              "4  2015/10/26 00:00:00.000  ...  AV GOV AGAMENON MAGALHAES EM FRENTE AO SEMAFOR...\n",
              "\n",
              "[5 rows x 8 columns]"
            ]
          },
          "metadata": {
            "tags": []
          },
          "execution_count": 76
        }
      ]
    },
    {
      "cell_type": "code",
      "metadata": {
        "colab": {
          "base_uri": "https://localhost:8080/",
          "height": 197
        },
        "id": "kv_OmRAF9ZAa",
        "outputId": "e4468c05-0739-48ed-c423-58fae6771c8a"
      },
      "source": [
        "excluidos = multas[['DATAIMPLANTACAO', 'AGENTEEQUIPAMENTO',\t'AMPAROLEGAL']]\n",
        "excluidos.head()"
      ],
      "execution_count": 77,
      "outputs": [
        {
          "output_type": "execute_result",
          "data": {
            "text/html": [
              "<div>\n",
              "<style scoped>\n",
              "    .dataframe tbody tr th:only-of-type {\n",
              "        vertical-align: middle;\n",
              "    }\n",
              "\n",
              "    .dataframe tbody tr th {\n",
              "        vertical-align: top;\n",
              "    }\n",
              "\n",
              "    .dataframe thead th {\n",
              "        text-align: right;\n",
              "    }\n",
              "</style>\n",
              "<table border=\"1\" class=\"dataframe\">\n",
              "  <thead>\n",
              "    <tr style=\"text-align: right;\">\n",
              "      <th></th>\n",
              "      <th>DATAIMPLANTACAO</th>\n",
              "      <th>AGENTEEQUIPAMENTO</th>\n",
              "      <th>AMPAROLEGAL</th>\n",
              "    </tr>\n",
              "  </thead>\n",
              "  <tbody>\n",
              "    <tr>\n",
              "      <th>0</th>\n",
              "      <td>2015/11/03 00:00:00.000</td>\n",
              "      <td>Código 6 - AUTOS NO TALÃO MANUAL</td>\n",
              "      <td>Art. 181, Inc. XVII</td>\n",
              "    </tr>\n",
              "    <tr>\n",
              "      <th>1</th>\n",
              "      <td>2015/11/03 00:00:00.000</td>\n",
              "      <td>Código 6 - AUTOS NO TALÃO MANUAL</td>\n",
              "      <td>Art. 181, Inc. XVII</td>\n",
              "    </tr>\n",
              "    <tr>\n",
              "      <th>2</th>\n",
              "      <td>2015/11/03 00:00:00.000</td>\n",
              "      <td>Código 6 - AUTOS NO TALÃO MANUAL</td>\n",
              "      <td>Art. 181, Inc. XV</td>\n",
              "    </tr>\n",
              "    <tr>\n",
              "      <th>3</th>\n",
              "      <td>2015/11/03 00:00:00.000</td>\n",
              "      <td>Código 6 - AUTOS NO TALÃO MANUAL</td>\n",
              "      <td>Art. 181, Inc. XVIII</td>\n",
              "    </tr>\n",
              "    <tr>\n",
              "      <th>4</th>\n",
              "      <td>2015/11/03 00:00:00.000</td>\n",
              "      <td>Código 6 - AUTOS NO TALÃO MANUAL</td>\n",
              "      <td>Art. 252, Inc. VI</td>\n",
              "    </tr>\n",
              "  </tbody>\n",
              "</table>\n",
              "</div>"
            ],
            "text/plain": [
              "           DATAIMPLANTACAO  ...           AMPAROLEGAL\n",
              "0  2015/11/03 00:00:00.000  ...   Art. 181, Inc. XVII\n",
              "1  2015/11/03 00:00:00.000  ...   Art. 181, Inc. XVII\n",
              "2  2015/11/03 00:00:00.000  ...     Art. 181, Inc. XV\n",
              "3  2015/11/03 00:00:00.000  ...  Art. 181, Inc. XVIII\n",
              "4  2015/11/03 00:00:00.000  ...     Art. 252, Inc. VI\n",
              "\n",
              "[5 rows x 3 columns]"
            ]
          },
          "metadata": {
            "tags": []
          },
          "execution_count": 77
        }
      ]
    },
    {
      "cell_type": "code",
      "metadata": {
        "id": "VtdU_0RD9yEQ"
      },
      "source": [
        "multas = multas.drop(['DATAIMPLANTACAO', 'AGENTEEQUIPAMENTO',\t'AMPAROLEGAL'], axis=1)"
      ],
      "execution_count": 78,
      "outputs": []
    },
    {
      "cell_type": "code",
      "metadata": {
        "id": "gHUZrD309-KZ"
      },
      "source": [
        "multas['DATAINFRACAO'] = pd.to_datetime(multas['DATAINFRACAO'], format='%Y-%m-%d', errors='ignore')\n",
        "multas['HORAINFRACAO'] = pd.to_datetime(multas['HORAINFRACAO'], format='%H:%M:%S', errors = 'ignore')\n",
        "multas = multas.astype({'INFRACAO':'category', 'DESCRICAOINFRACAO':'category','LOCALCOMETIMENTO':'category'})"
      ],
      "execution_count": 79,
      "outputs": []
    },
    {
      "cell_type": "code",
      "metadata": {
        "id": "LTTCZ4lP_jCD",
        "colab": {
          "base_uri": "https://localhost:8080/"
        },
        "outputId": "331ccaa5-5e01-4ac9-8f73-9815e8548082"
      },
      "source": [
        "multas.dtypes"
      ],
      "execution_count": 80,
      "outputs": [
        {
          "output_type": "execute_result",
          "data": {
            "text/plain": [
              "DATAINFRACAO         datetime64[ns]\n",
              "HORAINFRACAO                 object\n",
              "INFRACAO                   category\n",
              "DESCRICAOINFRACAO          category\n",
              "LOCALCOMETIMENTO           category\n",
              "dtype: object"
            ]
          },
          "metadata": {
            "tags": []
          },
          "execution_count": 80
        }
      ]
    },
    {
      "cell_type": "code",
      "metadata": {
        "colab": {
          "base_uri": "https://localhost:8080/"
        },
        "id": "aoc1GODjp482",
        "outputId": "1c5f6cdc-cf05-489c-d0f7-74b5b912d20a"
      },
      "source": [
        "print(multas.isnull().sum()/len(multas))"
      ],
      "execution_count": 81,
      "outputs": [
        {
          "output_type": "stream",
          "text": [
            "DATAINFRACAO         1.157818e-06\n",
            "HORAINFRACAO         0.000000e+00\n",
            "INFRACAO             5.789091e-07\n",
            "DESCRICAOINFRACAO    1.157818e-06\n",
            "LOCALCOMETIMENTO     4.052363e-06\n",
            "dtype: float64\n"
          ],
          "name": "stdout"
        }
      ]
    },
    {
      "cell_type": "code",
      "metadata": {
        "id": "iuf_u98MqIxV"
      },
      "source": [
        "multas.dropna(subset = [\"DATAINFRACAO\",\"HORAINFRACAO\",\"INFRACAO\",\"DESCRICAOINFRACAO\",\"LOCALCOMETIMENTO\"], inplace=True)"
      ],
      "execution_count": 83,
      "outputs": []
    },
    {
      "cell_type": "code",
      "metadata": {
        "colab": {
          "base_uri": "https://localhost:8080/"
        },
        "id": "uqb0-ulDqYw0",
        "outputId": "faf33499-09c3-4e8a-dfef-d570f2a827a0"
      },
      "source": [
        "print(multas.isnull().sum()/len(multas))"
      ],
      "execution_count": 84,
      "outputs": [
        {
          "output_type": "stream",
          "text": [
            "DATAINFRACAO         0.0\n",
            "HORAINFRACAO         0.0\n",
            "INFRACAO             0.0\n",
            "DESCRICAOINFRACAO    0.0\n",
            "LOCALCOMETIMENTO     0.0\n",
            "dtype: float64\n"
          ],
          "name": "stdout"
        }
      ]
    },
    {
      "cell_type": "markdown",
      "metadata": {
        "id": "ZT2p4su_hygw"
      },
      "source": [
        "**velocidades**"
      ]
    },
    {
      "cell_type": "code",
      "metadata": {
        "colab": {
          "base_uri": "https://localhost:8080/"
        },
        "id": "GozuL0uWMzzn",
        "outputId": "126c93fa-537a-409b-f471-92140e93900b"
      },
      "source": [
        "velocidades = pd.read_csv(\"/content/drive/MyDrive/ciencia-de-dados/dataset preprocessado/velocidade_vias_media_15minutos_2016_2021.csv\",delimiter = ';')"
      ],
      "execution_count": 85,
      "outputs": [
        {
          "output_type": "stream",
          "text": [
            "/usr/local/lib/python3.7/dist-packages/IPython/core/interactiveshell.py:2718: DtypeWarning: Columns (2) have mixed types.Specify dtype option on import or set low_memory=False.\n",
            "  interactivity=interactivity, compiler=compiler, result=result)\n"
          ],
          "name": "stderr"
        }
      ]
    },
    {
      "cell_type": "code",
      "metadata": {
        "colab": {
          "base_uri": "https://localhost:8080/",
          "height": 301
        },
        "id": "cdKIwBhgNFTK",
        "outputId": "252bcca7-6a65-4e31-c405-6c6ca02c185c"
      },
      "source": [
        "velocidades.head()"
      ],
      "execution_count": 86,
      "outputs": [
        {
          "output_type": "execute_result",
          "data": {
            "text/html": [
              "<div>\n",
              "<style scoped>\n",
              "    .dataframe tbody tr th:only-of-type {\n",
              "        vertical-align: middle;\n",
              "    }\n",
              "\n",
              "    .dataframe tbody tr th {\n",
              "        vertical-align: top;\n",
              "    }\n",
              "\n",
              "    .dataframe thead th {\n",
              "        text-align: right;\n",
              "    }\n",
              "</style>\n",
              "<table border=\"1\" class=\"dataframe\">\n",
              "  <thead>\n",
              "    <tr style=\"text-align: right;\">\n",
              "      <th></th>\n",
              "      <th>ANO</th>\n",
              "      <th>MES</th>\n",
              "      <th>EQUIPAMENTO</th>\n",
              "      <th>FAIXA</th>\n",
              "      <th>DATA</th>\n",
              "      <th>HORA</th>\n",
              "      <th>MINUTOS_INTERVALO</th>\n",
              "      <th>QTD_0A10KM</th>\n",
              "      <th>QTD_11A20KM</th>\n",
              "      <th>QTD_21A30KM</th>\n",
              "      <th>QTD_31A40KM</th>\n",
              "      <th>QTD_41A50KM</th>\n",
              "      <th>QTD_51A60KM</th>\n",
              "      <th>QTD_61A70KM</th>\n",
              "      <th>QTD_71A80KM</th>\n",
              "      <th>QTD_81A90KM</th>\n",
              "      <th>QTD_91A100KM</th>\n",
              "      <th>QTD_ACIMADE100KM</th>\n",
              "    </tr>\n",
              "  </thead>\n",
              "  <tbody>\n",
              "    <tr>\n",
              "      <th>0</th>\n",
              "      <td>2016</td>\n",
              "      <td>1.0</td>\n",
              "      <td>FS002REC</td>\n",
              "      <td>1.0</td>\n",
              "      <td>2016-01-01</td>\n",
              "      <td>0.0</td>\n",
              "      <td>0-15</td>\n",
              "      <td>0.0</td>\n",
              "      <td>2.0</td>\n",
              "      <td>0.0</td>\n",
              "      <td>0.0</td>\n",
              "      <td>0.0</td>\n",
              "      <td>0.0</td>\n",
              "      <td>0.0</td>\n",
              "      <td>0.0</td>\n",
              "      <td>0.0</td>\n",
              "      <td>0.0</td>\n",
              "      <td>0.0</td>\n",
              "    </tr>\n",
              "    <tr>\n",
              "      <th>1</th>\n",
              "      <td>2016</td>\n",
              "      <td>1.0</td>\n",
              "      <td>FS002REC</td>\n",
              "      <td>1.0</td>\n",
              "      <td>2016-01-01</td>\n",
              "      <td>0.0</td>\n",
              "      <td>16-30</td>\n",
              "      <td>0.0</td>\n",
              "      <td>1.0</td>\n",
              "      <td>0.0</td>\n",
              "      <td>0.0</td>\n",
              "      <td>0.0</td>\n",
              "      <td>0.0</td>\n",
              "      <td>0.0</td>\n",
              "      <td>0.0</td>\n",
              "      <td>0.0</td>\n",
              "      <td>0.0</td>\n",
              "      <td>0.0</td>\n",
              "    </tr>\n",
              "    <tr>\n",
              "      <th>2</th>\n",
              "      <td>2016</td>\n",
              "      <td>1.0</td>\n",
              "      <td>FS002REC</td>\n",
              "      <td>1.0</td>\n",
              "      <td>2016-01-01</td>\n",
              "      <td>0.0</td>\n",
              "      <td>31-45</td>\n",
              "      <td>1.0</td>\n",
              "      <td>3.0</td>\n",
              "      <td>1.0</td>\n",
              "      <td>0.0</td>\n",
              "      <td>0.0</td>\n",
              "      <td>0.0</td>\n",
              "      <td>0.0</td>\n",
              "      <td>0.0</td>\n",
              "      <td>0.0</td>\n",
              "      <td>0.0</td>\n",
              "      <td>0.0</td>\n",
              "    </tr>\n",
              "    <tr>\n",
              "      <th>3</th>\n",
              "      <td>2016</td>\n",
              "      <td>1.0</td>\n",
              "      <td>FS002REC</td>\n",
              "      <td>1.0</td>\n",
              "      <td>2016-01-01</td>\n",
              "      <td>0.0</td>\n",
              "      <td>46-59</td>\n",
              "      <td>1.0</td>\n",
              "      <td>1.0</td>\n",
              "      <td>0.0</td>\n",
              "      <td>0.0</td>\n",
              "      <td>0.0</td>\n",
              "      <td>0.0</td>\n",
              "      <td>0.0</td>\n",
              "      <td>0.0</td>\n",
              "      <td>0.0</td>\n",
              "      <td>0.0</td>\n",
              "      <td>0.0</td>\n",
              "    </tr>\n",
              "    <tr>\n",
              "      <th>4</th>\n",
              "      <td>2016</td>\n",
              "      <td>1.0</td>\n",
              "      <td>FS002REC</td>\n",
              "      <td>1.0</td>\n",
              "      <td>2016-01-01</td>\n",
              "      <td>1.0</td>\n",
              "      <td>0-15</td>\n",
              "      <td>0.0</td>\n",
              "      <td>4.0</td>\n",
              "      <td>0.0</td>\n",
              "      <td>0.0</td>\n",
              "      <td>0.0</td>\n",
              "      <td>0.0</td>\n",
              "      <td>0.0</td>\n",
              "      <td>0.0</td>\n",
              "      <td>0.0</td>\n",
              "      <td>0.0</td>\n",
              "      <td>0.0</td>\n",
              "    </tr>\n",
              "  </tbody>\n",
              "</table>\n",
              "</div>"
            ],
            "text/plain": [
              "    ANO  MES EQUIPAMENTO  ...  QTD_81A90KM QTD_91A100KM  QTD_ACIMADE100KM\n",
              "0  2016  1.0    FS002REC  ...          0.0          0.0               0.0\n",
              "1  2016  1.0    FS002REC  ...          0.0          0.0               0.0\n",
              "2  2016  1.0    FS002REC  ...          0.0          0.0               0.0\n",
              "3  2016  1.0    FS002REC  ...          0.0          0.0               0.0\n",
              "4  2016  1.0    FS002REC  ...          0.0          0.0               0.0\n",
              "\n",
              "[5 rows x 18 columns]"
            ]
          },
          "metadata": {
            "tags": []
          },
          "execution_count": 86
        }
      ]
    },
    {
      "cell_type": "code",
      "metadata": {
        "id": "Zn0OjVqekYKy"
      },
      "source": [
        "velocidades['DATA'] = pd.to_datetime(velocidades['DATA'], format='%Y-%m-%d', errors='ignore')\n",
        "\n",
        "velocidades = velocidades.astype({'ANO':'category',\t'MES':'category',\t'EQUIPAMENTO':'category',\t'FAIXA':'category',\t'HORA':'category',\t'MINUTOS_INTERVALO':'category',\t'QTD_0A10KM':'float',\t'QTD_11A20KM':'float',\t'QTD_21A30KM':'float',\t'QTD_31A40KM':'float',\t'QTD_41A50KM':'float',\t'QTD_51A60KM':'float',\t'QTD_61A70KM':'float',\t'QTD_71A80KM':'float',\t'QTD_81A90KM':'float',\t'QTD_91A100KM':'float',\t'QTD_ACIMADE100KM':'float'})"
      ],
      "execution_count": 87,
      "outputs": []
    },
    {
      "cell_type": "code",
      "metadata": {
        "colab": {
          "base_uri": "https://localhost:8080/"
        },
        "id": "ZlJ5nJmyqbRc",
        "outputId": "7fc6e92a-a538-4497-adaf-231a4549b4b0"
      },
      "source": [
        "print(velocidades.isnull().sum()/len(velocidades))"
      ],
      "execution_count": 88,
      "outputs": [
        {
          "output_type": "stream",
          "text": [
            "ANO                  0.000000e+00\n",
            "MES                  1.806735e-07\n",
            "EQUIPAMENTO          1.264715e-06\n",
            "FAIXA                1.445388e-06\n",
            "DATA                 1.626062e-06\n",
            "HORA                 1.987409e-06\n",
            "MINUTOS_INTERVALO    2.168082e-06\n",
            "QTD_0A10KM           2.710103e-06\n",
            "QTD_11A20KM          3.252123e-06\n",
            "QTD_21A30KM          3.432797e-06\n",
            "QTD_31A40KM          3.794144e-06\n",
            "QTD_41A50KM          4.155491e-06\n",
            "QTD_51A60KM          4.155491e-06\n",
            "QTD_61A70KM          4.336164e-06\n",
            "QTD_71A80KM          4.336164e-06\n",
            "QTD_81A90KM          4.697511e-06\n",
            "QTD_91A100KM         4.697511e-06\n",
            "QTD_ACIMADE100KM     5.058858e-06\n",
            "dtype: float64\n"
          ],
          "name": "stdout"
        }
      ]
    },
    {
      "cell_type": "code",
      "metadata": {
        "id": "WNBrnMWdqleK"
      },
      "source": [
        "velocidades.dropna(subset = [\"ANO\", \"MES\", \"EQUIPAMENTO\", \"FAIXA\", \"DATA\", \"HORA\", \"MINUTOS_INTERVALO\", \"QTD_0A10KM\", \"QTD_11A20KM\", \"QTD_21A30KM\", \"QTD_31A40KM\", \"QTD_41A50KM\", \"QTD_51A60KM\", \"QTD_61A70KM\", \"QTD_71A80KM\", \"QTD_81A90KM\", \"QTD_91A100KM\", \"QTD_ACIMADE100KM\"],inplace=True)"
      ],
      "execution_count": 93,
      "outputs": []
    },
    {
      "cell_type": "code",
      "metadata": {
        "colab": {
          "base_uri": "https://localhost:8080/"
        },
        "id": "bLoHDV2Wqo_2",
        "outputId": "d5bc0e1e-a2c8-4e37-86fe-88e713fd8752"
      },
      "source": [
        "  print(velocidades.isnull().sum()/len(velocidades))"
      ],
      "execution_count": 94,
      "outputs": [
        {
          "output_type": "stream",
          "text": [
            "ANO                  0.0\n",
            "MES                  0.0\n",
            "EQUIPAMENTO          0.0\n",
            "FAIXA                0.0\n",
            "DATA                 0.0\n",
            "HORA                 0.0\n",
            "MINUTOS_INTERVALO    0.0\n",
            "QTD_0A10KM           0.0\n",
            "QTD_11A20KM          0.0\n",
            "QTD_21A30KM          0.0\n",
            "QTD_31A40KM          0.0\n",
            "QTD_41A50KM          0.0\n",
            "QTD_51A60KM          0.0\n",
            "QTD_61A70KM          0.0\n",
            "QTD_71A80KM          0.0\n",
            "QTD_81A90KM          0.0\n",
            "QTD_91A100KM         0.0\n",
            "QTD_ACIMADE100KM     0.0\n",
            "dtype: float64\n"
          ],
          "name": "stdout"
        }
      ]
    },
    {
      "cell_type": "markdown",
      "metadata": {
        "id": "lzyW_yRxUBU_"
      },
      "source": [
        "#**precisa verificar se o codigo do equipamento no dataset acima é igual ao codigo do equipamento do dataset das multas**"
      ]
    },
    {
      "cell_type": "code",
      "metadata": {
        "id": "CF2dFcRBNH83"
      },
      "source": [
        ""
      ],
      "execution_count": null,
      "outputs": []
    }
  ]
}