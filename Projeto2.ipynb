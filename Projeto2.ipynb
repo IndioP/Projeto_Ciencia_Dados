{
  "nbformat": 4,
  "nbformat_minor": 0,
  "metadata": {
    "colab": {
      "name": "Projeto2.ipynb",
      "provenance": [],
      "collapsed_sections": [
        "Qv2e64wXyRVl",
        "xUmiu5Vr4HqA",
        "vzNO8CWn4FfY",
        "fdQL2Z7x4Cm0",
        "q70C2VPj4Axo"
      ],
      "include_colab_link": true
    },
    "kernelspec": {
      "display_name": "Python 3",
      "name": "python3"
    },
    "language_info": {
      "name": "python"
    }
  },
  "cells": [
    {
      "cell_type": "markdown",
      "metadata": {
        "id": "view-in-github",
        "colab_type": "text"
      },
      "source": [
        "<a href=\"https://colab.research.google.com/github/IndioP/Projeto_Ciencia_Dados/blob/main/Projeto2.ipynb\" target=\"_parent\"><img src=\"https://colab.research.google.com/assets/colab-badge.svg\" alt=\"Open In Colab\"/></a>"
      ]
    },
    {
      "cell_type": "code",
      "metadata": {
        "id": "kTn9BlhDdhIV",
        "colab": {
          "base_uri": "https://localhost:8080/"
        },
        "outputId": "4d6515b7-9860-4c0c-ab4d-5254a0a73e80"
      },
      "source": [
        "!pip install pyngrok --quiet\n",
        "!pip install mlflow --quiet\n",
        "!pip install optuna\n",
        "\n",
        "import matplotlib.pyplot as plt\n",
        "from scipy import stats\n",
        "import seaborn as sns\n",
        "import pandas as pd\n",
        "import numpy as np\n",
        "import mlflow"
      ],
      "execution_count": 29,
      "outputs": [
        {
          "output_type": "stream",
          "text": [
            "Requirement already satisfied: optuna in /usr/local/lib/python3.7/dist-packages (2.9.1)\n",
            "Requirement already satisfied: scipy!=1.4.0 in /usr/local/lib/python3.7/dist-packages (from optuna) (1.4.1)\n",
            "Requirement already satisfied: numpy in /usr/local/lib/python3.7/dist-packages (from optuna) (1.19.5)\n",
            "Requirement already satisfied: cmaes>=0.8.2 in /usr/local/lib/python3.7/dist-packages (from optuna) (0.8.2)\n",
            "Requirement already satisfied: packaging>=20.0 in /usr/local/lib/python3.7/dist-packages (from optuna) (21.0)\n",
            "Requirement already satisfied: tqdm in /usr/local/lib/python3.7/dist-packages (from optuna) (4.62.0)\n",
            "Requirement already satisfied: alembic in /usr/local/lib/python3.7/dist-packages (from optuna) (1.4.1)\n",
            "Requirement already satisfied: cliff in /usr/local/lib/python3.7/dist-packages (from optuna) (3.8.0)\n",
            "Requirement already satisfied: sqlalchemy>=1.1.0 in /usr/local/lib/python3.7/dist-packages (from optuna) (1.4.22)\n",
            "Requirement already satisfied: colorlog in /usr/local/lib/python3.7/dist-packages (from optuna) (5.0.1)\n",
            "Requirement already satisfied: PyYAML in /usr/local/lib/python3.7/dist-packages (from optuna) (5.4.1)\n",
            "Requirement already satisfied: pyparsing>=2.0.2 in /usr/local/lib/python3.7/dist-packages (from packaging>=20.0->optuna) (2.4.7)\n",
            "Requirement already satisfied: greenlet!=0.4.17 in /usr/local/lib/python3.7/dist-packages (from sqlalchemy>=1.1.0->optuna) (1.1.1)\n",
            "Requirement already satisfied: importlib-metadata in /usr/local/lib/python3.7/dist-packages (from sqlalchemy>=1.1.0->optuna) (4.6.3)\n",
            "Requirement already satisfied: Mako in /usr/local/lib/python3.7/dist-packages (from alembic->optuna) (1.1.4)\n",
            "Requirement already satisfied: python-dateutil in /usr/local/lib/python3.7/dist-packages (from alembic->optuna) (2.8.2)\n",
            "Requirement already satisfied: python-editor>=0.3 in /usr/local/lib/python3.7/dist-packages (from alembic->optuna) (1.0.4)\n",
            "Requirement already satisfied: pbr!=2.1.0,>=2.0.0 in /usr/local/lib/python3.7/dist-packages (from cliff->optuna) (5.6.0)\n",
            "Requirement already satisfied: stevedore>=2.0.1 in /usr/local/lib/python3.7/dist-packages (from cliff->optuna) (3.3.0)\n",
            "Requirement already satisfied: PrettyTable>=0.7.2 in /usr/local/lib/python3.7/dist-packages (from cliff->optuna) (2.1.0)\n",
            "Requirement already satisfied: cmd2>=1.0.0 in /usr/local/lib/python3.7/dist-packages (from cliff->optuna) (2.1.2)\n",
            "Requirement already satisfied: wcwidth>=0.1.7 in /usr/local/lib/python3.7/dist-packages (from cmd2>=1.0.0->cliff->optuna) (0.2.5)\n",
            "Requirement already satisfied: pyperclip>=1.6 in /usr/local/lib/python3.7/dist-packages (from cmd2>=1.0.0->cliff->optuna) (1.8.2)\n",
            "Requirement already satisfied: typing-extensions in /usr/local/lib/python3.7/dist-packages (from cmd2>=1.0.0->cliff->optuna) (3.7.4.3)\n",
            "Requirement already satisfied: attrs>=16.3.0 in /usr/local/lib/python3.7/dist-packages (from cmd2>=1.0.0->cliff->optuna) (21.2.0)\n",
            "Requirement already satisfied: colorama>=0.3.7 in /usr/local/lib/python3.7/dist-packages (from cmd2>=1.0.0->cliff->optuna) (0.4.4)\n",
            "Requirement already satisfied: zipp>=0.5 in /usr/local/lib/python3.7/dist-packages (from importlib-metadata->sqlalchemy>=1.1.0->optuna) (3.5.0)\n",
            "Requirement already satisfied: MarkupSafe>=0.9.2 in /usr/local/lib/python3.7/dist-packages (from Mako->alembic->optuna) (2.0.1)\n",
            "Requirement already satisfied: six>=1.5 in /usr/local/lib/python3.7/dist-packages (from python-dateutil->alembic->optuna) (1.15.0)\n"
          ],
          "name": "stdout"
        }
      ]
    },
    {
      "cell_type": "code",
      "metadata": {
        "colab": {
          "base_uri": "https://localhost:8080/"
        },
        "id": "RcUFTwZB7LnN",
        "outputId": "64431669-547a-489a-88d5-1c03f74e9f64"
      },
      "source": [
        "from google.colab import drive\n",
        "drive.mount('/content/drive')"
      ],
      "execution_count": 30,
      "outputs": [
        {
          "output_type": "stream",
          "text": [
            "Drive already mounted at /content/drive; to attempt to forcibly remount, call drive.mount(\"/content/drive\", force_remount=True).\n"
          ],
          "name": "stdout"
        }
      ]
    },
    {
      "cell_type": "code",
      "metadata": {
        "id": "ZJU-z0kd7EpK"
      },
      "source": [
        "acidentes = pd.read_csv(\"/content/drive/MyDrive/ciencia-de-dados/dataset preprocessado/acidentes.csv\",delimiter = ';')"
      ],
      "execution_count": 31,
      "outputs": []
    },
    {
      "cell_type": "code",
      "metadata": {
        "id": "autU7r6ueed4"
      },
      "source": [
        "#acidentes=pd.read_csv(\"acidentes.csv\")"
      ],
      "execution_count": 32,
      "outputs": []
    },
    {
      "cell_type": "code",
      "metadata": {
        "colab": {
          "base_uri": "https://localhost:8080/",
          "height": 462
        },
        "id": "eybt3VDMevWU",
        "outputId": "30e51dce-e3ad-417e-f3df-cf089cc4c39f"
      },
      "source": [
        "acidentes.head()"
      ],
      "execution_count": 33,
      "outputs": [
        {
          "output_type": "execute_result",
          "data": {
            "text/html": [
              "<div>\n",
              "<style scoped>\n",
              "    .dataframe tbody tr th:only-of-type {\n",
              "        vertical-align: middle;\n",
              "    }\n",
              "\n",
              "    .dataframe tbody tr th {\n",
              "        vertical-align: top;\n",
              "    }\n",
              "\n",
              "    .dataframe thead th {\n",
              "        text-align: right;\n",
              "    }\n",
              "</style>\n",
              "<table border=\"1\" class=\"dataframe\">\n",
              "  <thead>\n",
              "    <tr style=\"text-align: right;\">\n",
              "      <th></th>\n",
              "      <th>DATA</th>\n",
              "      <th>HORA</th>\n",
              "      <th>NATUREZA_ACIDENTE</th>\n",
              "      <th>SITUACAO</th>\n",
              "      <th>BAIRRO</th>\n",
              "      <th>ENDERECO</th>\n",
              "      <th>COMPLEMENTO</th>\n",
              "      <th>BAIRRO_CRUZAMENTO</th>\n",
              "      <th>TIPO</th>\n",
              "      <th>DESCRICAO</th>\n",
              "      <th>AUTO</th>\n",
              "      <th>MOTO</th>\n",
              "      <th>CICLOM</th>\n",
              "      <th>CICLISTA</th>\n",
              "      <th>PEDESTRE</th>\n",
              "      <th>ONIBUS</th>\n",
              "      <th>CAMINHAO</th>\n",
              "      <th>VIATURA</th>\n",
              "      <th>OUTROS</th>\n",
              "      <th>VITIMAS</th>\n",
              "      <th>VITIMASFATAIS</th>\n",
              "      <th>ACIDENTE_VERIFICADO</th>\n",
              "      <th>TEMPO_CLIMA</th>\n",
              "      <th>SITUACAO_SEMAFORO</th>\n",
              "      <th>SINALIZACAO</th>\n",
              "      <th>CONDICAO_VIA</th>\n",
              "      <th>CONSERVACAO_VIA</th>\n",
              "      <th>PONTO_CONTROLE</th>\n",
              "      <th>SITUACAO_PLACA</th>\n",
              "      <th>VELOCIDADE_MAX_VIA</th>\n",
              "      <th>MAO_DIRECAO</th>\n",
              "      <th>DIVISAO_VIA1</th>\n",
              "      <th>PERIODO_DO_DIA</th>\n",
              "      <th>DIA_DA_SEMANA</th>\n",
              "      <th>ANO</th>\n",
              "      <th>MES</th>\n",
              "      <th>QTD_ACIDENTES</th>\n",
              "    </tr>\n",
              "  </thead>\n",
              "  <tbody>\n",
              "    <tr>\n",
              "      <th>0</th>\n",
              "      <td>2015-12-03</td>\n",
              "      <td>11</td>\n",
              "      <td>SEM VITIMA</td>\n",
              "      <td>CANCELADA</td>\n",
              "      <td>CASA AMARELA</td>\n",
              "      <td>AV NORTE</td>\n",
              "      <td>SENTIDO SUBURBIO   E/F AO SESC</td>\n",
              "      <td>SEM INFORMACAO</td>\n",
              "      <td>COLISAO</td>\n",
              "      <td>COLISAO SEM VITIMAS</td>\n",
              "      <td>0.0</td>\n",
              "      <td>0.0</td>\n",
              "      <td>0.0</td>\n",
              "      <td>0.0</td>\n",
              "      <td>0.0</td>\n",
              "      <td>0.0</td>\n",
              "      <td>0.0</td>\n",
              "      <td>0.0</td>\n",
              "      <td>0.0</td>\n",
              "      <td>0.0</td>\n",
              "      <td>0.0</td>\n",
              "      <td>SEM INFORMACAO</td>\n",
              "      <td>SEM INFORMACAO</td>\n",
              "      <td>SEM INFORMACAO</td>\n",
              "      <td>SEM INFORMACAO</td>\n",
              "      <td>SEM INFORMACAO</td>\n",
              "      <td>SEM INFORMACAO</td>\n",
              "      <td>SEM INFORMACAO</td>\n",
              "      <td>SEM INFORMACAO</td>\n",
              "      <td>SEM INFORMACAO</td>\n",
              "      <td>SEM INFORMACAO</td>\n",
              "      <td>SEM INFORMACAO</td>\n",
              "      <td>MANHA</td>\n",
              "      <td>QUINTA</td>\n",
              "      <td>2015</td>\n",
              "      <td>12</td>\n",
              "      <td>1</td>\n",
              "    </tr>\n",
              "    <tr>\n",
              "      <th>1</th>\n",
              "      <td>2015-06-01</td>\n",
              "      <td>6</td>\n",
              "      <td>SEM VITIMA</td>\n",
              "      <td>FINALIZADA</td>\n",
              "      <td>ENCRUZILHADA</td>\n",
              "      <td>EST DE BELEM</td>\n",
              "      <td>IGREJA BATISTA MEMORIAL DE BELEM</td>\n",
              "      <td>SEM INFORMACAO</td>\n",
              "      <td>COLISAO</td>\n",
              "      <td>SEM VITIMAS</td>\n",
              "      <td>0.0</td>\n",
              "      <td>2.0</td>\n",
              "      <td>0.0</td>\n",
              "      <td>0.0</td>\n",
              "      <td>0.0</td>\n",
              "      <td>0.0</td>\n",
              "      <td>0.0</td>\n",
              "      <td>0.0</td>\n",
              "      <td>0.0</td>\n",
              "      <td>0.0</td>\n",
              "      <td>0.0</td>\n",
              "      <td>SEM INFORMACAO</td>\n",
              "      <td>SEM INFORMACAO</td>\n",
              "      <td>SEM INFORMACAO</td>\n",
              "      <td>SEM INFORMACAO</td>\n",
              "      <td>SEM INFORMACAO</td>\n",
              "      <td>SEM INFORMACAO</td>\n",
              "      <td>SEM INFORMACAO</td>\n",
              "      <td>SEM INFORMACAO</td>\n",
              "      <td>SEM INFORMACAO</td>\n",
              "      <td>SEM INFORMACAO</td>\n",
              "      <td>SEM INFORMACAO</td>\n",
              "      <td>MANHA</td>\n",
              "      <td>SEGUNDA</td>\n",
              "      <td>2015</td>\n",
              "      <td>6</td>\n",
              "      <td>1</td>\n",
              "    </tr>\n",
              "    <tr>\n",
              "      <th>2</th>\n",
              "      <td>2015-06-01</td>\n",
              "      <td>8</td>\n",
              "      <td>SEM VITIMA</td>\n",
              "      <td>FINALIZADA</td>\n",
              "      <td>BOA VIAGEM</td>\n",
              "      <td>RUA ERNESTO DE PAULA SANTOS</td>\n",
              "      <td>SEMAFORO NO217</td>\n",
              "      <td>SEM INFORMACAO</td>\n",
              "      <td>COLISAO</td>\n",
              "      <td>SEM VITIMA</td>\n",
              "      <td>1.0</td>\n",
              "      <td>0.0</td>\n",
              "      <td>0.0</td>\n",
              "      <td>0.0</td>\n",
              "      <td>0.0</td>\n",
              "      <td>0.0</td>\n",
              "      <td>1.0</td>\n",
              "      <td>0.0</td>\n",
              "      <td>0.0</td>\n",
              "      <td>0.0</td>\n",
              "      <td>0.0</td>\n",
              "      <td>SEM INFORMACAO</td>\n",
              "      <td>SEM INFORMACAO</td>\n",
              "      <td>SEM INFORMACAO</td>\n",
              "      <td>SEM INFORMACAO</td>\n",
              "      <td>SEM INFORMACAO</td>\n",
              "      <td>SEM INFORMACAO</td>\n",
              "      <td>SEM INFORMACAO</td>\n",
              "      <td>SEM INFORMACAO</td>\n",
              "      <td>SEM INFORMACAO</td>\n",
              "      <td>SEM INFORMACAO</td>\n",
              "      <td>SEM INFORMACAO</td>\n",
              "      <td>MANHA</td>\n",
              "      <td>SEGUNDA</td>\n",
              "      <td>2015</td>\n",
              "      <td>6</td>\n",
              "      <td>1</td>\n",
              "    </tr>\n",
              "    <tr>\n",
              "      <th>3</th>\n",
              "      <td>2015-06-01</td>\n",
              "      <td>8</td>\n",
              "      <td>SEM VITIMA</td>\n",
              "      <td>FINALIZADA</td>\n",
              "      <td>AFOGADOS</td>\n",
              "      <td>AV SUL</td>\n",
              "      <td>AO LADO DA ESTACAO LARGO DA PAZ</td>\n",
              "      <td>SEM INFORMACAO</td>\n",
              "      <td>COLISAO</td>\n",
              "      <td>COLISAO S/V</td>\n",
              "      <td>1.0</td>\n",
              "      <td>0.0</td>\n",
              "      <td>0.0</td>\n",
              "      <td>0.0</td>\n",
              "      <td>0.0</td>\n",
              "      <td>0.0</td>\n",
              "      <td>1.0</td>\n",
              "      <td>0.0</td>\n",
              "      <td>0.0</td>\n",
              "      <td>0.0</td>\n",
              "      <td>0.0</td>\n",
              "      <td>SEM INFORMACAO</td>\n",
              "      <td>SEM INFORMACAO</td>\n",
              "      <td>SEM INFORMACAO</td>\n",
              "      <td>SEM INFORMACAO</td>\n",
              "      <td>SEM INFORMACAO</td>\n",
              "      <td>SEM INFORMACAO</td>\n",
              "      <td>SEM INFORMACAO</td>\n",
              "      <td>SEM INFORMACAO</td>\n",
              "      <td>SEM INFORMACAO</td>\n",
              "      <td>SEM INFORMACAO</td>\n",
              "      <td>SEM INFORMACAO</td>\n",
              "      <td>MANHA</td>\n",
              "      <td>SEGUNDA</td>\n",
              "      <td>2015</td>\n",
              "      <td>6</td>\n",
              "      <td>1</td>\n",
              "    </tr>\n",
              "    <tr>\n",
              "      <th>4</th>\n",
              "      <td>2015-06-01</td>\n",
              "      <td>8</td>\n",
              "      <td>SEM VITIMA</td>\n",
              "      <td>CANCELADA</td>\n",
              "      <td>MADALENA</td>\n",
              "      <td>RUA BENFICA</td>\n",
              "      <td>EM  FRENTE AO CLUBE INTERNACIONAL</td>\n",
              "      <td>SEM INFORMACAO</td>\n",
              "      <td>COLISAO</td>\n",
              "      <td>GM RIBEIRO JA NO LOCAL VT 05</td>\n",
              "      <td>2.0</td>\n",
              "      <td>0.0</td>\n",
              "      <td>0.0</td>\n",
              "      <td>0.0</td>\n",
              "      <td>0.0</td>\n",
              "      <td>0.0</td>\n",
              "      <td>0.0</td>\n",
              "      <td>0.0</td>\n",
              "      <td>0.0</td>\n",
              "      <td>0.0</td>\n",
              "      <td>0.0</td>\n",
              "      <td>SEM INFORMACAO</td>\n",
              "      <td>SEM INFORMACAO</td>\n",
              "      <td>SEM INFORMACAO</td>\n",
              "      <td>SEM INFORMACAO</td>\n",
              "      <td>SEM INFORMACAO</td>\n",
              "      <td>SEM INFORMACAO</td>\n",
              "      <td>SEM INFORMACAO</td>\n",
              "      <td>SEM INFORMACAO</td>\n",
              "      <td>SEM INFORMACAO</td>\n",
              "      <td>SEM INFORMACAO</td>\n",
              "      <td>SEM INFORMACAO</td>\n",
              "      <td>MANHA</td>\n",
              "      <td>SEGUNDA</td>\n",
              "      <td>2015</td>\n",
              "      <td>6</td>\n",
              "      <td>1</td>\n",
              "    </tr>\n",
              "  </tbody>\n",
              "</table>\n",
              "</div>"
            ],
            "text/plain": [
              "         DATA  HORA NATUREZA_ACIDENTE  ...   ANO MES QTD_ACIDENTES\n",
              "0  2015-12-03    11        SEM VITIMA  ...  2015  12             1\n",
              "1  2015-06-01     6        SEM VITIMA  ...  2015   6             1\n",
              "2  2015-06-01     8        SEM VITIMA  ...  2015   6             1\n",
              "3  2015-06-01     8        SEM VITIMA  ...  2015   6             1\n",
              "4  2015-06-01     8        SEM VITIMA  ...  2015   6             1\n",
              "\n",
              "[5 rows x 37 columns]"
            ]
          },
          "metadata": {
            "tags": []
          },
          "execution_count": 33
        }
      ]
    },
    {
      "cell_type": "code",
      "metadata": {
        "id": "bIdZEHMK1fMG"
      },
      "source": [
        "acidentes['NATUREZA_ACIDENTE'] = acidentes['NATUREZA_ACIDENTE'].replace('VITIMA FATAL', 'COM VITIMA')\n",
        "acidentes['NATUREZA_ACIDENTE'] = acidentes['NATUREZA_ACIDENTE'].replace('SEM INFORMACAO', np.NaN)\n",
        "acidentes['NATUREZA_ACIDENTE'] = acidentes['NATUREZA_ACIDENTE'].replace('ENTRADA E SAIDA', np.NaN)\n",
        "acidentes['NATUREZA_ACIDENTE'] = acidentes['NATUREZA_ACIDENTE'].replace('APOIO', np.NaN)"
      ],
      "execution_count": 34,
      "outputs": []
    },
    {
      "cell_type": "code",
      "metadata": {
        "id": "v3RDMfaehM6B"
      },
      "source": [
        "df = acidentes[['NATUREZA_ACIDENTE','TIPO', 'AUTO', 'MOTO', 'CICLOM', 'CICLISTA','PEDESTRE','ONIBUS','CAMINHAO','VIATURA','TEMPO_CLIMA','SITUACAO_SEMAFORO','SINALIZACAO','CONDICAO_VIA','CONSERVACAO_VIA','PERIODO_DO_DIA']]"
      ],
      "execution_count": 35,
      "outputs": []
    },
    {
      "cell_type": "code",
      "metadata": {
        "colab": {
          "base_uri": "https://localhost:8080/",
          "height": 204
        },
        "id": "fX7-7QbbiG1j",
        "outputId": "72210bf4-a8da-4f7c-967a-818a5433e8f6"
      },
      "source": [
        "df.head()"
      ],
      "execution_count": 36,
      "outputs": [
        {
          "output_type": "execute_result",
          "data": {
            "text/html": [
              "<div>\n",
              "<style scoped>\n",
              "    .dataframe tbody tr th:only-of-type {\n",
              "        vertical-align: middle;\n",
              "    }\n",
              "\n",
              "    .dataframe tbody tr th {\n",
              "        vertical-align: top;\n",
              "    }\n",
              "\n",
              "    .dataframe thead th {\n",
              "        text-align: right;\n",
              "    }\n",
              "</style>\n",
              "<table border=\"1\" class=\"dataframe\">\n",
              "  <thead>\n",
              "    <tr style=\"text-align: right;\">\n",
              "      <th></th>\n",
              "      <th>NATUREZA_ACIDENTE</th>\n",
              "      <th>TIPO</th>\n",
              "      <th>AUTO</th>\n",
              "      <th>MOTO</th>\n",
              "      <th>CICLOM</th>\n",
              "      <th>CICLISTA</th>\n",
              "      <th>PEDESTRE</th>\n",
              "      <th>ONIBUS</th>\n",
              "      <th>CAMINHAO</th>\n",
              "      <th>VIATURA</th>\n",
              "      <th>TEMPO_CLIMA</th>\n",
              "      <th>SITUACAO_SEMAFORO</th>\n",
              "      <th>SINALIZACAO</th>\n",
              "      <th>CONDICAO_VIA</th>\n",
              "      <th>CONSERVACAO_VIA</th>\n",
              "      <th>PERIODO_DO_DIA</th>\n",
              "    </tr>\n",
              "  </thead>\n",
              "  <tbody>\n",
              "    <tr>\n",
              "      <th>0</th>\n",
              "      <td>SEM VITIMA</td>\n",
              "      <td>COLISAO</td>\n",
              "      <td>0.0</td>\n",
              "      <td>0.0</td>\n",
              "      <td>0.0</td>\n",
              "      <td>0.0</td>\n",
              "      <td>0.0</td>\n",
              "      <td>0.0</td>\n",
              "      <td>0.0</td>\n",
              "      <td>0.0</td>\n",
              "      <td>SEM INFORMACAO</td>\n",
              "      <td>SEM INFORMACAO</td>\n",
              "      <td>SEM INFORMACAO</td>\n",
              "      <td>SEM INFORMACAO</td>\n",
              "      <td>SEM INFORMACAO</td>\n",
              "      <td>MANHA</td>\n",
              "    </tr>\n",
              "    <tr>\n",
              "      <th>1</th>\n",
              "      <td>SEM VITIMA</td>\n",
              "      <td>COLISAO</td>\n",
              "      <td>0.0</td>\n",
              "      <td>2.0</td>\n",
              "      <td>0.0</td>\n",
              "      <td>0.0</td>\n",
              "      <td>0.0</td>\n",
              "      <td>0.0</td>\n",
              "      <td>0.0</td>\n",
              "      <td>0.0</td>\n",
              "      <td>SEM INFORMACAO</td>\n",
              "      <td>SEM INFORMACAO</td>\n",
              "      <td>SEM INFORMACAO</td>\n",
              "      <td>SEM INFORMACAO</td>\n",
              "      <td>SEM INFORMACAO</td>\n",
              "      <td>MANHA</td>\n",
              "    </tr>\n",
              "    <tr>\n",
              "      <th>2</th>\n",
              "      <td>SEM VITIMA</td>\n",
              "      <td>COLISAO</td>\n",
              "      <td>1.0</td>\n",
              "      <td>0.0</td>\n",
              "      <td>0.0</td>\n",
              "      <td>0.0</td>\n",
              "      <td>0.0</td>\n",
              "      <td>0.0</td>\n",
              "      <td>1.0</td>\n",
              "      <td>0.0</td>\n",
              "      <td>SEM INFORMACAO</td>\n",
              "      <td>SEM INFORMACAO</td>\n",
              "      <td>SEM INFORMACAO</td>\n",
              "      <td>SEM INFORMACAO</td>\n",
              "      <td>SEM INFORMACAO</td>\n",
              "      <td>MANHA</td>\n",
              "    </tr>\n",
              "    <tr>\n",
              "      <th>3</th>\n",
              "      <td>SEM VITIMA</td>\n",
              "      <td>COLISAO</td>\n",
              "      <td>1.0</td>\n",
              "      <td>0.0</td>\n",
              "      <td>0.0</td>\n",
              "      <td>0.0</td>\n",
              "      <td>0.0</td>\n",
              "      <td>0.0</td>\n",
              "      <td>1.0</td>\n",
              "      <td>0.0</td>\n",
              "      <td>SEM INFORMACAO</td>\n",
              "      <td>SEM INFORMACAO</td>\n",
              "      <td>SEM INFORMACAO</td>\n",
              "      <td>SEM INFORMACAO</td>\n",
              "      <td>SEM INFORMACAO</td>\n",
              "      <td>MANHA</td>\n",
              "    </tr>\n",
              "    <tr>\n",
              "      <th>4</th>\n",
              "      <td>SEM VITIMA</td>\n",
              "      <td>COLISAO</td>\n",
              "      <td>2.0</td>\n",
              "      <td>0.0</td>\n",
              "      <td>0.0</td>\n",
              "      <td>0.0</td>\n",
              "      <td>0.0</td>\n",
              "      <td>0.0</td>\n",
              "      <td>0.0</td>\n",
              "      <td>0.0</td>\n",
              "      <td>SEM INFORMACAO</td>\n",
              "      <td>SEM INFORMACAO</td>\n",
              "      <td>SEM INFORMACAO</td>\n",
              "      <td>SEM INFORMACAO</td>\n",
              "      <td>SEM INFORMACAO</td>\n",
              "      <td>MANHA</td>\n",
              "    </tr>\n",
              "  </tbody>\n",
              "</table>\n",
              "</div>"
            ],
            "text/plain": [
              "  NATUREZA_ACIDENTE     TIPO  ...  CONSERVACAO_VIA  PERIODO_DO_DIA\n",
              "0        SEM VITIMA  COLISAO  ...   SEM INFORMACAO           MANHA\n",
              "1        SEM VITIMA  COLISAO  ...   SEM INFORMACAO           MANHA\n",
              "2        SEM VITIMA  COLISAO  ...   SEM INFORMACAO           MANHA\n",
              "3        SEM VITIMA  COLISAO  ...   SEM INFORMACAO           MANHA\n",
              "4        SEM VITIMA  COLISAO  ...   SEM INFORMACAO           MANHA\n",
              "\n",
              "[5 rows x 16 columns]"
            ]
          },
          "metadata": {
            "tags": []
          },
          "execution_count": 36
        }
      ]
    },
    {
      "cell_type": "code",
      "metadata": {
        "colab": {
          "base_uri": "https://localhost:8080/"
        },
        "id": "-FhsZzt6mYrS",
        "outputId": "a878e8d3-ca8d-4e3c-9574-65f490ae10b7"
      },
      "source": [
        "df['NATUREZA_ACIDENTE'] = df['NATUREZA_ACIDENTE'].replace('SEM INFORMACAO', np.nan)\n",
        "df['TIPO'] = df['TIPO'].replace('SEM INFORMACAO', np.nan)\n",
        "df['TEMPO_CLIMA'] = df['TEMPO_CLIMA'].replace('SEM INFORMACAO', np.nan)\n",
        "df['SINALIZACAO'] = df['SINALIZACAO'].replace('SEM INFORMACAO', np.nan)\n",
        "df['CONDICAO_VIA'] = df['CONDICAO_VIA'].replace('SEM INFORMACAO', np.nan)\n",
        "df['CONSERVACAO_VIA'] = df['CONSERVACAO_VIA'].replace('SEM INFORMACAO', np.nan)\n",
        "#df['SITUACAO_PLACA'] = df['SITUACAO_PLACA'].replace('SEM INFORMACAO', np.nan)\n",
        "#df['VELOCIDADE_MAX_VIA'] = df['VELOCIDADE_MAX_VIA'].replace('SEM INFORMACAO', np.nan)\n",
        "df['PERIODO_DO_DIA'] = df['PERIODO_DO_DIA'].replace('SEM INFORMACAO', np.nan)"
      ],
      "execution_count": 37,
      "outputs": [
        {
          "output_type": "stream",
          "text": [
            "/usr/local/lib/python3.7/dist-packages/ipykernel_launcher.py:1: SettingWithCopyWarning: \n",
            "A value is trying to be set on a copy of a slice from a DataFrame.\n",
            "Try using .loc[row_indexer,col_indexer] = value instead\n",
            "\n",
            "See the caveats in the documentation: https://pandas.pydata.org/pandas-docs/stable/user_guide/indexing.html#returning-a-view-versus-a-copy\n",
            "  \"\"\"Entry point for launching an IPython kernel.\n",
            "/usr/local/lib/python3.7/dist-packages/ipykernel_launcher.py:2: SettingWithCopyWarning: \n",
            "A value is trying to be set on a copy of a slice from a DataFrame.\n",
            "Try using .loc[row_indexer,col_indexer] = value instead\n",
            "\n",
            "See the caveats in the documentation: https://pandas.pydata.org/pandas-docs/stable/user_guide/indexing.html#returning-a-view-versus-a-copy\n",
            "  \n",
            "/usr/local/lib/python3.7/dist-packages/ipykernel_launcher.py:3: SettingWithCopyWarning: \n",
            "A value is trying to be set on a copy of a slice from a DataFrame.\n",
            "Try using .loc[row_indexer,col_indexer] = value instead\n",
            "\n",
            "See the caveats in the documentation: https://pandas.pydata.org/pandas-docs/stable/user_guide/indexing.html#returning-a-view-versus-a-copy\n",
            "  This is separate from the ipykernel package so we can avoid doing imports until\n",
            "/usr/local/lib/python3.7/dist-packages/ipykernel_launcher.py:4: SettingWithCopyWarning: \n",
            "A value is trying to be set on a copy of a slice from a DataFrame.\n",
            "Try using .loc[row_indexer,col_indexer] = value instead\n",
            "\n",
            "See the caveats in the documentation: https://pandas.pydata.org/pandas-docs/stable/user_guide/indexing.html#returning-a-view-versus-a-copy\n",
            "  after removing the cwd from sys.path.\n",
            "/usr/local/lib/python3.7/dist-packages/ipykernel_launcher.py:5: SettingWithCopyWarning: \n",
            "A value is trying to be set on a copy of a slice from a DataFrame.\n",
            "Try using .loc[row_indexer,col_indexer] = value instead\n",
            "\n",
            "See the caveats in the documentation: https://pandas.pydata.org/pandas-docs/stable/user_guide/indexing.html#returning-a-view-versus-a-copy\n",
            "  \"\"\"\n",
            "/usr/local/lib/python3.7/dist-packages/ipykernel_launcher.py:6: SettingWithCopyWarning: \n",
            "A value is trying to be set on a copy of a slice from a DataFrame.\n",
            "Try using .loc[row_indexer,col_indexer] = value instead\n",
            "\n",
            "See the caveats in the documentation: https://pandas.pydata.org/pandas-docs/stable/user_guide/indexing.html#returning-a-view-versus-a-copy\n",
            "  \n",
            "/usr/local/lib/python3.7/dist-packages/ipykernel_launcher.py:9: SettingWithCopyWarning: \n",
            "A value is trying to be set on a copy of a slice from a DataFrame.\n",
            "Try using .loc[row_indexer,col_indexer] = value instead\n",
            "\n",
            "See the caveats in the documentation: https://pandas.pydata.org/pandas-docs/stable/user_guide/indexing.html#returning-a-view-versus-a-copy\n",
            "  if __name__ == '__main__':\n"
          ],
          "name": "stderr"
        }
      ]
    },
    {
      "cell_type": "code",
      "metadata": {
        "colab": {
          "base_uri": "https://localhost:8080/"
        },
        "id": "lmR1oLBrmo0m",
        "outputId": "50234702-1cd4-45a8-db47-339a282d5e29"
      },
      "source": [
        "print(df.isnull().sum()/len(df))"
      ],
      "execution_count": 38,
      "outputs": [
        {
          "output_type": "stream",
          "text": [
            "NATUREZA_ACIDENTE    0.007309\n",
            "TIPO                 0.000983\n",
            "AUTO                 0.000000\n",
            "MOTO                 0.000000\n",
            "CICLOM               0.000000\n",
            "CICLISTA             0.000000\n",
            "PEDESTRE             0.000000\n",
            "ONIBUS               0.000000\n",
            "CAMINHAO             0.000000\n",
            "VIATURA              0.000000\n",
            "TEMPO_CLIMA          0.739553\n",
            "SITUACAO_SEMAFORO    0.000000\n",
            "SINALIZACAO          0.744415\n",
            "CONDICAO_VIA         0.740381\n",
            "CONSERVACAO_VIA      0.744087\n",
            "PERIODO_DO_DIA       0.000000\n",
            "dtype: float64\n"
          ],
          "name": "stdout"
        }
      ]
    },
    {
      "cell_type": "code",
      "metadata": {
        "id": "ExY3-D-uqj3Y"
      },
      "source": [
        "df = df[df['CONSERVACAO_VIA'].notna()]\n",
        "df = df[df['SINALIZACAO'].notna()]\n",
        "df = df[df['CONDICAO_VIA'].notna()]\n",
        "df = df[df['TEMPO_CLIMA'].notna()]\n",
        "df = df[df['NATUREZA_ACIDENTE'].notna()]"
      ],
      "execution_count": 39,
      "outputs": []
    },
    {
      "cell_type": "code",
      "metadata": {
        "colab": {
          "base_uri": "https://localhost:8080/"
        },
        "id": "VGw42p-uqoOA",
        "outputId": "821cc7b6-7382-443f-8d56-da7672e94c14"
      },
      "source": [
        "len(df)"
      ],
      "execution_count": 40,
      "outputs": [
        {
          "output_type": "execute_result",
          "data": {
            "text/plain": [
              "14568"
            ]
          },
          "metadata": {
            "tags": []
          },
          "execution_count": 40
        }
      ]
    },
    {
      "cell_type": "code",
      "metadata": {
        "colab": {
          "base_uri": "https://localhost:8080/"
        },
        "id": "90k86hfCsQeg",
        "outputId": "2fc5de96-5fc5-4849-c33b-7827b094e218"
      },
      "source": [
        "print(df.isnull().sum()/len(df))"
      ],
      "execution_count": 41,
      "outputs": [
        {
          "output_type": "stream",
          "text": [
            "NATUREZA_ACIDENTE    0.0\n",
            "TIPO                 0.0\n",
            "AUTO                 0.0\n",
            "MOTO                 0.0\n",
            "CICLOM               0.0\n",
            "CICLISTA             0.0\n",
            "PEDESTRE             0.0\n",
            "ONIBUS               0.0\n",
            "CAMINHAO             0.0\n",
            "VIATURA              0.0\n",
            "TEMPO_CLIMA          0.0\n",
            "SITUACAO_SEMAFORO    0.0\n",
            "SINALIZACAO          0.0\n",
            "CONDICAO_VIA         0.0\n",
            "CONSERVACAO_VIA      0.0\n",
            "PERIODO_DO_DIA       0.0\n",
            "dtype: float64\n"
          ],
          "name": "stdout"
        }
      ]
    },
    {
      "cell_type": "code",
      "metadata": {
        "colab": {
          "base_uri": "https://localhost:8080/",
          "height": 289
        },
        "id": "LdIBsQTqJpM-",
        "outputId": "a2326555-7cb7-49a5-a507-5bfe9ba403c3"
      },
      "source": [
        "df.head()"
      ],
      "execution_count": 42,
      "outputs": [
        {
          "output_type": "execute_result",
          "data": {
            "text/html": [
              "<div>\n",
              "<style scoped>\n",
              "    .dataframe tbody tr th:only-of-type {\n",
              "        vertical-align: middle;\n",
              "    }\n",
              "\n",
              "    .dataframe tbody tr th {\n",
              "        vertical-align: top;\n",
              "    }\n",
              "\n",
              "    .dataframe thead th {\n",
              "        text-align: right;\n",
              "    }\n",
              "</style>\n",
              "<table border=\"1\" class=\"dataframe\">\n",
              "  <thead>\n",
              "    <tr style=\"text-align: right;\">\n",
              "      <th></th>\n",
              "      <th>NATUREZA_ACIDENTE</th>\n",
              "      <th>TIPO</th>\n",
              "      <th>AUTO</th>\n",
              "      <th>MOTO</th>\n",
              "      <th>CICLOM</th>\n",
              "      <th>CICLISTA</th>\n",
              "      <th>PEDESTRE</th>\n",
              "      <th>ONIBUS</th>\n",
              "      <th>CAMINHAO</th>\n",
              "      <th>VIATURA</th>\n",
              "      <th>TEMPO_CLIMA</th>\n",
              "      <th>SITUACAO_SEMAFORO</th>\n",
              "      <th>SINALIZACAO</th>\n",
              "      <th>CONDICAO_VIA</th>\n",
              "      <th>CONSERVACAO_VIA</th>\n",
              "      <th>PERIODO_DO_DIA</th>\n",
              "    </tr>\n",
              "  </thead>\n",
              "  <tbody>\n",
              "    <tr>\n",
              "      <th>38916</th>\n",
              "      <td>SEM VITIMA</td>\n",
              "      <td>ABALROAMENTO LONGITUDINAL</td>\n",
              "      <td>2.0</td>\n",
              "      <td>0.0</td>\n",
              "      <td>0.0</td>\n",
              "      <td>0.0</td>\n",
              "      <td>0.0</td>\n",
              "      <td>0.0</td>\n",
              "      <td>0.0</td>\n",
              "      <td>0.0</td>\n",
              "      <td>BOM</td>\n",
              "      <td>SEM DEFEITO</td>\n",
              "      <td>PERFEITO ESTADO</td>\n",
              "      <td>SECA</td>\n",
              "      <td>PERFEITO ESTADO</td>\n",
              "      <td>MADRUGADA</td>\n",
              "    </tr>\n",
              "    <tr>\n",
              "      <th>38919</th>\n",
              "      <td>SEM VITIMA</td>\n",
              "      <td>COLISAO TRASEIRA</td>\n",
              "      <td>2.0</td>\n",
              "      <td>0.0</td>\n",
              "      <td>0.0</td>\n",
              "      <td>0.0</td>\n",
              "      <td>0.0</td>\n",
              "      <td>0.0</td>\n",
              "      <td>0.0</td>\n",
              "      <td>0.0</td>\n",
              "      <td>BOM</td>\n",
              "      <td>NAO EXISTE</td>\n",
              "      <td>NAO EXISTENTE</td>\n",
              "      <td>SECA</td>\n",
              "      <td>PERFEITO ESTADO</td>\n",
              "      <td>MANHA</td>\n",
              "    </tr>\n",
              "    <tr>\n",
              "      <th>38920</th>\n",
              "      <td>SEM VITIMA</td>\n",
              "      <td>COLISAO TRASEIRA</td>\n",
              "      <td>2.0</td>\n",
              "      <td>0.0</td>\n",
              "      <td>0.0</td>\n",
              "      <td>0.0</td>\n",
              "      <td>0.0</td>\n",
              "      <td>0.0</td>\n",
              "      <td>0.0</td>\n",
              "      <td>0.0</td>\n",
              "      <td>BOM</td>\n",
              "      <td>SEM DEFEITO</td>\n",
              "      <td>PERFEITO ESTADO</td>\n",
              "      <td>SECA</td>\n",
              "      <td>PERFEITO ESTADO</td>\n",
              "      <td>MANHA</td>\n",
              "    </tr>\n",
              "    <tr>\n",
              "      <th>38921</th>\n",
              "      <td>SEM VITIMA</td>\n",
              "      <td>ABALROAMENTO LONGITUDINAL</td>\n",
              "      <td>0.0</td>\n",
              "      <td>0.0</td>\n",
              "      <td>0.0</td>\n",
              "      <td>0.0</td>\n",
              "      <td>0.0</td>\n",
              "      <td>1.0</td>\n",
              "      <td>1.0</td>\n",
              "      <td>0.0</td>\n",
              "      <td>BOM</td>\n",
              "      <td>NAO EXISTE</td>\n",
              "      <td>PERFEITO ESTADO</td>\n",
              "      <td>SECA</td>\n",
              "      <td>PERFEITO ESTADO</td>\n",
              "      <td>TARDE</td>\n",
              "    </tr>\n",
              "    <tr>\n",
              "      <th>38922</th>\n",
              "      <td>SEM VITIMA</td>\n",
              "      <td>CHOQUE VEICULO PARADO</td>\n",
              "      <td>2.0</td>\n",
              "      <td>0.0</td>\n",
              "      <td>0.0</td>\n",
              "      <td>0.0</td>\n",
              "      <td>0.0</td>\n",
              "      <td>0.0</td>\n",
              "      <td>0.0</td>\n",
              "      <td>0.0</td>\n",
              "      <td>BOM</td>\n",
              "      <td>NAO EXISTE</td>\n",
              "      <td>NAO EXISTENTE</td>\n",
              "      <td>SECA</td>\n",
              "      <td>PERFEITO ESTADO</td>\n",
              "      <td>TARDE</td>\n",
              "    </tr>\n",
              "  </tbody>\n",
              "</table>\n",
              "</div>"
            ],
            "text/plain": [
              "      NATUREZA_ACIDENTE  ... PERIODO_DO_DIA\n",
              "38916        SEM VITIMA  ...      MADRUGADA\n",
              "38919        SEM VITIMA  ...          MANHA\n",
              "38920        SEM VITIMA  ...          MANHA\n",
              "38921        SEM VITIMA  ...          TARDE\n",
              "38922        SEM VITIMA  ...          TARDE\n",
              "\n",
              "[5 rows x 16 columns]"
            ]
          },
          "metadata": {
            "tags": []
          },
          "execution_count": 42
        }
      ]
    },
    {
      "cell_type": "code",
      "metadata": {
        "colab": {
          "base_uri": "https://localhost:8080/"
        },
        "id": "wetLVxnyJ8Eg",
        "outputId": "1d8672ff-aea7-4453-f810-23ab3764da0d"
      },
      "source": [
        "df['TIPO'].unique()"
      ],
      "execution_count": 43,
      "outputs": [
        {
          "output_type": "execute_result",
          "data": {
            "text/plain": [
              "array(['ABALROAMENTO LONGITUDINAL', 'COLISAO TRASEIRA',\n",
              "       'CHOQUE VEICULO PARADO', 'ABALROAMENTO TRANSVERSAL', 'CAPOTAMENTO',\n",
              "       'COLISAO FRONTAL', 'COLISAO COM CICLISTA', 'ATROPELAMENTO',\n",
              "       'CHOQUE OBJETO FIXO', 'ATROPELAMENTO ANIMAL', 'COLISAO',\n",
              "       'ACID  DE PERCURSO', 'CHOQUE', 'TOMBAMENTO', 'ENGAVETAMENTO'],\n",
              "      dtype=object)"
            ]
          },
          "metadata": {
            "tags": []
          },
          "execution_count": 43
        }
      ]
    },
    {
      "cell_type": "code",
      "metadata": {
        "colab": {
          "base_uri": "https://localhost:8080/"
        },
        "id": "QVFIuHpLKGiw",
        "outputId": "d5be5eac-83b3-49ed-eeea-688fad5ea833"
      },
      "source": [
        "df['TEMPO_CLIMA'].unique()"
      ],
      "execution_count": 44,
      "outputs": [
        {
          "output_type": "execute_result",
          "data": {
            "text/plain": [
              "array(['BOM', 'CHUVOSO', 'NUBLADO'], dtype=object)"
            ]
          },
          "metadata": {
            "tags": []
          },
          "execution_count": 44
        }
      ]
    },
    {
      "cell_type": "code",
      "metadata": {
        "colab": {
          "base_uri": "https://localhost:8080/"
        },
        "id": "eZcmbgsVKLli",
        "outputId": "c11fec79-eccf-45cf-a8c1-8e7879ca5784"
      },
      "source": [
        "df['SITUACAO_SEMAFORO'].unique()"
      ],
      "execution_count": 45,
      "outputs": [
        {
          "output_type": "execute_result",
          "data": {
            "text/plain": [
              "array(['SEM DEFEITO', 'NAO EXISTE', 'INTERMITENTE', 'SEM INFORMACAO',\n",
              "       'COM DEFEITO', 'DESLIGADO'], dtype=object)"
            ]
          },
          "metadata": {
            "tags": []
          },
          "execution_count": 45
        }
      ]
    },
    {
      "cell_type": "code",
      "metadata": {
        "colab": {
          "base_uri": "https://localhost:8080/"
        },
        "id": "NtjDVl4_KMJ5",
        "outputId": "c115410b-da57-46db-eafa-2d334780d8f2"
      },
      "source": [
        "df['SINALIZACAO'].unique()"
      ],
      "execution_count": 46,
      "outputs": [
        {
          "output_type": "execute_result",
          "data": {
            "text/plain": [
              "array(['PERFEITO ESTADO', 'NAO EXISTENTE', 'ILEGIVEL', 'INCOMPLETA'],\n",
              "      dtype=object)"
            ]
          },
          "metadata": {
            "tags": []
          },
          "execution_count": 46
        }
      ]
    },
    {
      "cell_type": "code",
      "metadata": {
        "colab": {
          "base_uri": "https://localhost:8080/"
        },
        "id": "tHABvrCkKL8n",
        "outputId": "3aace0aa-691b-4433-fb20-41cb01e3e1c0"
      },
      "source": [
        "df['CONDICAO_VIA'].unique()"
      ],
      "execution_count": 47,
      "outputs": [
        {
          "output_type": "execute_result",
          "data": {
            "text/plain": [
              "array(['SECA', 'MOLHADA', 'OUTROS', 'OLEOSA'], dtype=object)"
            ]
          },
          "metadata": {
            "tags": []
          },
          "execution_count": 47
        }
      ]
    },
    {
      "cell_type": "code",
      "metadata": {
        "colab": {
          "base_uri": "https://localhost:8080/"
        },
        "id": "WLN9ndbmKR93",
        "outputId": "78a31171-a56d-484f-ba16-bfafdb62dd18"
      },
      "source": [
        "df['CONSERVACAO_VIA'].unique()"
      ],
      "execution_count": 48,
      "outputs": [
        {
          "output_type": "execute_result",
          "data": {
            "text/plain": [
              "array(['PERFEITO ESTADO', 'MAL ILUMINADA', 'MAL CONSERVADA', 'NAO HA',\n",
              "       'OUTROS'], dtype=object)"
            ]
          },
          "metadata": {
            "tags": []
          },
          "execution_count": 48
        }
      ]
    },
    {
      "cell_type": "code",
      "metadata": {
        "colab": {
          "base_uri": "https://localhost:8080/"
        },
        "id": "lfbHgdIUKYRA",
        "outputId": "5ab1d609-5f27-4092-83e3-2276c51d5a86"
      },
      "source": [
        "df['PERIODO_DO_DIA'].unique()"
      ],
      "execution_count": 49,
      "outputs": [
        {
          "output_type": "execute_result",
          "data": {
            "text/plain": [
              "array(['MADRUGADA', 'MANHA', 'TARDE', 'NOITE'], dtype=object)"
            ]
          },
          "metadata": {
            "tags": []
          },
          "execution_count": 49
        }
      ]
    },
    {
      "cell_type": "code",
      "metadata": {
        "id": "FDAo6RAqG6FF"
      },
      "source": [
        "from sklearn.compose import ColumnTransformer\n",
        "from sklearn.preprocessing import OneHotEncoder\n",
        "X_df = df.drop('NATUREZA_ACIDENTE', axis=1)\n",
        "ct = ColumnTransformer(transformers=[('encoder', OneHotEncoder(),[0,9,10,11,12,13,14])],remainder='passthrough')\n",
        "X_df = np.array(ct.fit_transform(X_df))"
      ],
      "execution_count": 50,
      "outputs": []
    },
    {
      "cell_type": "code",
      "metadata": {
        "colab": {
          "base_uri": "https://localhost:8080/"
        },
        "id": "MW-xEY-rHNb3",
        "outputId": "517dcbbe-9da1-48bd-d7de-423effd401d0"
      },
      "source": [
        "print(X_df[0])"
      ],
      "execution_count": 51,
      "outputs": [
        {
          "output_type": "stream",
          "text": [
            "[1. 0. 0. 0. 0. 0. 0. 0. 0. 0. 0. 0. 0. 0. 0. 1. 0. 0. 0. 0. 0. 0. 1. 0.\n",
            " 0. 0. 0. 1. 0. 0. 0. 1. 0. 0. 0. 0. 1. 1. 0. 0. 0. 2. 0. 0. 0. 0. 0. 0.\n",
            " 0.]\n"
          ],
          "name": "stdout"
        }
      ]
    },
    {
      "cell_type": "code",
      "metadata": {
        "id": "QZl2XJQksTLb"
      },
      "source": [
        "# Dados\n",
        "from sklearn.metrics import accuracy_score, f1_score, precision_score, recall_score\n",
        "from sklearn.model_selection import train_test_split\n",
        "import seaborn as sns\n",
        "#X_df = df.drop('NATUREZA_ACIDENTE', axis=1)\n",
        "y_df = df['NATUREZA_ACIDENTE']\n",
        "Xtrain, Xtest, ytrain, ytest = train_test_split(X_df, y_df, test_size=0.2, random_state=1)\n",
        "\n",
        "Xtrain, X_val, ytrain, y_val = train_test_split(Xtrain, ytrain, test_size=0.25, random_state=1) # 0.25 x 0.8 = 0.2\n",
        "#Xtrain, Xtest, ytrain, ytest = train_test_split(X_df, y_df,\n",
        "#                                                random_state=1)"
      ],
      "execution_count": 52,
      "outputs": []
    },
    {
      "cell_type": "markdown",
      "metadata": {
        "id": "Qv2e64wXyRVl"
      },
      "source": [
        "# Experimentos Gerais"
      ]
    },
    {
      "cell_type": "markdown",
      "metadata": {
        "id": "xUmiu5Vr4HqA"
      },
      "source": [
        "## GAUSSIANNB"
      ]
    },
    {
      "cell_type": "code",
      "metadata": {
        "id": "-HQh7Maqo3R-"
      },
      "source": [
        "#experiment_id = mlflow.create_experiment(\"Experimentos Gerais\")\n",
        "#experiment = mlflow.get_experiment(experiment_id)"
      ],
      "execution_count": 53,
      "outputs": []
    },
    {
      "cell_type": "code",
      "metadata": {
        "id": "vxjj7XvRzkTg"
      },
      "source": [
        "from sklearn.naive_bayes import GaussianNB # 1. escolha da técnica\n",
        "model = GaussianNB()                       # 2. instanciação do modelo\n",
        "\n",
        "model.fit(Xtrain, ytrain)                  # 3. criação do modelo\n",
        "y_model = model.predict(Xtest)             # 4. predição em novos dados\n",
        "ypred_train = model.predict(Xtrain)  \n",
        "\n",
        "with mlflow.start_run(run_name=\"Gaussian Naive Bayes - Train\"):\n",
        "  mlflow.log_metric(\"Accuracy\", accuracy_score(ytrain, ypred_train))\n",
        "  mlflow.log_metric(\"Precision\", precision_score(ytrain, ypred_train, average='macro'))\n",
        "  mlflow.log_metric(\"Recall score\", recall_score(ytrain, ypred_train, average='macro'))\n",
        "  mlflow.log_metric(\"F1 score\", f1_score(ytrain, ypred_train,average='macro'))\n",
        "\n",
        "with mlflow.start_run(run_name=\"Gaussian Naive Bayes - Test\"):\n",
        "  mlflow.log_metric(\"Accuracy\", accuracy_score(ytest, y_model))\n",
        "  mlflow.log_metric(\"Precision\", precision_score(ytest, y_model, average='macro'))\n",
        "  mlflow.log_metric(\"Recall score\", recall_score(ytest, y_model, average='macro'))\n",
        "  mlflow.log_metric(\"F1 score\", f1_score(ytest, y_model,average='macro'))"
      ],
      "execution_count": 54,
      "outputs": []
    },
    {
      "cell_type": "code",
      "metadata": {
        "id": "82ozkwVFZaS-"
      },
      "source": [
        ""
      ],
      "execution_count": 54,
      "outputs": []
    },
    {
      "cell_type": "markdown",
      "metadata": {
        "id": "vzNO8CWn4FfY"
      },
      "source": [
        "## MLP"
      ]
    },
    {
      "cell_type": "code",
      "metadata": {
        "id": "E2KfZqOWzsYO",
        "colab": {
          "base_uri": "https://localhost:8080/"
        },
        "outputId": "1c42ef4f-d237-42e2-ce0a-6f96b9b919b0"
      },
      "source": [
        "from sklearn.neural_network import MLPClassifier\n",
        "model = MLPClassifier(hidden_layer_sizes=(100,100,100), max_iter=50, alpha=0.0001, solver='sgd', verbose=10,  random_state=21,tol=0.000000001)\n",
        "model.fit(Xtrain, ytrain)                 \n",
        "y_model = model.predict(Xtest)           \n",
        "ypred_train = model.predict(Xtrain)      "
      ],
      "execution_count": 55,
      "outputs": [
        {
          "output_type": "stream",
          "text": [
            "Iteration 1, loss = 0.58818649\n",
            "Iteration 2, loss = 0.52302285\n",
            "Iteration 3, loss = 0.50534097\n",
            "Iteration 4, loss = 0.48867542\n",
            "Iteration 5, loss = 0.47192654\n",
            "Iteration 6, loss = 0.45495726\n",
            "Iteration 7, loss = 0.43817591\n",
            "Iteration 8, loss = 0.42196119\n",
            "Iteration 9, loss = 0.40644047\n",
            "Iteration 10, loss = 0.39219508\n",
            "Iteration 11, loss = 0.37990464\n",
            "Iteration 12, loss = 0.36921189\n",
            "Iteration 13, loss = 0.36059302\n",
            "Iteration 14, loss = 0.35355778\n",
            "Iteration 15, loss = 0.34790613\n",
            "Iteration 16, loss = 0.34338793\n",
            "Iteration 17, loss = 0.33944440\n",
            "Iteration 18, loss = 0.33618231\n",
            "Iteration 19, loss = 0.33343200\n",
            "Iteration 20, loss = 0.33089463\n",
            "Iteration 21, loss = 0.32854247\n",
            "Iteration 22, loss = 0.32648108\n",
            "Iteration 23, loss = 0.32464116\n",
            "Iteration 24, loss = 0.32279620\n",
            "Iteration 25, loss = 0.32111168\n",
            "Iteration 26, loss = 0.31958925\n",
            "Iteration 27, loss = 0.31815491\n",
            "Iteration 28, loss = 0.31675351\n",
            "Iteration 29, loss = 0.31548677\n",
            "Iteration 30, loss = 0.31421752\n",
            "Iteration 31, loss = 0.31313802\n",
            "Iteration 32, loss = 0.31210234\n",
            "Iteration 33, loss = 0.31111977\n",
            "Iteration 34, loss = 0.31011537\n",
            "Iteration 35, loss = 0.30913621\n",
            "Iteration 36, loss = 0.30836893\n",
            "Iteration 37, loss = 0.30760406\n",
            "Iteration 38, loss = 0.30664841\n",
            "Iteration 39, loss = 0.30592858\n",
            "Iteration 40, loss = 0.30528278\n",
            "Iteration 41, loss = 0.30450803\n",
            "Iteration 42, loss = 0.30393309\n",
            "Iteration 43, loss = 0.30326748\n",
            "Iteration 44, loss = 0.30278670\n",
            "Iteration 45, loss = 0.30198635\n",
            "Iteration 46, loss = 0.30154464\n",
            "Iteration 47, loss = 0.30089913\n",
            "Iteration 48, loss = 0.30036090\n",
            "Iteration 49, loss = 0.29985331\n",
            "Iteration 50, loss = 0.29935175\n"
          ],
          "name": "stdout"
        },
        {
          "output_type": "stream",
          "text": [
            "/usr/local/lib/python3.7/dist-packages/sklearn/neural_network/_multilayer_perceptron.py:571: ConvergenceWarning: Stochastic Optimizer: Maximum iterations (50) reached and the optimization hasn't converged yet.\n",
            "  % self.max_iter, ConvergenceWarning)\n"
          ],
          "name": "stderr"
        }
      ]
    },
    {
      "cell_type": "code",
      "metadata": {
        "id": "BZOY3cEG3Q5n"
      },
      "source": [
        "with mlflow.start_run(run_name=\"MLP Classifier - Train\"):\n",
        "     \n",
        "  #print(\"ACC TRAINING:\" + str(accuracy_score(ytrain, ypred_train)))\n",
        "  #print(\"ACC TEST:\" + str(accuracy_score(ytest, y_model)))\n",
        "  mlflow.log_metric(\"Accuracy\", accuracy_score(ytrain, ypred_train))\n",
        "  mlflow.log_metric(\"Precision\", precision_score(ytrain, ypred_train, average='macro'))\n",
        "  mlflow.log_metric(\"Recall score\", recall_score(ytrain, ypred_train, average='macro'))\n",
        "  mlflow.log_metric(\"F1 score\", f1_score(ytrain, ypred_train,average='macro'))\n",
        "\n",
        "with mlflow.start_run(run_name=\"MLP Classifier- Test\"):\n",
        "  mlflow.log_metric(\"Accuracy\", accuracy_score(ytest, y_model))\n",
        "  mlflow.log_metric(\"Precision\", precision_score(ytest, y_model, average='macro'))\n",
        "  mlflow.log_metric(\"Recall score\", recall_score(ytest, y_model, average='macro'))\n",
        "  mlflow.log_metric(\"F1 score\", f1_score(ytest, y_model,average='macro'))"
      ],
      "execution_count": 56,
      "outputs": []
    },
    {
      "cell_type": "markdown",
      "metadata": {
        "id": "fdQL2Z7x4Cm0"
      },
      "source": [
        "## RandomForest"
      ]
    },
    {
      "cell_type": "code",
      "metadata": {
        "id": "N_yEZtak3hrL"
      },
      "source": [
        "from sklearn.ensemble import RandomForestClassifier\n",
        "model = RandomForestClassifier(n_estimators=1000)\n",
        "model.fit(Xtrain, ytrain)                 \n",
        "y_model = model.predict(Xtest)           \n",
        "ypred_train = model.predict(Xtrain)   "
      ],
      "execution_count": 57,
      "outputs": []
    },
    {
      "cell_type": "code",
      "metadata": {
        "id": "fQ0Q_rRa3zKj"
      },
      "source": [
        "with mlflow.start_run(run_name=\"Random Forest - Train\"):\n",
        "     \n",
        "  from sklearn.metrics import accuracy_score, f1_score, precision_score, recall_score\n",
        "  #print(\"ACC TRAINING:\" + str(accuracy_score(ytrain, ypred_train)))\n",
        "  #print(\"ACC TEST:\" + str(accuracy_score(ytest, y_model)))\n",
        "  mlflow.log_metric(\"Accuracy\", accuracy_score(ytrain, ypred_train))\n",
        "  mlflow.log_metric(\"Precision\", precision_score(ytrain, ypred_train, average='macro'))\n",
        "  mlflow.log_metric(\"Recall score\", recall_score(ytrain, ypred_train, average='macro'))\n",
        "  mlflow.log_metric(\"F1 score\", f1_score(ytrain, ypred_train,average='macro'))\n",
        "\n",
        "with mlflow.start_run(run_name=\"Random Forest - Test\"):\n",
        "  mlflow.log_metric(\"Accuracy\", accuracy_score(ytest, y_model))\n",
        "  mlflow.log_metric(\"Precision\", precision_score(ytest, y_model, average='macro'))\n",
        "  mlflow.log_metric(\"Recall score\", recall_score(ytest, y_model, average='macro'))\n",
        "  mlflow.log_metric(\"F1 score\", f1_score(ytest, y_model,average='macro'))"
      ],
      "execution_count": 58,
      "outputs": []
    },
    {
      "cell_type": "markdown",
      "metadata": {
        "id": "q70C2VPj4Axo"
      },
      "source": [
        "## KNN"
      ]
    },
    {
      "cell_type": "code",
      "metadata": {
        "id": "kw7QHfXC3z7L"
      },
      "source": [
        "from sklearn.neighbors import KNeighborsClassifier\n",
        "model = KNeighborsClassifier(n_neighbors=1)\n",
        "model.fit(Xtrain, ytrain)                 \n",
        "y_model = model.predict(Xtest)           \n",
        "ypred_train = model.predict(Xtrain)"
      ],
      "execution_count": 59,
      "outputs": []
    },
    {
      "cell_type": "code",
      "metadata": {
        "id": "rBarIR5i39GQ"
      },
      "source": [
        "with mlflow.start_run(run_name=\"KNeighbors Classifier - Train\"):\n",
        "     \n",
        "  from sklearn.metrics import accuracy_score, f1_score, precision_score, recall_score\n",
        "  #print(\"ACC TRAINING:\" + str(accuracy_score(ytrain, ypred_train)))\n",
        "  #print(\"ACC TEST:\" + str(accuracy_score(ytest, y_model)))\n",
        "  mlflow.log_metric(\"Accuracy\", accuracy_score(ytrain, ypred_train))\n",
        "  mlflow.log_metric(\"Precision\", precision_score(ytrain, ypred_train, average='macro'))\n",
        "  mlflow.log_metric(\"Recall score\", recall_score(ytrain, ypred_train, average='macro'))\n",
        "  mlflow.log_metric(\"F1 score\", f1_score(ytrain, ypred_train,average='macro'))\n",
        "\n",
        "with mlflow.start_run(run_name=\"KNeighbors Classifier - Test\"):\n",
        "  mlflow.log_metric(\"Accuracy\", accuracy_score(ytest, y_model))\n",
        "  mlflow.log_metric(\"Precision\", precision_score(ytest, y_model, average='macro'))\n",
        "  mlflow.log_metric(\"Recall score\", recall_score(ytest, y_model, average='macro'))\n",
        "  mlflow.log_metric(\"F1 score\", f1_score(ytest, y_model,average='macro'))"
      ],
      "execution_count": 60,
      "outputs": []
    },
    {
      "cell_type": "code",
      "metadata": {
        "id": "VRcGbXG639rS",
        "colab": {
          "base_uri": "https://localhost:8080/"
        },
        "outputId": "718ed230-b290-49b4-8d36-4e07d9213970"
      },
      "source": [
        "#run tracking UI in the background\n",
        "get_ipython().system_raw(\"mlflow ui --port 5000 &\") # run tracking UI in the background\n",
        "\n",
        "# create remote tunnel using ngrok.com to allow local port access\n",
        "# borrowed from https://colab.research.google.com/github/alfozan/MLflow-GBRT-demo/blob/master/MLflow-GBRT-demo.ipynb#scrollTo=4h3bKHMYUIG6\n",
        "\n",
        "from pyngrok import ngrok\n",
        "\n",
        "# Terminate open tunnels if exist\n",
        "ngrok.kill()\n",
        "\n",
        "# Setting the authtoken (optional)\n",
        "# Get your authtoken from https://dashboard.ngrok.com/auth\n",
        "NGROK_AUTH_TOKEN = \"\"\n",
        "ngrok.set_auth_token(NGROK_AUTH_TOKEN)\n",
        "# Open an HTTPs tunnel on port 5000 for http://localhost:5000\n",
        "ngrok_tunnel = ngrok.connect(addr=\"5000\", proto=\"http\", bind_tls=True , name='Exp')\n",
        "print(\"MLflow Tracking UI:\", ngrok_tunnel.public_url)"
      ],
      "execution_count": 61,
      "outputs": [
        {
          "output_type": "stream",
          "text": [
            "MLflow Tracking UI: https://51a70bbbdd25.ngrok.io\n"
          ],
          "name": "stdout"
        }
      ]
    },
    {
      "cell_type": "markdown",
      "metadata": {
        "id": "GfXRAk6soeEK"
      },
      "source": [
        "### Hiperparametros com o OPTUNA"
      ]
    },
    {
      "cell_type": "code",
      "metadata": {
        "id": "B7YYXr_Hov23"
      },
      "source": [
        "experiment_id = mlflow.create_experiment(\"Experimentos - Optuna\")\n",
        "experiment = mlflow.get_experiment(experiment_id)"
      ],
      "execution_count": 62,
      "outputs": []
    },
    {
      "cell_type": "code",
      "metadata": {
        "id": "m-MnyeB-dosm",
        "colab": {
          "base_uri": "https://localhost:8080/"
        },
        "outputId": "75ddfa24-4392-4a07-9140-fd2d678329d9"
      },
      "source": [
        "import optuna\n",
        "classes = list(set(y_df))\n",
        "#Step 1. Define an objective function to be maximized.\n",
        "def objective(trial):\n",
        "\n",
        "    classifier_name = trial.suggest_categorical(\"classifier\", [\"GaussianNB\", \"RandomForest\",\"KNN\",\"MLP\"])\n",
        "    \n",
        "    # Step 2. Setup values for the hyperparameters:\n",
        "    if classifier_name == 'GaussianNB':\n",
        "        smoothing = trial.suggest_float(\"smoothing\", 1e-10, 1e-8, log=True)\n",
        "        classifier_obj = GaussianNB(var_smoothing=smoothing)\n",
        "    elif classifier_name == 'RandomForest':\n",
        "        rf_n_estimators = trial.suggest_int(\"rf_n_estimators\", 10, 1000)\n",
        "        rf_max_depth = trial.suggest_int(\"rf_max_depth\", 2, 32, log=True)\n",
        "        classifier_obj = RandomForestClassifier(\n",
        "            max_depth=rf_max_depth, n_estimators=rf_n_estimators\n",
        "        )\n",
        "    elif classifier_name == 'KNN':\n",
        "        neighbors = trial.suggest_int(\"neighbors\", 1, 10)\n",
        "        algorithm = trial.suggest_categorical(\"algorithm\", [\"auto\", \"ball_tree\", \"kd_tree\", \"brute\"])\n",
        "        classifier_obj = KNeighborsClassifier(n_neighbors=neighbors, algorithm=algorithm)\n",
        "\n",
        "    else:\n",
        "        neurons = trial.suggest_int(\"neurons\", 50, 200)\n",
        "        depth = trial.suggest_int(\"depth\",1,4)\n",
        "        layer_sizes = tuple([neurons for _ in range(depth)])\n",
        "        alpha = trial.suggest_float(\"alpha\",0.000001,0.001)\n",
        "        activation_function = trial.suggest_categorical(\"activation_function\",[\"identity\",\"logistic\",\"tanh\",\"relu\"])\n",
        "        \n",
        "        classifier_obj = MLPClassifier(hidden_layer_sizes=layer_sizes, alpha=alpha, activation=activation_function)\n",
        "    for step in range(100):\n",
        "        classifier_obj.fit(Xtrain, ytrain)\n",
        "        \n",
        "        # Report intermediate objective value.\n",
        "        intermediate_value = classifier_obj.score(Xtest, ytest)\n",
        "        trial.report(intermediate_value, step)\n",
        "\n",
        "        # Handle pruning based on the intermediate value.\n",
        "        if trial.should_prune():\n",
        "            raise optuna.TrialPruned()\n",
        "        return intermediate_value\n",
        "\n",
        "# Step 4: Running it\n",
        "study = optuna.create_study(direction=\"maximize\")\n",
        "study.optimize(objective, n_trials=100)\n",
        "\n",
        "# Calculating the pruned and completed trials\n",
        "pruned_trials = [t for t in study.trials if t.state == optuna.trial.TrialState.PRUNED]\n",
        "complete_trials = [t for t in study.trials if t.state == optuna.trial.TrialState.COMPLETE]\n",
        "\n",
        "print(\"  Number of finished trials: \", len(study.trials))\n",
        "print(\"  Number of pruned trials: \", len(pruned_trials))\n",
        "print(\"  Number of complete trials: \", len(complete_trials))\n",
        "\n",
        "\n",
        "with mlflow.start_run(experiment_id=1 , run_name=f\"BEST GENERAL METHOD - [{study.best_params['classifier']}]\"):\n",
        "  mlflow.log_metric(\"Accuracy\",study.best_value)\n",
        "  mlflow.log_params(study.best_params)"
      ],
      "execution_count": 64,
      "outputs": [
        {
          "output_type": "stream",
          "text": [
            "\u001b[32m[I 2021-08-15 02:53:57,227]\u001b[0m A new study created in memory with name: no-name-a1c8f83c-61af-4ea9-a83c-bc6774b44bac\u001b[0m\n",
            "\u001b[32m[I 2021-08-15 02:54:31,176]\u001b[0m Trial 0 finished with value: 0.8802333562113933 and parameters: {'classifier': 'MLP', 'neurons': 178, 'depth': 3, 'alpha': 0.0009134624314201127, 'activation_function': 'logistic'}. Best is trial 0 with value: 0.8802333562113933.\u001b[0m\n",
            "\u001b[32m[I 2021-08-15 02:54:51,820]\u001b[0m Trial 1 finished with value: 0.8603294440631435 and parameters: {'classifier': 'MLP', 'neurons': 60, 'depth': 3, 'alpha': 0.0009289978529192752, 'activation_function': 'relu'}. Best is trial 0 with value: 0.8802333562113933.\u001b[0m\n",
            "\u001b[32m[I 2021-08-15 02:54:52,926]\u001b[0m Trial 2 finished with value: 0.8332189430336308 and parameters: {'classifier': 'KNN', 'neighbors': 5, 'algorithm': 'auto'}. Best is trial 0 with value: 0.8802333562113933.\u001b[0m\n",
            "\u001b[32m[I 2021-08-15 02:54:54,655]\u001b[0m Trial 3 finished with value: 0.8164035689773507 and parameters: {'classifier': 'KNN', 'neighbors': 1, 'algorithm': 'ball_tree'}. Best is trial 0 with value: 0.8802333562113933.\u001b[0m\n",
            "\u001b[32m[I 2021-08-15 02:55:28,662]\u001b[0m Trial 4 finished with value: 0.8665065202470831 and parameters: {'classifier': 'MLP', 'neurons': 151, 'depth': 4, 'alpha': 0.0005593267704798034, 'activation_function': 'relu'}. Best is trial 0 with value: 0.8802333562113933.\u001b[0m\n"
          ],
          "name": "stderr"
        },
        {
          "output_type": "stream",
          "text": [
            "  Number of finished trials:  5\n",
            "  Number of pruned trials:  0\n",
            "  Number of complete trials:  5\n"
          ],
          "name": "stdout"
        }
      ]
    },
    {
      "cell_type": "code",
      "metadata": {
        "id": "ivP0-MIHoYNj"
      },
      "source": [
        ""
      ],
      "execution_count": null,
      "outputs": []
    },
    {
      "cell_type": "code",
      "metadata": {
        "id": "RyTZxJyZhqs1",
        "colab": {
          "base_uri": "https://localhost:8080/"
        },
        "outputId": "3d419e7c-4142-485b-9cf7-0285855f6683"
      },
      "source": [
        "import optuna\n",
        "classes = list(set(y_df))\n",
        "#Step 1. Define an objective function to be maximized.\n",
        "def objective(trial):\n",
        "    \n",
        "    # Step 2. Setup values for the hyperparameters:\n",
        "    \n",
        "    smoothing = trial.suggest_float(\"smoothing\", 1e-10, 1e-8, log=True)\n",
        "    classifier_obj = GaussianNB(var_smoothing=smoothing)\n",
        "    for step in range(100):\n",
        "        classifier_obj.fit(Xtrain, ytrain)\n",
        "        \n",
        "        # Report intermediate objective value.\n",
        "        intermediate_value = classifier_obj.score(Xtest, ytest)\n",
        "        trial.report(intermediate_value, step)\n",
        "\n",
        "        # Handle pruning based on the intermediate value.\n",
        "        if trial.should_prune():\n",
        "            raise optuna.TrialPruned()\n",
        "        return intermediate_value\n",
        "\n",
        "# Step 4: Running it\n",
        "study = optuna.create_study(direction=\"maximize\")\n",
        "study.optimize(objective, n_trials=100)\n",
        "\n",
        "# Calculating the pruned and completed trials\n",
        "pruned_trials = [t for t in study.trials if t.state == optuna.trial.TrialState.PRUNED]\n",
        "complete_trials = [t for t in study.trials if t.state == optuna.trial.TrialState.COMPLETE]\n",
        "\n",
        "print(\"  Number of finished trials: \", len(study.trials))\n",
        "print(\"  Number of pruned trials: \", len(pruned_trials))\n",
        "print(\"  Number of complete trials: \", len(complete_trials))\n",
        "\n",
        "with mlflow.start_run(experiment_id=1 , run_name=\"BEST - GaussianNB\"):\n",
        "  mlflow.log_metric(\"Accuracy\",study.best_value)\n",
        "  mlflow.log_param(\"classifier\",\"Gaussian NB\")\n",
        "  mlflow.log_params(study.best_params)"
      ],
      "execution_count": 65,
      "outputs": [
        {
          "output_type": "stream",
          "text": [
            "\u001b[32m[I 2021-08-15 02:55:28,727]\u001b[0m A new study created in memory with name: no-name-711de698-6cff-4679-9fbf-d0cd15e3933a\u001b[0m\n",
            "\u001b[32m[I 2021-08-15 02:55:28,768]\u001b[0m Trial 0 finished with value: 0.7786547700754975 and parameters: {'smoothing': 1.340336302659873e-10}. Best is trial 0 with value: 0.7786547700754975.\u001b[0m\n",
            "\u001b[32m[I 2021-08-15 02:55:28,798]\u001b[0m Trial 1 finished with value: 0.7789979409746054 and parameters: {'smoothing': 5.608363529747824e-10}. Best is trial 1 with value: 0.7789979409746054.\u001b[0m\n",
            "\u001b[32m[I 2021-08-15 02:55:28,823]\u001b[0m Trial 2 finished with value: 0.7786547700754975 and parameters: {'smoothing': 1.5020370220712692e-09}. Best is trial 1 with value: 0.7789979409746054.\u001b[0m\n",
            "\u001b[32m[I 2021-08-15 02:55:28,848]\u001b[0m Trial 3 finished with value: 0.7786547700754975 and parameters: {'smoothing': 8.160051979614083e-10}. Best is trial 1 with value: 0.7789979409746054.\u001b[0m\n",
            "\u001b[32m[I 2021-08-15 02:55:28,872]\u001b[0m Trial 4 finished with value: 0.7786547700754975 and parameters: {'smoothing': 3.246411253820552e-09}. Best is trial 1 with value: 0.7789979409746054.\u001b[0m\n"
          ],
          "name": "stderr"
        },
        {
          "output_type": "stream",
          "text": [
            "  Number of finished trials:  5\n",
            "  Number of pruned trials:  0\n",
            "  Number of complete trials:  5\n"
          ],
          "name": "stdout"
        }
      ]
    },
    {
      "cell_type": "code",
      "metadata": {
        "id": "azLi2uIl2OJe",
        "colab": {
          "base_uri": "https://localhost:8080/"
        },
        "outputId": "5a9b3b81-5eb1-4bf3-a55a-205550acfc20"
      },
      "source": [
        "import optuna\n",
        "classes = list(set(y_df))\n",
        "#Step 1. Define an objective function to be maximized.\n",
        "def objective(trial):\n",
        "\n",
        "    rf_n_estimators = trial.suggest_int(\"rf_n_estimators\", 10, 1000)\n",
        "    rf_max_depth = trial.suggest_int(\"rf_max_depth\", 2, 32, log=True)\n",
        "    classifier_obj = RandomForestClassifier(\n",
        "        max_depth=rf_max_depth, n_estimators=rf_n_estimators\n",
        "    )\n",
        "    for step in range(100):\n",
        "        classifier_obj.fit(Xtrain, ytrain)\n",
        "        \n",
        "        # Report intermediate objective value.\n",
        "        intermediate_value = classifier_obj.score(Xtest, ytest)\n",
        "        trial.report(intermediate_value, step)\n",
        "\n",
        "        # Handle pruning based on the intermediate value.\n",
        "        if trial.should_prune():\n",
        "            raise optuna.TrialPruned()\n",
        "        return intermediate_value\n",
        "\n",
        "# Step 4: Running it\n",
        "study = optuna.create_study(direction=\"maximize\")\n",
        "study.optimize(objective, n_trials=100)\n",
        "\n",
        "# Calculating the pruned and completed trials\n",
        "pruned_trials = [t for t in study.trials if t.state == optuna.trial.TrialState.PRUNED]\n",
        "complete_trials = [t for t in study.trials if t.state == optuna.trial.TrialState.COMPLETE]\n",
        "\n",
        "print(\"  Number of finished trials: \", len(study.trials))\n",
        "print(\"  Number of pruned trials: \", len(pruned_trials))\n",
        "print(\"  Number of complete trials: \", len(complete_trials))\n",
        "\n",
        "with mlflow.start_run(experiment_id=1 , run_name=\"BEST - RandomForestClassifier\"):\n",
        "  mlflow.log_metric(\"Accuracy\",study.best_value)\n",
        "  mlflow.log_param(\"classifier\",\"Random Forest Classifier\")\n",
        "  mlflow.log_params(study.best_params)"
      ],
      "execution_count": 66,
      "outputs": [
        {
          "output_type": "stream",
          "text": [
            "\u001b[32m[I 2021-08-15 02:55:28,916]\u001b[0m A new study created in memory with name: no-name-a4c9dc7d-d530-476b-876d-d06691130b3c\u001b[0m\n",
            "\u001b[32m[I 2021-08-15 02:55:34,708]\u001b[0m Trial 0 finished with value: 0.8706245710363761 and parameters: {'rf_n_estimators': 927, 'rf_max_depth': 16}. Best is trial 0 with value: 0.8706245710363761.\u001b[0m\n",
            "\u001b[32m[I 2021-08-15 02:55:40,877]\u001b[0m Trial 1 finished with value: 0.8668496911461908 and parameters: {'rf_n_estimators': 933, 'rf_max_depth': 19}. Best is trial 0 with value: 0.8706245710363761.\u001b[0m\n",
            "\u001b[32m[I 2021-08-15 02:55:45,131]\u001b[0m Trial 2 finished with value: 0.8743994509265615 and parameters: {'rf_n_estimators': 927, 'rf_max_depth': 9}. Best is trial 2 with value: 0.8743994509265615.\u001b[0m\n",
            "\u001b[32m[I 2021-08-15 02:55:46,467]\u001b[0m Trial 3 finished with value: 0.7755662319835278 and parameters: {'rf_n_estimators': 455, 'rf_max_depth': 3}. Best is trial 2 with value: 0.8743994509265615.\u001b[0m\n",
            "\u001b[32m[I 2021-08-15 02:55:53,795]\u001b[0m Trial 4 finished with value: 0.8668496911461908 and parameters: {'rf_n_estimators': 999, 'rf_max_depth': 27}. Best is trial 2 with value: 0.8743994509265615.\u001b[0m\n"
          ],
          "name": "stderr"
        },
        {
          "output_type": "stream",
          "text": [
            "  Number of finished trials:  5\n",
            "  Number of pruned trials:  0\n",
            "  Number of complete trials:  5\n"
          ],
          "name": "stdout"
        }
      ]
    },
    {
      "cell_type": "code",
      "metadata": {
        "id": "TisMeVht2XE4",
        "colab": {
          "base_uri": "https://localhost:8080/"
        },
        "outputId": "55e4065d-2969-4366-f0ec-127c5fd93e3e"
      },
      "source": [
        "import optuna\n",
        "classes = list(set(y_df))\n",
        "#Step 1. Define an objective function to be maximized.\n",
        "def objective(trial):\n",
        "\n",
        "   \n",
        "    neighbors = trial.suggest_int(\"neighbors\", 1, 10)\n",
        "    algorithm = trial.suggest_categorical(\"algorithm\", [\"auto\", \"ball_tree\", \"kd_tree\", \"brute\"])\n",
        "    classifier_obj = KNeighborsClassifier(n_neighbors=neighbors, algorithm=algorithm)\n",
        "    for step in range(100):\n",
        "        classifier_obj.fit(Xtrain, ytrain)\n",
        "        \n",
        "        # Report intermediate objective value.\n",
        "        intermediate_value = classifier_obj.score(Xtest, ytest)\n",
        "        trial.report(intermediate_value, step)\n",
        "\n",
        "        # Handle pruning based on the intermediate value.\n",
        "        if trial.should_prune():\n",
        "            raise optuna.TrialPruned()\n",
        "        return intermediate_value\n",
        "\n",
        "# Step 4: Running it\n",
        "study = optuna.create_study(direction=\"maximize\")\n",
        "study.optimize(objective, n_trials=100)\n",
        "\n",
        "# Calculating the pruned and completed trials\n",
        "pruned_trials = [t for t in study.trials if t.state == optuna.trial.TrialState.PRUNED]\n",
        "complete_trials = [t for t in study.trials if t.state == optuna.trial.TrialState.COMPLETE]\n",
        "\n",
        "print(\"  Number of finished trials: \", len(study.trials))\n",
        "print(\"  Number of pruned trials: \", len(pruned_trials))\n",
        "print(\"  Number of complete trials: \", len(complete_trials))\n",
        "\n",
        "with mlflow.start_run(experiment_id=1 , run_name=\"BEST - KNeighbors Classifier\"):\n",
        "  mlflow.log_metric(\"Accuracy\",study.best_value)\n",
        "  mlflow.log_param(\"classifier\",\"K-Neighbors Classifier\")\n",
        "  mlflow.log_params(study.best_params)"
      ],
      "execution_count": 67,
      "outputs": [
        {
          "output_type": "stream",
          "text": [
            "\u001b[32m[I 2021-08-15 02:55:53,838]\u001b[0m A new study created in memory with name: no-name-56212936-2447-4b3d-8985-f146ff2dac54\u001b[0m\n",
            "\u001b[32m[I 2021-08-15 02:55:55,628]\u001b[0m Trial 0 finished with value: 0.7886067261496225 and parameters: {'neighbors': 2, 'algorithm': 'ball_tree'}. Best is trial 0 with value: 0.7886067261496225.\u001b[0m\n",
            "\u001b[32m[I 2021-08-15 02:55:57,395]\u001b[0m Trial 1 finished with value: 0.8318462594371997 and parameters: {'neighbors': 5, 'algorithm': 'ball_tree'}. Best is trial 1 with value: 0.8318462594371997.\u001b[0m\n",
            "\u001b[32m[I 2021-08-15 02:55:59,129]\u001b[0m Trial 2 finished with value: 0.8472889498970487 and parameters: {'neighbors': 4, 'algorithm': 'ball_tree'}. Best is trial 2 with value: 0.8472889498970487.\u001b[0m\n",
            "\u001b[32m[I 2021-08-15 02:56:00,088]\u001b[0m Trial 3 finished with value: 0.846945778997941 and parameters: {'neighbors': 3, 'algorithm': 'auto'}. Best is trial 2 with value: 0.8472889498970487.\u001b[0m\n",
            "\u001b[32m[I 2021-08-15 02:56:01,855]\u001b[0m Trial 4 finished with value: 0.7886067261496225 and parameters: {'neighbors': 2, 'algorithm': 'ball_tree'}. Best is trial 2 with value: 0.8472889498970487.\u001b[0m\n"
          ],
          "name": "stderr"
        },
        {
          "output_type": "stream",
          "text": [
            "  Number of finished trials:  5\n",
            "  Number of pruned trials:  0\n",
            "  Number of complete trials:  5\n"
          ],
          "name": "stdout"
        }
      ]
    },
    {
      "cell_type": "code",
      "metadata": {
        "id": "xSr7OtWd2cOj",
        "colab": {
          "base_uri": "https://localhost:8080/"
        },
        "outputId": "b3a8478f-7f98-459f-b736-d1f67839a890"
      },
      "source": [
        "import optuna\n",
        "classes = list(set(y_df))\n",
        "#Step 1. Define an objective function to be maximized.\n",
        "def objective(trial):\n",
        "\n",
        "    neurons = trial.suggest_int(\"neurons\", 50, 200)\n",
        "    depth = trial.suggest_int(\"depth\",1,4)\n",
        "    layer_sizes = tuple([neurons for _ in range(depth)])\n",
        "    alpha = trial.suggest_float(\"alpha\",0.000001,0.001)\n",
        "    activation_function = trial.suggest_categorical(\"activation_function\",[\"identity\",\"logistic\",\"tanh\",\"relu\"])\n",
        "    \n",
        "    classifier_obj = MLPClassifier(hidden_layer_sizes=layer_sizes, alpha=alpha, activation=activation_function)\n",
        "    for step in range(100):\n",
        "        classifier_obj.fit(Xtrain, ytrain)\n",
        "        \n",
        "        # Report intermediate objective value.\n",
        "        intermediate_value = classifier_obj.score(Xtest, ytest)\n",
        "        trial.report(intermediate_value, step)\n",
        "\n",
        "        # Handle pruning based on the intermediate value.\n",
        "        if trial.should_prune():\n",
        "            raise optuna.TrialPruned()\n",
        "        return intermediate_value\n",
        "\n",
        "# Step 4: Running it\n",
        "study = optuna.create_study(direction=\"maximize\")\n",
        "study.optimize(objective, n_trials=100)\n",
        "\n",
        "# Calculating the pruned and completed trials\n",
        "pruned_trials = [t for t in study.trials if t.state == optuna.trial.TrialState.PRUNED]\n",
        "complete_trials = [t for t in study.trials if t.state == optuna.trial.TrialState.COMPLETE]\n",
        "\n",
        "print(\"  Number of finished trials: \", len(study.trials))\n",
        "print(\"  Number of pruned trials: \", len(pruned_trials))\n",
        "print(\"  Number of complete trials: \", len(complete_trials))\n",
        "\n",
        "with mlflow.start_run(experiment_id=1 , run_name=\"BEST - MLP Classifier\"):\n",
        "  mlflow.log_metric(\"Accuracy\",study.best_value)\n",
        "  mlflow.log_param(\"classifier\",\"MLP Classifier\")\n",
        "  mlflow.log_params(study.best_params)"
      ],
      "execution_count": 68,
      "outputs": [
        {
          "output_type": "stream",
          "text": [
            "\u001b[32m[I 2021-08-15 02:56:01,908]\u001b[0m A new study created in memory with name: no-name-e190cd83-1138-4730-b07f-665ffbe67920\u001b[0m\n",
            "/usr/local/lib/python3.7/dist-packages/sklearn/neural_network/_multilayer_perceptron.py:571: ConvergenceWarning:\n",
            "\n",
            "Stochastic Optimizer: Maximum iterations (200) reached and the optimization hasn't converged yet.\n",
            "\n",
            "\u001b[32m[I 2021-08-15 02:56:58,454]\u001b[0m Trial 0 finished with value: 0.865133836650652 and parameters: {'neurons': 120, 'depth': 3, 'alpha': 0.00032111368784051424, 'activation_function': 'tanh'}. Best is trial 0 with value: 0.865133836650652.\u001b[0m\n",
            "\u001b[32m[I 2021-08-15 02:57:37,200]\u001b[0m Trial 1 finished with value: 0.8774879890185312 and parameters: {'neurons': 153, 'depth': 4, 'alpha': 0.0003771654560390796, 'activation_function': 'logistic'}. Best is trial 1 with value: 0.8774879890185312.\u001b[0m\n",
            "/usr/local/lib/python3.7/dist-packages/sklearn/neural_network/_multilayer_perceptron.py:571: ConvergenceWarning:\n",
            "\n",
            "Stochastic Optimizer: Maximum iterations (200) reached and the optimization hasn't converged yet.\n",
            "\n",
            "\u001b[32m[I 2021-08-15 02:57:49,997]\u001b[0m Trial 2 finished with value: 0.8695950583390528 and parameters: {'neurons': 146, 'depth': 1, 'alpha': 0.00026104673600638206, 'activation_function': 'relu'}. Best is trial 1 with value: 0.8774879890185312.\u001b[0m\n",
            "\u001b[32m[I 2021-08-15 02:58:49,027]\u001b[0m Trial 3 finished with value: 0.8599862731640356 and parameters: {'neurons': 125, 'depth': 3, 'alpha': 0.0009422237369427844, 'activation_function': 'tanh'}. Best is trial 1 with value: 0.8774879890185312.\u001b[0m\n",
            "/usr/local/lib/python3.7/dist-packages/sklearn/neural_network/_multilayer_perceptron.py:571: ConvergenceWarning:\n",
            "\n",
            "Stochastic Optimizer: Maximum iterations (200) reached and the optimization hasn't converged yet.\n",
            "\n",
            "\u001b[32m[I 2021-08-15 02:59:54,242]\u001b[0m Trial 4 finished with value: 0.8661633493479753 and parameters: {'neurons': 200, 'depth': 2, 'alpha': 0.0005209317719547139, 'activation_function': 'tanh'}. Best is trial 1 with value: 0.8774879890185312.\u001b[0m\n"
          ],
          "name": "stderr"
        },
        {
          "output_type": "stream",
          "text": [
            "  Number of finished trials:  5\n",
            "  Number of pruned trials:  0\n",
            "  Number of complete trials:  5\n"
          ],
          "name": "stdout"
        }
      ]
    },
    {
      "cell_type": "code",
      "metadata": {
        "id": "0h7QoczU19V0",
        "colab": {
          "base_uri": "https://localhost:8080/"
        },
        "outputId": "54582c70-ed89-4502-a823-b589596e190a"
      },
      "source": [
        "![picture](https://drive.google.com/file/d/14IggvPIO7AcqxXvHrPBOWHUNpPzou0dL/view?usp=sharing)"
      ],
      "execution_count": 75,
      "outputs": [
        {
          "output_type": "stream",
          "text": [
            "/bin/bash: -c: line 0: syntax error near unexpected token `https://drive.google.com/file/d/14IggvPIO7AcqxXvHrPBOWHUNpPzou0dL/view?usp=sharing'\n",
            "/bin/bash: -c: line 0: `[](https://drive.google.com/file/d/14IggvPIO7AcqxXvHrPBOWHUNpPzou0dL/view?usp=sharing)'\n"
          ],
          "name": "stdout"
        }
      ]
    },
    {
      "cell_type": "code",
      "metadata": {
        "id": "xQ8vUh3_lfiu",
        "colab": {
          "base_uri": "https://localhost:8080/"
        },
        "outputId": "65c9ed0c-b2e9-4629-a0c3-3f8f29068c07"
      },
      "source": [
        "![picture](https://drive.google.com/file/d/17JW0ECH_R22U0p2OIP_AD7i3ffTk7bRP/view)"
      ],
      "execution_count": 76,
      "outputs": [
        {
          "output_type": "stream",
          "text": [
            "/bin/bash: -c: line 0: syntax error near unexpected token `https://drive.google.com/file/d/17JW0ECH_R22U0p2OIP_AD7i3ffTk7bRP/view'\n",
            "/bin/bash: -c: line 0: `[](https://drive.google.com/file/d/17JW0ECH_R22U0p2OIP_AD7i3ffTk7bRP/view)'\n"
          ],
          "name": "stdout"
        }
      ]
    },
    {
      "cell_type": "code",
      "metadata": {
        "id": "cSecmyQ1xZP-"
      },
      "source": [
        ""
      ],
      "execution_count": null,
      "outputs": []
    },
    {
      "cell_type": "markdown",
      "metadata": {
        "id": "wtu1b1UPxilW"
      },
      "source": [
        "# Diagnóstico dos resultados dos treinamentos"
      ]
    },
    {
      "cell_type": "code",
      "metadata": {
        "id": "hgtx7IuZxlsJ"
      },
      "source": [
        ""
      ],
      "execution_count": null,
      "outputs": []
    }
  ]
}