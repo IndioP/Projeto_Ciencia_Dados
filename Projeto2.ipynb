{
  "nbformat": 4,
  "nbformat_minor": 0,
  "metadata": {
    "colab": {
      "name": "Copy of projeto2 ciencia de dados.ipynb",
      "provenance": [],
      "collapsed_sections": []
    },
    "kernelspec": {
      "display_name": "Python 3",
      "name": "python3"
    },
    "language_info": {
      "name": "python"
    }
  },
  "cells": [
    {
      "cell_type": "code",
      "metadata": {
        "id": "kTn9BlhDdhIV",
        "outputId": "a46ead07-de98-440f-a3e5-6690c7b49395",
        "colab": {
          "base_uri": "https://localhost:8080/"
        }
      },
      "source": [
        "!pip install mlflow --quiet\n",
        "!pip install pyngrok --quiet\n",
        "\n",
        "import matplotlib.pyplot as plt\n",
        "from scipy import stats\n",
        "import seaborn as sns\n",
        "import pandas as pd\n",
        "import numpy as np\n",
        "import mlflow"
      ],
      "execution_count": 1,
      "outputs": [
        {
          "output_type": "stream",
          "text": [
            "\u001b[K     |████████████████████████████████| 14.4 MB 63 kB/s \n",
            "\u001b[K     |████████████████████████████████| 79 kB 7.6 MB/s \n",
            "\u001b[K     |████████████████████████████████| 636 kB 31.1 MB/s \n",
            "\u001b[K     |████████████████████████████████| 146 kB 50.4 MB/s \n",
            "\u001b[K     |████████████████████████████████| 56 kB 4.4 MB/s \n",
            "\u001b[K     |████████████████████████████████| 170 kB 42.2 MB/s \n",
            "\u001b[K     |████████████████████████████████| 1.1 MB 30.9 MB/s \n",
            "\u001b[K     |████████████████████████████████| 75 kB 4.4 MB/s \n",
            "\u001b[K     |████████████████████████████████| 52 kB 1.1 MB/s \n",
            "\u001b[K     |████████████████████████████████| 63 kB 1.8 MB/s \n",
            "\u001b[?25h  Building wheel for alembic (setup.py) ... \u001b[?25l\u001b[?25hdone\n",
            "  Building wheel for databricks-cli (setup.py) ... \u001b[?25l\u001b[?25hdone\n",
            "  Building wheel for prometheus-flask-exporter (setup.py) ... \u001b[?25l\u001b[?25hdone\n",
            "\u001b[K     |████████████████████████████████| 746 kB 8.1 MB/s \n",
            "\u001b[?25h  Building wheel for pyngrok (setup.py) ... \u001b[?25l\u001b[?25hdone\n"
          ],
          "name": "stdout"
        }
      ]
    },
    {
      "cell_type": "code",
      "metadata": {
        "colab": {
          "base_uri": "https://localhost:8080/"
        },
        "id": "RcUFTwZB7LnN",
        "outputId": "cca4a4f2-dd62-464c-a298-dca58628b81a"
      },
      "source": [
        "from google.colab import drive\n",
        "drive.mount('/content/drive')"
      ],
      "execution_count": 2,
      "outputs": [
        {
          "output_type": "stream",
          "text": [
            "Mounted at /content/drive\n"
          ],
          "name": "stdout"
        }
      ]
    },
    {
      "cell_type": "code",
      "metadata": {
        "id": "ZJU-z0kd7EpK"
      },
      "source": [
        "acidentes = pd.read_csv(\"/content/drive/MyDrive/ciencia-de-dados/dataset preprocessado/acidentes.csv\",delimiter = ';')"
      ],
      "execution_count": 3,
      "outputs": []
    },
    {
      "cell_type": "code",
      "metadata": {
        "id": "autU7r6ueed4"
      },
      "source": [
        "#acidentes=pd.read_csv(\"acidentes.csv\")"
      ],
      "execution_count": 4,
      "outputs": []
    },
    {
      "cell_type": "code",
      "metadata": {
        "colab": {
          "base_uri": "https://localhost:8080/",
          "height": 438
        },
        "id": "eybt3VDMevWU",
        "outputId": "1a223643-b17a-4787-f9be-f5abc50e0e6c"
      },
      "source": [
        "acidentes.head()"
      ],
      "execution_count": 5,
      "outputs": [
        {
          "output_type": "execute_result",
          "data": {
            "text/html": [
              "<div>\n",
              "<style scoped>\n",
              "    .dataframe tbody tr th:only-of-type {\n",
              "        vertical-align: middle;\n",
              "    }\n",
              "\n",
              "    .dataframe tbody tr th {\n",
              "        vertical-align: top;\n",
              "    }\n",
              "\n",
              "    .dataframe thead th {\n",
              "        text-align: right;\n",
              "    }\n",
              "</style>\n",
              "<table border=\"1\" class=\"dataframe\">\n",
              "  <thead>\n",
              "    <tr style=\"text-align: right;\">\n",
              "      <th></th>\n",
              "      <th>Unnamed: 0</th>\n",
              "      <th>DATA</th>\n",
              "      <th>HORA</th>\n",
              "      <th>NATUREZA_ACIDENTE</th>\n",
              "      <th>SITUACAO</th>\n",
              "      <th>BAIRRO</th>\n",
              "      <th>ENDERECO</th>\n",
              "      <th>COMPLEMENTO</th>\n",
              "      <th>BAIRRO_CRUZAMENTO</th>\n",
              "      <th>TIPO</th>\n",
              "      <th>DESCRICAO</th>\n",
              "      <th>AUTO</th>\n",
              "      <th>MOTO</th>\n",
              "      <th>CICLOM</th>\n",
              "      <th>CICLISTA</th>\n",
              "      <th>PEDESTRE</th>\n",
              "      <th>ONIBUS</th>\n",
              "      <th>CAMINHAO</th>\n",
              "      <th>VIATURA</th>\n",
              "      <th>OUTROS</th>\n",
              "      <th>VITIMAS</th>\n",
              "      <th>VITIMASFATAIS</th>\n",
              "      <th>ACIDENTE_VERIFICADO</th>\n",
              "      <th>TEMPO_CLIMA</th>\n",
              "      <th>SITUACAO_SEMAFORO</th>\n",
              "      <th>SINALIZACAO</th>\n",
              "      <th>CONDICAO_VIA</th>\n",
              "      <th>CONSERVACAO_VIA</th>\n",
              "      <th>PONTO_CONTROLE</th>\n",
              "      <th>SITUACAO_PLACA</th>\n",
              "      <th>VELOCIDADE_MAX_VIA</th>\n",
              "      <th>MAO_DIRECAO</th>\n",
              "      <th>DIVISAO_VIA1</th>\n",
              "      <th>PERIODO_DO_DIA</th>\n",
              "      <th>DIA_DA_SEMANA</th>\n",
              "      <th>ANO</th>\n",
              "      <th>MES</th>\n",
              "      <th>QTD_ACIDENTES</th>\n",
              "    </tr>\n",
              "  </thead>\n",
              "  <tbody>\n",
              "    <tr>\n",
              "      <th>0</th>\n",
              "      <td>0</td>\n",
              "      <td>2015-12-03</td>\n",
              "      <td>11</td>\n",
              "      <td>SEM VITIMA</td>\n",
              "      <td>CANCELADA</td>\n",
              "      <td>CASA AMARELA</td>\n",
              "      <td>AV NORTE</td>\n",
              "      <td>SENTIDO SUBURBIO   E/F AO SESC</td>\n",
              "      <td>SEM INFORMACAO</td>\n",
              "      <td>COLISAO</td>\n",
              "      <td>COLISAO SEM VITIMAS</td>\n",
              "      <td>0.0</td>\n",
              "      <td>0.0</td>\n",
              "      <td>0.0</td>\n",
              "      <td>0.0</td>\n",
              "      <td>0.0</td>\n",
              "      <td>0.0</td>\n",
              "      <td>0.0</td>\n",
              "      <td>0.0</td>\n",
              "      <td>0.0</td>\n",
              "      <td>0.0</td>\n",
              "      <td>0.0</td>\n",
              "      <td>SEM INFORMACAO</td>\n",
              "      <td>SEM INFORMACAO</td>\n",
              "      <td>SEM INFORMACAO</td>\n",
              "      <td>SEM INFORMACAO</td>\n",
              "      <td>SEM INFORMACAO</td>\n",
              "      <td>SEM INFORMACAO</td>\n",
              "      <td>SEM INFORMACAO</td>\n",
              "      <td>SEM INFORMACAO</td>\n",
              "      <td>SEM INFORMACAO</td>\n",
              "      <td>SEM INFORMACAO</td>\n",
              "      <td>SEM INFORMACAO</td>\n",
              "      <td>MANHA</td>\n",
              "      <td>QUINTA</td>\n",
              "      <td>2015</td>\n",
              "      <td>12</td>\n",
              "      <td>1</td>\n",
              "    </tr>\n",
              "    <tr>\n",
              "      <th>1</th>\n",
              "      <td>1</td>\n",
              "      <td>2015-06-01</td>\n",
              "      <td>6</td>\n",
              "      <td>SEM VITIMA</td>\n",
              "      <td>FINALIZADA</td>\n",
              "      <td>ENCRUZILHADA</td>\n",
              "      <td>EST DE BELEM</td>\n",
              "      <td>IGREJA BATISTA MEMORIAL DE BELEM</td>\n",
              "      <td>SEM INFORMACAO</td>\n",
              "      <td>COLISAO</td>\n",
              "      <td>SEM VITIMAS</td>\n",
              "      <td>0.0</td>\n",
              "      <td>2.0</td>\n",
              "      <td>0.0</td>\n",
              "      <td>0.0</td>\n",
              "      <td>0.0</td>\n",
              "      <td>0.0</td>\n",
              "      <td>0.0</td>\n",
              "      <td>0.0</td>\n",
              "      <td>0.0</td>\n",
              "      <td>0.0</td>\n",
              "      <td>0.0</td>\n",
              "      <td>SEM INFORMACAO</td>\n",
              "      <td>SEM INFORMACAO</td>\n",
              "      <td>SEM INFORMACAO</td>\n",
              "      <td>SEM INFORMACAO</td>\n",
              "      <td>SEM INFORMACAO</td>\n",
              "      <td>SEM INFORMACAO</td>\n",
              "      <td>SEM INFORMACAO</td>\n",
              "      <td>SEM INFORMACAO</td>\n",
              "      <td>SEM INFORMACAO</td>\n",
              "      <td>SEM INFORMACAO</td>\n",
              "      <td>SEM INFORMACAO</td>\n",
              "      <td>MANHA</td>\n",
              "      <td>SEGUNDA</td>\n",
              "      <td>2015</td>\n",
              "      <td>6</td>\n",
              "      <td>1</td>\n",
              "    </tr>\n",
              "    <tr>\n",
              "      <th>2</th>\n",
              "      <td>2</td>\n",
              "      <td>2015-06-01</td>\n",
              "      <td>8</td>\n",
              "      <td>SEM VITIMA</td>\n",
              "      <td>FINALIZADA</td>\n",
              "      <td>BOA VIAGEM</td>\n",
              "      <td>RUA ERNESTO DE PAULA SANTOS</td>\n",
              "      <td>SEMAFORO NO217</td>\n",
              "      <td>SEM INFORMACAO</td>\n",
              "      <td>COLISAO</td>\n",
              "      <td>SEM VITIMA</td>\n",
              "      <td>1.0</td>\n",
              "      <td>0.0</td>\n",
              "      <td>0.0</td>\n",
              "      <td>0.0</td>\n",
              "      <td>0.0</td>\n",
              "      <td>0.0</td>\n",
              "      <td>1.0</td>\n",
              "      <td>0.0</td>\n",
              "      <td>0.0</td>\n",
              "      <td>0.0</td>\n",
              "      <td>0.0</td>\n",
              "      <td>SEM INFORMACAO</td>\n",
              "      <td>SEM INFORMACAO</td>\n",
              "      <td>SEM INFORMACAO</td>\n",
              "      <td>SEM INFORMACAO</td>\n",
              "      <td>SEM INFORMACAO</td>\n",
              "      <td>SEM INFORMACAO</td>\n",
              "      <td>SEM INFORMACAO</td>\n",
              "      <td>SEM INFORMACAO</td>\n",
              "      <td>SEM INFORMACAO</td>\n",
              "      <td>SEM INFORMACAO</td>\n",
              "      <td>SEM INFORMACAO</td>\n",
              "      <td>MANHA</td>\n",
              "      <td>SEGUNDA</td>\n",
              "      <td>2015</td>\n",
              "      <td>6</td>\n",
              "      <td>1</td>\n",
              "    </tr>\n",
              "    <tr>\n",
              "      <th>3</th>\n",
              "      <td>3</td>\n",
              "      <td>2015-06-01</td>\n",
              "      <td>8</td>\n",
              "      <td>SEM VITIMA</td>\n",
              "      <td>FINALIZADA</td>\n",
              "      <td>AFOGADOS</td>\n",
              "      <td>AV SUL</td>\n",
              "      <td>AO LADO DA ESTACAO LARGO DA PAZ</td>\n",
              "      <td>SEM INFORMACAO</td>\n",
              "      <td>COLISAO</td>\n",
              "      <td>COLISAO S/V</td>\n",
              "      <td>1.0</td>\n",
              "      <td>0.0</td>\n",
              "      <td>0.0</td>\n",
              "      <td>0.0</td>\n",
              "      <td>0.0</td>\n",
              "      <td>0.0</td>\n",
              "      <td>1.0</td>\n",
              "      <td>0.0</td>\n",
              "      <td>0.0</td>\n",
              "      <td>0.0</td>\n",
              "      <td>0.0</td>\n",
              "      <td>SEM INFORMACAO</td>\n",
              "      <td>SEM INFORMACAO</td>\n",
              "      <td>SEM INFORMACAO</td>\n",
              "      <td>SEM INFORMACAO</td>\n",
              "      <td>SEM INFORMACAO</td>\n",
              "      <td>SEM INFORMACAO</td>\n",
              "      <td>SEM INFORMACAO</td>\n",
              "      <td>SEM INFORMACAO</td>\n",
              "      <td>SEM INFORMACAO</td>\n",
              "      <td>SEM INFORMACAO</td>\n",
              "      <td>SEM INFORMACAO</td>\n",
              "      <td>MANHA</td>\n",
              "      <td>SEGUNDA</td>\n",
              "      <td>2015</td>\n",
              "      <td>6</td>\n",
              "      <td>1</td>\n",
              "    </tr>\n",
              "    <tr>\n",
              "      <th>4</th>\n",
              "      <td>4</td>\n",
              "      <td>2015-06-01</td>\n",
              "      <td>8</td>\n",
              "      <td>SEM VITIMA</td>\n",
              "      <td>CANCELADA</td>\n",
              "      <td>MADALENA</td>\n",
              "      <td>RUA BENFICA</td>\n",
              "      <td>EM  FRENTE AO CLUBE INTERNACIONAL</td>\n",
              "      <td>SEM INFORMACAO</td>\n",
              "      <td>COLISAO</td>\n",
              "      <td>GM RIBEIRO JA NO LOCAL VT 05</td>\n",
              "      <td>2.0</td>\n",
              "      <td>0.0</td>\n",
              "      <td>0.0</td>\n",
              "      <td>0.0</td>\n",
              "      <td>0.0</td>\n",
              "      <td>0.0</td>\n",
              "      <td>0.0</td>\n",
              "      <td>0.0</td>\n",
              "      <td>0.0</td>\n",
              "      <td>0.0</td>\n",
              "      <td>0.0</td>\n",
              "      <td>SEM INFORMACAO</td>\n",
              "      <td>SEM INFORMACAO</td>\n",
              "      <td>SEM INFORMACAO</td>\n",
              "      <td>SEM INFORMACAO</td>\n",
              "      <td>SEM INFORMACAO</td>\n",
              "      <td>SEM INFORMACAO</td>\n",
              "      <td>SEM INFORMACAO</td>\n",
              "      <td>SEM INFORMACAO</td>\n",
              "      <td>SEM INFORMACAO</td>\n",
              "      <td>SEM INFORMACAO</td>\n",
              "      <td>SEM INFORMACAO</td>\n",
              "      <td>MANHA</td>\n",
              "      <td>SEGUNDA</td>\n",
              "      <td>2015</td>\n",
              "      <td>6</td>\n",
              "      <td>1</td>\n",
              "    </tr>\n",
              "  </tbody>\n",
              "</table>\n",
              "</div>"
            ],
            "text/plain": [
              "   Unnamed: 0        DATA  HORA  ...   ANO MES QTD_ACIDENTES\n",
              "0           0  2015-12-03    11  ...  2015  12             1\n",
              "1           1  2015-06-01     6  ...  2015   6             1\n",
              "2           2  2015-06-01     8  ...  2015   6             1\n",
              "3           3  2015-06-01     8  ...  2015   6             1\n",
              "4           4  2015-06-01     8  ...  2015   6             1\n",
              "\n",
              "[5 rows x 38 columns]"
            ]
          },
          "metadata": {
            "tags": []
          },
          "execution_count": 5
        }
      ]
    },
    {
      "cell_type": "code",
      "metadata": {
        "id": "bIdZEHMK1fMG"
      },
      "source": [
        "acidentes['NATUREZA_ACIDENTE'] = acidentes['NATUREZA_ACIDENTE'].replace('VITIMA FATAL', 'COM VITIMA')\n",
        "acidentes['NATUREZA_ACIDENTE'] = acidentes['NATUREZA_ACIDENTE'].replace('SEM INFORMACAO', np.NaN)\n",
        "acidentes['NATUREZA_ACIDENTE'] = acidentes['NATUREZA_ACIDENTE'].replace('ENTRADA E SAIDA', np.NaN)\n",
        "acidentes['NATUREZA_ACIDENTE'] = acidentes['NATUREZA_ACIDENTE'].replace('APOIO', np.NaN)"
      ],
      "execution_count": 6,
      "outputs": []
    },
    {
      "cell_type": "code",
      "metadata": {
        "id": "v3RDMfaehM6B"
      },
      "source": [
        "df = acidentes[['NATUREZA_ACIDENTE','TIPO', 'AUTO', 'MOTO', 'CICLOM', 'CICLISTA','PEDESTRE','ONIBUS','CAMINHAO','VIATURA','TEMPO_CLIMA','SITUACAO_SEMAFORO','SINALIZACAO','CONDICAO_VIA','CONSERVACAO_VIA','PERIODO_DO_DIA']]"
      ],
      "execution_count": 7,
      "outputs": []
    },
    {
      "cell_type": "code",
      "metadata": {
        "colab": {
          "base_uri": "https://localhost:8080/",
          "height": 305
        },
        "id": "fX7-7QbbiG1j",
        "outputId": "d39b866f-1f64-49a1-f28c-0b5d5249c7d8"
      },
      "source": [
        "df.head()"
      ],
      "execution_count": 8,
      "outputs": [
        {
          "output_type": "execute_result",
          "data": {
            "text/html": [
              "<div>\n",
              "<style scoped>\n",
              "    .dataframe tbody tr th:only-of-type {\n",
              "        vertical-align: middle;\n",
              "    }\n",
              "\n",
              "    .dataframe tbody tr th {\n",
              "        vertical-align: top;\n",
              "    }\n",
              "\n",
              "    .dataframe thead th {\n",
              "        text-align: right;\n",
              "    }\n",
              "</style>\n",
              "<table border=\"1\" class=\"dataframe\">\n",
              "  <thead>\n",
              "    <tr style=\"text-align: right;\">\n",
              "      <th></th>\n",
              "      <th>NATUREZA_ACIDENTE</th>\n",
              "      <th>TIPO</th>\n",
              "      <th>AUTO</th>\n",
              "      <th>MOTO</th>\n",
              "      <th>CICLOM</th>\n",
              "      <th>CICLISTA</th>\n",
              "      <th>PEDESTRE</th>\n",
              "      <th>ONIBUS</th>\n",
              "      <th>CAMINHAO</th>\n",
              "      <th>VIATURA</th>\n",
              "      <th>TEMPO_CLIMA</th>\n",
              "      <th>SITUACAO_SEMAFORO</th>\n",
              "      <th>SINALIZACAO</th>\n",
              "      <th>CONDICAO_VIA</th>\n",
              "      <th>CONSERVACAO_VIA</th>\n",
              "      <th>PERIODO_DO_DIA</th>\n",
              "    </tr>\n",
              "  </thead>\n",
              "  <tbody>\n",
              "    <tr>\n",
              "      <th>0</th>\n",
              "      <td>SEM VITIMA</td>\n",
              "      <td>COLISAO</td>\n",
              "      <td>0.0</td>\n",
              "      <td>0.0</td>\n",
              "      <td>0.0</td>\n",
              "      <td>0.0</td>\n",
              "      <td>0.0</td>\n",
              "      <td>0.0</td>\n",
              "      <td>0.0</td>\n",
              "      <td>0.0</td>\n",
              "      <td>SEM INFORMACAO</td>\n",
              "      <td>SEM INFORMACAO</td>\n",
              "      <td>SEM INFORMACAO</td>\n",
              "      <td>SEM INFORMACAO</td>\n",
              "      <td>SEM INFORMACAO</td>\n",
              "      <td>MANHA</td>\n",
              "    </tr>\n",
              "    <tr>\n",
              "      <th>1</th>\n",
              "      <td>SEM VITIMA</td>\n",
              "      <td>COLISAO</td>\n",
              "      <td>0.0</td>\n",
              "      <td>2.0</td>\n",
              "      <td>0.0</td>\n",
              "      <td>0.0</td>\n",
              "      <td>0.0</td>\n",
              "      <td>0.0</td>\n",
              "      <td>0.0</td>\n",
              "      <td>0.0</td>\n",
              "      <td>SEM INFORMACAO</td>\n",
              "      <td>SEM INFORMACAO</td>\n",
              "      <td>SEM INFORMACAO</td>\n",
              "      <td>SEM INFORMACAO</td>\n",
              "      <td>SEM INFORMACAO</td>\n",
              "      <td>MANHA</td>\n",
              "    </tr>\n",
              "    <tr>\n",
              "      <th>2</th>\n",
              "      <td>SEM VITIMA</td>\n",
              "      <td>COLISAO</td>\n",
              "      <td>1.0</td>\n",
              "      <td>0.0</td>\n",
              "      <td>0.0</td>\n",
              "      <td>0.0</td>\n",
              "      <td>0.0</td>\n",
              "      <td>0.0</td>\n",
              "      <td>1.0</td>\n",
              "      <td>0.0</td>\n",
              "      <td>SEM INFORMACAO</td>\n",
              "      <td>SEM INFORMACAO</td>\n",
              "      <td>SEM INFORMACAO</td>\n",
              "      <td>SEM INFORMACAO</td>\n",
              "      <td>SEM INFORMACAO</td>\n",
              "      <td>MANHA</td>\n",
              "    </tr>\n",
              "    <tr>\n",
              "      <th>3</th>\n",
              "      <td>SEM VITIMA</td>\n",
              "      <td>COLISAO</td>\n",
              "      <td>1.0</td>\n",
              "      <td>0.0</td>\n",
              "      <td>0.0</td>\n",
              "      <td>0.0</td>\n",
              "      <td>0.0</td>\n",
              "      <td>0.0</td>\n",
              "      <td>1.0</td>\n",
              "      <td>0.0</td>\n",
              "      <td>SEM INFORMACAO</td>\n",
              "      <td>SEM INFORMACAO</td>\n",
              "      <td>SEM INFORMACAO</td>\n",
              "      <td>SEM INFORMACAO</td>\n",
              "      <td>SEM INFORMACAO</td>\n",
              "      <td>MANHA</td>\n",
              "    </tr>\n",
              "    <tr>\n",
              "      <th>4</th>\n",
              "      <td>SEM VITIMA</td>\n",
              "      <td>COLISAO</td>\n",
              "      <td>2.0</td>\n",
              "      <td>0.0</td>\n",
              "      <td>0.0</td>\n",
              "      <td>0.0</td>\n",
              "      <td>0.0</td>\n",
              "      <td>0.0</td>\n",
              "      <td>0.0</td>\n",
              "      <td>0.0</td>\n",
              "      <td>SEM INFORMACAO</td>\n",
              "      <td>SEM INFORMACAO</td>\n",
              "      <td>SEM INFORMACAO</td>\n",
              "      <td>SEM INFORMACAO</td>\n",
              "      <td>SEM INFORMACAO</td>\n",
              "      <td>MANHA</td>\n",
              "    </tr>\n",
              "  </tbody>\n",
              "</table>\n",
              "</div>"
            ],
            "text/plain": [
              "  NATUREZA_ACIDENTE     TIPO  ...  CONSERVACAO_VIA  PERIODO_DO_DIA\n",
              "0        SEM VITIMA  COLISAO  ...   SEM INFORMACAO           MANHA\n",
              "1        SEM VITIMA  COLISAO  ...   SEM INFORMACAO           MANHA\n",
              "2        SEM VITIMA  COLISAO  ...   SEM INFORMACAO           MANHA\n",
              "3        SEM VITIMA  COLISAO  ...   SEM INFORMACAO           MANHA\n",
              "4        SEM VITIMA  COLISAO  ...   SEM INFORMACAO           MANHA\n",
              "\n",
              "[5 rows x 16 columns]"
            ]
          },
          "metadata": {
            "tags": []
          },
          "execution_count": 8
        }
      ]
    },
    {
      "cell_type": "code",
      "metadata": {
        "colab": {
          "base_uri": "https://localhost:8080/"
        },
        "id": "-FhsZzt6mYrS",
        "outputId": "d5e9e523-ae62-4e8f-b535-c07fe390c360"
      },
      "source": [
        "df['NATUREZA_ACIDENTE'] = df['NATUREZA_ACIDENTE'].replace('SEM INFORMACAO', np.nan)\n",
        "df['TIPO'] = df['TIPO'].replace('SEM INFORMACAO', np.nan)\n",
        "df['TEMPO_CLIMA'] = df['TEMPO_CLIMA'].replace('SEM INFORMACAO', np.nan)\n",
        "df['SINALIZACAO'] = df['SINALIZACAO'].replace('SEM INFORMACAO', np.nan)\n",
        "df['CONDICAO_VIA'] = df['CONDICAO_VIA'].replace('SEM INFORMACAO', np.nan)\n",
        "df['CONSERVACAO_VIA'] = df['CONSERVACAO_VIA'].replace('SEM INFORMACAO', np.nan)\n",
        "#df['SITUACAO_PLACA'] = df['SITUACAO_PLACA'].replace('SEM INFORMACAO', np.nan)\n",
        "#df['VELOCIDADE_MAX_VIA'] = df['VELOCIDADE_MAX_VIA'].replace('SEM INFORMACAO', np.nan)\n",
        "df['PERIODO_DO_DIA'] = df['PERIODO_DO_DIA'].replace('SEM INFORMACAO', np.nan)"
      ],
      "execution_count": 9,
      "outputs": [
        {
          "output_type": "stream",
          "text": [
            "/usr/local/lib/python3.7/dist-packages/ipykernel_launcher.py:1: SettingWithCopyWarning: \n",
            "A value is trying to be set on a copy of a slice from a DataFrame.\n",
            "Try using .loc[row_indexer,col_indexer] = value instead\n",
            "\n",
            "See the caveats in the documentation: https://pandas.pydata.org/pandas-docs/stable/user_guide/indexing.html#returning-a-view-versus-a-copy\n",
            "  \"\"\"Entry point for launching an IPython kernel.\n",
            "/usr/local/lib/python3.7/dist-packages/ipykernel_launcher.py:2: SettingWithCopyWarning: \n",
            "A value is trying to be set on a copy of a slice from a DataFrame.\n",
            "Try using .loc[row_indexer,col_indexer] = value instead\n",
            "\n",
            "See the caveats in the documentation: https://pandas.pydata.org/pandas-docs/stable/user_guide/indexing.html#returning-a-view-versus-a-copy\n",
            "  \n",
            "/usr/local/lib/python3.7/dist-packages/ipykernel_launcher.py:3: SettingWithCopyWarning: \n",
            "A value is trying to be set on a copy of a slice from a DataFrame.\n",
            "Try using .loc[row_indexer,col_indexer] = value instead\n",
            "\n",
            "See the caveats in the documentation: https://pandas.pydata.org/pandas-docs/stable/user_guide/indexing.html#returning-a-view-versus-a-copy\n",
            "  This is separate from the ipykernel package so we can avoid doing imports until\n",
            "/usr/local/lib/python3.7/dist-packages/ipykernel_launcher.py:4: SettingWithCopyWarning: \n",
            "A value is trying to be set on a copy of a slice from a DataFrame.\n",
            "Try using .loc[row_indexer,col_indexer] = value instead\n",
            "\n",
            "See the caveats in the documentation: https://pandas.pydata.org/pandas-docs/stable/user_guide/indexing.html#returning-a-view-versus-a-copy\n",
            "  after removing the cwd from sys.path.\n",
            "/usr/local/lib/python3.7/dist-packages/ipykernel_launcher.py:5: SettingWithCopyWarning: \n",
            "A value is trying to be set on a copy of a slice from a DataFrame.\n",
            "Try using .loc[row_indexer,col_indexer] = value instead\n",
            "\n",
            "See the caveats in the documentation: https://pandas.pydata.org/pandas-docs/stable/user_guide/indexing.html#returning-a-view-versus-a-copy\n",
            "  \"\"\"\n",
            "/usr/local/lib/python3.7/dist-packages/ipykernel_launcher.py:6: SettingWithCopyWarning: \n",
            "A value is trying to be set on a copy of a slice from a DataFrame.\n",
            "Try using .loc[row_indexer,col_indexer] = value instead\n",
            "\n",
            "See the caveats in the documentation: https://pandas.pydata.org/pandas-docs/stable/user_guide/indexing.html#returning-a-view-versus-a-copy\n",
            "  \n",
            "/usr/local/lib/python3.7/dist-packages/ipykernel_launcher.py:9: SettingWithCopyWarning: \n",
            "A value is trying to be set on a copy of a slice from a DataFrame.\n",
            "Try using .loc[row_indexer,col_indexer] = value instead\n",
            "\n",
            "See the caveats in the documentation: https://pandas.pydata.org/pandas-docs/stable/user_guide/indexing.html#returning-a-view-versus-a-copy\n",
            "  if __name__ == '__main__':\n"
          ],
          "name": "stderr"
        }
      ]
    },
    {
      "cell_type": "code",
      "metadata": {
        "colab": {
          "base_uri": "https://localhost:8080/"
        },
        "id": "lmR1oLBrmo0m",
        "outputId": "85484e7c-ff5f-427f-d00c-adc9ec287b1d"
      },
      "source": [
        "print(df.isnull().sum()/len(df))"
      ],
      "execution_count": 10,
      "outputs": [
        {
          "output_type": "stream",
          "text": [
            "NATUREZA_ACIDENTE    0.007309\n",
            "TIPO                 0.000983\n",
            "AUTO                 0.000000\n",
            "MOTO                 0.000000\n",
            "CICLOM               0.000000\n",
            "CICLISTA             0.000000\n",
            "PEDESTRE             0.000000\n",
            "ONIBUS               0.000000\n",
            "CAMINHAO             0.000000\n",
            "VIATURA              0.000000\n",
            "TEMPO_CLIMA          0.739553\n",
            "SITUACAO_SEMAFORO    0.000000\n",
            "SINALIZACAO          0.744415\n",
            "CONDICAO_VIA         0.740381\n",
            "CONSERVACAO_VIA      0.744087\n",
            "PERIODO_DO_DIA       0.000000\n",
            "dtype: float64\n"
          ],
          "name": "stdout"
        }
      ]
    },
    {
      "cell_type": "code",
      "metadata": {
        "id": "ExY3-D-uqj3Y"
      },
      "source": [
        "df = df[df['CONSERVACAO_VIA'].notna()]\n",
        "df = df[df['SINALIZACAO'].notna()]\n",
        "df = df[df['CONDICAO_VIA'].notna()]\n",
        "df = df[df['TEMPO_CLIMA'].notna()]\n",
        "df = df[df['NATUREZA_ACIDENTE'].notna()]"
      ],
      "execution_count": 11,
      "outputs": []
    },
    {
      "cell_type": "code",
      "metadata": {
        "colab": {
          "base_uri": "https://localhost:8080/"
        },
        "id": "VGw42p-uqoOA",
        "outputId": "91bedba9-add1-4303-8317-d627cf5a263e"
      },
      "source": [
        "len(df)"
      ],
      "execution_count": 12,
      "outputs": [
        {
          "output_type": "execute_result",
          "data": {
            "text/plain": [
              "14568"
            ]
          },
          "metadata": {
            "tags": []
          },
          "execution_count": 12
        }
      ]
    },
    {
      "cell_type": "code",
      "metadata": {
        "colab": {
          "base_uri": "https://localhost:8080/"
        },
        "id": "90k86hfCsQeg",
        "outputId": "5a69e2e9-63b5-42ce-b29b-9948cad53592"
      },
      "source": [
        "print(df.isnull().sum()/len(df))"
      ],
      "execution_count": 13,
      "outputs": [
        {
          "output_type": "stream",
          "text": [
            "NATUREZA_ACIDENTE    0.0\n",
            "TIPO                 0.0\n",
            "AUTO                 0.0\n",
            "MOTO                 0.0\n",
            "CICLOM               0.0\n",
            "CICLISTA             0.0\n",
            "PEDESTRE             0.0\n",
            "ONIBUS               0.0\n",
            "CAMINHAO             0.0\n",
            "VIATURA              0.0\n",
            "TEMPO_CLIMA          0.0\n",
            "SITUACAO_SEMAFORO    0.0\n",
            "SINALIZACAO          0.0\n",
            "CONDICAO_VIA         0.0\n",
            "CONSERVACAO_VIA      0.0\n",
            "PERIODO_DO_DIA       0.0\n",
            "dtype: float64\n"
          ],
          "name": "stdout"
        }
      ]
    },
    {
      "cell_type": "code",
      "metadata": {
        "colab": {
          "base_uri": "https://localhost:8080/",
          "height": 322
        },
        "id": "LdIBsQTqJpM-",
        "outputId": "7302bd8d-cf83-4929-c3f6-20a4c682009b"
      },
      "source": [
        "df.head()"
      ],
      "execution_count": 14,
      "outputs": [
        {
          "output_type": "execute_result",
          "data": {
            "text/html": [
              "<div>\n",
              "<style scoped>\n",
              "    .dataframe tbody tr th:only-of-type {\n",
              "        vertical-align: middle;\n",
              "    }\n",
              "\n",
              "    .dataframe tbody tr th {\n",
              "        vertical-align: top;\n",
              "    }\n",
              "\n",
              "    .dataframe thead th {\n",
              "        text-align: right;\n",
              "    }\n",
              "</style>\n",
              "<table border=\"1\" class=\"dataframe\">\n",
              "  <thead>\n",
              "    <tr style=\"text-align: right;\">\n",
              "      <th></th>\n",
              "      <th>NATUREZA_ACIDENTE</th>\n",
              "      <th>TIPO</th>\n",
              "      <th>AUTO</th>\n",
              "      <th>MOTO</th>\n",
              "      <th>CICLOM</th>\n",
              "      <th>CICLISTA</th>\n",
              "      <th>PEDESTRE</th>\n",
              "      <th>ONIBUS</th>\n",
              "      <th>CAMINHAO</th>\n",
              "      <th>VIATURA</th>\n",
              "      <th>TEMPO_CLIMA</th>\n",
              "      <th>SITUACAO_SEMAFORO</th>\n",
              "      <th>SINALIZACAO</th>\n",
              "      <th>CONDICAO_VIA</th>\n",
              "      <th>CONSERVACAO_VIA</th>\n",
              "      <th>PERIODO_DO_DIA</th>\n",
              "    </tr>\n",
              "  </thead>\n",
              "  <tbody>\n",
              "    <tr>\n",
              "      <th>38916</th>\n",
              "      <td>SEM VITIMA</td>\n",
              "      <td>ABALROAMENTO LONGITUDINAL</td>\n",
              "      <td>2.0</td>\n",
              "      <td>0.0</td>\n",
              "      <td>0.0</td>\n",
              "      <td>0.0</td>\n",
              "      <td>0.0</td>\n",
              "      <td>0.0</td>\n",
              "      <td>0.0</td>\n",
              "      <td>0.0</td>\n",
              "      <td>BOM</td>\n",
              "      <td>SEM DEFEITO</td>\n",
              "      <td>PERFEITO ESTADO</td>\n",
              "      <td>SECA</td>\n",
              "      <td>PERFEITO ESTADO</td>\n",
              "      <td>MADRUGADA</td>\n",
              "    </tr>\n",
              "    <tr>\n",
              "      <th>38919</th>\n",
              "      <td>SEM VITIMA</td>\n",
              "      <td>COLISAO TRASEIRA</td>\n",
              "      <td>2.0</td>\n",
              "      <td>0.0</td>\n",
              "      <td>0.0</td>\n",
              "      <td>0.0</td>\n",
              "      <td>0.0</td>\n",
              "      <td>0.0</td>\n",
              "      <td>0.0</td>\n",
              "      <td>0.0</td>\n",
              "      <td>BOM</td>\n",
              "      <td>NAO EXISTE</td>\n",
              "      <td>NAO EXISTENTE</td>\n",
              "      <td>SECA</td>\n",
              "      <td>PERFEITO ESTADO</td>\n",
              "      <td>MANHA</td>\n",
              "    </tr>\n",
              "    <tr>\n",
              "      <th>38920</th>\n",
              "      <td>SEM VITIMA</td>\n",
              "      <td>COLISAO TRASEIRA</td>\n",
              "      <td>2.0</td>\n",
              "      <td>0.0</td>\n",
              "      <td>0.0</td>\n",
              "      <td>0.0</td>\n",
              "      <td>0.0</td>\n",
              "      <td>0.0</td>\n",
              "      <td>0.0</td>\n",
              "      <td>0.0</td>\n",
              "      <td>BOM</td>\n",
              "      <td>SEM DEFEITO</td>\n",
              "      <td>PERFEITO ESTADO</td>\n",
              "      <td>SECA</td>\n",
              "      <td>PERFEITO ESTADO</td>\n",
              "      <td>MANHA</td>\n",
              "    </tr>\n",
              "    <tr>\n",
              "      <th>38921</th>\n",
              "      <td>SEM VITIMA</td>\n",
              "      <td>ABALROAMENTO LONGITUDINAL</td>\n",
              "      <td>0.0</td>\n",
              "      <td>0.0</td>\n",
              "      <td>0.0</td>\n",
              "      <td>0.0</td>\n",
              "      <td>0.0</td>\n",
              "      <td>1.0</td>\n",
              "      <td>1.0</td>\n",
              "      <td>0.0</td>\n",
              "      <td>BOM</td>\n",
              "      <td>NAO EXISTE</td>\n",
              "      <td>PERFEITO ESTADO</td>\n",
              "      <td>SECA</td>\n",
              "      <td>PERFEITO ESTADO</td>\n",
              "      <td>TARDE</td>\n",
              "    </tr>\n",
              "    <tr>\n",
              "      <th>38922</th>\n",
              "      <td>SEM VITIMA</td>\n",
              "      <td>CHOQUE VEICULO PARADO</td>\n",
              "      <td>2.0</td>\n",
              "      <td>0.0</td>\n",
              "      <td>0.0</td>\n",
              "      <td>0.0</td>\n",
              "      <td>0.0</td>\n",
              "      <td>0.0</td>\n",
              "      <td>0.0</td>\n",
              "      <td>0.0</td>\n",
              "      <td>BOM</td>\n",
              "      <td>NAO EXISTE</td>\n",
              "      <td>NAO EXISTENTE</td>\n",
              "      <td>SECA</td>\n",
              "      <td>PERFEITO ESTADO</td>\n",
              "      <td>TARDE</td>\n",
              "    </tr>\n",
              "  </tbody>\n",
              "</table>\n",
              "</div>"
            ],
            "text/plain": [
              "      NATUREZA_ACIDENTE  ... PERIODO_DO_DIA\n",
              "38916        SEM VITIMA  ...      MADRUGADA\n",
              "38919        SEM VITIMA  ...          MANHA\n",
              "38920        SEM VITIMA  ...          MANHA\n",
              "38921        SEM VITIMA  ...          TARDE\n",
              "38922        SEM VITIMA  ...          TARDE\n",
              "\n",
              "[5 rows x 16 columns]"
            ]
          },
          "metadata": {
            "tags": []
          },
          "execution_count": 14
        }
      ]
    },
    {
      "cell_type": "code",
      "metadata": {
        "colab": {
          "base_uri": "https://localhost:8080/"
        },
        "id": "wetLVxnyJ8Eg",
        "outputId": "b1293020-4e6c-4de1-84f0-c2922089f300"
      },
      "source": [
        "df['TIPO'].unique()"
      ],
      "execution_count": 15,
      "outputs": [
        {
          "output_type": "execute_result",
          "data": {
            "text/plain": [
              "array(['ABALROAMENTO LONGITUDINAL', 'COLISAO TRASEIRA',\n",
              "       'CHOQUE VEICULO PARADO', 'ABALROAMENTO TRANSVERSAL', 'CAPOTAMENTO',\n",
              "       'COLISAO FRONTAL', 'COLISAO COM CICLISTA', 'ATROPELAMENTO',\n",
              "       'CHOQUE OBJETO FIXO', 'ATROPELAMENTO ANIMAL', 'COLISAO',\n",
              "       'ACID  DE PERCURSO', 'CHOQUE', 'TOMBAMENTO', 'ENGAVETAMENTO'],\n",
              "      dtype=object)"
            ]
          },
          "metadata": {
            "tags": []
          },
          "execution_count": 15
        }
      ]
    },
    {
      "cell_type": "code",
      "metadata": {
        "colab": {
          "base_uri": "https://localhost:8080/"
        },
        "id": "QVFIuHpLKGiw",
        "outputId": "21170563-6694-4328-ff8e-67e0a7095269"
      },
      "source": [
        "df['TEMPO_CLIMA'].unique()"
      ],
      "execution_count": 16,
      "outputs": [
        {
          "output_type": "execute_result",
          "data": {
            "text/plain": [
              "array(['BOM', 'CHUVOSO', 'NUBLADO'], dtype=object)"
            ]
          },
          "metadata": {
            "tags": []
          },
          "execution_count": 16
        }
      ]
    },
    {
      "cell_type": "code",
      "metadata": {
        "colab": {
          "base_uri": "https://localhost:8080/"
        },
        "id": "eZcmbgsVKLli",
        "outputId": "9c9bf4f5-206c-4280-817e-7dd772834f1b"
      },
      "source": [
        "df['SITUACAO_SEMAFORO'].unique()"
      ],
      "execution_count": 17,
      "outputs": [
        {
          "output_type": "execute_result",
          "data": {
            "text/plain": [
              "array(['SEM DEFEITO', 'NAO EXISTE', 'INTERMITENTE', 'SEM INFORMACAO',\n",
              "       'COM DEFEITO', 'DESLIGADO'], dtype=object)"
            ]
          },
          "metadata": {
            "tags": []
          },
          "execution_count": 17
        }
      ]
    },
    {
      "cell_type": "code",
      "metadata": {
        "colab": {
          "base_uri": "https://localhost:8080/"
        },
        "id": "NtjDVl4_KMJ5",
        "outputId": "2668ed33-d330-4939-ec09-54f0191d324f"
      },
      "source": [
        "df['SINALIZACAO'].unique()"
      ],
      "execution_count": 18,
      "outputs": [
        {
          "output_type": "execute_result",
          "data": {
            "text/plain": [
              "array(['PERFEITO ESTADO', 'NAO EXISTENTE', 'ILEGIVEL', 'INCOMPLETA'],\n",
              "      dtype=object)"
            ]
          },
          "metadata": {
            "tags": []
          },
          "execution_count": 18
        }
      ]
    },
    {
      "cell_type": "code",
      "metadata": {
        "colab": {
          "base_uri": "https://localhost:8080/"
        },
        "id": "tHABvrCkKL8n",
        "outputId": "bb8bd873-dbbd-4c29-e129-58f5900d1201"
      },
      "source": [
        "df['CONDICAO_VIA'].unique()"
      ],
      "execution_count": 19,
      "outputs": [
        {
          "output_type": "execute_result",
          "data": {
            "text/plain": [
              "array(['SECA', 'MOLHADA', 'OUTROS', 'OLEOSA'], dtype=object)"
            ]
          },
          "metadata": {
            "tags": []
          },
          "execution_count": 19
        }
      ]
    },
    {
      "cell_type": "code",
      "metadata": {
        "colab": {
          "base_uri": "https://localhost:8080/"
        },
        "id": "WLN9ndbmKR93",
        "outputId": "63009a10-3987-4ee7-aed1-430f765c905e"
      },
      "source": [
        "df['CONSERVACAO_VIA'].unique()"
      ],
      "execution_count": 20,
      "outputs": [
        {
          "output_type": "execute_result",
          "data": {
            "text/plain": [
              "array(['PERFEITO ESTADO', 'MAL ILUMINADA', 'MAL CONSERVADA', 'NAO HA',\n",
              "       'OUTROS'], dtype=object)"
            ]
          },
          "metadata": {
            "tags": []
          },
          "execution_count": 20
        }
      ]
    },
    {
      "cell_type": "code",
      "metadata": {
        "colab": {
          "base_uri": "https://localhost:8080/"
        },
        "id": "lfbHgdIUKYRA",
        "outputId": "22e9cf40-015f-4560-8d4d-37631f1f2219"
      },
      "source": [
        "df['PERIODO_DO_DIA'].unique()"
      ],
      "execution_count": 21,
      "outputs": [
        {
          "output_type": "execute_result",
          "data": {
            "text/plain": [
              "array(['MADRUGADA', 'MANHA', 'TARDE', 'NOITE'], dtype=object)"
            ]
          },
          "metadata": {
            "tags": []
          },
          "execution_count": 21
        }
      ]
    },
    {
      "cell_type": "code",
      "metadata": {
        "id": "FDAo6RAqG6FF"
      },
      "source": [
        "from sklearn.compose import ColumnTransformer\n",
        "from sklearn.preprocessing import OneHotEncoder\n",
        "X_df = df.drop('NATUREZA_ACIDENTE', axis=1)\n",
        "ct = ColumnTransformer(transformers=[('encoder', OneHotEncoder(),[0,9,10,11,12,13,14])],remainder='passthrough')\n",
        "X_df = np.array(ct.fit_transform(X_df))"
      ],
      "execution_count": 22,
      "outputs": []
    },
    {
      "cell_type": "code",
      "metadata": {
        "colab": {
          "base_uri": "https://localhost:8080/"
        },
        "id": "MW-xEY-rHNb3",
        "outputId": "06d8d0ec-dd29-4140-a0a6-1faa6c330114"
      },
      "source": [
        "print(X_df[0])"
      ],
      "execution_count": 23,
      "outputs": [
        {
          "output_type": "stream",
          "text": [
            "[1. 0. 0. 0. 0. 0. 0. 0. 0. 0. 0. 0. 0. 0. 0. 1. 0. 0. 0. 0. 0. 0. 1. 0.\n",
            " 0. 0. 0. 1. 0. 0. 0. 1. 0. 0. 0. 0. 1. 1. 0. 0. 0. 2. 0. 0. 0. 0. 0. 0.\n",
            " 0.]\n"
          ],
          "name": "stdout"
        }
      ]
    },
    {
      "cell_type": "code",
      "metadata": {
        "id": "QZl2XJQksTLb"
      },
      "source": [
        "# Dados\n",
        "from sklearn.model_selection import train_test_split\n",
        "import seaborn as sns\n",
        "#X_df = df.drop('NATUREZA_ACIDENTE', axis=1)\n",
        "y_df = df['NATUREZA_ACIDENTE']\n",
        "Xtrain, Xtest, ytrain, ytest = train_test_split(X_df, y_df, test_size=0.2, random_state=1)\n",
        "\n",
        "Xtrain, X_val, ytrain, y_val = train_test_split(Xtrain, ytrain, test_size=0.25, random_state=1) # 0.25 x 0.8 = 0.2\n",
        "#Xtrain, Xtest, ytrain, ytest = train_test_split(X_df, y_df,\n",
        "#                                                random_state=1)"
      ],
      "execution_count": 24,
      "outputs": []
    },
    {
      "cell_type": "markdown",
      "metadata": {
        "id": "xUmiu5Vr4HqA"
      },
      "source": [
        "#GAUSSIANNB"
      ]
    },
    {
      "cell_type": "code",
      "metadata": {
        "id": "vxjj7XvRzkTg"
      },
      "source": [
        "from sklearn.naive_bayes import GaussianNB # 1. escolha da técnica\n",
        "model = GaussianNB()                       # 2. instanciação do modelo\n",
        "\n",
        "model.fit(Xtrain, ytrain)                  # 3. criação do modelo\n",
        "y_model = model.predict(Xtest)             # 4. predição em novos dados\n",
        "ypred_train = model.predict(Xtrain)  \n",
        "\n",
        "with mlflow.start_run(run_name=\"Gaussian Naive Bayes - Train\"):\n",
        "     \n",
        "  from sklearn.metrics import accuracy_score, f1_score, precision_score, recall_score\n",
        "  #print(\"ACC TRAINING:\" + str(accuracy_score(ytrain, ypred_train)))\n",
        "  #print(\"ACC TEST:\" + str(accuracy_score(ytest, y_model)))\n",
        "  mlflow.log_metric(\"Accuracy\", accuracy_score(ytrain, ypred_train))\n",
        "  mlflow.log_metric(\"Precision\", precision_score(ytrain, ypred_train, average='macro'))\n",
        "  mlflow.log_metric(\"Recall score\", recall_score(ytrain, ypred_train, average='macro'))\n",
        "  mlflow.log_metric(\"F1 score\", f1_score(ytrain, ypred_train,average='macro'))\n",
        "\n",
        "with mlflow.start_run(run_name=\"Gaussian Naive Bayes - Test\"):\n",
        "  mlflow.log_metric(\"Accuracy\", accuracy_score(ytest, y_model))\n",
        "  mlflow.log_metric(\"Precision\", precision_score(ytest, y_model, average='macro'))\n",
        "  mlflow.log_metric(\"Recall score\", recall_score(ytest, y_model, average='macro'))\n",
        "  mlflow.log_metric(\"F1 score\", f1_score(ytest, y_model,average='macro'))"
      ],
      "execution_count": 25,
      "outputs": []
    },
    {
      "cell_type": "markdown",
      "metadata": {
        "id": "vzNO8CWn4FfY"
      },
      "source": [
        "#MLP"
      ]
    },
    {
      "cell_type": "code",
      "metadata": {
        "id": "E2KfZqOWzsYO",
        "colab": {
          "base_uri": "https://localhost:8080/"
        },
        "outputId": "0bbb3675-d0e2-478c-e48a-a8d1754bafb9"
      },
      "source": [
        "from sklearn.neural_network import MLPClassifier\n",
        "model = MLPClassifier(hidden_layer_sizes=(100,100,100), max_iter=50, alpha=0.0001, solver='sgd', verbose=10,  random_state=21,tol=0.000000001)\n",
        "model.fit(Xtrain, ytrain)                 \n",
        "y_model = model.predict(Xtest)           \n",
        "ypred_train = model.predict(Xtrain)      "
      ],
      "execution_count": 26,
      "outputs": [
        {
          "output_type": "stream",
          "text": [
            "Iteration 1, loss = 0.58818649\n",
            "Iteration 2, loss = 0.52302285\n",
            "Iteration 3, loss = 0.50534097\n",
            "Iteration 4, loss = 0.48867542\n",
            "Iteration 5, loss = 0.47192654\n",
            "Iteration 6, loss = 0.45495726\n",
            "Iteration 7, loss = 0.43817591\n",
            "Iteration 8, loss = 0.42196119\n",
            "Iteration 9, loss = 0.40644047\n",
            "Iteration 10, loss = 0.39219508\n",
            "Iteration 11, loss = 0.37990464\n",
            "Iteration 12, loss = 0.36921189\n",
            "Iteration 13, loss = 0.36059302\n",
            "Iteration 14, loss = 0.35355778\n",
            "Iteration 15, loss = 0.34790613\n",
            "Iteration 16, loss = 0.34338793\n",
            "Iteration 17, loss = 0.33944440\n",
            "Iteration 18, loss = 0.33618231\n",
            "Iteration 19, loss = 0.33343200\n",
            "Iteration 20, loss = 0.33089463\n",
            "Iteration 21, loss = 0.32854247\n",
            "Iteration 22, loss = 0.32648108\n",
            "Iteration 23, loss = 0.32464116\n",
            "Iteration 24, loss = 0.32279620\n",
            "Iteration 25, loss = 0.32111168\n",
            "Iteration 26, loss = 0.31958925\n",
            "Iteration 27, loss = 0.31815491\n",
            "Iteration 28, loss = 0.31675351\n",
            "Iteration 29, loss = 0.31548677\n",
            "Iteration 30, loss = 0.31421752\n",
            "Iteration 31, loss = 0.31313802\n",
            "Iteration 32, loss = 0.31210234\n",
            "Iteration 33, loss = 0.31111977\n",
            "Iteration 34, loss = 0.31011537\n",
            "Iteration 35, loss = 0.30913621\n",
            "Iteration 36, loss = 0.30836893\n",
            "Iteration 37, loss = 0.30760406\n",
            "Iteration 38, loss = 0.30664841\n",
            "Iteration 39, loss = 0.30592858\n",
            "Iteration 40, loss = 0.30528278\n",
            "Iteration 41, loss = 0.30450803\n",
            "Iteration 42, loss = 0.30393309\n",
            "Iteration 43, loss = 0.30326748\n",
            "Iteration 44, loss = 0.30278670\n",
            "Iteration 45, loss = 0.30198635\n",
            "Iteration 46, loss = 0.30154464\n",
            "Iteration 47, loss = 0.30089913\n",
            "Iteration 48, loss = 0.30036090\n",
            "Iteration 49, loss = 0.29985331\n",
            "Iteration 50, loss = 0.29935175\n"
          ],
          "name": "stdout"
        },
        {
          "output_type": "stream",
          "text": [
            "/usr/local/lib/python3.7/dist-packages/sklearn/neural_network/_multilayer_perceptron.py:571: ConvergenceWarning: Stochastic Optimizer: Maximum iterations (50) reached and the optimization hasn't converged yet.\n",
            "  % self.max_iter, ConvergenceWarning)\n"
          ],
          "name": "stderr"
        }
      ]
    },
    {
      "cell_type": "code",
      "metadata": {
        "id": "BZOY3cEG3Q5n"
      },
      "source": [
        "with mlflow.start_run(run_name=\"MLP Classifier - Train\"):\n",
        "     \n",
        "  from sklearn.metrics import accuracy_score, f1_score, precision_score, recall_score\n",
        "  #print(\"ACC TRAINING:\" + str(accuracy_score(ytrain, ypred_train)))\n",
        "  #print(\"ACC TEST:\" + str(accuracy_score(ytest, y_model)))\n",
        "  mlflow.log_metric(\"Accuracy\", accuracy_score(ytrain, ypred_train))\n",
        "  mlflow.log_metric(\"Precision\", precision_score(ytrain, ypred_train, average='macro'))\n",
        "  mlflow.log_metric(\"Recall score\", recall_score(ytrain, ypred_train, average='macro'))\n",
        "  mlflow.log_metric(\"F1 score\", f1_score(ytrain, ypred_train,average='macro'))\n",
        "\n",
        "with mlflow.start_run(run_name=\"MLP Classifier- Test\"):\n",
        "  mlflow.log_metric(\"Accuracy\", accuracy_score(ytest, y_model))\n",
        "  mlflow.log_metric(\"Precision\", precision_score(ytest, y_model, average='macro'))\n",
        "  mlflow.log_metric(\"Recall score\", recall_score(ytest, y_model, average='macro'))\n",
        "  mlflow.log_metric(\"F1 score\", f1_score(ytest, y_model,average='macro'))"
      ],
      "execution_count": 27,
      "outputs": []
    },
    {
      "cell_type": "markdown",
      "metadata": {
        "id": "fdQL2Z7x4Cm0"
      },
      "source": [
        "#RandomForest"
      ]
    },
    {
      "cell_type": "code",
      "metadata": {
        "id": "N_yEZtak3hrL"
      },
      "source": [
        "from sklearn.ensemble import RandomForestClassifier\n",
        "model = RandomForestClassifier(n_estimators=1000)\n",
        "model.fit(Xtrain, ytrain)                 \n",
        "y_model = model.predict(Xtest)           \n",
        "ypred_train = model.predict(Xtrain)   "
      ],
      "execution_count": 28,
      "outputs": []
    },
    {
      "cell_type": "code",
      "metadata": {
        "id": "fQ0Q_rRa3zKj"
      },
      "source": [
        "with mlflow.start_run(run_name=\"Random Forest - Train\"):\n",
        "     \n",
        "  from sklearn.metrics import accuracy_score, f1_score, precision_score, recall_score\n",
        "  #print(\"ACC TRAINING:\" + str(accuracy_score(ytrain, ypred_train)))\n",
        "  #print(\"ACC TEST:\" + str(accuracy_score(ytest, y_model)))\n",
        "  mlflow.log_metric(\"Accuracy\", accuracy_score(ytrain, ypred_train))\n",
        "  mlflow.log_metric(\"Precision\", precision_score(ytrain, ypred_train, average='macro'))\n",
        "  mlflow.log_metric(\"Recall score\", recall_score(ytrain, ypred_train, average='macro'))\n",
        "  mlflow.log_metric(\"F1 score\", f1_score(ytrain, ypred_train,average='macro'))\n",
        "\n",
        "with mlflow.start_run(run_name=\"Random Forest - Test\"):\n",
        "  mlflow.log_metric(\"Accuracy\", accuracy_score(ytest, y_model))\n",
        "  mlflow.log_metric(\"Precision\", precision_score(ytest, y_model, average='macro'))\n",
        "  mlflow.log_metric(\"Recall score\", recall_score(ytest, y_model, average='macro'))\n",
        "  mlflow.log_metric(\"F1 score\", f1_score(ytest, y_model,average='macro'))"
      ],
      "execution_count": 29,
      "outputs": []
    },
    {
      "cell_type": "markdown",
      "metadata": {
        "id": "q70C2VPj4Axo"
      },
      "source": [
        "#KNN"
      ]
    },
    {
      "cell_type": "code",
      "metadata": {
        "id": "kw7QHfXC3z7L"
      },
      "source": [
        "from sklearn.neighbors import KNeighborsClassifier\n",
        "model = KNeighborsClassifier(n_neighbors=1)\n",
        "model.fit(Xtrain, ytrain)                 \n",
        "y_model = model.predict(Xtest)           \n",
        "ypred_train = model.predict(Xtrain)"
      ],
      "execution_count": 30,
      "outputs": []
    },
    {
      "cell_type": "code",
      "metadata": {
        "id": "rBarIR5i39GQ"
      },
      "source": [
        "with mlflow.start_run(run_name=\"KNeighbors Classifier - Train\"):\n",
        "     \n",
        "  from sklearn.metrics import accuracy_score, f1_score, precision_score, recall_score\n",
        "  #print(\"ACC TRAINING:\" + str(accuracy_score(ytrain, ypred_train)))\n",
        "  #print(\"ACC TEST:\" + str(accuracy_score(ytest, y_model)))\n",
        "  mlflow.log_metric(\"Accuracy\", accuracy_score(ytrain, ypred_train))\n",
        "  mlflow.log_metric(\"Precision\", precision_score(ytrain, ypred_train, average='macro'))\n",
        "  mlflow.log_metric(\"Recall score\", recall_score(ytrain, ypred_train, average='macro'))\n",
        "  mlflow.log_metric(\"F1 score\", f1_score(ytrain, ypred_train,average='macro'))\n",
        "\n",
        "with mlflow.start_run(run_name=\"KNeighbors Classifier - Test\"):\n",
        "  mlflow.log_metric(\"Accuracy\", accuracy_score(ytest, y_model))\n",
        "  mlflow.log_metric(\"Precision\", precision_score(ytest, y_model, average='macro'))\n",
        "  mlflow.log_metric(\"Recall score\", recall_score(ytest, y_model, average='macro'))\n",
        "  mlflow.log_metric(\"F1 score\", f1_score(ytest, y_model,average='macro'))"
      ],
      "execution_count": 31,
      "outputs": []
    },
    {
      "cell_type": "code",
      "metadata": {
        "id": "VRcGbXG639rS",
        "colab": {
          "base_uri": "https://localhost:8080/"
        },
        "outputId": "2ce1db21-cbb2-4c16-e9b2-04b9e70632b7"
      },
      "source": [
        "#run tracking UI in the background\n",
        "get_ipython().system_raw(\"mlflow ui --port 5000 &\") # run tracking UI in the background\n",
        "\n",
        "\n",
        "# create remote tunnel using ngrok.com to allow local port access\n",
        "# borrowed from https://colab.research.google.com/github/alfozan/MLflow-GBRT-demo/blob/master/MLflow-GBRT-demo.ipynb#scrollTo=4h3bKHMYUIG6\n",
        "\n",
        "from pyngrok import ngrok\n",
        "\n",
        "# Terminate open tunnels if exist\n",
        "ngrok.kill()\n",
        "\n",
        "# Setting the authtoken (optional)\n",
        "# Get your authtoken from https://dashboard.ngrok.com/auth\n",
        "NGROK_AUTH_TOKEN = \"\"\n",
        "ngrok.set_auth_token(NGROK_AUTH_TOKEN)\n",
        "# Open an HTTPs tunnel on port 5000 for http://localhost:5000\n",
        "ngrok_tunnel = ngrok.connect(addr=\"5000\", proto=\"http\", bind_tls=True)\n",
        "print(\"MLflow Tracking UI:\", ngrok_tunnel.public_url)"
      ],
      "execution_count": 32,
      "outputs": [
        {
          "output_type": "stream",
          "text": [
            "MLflow Tracking UI: https://c1329e1e08b8.ngrok.io\n"
          ],
          "name": "stdout"
        }
      ]
    },
    {
      "cell_type": "code",
      "metadata": {
        "id": "X3qhzZ1LU1-P",
        "outputId": "8acfb263-880b-43d7-90fe-ffb3827cf05f",
        "colab": {
          "base_uri": "https://localhost:8080/"
        }
      },
      "source": [
        "!pip install optuna"
      ],
      "execution_count": 33,
      "outputs": [
        {
          "output_type": "stream",
          "text": [
            "Collecting optuna\n",
            "  Downloading optuna-2.9.1-py3-none-any.whl (302 kB)\n",
            "\u001b[?25l\r\u001b[K     |█                               | 10 kB 19.0 MB/s eta 0:00:01\r\u001b[K     |██▏                             | 20 kB 24.9 MB/s eta 0:00:01\r\u001b[K     |███▎                            | 30 kB 15.3 MB/s eta 0:00:01\r\u001b[K     |████▎                           | 40 kB 11.4 MB/s eta 0:00:01\r\u001b[K     |█████▍                          | 51 kB 8.1 MB/s eta 0:00:01\r\u001b[K     |██████▌                         | 61 kB 8.4 MB/s eta 0:00:01\r\u001b[K     |███████▋                        | 71 kB 7.9 MB/s eta 0:00:01\r\u001b[K     |████████▋                       | 81 kB 8.8 MB/s eta 0:00:01\r\u001b[K     |█████████▊                      | 92 kB 8.3 MB/s eta 0:00:01\r\u001b[K     |██████████▉                     | 102 kB 7.5 MB/s eta 0:00:01\r\u001b[K     |████████████                    | 112 kB 7.5 MB/s eta 0:00:01\r\u001b[K     |█████████████                   | 122 kB 7.5 MB/s eta 0:00:01\r\u001b[K     |██████████████                  | 133 kB 7.5 MB/s eta 0:00:01\r\u001b[K     |███████████████▏                | 143 kB 7.5 MB/s eta 0:00:01\r\u001b[K     |████████████████▎               | 153 kB 7.5 MB/s eta 0:00:01\r\u001b[K     |█████████████████▎              | 163 kB 7.5 MB/s eta 0:00:01\r\u001b[K     |██████████████████▍             | 174 kB 7.5 MB/s eta 0:00:01\r\u001b[K     |███████████████████▌            | 184 kB 7.5 MB/s eta 0:00:01\r\u001b[K     |████████████████████▋           | 194 kB 7.5 MB/s eta 0:00:01\r\u001b[K     |█████████████████████▋          | 204 kB 7.5 MB/s eta 0:00:01\r\u001b[K     |██████████████████████▊         | 215 kB 7.5 MB/s eta 0:00:01\r\u001b[K     |███████████████████████▉        | 225 kB 7.5 MB/s eta 0:00:01\r\u001b[K     |█████████████████████████       | 235 kB 7.5 MB/s eta 0:00:01\r\u001b[K     |██████████████████████████      | 245 kB 7.5 MB/s eta 0:00:01\r\u001b[K     |███████████████████████████     | 256 kB 7.5 MB/s eta 0:00:01\r\u001b[K     |████████████████████████████▏   | 266 kB 7.5 MB/s eta 0:00:01\r\u001b[K     |█████████████████████████████▎  | 276 kB 7.5 MB/s eta 0:00:01\r\u001b[K     |██████████████████████████████▎ | 286 kB 7.5 MB/s eta 0:00:01\r\u001b[K     |███████████████████████████████▍| 296 kB 7.5 MB/s eta 0:00:01\r\u001b[K     |████████████████████████████████| 302 kB 7.5 MB/s \n",
            "\u001b[?25hRequirement already satisfied: sqlalchemy>=1.1.0 in /usr/local/lib/python3.7/dist-packages (from optuna) (1.4.20)\n",
            "Requirement already satisfied: packaging>=20.0 in /usr/local/lib/python3.7/dist-packages (from optuna) (21.0)\n",
            "Collecting cmaes>=0.8.2\n",
            "  Downloading cmaes-0.8.2-py3-none-any.whl (15 kB)\n",
            "Collecting colorlog\n",
            "  Downloading colorlog-5.0.1-py2.py3-none-any.whl (10 kB)\n",
            "Requirement already satisfied: scipy!=1.4.0 in /usr/local/lib/python3.7/dist-packages (from optuna) (1.4.1)\n",
            "Requirement already satisfied: numpy in /usr/local/lib/python3.7/dist-packages (from optuna) (1.19.5)\n",
            "Requirement already satisfied: alembic in /usr/local/lib/python3.7/dist-packages (from optuna) (1.4.1)\n",
            "Requirement already satisfied: tqdm in /usr/local/lib/python3.7/dist-packages (from optuna) (4.41.1)\n",
            "Collecting cliff\n",
            "  Downloading cliff-3.8.0-py3-none-any.whl (80 kB)\n",
            "\u001b[K     |████████████████████████████████| 80 kB 9.2 MB/s \n",
            "\u001b[?25hRequirement already satisfied: PyYAML in /usr/local/lib/python3.7/dist-packages (from optuna) (5.4.1)\n",
            "Requirement already satisfied: pyparsing>=2.0.2 in /usr/local/lib/python3.7/dist-packages (from packaging>=20.0->optuna) (2.4.7)\n",
            "Requirement already satisfied: importlib-metadata in /usr/local/lib/python3.7/dist-packages (from sqlalchemy>=1.1.0->optuna) (4.6.1)\n",
            "Requirement already satisfied: greenlet!=0.4.17 in /usr/local/lib/python3.7/dist-packages (from sqlalchemy>=1.1.0->optuna) (1.1.0)\n",
            "Requirement already satisfied: Mako in /usr/local/lib/python3.7/dist-packages (from alembic->optuna) (1.1.4)\n",
            "Requirement already satisfied: python-editor>=0.3 in /usr/local/lib/python3.7/dist-packages (from alembic->optuna) (1.0.4)\n",
            "Requirement already satisfied: python-dateutil in /usr/local/lib/python3.7/dist-packages (from alembic->optuna) (2.8.1)\n",
            "Requirement already satisfied: PrettyTable>=0.7.2 in /usr/local/lib/python3.7/dist-packages (from cliff->optuna) (2.1.0)\n",
            "Collecting cmd2>=1.0.0\n",
            "  Downloading cmd2-2.1.2-py3-none-any.whl (141 kB)\n",
            "\u001b[K     |████████████████████████████████| 141 kB 64.2 MB/s \n",
            "\u001b[?25hCollecting pbr!=2.1.0,>=2.0.0\n",
            "  Downloading pbr-5.6.0-py2.py3-none-any.whl (111 kB)\n",
            "\u001b[K     |████████████████████████████████| 111 kB 54.8 MB/s \n",
            "\u001b[?25hCollecting stevedore>=2.0.1\n",
            "  Downloading stevedore-3.3.0-py3-none-any.whl (49 kB)\n",
            "\u001b[K     |████████████████████████████████| 49 kB 5.9 MB/s \n",
            "\u001b[?25hCollecting colorama>=0.3.7\n",
            "  Downloading colorama-0.4.4-py2.py3-none-any.whl (16 kB)\n",
            "Collecting pyperclip>=1.6\n",
            "  Downloading pyperclip-1.8.2.tar.gz (20 kB)\n",
            "Requirement already satisfied: attrs>=16.3.0 in /usr/local/lib/python3.7/dist-packages (from cmd2>=1.0.0->cliff->optuna) (21.2.0)\n",
            "Requirement already satisfied: wcwidth>=0.1.7 in /usr/local/lib/python3.7/dist-packages (from cmd2>=1.0.0->cliff->optuna) (0.2.5)\n",
            "Requirement already satisfied: typing-extensions in /usr/local/lib/python3.7/dist-packages (from cmd2>=1.0.0->cliff->optuna) (3.7.4.3)\n",
            "Requirement already satisfied: zipp>=0.5 in /usr/local/lib/python3.7/dist-packages (from importlib-metadata->sqlalchemy>=1.1.0->optuna) (3.5.0)\n",
            "Requirement already satisfied: MarkupSafe>=0.9.2 in /usr/local/lib/python3.7/dist-packages (from Mako->alembic->optuna) (2.0.1)\n",
            "Requirement already satisfied: six>=1.5 in /usr/local/lib/python3.7/dist-packages (from python-dateutil->alembic->optuna) (1.15.0)\n",
            "Building wheels for collected packages: pyperclip\n",
            "  Building wheel for pyperclip (setup.py) ... \u001b[?25l\u001b[?25hdone\n",
            "  Created wheel for pyperclip: filename=pyperclip-1.8.2-py3-none-any.whl size=11137 sha256=64107a90f2c2ec6bb884fd678d6b24a66e5c12a6fae5774fa251975a2dd1df4f\n",
            "  Stored in directory: /root/.cache/pip/wheels/9f/18/84/8f69f8b08169c7bae2dde6bd7daf0c19fca8c8e500ee620a28\n",
            "Successfully built pyperclip\n",
            "Installing collected packages: pyperclip, pbr, colorama, stevedore, cmd2, colorlog, cmaes, cliff, optuna\n",
            "Successfully installed cliff-3.8.0 cmaes-0.8.2 cmd2-2.1.2 colorama-0.4.4 colorlog-5.0.1 optuna-2.9.1 pbr-5.6.0 pyperclip-1.8.2 stevedore-3.3.0\n"
          ],
          "name": "stdout"
        }
      ]
    },
    {
      "cell_type": "code",
      "metadata": {
        "id": "m-MnyeB-dosm",
        "outputId": "4a97fd23-ad37-4d29-c911-f56e93e5ffe1",
        "colab": {
          "base_uri": "https://localhost:8080/"
        }
      },
      "source": [
        "import optuna\n",
        "classes = list(set(y_df))\n",
        "#Step 1. Define an objective function to be maximized.\n",
        "def objective(trial):\n",
        "\n",
        "    classifier_name = trial.suggest_categorical(\"classifier\", [\"GaussianNB\", \"RandomForest\",\"KNN\",\"MLP\"])\n",
        "    \n",
        "    # Step 2. Setup values for the hyperparameters:\n",
        "    if classifier_name == 'GaussianNB':\n",
        "        smoothing = trial.suggest_float(\"smoothing\", 1e-10, 1e-8, log=True)\n",
        "        classifier_obj = GaussianNB(var_smoothing=smoothing)\n",
        "    elif classifier_name == 'RandomForest':\n",
        "        rf_n_estimators = trial.suggest_int(\"rf_n_estimators\", 10, 1000)\n",
        "        rf_max_depth = trial.suggest_int(\"rf_max_depth\", 2, 32, log=True)\n",
        "        classifier_obj = RandomForestClassifier(\n",
        "            max_depth=rf_max_depth, n_estimators=rf_n_estimators\n",
        "        )\n",
        "    elif classifier_name == 'KNN':\n",
        "        neighbors = trial.suggest_int(\"neighbors\", 1, 10)\n",
        "        algorithm = trial.suggest_categorical(\"algorithm\", [\"auto\", \"ball_tree\", \"kd_tree\", \"brute\"])\n",
        "        classifier_obj = KNeighborsClassifier(n_neighbors=neighbors, algorithm=algorithm)\n",
        "\n",
        "    else:\n",
        "        neurons = trial.suggest_int(\"neurons\", 50, 200)\n",
        "        depth = trial.suggest_int(\"depth\",1,4)\n",
        "        layer_sizes = tuple([neurons for _ in range(depth)])\n",
        "        alpha = trial.suggest_float(\"alpha\",0.000001,0.001)\n",
        "        activation_function = trial.suggest_categorical(\"activation_function\",[\"identity\",\"logistic\",\"tanh\",\"relu\"])\n",
        "        \n",
        "        classifier_obj = MLPClassifier(hidden_layer_sizes=layer_sizes, alpha=alpha, activation=activation_function)\n",
        "    for step in range(100):\n",
        "        classifier_obj.fit(Xtrain, ytrain)\n",
        "        \n",
        "        # Report intermediate objective value.\n",
        "        intermediate_value = classifier_obj.score(Xtest, ytest)\n",
        "        trial.report(intermediate_value, step)\n",
        "\n",
        "        # Handle pruning based on the intermediate value.\n",
        "        if trial.should_prune():\n",
        "            raise optuna.TrialPruned()\n",
        "        return intermediate_value\n",
        "\n",
        "# Step 4: Running it\n",
        "study = optuna.create_study(direction=\"maximize\")\n",
        "study.optimize(objective, n_trials=100)\n",
        "\n",
        "# Calculating the pruned and completed trials\n",
        "pruned_trials = [t for t in study.trials if t.state == optuna.trial.TrialState.PRUNED]\n",
        "complete_trials = [t for t in study.trials if t.state == optuna.trial.TrialState.COMPLETE]\n",
        "\n",
        "print(\"  Number of finished trials: \", len(study.trials))\n",
        "print(\"  Number of pruned trials: \", len(pruned_trials))\n",
        "print(\"  Number of complete trials: \", len(complete_trials))\n"
      ],
      "execution_count": 39,
      "outputs": [
        {
          "output_type": "stream",
          "text": [
            "\u001b[32m[I 2021-08-12 14:43:30,062]\u001b[0m A new study created in memory with name: no-name-92c483bd-2722-4efa-a2fe-f0549b85e0a1\u001b[0m\n",
            "\u001b[32m[I 2021-08-12 14:43:31,247]\u001b[0m Trial 0 finished with value: 0.846945778997941 and parameters: {'classifier': 'KNN', 'neighbors': 3, 'algorithm': 'kd_tree'}. Best is trial 0 with value: 0.846945778997941.\u001b[0m\n",
            "\u001b[32m[I 2021-08-12 14:43:33,777]\u001b[0m Trial 1 finished with value: 0.8527796842827728 and parameters: {'classifier': 'KNN', 'neighbors': 10, 'algorithm': 'ball_tree'}. Best is trial 1 with value: 0.8527796842827728.\u001b[0m\n",
            "\u001b[32m[I 2021-08-12 14:43:36,551]\u001b[0m Trial 2 finished with value: 0.7748798901853123 and parameters: {'classifier': 'RandomForest', 'rf_n_estimators': 787, 'rf_max_depth': 3}. Best is trial 1 with value: 0.8527796842827728.\u001b[0m\n",
            "\u001b[32m[I 2021-08-12 14:44:16,553]\u001b[0m Trial 3 finished with value: 0.8620452985586822 and parameters: {'classifier': 'MLP', 'neurons': 175, 'depth': 3, 'alpha': 0.00017033159367933992, 'activation_function': 'relu'}. Best is trial 3 with value: 0.8620452985586822.\u001b[0m\n",
            "\u001b[32m[I 2021-08-12 14:44:17,256]\u001b[0m Trial 4 finished with value: 0.8572409059711736 and parameters: {'classifier': 'KNN', 'neighbors': 5, 'algorithm': 'brute'}. Best is trial 3 with value: 0.8620452985586822.\u001b[0m\n",
            "\u001b[32m[I 2021-08-12 14:44:40,882]\u001b[0m Trial 5 finished with value: 0.867879203843514 and parameters: {'classifier': 'MLP', 'neurons': 86, 'depth': 4, 'alpha': 5.543178876353438e-05, 'activation_function': 'relu'}. Best is trial 5 with value: 0.867879203843514.\u001b[0m\n",
            "\u001b[32m[I 2021-08-12 14:44:41,590]\u001b[0m Trial 6 finished with value: 0.8572409059711736 and parameters: {'classifier': 'KNN', 'neighbors': 5, 'algorithm': 'brute'}. Best is trial 5 with value: 0.867879203843514.\u001b[0m\n",
            "\u001b[32m[I 2021-08-12 14:44:42,135]\u001b[0m Trial 7 pruned. \u001b[0m\n",
            "\u001b[32m[I 2021-08-12 14:44:43,400]\u001b[0m Trial 8 pruned. \u001b[0m\n",
            "\u001b[32m[I 2021-08-12 14:44:58,968]\u001b[0m Trial 9 finished with value: 0.8743994509265615 and parameters: {'classifier': 'MLP', 'neurons': 122, 'depth': 1, 'alpha': 0.00012741956874704735, 'activation_function': 'logistic'}. Best is trial 9 with value: 0.8743994509265615.\u001b[0m\n",
            "\u001b[32m[I 2021-08-12 14:44:59,040]\u001b[0m Trial 10 pruned. \u001b[0m\n",
            "/usr/local/lib/python3.7/dist-packages/sklearn/neural_network/_multilayer_perceptron.py:571: ConvergenceWarning:\n",
            "\n",
            "Stochastic Optimizer: Maximum iterations (200) reached and the optimization hasn't converged yet.\n",
            "\n",
            "\u001b[32m[I 2021-08-12 14:45:13,400]\u001b[0m Trial 11 finished with value: 0.8761153054221003 and parameters: {'classifier': 'MLP', 'neurons': 87, 'depth': 1, 'alpha': 2.4533181047867992e-05, 'activation_function': 'logistic'}. Best is trial 11 with value: 0.8761153054221003.\u001b[0m\n",
            "/usr/local/lib/python3.7/dist-packages/sklearn/neural_network/_multilayer_perceptron.py:571: ConvergenceWarning:\n",
            "\n",
            "Stochastic Optimizer: Maximum iterations (200) reached and the optimization hasn't converged yet.\n",
            "\n",
            "\u001b[32m[I 2021-08-12 14:45:29,221]\u001b[0m Trial 12 finished with value: 0.8743994509265615 and parameters: {'classifier': 'MLP', 'neurons': 105, 'depth': 1, 'alpha': 1.91990025536947e-05, 'activation_function': 'logistic'}. Best is trial 11 with value: 0.8761153054221003.\u001b[0m\n",
            "/usr/local/lib/python3.7/dist-packages/sklearn/neural_network/_multilayer_perceptron.py:571: ConvergenceWarning:\n",
            "\n",
            "Stochastic Optimizer: Maximum iterations (200) reached and the optimization hasn't converged yet.\n",
            "\n",
            "\u001b[32m[I 2021-08-12 14:45:40,466]\u001b[0m Trial 13 finished with value: 0.8743994509265615 and parameters: {'classifier': 'MLP', 'neurons': 55, 'depth': 1, 'alpha': 0.0006648584553491616, 'activation_function': 'logistic'}. Best is trial 11 with value: 0.8761153054221003.\u001b[0m\n",
            "\u001b[32m[I 2021-08-12 14:45:42,916]\u001b[0m Trial 14 finished with value: 0.87920384351407 and parameters: {'classifier': 'MLP', 'neurons': 144, 'depth': 1, 'alpha': 0.00038086238313444424, 'activation_function': 'identity'}. Best is trial 14 with value: 0.87920384351407.\u001b[0m\n",
            "\u001b[32m[I 2021-08-12 14:45:42,973]\u001b[0m Trial 15 pruned. \u001b[0m\n",
            "\u001b[32m[I 2021-08-12 14:45:53,760]\u001b[0m Trial 16 finished with value: 0.8726835964310227 and parameters: {'classifier': 'MLP', 'neurons': 164, 'depth': 2, 'alpha': 0.0009978110670922666, 'activation_function': 'identity'}. Best is trial 14 with value: 0.87920384351407.\u001b[0m\n",
            "/usr/local/lib/python3.7/dist-packages/sklearn/neural_network/_multilayer_perceptron.py:571: ConvergenceWarning:\n",
            "\n",
            "Stochastic Optimizer: Maximum iterations (200) reached and the optimization hasn't converged yet.\n",
            "\n",
            "\u001b[32m[I 2021-08-12 14:46:49,140]\u001b[0m Trial 17 pruned. \u001b[0m\n",
            "\u001b[32m[I 2021-08-12 14:46:51,033]\u001b[0m Trial 18 finished with value: 0.8695950583390528 and parameters: {'classifier': 'MLP', 'neurons': 79, 'depth': 1, 'alpha': 0.0003941835232191296, 'activation_function': 'identity'}. Best is trial 14 with value: 0.87920384351407.\u001b[0m\n",
            "\u001b[32m[I 2021-08-12 14:46:59,631]\u001b[0m Trial 19 pruned. \u001b[0m\n",
            "\u001b[32m[I 2021-08-12 14:46:59,671]\u001b[0m Trial 20 pruned. \u001b[0m\n",
            "/usr/local/lib/python3.7/dist-packages/sklearn/neural_network/_multilayer_perceptron.py:571: ConvergenceWarning:\n",
            "\n",
            "Stochastic Optimizer: Maximum iterations (200) reached and the optimization hasn't converged yet.\n",
            "\n",
            "\u001b[32m[I 2021-08-12 14:47:20,740]\u001b[0m Trial 21 finished with value: 0.8774879890185312 and parameters: {'classifier': 'MLP', 'neurons': 133, 'depth': 1, 'alpha': 0.0002325547040366597, 'activation_function': 'logistic'}. Best is trial 14 with value: 0.87920384351407.\u001b[0m\n",
            "\u001b[32m[I 2021-08-12 14:48:04,304]\u001b[0m Trial 22 finished with value: 0.8774879890185312 and parameters: {'classifier': 'MLP', 'neurons': 138, 'depth': 2, 'alpha': 0.00026638902136258793, 'activation_function': 'logistic'}. Best is trial 14 with value: 0.87920384351407.\u001b[0m\n",
            "\u001b[32m[I 2021-08-12 14:48:08,896]\u001b[0m Trial 23 finished with value: 0.8788606726149623 and parameters: {'classifier': 'MLP', 'neurons': 139, 'depth': 2, 'alpha': 0.00029418513264596765, 'activation_function': 'identity'}. Best is trial 14 with value: 0.87920384351407.\u001b[0m\n",
            "\u001b[32m[I 2021-08-12 14:48:15,750]\u001b[0m Trial 24 finished with value: 0.8788606726149623 and parameters: {'classifier': 'MLP', 'neurons': 192, 'depth': 2, 'alpha': 0.0005895419434765185, 'activation_function': 'identity'}. Best is trial 14 with value: 0.87920384351407.\u001b[0m\n",
            "\u001b[32m[I 2021-08-12 14:48:37,701]\u001b[0m Trial 25 pruned. \u001b[0m\n",
            "\u001b[32m[I 2021-08-12 14:48:46,436]\u001b[0m Trial 26 pruned. \u001b[0m\n",
            "\u001b[32m[I 2021-08-12 14:48:54,890]\u001b[0m Trial 27 pruned. \u001b[0m\n",
            "\u001b[32m[I 2021-08-12 14:48:55,166]\u001b[0m Trial 28 pruned. \u001b[0m\n",
            "\u001b[32m[I 2021-08-12 14:48:55,206]\u001b[0m Trial 29 pruned. \u001b[0m\n",
            "\u001b[32m[I 2021-08-12 14:48:57,996]\u001b[0m Trial 30 pruned. \u001b[0m\n",
            "\u001b[32m[I 2021-08-12 14:48:59,978]\u001b[0m Trial 31 pruned. \u001b[0m\n",
            "/usr/local/lib/python3.7/dist-packages/sklearn/neural_network/_multilayer_perceptron.py:571: ConvergenceWarning:\n",
            "\n",
            "Stochastic Optimizer: Maximum iterations (200) reached and the optimization hasn't converged yet.\n",
            "\n",
            "\u001b[32m[I 2021-08-12 14:49:55,879]\u001b[0m Trial 32 pruned. \u001b[0m\n",
            "\u001b[32m[I 2021-08-12 14:49:59,150]\u001b[0m Trial 33 finished with value: 0.8761153054221003 and parameters: {'classifier': 'MLP', 'neurons': 150, 'depth': 2, 'alpha': 0.0002925115844563364, 'activation_function': 'identity'}. Best is trial 14 with value: 0.87920384351407.\u001b[0m\n",
            "\u001b[32m[I 2021-08-12 14:50:08,572]\u001b[0m Trial 34 finished with value: 0.8743994509265615 and parameters: {'classifier': 'MLP', 'neurons': 171, 'depth': 2, 'alpha': 0.00047806729747914916, 'activation_function': 'identity'}. Best is trial 14 with value: 0.87920384351407.\u001b[0m\n",
            "\u001b[32m[I 2021-08-12 14:50:10,096]\u001b[0m Trial 35 pruned. \u001b[0m\n",
            "\u001b[32m[I 2021-08-12 14:50:12,022]\u001b[0m Trial 36 pruned. \u001b[0m\n",
            "\u001b[32m[I 2021-08-12 14:50:14,686]\u001b[0m Trial 37 finished with value: 0.8743994509265615 and parameters: {'classifier': 'RandomForest', 'rf_n_estimators': 470, 'rf_max_depth': 9}. Best is trial 14 with value: 0.87920384351407.\u001b[0m\n",
            "/usr/local/lib/python3.7/dist-packages/sklearn/neural_network/_multilayer_perceptron.py:571: ConvergenceWarning:\n",
            "\n",
            "Stochastic Optimizer: Maximum iterations (200) reached and the optimization hasn't converged yet.\n",
            "\n",
            "\u001b[32m[I 2021-08-12 14:51:50,248]\u001b[0m Trial 38 pruned. \u001b[0m\n",
            "\u001b[32m[I 2021-08-12 14:51:52,151]\u001b[0m Trial 39 pruned. \u001b[0m\n",
            "\u001b[32m[I 2021-08-12 14:52:11,796]\u001b[0m Trial 40 pruned. \u001b[0m\n",
            "\u001b[32m[I 2021-08-12 14:52:45,451]\u001b[0m Trial 41 finished with value: 0.8774879890185312 and parameters: {'classifier': 'MLP', 'neurons': 135, 'depth': 2, 'alpha': 0.00020612551624732796, 'activation_function': 'logistic'}. Best is trial 14 with value: 0.87920384351407.\u001b[0m\n",
            "\u001b[32m[I 2021-08-12 14:53:20,847]\u001b[0m Trial 42 finished with value: 0.8785175017158545 and parameters: {'classifier': 'MLP', 'neurons': 144, 'depth': 2, 'alpha': 0.0001622029004209025, 'activation_function': 'logistic'}. Best is trial 14 with value: 0.87920384351407.\u001b[0m\n",
            "\u001b[32m[I 2021-08-12 14:54:14,976]\u001b[0m Trial 43 finished with value: 0.8781743308167468 and parameters: {'classifier': 'MLP', 'neurons': 153, 'depth': 2, 'alpha': 0.00013757312919447412, 'activation_function': 'logistic'}. Best is trial 14 with value: 0.87920384351407.\u001b[0m\n",
            "\u001b[32m[I 2021-08-12 14:54:35,215]\u001b[0m Trial 44 finished with value: 0.8802333562113933 and parameters: {'classifier': 'MLP', 'neurons': 157, 'depth': 2, 'alpha': 0.0001235984759968868, 'activation_function': 'logistic'}. Best is trial 44 with value: 0.8802333562113933.\u001b[0m\n",
            "\u001b[32m[I 2021-08-12 14:54:37,750]\u001b[0m Trial 45 pruned. \u001b[0m\n",
            "\u001b[32m[I 2021-08-12 14:54:48,001]\u001b[0m Trial 46 finished with value: 0.8781743308167468 and parameters: {'classifier': 'MLP', 'neurons': 178, 'depth': 3, 'alpha': 0.00011226712872892383, 'activation_function': 'identity'}. Best is trial 44 with value: 0.8802333562113933.\u001b[0m\n",
            "\u001b[32m[I 2021-08-12 14:54:48,072]\u001b[0m Trial 47 pruned. \u001b[0m\n",
            "\u001b[32m[I 2021-08-12 14:55:26,792]\u001b[0m Trial 48 finished with value: 0.8798901853122855 and parameters: {'classifier': 'MLP', 'neurons': 195, 'depth': 2, 'alpha': 0.0005557514612672035, 'activation_function': 'logistic'}. Best is trial 44 with value: 0.8802333562113933.\u001b[0m\n",
            "\u001b[32m[I 2021-08-12 14:55:28,706]\u001b[0m Trial 49 pruned. \u001b[0m\n",
            "\u001b[32m[I 2021-08-12 14:56:21,306]\u001b[0m Trial 50 pruned. \u001b[0m\n",
            "/usr/local/lib/python3.7/dist-packages/sklearn/neural_network/_multilayer_perceptron.py:571: ConvergenceWarning:\n",
            "\n",
            "Stochastic Optimizer: Maximum iterations (200) reached and the optimization hasn't converged yet.\n",
            "\n",
            "\u001b[32m[I 2021-08-12 14:57:35,660]\u001b[0m Trial 51 pruned. \u001b[0m\n",
            "\u001b[32m[I 2021-08-12 14:58:05,943]\u001b[0m Trial 52 finished with value: 0.8785175017158545 and parameters: {'classifier': 'MLP', 'neurons': 188, 'depth': 2, 'alpha': 0.0006941117375377631, 'activation_function': 'logistic'}. Best is trial 44 with value: 0.8802333562113933.\u001b[0m\n",
            "\u001b[32m[I 2021-08-12 14:59:09,127]\u001b[0m Trial 53 finished with value: 0.87920384351407 and parameters: {'classifier': 'MLP', 'neurons': 186, 'depth': 4, 'alpha': 0.0007042295699176925, 'activation_function': 'logistic'}. Best is trial 44 with value: 0.8802333562113933.\u001b[0m\n",
            "\u001b[32m[I 2021-08-12 15:00:29,238]\u001b[0m Trial 54 finished with value: 0.8781743308167468 and parameters: {'classifier': 'MLP', 'neurons': 167, 'depth': 4, 'alpha': 0.0008103909916239934, 'activation_function': 'logistic'}. Best is trial 44 with value: 0.8802333562113933.\u001b[0m\n",
            "\u001b[32m[I 2021-08-12 15:01:47,289]\u001b[0m Trial 55 pruned. \u001b[0m\n",
            "\u001b[32m[I 2021-08-12 15:02:40,625]\u001b[0m Trial 56 finished with value: 0.87920384351407 and parameters: {'classifier': 'MLP', 'neurons': 176, 'depth': 4, 'alpha': 0.0005323181062727797, 'activation_function': 'logistic'}. Best is trial 44 with value: 0.8802333562113933.\u001b[0m\n",
            "\u001b[32m[I 2021-08-12 15:02:40,689]\u001b[0m Trial 57 pruned. \u001b[0m\n",
            "\u001b[32m[I 2021-08-12 15:03:57,998]\u001b[0m Trial 58 finished with value: 0.8788606726149623 and parameters: {'classifier': 'MLP', 'neurons': 178, 'depth': 4, 'alpha': 0.0006185144008954563, 'activation_function': 'logistic'}. Best is trial 44 with value: 0.8802333562113933.\u001b[0m\n",
            "\u001b[32m[I 2021-08-12 15:03:59,955]\u001b[0m Trial 59 pruned. \u001b[0m\n",
            "\u001b[32m[I 2021-08-12 15:05:54,524]\u001b[0m Trial 60 finished with value: 0.8774879890185312 and parameters: {'classifier': 'MLP', 'neurons': 176, 'depth': 4, 'alpha': 0.0006776895530461911, 'activation_function': 'logistic'}. Best is trial 44 with value: 0.8802333562113933.\u001b[0m\n",
            "\u001b[32m[I 2021-08-12 15:07:42,547]\u001b[0m Trial 61 finished with value: 0.8788606726149623 and parameters: {'classifier': 'MLP', 'neurons': 186, 'depth': 4, 'alpha': 0.0006178610364682529, 'activation_function': 'logistic'}. Best is trial 44 with value: 0.8802333562113933.\u001b[0m\n",
            "\u001b[32m[I 2021-08-12 15:09:30,285]\u001b[0m Trial 62 pruned. \u001b[0m\n",
            "\u001b[32m[I 2021-08-12 15:09:32,300]\u001b[0m Trial 63 pruned. \u001b[0m\n",
            "\u001b[32m[I 2021-08-12 15:10:11,525]\u001b[0m Trial 64 pruned. \u001b[0m\n",
            "\u001b[32m[I 2021-08-12 15:11:33,057]\u001b[0m Trial 65 finished with value: 0.8781743308167468 and parameters: {'classifier': 'MLP', 'neurons': 190, 'depth': 4, 'alpha': 0.0007388135963005875, 'activation_function': 'logistic'}. Best is trial 44 with value: 0.8802333562113933.\u001b[0m\n",
            "\u001b[32m[I 2021-08-12 15:11:37,004]\u001b[0m Trial 66 pruned. \u001b[0m\n",
            "\u001b[32m[I 2021-08-12 15:12:29,483]\u001b[0m Trial 67 finished with value: 0.8781743308167468 and parameters: {'classifier': 'MLP', 'neurons': 185, 'depth': 4, 'alpha': 0.0006109831699342073, 'activation_function': 'logistic'}. Best is trial 44 with value: 0.8802333562113933.\u001b[0m\n",
            "\u001b[32m[I 2021-08-12 15:13:58,914]\u001b[0m Trial 68 pruned. \u001b[0m\n",
            "\u001b[32m[I 2021-08-12 15:14:54,822]\u001b[0m Trial 69 finished with value: 0.8798901853122855 and parameters: {'classifier': 'MLP', 'neurons': 160, 'depth': 4, 'alpha': 0.0003842000928399756, 'activation_function': 'logistic'}. Best is trial 44 with value: 0.8802333562113933.\u001b[0m\n",
            "\u001b[32m[I 2021-08-12 15:14:54,884]\u001b[0m Trial 70 pruned. \u001b[0m\n",
            "\u001b[32m[I 2021-08-12 15:15:24,930]\u001b[0m Trial 71 finished with value: 0.880576527110501 and parameters: {'classifier': 'MLP', 'neurons': 157, 'depth': 4, 'alpha': 0.0006488452591103795, 'activation_function': 'logistic'}. Best is trial 71 with value: 0.880576527110501.\u001b[0m\n",
            "\u001b[32m[I 2021-08-12 15:16:27,193]\u001b[0m Trial 72 finished with value: 0.8774879890185312 and parameters: {'classifier': 'MLP', 'neurons': 158, 'depth': 4, 'alpha': 0.0007196703016468821, 'activation_function': 'logistic'}. Best is trial 71 with value: 0.880576527110501.\u001b[0m\n",
            "\u001b[32m[I 2021-08-12 15:17:04,591]\u001b[0m Trial 73 finished with value: 0.8774879890185312 and parameters: {'classifier': 'MLP', 'neurons': 168, 'depth': 4, 'alpha': 0.0006540806122037553, 'activation_function': 'logistic'}. Best is trial 71 with value: 0.880576527110501.\u001b[0m\n",
            "\u001b[32m[I 2021-08-12 15:18:35,286]\u001b[0m Trial 74 finished with value: 0.87920384351407 and parameters: {'classifier': 'MLP', 'neurons': 156, 'depth': 4, 'alpha': 0.0005667575463185851, 'activation_function': 'logistic'}. Best is trial 71 with value: 0.880576527110501.\u001b[0m\n",
            "\u001b[32m[I 2021-08-12 15:19:36,541]\u001b[0m Trial 75 finished with value: 0.8795470144131777 and parameters: {'classifier': 'MLP', 'neurons': 155, 'depth': 4, 'alpha': 0.0003860875099843684, 'activation_function': 'logistic'}. Best is trial 71 with value: 0.880576527110501.\u001b[0m\n",
            "\u001b[32m[I 2021-08-12 15:20:23,647]\u001b[0m Trial 76 finished with value: 0.8798901853122855 and parameters: {'classifier': 'MLP', 'neurons': 157, 'depth': 4, 'alpha': 0.0007980426409301452, 'activation_function': 'logistic'}. Best is trial 71 with value: 0.880576527110501.\u001b[0m\n",
            "\u001b[32m[I 2021-08-12 15:21:35,175]\u001b[0m Trial 77 finished with value: 0.87920384351407 and parameters: {'classifier': 'MLP', 'neurons': 158, 'depth': 4, 'alpha': 0.0008079903642686374, 'activation_function': 'logistic'}. Best is trial 71 with value: 0.880576527110501.\u001b[0m\n",
            "\u001b[32m[I 2021-08-12 15:23:12,138]\u001b[0m Trial 78 pruned. \u001b[0m\n",
            "\u001b[32m[I 2021-08-12 15:24:08,583]\u001b[0m Trial 79 finished with value: 0.8781743308167468 and parameters: {'classifier': 'MLP', 'neurons': 163, 'depth': 4, 'alpha': 0.0007992251016862323, 'activation_function': 'logistic'}. Best is trial 71 with value: 0.880576527110501.\u001b[0m\n",
            "\u001b[32m[I 2021-08-12 15:24:11,132]\u001b[0m Trial 80 pruned. \u001b[0m\n",
            "\u001b[32m[I 2021-08-12 15:25:33,020]\u001b[0m Trial 81 pruned. \u001b[0m\n",
            "\u001b[32m[I 2021-08-12 15:26:12,214]\u001b[0m Trial 82 finished with value: 0.8781743308167468 and parameters: {'classifier': 'MLP', 'neurons': 153, 'depth': 4, 'alpha': 0.0008718236492676619, 'activation_function': 'logistic'}. Best is trial 71 with value: 0.880576527110501.\u001b[0m\n",
            "\u001b[32m[I 2021-08-12 15:26:51,077]\u001b[0m Trial 83 finished with value: 0.8795470144131777 and parameters: {'classifier': 'MLP', 'neurons': 149, 'depth': 4, 'alpha': 0.0003592677437145763, 'activation_function': 'logistic'}. Best is trial 71 with value: 0.880576527110501.\u001b[0m\n",
            "\u001b[32m[I 2021-08-12 15:27:44,272]\u001b[0m Trial 84 pruned. \u001b[0m\n",
            "\u001b[32m[I 2021-08-12 15:28:00,783]\u001b[0m Trial 85 pruned. \u001b[0m\n",
            "\u001b[32m[I 2021-08-12 15:28:02,816]\u001b[0m Trial 86 pruned. \u001b[0m\n",
            "\u001b[32m[I 2021-08-12 15:28:29,916]\u001b[0m Trial 87 finished with value: 0.880576527110501 and parameters: {'classifier': 'MLP', 'neurons': 144, 'depth': 3, 'alpha': 0.0003664945382423592, 'activation_function': 'logistic'}. Best is trial 71 with value: 0.880576527110501.\u001b[0m\n",
            "\u001b[32m[I 2021-08-12 15:29:16,394]\u001b[0m Trial 88 pruned. \u001b[0m\n",
            "\u001b[32m[I 2021-08-12 15:29:39,063]\u001b[0m Trial 89 finished with value: 0.8795470144131777 and parameters: {'classifier': 'MLP', 'neurons': 163, 'depth': 3, 'alpha': 0.00030611429375112425, 'activation_function': 'logistic'}. Best is trial 71 with value: 0.880576527110501.\u001b[0m\n",
            "\u001b[32m[I 2021-08-12 15:30:36,230]\u001b[0m Trial 90 finished with value: 0.8781743308167468 and parameters: {'classifier': 'MLP', 'neurons': 120, 'depth': 3, 'alpha': 0.0003317385312390685, 'activation_function': 'logistic'}. Best is trial 71 with value: 0.880576527110501.\u001b[0m\n",
            "\u001b[32m[I 2021-08-12 15:31:10,029]\u001b[0m Trial 91 finished with value: 0.880576527110501 and parameters: {'classifier': 'MLP', 'neurons': 160, 'depth': 3, 'alpha': 0.00043155656970008055, 'activation_function': 'logistic'}. Best is trial 71 with value: 0.880576527110501.\u001b[0m\n",
            "\u001b[32m[I 2021-08-12 15:31:57,815]\u001b[0m Trial 92 finished with value: 0.8795470144131777 and parameters: {'classifier': 'MLP', 'neurons': 154, 'depth': 3, 'alpha': 0.000440774196738083, 'activation_function': 'logistic'}. Best is trial 71 with value: 0.880576527110501.\u001b[0m\n",
            "\u001b[32m[I 2021-08-12 15:32:28,088]\u001b[0m Trial 93 finished with value: 0.8809196980096088 and parameters: {'classifier': 'MLP', 'neurons': 162, 'depth': 3, 'alpha': 0.0004508043202466341, 'activation_function': 'logistic'}. Best is trial 93 with value: 0.8809196980096088.\u001b[0m\n",
            "\u001b[32m[I 2021-08-12 15:32:58,838]\u001b[0m Trial 94 finished with value: 0.8798901853122855 and parameters: {'classifier': 'MLP', 'neurons': 163, 'depth': 3, 'alpha': 0.0004843937150560946, 'activation_function': 'logistic'}. Best is trial 93 with value: 0.8809196980096088.\u001b[0m\n",
            "/usr/local/lib/python3.7/dist-packages/sklearn/neural_network/_multilayer_perceptron.py:571: ConvergenceWarning:\n",
            "\n",
            "Stochastic Optimizer: Maximum iterations (200) reached and the optimization hasn't converged yet.\n",
            "\n",
            "\u001b[32m[I 2021-08-12 15:33:27,129]\u001b[0m Trial 95 pruned. \u001b[0m\n",
            "\u001b[32m[I 2021-08-12 15:33:27,190]\u001b[0m Trial 96 pruned. \u001b[0m\n",
            "/usr/local/lib/python3.7/dist-packages/sklearn/neural_network/_multilayer_perceptron.py:571: ConvergenceWarning:\n",
            "\n",
            "Stochastic Optimizer: Maximum iterations (200) reached and the optimization hasn't converged yet.\n",
            "\n",
            "\u001b[32m[I 2021-08-12 15:34:50,317]\u001b[0m Trial 97 pruned. \u001b[0m\n",
            "\u001b[32m[I 2021-08-12 15:35:23,252]\u001b[0m Trial 98 pruned. \u001b[0m\n",
            "\u001b[32m[I 2021-08-12 15:36:33,276]\u001b[0m Trial 99 finished with value: 0.8788606726149623 and parameters: {'classifier': 'MLP', 'neurons': 166, 'depth': 3, 'alpha': 0.0004031928215790846, 'activation_function': 'logistic'}. Best is trial 93 with value: 0.8809196980096088.\u001b[0m\n"
          ],
          "name": "stderr"
        },
        {
          "output_type": "stream",
          "text": [
            "  Number of finished trials:  100\n",
            "  Number of pruned trials:  45\n",
            "  Number of complete trials:  55\n"
          ],
          "name": "stdout"
        }
      ]
    },
    {
      "cell_type": "code",
      "metadata": {
        "id": "RyTZxJyZhqs1",
        "outputId": "f30cd250-ed64-449b-8510-8e9a26d3675a",
        "colab": {
          "base_uri": "https://localhost:8080/"
        }
      },
      "source": [
        "import optuna\n",
        "classes = list(set(y_df))\n",
        "#Step 1. Define an objective function to be maximized.\n",
        "def objective(trial):\n",
        "    \n",
        "    # Step 2. Setup values for the hyperparameters:\n",
        "    \n",
        "    smoothing = trial.suggest_float(\"smoothing\", 1e-10, 1e-8, log=True)\n",
        "    classifier_obj = GaussianNB(var_smoothing=smoothing)\n",
        "    for step in range(100):\n",
        "        classifier_obj.fit(Xtrain, ytrain)\n",
        "        \n",
        "        # Report intermediate objective value.\n",
        "        intermediate_value = classifier_obj.score(Xtest, ytest)\n",
        "        trial.report(intermediate_value, step)\n",
        "\n",
        "        # Handle pruning based on the intermediate value.\n",
        "        if trial.should_prune():\n",
        "            raise optuna.TrialPruned()\n",
        "        return intermediate_value\n",
        "\n",
        "# Step 4: Running it\n",
        "study = optuna.create_study(direction=\"maximize\")\n",
        "study.optimize(objective, n_trials=100)\n",
        "\n",
        "# Calculating the pruned and completed trials\n",
        "pruned_trials = [t for t in study.trials if t.state == optuna.trial.TrialState.PRUNED]\n",
        "complete_trials = [t for t in study.trials if t.state == optuna.trial.TrialState.COMPLETE]\n",
        "\n",
        "print(\"  Number of finished trials: \", len(study.trials))\n",
        "print(\"  Number of pruned trials: \", len(pruned_trials))\n",
        "print(\"  Number of complete trials: \", len(complete_trials))\n"
      ],
      "execution_count": 40,
      "outputs": [
        {
          "output_type": "stream",
          "text": [
            "\u001b[32m[I 2021-08-12 15:36:34,526]\u001b[0m A new study created in memory with name: no-name-cf9844d7-7b2c-48df-8782-cf1e1bb3db4e\u001b[0m\n",
            "\u001b[32m[I 2021-08-12 15:36:34,568]\u001b[0m Trial 0 finished with value: 0.7789979409746054 and parameters: {'smoothing': 6.532266508188698e-10}. Best is trial 0 with value: 0.7789979409746054.\u001b[0m\n",
            "\u001b[32m[I 2021-08-12 15:36:34,604]\u001b[0m Trial 1 finished with value: 0.7786547700754975 and parameters: {'smoothing': 1.4722380623915344e-09}. Best is trial 0 with value: 0.7789979409746054.\u001b[0m\n",
            "\u001b[32m[I 2021-08-12 15:36:34,640]\u001b[0m Trial 2 finished with value: 0.7786547700754975 and parameters: {'smoothing': 9.685116269708431e-10}. Best is trial 0 with value: 0.7789979409746054.\u001b[0m\n",
            "\u001b[32m[I 2021-08-12 15:36:34,672]\u001b[0m Trial 3 finished with value: 0.7786547700754975 and parameters: {'smoothing': 1.6177051546591522e-09}. Best is trial 0 with value: 0.7789979409746054.\u001b[0m\n",
            "\u001b[32m[I 2021-08-12 15:36:34,706]\u001b[0m Trial 4 finished with value: 0.7786547700754975 and parameters: {'smoothing': 3.2883659182327356e-10}. Best is trial 0 with value: 0.7789979409746054.\u001b[0m\n",
            "\u001b[32m[I 2021-08-12 15:36:34,740]\u001b[0m Trial 5 finished with value: 0.7786547700754975 and parameters: {'smoothing': 3.392977803877457e-09}. Best is trial 0 with value: 0.7789979409746054.\u001b[0m\n",
            "\u001b[32m[I 2021-08-12 15:36:34,774]\u001b[0m Trial 6 pruned. \u001b[0m\n",
            "\u001b[32m[I 2021-08-12 15:36:34,810]\u001b[0m Trial 7 pruned. \u001b[0m\n",
            "\u001b[32m[I 2021-08-12 15:36:34,843]\u001b[0m Trial 8 finished with value: 0.7789979409746054 and parameters: {'smoothing': 4.749872688819413e-10}. Best is trial 0 with value: 0.7789979409746054.\u001b[0m\n",
            "\u001b[32m[I 2021-08-12 15:36:34,876]\u001b[0m Trial 9 pruned. \u001b[0m\n",
            "\u001b[32m[I 2021-08-12 15:36:34,914]\u001b[0m Trial 10 finished with value: 0.7786547700754975 and parameters: {'smoothing': 1.2206896395413363e-10}. Best is trial 0 with value: 0.7789979409746054.\u001b[0m\n",
            "\u001b[32m[I 2021-08-12 15:36:34,949]\u001b[0m Trial 11 finished with value: 0.7789979409746054 and parameters: {'smoothing': 4.746030359855421e-10}. Best is trial 0 with value: 0.7789979409746054.\u001b[0m\n",
            "\u001b[32m[I 2021-08-12 15:36:34,986]\u001b[0m Trial 12 finished with value: 0.7786547700754975 and parameters: {'smoothing': 3.9171923784142684e-10}. Best is trial 0 with value: 0.7789979409746054.\u001b[0m\n",
            "\u001b[32m[I 2021-08-12 15:36:35,024]\u001b[0m Trial 13 finished with value: 0.7786547700754975 and parameters: {'smoothing': 2.1411054698034886e-10}. Best is trial 0 with value: 0.7789979409746054.\u001b[0m\n",
            "\u001b[32m[I 2021-08-12 15:36:35,062]\u001b[0m Trial 14 finished with value: 0.7789979409746054 and parameters: {'smoothing': 7.383115631062045e-10}. Best is trial 0 with value: 0.7789979409746054.\u001b[0m\n",
            "\u001b[32m[I 2021-08-12 15:36:35,098]\u001b[0m Trial 15 finished with value: 0.7786547700754975 and parameters: {'smoothing': 1.850036352151546e-10}. Best is trial 0 with value: 0.7789979409746054.\u001b[0m\n",
            "\u001b[32m[I 2021-08-12 15:36:35,135]\u001b[0m Trial 16 finished with value: 0.7789979409746054 and parameters: {'smoothing': 6.762784124606052e-10}. Best is trial 0 with value: 0.7789979409746054.\u001b[0m\n",
            "\u001b[32m[I 2021-08-12 15:36:35,171]\u001b[0m Trial 17 finished with value: 0.7786547700754975 and parameters: {'smoothing': 8.248643850107736e-10}. Best is trial 0 with value: 0.7789979409746054.\u001b[0m\n",
            "\u001b[32m[I 2021-08-12 15:36:35,206]\u001b[0m Trial 18 finished with value: 0.7786547700754975 and parameters: {'smoothing': 1.683144779154299e-09}. Best is trial 0 with value: 0.7789979409746054.\u001b[0m\n",
            "\u001b[32m[I 2021-08-12 15:36:35,244]\u001b[0m Trial 19 finished with value: 0.7786547700754975 and parameters: {'smoothing': 2.613466633261155e-10}. Best is trial 0 with value: 0.7789979409746054.\u001b[0m\n",
            "\u001b[32m[I 2021-08-12 15:36:35,289]\u001b[0m Trial 20 finished with value: 0.7789979409746054 and parameters: {'smoothing': 5.410881540502507e-10}. Best is trial 0 with value: 0.7789979409746054.\u001b[0m\n",
            "\u001b[32m[I 2021-08-12 15:36:35,326]\u001b[0m Trial 21 finished with value: 0.7789979409746054 and parameters: {'smoothing': 7.138378760420927e-10}. Best is trial 0 with value: 0.7789979409746054.\u001b[0m\n",
            "\u001b[32m[I 2021-08-12 15:36:35,363]\u001b[0m Trial 22 finished with value: 0.7789979409746054 and parameters: {'smoothing': 7.07200898166843e-10}. Best is trial 0 with value: 0.7789979409746054.\u001b[0m\n",
            "\u001b[32m[I 2021-08-12 15:36:35,406]\u001b[0m Trial 23 finished with value: 0.7789979409746054 and parameters: {'smoothing': 5.267152805042725e-10}. Best is trial 0 with value: 0.7789979409746054.\u001b[0m\n",
            "\u001b[32m[I 2021-08-12 15:36:35,442]\u001b[0m Trial 24 finished with value: 0.7786547700754975 and parameters: {'smoothing': 1.1893351397433168e-09}. Best is trial 0 with value: 0.7789979409746054.\u001b[0m\n",
            "\u001b[32m[I 2021-08-12 15:36:35,483]\u001b[0m Trial 25 pruned. \u001b[0m\n",
            "\u001b[32m[I 2021-08-12 15:36:35,519]\u001b[0m Trial 26 finished with value: 0.7786547700754975 and parameters: {'smoothing': 1.2705934707023944e-10}. Best is trial 0 with value: 0.7789979409746054.\u001b[0m\n",
            "\u001b[32m[I 2021-08-12 15:36:35,553]\u001b[0m Trial 27 finished with value: 0.7786547700754975 and parameters: {'smoothing': 2.779122017331578e-10}. Best is trial 0 with value: 0.7789979409746054.\u001b[0m\n",
            "\u001b[32m[I 2021-08-12 15:36:35,589]\u001b[0m Trial 28 finished with value: 0.7786547700754975 and parameters: {'smoothing': 1.1238871838948144e-09}. Best is trial 0 with value: 0.7789979409746054.\u001b[0m\n",
            "\u001b[32m[I 2021-08-12 15:36:35,625]\u001b[0m Trial 29 finished with value: 0.7786547700754975 and parameters: {'smoothing': 1.416229024008646e-09}. Best is trial 0 with value: 0.7789979409746054.\u001b[0m\n",
            "\u001b[32m[I 2021-08-12 15:36:35,661]\u001b[0m Trial 30 pruned. \u001b[0m\n",
            "\u001b[32m[I 2021-08-12 15:36:35,701]\u001b[0m Trial 31 finished with value: 0.7789979409746054 and parameters: {'smoothing': 5.817345638496326e-10}. Best is trial 0 with value: 0.7789979409746054.\u001b[0m\n",
            "\u001b[32m[I 2021-08-12 15:36:35,736]\u001b[0m Trial 32 finished with value: 0.7786547700754975 and parameters: {'smoothing': 8.549050003544907e-10}. Best is trial 0 with value: 0.7789979409746054.\u001b[0m\n",
            "\u001b[32m[I 2021-08-12 15:36:35,772]\u001b[0m Trial 33 finished with value: 0.7786547700754975 and parameters: {'smoothing': 9.314876950734317e-10}. Best is trial 0 with value: 0.7789979409746054.\u001b[0m\n",
            "\u001b[32m[I 2021-08-12 15:36:35,809]\u001b[0m Trial 34 finished with value: 0.7789979409746054 and parameters: {'smoothing': 5.892408362875062e-10}. Best is trial 0 with value: 0.7789979409746054.\u001b[0m\n",
            "\u001b[32m[I 2021-08-12 15:36:35,845]\u001b[0m Trial 35 finished with value: 0.7786547700754975 and parameters: {'smoothing': 3.8210835203840436e-10}. Best is trial 0 with value: 0.7789979409746054.\u001b[0m\n",
            "\u001b[32m[I 2021-08-12 15:36:35,881]\u001b[0m Trial 36 finished with value: 0.7789979409746054 and parameters: {'smoothing': 5.792996992913568e-10}. Best is trial 0 with value: 0.7789979409746054.\u001b[0m\n",
            "\u001b[32m[I 2021-08-12 15:36:35,918]\u001b[0m Trial 37 finished with value: 0.7786547700754975 and parameters: {'smoothing': 3.6072188411946003e-10}. Best is trial 0 with value: 0.7789979409746054.\u001b[0m\n",
            "\u001b[32m[I 2021-08-12 15:36:35,955]\u001b[0m Trial 38 finished with value: 0.7789979409746054 and parameters: {'smoothing': 7.126479541284248e-10}. Best is trial 0 with value: 0.7789979409746054.\u001b[0m\n",
            "\u001b[32m[I 2021-08-12 15:36:35,994]\u001b[0m Trial 39 finished with value: 0.7789979409746054 and parameters: {'smoothing': 5.591688061785944e-10}. Best is trial 0 with value: 0.7789979409746054.\u001b[0m\n",
            "\u001b[32m[I 2021-08-12 15:36:36,032]\u001b[0m Trial 40 finished with value: 0.7786547700754975 and parameters: {'smoothing': 2.916124932629975e-10}. Best is trial 0 with value: 0.7789979409746054.\u001b[0m\n",
            "\u001b[32m[I 2021-08-12 15:36:36,069]\u001b[0m Trial 41 finished with value: 0.7786547700754975 and parameters: {'smoothing': 1.1990039003748682e-09}. Best is trial 0 with value: 0.7789979409746054.\u001b[0m\n",
            "\u001b[32m[I 2021-08-12 15:36:36,106]\u001b[0m Trial 42 finished with value: 0.7789979409746054 and parameters: {'smoothing': 4.1427425594909343e-10}. Best is trial 0 with value: 0.7789979409746054.\u001b[0m\n",
            "\u001b[32m[I 2021-08-12 15:36:36,154]\u001b[0m Trial 43 finished with value: 0.7789979409746054 and parameters: {'smoothing': 6.033379173905879e-10}. Best is trial 0 with value: 0.7789979409746054.\u001b[0m\n",
            "\u001b[32m[I 2021-08-12 15:36:36,193]\u001b[0m Trial 44 finished with value: 0.7786547700754975 and parameters: {'smoothing': 9.487682275852027e-10}. Best is trial 0 with value: 0.7789979409746054.\u001b[0m\n",
            "\u001b[32m[I 2021-08-12 15:36:36,231]\u001b[0m Trial 45 finished with value: 0.7789979409746054 and parameters: {'smoothing': 4.6351804418402846e-10}. Best is trial 0 with value: 0.7789979409746054.\u001b[0m\n",
            "\u001b[32m[I 2021-08-12 15:36:36,270]\u001b[0m Trial 46 finished with value: 0.7789979409746054 and parameters: {'smoothing': 4.1890807628963683e-10}. Best is trial 0 with value: 0.7789979409746054.\u001b[0m\n",
            "\u001b[32m[I 2021-08-12 15:36:36,306]\u001b[0m Trial 47 pruned. \u001b[0m\n",
            "\u001b[32m[I 2021-08-12 15:36:36,344]\u001b[0m Trial 48 finished with value: 0.7786547700754975 and parameters: {'smoothing': 1.9704473332668863e-10}. Best is trial 0 with value: 0.7789979409746054.\u001b[0m\n",
            "\u001b[32m[I 2021-08-12 15:36:36,385]\u001b[0m Trial 49 finished with value: 0.7786547700754975 and parameters: {'smoothing': 1.730912118864748e-09}. Best is trial 0 with value: 0.7789979409746054.\u001b[0m\n",
            "\u001b[32m[I 2021-08-12 15:36:36,428]\u001b[0m Trial 50 finished with value: 0.7789979409746054 and parameters: {'smoothing': 7.391579000852901e-10}. Best is trial 0 with value: 0.7789979409746054.\u001b[0m\n",
            "\u001b[32m[I 2021-08-12 15:36:36,466]\u001b[0m Trial 51 finished with value: 0.7789979409746054 and parameters: {'smoothing': 4.5814605608809966e-10}. Best is trial 0 with value: 0.7789979409746054.\u001b[0m\n",
            "\u001b[32m[I 2021-08-12 15:36:36,504]\u001b[0m Trial 52 finished with value: 0.7789979409746054 and parameters: {'smoothing': 4.289929518638428e-10}. Best is trial 0 with value: 0.7789979409746054.\u001b[0m\n",
            "\u001b[32m[I 2021-08-12 15:36:36,541]\u001b[0m Trial 53 finished with value: 0.7786547700754975 and parameters: {'smoothing': 3.314344922557429e-10}. Best is trial 0 with value: 0.7789979409746054.\u001b[0m\n",
            "\u001b[32m[I 2021-08-12 15:36:36,582]\u001b[0m Trial 54 finished with value: 0.7786547700754975 and parameters: {'smoothing': 2.415657728256928e-10}. Best is trial 0 with value: 0.7789979409746054.\u001b[0m\n",
            "\u001b[32m[I 2021-08-12 15:36:36,618]\u001b[0m Trial 55 finished with value: 0.7789979409746054 and parameters: {'smoothing': 6.827467696535551e-10}. Best is trial 0 with value: 0.7789979409746054.\u001b[0m\n",
            "\u001b[32m[I 2021-08-12 15:36:36,654]\u001b[0m Trial 56 finished with value: 0.7789979409746054 and parameters: {'smoothing': 5.354801898949902e-10}. Best is trial 0 with value: 0.7789979409746054.\u001b[0m\n",
            "\u001b[32m[I 2021-08-12 15:36:36,689]\u001b[0m Trial 57 finished with value: 0.7786547700754975 and parameters: {'smoothing': 1.076514203485172e-09}. Best is trial 0 with value: 0.7789979409746054.\u001b[0m\n",
            "\u001b[32m[I 2021-08-12 15:36:36,726]\u001b[0m Trial 58 finished with value: 0.7789979409746054 and parameters: {'smoothing': 5.721405206197809e-10}. Best is trial 0 with value: 0.7789979409746054.\u001b[0m\n",
            "\u001b[32m[I 2021-08-12 15:36:36,763]\u001b[0m Trial 59 finished with value: 0.7786547700754975 and parameters: {'smoothing': 1.3429912639252615e-09}. Best is trial 0 with value: 0.7789979409746054.\u001b[0m\n",
            "\u001b[32m[I 2021-08-12 15:36:36,800]\u001b[0m Trial 60 finished with value: 0.7786547700754975 and parameters: {'smoothing': 7.94681537031424e-10}. Best is trial 0 with value: 0.7789979409746054.\u001b[0m\n",
            "\u001b[32m[I 2021-08-12 15:36:36,835]\u001b[0m Trial 61 finished with value: 0.7789979409746054 and parameters: {'smoothing': 5.286360488856404e-10}. Best is trial 0 with value: 0.7789979409746054.\u001b[0m\n",
            "\u001b[32m[I 2021-08-12 15:36:36,880]\u001b[0m Trial 62 finished with value: 0.7789979409746054 and parameters: {'smoothing': 6.019820786895143e-10}. Best is trial 0 with value: 0.7789979409746054.\u001b[0m\n",
            "\u001b[32m[I 2021-08-12 15:36:36,921]\u001b[0m Trial 63 finished with value: 0.7789979409746054 and parameters: {'smoothing': 4.985974101715196e-10}. Best is trial 0 with value: 0.7789979409746054.\u001b[0m\n",
            "\u001b[32m[I 2021-08-12 15:36:36,959]\u001b[0m Trial 64 finished with value: 0.7789979409746054 and parameters: {'smoothing': 6.406997003367411e-10}. Best is trial 0 with value: 0.7789979409746054.\u001b[0m\n",
            "\u001b[32m[I 2021-08-12 15:36:36,998]\u001b[0m Trial 65 finished with value: 0.7786547700754975 and parameters: {'smoothing': 8.830613056062756e-10}. Best is trial 0 with value: 0.7789979409746054.\u001b[0m\n",
            "\u001b[32m[I 2021-08-12 15:36:37,036]\u001b[0m Trial 66 finished with value: 0.7786547700754975 and parameters: {'smoothing': 3.3086689624237486e-10}. Best is trial 0 with value: 0.7789979409746054.\u001b[0m\n",
            "\u001b[32m[I 2021-08-12 15:36:37,074]\u001b[0m Trial 67 finished with value: 0.7789979409746054 and parameters: {'smoothing': 4.647453872687989e-10}. Best is trial 0 with value: 0.7789979409746054.\u001b[0m\n",
            "\u001b[32m[I 2021-08-12 15:36:37,113]\u001b[0m Trial 68 finished with value: 0.7786547700754975 and parameters: {'smoothing': 3.906624694188897e-10}. Best is trial 0 with value: 0.7789979409746054.\u001b[0m\n",
            "\u001b[32m[I 2021-08-12 15:36:37,151]\u001b[0m Trial 69 finished with value: 0.7786547700754975 and parameters: {'smoothing': 2.9742864532816073e-10}. Best is trial 0 with value: 0.7789979409746054.\u001b[0m\n",
            "\u001b[32m[I 2021-08-12 15:36:37,192]\u001b[0m Trial 70 finished with value: 0.7789979409746054 and parameters: {'smoothing': 7.736390608035053e-10}. Best is trial 0 with value: 0.7789979409746054.\u001b[0m\n",
            "\u001b[32m[I 2021-08-12 15:36:37,229]\u001b[0m Trial 71 finished with value: 0.7789979409746054 and parameters: {'smoothing': 6.417740738125665e-10}. Best is trial 0 with value: 0.7789979409746054.\u001b[0m\n",
            "\u001b[32m[I 2021-08-12 15:36:37,267]\u001b[0m Trial 72 finished with value: 0.7789979409746054 and parameters: {'smoothing': 7.706417409128295e-10}. Best is trial 0 with value: 0.7789979409746054.\u001b[0m\n",
            "\u001b[32m[I 2021-08-12 15:36:37,321]\u001b[0m Trial 73 finished with value: 0.7789979409746054 and parameters: {'smoothing': 6.300313125314905e-10}. Best is trial 0 with value: 0.7789979409746054.\u001b[0m\n",
            "\u001b[32m[I 2021-08-12 15:36:37,359]\u001b[0m Trial 74 finished with value: 0.7789979409746054 and parameters: {'smoothing': 4.422952418689938e-10}. Best is trial 0 with value: 0.7789979409746054.\u001b[0m\n",
            "\u001b[32m[I 2021-08-12 15:36:37,397]\u001b[0m Trial 75 finished with value: 0.7786547700754975 and parameters: {'smoothing': 1.6400017070027488e-10}. Best is trial 0 with value: 0.7789979409746054.\u001b[0m\n",
            "\u001b[32m[I 2021-08-12 15:36:37,440]\u001b[0m Trial 76 finished with value: 0.7789979409746054 and parameters: {'smoothing': 5.446681036468248e-10}. Best is trial 0 with value: 0.7789979409746054.\u001b[0m\n",
            "\u001b[32m[I 2021-08-12 15:36:37,477]\u001b[0m Trial 77 finished with value: 0.7789979409746054 and parameters: {'smoothing': 4.171265464513892e-10}. Best is trial 0 with value: 0.7789979409746054.\u001b[0m\n",
            "\u001b[32m[I 2021-08-12 15:36:37,514]\u001b[0m Trial 78 pruned. \u001b[0m\n",
            "\u001b[32m[I 2021-08-12 15:36:37,552]\u001b[0m Trial 79 finished with value: 0.7789979409746054 and parameters: {'smoothing': 4.246310884684438e-10}. Best is trial 0 with value: 0.7789979409746054.\u001b[0m\n",
            "\u001b[32m[I 2021-08-12 15:36:37,592]\u001b[0m Trial 80 pruned. \u001b[0m\n",
            "\u001b[32m[I 2021-08-12 15:36:37,630]\u001b[0m Trial 81 finished with value: 0.7789979409746054 and parameters: {'smoothing': 5.468198314811417e-10}. Best is trial 0 with value: 0.7789979409746054.\u001b[0m\n",
            "\u001b[32m[I 2021-08-12 15:36:37,667]\u001b[0m Trial 82 pruned. \u001b[0m\n",
            "\u001b[32m[I 2021-08-12 15:36:37,705]\u001b[0m Trial 83 finished with value: 0.7789979409746054 and parameters: {'smoothing': 6.770264612721394e-10}. Best is trial 0 with value: 0.7789979409746054.\u001b[0m\n",
            "\u001b[32m[I 2021-08-12 15:36:37,745]\u001b[0m Trial 84 finished with value: 0.7789979409746054 and parameters: {'smoothing': 4.912426646361196e-10}. Best is trial 0 with value: 0.7789979409746054.\u001b[0m\n",
            "\u001b[32m[I 2021-08-12 15:36:37,783]\u001b[0m Trial 85 finished with value: 0.7789979409746054 and parameters: {'smoothing': 7.059271442956843e-10}. Best is trial 0 with value: 0.7789979409746054.\u001b[0m\n",
            "\u001b[32m[I 2021-08-12 15:36:37,823]\u001b[0m Trial 86 finished with value: 0.7789979409746054 and parameters: {'smoothing': 4.850926769351696e-10}. Best is trial 0 with value: 0.7789979409746054.\u001b[0m\n",
            "\u001b[32m[I 2021-08-12 15:36:37,862]\u001b[0m Trial 87 finished with value: 0.7789979409746054 and parameters: {'smoothing': 7.321997340280085e-10}. Best is trial 0 with value: 0.7789979409746054.\u001b[0m\n",
            "\u001b[32m[I 2021-08-12 15:36:37,903]\u001b[0m Trial 88 pruned. \u001b[0m\n",
            "\u001b[32m[I 2021-08-12 15:36:37,943]\u001b[0m Trial 89 finished with value: 0.7789979409746054 and parameters: {'smoothing': 6.288524317225667e-10}. Best is trial 0 with value: 0.7789979409746054.\u001b[0m\n",
            "\u001b[32m[I 2021-08-12 15:36:37,986]\u001b[0m Trial 90 pruned. \u001b[0m\n",
            "\u001b[32m[I 2021-08-12 15:36:38,023]\u001b[0m Trial 91 finished with value: 0.7789979409746054 and parameters: {'smoothing': 4.340109551962748e-10}. Best is trial 0 with value: 0.7789979409746054.\u001b[0m\n",
            "\u001b[32m[I 2021-08-12 15:36:38,060]\u001b[0m Trial 92 pruned. \u001b[0m\n",
            "\u001b[32m[I 2021-08-12 15:36:38,098]\u001b[0m Trial 93 pruned. \u001b[0m\n",
            "\u001b[32m[I 2021-08-12 15:36:38,137]\u001b[0m Trial 94 finished with value: 0.7789979409746054 and parameters: {'smoothing': 4.854984218289113e-10}. Best is trial 0 with value: 0.7789979409746054.\u001b[0m\n",
            "\u001b[32m[I 2021-08-12 15:36:38,175]\u001b[0m Trial 95 finished with value: 0.7789979409746054 and parameters: {'smoothing': 5.066617415115573e-10}. Best is trial 0 with value: 0.7789979409746054.\u001b[0m\n",
            "\u001b[32m[I 2021-08-12 15:36:38,216]\u001b[0m Trial 96 finished with value: 0.7789979409746054 and parameters: {'smoothing': 5.086359987731856e-10}. Best is trial 0 with value: 0.7789979409746054.\u001b[0m\n",
            "\u001b[32m[I 2021-08-12 15:36:38,253]\u001b[0m Trial 97 finished with value: 0.7789979409746054 and parameters: {'smoothing': 5.815644902288351e-10}. Best is trial 0 with value: 0.7789979409746054.\u001b[0m\n",
            "\u001b[32m[I 2021-08-12 15:36:38,291]\u001b[0m Trial 98 finished with value: 0.7789979409746054 and parameters: {'smoothing': 6.580215203285622e-10}. Best is trial 0 with value: 0.7789979409746054.\u001b[0m\n",
            "\u001b[32m[I 2021-08-12 15:36:38,330]\u001b[0m Trial 99 pruned. \u001b[0m\n"
          ],
          "name": "stderr"
        },
        {
          "output_type": "stream",
          "text": [
            "  Number of finished trials:  100\n",
            "  Number of pruned trials:  14\n",
            "  Number of complete trials:  86\n"
          ],
          "name": "stdout"
        }
      ]
    },
    {
      "cell_type": "code",
      "metadata": {
        "id": "azLi2uIl2OJe",
        "outputId": "8d1e23e9-0e1c-4413-8231-568ef78d57d7",
        "colab": {
          "base_uri": "https://localhost:8080/"
        }
      },
      "source": [
        "import optuna\n",
        "classes = list(set(y_df))\n",
        "#Step 1. Define an objective function to be maximized.\n",
        "def objective(trial):\n",
        "\n",
        "    rf_n_estimators = trial.suggest_int(\"rf_n_estimators\", 10, 1000)\n",
        "    rf_max_depth = trial.suggest_int(\"rf_max_depth\", 2, 32, log=True)\n",
        "    classifier_obj = RandomForestClassifier(\n",
        "        max_depth=rf_max_depth, n_estimators=rf_n_estimators\n",
        "    )\n",
        "    for step in range(100):\n",
        "        classifier_obj.fit(Xtrain, ytrain)\n",
        "        \n",
        "        # Report intermediate objective value.\n",
        "        intermediate_value = classifier_obj.score(Xtest, ytest)\n",
        "        trial.report(intermediate_value, step)\n",
        "\n",
        "        # Handle pruning based on the intermediate value.\n",
        "        if trial.should_prune():\n",
        "            raise optuna.TrialPruned()\n",
        "        return intermediate_value\n",
        "\n",
        "# Step 4: Running it\n",
        "study = optuna.create_study(direction=\"maximize\")\n",
        "study.optimize(objective, n_trials=100)\n",
        "\n",
        "# Calculating the pruned and completed trials\n",
        "pruned_trials = [t for t in study.trials if t.state == optuna.trial.TrialState.PRUNED]\n",
        "complete_trials = [t for t in study.trials if t.state == optuna.trial.TrialState.COMPLETE]\n",
        "\n",
        "print(\"  Number of finished trials: \", len(study.trials))\n",
        "print(\"  Number of pruned trials: \", len(pruned_trials))\n",
        "print(\"  Number of complete trials: \", len(complete_trials))\n"
      ],
      "execution_count": 41,
      "outputs": [
        {
          "output_type": "stream",
          "text": [
            "\u001b[32m[I 2021-08-12 15:36:38,397]\u001b[0m A new study created in memory with name: no-name-ccb305a3-2dff-40b6-b2f0-f25ebffe032b\u001b[0m\n",
            "\u001b[32m[I 2021-08-12 15:36:41,047]\u001b[0m Trial 0 finished with value: 0.867879203843514 and parameters: {'rf_n_estimators': 326, 'rf_max_depth': 19}. Best is trial 0 with value: 0.867879203843514.\u001b[0m\n",
            "\u001b[32m[I 2021-08-12 15:36:43,171]\u001b[0m Trial 1 finished with value: 0.7498284145504461 and parameters: {'rf_n_estimators': 628, 'rf_max_depth': 2}. Best is trial 0 with value: 0.867879203843514.\u001b[0m\n",
            "\u001b[32m[I 2021-08-12 15:36:44,200]\u001b[0m Trial 2 finished with value: 0.8366506520247083 and parameters: {'rf_n_estimators': 216, 'rf_max_depth': 4}. Best is trial 0 with value: 0.867879203843514.\u001b[0m\n",
            "\u001b[32m[I 2021-08-12 15:36:44,889]\u001b[0m Trial 3 finished with value: 0.7707618393960192 and parameters: {'rf_n_estimators': 155, 'rf_max_depth': 3}. Best is trial 0 with value: 0.867879203843514.\u001b[0m\n",
            "\u001b[32m[I 2021-08-12 15:36:47,017]\u001b[0m Trial 4 finished with value: 0.8737131091283459 and parameters: {'rf_n_estimators': 474, 'rf_max_depth': 6}. Best is trial 4 with value: 0.8737131091283459.\u001b[0m\n",
            "\u001b[32m[I 2021-08-12 15:36:50,388]\u001b[0m Trial 5 finished with value: 0.8723404255319149 and parameters: {'rf_n_estimators': 743, 'rf_max_depth': 5}. Best is trial 4 with value: 0.8737131091283459.\u001b[0m\n",
            "\u001b[32m[I 2021-08-12 15:36:52,665]\u001b[0m Trial 6 finished with value: 0.8740562800274537 and parameters: {'rf_n_estimators': 382, 'rf_max_depth': 11}. Best is trial 6 with value: 0.8740562800274537.\u001b[0m\n",
            "\u001b[32m[I 2021-08-12 15:36:52,818]\u001b[0m Trial 7 pruned. \u001b[0m\n",
            "\u001b[32m[I 2021-08-12 15:36:54,105]\u001b[0m Trial 8 pruned. \u001b[0m\n",
            "\u001b[32m[I 2021-08-12 15:36:57,219]\u001b[0m Trial 9 pruned. \u001b[0m\n",
            "\u001b[32m[I 2021-08-12 15:37:03,745]\u001b[0m Trial 10 finished with value: 0.8726835964310227 and parameters: {'rf_n_estimators': 909, 'rf_max_depth': 13}. Best is trial 6 with value: 0.8740562800274537.\u001b[0m\n",
            "\u001b[32m[I 2021-08-12 15:37:06,478]\u001b[0m Trial 11 finished with value: 0.8730267673301304 and parameters: {'rf_n_estimators': 467, 'rf_max_depth': 9}. Best is trial 6 with value: 0.8740562800274537.\u001b[0m\n",
            "\u001b[32m[I 2021-08-12 15:37:10,984]\u001b[0m Trial 12 pruned. \u001b[0m\n",
            "\u001b[32m[I 2021-08-12 15:37:13,410]\u001b[0m Trial 13 finished with value: 0.8754289636238847 and parameters: {'rf_n_estimators': 428, 'rf_max_depth': 9}. Best is trial 13 with value: 0.8754289636238847.\u001b[0m\n",
            "\u001b[32m[I 2021-08-12 15:37:15,616]\u001b[0m Trial 14 finished with value: 0.8747426218256692 and parameters: {'rf_n_estimators': 352, 'rf_max_depth': 9}. Best is trial 13 with value: 0.8754289636238847.\u001b[0m\n",
            "\u001b[32m[I 2021-08-12 15:37:20,508]\u001b[0m Trial 15 pruned. \u001b[0m\n",
            "\u001b[32m[I 2021-08-12 15:37:21,748]\u001b[0m Trial 16 finished with value: 0.8743994509265615 and parameters: {'rf_n_estimators': 203, 'rf_max_depth': 8}. Best is trial 13 with value: 0.8754289636238847.\u001b[0m\n",
            "\u001b[32m[I 2021-08-12 15:37:27,028]\u001b[0m Trial 17 pruned. \u001b[0m\n",
            "\u001b[32m[I 2021-08-12 15:37:27,168]\u001b[0m Trial 18 finished with value: 0.8750857927247769 and parameters: {'rf_n_estimators': 24, 'rf_max_depth': 7}. Best is trial 13 with value: 0.8754289636238847.\u001b[0m\n",
            "\u001b[32m[I 2021-08-12 15:37:27,325]\u001b[0m Trial 19 finished with value: 0.8730267673301304 and parameters: {'rf_n_estimators': 28, 'rf_max_depth': 6}. Best is trial 13 with value: 0.8754289636238847.\u001b[0m\n",
            "\u001b[32m[I 2021-08-12 15:37:36,004]\u001b[0m Trial 20 pruned. \u001b[0m\n",
            "\u001b[32m[I 2021-08-12 15:37:36,906]\u001b[0m Trial 21 finished with value: 0.8747426218256692 and parameters: {'rf_n_estimators': 126, 'rf_max_depth': 10}. Best is trial 13 with value: 0.8754289636238847.\u001b[0m\n",
            "\u001b[32m[I 2021-08-12 15:37:37,873]\u001b[0m Trial 22 finished with value: 0.8750857927247769 and parameters: {'rf_n_estimators': 132, 'rf_max_depth': 12}. Best is trial 13 with value: 0.8754289636238847.\u001b[0m\n",
            "\u001b[32m[I 2021-08-12 15:37:38,616]\u001b[0m Trial 23 finished with value: 0.8747426218256692 and parameters: {'rf_n_estimators': 96, 'rf_max_depth': 13}. Best is trial 13 with value: 0.8754289636238847.\u001b[0m\n",
            "\u001b[32m[I 2021-08-12 15:37:40,094]\u001b[0m Trial 24 pruned. \u001b[0m\n",
            "\u001b[32m[I 2021-08-12 15:37:40,204]\u001b[0m Trial 25 finished with value: 0.8747426218256692 and parameters: {'rf_n_estimators': 11, 'rf_max_depth': 13}. Best is trial 13 with value: 0.8754289636238847.\u001b[0m\n",
            "\u001b[32m[I 2021-08-12 15:37:42,518]\u001b[0m Trial 26 pruned. \u001b[0m\n",
            "\u001b[32m[I 2021-08-12 15:37:43,103]\u001b[0m Trial 27 finished with value: 0.8754289636238847 and parameters: {'rf_n_estimators': 100, 'rf_max_depth': 7}. Best is trial 13 with value: 0.8754289636238847.\u001b[0m\n",
            "\u001b[32m[I 2021-08-12 15:37:46,407]\u001b[0m Trial 28 pruned. \u001b[0m\n",
            "\u001b[32m[I 2021-08-12 15:37:49,138]\u001b[0m Trial 29 pruned. \u001b[0m\n",
            "\u001b[32m[I 2021-08-12 15:37:49,774]\u001b[0m Trial 30 pruned. \u001b[0m\n",
            "\u001b[32m[I 2021-08-12 15:37:50,613]\u001b[0m Trial 31 finished with value: 0.8740562800274537 and parameters: {'rf_n_estimators': 156, 'rf_max_depth': 7}. Best is trial 13 with value: 0.8754289636238847.\u001b[0m\n",
            "\u001b[32m[I 2021-08-12 15:37:51,038]\u001b[0m Trial 32 finished with value: 0.8740562800274537 and parameters: {'rf_n_estimators': 80, 'rf_max_depth': 8}. Best is trial 13 with value: 0.8754289636238847.\u001b[0m\n",
            "\u001b[32m[I 2021-08-12 15:37:52,175]\u001b[0m Trial 33 pruned. \u001b[0m\n",
            "\u001b[32m[I 2021-08-12 15:37:53,213]\u001b[0m Trial 34 finished with value: 0.8747426218256692 and parameters: {'rf_n_estimators': 225, 'rf_max_depth': 6}. Best is trial 13 with value: 0.8754289636238847.\u001b[0m\n",
            "\u001b[32m[I 2021-08-12 15:37:54,652]\u001b[0m Trial 35 pruned. \u001b[0m\n",
            "\u001b[32m[I 2021-08-12 15:37:54,917]\u001b[0m Trial 36 pruned. \u001b[0m\n",
            "\u001b[32m[I 2021-08-12 15:37:55,629]\u001b[0m Trial 37 finished with value: 0.8747426218256692 and parameters: {'rf_n_estimators': 122, 'rf_max_depth': 8}. Best is trial 13 with value: 0.8754289636238847.\u001b[0m\n",
            "\u001b[32m[I 2021-08-12 15:37:58,686]\u001b[0m Trial 38 pruned. \u001b[0m\n",
            "\u001b[32m[I 2021-08-12 15:38:01,161]\u001b[0m Trial 39 pruned. \u001b[0m\n",
            "\u001b[32m[I 2021-08-12 15:38:03,429]\u001b[0m Trial 40 pruned. \u001b[0m\n",
            "\u001b[32m[I 2021-08-12 15:38:03,664]\u001b[0m Trial 41 finished with value: 0.8754289636238847 and parameters: {'rf_n_estimators': 29, 'rf_max_depth': 13}. Best is trial 13 with value: 0.8754289636238847.\u001b[0m\n",
            "\u001b[32m[I 2021-08-12 15:38:04,789]\u001b[0m Trial 42 finished with value: 0.8743994509265615 and parameters: {'rf_n_estimators': 188, 'rf_max_depth': 10}. Best is trial 13 with value: 0.8754289636238847.\u001b[0m\n",
            "\u001b[32m[I 2021-08-12 15:38:05,370]\u001b[0m Trial 43 pruned. \u001b[0m\n",
            "\u001b[32m[I 2021-08-12 15:38:06,012]\u001b[0m Trial 44 pruned. \u001b[0m\n",
            "\u001b[32m[I 2021-08-12 15:38:06,134]\u001b[0m Trial 45 pruned. \u001b[0m\n",
            "\u001b[32m[I 2021-08-12 15:38:07,643]\u001b[0m Trial 46 pruned. \u001b[0m\n",
            "\u001b[32m[I 2021-08-12 15:38:08,794]\u001b[0m Trial 47 pruned. \u001b[0m\n",
            "\u001b[32m[I 2021-08-12 15:38:11,283]\u001b[0m Trial 48 pruned. \u001b[0m\n",
            "\u001b[32m[I 2021-08-12 15:38:11,683]\u001b[0m Trial 49 pruned. \u001b[0m\n",
            "\u001b[32m[I 2021-08-12 15:38:13,572]\u001b[0m Trial 50 finished with value: 0.8743994509265615 and parameters: {'rf_n_estimators': 354, 'rf_max_depth': 7}. Best is trial 13 with value: 0.8754289636238847.\u001b[0m\n",
            "\u001b[32m[I 2021-08-12 15:38:13,759]\u001b[0m Trial 51 pruned. \u001b[0m\n",
            "\u001b[32m[I 2021-08-12 15:38:13,862]\u001b[0m Trial 52 finished with value: 0.8768016472203157 and parameters: {'rf_n_estimators': 12, 'rf_max_depth': 10}. Best is trial 52 with value: 0.8768016472203157.\u001b[0m\n",
            "\u001b[32m[I 2021-08-12 15:38:14,473]\u001b[0m Trial 53 finished with value: 0.8747426218256692 and parameters: {'rf_n_estimators': 90, 'rf_max_depth': 10}. Best is trial 52 with value: 0.8768016472203157.\u001b[0m\n",
            "\u001b[32m[I 2021-08-12 15:38:14,822]\u001b[0m Trial 54 finished with value: 0.8754289636238847 and parameters: {'rf_n_estimators': 53, 'rf_max_depth': 8}. Best is trial 52 with value: 0.8768016472203157.\u001b[0m\n",
            "\u001b[32m[I 2021-08-12 15:38:15,203]\u001b[0m Trial 55 finished with value: 0.8747426218256692 and parameters: {'rf_n_estimators': 56, 'rf_max_depth': 9}. Best is trial 52 with value: 0.8768016472203157.\u001b[0m\n",
            "\u001b[32m[I 2021-08-12 15:38:19,195]\u001b[0m Trial 56 pruned. \u001b[0m\n",
            "\u001b[32m[I 2021-08-12 15:38:22,376]\u001b[0m Trial 57 pruned. \u001b[0m\n",
            "\u001b[32m[I 2021-08-12 15:38:23,171]\u001b[0m Trial 58 pruned. \u001b[0m\n",
            "\u001b[32m[I 2021-08-12 15:38:24,187]\u001b[0m Trial 59 pruned. \u001b[0m\n",
            "\u001b[32m[I 2021-08-12 15:38:24,537]\u001b[0m Trial 60 finished with value: 0.8747426218256692 and parameters: {'rf_n_estimators': 53, 'rf_max_depth': 8}. Best is trial 52 with value: 0.8768016472203157.\u001b[0m\n",
            "\u001b[32m[I 2021-08-12 15:38:24,647]\u001b[0m Trial 61 pruned. \u001b[0m\n",
            "\u001b[32m[I 2021-08-12 15:38:25,345]\u001b[0m Trial 62 pruned. \u001b[0m\n",
            "\u001b[32m[I 2021-08-12 15:38:26,245]\u001b[0m Trial 63 pruned. \u001b[0m\n",
            "\u001b[32m[I 2021-08-12 15:38:26,536]\u001b[0m Trial 64 pruned. \u001b[0m\n",
            "\u001b[32m[I 2021-08-12 15:38:27,679]\u001b[0m Trial 65 pruned. \u001b[0m\n",
            "\u001b[32m[I 2021-08-12 15:38:33,680]\u001b[0m Trial 66 pruned. \u001b[0m\n",
            "\u001b[32m[I 2021-08-12 15:38:36,092]\u001b[0m Trial 67 pruned. \u001b[0m\n",
            "\u001b[32m[I 2021-08-12 15:38:36,766]\u001b[0m Trial 68 pruned. \u001b[0m\n",
            "\u001b[32m[I 2021-08-12 15:38:37,371]\u001b[0m Trial 69 pruned. \u001b[0m\n",
            "\u001b[32m[I 2021-08-12 15:38:37,760]\u001b[0m Trial 70 pruned. \u001b[0m\n",
            "\u001b[32m[I 2021-08-12 15:38:38,381]\u001b[0m Trial 71 finished with value: 0.8747426218256692 and parameters: {'rf_n_estimators': 91, 'rf_max_depth': 10}. Best is trial 52 with value: 0.8768016472203157.\u001b[0m\n",
            "\u001b[32m[I 2021-08-12 15:38:38,675]\u001b[0m Trial 72 pruned. \u001b[0m\n",
            "\u001b[32m[I 2021-08-12 15:38:39,653]\u001b[0m Trial 73 pruned. \u001b[0m\n",
            "\u001b[32m[I 2021-08-12 15:38:40,819]\u001b[0m Trial 74 pruned. \u001b[0m\n",
            "\u001b[32m[I 2021-08-12 15:38:41,449]\u001b[0m Trial 75 finished with value: 0.8750857927247769 and parameters: {'rf_n_estimators': 122, 'rf_max_depth': 8}. Best is trial 52 with value: 0.8768016472203157.\u001b[0m\n",
            "\u001b[32m[I 2021-08-12 15:38:43,105]\u001b[0m Trial 76 pruned. \u001b[0m\n",
            "\u001b[32m[I 2021-08-12 15:38:44,176]\u001b[0m Trial 77 pruned. \u001b[0m\n",
            "\u001b[32m[I 2021-08-12 15:38:44,765]\u001b[0m Trial 78 pruned. \u001b[0m\n",
            "\u001b[32m[I 2021-08-12 15:38:45,519]\u001b[0m Trial 79 pruned. \u001b[0m\n",
            "\u001b[32m[I 2021-08-12 15:38:45,895]\u001b[0m Trial 80 pruned. \u001b[0m\n",
            "\u001b[32m[I 2021-08-12 15:38:46,088]\u001b[0m Trial 81 finished with value: 0.8785175017158545 and parameters: {'rf_n_estimators': 29, 'rf_max_depth': 9}. Best is trial 81 with value: 0.8785175017158545.\u001b[0m\n",
            "\u001b[32m[I 2021-08-12 15:38:46,276]\u001b[0m Trial 82 pruned. \u001b[0m\n",
            "\u001b[32m[I 2021-08-12 15:38:46,375]\u001b[0m Trial 83 pruned. \u001b[0m\n",
            "\u001b[32m[I 2021-08-12 15:38:46,863]\u001b[0m Trial 84 finished with value: 0.8747426218256692 and parameters: {'rf_n_estimators': 81, 'rf_max_depth': 9}. Best is trial 81 with value: 0.8785175017158545.\u001b[0m\n",
            "\u001b[32m[I 2021-08-12 15:38:47,908]\u001b[0m Trial 85 finished with value: 0.8754289636238847 and parameters: {'rf_n_estimators': 154, 'rf_max_depth': 11}. Best is trial 81 with value: 0.8785175017158545.\u001b[0m\n",
            "\u001b[32m[I 2021-08-12 15:38:48,959]\u001b[0m Trial 86 finished with value: 0.8747426218256692 and parameters: {'rf_n_estimators': 154, 'rf_max_depth': 11}. Best is trial 81 with value: 0.8785175017158545.\u001b[0m\n",
            "\u001b[32m[I 2021-08-12 15:38:53,185]\u001b[0m Trial 87 pruned. \u001b[0m\n",
            "\u001b[32m[I 2021-08-12 15:38:54,110]\u001b[0m Trial 88 pruned. \u001b[0m\n",
            "\u001b[32m[I 2021-08-12 15:38:54,387]\u001b[0m Trial 89 pruned. \u001b[0m\n",
            "\u001b[32m[I 2021-08-12 15:38:54,573]\u001b[0m Trial 90 pruned. \u001b[0m\n",
            "\u001b[32m[I 2021-08-12 15:38:55,057]\u001b[0m Trial 91 finished with value: 0.8761153054221003 and parameters: {'rf_n_estimators': 78, 'rf_max_depth': 10}. Best is trial 81 with value: 0.8785175017158545.\u001b[0m\n",
            "\u001b[32m[I 2021-08-12 15:38:56,096]\u001b[0m Trial 92 pruned. \u001b[0m\n",
            "\u001b[32m[I 2021-08-12 15:38:56,648]\u001b[0m Trial 93 pruned. \u001b[0m\n",
            "\u001b[32m[I 2021-08-12 15:38:56,770]\u001b[0m Trial 94 pruned. \u001b[0m\n",
            "\u001b[32m[I 2021-08-12 15:38:57,411]\u001b[0m Trial 95 finished with value: 0.8750857927247769 and parameters: {'rf_n_estimators': 107, 'rf_max_depth': 9}. Best is trial 81 with value: 0.8785175017158545.\u001b[0m\n",
            "\u001b[32m[I 2021-08-12 15:38:58,825]\u001b[0m Trial 96 pruned. \u001b[0m\n",
            "\u001b[32m[I 2021-08-12 15:38:59,975]\u001b[0m Trial 97 pruned. \u001b[0m\n",
            "\u001b[32m[I 2021-08-12 15:39:00,382]\u001b[0m Trial 98 pruned. \u001b[0m\n",
            "\u001b[32m[I 2021-08-12 15:39:03,410]\u001b[0m Trial 99 pruned. \u001b[0m\n"
          ],
          "name": "stderr"
        },
        {
          "output_type": "stream",
          "text": [
            "  Number of finished trials:  100\n",
            "  Number of pruned trials:  61\n",
            "  Number of complete trials:  39\n"
          ],
          "name": "stdout"
        }
      ]
    },
    {
      "cell_type": "code",
      "metadata": {
        "id": "TisMeVht2XE4",
        "outputId": "5d54f1c7-1e71-443b-8e45-230f61d3a38c",
        "colab": {
          "base_uri": "https://localhost:8080/"
        }
      },
      "source": [
        "import optuna\n",
        "classes = list(set(y_df))\n",
        "#Step 1. Define an objective function to be maximized.\n",
        "def objective(trial):\n",
        "\n",
        "   \n",
        "    neighbors = trial.suggest_int(\"neighbors\", 1, 10)\n",
        "    algorithm = trial.suggest_categorical(\"algorithm\", [\"auto\", \"ball_tree\", \"kd_tree\", \"brute\"])\n",
        "    classifier_obj = KNeighborsClassifier(n_neighbors=neighbors, algorithm=algorithm)\n",
        "    for step in range(100):\n",
        "        classifier_obj.fit(Xtrain, ytrain)\n",
        "        \n",
        "        # Report intermediate objective value.\n",
        "        intermediate_value = classifier_obj.score(Xtest, ytest)\n",
        "        trial.report(intermediate_value, step)\n",
        "\n",
        "        # Handle pruning based on the intermediate value.\n",
        "        if trial.should_prune():\n",
        "            raise optuna.TrialPruned()\n",
        "        return intermediate_value\n",
        "\n",
        "# Step 4: Running it\n",
        "study = optuna.create_study(direction=\"maximize\")\n",
        "study.optimize(objective, n_trials=100)\n",
        "\n",
        "# Calculating the pruned and completed trials\n",
        "pruned_trials = [t for t in study.trials if t.state == optuna.trial.TrialState.PRUNED]\n",
        "complete_trials = [t for t in study.trials if t.state == optuna.trial.TrialState.COMPLETE]\n",
        "\n",
        "print(\"  Number of finished trials: \", len(study.trials))\n",
        "print(\"  Number of pruned trials: \", len(pruned_trials))\n",
        "print(\"  Number of complete trials: \", len(complete_trials))\n"
      ],
      "execution_count": 42,
      "outputs": [
        {
          "output_type": "stream",
          "text": [
            "\u001b[32m[I 2021-08-12 15:39:03,484]\u001b[0m A new study created in memory with name: no-name-28eddbc6-4e42-4bae-a192-181d108eedb2\u001b[0m\n",
            "\u001b[32m[I 2021-08-12 15:39:05,024]\u001b[0m Trial 0 finished with value: 0.8448867536032945 and parameters: {'neighbors': 7, 'algorithm': 'kd_tree'}. Best is trial 0 with value: 0.8448867536032945.\u001b[0m\n",
            "\u001b[32m[I 2021-08-12 15:39:06,540]\u001b[0m Trial 1 finished with value: 0.8613589567604667 and parameters: {'neighbors': 6, 'algorithm': 'brute'}. Best is trial 1 with value: 0.8613589567604667.\u001b[0m\n",
            "\u001b[32m[I 2021-08-12 15:39:07,939]\u001b[0m Trial 2 finished with value: 0.8332189430336308 and parameters: {'neighbors': 5, 'algorithm': 'kd_tree'}. Best is trial 1 with value: 0.8613589567604667.\u001b[0m\n",
            "\u001b[32m[I 2021-08-12 15:39:09,291]\u001b[0m Trial 3 finished with value: 0.8332189430336308 and parameters: {'neighbors': 5, 'algorithm': 'auto'}. Best is trial 1 with value: 0.8613589567604667.\u001b[0m\n",
            "\u001b[32m[I 2021-08-12 15:39:10,672]\u001b[0m Trial 4 finished with value: 0.846945778997941 and parameters: {'neighbors': 3, 'algorithm': 'auto'}. Best is trial 1 with value: 0.8613589567604667.\u001b[0m\n",
            "\u001b[32m[I 2021-08-12 15:39:11,227]\u001b[0m Trial 5 finished with value: 0.851063829787234 and parameters: {'neighbors': 3, 'algorithm': 'brute'}. Best is trial 1 with value: 0.8613589567604667.\u001b[0m\n",
            "\u001b[32m[I 2021-08-12 15:39:12,381]\u001b[0m Trial 6 finished with value: 0.846945778997941 and parameters: {'neighbors': 3, 'algorithm': 'kd_tree'}. Best is trial 1 with value: 0.8613589567604667.\u001b[0m\n",
            "\u001b[32m[I 2021-08-12 15:39:14,998]\u001b[0m Trial 7 finished with value: 0.8527796842827728 and parameters: {'neighbors': 10, 'algorithm': 'ball_tree'}. Best is trial 1 with value: 0.8613589567604667.\u001b[0m\n",
            "\u001b[32m[I 2021-08-12 15:39:17,544]\u001b[0m Trial 8 finished with value: 0.8472889498970487 and parameters: {'neighbors': 4, 'algorithm': 'ball_tree'}. Best is trial 1 with value: 0.8613589567604667.\u001b[0m\n",
            "\u001b[32m[I 2021-08-12 15:39:19,296]\u001b[0m Trial 9 finished with value: 0.8579272477693891 and parameters: {'neighbors': 8, 'algorithm': 'kd_tree'}. Best is trial 1 with value: 0.8613589567604667.\u001b[0m\n",
            "\u001b[32m[I 2021-08-12 15:39:19,737]\u001b[0m Trial 10 pruned. \u001b[0m\n",
            "\u001b[32m[I 2021-08-12 15:39:20,444]\u001b[0m Trial 11 finished with value: 0.8685655456417296 and parameters: {'neighbors': 8, 'algorithm': 'brute'}. Best is trial 11 with value: 0.8685655456417296.\u001b[0m\n",
            "\u001b[32m[I 2021-08-12 15:39:21,144]\u001b[0m Trial 12 finished with value: 0.8685655456417296 and parameters: {'neighbors': 8, 'algorithm': 'brute'}. Best is trial 11 with value: 0.8685655456417296.\u001b[0m\n",
            "\u001b[32m[I 2021-08-12 15:39:21,846]\u001b[0m Trial 13 finished with value: 0.8654770075497598 and parameters: {'neighbors': 9, 'algorithm': 'brute'}. Best is trial 11 with value: 0.8685655456417296.\u001b[0m\n",
            "\u001b[32m[I 2021-08-12 15:39:22,538]\u001b[0m Trial 14 finished with value: 0.8685655456417296 and parameters: {'neighbors': 8, 'algorithm': 'brute'}. Best is trial 11 with value: 0.8685655456417296.\u001b[0m\n",
            "\u001b[32m[I 2021-08-12 15:39:23,231]\u001b[0m Trial 15 finished with value: 0.8713109128345916 and parameters: {'neighbors': 10, 'algorithm': 'brute'}. Best is trial 15 with value: 0.8713109128345916.\u001b[0m\n",
            "\u001b[32m[I 2021-08-12 15:39:23,951]\u001b[0m Trial 16 finished with value: 0.8713109128345916 and parameters: {'neighbors': 10, 'algorithm': 'brute'}. Best is trial 15 with value: 0.8713109128345916.\u001b[0m\n",
            "\u001b[32m[I 2021-08-12 15:39:24,644]\u001b[0m Trial 17 finished with value: 0.8713109128345916 and parameters: {'neighbors': 10, 'algorithm': 'brute'}. Best is trial 15 with value: 0.8713109128345916.\u001b[0m\n",
            "\u001b[32m[I 2021-08-12 15:39:26,151]\u001b[0m Trial 18 pruned. \u001b[0m\n",
            "\u001b[32m[I 2021-08-12 15:39:28,737]\u001b[0m Trial 19 pruned. \u001b[0m\n",
            "\u001b[32m[I 2021-08-12 15:39:29,436]\u001b[0m Trial 20 pruned. \u001b[0m\n",
            "\u001b[32m[I 2021-08-12 15:39:30,132]\u001b[0m Trial 21 finished with value: 0.8713109128345916 and parameters: {'neighbors': 10, 'algorithm': 'brute'}. Best is trial 15 with value: 0.8713109128345916.\u001b[0m\n",
            "\u001b[32m[I 2021-08-12 15:39:30,838]\u001b[0m Trial 22 finished with value: 0.8654770075497598 and parameters: {'neighbors': 9, 'algorithm': 'brute'}. Best is trial 15 with value: 0.8713109128345916.\u001b[0m\n",
            "\u001b[32m[I 2021-08-12 15:39:31,542]\u001b[0m Trial 23 finished with value: 0.8713109128345916 and parameters: {'neighbors': 10, 'algorithm': 'brute'}. Best is trial 15 with value: 0.8713109128345916.\u001b[0m\n",
            "\u001b[32m[I 2021-08-12 15:39:32,254]\u001b[0m Trial 24 finished with value: 0.8654770075497598 and parameters: {'neighbors': 9, 'algorithm': 'brute'}. Best is trial 15 with value: 0.8713109128345916.\u001b[0m\n",
            "\u001b[32m[I 2021-08-12 15:39:32,941]\u001b[0m Trial 25 finished with value: 0.8713109128345916 and parameters: {'neighbors': 10, 'algorithm': 'brute'}. Best is trial 15 with value: 0.8713109128345916.\u001b[0m\n",
            "\u001b[32m[I 2021-08-12 15:39:33,646]\u001b[0m Trial 26 finished with value: 0.8654770075497598 and parameters: {'neighbors': 9, 'algorithm': 'brute'}. Best is trial 15 with value: 0.8713109128345916.\u001b[0m\n",
            "\u001b[32m[I 2021-08-12 15:39:35,820]\u001b[0m Trial 27 pruned. \u001b[0m\n",
            "\u001b[32m[I 2021-08-12 15:39:37,305]\u001b[0m Trial 28 pruned. \u001b[0m\n",
            "\u001b[32m[I 2021-08-12 15:39:39,039]\u001b[0m Trial 29 pruned. \u001b[0m\n",
            "\u001b[32m[I 2021-08-12 15:39:39,761]\u001b[0m Trial 30 pruned. \u001b[0m\n",
            "\u001b[32m[I 2021-08-12 15:39:40,494]\u001b[0m Trial 31 finished with value: 0.8713109128345916 and parameters: {'neighbors': 10, 'algorithm': 'brute'}. Best is trial 15 with value: 0.8713109128345916.\u001b[0m\n",
            "\u001b[32m[I 2021-08-12 15:39:41,195]\u001b[0m Trial 32 finished with value: 0.8654770075497598 and parameters: {'neighbors': 9, 'algorithm': 'brute'}. Best is trial 15 with value: 0.8713109128345916.\u001b[0m\n",
            "\u001b[32m[I 2021-08-12 15:39:41,895]\u001b[0m Trial 33 finished with value: 0.8713109128345916 and parameters: {'neighbors': 10, 'algorithm': 'brute'}. Best is trial 15 with value: 0.8713109128345916.\u001b[0m\n",
            "\u001b[32m[I 2021-08-12 15:39:42,621]\u001b[0m Trial 34 finished with value: 0.8685655456417296 and parameters: {'neighbors': 8, 'algorithm': 'brute'}. Best is trial 15 with value: 0.8713109128345916.\u001b[0m\n",
            "\u001b[32m[I 2021-08-12 15:39:43,351]\u001b[0m Trial 35 finished with value: 0.8654770075497598 and parameters: {'neighbors': 9, 'algorithm': 'brute'}. Best is trial 15 with value: 0.8713109128345916.\u001b[0m\n",
            "\u001b[32m[I 2021-08-12 15:39:45,067]\u001b[0m Trial 36 pruned. \u001b[0m\n",
            "\u001b[32m[I 2021-08-12 15:39:46,085]\u001b[0m Trial 37 pruned. \u001b[0m\n",
            "\u001b[32m[I 2021-08-12 15:39:46,793]\u001b[0m Trial 38 finished with value: 0.8713109128345916 and parameters: {'neighbors': 10, 'algorithm': 'brute'}. Best is trial 15 with value: 0.8713109128345916.\u001b[0m\n",
            "\u001b[32m[I 2021-08-12 15:39:47,510]\u001b[0m Trial 39 finished with value: 0.8654770075497598 and parameters: {'neighbors': 9, 'algorithm': 'brute'}. Best is trial 15 with value: 0.8713109128345916.\u001b[0m\n",
            "\u001b[32m[I 2021-08-12 15:39:49,936]\u001b[0m Trial 40 pruned. \u001b[0m\n",
            "\u001b[32m[I 2021-08-12 15:39:50,633]\u001b[0m Trial 41 finished with value: 0.8713109128345916 and parameters: {'neighbors': 10, 'algorithm': 'brute'}. Best is trial 15 with value: 0.8713109128345916.\u001b[0m\n",
            "\u001b[32m[I 2021-08-12 15:39:51,357]\u001b[0m Trial 42 finished with value: 0.8713109128345916 and parameters: {'neighbors': 10, 'algorithm': 'brute'}. Best is trial 15 with value: 0.8713109128345916.\u001b[0m\n",
            "\u001b[32m[I 2021-08-12 15:39:52,059]\u001b[0m Trial 43 finished with value: 0.8713109128345916 and parameters: {'neighbors': 10, 'algorithm': 'brute'}. Best is trial 15 with value: 0.8713109128345916.\u001b[0m\n",
            "\u001b[32m[I 2021-08-12 15:39:52,745]\u001b[0m Trial 44 pruned. \u001b[0m\n",
            "\u001b[32m[I 2021-08-12 15:39:54,166]\u001b[0m Trial 45 pruned. \u001b[0m\n",
            "\u001b[32m[I 2021-08-12 15:39:54,870]\u001b[0m Trial 46 finished with value: 0.8685655456417296 and parameters: {'neighbors': 8, 'algorithm': 'brute'}. Best is trial 15 with value: 0.8713109128345916.\u001b[0m\n",
            "\u001b[32m[I 2021-08-12 15:39:56,587]\u001b[0m Trial 47 pruned. \u001b[0m\n",
            "\u001b[32m[I 2021-08-12 15:39:57,288]\u001b[0m Trial 48 finished with value: 0.8685655456417296 and parameters: {'neighbors': 8, 'algorithm': 'brute'}. Best is trial 15 with value: 0.8713109128345916.\u001b[0m\n",
            "\u001b[32m[I 2021-08-12 15:39:57,998]\u001b[0m Trial 49 pruned. \u001b[0m\n",
            "\u001b[32m[I 2021-08-12 15:39:58,694]\u001b[0m Trial 50 finished with value: 0.8713109128345916 and parameters: {'neighbors': 10, 'algorithm': 'brute'}. Best is trial 15 with value: 0.8713109128345916.\u001b[0m\n",
            "\u001b[32m[I 2021-08-12 15:39:59,403]\u001b[0m Trial 51 finished with value: 0.8713109128345916 and parameters: {'neighbors': 10, 'algorithm': 'brute'}. Best is trial 15 with value: 0.8713109128345916.\u001b[0m\n",
            "\u001b[32m[I 2021-08-12 15:40:00,114]\u001b[0m Trial 52 finished with value: 0.8713109128345916 and parameters: {'neighbors': 10, 'algorithm': 'brute'}. Best is trial 15 with value: 0.8713109128345916.\u001b[0m\n",
            "\u001b[32m[I 2021-08-12 15:40:00,829]\u001b[0m Trial 53 pruned. \u001b[0m\n",
            "\u001b[32m[I 2021-08-12 15:40:01,552]\u001b[0m Trial 54 finished with value: 0.8713109128345916 and parameters: {'neighbors': 10, 'algorithm': 'brute'}. Best is trial 15 with value: 0.8713109128345916.\u001b[0m\n",
            "\u001b[32m[I 2021-08-12 15:40:04,722]\u001b[0m Trial 55 pruned. \u001b[0m\n",
            "\u001b[32m[I 2021-08-12 15:40:05,433]\u001b[0m Trial 56 pruned. \u001b[0m\n",
            "\u001b[32m[I 2021-08-12 15:40:06,138]\u001b[0m Trial 57 finished with value: 0.8713109128345916 and parameters: {'neighbors': 10, 'algorithm': 'brute'}. Best is trial 15 with value: 0.8713109128345916.\u001b[0m\n",
            "\u001b[32m[I 2021-08-12 15:40:07,856]\u001b[0m Trial 58 pruned. \u001b[0m\n",
            "\u001b[32m[I 2021-08-12 15:40:09,079]\u001b[0m Trial 59 pruned. \u001b[0m\n",
            "\u001b[32m[I 2021-08-12 15:40:09,801]\u001b[0m Trial 60 finished with value: 0.8685655456417296 and parameters: {'neighbors': 8, 'algorithm': 'brute'}. Best is trial 15 with value: 0.8713109128345916.\u001b[0m\n",
            "\u001b[32m[I 2021-08-12 15:40:10,518]\u001b[0m Trial 61 finished with value: 0.8713109128345916 and parameters: {'neighbors': 10, 'algorithm': 'brute'}. Best is trial 15 with value: 0.8713109128345916.\u001b[0m\n",
            "\u001b[32m[I 2021-08-12 15:40:11,209]\u001b[0m Trial 62 pruned. \u001b[0m\n",
            "\u001b[32m[I 2021-08-12 15:40:11,939]\u001b[0m Trial 63 finished with value: 0.8713109128345916 and parameters: {'neighbors': 10, 'algorithm': 'brute'}. Best is trial 15 with value: 0.8713109128345916.\u001b[0m\n",
            "\u001b[32m[I 2021-08-12 15:40:12,660]\u001b[0m Trial 64 finished with value: 0.8713109128345916 and parameters: {'neighbors': 10, 'algorithm': 'brute'}. Best is trial 15 with value: 0.8713109128345916.\u001b[0m\n",
            "\u001b[32m[I 2021-08-12 15:40:13,365]\u001b[0m Trial 65 pruned. \u001b[0m\n",
            "\u001b[32m[I 2021-08-12 15:40:14,067]\u001b[0m Trial 66 finished with value: 0.8713109128345916 and parameters: {'neighbors': 10, 'algorithm': 'brute'}. Best is trial 15 with value: 0.8713109128345916.\u001b[0m\n",
            "\u001b[32m[I 2021-08-12 15:40:14,778]\u001b[0m Trial 67 pruned. \u001b[0m\n",
            "\u001b[32m[I 2021-08-12 15:40:15,479]\u001b[0m Trial 68 finished with value: 0.8713109128345916 and parameters: {'neighbors': 10, 'algorithm': 'brute'}. Best is trial 15 with value: 0.8713109128345916.\u001b[0m\n",
            "\u001b[32m[I 2021-08-12 15:40:18,036]\u001b[0m Trial 69 pruned. \u001b[0m\n",
            "\u001b[32m[I 2021-08-12 15:40:18,772]\u001b[0m Trial 70 finished with value: 0.8713109128345916 and parameters: {'neighbors': 10, 'algorithm': 'brute'}. Best is trial 15 with value: 0.8713109128345916.\u001b[0m\n",
            "\u001b[32m[I 2021-08-12 15:40:19,480]\u001b[0m Trial 71 finished with value: 0.8713109128345916 and parameters: {'neighbors': 10, 'algorithm': 'brute'}. Best is trial 15 with value: 0.8713109128345916.\u001b[0m\n",
            "\u001b[32m[I 2021-08-12 15:40:20,170]\u001b[0m Trial 72 finished with value: 0.8713109128345916 and parameters: {'neighbors': 10, 'algorithm': 'brute'}. Best is trial 15 with value: 0.8713109128345916.\u001b[0m\n",
            "\u001b[32m[I 2021-08-12 15:40:20,885]\u001b[0m Trial 73 finished with value: 0.8713109128345916 and parameters: {'neighbors': 10, 'algorithm': 'brute'}. Best is trial 15 with value: 0.8713109128345916.\u001b[0m\n",
            "\u001b[32m[I 2021-08-12 15:40:21,591]\u001b[0m Trial 74 pruned. \u001b[0m\n",
            "\u001b[32m[I 2021-08-12 15:40:22,299]\u001b[0m Trial 75 finished with value: 0.8713109128345916 and parameters: {'neighbors': 10, 'algorithm': 'brute'}. Best is trial 15 with value: 0.8713109128345916.\u001b[0m\n",
            "\u001b[32m[I 2021-08-12 15:40:23,004]\u001b[0m Trial 76 finished with value: 0.8713109128345916 and parameters: {'neighbors': 10, 'algorithm': 'brute'}. Best is trial 15 with value: 0.8713109128345916.\u001b[0m\n",
            "\u001b[32m[I 2021-08-12 15:40:24,429]\u001b[0m Trial 77 pruned. \u001b[0m\n",
            "\u001b[32m[I 2021-08-12 15:40:25,880]\u001b[0m Trial 78 pruned. \u001b[0m\n",
            "\u001b[32m[I 2021-08-12 15:40:26,592]\u001b[0m Trial 79 finished with value: 0.8713109128345916 and parameters: {'neighbors': 10, 'algorithm': 'brute'}. Best is trial 15 with value: 0.8713109128345916.\u001b[0m\n",
            "\u001b[32m[I 2021-08-12 15:40:27,288]\u001b[0m Trial 80 finished with value: 0.8713109128345916 and parameters: {'neighbors': 10, 'algorithm': 'brute'}. Best is trial 15 with value: 0.8713109128345916.\u001b[0m\n",
            "\u001b[32m[I 2021-08-12 15:40:28,003]\u001b[0m Trial 81 finished with value: 0.8713109128345916 and parameters: {'neighbors': 10, 'algorithm': 'brute'}. Best is trial 15 with value: 0.8713109128345916.\u001b[0m\n",
            "\u001b[32m[I 2021-08-12 15:40:28,728]\u001b[0m Trial 82 finished with value: 0.8713109128345916 and parameters: {'neighbors': 10, 'algorithm': 'brute'}. Best is trial 15 with value: 0.8713109128345916.\u001b[0m\n",
            "\u001b[32m[I 2021-08-12 15:40:29,445]\u001b[0m Trial 83 finished with value: 0.8713109128345916 and parameters: {'neighbors': 10, 'algorithm': 'brute'}. Best is trial 15 with value: 0.8713109128345916.\u001b[0m\n",
            "\u001b[32m[I 2021-08-12 15:40:29,950]\u001b[0m Trial 84 pruned. \u001b[0m\n",
            "\u001b[32m[I 2021-08-12 15:40:30,649]\u001b[0m Trial 85 finished with value: 0.8713109128345916 and parameters: {'neighbors': 10, 'algorithm': 'brute'}. Best is trial 15 with value: 0.8713109128345916.\u001b[0m\n",
            "\u001b[32m[I 2021-08-12 15:40:31,365]\u001b[0m Trial 86 pruned. \u001b[0m\n",
            "\u001b[32m[I 2021-08-12 15:40:32,068]\u001b[0m Trial 87 finished with value: 0.8713109128345916 and parameters: {'neighbors': 10, 'algorithm': 'brute'}. Best is trial 15 with value: 0.8713109128345916.\u001b[0m\n",
            "\u001b[32m[I 2021-08-12 15:40:34,266]\u001b[0m Trial 88 pruned. \u001b[0m\n",
            "\u001b[32m[I 2021-08-12 15:40:34,975]\u001b[0m Trial 89 finished with value: 0.8713109128345916 and parameters: {'neighbors': 10, 'algorithm': 'brute'}. Best is trial 15 with value: 0.8713109128345916.\u001b[0m\n",
            "\u001b[32m[I 2021-08-12 15:40:35,677]\u001b[0m Trial 90 finished with value: 0.8713109128345916 and parameters: {'neighbors': 10, 'algorithm': 'brute'}. Best is trial 15 with value: 0.8713109128345916.\u001b[0m\n",
            "\u001b[32m[I 2021-08-12 15:40:36,384]\u001b[0m Trial 91 finished with value: 0.8713109128345916 and parameters: {'neighbors': 10, 'algorithm': 'brute'}. Best is trial 15 with value: 0.8713109128345916.\u001b[0m\n",
            "\u001b[32m[I 2021-08-12 15:40:37,091]\u001b[0m Trial 92 finished with value: 0.8713109128345916 and parameters: {'neighbors': 10, 'algorithm': 'brute'}. Best is trial 15 with value: 0.8713109128345916.\u001b[0m\n",
            "\u001b[32m[I 2021-08-12 15:40:37,825]\u001b[0m Trial 93 finished with value: 0.8713109128345916 and parameters: {'neighbors': 10, 'algorithm': 'brute'}. Best is trial 15 with value: 0.8713109128345916.\u001b[0m\n",
            "\u001b[32m[I 2021-08-12 15:40:38,539]\u001b[0m Trial 94 pruned. \u001b[0m\n",
            "\u001b[32m[I 2021-08-12 15:40:39,241]\u001b[0m Trial 95 finished with value: 0.8713109128345916 and parameters: {'neighbors': 10, 'algorithm': 'brute'}. Best is trial 15 with value: 0.8713109128345916.\u001b[0m\n",
            "\u001b[32m[I 2021-08-12 15:40:40,642]\u001b[0m Trial 96 pruned. \u001b[0m\n",
            "\u001b[32m[I 2021-08-12 15:40:41,344]\u001b[0m Trial 97 pruned. \u001b[0m\n",
            "\u001b[32m[I 2021-08-12 15:40:42,764]\u001b[0m Trial 98 pruned. \u001b[0m\n",
            "\u001b[32m[I 2021-08-12 15:40:43,486]\u001b[0m Trial 99 finished with value: 0.8713109128345916 and parameters: {'neighbors': 10, 'algorithm': 'brute'}. Best is trial 15 with value: 0.8713109128345916.\u001b[0m\n"
          ],
          "name": "stderr"
        },
        {
          "output_type": "stream",
          "text": [
            "  Number of finished trials:  100\n",
            "  Number of pruned trials:  34\n",
            "  Number of complete trials:  66\n"
          ],
          "name": "stdout"
        }
      ]
    },
    {
      "cell_type": "code",
      "metadata": {
        "id": "xSr7OtWd2cOj",
        "outputId": "d5e6521b-324f-41b7-bf2a-c766676f0e91",
        "colab": {
          "base_uri": "https://localhost:8080/"
        }
      },
      "source": [
        "import optuna\n",
        "classes = list(set(y_df))\n",
        "#Step 1. Define an objective function to be maximized.\n",
        "def objective(trial):\n",
        "\n",
        "    neurons = trial.suggest_int(\"neurons\", 50, 200)\n",
        "    depth = trial.suggest_int(\"depth\",1,4)\n",
        "    layer_sizes = tuple([neurons for _ in range(depth)])\n",
        "    alpha = trial.suggest_float(\"alpha\",0.000001,0.001)\n",
        "    activation_function = trial.suggest_categorical(\"activation_function\",[\"identity\",\"logistic\",\"tanh\",\"relu\"])\n",
        "    \n",
        "    classifier_obj = MLPClassifier(hidden_layer_sizes=layer_sizes, alpha=alpha, activation=activation_function)\n",
        "    for step in range(100):\n",
        "        classifier_obj.fit(Xtrain, ytrain)\n",
        "        \n",
        "        # Report intermediate objective value.\n",
        "        intermediate_value = classifier_obj.score(Xtest, ytest)\n",
        "        trial.report(intermediate_value, step)\n",
        "\n",
        "        # Handle pruning based on the intermediate value.\n",
        "        if trial.should_prune():\n",
        "            raise optuna.TrialPruned()\n",
        "        return intermediate_value\n",
        "\n",
        "# Step 4: Running it\n",
        "study = optuna.create_study(direction=\"maximize\")\n",
        "study.optimize(objective, n_trials=100)\n",
        "\n",
        "# Calculating the pruned and completed trials\n",
        "pruned_trials = [t for t in study.trials if t.state == optuna.trial.TrialState.PRUNED]\n",
        "complete_trials = [t for t in study.trials if t.state == optuna.trial.TrialState.COMPLETE]\n",
        "\n",
        "print(\"  Number of finished trials: \", len(study.trials))\n",
        "print(\"  Number of pruned trials: \", len(pruned_trials))\n",
        "print(\"  Number of complete trials: \", len(complete_trials))\n"
      ],
      "execution_count": null,
      "outputs": [
        {
          "output_type": "stream",
          "text": [
            "\u001b[32m[I 2021-08-12 15:40:43,568]\u001b[0m A new study created in memory with name: no-name-62cd90a9-8018-4a61-b0b9-6251c669855f\u001b[0m\n",
            "/usr/local/lib/python3.7/dist-packages/sklearn/neural_network/_multilayer_perceptron.py:571: ConvergenceWarning:\n",
            "\n",
            "Stochastic Optimizer: Maximum iterations (200) reached and the optimization hasn't converged yet.\n",
            "\n",
            "\u001b[32m[I 2021-08-12 15:40:56,076]\u001b[0m Trial 0 finished with value: 0.8675360329444063 and parameters: {'neurons': 109, 'depth': 1, 'alpha': 0.0001402089054533315, 'activation_function': 'relu'}. Best is trial 0 with value: 0.8675360329444063.\u001b[0m\n",
            "\u001b[32m[I 2021-08-12 15:40:58,248]\u001b[0m Trial 1 finished with value: 0.8723404255319149 and parameters: {'neurons': 68, 'depth': 2, 'alpha': 0.00020920658259076114, 'activation_function': 'identity'}. Best is trial 1 with value: 0.8723404255319149.\u001b[0m\n",
            "\u001b[32m[I 2021-08-12 15:41:15,269]\u001b[0m Trial 2 finished with value: 0.8795470144131777 and parameters: {'neurons': 55, 'depth': 4, 'alpha': 0.0008762800595317582, 'activation_function': 'logistic'}. Best is trial 2 with value: 0.8795470144131777.\u001b[0m\n",
            "/usr/local/lib/python3.7/dist-packages/sklearn/neural_network/_multilayer_perceptron.py:571: ConvergenceWarning:\n",
            "\n",
            "Stochastic Optimizer: Maximum iterations (200) reached and the optimization hasn't converged yet.\n",
            "\n",
            "\u001b[32m[I 2021-08-12 15:42:04,501]\u001b[0m Trial 3 finished with value: 0.8620452985586822 and parameters: {'neurons': 87, 'depth': 3, 'alpha': 0.0008202789048701469, 'activation_function': 'tanh'}. Best is trial 2 with value: 0.8795470144131777.\u001b[0m\n",
            "/usr/local/lib/python3.7/dist-packages/sklearn/neural_network/_multilayer_perceptron.py:571: ConvergenceWarning:\n",
            "\n",
            "Stochastic Optimizer: Maximum iterations (200) reached and the optimization hasn't converged yet.\n",
            "\n",
            "\u001b[32m[I 2021-08-12 15:42:32,000]\u001b[0m Trial 4 finished with value: 0.8448867536032945 and parameters: {'neurons': 74, 'depth': 2, 'alpha': 0.0005240323194629255, 'activation_function': 'tanh'}. Best is trial 2 with value: 0.8795470144131777.\u001b[0m\n",
            "\u001b[32m[I 2021-08-12 15:42:36,729]\u001b[0m Trial 5 finished with value: 0.876458476321208 and parameters: {'neurons': 152, 'depth': 2, 'alpha': 0.00030281529707528777, 'activation_function': 'identity'}. Best is trial 2 with value: 0.8795470144131777.\u001b[0m\n",
            "\u001b[32m[I 2021-08-12 15:43:03,180]\u001b[0m Trial 6 pruned. \u001b[0m\n",
            "\u001b[32m[I 2021-08-12 15:45:24,246]\u001b[0m Trial 7 pruned. \u001b[0m\n",
            "/usr/local/lib/python3.7/dist-packages/sklearn/neural_network/_multilayer_perceptron.py:571: ConvergenceWarning:\n",
            "\n",
            "Stochastic Optimizer: Maximum iterations (200) reached and the optimization hasn't converged yet.\n",
            "\n",
            "\u001b[32m[I 2021-08-12 15:45:43,420]\u001b[0m Trial 8 finished with value: 0.876458476321208 and parameters: {'neurons': 52, 'depth': 2, 'alpha': 0.0005899087524143585, 'activation_function': 'logistic'}. Best is trial 2 with value: 0.8795470144131777.\u001b[0m\n",
            "\u001b[32m[I 2021-08-12 15:46:43,713]\u001b[0m Trial 9 pruned. \u001b[0m\n",
            "\u001b[32m[I 2021-08-12 15:47:08,645]\u001b[0m Trial 10 finished with value: 0.8774879890185312 and parameters: {'neurons': 134, 'depth': 3, 'alpha': 0.0009509878041638785, 'activation_function': 'logistic'}. Best is trial 2 with value: 0.8795470144131777.\u001b[0m\n",
            "\u001b[32m[I 2021-08-12 15:47:59,644]\u001b[0m Trial 11 finished with value: 0.8785175017158545 and parameters: {'neurons': 141, 'depth': 3, 'alpha': 0.0009934904959301453, 'activation_function': 'logistic'}. Best is trial 2 with value: 0.8795470144131777.\u001b[0m\n",
            "\u001b[32m[I 2021-08-12 15:49:09,635]\u001b[0m Trial 12 finished with value: 0.8802333562113933 and parameters: {'neurons': 157, 'depth': 3, 'alpha': 0.0009900006704345403, 'activation_function': 'logistic'}. Best is trial 12 with value: 0.8802333562113933.\u001b[0m\n",
            "\u001b[32m[I 2021-08-12 15:50:13,110]\u001b[0m Trial 13 finished with value: 0.8795470144131777 and parameters: {'neurons': 164, 'depth': 4, 'alpha': 0.0008171397165695067, 'activation_function': 'logistic'}. Best is trial 12 with value: 0.8802333562113933.\u001b[0m\n",
            "\u001b[32m[I 2021-08-12 15:50:31,688]\u001b[0m Trial 14 finished with value: 0.8774879890185312 and parameters: {'neurons': 115, 'depth': 3, 'alpha': 0.00039434867492578316, 'activation_function': 'logistic'}. Best is trial 12 with value: 0.8802333562113933.\u001b[0m\n",
            "\u001b[32m[I 2021-08-12 15:51:53,743]\u001b[0m Trial 15 pruned. \u001b[0m\n",
            "\u001b[32m[I 2021-08-12 15:52:14,794]\u001b[0m Trial 16 finished with value: 0.8802333562113933 and parameters: {'neurons': 106, 'depth': 3, 'alpha': 0.0009061169555579031, 'activation_function': 'logistic'}. Best is trial 12 with value: 0.8802333562113933.\u001b[0m\n",
            "\u001b[32m[I 2021-08-12 15:52:31,213]\u001b[0m Trial 17 pruned. \u001b[0m\n",
            "\u001b[32m[I 2021-08-12 15:52:35,949]\u001b[0m Trial 18 finished with value: 0.87920384351407 and parameters: {'neurons': 103, 'depth': 3, 'alpha': 0.0009200819608604644, 'activation_function': 'identity'}. Best is trial 12 with value: 0.8802333562113933.\u001b[0m\n",
            "\u001b[32m[I 2021-08-12 15:53:30,253]\u001b[0m Trial 19 finished with value: 0.8785175017158545 and parameters: {'neurons': 135, 'depth': 3, 'alpha': 0.00046028182969887145, 'activation_function': 'logistic'}. Best is trial 12 with value: 0.8802333562113933.\u001b[0m\n",
            "\u001b[32m[I 2021-08-12 15:54:15,663]\u001b[0m Trial 20 pruned. \u001b[0m\n",
            "\u001b[32m[I 2021-08-12 15:54:48,672]\u001b[0m Trial 21 finished with value: 0.8795470144131777 and parameters: {'neurons': 56, 'depth': 4, 'alpha': 0.0008619505942660995, 'activation_function': 'logistic'}. Best is trial 12 with value: 0.8802333562113933.\u001b[0m\n",
            "\u001b[32m[I 2021-08-12 15:55:16,763]\u001b[0m Trial 22 finished with value: 0.8798901853122855 and parameters: {'neurons': 93, 'depth': 3, 'alpha': 0.0008746255633133294, 'activation_function': 'logistic'}. Best is trial 12 with value: 0.8802333562113933.\u001b[0m\n",
            "\u001b[32m[I 2021-08-12 15:56:01,175]\u001b[0m Trial 23 pruned. \u001b[0m\n",
            "\u001b[32m[I 2021-08-12 15:56:34,190]\u001b[0m Trial 24 finished with value: 0.8795470144131777 and parameters: {'neurons': 79, 'depth': 3, 'alpha': 0.0007476831498000611, 'activation_function': 'logistic'}. Best is trial 12 with value: 0.8802333562113933.\u001b[0m\n",
            "\u001b[32m[I 2021-08-12 15:56:56,762]\u001b[0m Trial 25 finished with value: 0.8795470144131777 and parameters: {'neurons': 103, 'depth': 3, 'alpha': 0.0009040825678880318, 'activation_function': 'logistic'}. Best is trial 12 with value: 0.8802333562113933.\u001b[0m\n",
            "\u001b[32m[I 2021-08-12 15:57:01,974]\u001b[0m Trial 26 finished with value: 0.8785175017158545 and parameters: {'neurons': 147, 'depth': 2, 'alpha': 0.0009030693399784861, 'activation_function': 'identity'}. Best is trial 12 with value: 0.8802333562113933.\u001b[0m\n",
            "\u001b[32m[I 2021-08-12 15:57:31,439]\u001b[0m Trial 27 pruned. \u001b[0m\n",
            "/usr/local/lib/python3.7/dist-packages/sklearn/neural_network/_multilayer_perceptron.py:571: ConvergenceWarning:\n",
            "\n",
            "Stochastic Optimizer: Maximum iterations (200) reached and the optimization hasn't converged yet.\n",
            "\n",
            "\u001b[32m[I 2021-08-12 15:58:40,064]\u001b[0m Trial 28 pruned. \u001b[0m\n",
            "/usr/local/lib/python3.7/dist-packages/sklearn/neural_network/_multilayer_perceptron.py:571: ConvergenceWarning:\n",
            "\n",
            "Stochastic Optimizer: Maximum iterations (200) reached and the optimization hasn't converged yet.\n",
            "\n",
            "\u001b[32m[I 2021-08-12 15:58:52,223]\u001b[0m Trial 29 pruned. \u001b[0m\n",
            "\u001b[32m[I 2021-08-12 15:59:10,897]\u001b[0m Trial 30 finished with value: 0.8802333562113933 and parameters: {'neurons': 99, 'depth': 2, 'alpha': 0.0008633925124827698, 'activation_function': 'logistic'}. Best is trial 12 with value: 0.8802333562113933.\u001b[0m\n",
            "/usr/local/lib/python3.7/dist-packages/sklearn/neural_network/_multilayer_perceptron.py:571: ConvergenceWarning:\n",
            "\n",
            "Stochastic Optimizer: Maximum iterations (200) reached and the optimization hasn't converged yet.\n",
            "\n",
            "\u001b[32m[I 2021-08-12 15:59:41,608]\u001b[0m Trial 31 pruned. \u001b[0m\n",
            "\u001b[32m[I 2021-08-12 15:59:54,306]\u001b[0m Trial 32 pruned. \u001b[0m\n",
            "\u001b[32m[I 2021-08-12 16:00:21,658]\u001b[0m Trial 33 pruned. \u001b[0m\n",
            "\u001b[32m[I 2021-08-12 16:00:39,132]\u001b[0m Trial 34 pruned. \u001b[0m\n",
            "\u001b[32m[I 2021-08-12 16:00:44,228]\u001b[0m Trial 35 finished with value: 0.87920384351407 and parameters: {'neurons': 69, 'depth': 3, 'alpha': 0.0008257314380983381, 'activation_function': 'identity'}. Best is trial 12 with value: 0.8802333562113933.\u001b[0m\n",
            "/usr/local/lib/python3.7/dist-packages/sklearn/neural_network/_multilayer_perceptron.py:571: ConvergenceWarning:\n",
            "\n",
            "Stochastic Optimizer: Maximum iterations (200) reached and the optimization hasn't converged yet.\n",
            "\n",
            "\u001b[32m[I 2021-08-12 16:01:43,381]\u001b[0m Trial 36 pruned. \u001b[0m\n",
            "/usr/local/lib/python3.7/dist-packages/sklearn/neural_network/_multilayer_perceptron.py:571: ConvergenceWarning:\n",
            "\n",
            "Stochastic Optimizer: Maximum iterations (200) reached and the optimization hasn't converged yet.\n",
            "\n",
            "\u001b[32m[I 2021-08-12 16:02:10,366]\u001b[0m Trial 37 pruned. \u001b[0m\n",
            "\u001b[32m[I 2021-08-12 16:03:14,796]\u001b[0m Trial 38 finished with value: 0.8802333562113933 and parameters: {'neurons': 197, 'depth': 3, 'alpha': 0.0009353127414112991, 'activation_function': 'logistic'}. Best is trial 12 with value: 0.8802333562113933.\u001b[0m\n",
            "/usr/local/lib/python3.7/dist-packages/sklearn/neural_network/_multilayer_perceptron.py:571: ConvergenceWarning:\n",
            "\n",
            "Stochastic Optimizer: Maximum iterations (200) reached and the optimization hasn't converged yet.\n",
            "\n",
            "\u001b[32m[I 2021-08-12 16:04:41,617]\u001b[0m Trial 39 pruned. \u001b[0m\n",
            "\u001b[32m[I 2021-08-12 16:05:14,627]\u001b[0m Trial 40 pruned. \u001b[0m\n",
            "\u001b[32m[I 2021-08-12 16:05:43,128]\u001b[0m Trial 41 pruned. \u001b[0m\n",
            "\u001b[32m[I 2021-08-12 16:06:37,326]\u001b[0m Trial 42 pruned. \u001b[0m\n",
            "\u001b[32m[I 2021-08-12 16:07:10,643]\u001b[0m Trial 43 finished with value: 0.87920384351407 and parameters: {'neurons': 92, 'depth': 3, 'alpha': 0.0009401933463602296, 'activation_function': 'logistic'}. Best is trial 12 with value: 0.8802333562113933.\u001b[0m\n",
            "\u001b[32m[I 2021-08-12 16:07:27,547]\u001b[0m Trial 44 finished with value: 0.8795470144131777 and parameters: {'neurons': 99, 'depth': 3, 'alpha': 0.0008364149137719003, 'activation_function': 'logistic'}. Best is trial 12 with value: 0.8802333562113933.\u001b[0m\n",
            "\u001b[32m[I 2021-08-12 16:08:16,066]\u001b[0m Trial 45 finished with value: 0.8795470144131777 and parameters: {'neurons': 127, 'depth': 4, 'alpha': 0.0009962020215058107, 'activation_function': 'logistic'}. Best is trial 12 with value: 0.8802333562113933.\u001b[0m\n",
            "\u001b[32m[I 2021-08-12 16:08:42,283]\u001b[0m Trial 46 pruned. \u001b[0m\n",
            "\u001b[32m[I 2021-08-12 16:09:18,220]\u001b[0m Trial 47 pruned. \u001b[0m\n",
            "\u001b[32m[I 2021-08-12 16:10:02,246]\u001b[0m Trial 48 pruned. \u001b[0m\n",
            "\u001b[32m[I 2021-08-12 16:10:41,229]\u001b[0m Trial 49 finished with value: 0.8795470144131777 and parameters: {'neurons': 142, 'depth': 3, 'alpha': 0.0007923537348998255, 'activation_function': 'logistic'}. Best is trial 12 with value: 0.8802333562113933.\u001b[0m\n",
            "/usr/local/lib/python3.7/dist-packages/sklearn/neural_network/_multilayer_perceptron.py:571: ConvergenceWarning:\n",
            "\n",
            "Stochastic Optimizer: Maximum iterations (200) reached and the optimization hasn't converged yet.\n",
            "\n",
            "\u001b[32m[I 2021-08-12 16:11:48,637]\u001b[0m Trial 50 pruned. \u001b[0m\n",
            "\u001b[32m[I 2021-08-12 16:12:13,756]\u001b[0m Trial 51 finished with value: 0.8802333562113933 and parameters: {'neurons': 105, 'depth': 3, 'alpha': 0.000909007353053182, 'activation_function': 'logistic'}. Best is trial 12 with value: 0.8802333562113933.\u001b[0m\n",
            "\u001b[32m[I 2021-08-12 16:12:48,898]\u001b[0m Trial 52 finished with value: 0.8795470144131777 and parameters: {'neurons': 90, 'depth': 3, 'alpha': 0.0009331743214701614, 'activation_function': 'logistic'}. Best is trial 12 with value: 0.8802333562113933.\u001b[0m\n",
            "\u001b[32m[I 2021-08-12 16:13:41,570]\u001b[0m Trial 53 pruned. \u001b[0m\n",
            "\u001b[32m[I 2021-08-12 16:14:21,202]\u001b[0m Trial 54 pruned. \u001b[0m\n",
            "\u001b[32m[I 2021-08-12 16:14:38,681]\u001b[0m Trial 55 pruned. \u001b[0m\n",
            "\u001b[32m[I 2021-08-12 16:15:48,639]\u001b[0m Trial 56 pruned. \u001b[0m\n",
            "\u001b[32m[I 2021-08-12 16:16:18,489]\u001b[0m Trial 57 pruned. \u001b[0m\n",
            "\u001b[32m[I 2021-08-12 16:16:51,497]\u001b[0m Trial 58 pruned. \u001b[0m\n",
            "\u001b[32m[I 2021-08-12 16:17:06,839]\u001b[0m Trial 59 pruned. \u001b[0m\n",
            "\u001b[32m[I 2021-08-12 16:17:11,257]\u001b[0m Trial 60 pruned. \u001b[0m\n",
            "\u001b[32m[I 2021-08-12 16:17:53,492]\u001b[0m Trial 61 pruned. \u001b[0m\n",
            "\u001b[32m[I 2021-08-12 16:18:11,966]\u001b[0m Trial 62 finished with value: 0.8802333562113933 and parameters: {'neurons': 102, 'depth': 3, 'alpha': 0.0009038449282859644, 'activation_function': 'logistic'}. Best is trial 12 with value: 0.8802333562113933.\u001b[0m\n",
            "\u001b[32m[I 2021-08-12 16:18:33,678]\u001b[0m Trial 63 pruned. \u001b[0m\n",
            "\u001b[32m[I 2021-08-12 16:19:01,806]\u001b[0m Trial 64 pruned. \u001b[0m\n",
            "\u001b[32m[I 2021-08-12 16:19:31,199]\u001b[0m Trial 65 finished with value: 0.8802333562113933 and parameters: {'neurons': 154, 'depth': 3, 'alpha': 0.0009593653739970424, 'activation_function': 'logistic'}. Best is trial 12 with value: 0.8802333562113933.\u001b[0m\n",
            "\u001b[32m[I 2021-08-12 16:19:54,540]\u001b[0m Trial 66 finished with value: 0.8795470144131777 and parameters: {'neurons': 157, 'depth': 3, 'alpha': 0.0009681618396508512, 'activation_function': 'logistic'}. Best is trial 12 with value: 0.8802333562113933.\u001b[0m\n",
            "\u001b[32m[I 2021-08-12 16:20:19,065]\u001b[0m Trial 67 pruned. \u001b[0m\n",
            "\u001b[32m[I 2021-08-12 16:20:36,089]\u001b[0m Trial 68 pruned. \u001b[0m\n",
            "\u001b[32m[I 2021-08-12 16:21:20,804]\u001b[0m Trial 69 pruned. \u001b[0m\n",
            "\u001b[32m[I 2021-08-12 16:21:44,359]\u001b[0m Trial 70 pruned. \u001b[0m\n",
            "\u001b[32m[I 2021-08-12 16:22:21,050]\u001b[0m Trial 71 pruned. \u001b[0m\n",
            "\u001b[32m[I 2021-08-12 16:22:37,844]\u001b[0m Trial 72 pruned. \u001b[0m\n",
            "\u001b[32m[I 2021-08-12 16:23:14,416]\u001b[0m Trial 73 pruned. \u001b[0m\n",
            "/usr/local/lib/python3.7/dist-packages/sklearn/neural_network/_multilayer_perceptron.py:571: ConvergenceWarning:\n",
            "\n",
            "Stochastic Optimizer: Maximum iterations (200) reached and the optimization hasn't converged yet.\n",
            "\n",
            "\u001b[32m[I 2021-08-12 16:24:22,174]\u001b[0m Trial 74 pruned. \u001b[0m\n",
            "\u001b[32m[I 2021-08-12 16:24:47,554]\u001b[0m Trial 75 finished with value: 0.8802333562113933 and parameters: {'neurons': 106, 'depth': 3, 'alpha': 0.0008180147710647619, 'activation_function': 'logistic'}. Best is trial 12 with value: 0.8802333562113933.\u001b[0m\n",
            "\u001b[32m[I 2021-08-12 16:25:27,346]\u001b[0m Trial 76 pruned. \u001b[0m\n",
            "\u001b[32m[I 2021-08-12 16:25:30,109]\u001b[0m Trial 77 pruned. \u001b[0m\n",
            "/usr/local/lib/python3.7/dist-packages/sklearn/neural_network/_multilayer_perceptron.py:571: ConvergenceWarning:\n",
            "\n",
            "Stochastic Optimizer: Maximum iterations (200) reached and the optimization hasn't converged yet.\n",
            "\n",
            "\u001b[32m[I 2021-08-12 16:25:48,566]\u001b[0m Trial 78 pruned. \u001b[0m\n",
            "\u001b[32m[I 2021-08-12 16:26:03,804]\u001b[0m Trial 79 pruned. \u001b[0m\n",
            "\u001b[32m[I 2021-08-12 16:27:21,339]\u001b[0m Trial 80 pruned. \u001b[0m\n",
            "\u001b[32m[I 2021-08-12 16:27:48,793]\u001b[0m Trial 81 finished with value: 0.8802333562113933 and parameters: {'neurons': 81, 'depth': 3, 'alpha': 0.0009122792331216322, 'activation_function': 'logistic'}. Best is trial 12 with value: 0.8802333562113933.\u001b[0m\n",
            "/usr/local/lib/python3.7/dist-packages/sklearn/neural_network/_multilayer_perceptron.py:571: ConvergenceWarning:\n",
            "\n",
            "Stochastic Optimizer: Maximum iterations (200) reached and the optimization hasn't converged yet.\n",
            "\n",
            "\u001b[32m[I 2021-08-12 16:28:22,858]\u001b[0m Trial 82 pruned. \u001b[0m\n",
            "\u001b[32m[I 2021-08-12 16:28:33,017]\u001b[0m Trial 83 pruned. \u001b[0m\n",
            "\u001b[32m[I 2021-08-12 16:28:42,692]\u001b[0m Trial 84 pruned. \u001b[0m\n",
            "\u001b[32m[I 2021-08-12 16:29:32,728]\u001b[0m Trial 85 pruned. \u001b[0m\n",
            "\u001b[32m[I 2021-08-12 16:30:10,937]\u001b[0m Trial 86 pruned. \u001b[0m\n",
            "\u001b[32m[I 2021-08-12 16:30:44,304]\u001b[0m Trial 87 pruned. \u001b[0m\n",
            "\u001b[32m[I 2021-08-12 16:31:47,523]\u001b[0m Trial 88 pruned. \u001b[0m\n",
            "\u001b[32m[I 2021-08-12 16:32:08,432]\u001b[0m Trial 89 pruned. \u001b[0m\n",
            "\u001b[32m[I 2021-08-12 16:32:56,354]\u001b[0m Trial 90 finished with value: 0.8802333562113933 and parameters: {'neurons': 160, 'depth': 2, 'alpha': 0.0008297720876235253, 'activation_function': 'logistic'}. Best is trial 12 with value: 0.8802333562113933.\u001b[0m\n",
            "\u001b[32m[I 2021-08-12 16:33:30,260]\u001b[0m Trial 91 finished with value: 0.8795470144131777 and parameters: {'neurons': 161, 'depth': 2, 'alpha': 0.0008442282634242764, 'activation_function': 'logistic'}. Best is trial 12 with value: 0.8802333562113933.\u001b[0m\n",
            "\u001b[32m[I 2021-08-12 16:33:52,371]\u001b[0m Trial 92 pruned. \u001b[0m\n",
            "\u001b[32m[I 2021-08-12 16:34:08,793]\u001b[0m Trial 93 pruned. \u001b[0m\n",
            "\u001b[32m[I 2021-08-12 16:34:44,834]\u001b[0m Trial 94 pruned. \u001b[0m\n",
            "\u001b[32m[I 2021-08-12 16:35:10,593]\u001b[0m Trial 95 pruned. \u001b[0m\n"
          ],
          "name": "stderr"
        }
      ]
    },
    {
      "cell_type": "code",
      "metadata": {
        "id": "mpC__4Km2nsA"
      },
      "source": [
        ""
      ],
      "execution_count": null,
      "outputs": []
    }
  ]
}