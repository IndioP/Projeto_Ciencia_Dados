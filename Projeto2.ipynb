{
  "nbformat": 4,
  "nbformat_minor": 0,
  "metadata": {
    "colab": {
      "name": "Projeto2.ipynb",
      "provenance": [],
      "collapsed_sections": [
        "Qv2e64wXyRVl",
        "xUmiu5Vr4HqA",
        "vzNO8CWn4FfY",
        "fdQL2Z7x4Cm0",
        "q70C2VPj4Axo"
      ],
      "include_colab_link": true
    },
    "kernelspec": {
      "display_name": "Python 3",
      "name": "python3"
    },
    "language_info": {
      "name": "python"
    }
  },
  "cells": [
    {
      "cell_type": "markdown",
      "metadata": {
        "id": "view-in-github",
        "colab_type": "text"
      },
      "source": [
        "<a href=\"https://colab.research.google.com/github/IndioP/Projeto_Ciencia_Dados/blob/main/Projeto2.ipynb\" target=\"_parent\"><img src=\"https://colab.research.google.com/assets/colab-badge.svg\" alt=\"Open In Colab\"/></a>"
      ]
    },
    {
      "cell_type": "code",
      "metadata": {
        "id": "kTn9BlhDdhIV",
        "colab": {
          "base_uri": "https://localhost:8080/"
        },
        "outputId": "37655195-99ca-41f3-e486-36ce3e6bf29d"
      },
      "source": [
        "!pip install pyngrok --quiet\n",
        "!pip install mlflow --quiet\n",
        "!pip install optuna\n",
        "\n",
        "import matplotlib.pyplot as plt\n",
        "from scipy import stats\n",
        "import seaborn as sns\n",
        "import pandas as pd\n",
        "import numpy as np\n",
        "import mlflow"
      ],
      "execution_count": 1,
      "outputs": [
        {
          "output_type": "stream",
          "text": [
            "\u001b[?25l\r\u001b[K     |▍                               | 10 kB 34.8 MB/s eta 0:00:01\r\u001b[K     |▉                               | 20 kB 31.2 MB/s eta 0:00:01\r\u001b[K     |█▎                              | 30 kB 19.0 MB/s eta 0:00:01\r\u001b[K     |█▊                              | 40 kB 16.4 MB/s eta 0:00:01\r\u001b[K     |██▏                             | 51 kB 9.1 MB/s eta 0:00:01\r\u001b[K     |██▋                             | 61 kB 8.8 MB/s eta 0:00:01\r\u001b[K     |███                             | 71 kB 9.2 MB/s eta 0:00:01\r\u001b[K     |███▌                            | 81 kB 10.2 MB/s eta 0:00:01\r\u001b[K     |████                            | 92 kB 7.8 MB/s eta 0:00:01\r\u001b[K     |████▍                           | 102 kB 8.5 MB/s eta 0:00:01\r\u001b[K     |████▉                           | 112 kB 8.5 MB/s eta 0:00:01\r\u001b[K     |█████▎                          | 122 kB 8.5 MB/s eta 0:00:01\r\u001b[K     |█████▊                          | 133 kB 8.5 MB/s eta 0:00:01\r\u001b[K     |██████▏                         | 143 kB 8.5 MB/s eta 0:00:01\r\u001b[K     |██████▋                         | 153 kB 8.5 MB/s eta 0:00:01\r\u001b[K     |███████                         | 163 kB 8.5 MB/s eta 0:00:01\r\u001b[K     |███████▌                        | 174 kB 8.5 MB/s eta 0:00:01\r\u001b[K     |████████                        | 184 kB 8.5 MB/s eta 0:00:01\r\u001b[K     |████████▍                       | 194 kB 8.5 MB/s eta 0:00:01\r\u001b[K     |████████▊                       | 204 kB 8.5 MB/s eta 0:00:01\r\u001b[K     |█████████▏                      | 215 kB 8.5 MB/s eta 0:00:01\r\u001b[K     |█████████▋                      | 225 kB 8.5 MB/s eta 0:00:01\r\u001b[K     |██████████                      | 235 kB 8.5 MB/s eta 0:00:01\r\u001b[K     |██████████▌                     | 245 kB 8.5 MB/s eta 0:00:01\r\u001b[K     |███████████                     | 256 kB 8.5 MB/s eta 0:00:01\r\u001b[K     |███████████▍                    | 266 kB 8.5 MB/s eta 0:00:01\r\u001b[K     |███████████▉                    | 276 kB 8.5 MB/s eta 0:00:01\r\u001b[K     |████████████▎                   | 286 kB 8.5 MB/s eta 0:00:01\r\u001b[K     |████████████▊                   | 296 kB 8.5 MB/s eta 0:00:01\r\u001b[K     |█████████████▏                  | 307 kB 8.5 MB/s eta 0:00:01\r\u001b[K     |█████████████▋                  | 317 kB 8.5 MB/s eta 0:00:01\r\u001b[K     |██████████████                  | 327 kB 8.5 MB/s eta 0:00:01\r\u001b[K     |██████████████▌                 | 337 kB 8.5 MB/s eta 0:00:01\r\u001b[K     |███████████████                 | 348 kB 8.5 MB/s eta 0:00:01\r\u001b[K     |███████████████▍                | 358 kB 8.5 MB/s eta 0:00:01\r\u001b[K     |███████████████▉                | 368 kB 8.5 MB/s eta 0:00:01\r\u001b[K     |████████████████▎               | 378 kB 8.5 MB/s eta 0:00:01\r\u001b[K     |████████████████▊               | 389 kB 8.5 MB/s eta 0:00:01\r\u001b[K     |█████████████████▏              | 399 kB 8.5 MB/s eta 0:00:01\r\u001b[K     |█████████████████▌              | 409 kB 8.5 MB/s eta 0:00:01\r\u001b[K     |██████████████████              | 419 kB 8.5 MB/s eta 0:00:01\r\u001b[K     |██████████████████▍             | 430 kB 8.5 MB/s eta 0:00:01\r\u001b[K     |██████████████████▉             | 440 kB 8.5 MB/s eta 0:00:01\r\u001b[K     |███████████████████▎            | 450 kB 8.5 MB/s eta 0:00:01\r\u001b[K     |███████████████████▊            | 460 kB 8.5 MB/s eta 0:00:01\r\u001b[K     |████████████████████▏           | 471 kB 8.5 MB/s eta 0:00:01\r\u001b[K     |████████████████████▋           | 481 kB 8.5 MB/s eta 0:00:01\r\u001b[K     |█████████████████████           | 491 kB 8.5 MB/s eta 0:00:01\r\u001b[K     |█████████████████████▌          | 501 kB 8.5 MB/s eta 0:00:01\r\u001b[K     |██████████████████████          | 512 kB 8.5 MB/s eta 0:00:01\r\u001b[K     |██████████████████████▍         | 522 kB 8.5 MB/s eta 0:00:01\r\u001b[K     |██████████████████████▉         | 532 kB 8.5 MB/s eta 0:00:01\r\u001b[K     |███████████████████████▎        | 542 kB 8.5 MB/s eta 0:00:01\r\u001b[K     |███████████████████████▊        | 552 kB 8.5 MB/s eta 0:00:01\r\u001b[K     |████████████████████████▏       | 563 kB 8.5 MB/s eta 0:00:01\r\u001b[K     |████████████████████████▋       | 573 kB 8.5 MB/s eta 0:00:01\r\u001b[K     |█████████████████████████       | 583 kB 8.5 MB/s eta 0:00:01\r\u001b[K     |█████████████████████████▌      | 593 kB 8.5 MB/s eta 0:00:01\r\u001b[K     |██████████████████████████      | 604 kB 8.5 MB/s eta 0:00:01\r\u001b[K     |██████████████████████████▎     | 614 kB 8.5 MB/s eta 0:00:01\r\u001b[K     |██████████████████████████▊     | 624 kB 8.5 MB/s eta 0:00:01\r\u001b[K     |███████████████████████████▏    | 634 kB 8.5 MB/s eta 0:00:01\r\u001b[K     |███████████████████████████▋    | 645 kB 8.5 MB/s eta 0:00:01\r\u001b[K     |████████████████████████████    | 655 kB 8.5 MB/s eta 0:00:01\r\u001b[K     |████████████████████████████▌   | 665 kB 8.5 MB/s eta 0:00:01\r\u001b[K     |█████████████████████████████   | 675 kB 8.5 MB/s eta 0:00:01\r\u001b[K     |█████████████████████████████▍  | 686 kB 8.5 MB/s eta 0:00:01\r\u001b[K     |█████████████████████████████▉  | 696 kB 8.5 MB/s eta 0:00:01\r\u001b[K     |██████████████████████████████▎ | 706 kB 8.5 MB/s eta 0:00:01\r\u001b[K     |██████████████████████████████▊ | 716 kB 8.5 MB/s eta 0:00:01\r\u001b[K     |███████████████████████████████▏| 727 kB 8.5 MB/s eta 0:00:01\r\u001b[K     |███████████████████████████████▋| 737 kB 8.5 MB/s eta 0:00:01\r\u001b[K     |████████████████████████████████| 746 kB 8.5 MB/s \n",
            "\u001b[?25h  Building wheel for pyngrok (setup.py) ... \u001b[?25l\u001b[?25hdone\n",
            "\u001b[K     |████████████████████████████████| 14.4 MB 64 kB/s \n",
            "\u001b[K     |████████████████████████████████| 636 kB 60.5 MB/s \n",
            "\u001b[K     |████████████████████████████████| 1.1 MB 64.8 MB/s \n",
            "\u001b[K     |████████████████████████████████| 170 kB 65.7 MB/s \n",
            "\u001b[K     |████████████████████████████████| 79 kB 9.9 MB/s \n",
            "\u001b[K     |████████████████████████████████| 56 kB 6.3 MB/s \n",
            "\u001b[K     |████████████████████████████████| 146 kB 59.8 MB/s \n",
            "\u001b[K     |████████████████████████████████| 75 kB 5.9 MB/s \n",
            "\u001b[K     |████████████████████████████████| 52 kB 2.1 MB/s \n",
            "\u001b[K     |████████████████████████████████| 63 kB 2.1 MB/s \n",
            "\u001b[?25h  Building wheel for alembic (setup.py) ... \u001b[?25l\u001b[?25hdone\n",
            "  Building wheel for databricks-cli (setup.py) ... \u001b[?25l\u001b[?25hdone\n",
            "  Building wheel for prometheus-flask-exporter (setup.py) ... \u001b[?25l\u001b[?25hdone\n",
            "Collecting optuna\n",
            "  Downloading optuna-2.9.1-py3-none-any.whl (302 kB)\n",
            "\u001b[K     |████████████████████████████████| 302 kB 6.5 MB/s \n",
            "\u001b[?25hRequirement already satisfied: alembic in /usr/local/lib/python3.7/dist-packages (from optuna) (1.4.1)\n",
            "Requirement already satisfied: numpy in /usr/local/lib/python3.7/dist-packages (from optuna) (1.19.5)\n",
            "Requirement already satisfied: PyYAML in /usr/local/lib/python3.7/dist-packages (from optuna) (5.4.1)\n",
            "Requirement already satisfied: tqdm in /usr/local/lib/python3.7/dist-packages (from optuna) (4.62.0)\n",
            "Requirement already satisfied: scipy!=1.4.0 in /usr/local/lib/python3.7/dist-packages (from optuna) (1.4.1)\n",
            "Requirement already satisfied: packaging>=20.0 in /usr/local/lib/python3.7/dist-packages (from optuna) (21.0)\n",
            "Collecting cliff\n",
            "  Downloading cliff-3.8.0-py3-none-any.whl (80 kB)\n",
            "\u001b[K     |████████████████████████████████| 80 kB 378 kB/s \n",
            "\u001b[?25hCollecting cmaes>=0.8.2\n",
            "  Downloading cmaes-0.8.2-py3-none-any.whl (15 kB)\n",
            "Requirement already satisfied: sqlalchemy>=1.1.0 in /usr/local/lib/python3.7/dist-packages (from optuna) (1.4.22)\n",
            "Collecting colorlog\n",
            "  Downloading colorlog-5.0.1-py2.py3-none-any.whl (10 kB)\n",
            "Requirement already satisfied: pyparsing>=2.0.2 in /usr/local/lib/python3.7/dist-packages (from packaging>=20.0->optuna) (2.4.7)\n",
            "Requirement already satisfied: importlib-metadata in /usr/local/lib/python3.7/dist-packages (from sqlalchemy>=1.1.0->optuna) (4.6.3)\n",
            "Requirement already satisfied: greenlet!=0.4.17 in /usr/local/lib/python3.7/dist-packages (from sqlalchemy>=1.1.0->optuna) (1.1.1)\n",
            "Requirement already satisfied: python-dateutil in /usr/local/lib/python3.7/dist-packages (from alembic->optuna) (2.8.2)\n",
            "Requirement already satisfied: Mako in /usr/local/lib/python3.7/dist-packages (from alembic->optuna) (1.1.4)\n",
            "Requirement already satisfied: python-editor>=0.3 in /usr/local/lib/python3.7/dist-packages (from alembic->optuna) (1.0.4)\n",
            "Collecting cmd2>=1.0.0\n",
            "  Downloading cmd2-2.1.2-py3-none-any.whl (141 kB)\n",
            "\u001b[K     |████████████████████████████████| 141 kB 68.1 MB/s \n",
            "\u001b[?25hCollecting pbr!=2.1.0,>=2.0.0\n",
            "  Downloading pbr-5.6.0-py2.py3-none-any.whl (111 kB)\n",
            "\u001b[K     |████████████████████████████████| 111 kB 69.8 MB/s \n",
            "\u001b[?25hRequirement already satisfied: PrettyTable>=0.7.2 in /usr/local/lib/python3.7/dist-packages (from cliff->optuna) (2.1.0)\n",
            "Collecting stevedore>=2.0.1\n",
            "  Downloading stevedore-3.3.0-py3-none-any.whl (49 kB)\n",
            "\u001b[K     |████████████████████████████████| 49 kB 5.2 MB/s \n",
            "\u001b[?25hRequirement already satisfied: wcwidth>=0.1.7 in /usr/local/lib/python3.7/dist-packages (from cmd2>=1.0.0->cliff->optuna) (0.2.5)\n",
            "Requirement already satisfied: typing-extensions in /usr/local/lib/python3.7/dist-packages (from cmd2>=1.0.0->cliff->optuna) (3.7.4.3)\n",
            "Requirement already satisfied: attrs>=16.3.0 in /usr/local/lib/python3.7/dist-packages (from cmd2>=1.0.0->cliff->optuna) (21.2.0)\n",
            "Collecting pyperclip>=1.6\n",
            "  Downloading pyperclip-1.8.2.tar.gz (20 kB)\n",
            "Collecting colorama>=0.3.7\n",
            "  Downloading colorama-0.4.4-py2.py3-none-any.whl (16 kB)\n",
            "Requirement already satisfied: zipp>=0.5 in /usr/local/lib/python3.7/dist-packages (from importlib-metadata->sqlalchemy>=1.1.0->optuna) (3.5.0)\n",
            "Requirement already satisfied: MarkupSafe>=0.9.2 in /usr/local/lib/python3.7/dist-packages (from Mako->alembic->optuna) (2.0.1)\n",
            "Requirement already satisfied: six>=1.5 in /usr/local/lib/python3.7/dist-packages (from python-dateutil->alembic->optuna) (1.15.0)\n",
            "Building wheels for collected packages: pyperclip\n",
            "  Building wheel for pyperclip (setup.py) ... \u001b[?25l\u001b[?25hdone\n",
            "  Created wheel for pyperclip: filename=pyperclip-1.8.2-py3-none-any.whl size=11136 sha256=65c22bfb4b11f364df48f9dc72531ca055a7ab346fb40c7c4a2210ba7bfd5bf8\n",
            "  Stored in directory: /root/.cache/pip/wheels/9f/18/84/8f69f8b08169c7bae2dde6bd7daf0c19fca8c8e500ee620a28\n",
            "Successfully built pyperclip\n",
            "Installing collected packages: pyperclip, pbr, colorama, stevedore, cmd2, colorlog, cmaes, cliff, optuna\n",
            "Successfully installed cliff-3.8.0 cmaes-0.8.2 cmd2-2.1.2 colorama-0.4.4 colorlog-5.0.1 optuna-2.9.1 pbr-5.6.0 pyperclip-1.8.2 stevedore-3.3.0\n"
          ],
          "name": "stdout"
        }
      ]
    },
    {
      "cell_type": "code",
      "metadata": {
        "colab": {
          "base_uri": "https://localhost:8080/"
        },
        "id": "RcUFTwZB7LnN",
        "outputId": "dc1da182-d9ca-45ac-8870-c9c0c636a633"
      },
      "source": [
        "from google.colab import drive\n",
        "drive.mount('/content/drive')"
      ],
      "execution_count": 2,
      "outputs": [
        {
          "output_type": "stream",
          "text": [
            "Mounted at /content/drive\n"
          ],
          "name": "stdout"
        }
      ]
    },
    {
      "cell_type": "code",
      "metadata": {
        "id": "ZJU-z0kd7EpK"
      },
      "source": [
        "acidentes = pd.read_csv(\"/content/drive/MyDrive/ciencia-de-dados/dataset preprocessado/acidentes.csv\",delimiter = ';')"
      ],
      "execution_count": 3,
      "outputs": []
    },
    {
      "cell_type": "code",
      "metadata": {
        "id": "autU7r6ueed4"
      },
      "source": [
        "#acidentes=pd.read_csv(\"acidentes.csv\")"
      ],
      "execution_count": 4,
      "outputs": []
    },
    {
      "cell_type": "code",
      "metadata": {
        "colab": {
          "base_uri": "https://localhost:8080/",
          "height": 438
        },
        "id": "eybt3VDMevWU",
        "outputId": "adf4ed51-4769-4dea-8e2e-4408d80acb8c"
      },
      "source": [
        "acidentes.head()"
      ],
      "execution_count": 5,
      "outputs": [
        {
          "output_type": "execute_result",
          "data": {
            "text/html": [
              "<div>\n",
              "<style scoped>\n",
              "    .dataframe tbody tr th:only-of-type {\n",
              "        vertical-align: middle;\n",
              "    }\n",
              "\n",
              "    .dataframe tbody tr th {\n",
              "        vertical-align: top;\n",
              "    }\n",
              "\n",
              "    .dataframe thead th {\n",
              "        text-align: right;\n",
              "    }\n",
              "</style>\n",
              "<table border=\"1\" class=\"dataframe\">\n",
              "  <thead>\n",
              "    <tr style=\"text-align: right;\">\n",
              "      <th></th>\n",
              "      <th>Unnamed: 0</th>\n",
              "      <th>DATA</th>\n",
              "      <th>HORA</th>\n",
              "      <th>NATUREZA_ACIDENTE</th>\n",
              "      <th>SITUACAO</th>\n",
              "      <th>BAIRRO</th>\n",
              "      <th>ENDERECO</th>\n",
              "      <th>COMPLEMENTO</th>\n",
              "      <th>BAIRRO_CRUZAMENTO</th>\n",
              "      <th>TIPO</th>\n",
              "      <th>DESCRICAO</th>\n",
              "      <th>AUTO</th>\n",
              "      <th>MOTO</th>\n",
              "      <th>CICLOM</th>\n",
              "      <th>CICLISTA</th>\n",
              "      <th>PEDESTRE</th>\n",
              "      <th>ONIBUS</th>\n",
              "      <th>CAMINHAO</th>\n",
              "      <th>VIATURA</th>\n",
              "      <th>OUTROS</th>\n",
              "      <th>VITIMAS</th>\n",
              "      <th>VITIMASFATAIS</th>\n",
              "      <th>ACIDENTE_VERIFICADO</th>\n",
              "      <th>TEMPO_CLIMA</th>\n",
              "      <th>SITUACAO_SEMAFORO</th>\n",
              "      <th>SINALIZACAO</th>\n",
              "      <th>CONDICAO_VIA</th>\n",
              "      <th>CONSERVACAO_VIA</th>\n",
              "      <th>PONTO_CONTROLE</th>\n",
              "      <th>SITUACAO_PLACA</th>\n",
              "      <th>VELOCIDADE_MAX_VIA</th>\n",
              "      <th>MAO_DIRECAO</th>\n",
              "      <th>DIVISAO_VIA1</th>\n",
              "      <th>PERIODO_DO_DIA</th>\n",
              "      <th>DIA_DA_SEMANA</th>\n",
              "      <th>ANO</th>\n",
              "      <th>MES</th>\n",
              "      <th>QTD_ACIDENTES</th>\n",
              "    </tr>\n",
              "  </thead>\n",
              "  <tbody>\n",
              "    <tr>\n",
              "      <th>0</th>\n",
              "      <td>0</td>\n",
              "      <td>2015-12-03</td>\n",
              "      <td>11</td>\n",
              "      <td>SEM VITIMA</td>\n",
              "      <td>CANCELADA</td>\n",
              "      <td>CASA AMARELA</td>\n",
              "      <td>AV NORTE</td>\n",
              "      <td>SENTIDO SUBURBIO   E/F AO SESC</td>\n",
              "      <td>SEM INFORMACAO</td>\n",
              "      <td>COLISAO</td>\n",
              "      <td>COLISAO SEM VITIMAS</td>\n",
              "      <td>0.0</td>\n",
              "      <td>0.0</td>\n",
              "      <td>0.0</td>\n",
              "      <td>0.0</td>\n",
              "      <td>0.0</td>\n",
              "      <td>0.0</td>\n",
              "      <td>0.0</td>\n",
              "      <td>0.0</td>\n",
              "      <td>0.0</td>\n",
              "      <td>0.0</td>\n",
              "      <td>0.0</td>\n",
              "      <td>SEM INFORMACAO</td>\n",
              "      <td>SEM INFORMACAO</td>\n",
              "      <td>SEM INFORMACAO</td>\n",
              "      <td>SEM INFORMACAO</td>\n",
              "      <td>SEM INFORMACAO</td>\n",
              "      <td>SEM INFORMACAO</td>\n",
              "      <td>SEM INFORMACAO</td>\n",
              "      <td>SEM INFORMACAO</td>\n",
              "      <td>SEM INFORMACAO</td>\n",
              "      <td>SEM INFORMACAO</td>\n",
              "      <td>SEM INFORMACAO</td>\n",
              "      <td>MANHA</td>\n",
              "      <td>QUINTA</td>\n",
              "      <td>2015</td>\n",
              "      <td>12</td>\n",
              "      <td>1</td>\n",
              "    </tr>\n",
              "    <tr>\n",
              "      <th>1</th>\n",
              "      <td>1</td>\n",
              "      <td>2015-06-01</td>\n",
              "      <td>6</td>\n",
              "      <td>SEM VITIMA</td>\n",
              "      <td>FINALIZADA</td>\n",
              "      <td>ENCRUZILHADA</td>\n",
              "      <td>EST DE BELEM</td>\n",
              "      <td>IGREJA BATISTA MEMORIAL DE BELEM</td>\n",
              "      <td>SEM INFORMACAO</td>\n",
              "      <td>COLISAO</td>\n",
              "      <td>SEM VITIMAS</td>\n",
              "      <td>0.0</td>\n",
              "      <td>2.0</td>\n",
              "      <td>0.0</td>\n",
              "      <td>0.0</td>\n",
              "      <td>0.0</td>\n",
              "      <td>0.0</td>\n",
              "      <td>0.0</td>\n",
              "      <td>0.0</td>\n",
              "      <td>0.0</td>\n",
              "      <td>0.0</td>\n",
              "      <td>0.0</td>\n",
              "      <td>SEM INFORMACAO</td>\n",
              "      <td>SEM INFORMACAO</td>\n",
              "      <td>SEM INFORMACAO</td>\n",
              "      <td>SEM INFORMACAO</td>\n",
              "      <td>SEM INFORMACAO</td>\n",
              "      <td>SEM INFORMACAO</td>\n",
              "      <td>SEM INFORMACAO</td>\n",
              "      <td>SEM INFORMACAO</td>\n",
              "      <td>SEM INFORMACAO</td>\n",
              "      <td>SEM INFORMACAO</td>\n",
              "      <td>SEM INFORMACAO</td>\n",
              "      <td>MANHA</td>\n",
              "      <td>SEGUNDA</td>\n",
              "      <td>2015</td>\n",
              "      <td>6</td>\n",
              "      <td>1</td>\n",
              "    </tr>\n",
              "    <tr>\n",
              "      <th>2</th>\n",
              "      <td>2</td>\n",
              "      <td>2015-06-01</td>\n",
              "      <td>8</td>\n",
              "      <td>SEM VITIMA</td>\n",
              "      <td>FINALIZADA</td>\n",
              "      <td>BOA VIAGEM</td>\n",
              "      <td>RUA ERNESTO DE PAULA SANTOS</td>\n",
              "      <td>SEMAFORO NO217</td>\n",
              "      <td>SEM INFORMACAO</td>\n",
              "      <td>COLISAO</td>\n",
              "      <td>SEM VITIMA</td>\n",
              "      <td>1.0</td>\n",
              "      <td>0.0</td>\n",
              "      <td>0.0</td>\n",
              "      <td>0.0</td>\n",
              "      <td>0.0</td>\n",
              "      <td>0.0</td>\n",
              "      <td>1.0</td>\n",
              "      <td>0.0</td>\n",
              "      <td>0.0</td>\n",
              "      <td>0.0</td>\n",
              "      <td>0.0</td>\n",
              "      <td>SEM INFORMACAO</td>\n",
              "      <td>SEM INFORMACAO</td>\n",
              "      <td>SEM INFORMACAO</td>\n",
              "      <td>SEM INFORMACAO</td>\n",
              "      <td>SEM INFORMACAO</td>\n",
              "      <td>SEM INFORMACAO</td>\n",
              "      <td>SEM INFORMACAO</td>\n",
              "      <td>SEM INFORMACAO</td>\n",
              "      <td>SEM INFORMACAO</td>\n",
              "      <td>SEM INFORMACAO</td>\n",
              "      <td>SEM INFORMACAO</td>\n",
              "      <td>MANHA</td>\n",
              "      <td>SEGUNDA</td>\n",
              "      <td>2015</td>\n",
              "      <td>6</td>\n",
              "      <td>1</td>\n",
              "    </tr>\n",
              "    <tr>\n",
              "      <th>3</th>\n",
              "      <td>3</td>\n",
              "      <td>2015-06-01</td>\n",
              "      <td>8</td>\n",
              "      <td>SEM VITIMA</td>\n",
              "      <td>FINALIZADA</td>\n",
              "      <td>AFOGADOS</td>\n",
              "      <td>AV SUL</td>\n",
              "      <td>AO LADO DA ESTACAO LARGO DA PAZ</td>\n",
              "      <td>SEM INFORMACAO</td>\n",
              "      <td>COLISAO</td>\n",
              "      <td>COLISAO S/V</td>\n",
              "      <td>1.0</td>\n",
              "      <td>0.0</td>\n",
              "      <td>0.0</td>\n",
              "      <td>0.0</td>\n",
              "      <td>0.0</td>\n",
              "      <td>0.0</td>\n",
              "      <td>1.0</td>\n",
              "      <td>0.0</td>\n",
              "      <td>0.0</td>\n",
              "      <td>0.0</td>\n",
              "      <td>0.0</td>\n",
              "      <td>SEM INFORMACAO</td>\n",
              "      <td>SEM INFORMACAO</td>\n",
              "      <td>SEM INFORMACAO</td>\n",
              "      <td>SEM INFORMACAO</td>\n",
              "      <td>SEM INFORMACAO</td>\n",
              "      <td>SEM INFORMACAO</td>\n",
              "      <td>SEM INFORMACAO</td>\n",
              "      <td>SEM INFORMACAO</td>\n",
              "      <td>SEM INFORMACAO</td>\n",
              "      <td>SEM INFORMACAO</td>\n",
              "      <td>SEM INFORMACAO</td>\n",
              "      <td>MANHA</td>\n",
              "      <td>SEGUNDA</td>\n",
              "      <td>2015</td>\n",
              "      <td>6</td>\n",
              "      <td>1</td>\n",
              "    </tr>\n",
              "    <tr>\n",
              "      <th>4</th>\n",
              "      <td>4</td>\n",
              "      <td>2015-06-01</td>\n",
              "      <td>8</td>\n",
              "      <td>SEM VITIMA</td>\n",
              "      <td>CANCELADA</td>\n",
              "      <td>MADALENA</td>\n",
              "      <td>RUA BENFICA</td>\n",
              "      <td>EM  FRENTE AO CLUBE INTERNACIONAL</td>\n",
              "      <td>SEM INFORMACAO</td>\n",
              "      <td>COLISAO</td>\n",
              "      <td>GM RIBEIRO JA NO LOCAL VT 05</td>\n",
              "      <td>2.0</td>\n",
              "      <td>0.0</td>\n",
              "      <td>0.0</td>\n",
              "      <td>0.0</td>\n",
              "      <td>0.0</td>\n",
              "      <td>0.0</td>\n",
              "      <td>0.0</td>\n",
              "      <td>0.0</td>\n",
              "      <td>0.0</td>\n",
              "      <td>0.0</td>\n",
              "      <td>0.0</td>\n",
              "      <td>SEM INFORMACAO</td>\n",
              "      <td>SEM INFORMACAO</td>\n",
              "      <td>SEM INFORMACAO</td>\n",
              "      <td>SEM INFORMACAO</td>\n",
              "      <td>SEM INFORMACAO</td>\n",
              "      <td>SEM INFORMACAO</td>\n",
              "      <td>SEM INFORMACAO</td>\n",
              "      <td>SEM INFORMACAO</td>\n",
              "      <td>SEM INFORMACAO</td>\n",
              "      <td>SEM INFORMACAO</td>\n",
              "      <td>SEM INFORMACAO</td>\n",
              "      <td>MANHA</td>\n",
              "      <td>SEGUNDA</td>\n",
              "      <td>2015</td>\n",
              "      <td>6</td>\n",
              "      <td>1</td>\n",
              "    </tr>\n",
              "  </tbody>\n",
              "</table>\n",
              "</div>"
            ],
            "text/plain": [
              "   Unnamed: 0        DATA  HORA  ...   ANO MES QTD_ACIDENTES\n",
              "0           0  2015-12-03    11  ...  2015  12             1\n",
              "1           1  2015-06-01     6  ...  2015   6             1\n",
              "2           2  2015-06-01     8  ...  2015   6             1\n",
              "3           3  2015-06-01     8  ...  2015   6             1\n",
              "4           4  2015-06-01     8  ...  2015   6             1\n",
              "\n",
              "[5 rows x 38 columns]"
            ]
          },
          "metadata": {
            "tags": []
          },
          "execution_count": 5
        }
      ]
    },
    {
      "cell_type": "code",
      "metadata": {
        "id": "bIdZEHMK1fMG"
      },
      "source": [
        "acidentes['NATUREZA_ACIDENTE'] = acidentes['NATUREZA_ACIDENTE'].replace('VITIMA FATAL', 'COM VITIMA')\n",
        "acidentes['NATUREZA_ACIDENTE'] = acidentes['NATUREZA_ACIDENTE'].replace('SEM INFORMACAO', np.NaN)\n",
        "acidentes['NATUREZA_ACIDENTE'] = acidentes['NATUREZA_ACIDENTE'].replace('ENTRADA E SAIDA', np.NaN)\n",
        "acidentes['NATUREZA_ACIDENTE'] = acidentes['NATUREZA_ACIDENTE'].replace('APOIO', np.NaN)"
      ],
      "execution_count": 6,
      "outputs": []
    },
    {
      "cell_type": "code",
      "metadata": {
        "id": "v3RDMfaehM6B"
      },
      "source": [
        "df = acidentes[['NATUREZA_ACIDENTE','TIPO', 'AUTO', 'MOTO', 'CICLOM', 'CICLISTA','PEDESTRE','ONIBUS','CAMINHAO','VIATURA','TEMPO_CLIMA','SITUACAO_SEMAFORO','SINALIZACAO','CONDICAO_VIA','CONSERVACAO_VIA','PERIODO_DO_DIA']]"
      ],
      "execution_count": 7,
      "outputs": []
    },
    {
      "cell_type": "code",
      "metadata": {
        "colab": {
          "base_uri": "https://localhost:8080/",
          "height": 305
        },
        "id": "fX7-7QbbiG1j",
        "outputId": "b7f3d17b-f818-4d47-9640-7f008ffef1a0"
      },
      "source": [
        "df.head()"
      ],
      "execution_count": 8,
      "outputs": [
        {
          "output_type": "execute_result",
          "data": {
            "text/html": [
              "<div>\n",
              "<style scoped>\n",
              "    .dataframe tbody tr th:only-of-type {\n",
              "        vertical-align: middle;\n",
              "    }\n",
              "\n",
              "    .dataframe tbody tr th {\n",
              "        vertical-align: top;\n",
              "    }\n",
              "\n",
              "    .dataframe thead th {\n",
              "        text-align: right;\n",
              "    }\n",
              "</style>\n",
              "<table border=\"1\" class=\"dataframe\">\n",
              "  <thead>\n",
              "    <tr style=\"text-align: right;\">\n",
              "      <th></th>\n",
              "      <th>NATUREZA_ACIDENTE</th>\n",
              "      <th>TIPO</th>\n",
              "      <th>AUTO</th>\n",
              "      <th>MOTO</th>\n",
              "      <th>CICLOM</th>\n",
              "      <th>CICLISTA</th>\n",
              "      <th>PEDESTRE</th>\n",
              "      <th>ONIBUS</th>\n",
              "      <th>CAMINHAO</th>\n",
              "      <th>VIATURA</th>\n",
              "      <th>TEMPO_CLIMA</th>\n",
              "      <th>SITUACAO_SEMAFORO</th>\n",
              "      <th>SINALIZACAO</th>\n",
              "      <th>CONDICAO_VIA</th>\n",
              "      <th>CONSERVACAO_VIA</th>\n",
              "      <th>PERIODO_DO_DIA</th>\n",
              "    </tr>\n",
              "  </thead>\n",
              "  <tbody>\n",
              "    <tr>\n",
              "      <th>0</th>\n",
              "      <td>SEM VITIMA</td>\n",
              "      <td>COLISAO</td>\n",
              "      <td>0.0</td>\n",
              "      <td>0.0</td>\n",
              "      <td>0.0</td>\n",
              "      <td>0.0</td>\n",
              "      <td>0.0</td>\n",
              "      <td>0.0</td>\n",
              "      <td>0.0</td>\n",
              "      <td>0.0</td>\n",
              "      <td>SEM INFORMACAO</td>\n",
              "      <td>SEM INFORMACAO</td>\n",
              "      <td>SEM INFORMACAO</td>\n",
              "      <td>SEM INFORMACAO</td>\n",
              "      <td>SEM INFORMACAO</td>\n",
              "      <td>MANHA</td>\n",
              "    </tr>\n",
              "    <tr>\n",
              "      <th>1</th>\n",
              "      <td>SEM VITIMA</td>\n",
              "      <td>COLISAO</td>\n",
              "      <td>0.0</td>\n",
              "      <td>2.0</td>\n",
              "      <td>0.0</td>\n",
              "      <td>0.0</td>\n",
              "      <td>0.0</td>\n",
              "      <td>0.0</td>\n",
              "      <td>0.0</td>\n",
              "      <td>0.0</td>\n",
              "      <td>SEM INFORMACAO</td>\n",
              "      <td>SEM INFORMACAO</td>\n",
              "      <td>SEM INFORMACAO</td>\n",
              "      <td>SEM INFORMACAO</td>\n",
              "      <td>SEM INFORMACAO</td>\n",
              "      <td>MANHA</td>\n",
              "    </tr>\n",
              "    <tr>\n",
              "      <th>2</th>\n",
              "      <td>SEM VITIMA</td>\n",
              "      <td>COLISAO</td>\n",
              "      <td>1.0</td>\n",
              "      <td>0.0</td>\n",
              "      <td>0.0</td>\n",
              "      <td>0.0</td>\n",
              "      <td>0.0</td>\n",
              "      <td>0.0</td>\n",
              "      <td>1.0</td>\n",
              "      <td>0.0</td>\n",
              "      <td>SEM INFORMACAO</td>\n",
              "      <td>SEM INFORMACAO</td>\n",
              "      <td>SEM INFORMACAO</td>\n",
              "      <td>SEM INFORMACAO</td>\n",
              "      <td>SEM INFORMACAO</td>\n",
              "      <td>MANHA</td>\n",
              "    </tr>\n",
              "    <tr>\n",
              "      <th>3</th>\n",
              "      <td>SEM VITIMA</td>\n",
              "      <td>COLISAO</td>\n",
              "      <td>1.0</td>\n",
              "      <td>0.0</td>\n",
              "      <td>0.0</td>\n",
              "      <td>0.0</td>\n",
              "      <td>0.0</td>\n",
              "      <td>0.0</td>\n",
              "      <td>1.0</td>\n",
              "      <td>0.0</td>\n",
              "      <td>SEM INFORMACAO</td>\n",
              "      <td>SEM INFORMACAO</td>\n",
              "      <td>SEM INFORMACAO</td>\n",
              "      <td>SEM INFORMACAO</td>\n",
              "      <td>SEM INFORMACAO</td>\n",
              "      <td>MANHA</td>\n",
              "    </tr>\n",
              "    <tr>\n",
              "      <th>4</th>\n",
              "      <td>SEM VITIMA</td>\n",
              "      <td>COLISAO</td>\n",
              "      <td>2.0</td>\n",
              "      <td>0.0</td>\n",
              "      <td>0.0</td>\n",
              "      <td>0.0</td>\n",
              "      <td>0.0</td>\n",
              "      <td>0.0</td>\n",
              "      <td>0.0</td>\n",
              "      <td>0.0</td>\n",
              "      <td>SEM INFORMACAO</td>\n",
              "      <td>SEM INFORMACAO</td>\n",
              "      <td>SEM INFORMACAO</td>\n",
              "      <td>SEM INFORMACAO</td>\n",
              "      <td>SEM INFORMACAO</td>\n",
              "      <td>MANHA</td>\n",
              "    </tr>\n",
              "  </tbody>\n",
              "</table>\n",
              "</div>"
            ],
            "text/plain": [
              "  NATUREZA_ACIDENTE     TIPO  ...  CONSERVACAO_VIA  PERIODO_DO_DIA\n",
              "0        SEM VITIMA  COLISAO  ...   SEM INFORMACAO           MANHA\n",
              "1        SEM VITIMA  COLISAO  ...   SEM INFORMACAO           MANHA\n",
              "2        SEM VITIMA  COLISAO  ...   SEM INFORMACAO           MANHA\n",
              "3        SEM VITIMA  COLISAO  ...   SEM INFORMACAO           MANHA\n",
              "4        SEM VITIMA  COLISAO  ...   SEM INFORMACAO           MANHA\n",
              "\n",
              "[5 rows x 16 columns]"
            ]
          },
          "metadata": {
            "tags": []
          },
          "execution_count": 8
        }
      ]
    },
    {
      "cell_type": "code",
      "metadata": {
        "colab": {
          "base_uri": "https://localhost:8080/"
        },
        "id": "-FhsZzt6mYrS",
        "outputId": "34f5d9bb-0bd7-497c-8785-ccd691869d26"
      },
      "source": [
        "df['NATUREZA_ACIDENTE'] = df['NATUREZA_ACIDENTE'].replace('SEM INFORMACAO', np.nan)\n",
        "df['TIPO'] = df['TIPO'].replace('SEM INFORMACAO', np.nan)\n",
        "df['TEMPO_CLIMA'] = df['TEMPO_CLIMA'].replace('SEM INFORMACAO', np.nan)\n",
        "df['SINALIZACAO'] = df['SINALIZACAO'].replace('SEM INFORMACAO', np.nan)\n",
        "df['CONDICAO_VIA'] = df['CONDICAO_VIA'].replace('SEM INFORMACAO', np.nan)\n",
        "df['CONSERVACAO_VIA'] = df['CONSERVACAO_VIA'].replace('SEM INFORMACAO', np.nan)\n",
        "#df['SITUACAO_PLACA'] = df['SITUACAO_PLACA'].replace('SEM INFORMACAO', np.nan)\n",
        "#df['VELOCIDADE_MAX_VIA'] = df['VELOCIDADE_MAX_VIA'].replace('SEM INFORMACAO', np.nan)\n",
        "df['PERIODO_DO_DIA'] = df['PERIODO_DO_DIA'].replace('SEM INFORMACAO', np.nan)"
      ],
      "execution_count": 9,
      "outputs": [
        {
          "output_type": "stream",
          "text": [
            "/usr/local/lib/python3.7/dist-packages/ipykernel_launcher.py:1: SettingWithCopyWarning: \n",
            "A value is trying to be set on a copy of a slice from a DataFrame.\n",
            "Try using .loc[row_indexer,col_indexer] = value instead\n",
            "\n",
            "See the caveats in the documentation: https://pandas.pydata.org/pandas-docs/stable/user_guide/indexing.html#returning-a-view-versus-a-copy\n",
            "  \"\"\"Entry point for launching an IPython kernel.\n",
            "/usr/local/lib/python3.7/dist-packages/ipykernel_launcher.py:2: SettingWithCopyWarning: \n",
            "A value is trying to be set on a copy of a slice from a DataFrame.\n",
            "Try using .loc[row_indexer,col_indexer] = value instead\n",
            "\n",
            "See the caveats in the documentation: https://pandas.pydata.org/pandas-docs/stable/user_guide/indexing.html#returning-a-view-versus-a-copy\n",
            "  \n",
            "/usr/local/lib/python3.7/dist-packages/ipykernel_launcher.py:3: SettingWithCopyWarning: \n",
            "A value is trying to be set on a copy of a slice from a DataFrame.\n",
            "Try using .loc[row_indexer,col_indexer] = value instead\n",
            "\n",
            "See the caveats in the documentation: https://pandas.pydata.org/pandas-docs/stable/user_guide/indexing.html#returning-a-view-versus-a-copy\n",
            "  This is separate from the ipykernel package so we can avoid doing imports until\n",
            "/usr/local/lib/python3.7/dist-packages/ipykernel_launcher.py:4: SettingWithCopyWarning: \n",
            "A value is trying to be set on a copy of a slice from a DataFrame.\n",
            "Try using .loc[row_indexer,col_indexer] = value instead\n",
            "\n",
            "See the caveats in the documentation: https://pandas.pydata.org/pandas-docs/stable/user_guide/indexing.html#returning-a-view-versus-a-copy\n",
            "  after removing the cwd from sys.path.\n",
            "/usr/local/lib/python3.7/dist-packages/ipykernel_launcher.py:5: SettingWithCopyWarning: \n",
            "A value is trying to be set on a copy of a slice from a DataFrame.\n",
            "Try using .loc[row_indexer,col_indexer] = value instead\n",
            "\n",
            "See the caveats in the documentation: https://pandas.pydata.org/pandas-docs/stable/user_guide/indexing.html#returning-a-view-versus-a-copy\n",
            "  \"\"\"\n",
            "/usr/local/lib/python3.7/dist-packages/ipykernel_launcher.py:6: SettingWithCopyWarning: \n",
            "A value is trying to be set on a copy of a slice from a DataFrame.\n",
            "Try using .loc[row_indexer,col_indexer] = value instead\n",
            "\n",
            "See the caveats in the documentation: https://pandas.pydata.org/pandas-docs/stable/user_guide/indexing.html#returning-a-view-versus-a-copy\n",
            "  \n",
            "/usr/local/lib/python3.7/dist-packages/ipykernel_launcher.py:9: SettingWithCopyWarning: \n",
            "A value is trying to be set on a copy of a slice from a DataFrame.\n",
            "Try using .loc[row_indexer,col_indexer] = value instead\n",
            "\n",
            "See the caveats in the documentation: https://pandas.pydata.org/pandas-docs/stable/user_guide/indexing.html#returning-a-view-versus-a-copy\n",
            "  if __name__ == '__main__':\n"
          ],
          "name": "stderr"
        }
      ]
    },
    {
      "cell_type": "code",
      "metadata": {
        "colab": {
          "base_uri": "https://localhost:8080/"
        },
        "id": "lmR1oLBrmo0m",
        "outputId": "fed5f8ad-61c1-4391-db7f-4b18943ab757"
      },
      "source": [
        "print(df.isnull().sum()/len(df))"
      ],
      "execution_count": 10,
      "outputs": [
        {
          "output_type": "stream",
          "text": [
            "NATUREZA_ACIDENTE    0.007309\n",
            "TIPO                 0.000983\n",
            "AUTO                 0.000000\n",
            "MOTO                 0.000000\n",
            "CICLOM               0.000000\n",
            "CICLISTA             0.000000\n",
            "PEDESTRE             0.000000\n",
            "ONIBUS               0.000000\n",
            "CAMINHAO             0.000000\n",
            "VIATURA              0.000000\n",
            "TEMPO_CLIMA          0.739553\n",
            "SITUACAO_SEMAFORO    0.000000\n",
            "SINALIZACAO          0.744415\n",
            "CONDICAO_VIA         0.740381\n",
            "CONSERVACAO_VIA      0.744087\n",
            "PERIODO_DO_DIA       0.000000\n",
            "dtype: float64\n"
          ],
          "name": "stdout"
        }
      ]
    },
    {
      "cell_type": "code",
      "metadata": {
        "id": "ExY3-D-uqj3Y"
      },
      "source": [
        "df = df[df['CONSERVACAO_VIA'].notna()]\n",
        "df = df[df['SINALIZACAO'].notna()]\n",
        "df = df[df['CONDICAO_VIA'].notna()]\n",
        "df = df[df['TEMPO_CLIMA'].notna()]\n",
        "df = df[df['NATUREZA_ACIDENTE'].notna()]"
      ],
      "execution_count": 11,
      "outputs": []
    },
    {
      "cell_type": "code",
      "metadata": {
        "colab": {
          "base_uri": "https://localhost:8080/"
        },
        "id": "VGw42p-uqoOA",
        "outputId": "9828818c-eb00-4d5a-ea86-34ff33462a37"
      },
      "source": [
        "len(df)"
      ],
      "execution_count": 12,
      "outputs": [
        {
          "output_type": "execute_result",
          "data": {
            "text/plain": [
              "14568"
            ]
          },
          "metadata": {
            "tags": []
          },
          "execution_count": 12
        }
      ]
    },
    {
      "cell_type": "code",
      "metadata": {
        "colab": {
          "base_uri": "https://localhost:8080/"
        },
        "id": "90k86hfCsQeg",
        "outputId": "a4a4ef1e-520f-48d8-bad0-1655b6ecfdb8"
      },
      "source": [
        "print(df.isnull().sum()/len(df))"
      ],
      "execution_count": 13,
      "outputs": [
        {
          "output_type": "stream",
          "text": [
            "NATUREZA_ACIDENTE    0.0\n",
            "TIPO                 0.0\n",
            "AUTO                 0.0\n",
            "MOTO                 0.0\n",
            "CICLOM               0.0\n",
            "CICLISTA             0.0\n",
            "PEDESTRE             0.0\n",
            "ONIBUS               0.0\n",
            "CAMINHAO             0.0\n",
            "VIATURA              0.0\n",
            "TEMPO_CLIMA          0.0\n",
            "SITUACAO_SEMAFORO    0.0\n",
            "SINALIZACAO          0.0\n",
            "CONDICAO_VIA         0.0\n",
            "CONSERVACAO_VIA      0.0\n",
            "PERIODO_DO_DIA       0.0\n",
            "dtype: float64\n"
          ],
          "name": "stdout"
        }
      ]
    },
    {
      "cell_type": "code",
      "metadata": {
        "colab": {
          "base_uri": "https://localhost:8080/",
          "height": 322
        },
        "id": "LdIBsQTqJpM-",
        "outputId": "f76d3dc3-ab17-4d12-97c3-93111bbdf3d6"
      },
      "source": [
        "df.head()"
      ],
      "execution_count": 14,
      "outputs": [
        {
          "output_type": "execute_result",
          "data": {
            "text/html": [
              "<div>\n",
              "<style scoped>\n",
              "    .dataframe tbody tr th:only-of-type {\n",
              "        vertical-align: middle;\n",
              "    }\n",
              "\n",
              "    .dataframe tbody tr th {\n",
              "        vertical-align: top;\n",
              "    }\n",
              "\n",
              "    .dataframe thead th {\n",
              "        text-align: right;\n",
              "    }\n",
              "</style>\n",
              "<table border=\"1\" class=\"dataframe\">\n",
              "  <thead>\n",
              "    <tr style=\"text-align: right;\">\n",
              "      <th></th>\n",
              "      <th>NATUREZA_ACIDENTE</th>\n",
              "      <th>TIPO</th>\n",
              "      <th>AUTO</th>\n",
              "      <th>MOTO</th>\n",
              "      <th>CICLOM</th>\n",
              "      <th>CICLISTA</th>\n",
              "      <th>PEDESTRE</th>\n",
              "      <th>ONIBUS</th>\n",
              "      <th>CAMINHAO</th>\n",
              "      <th>VIATURA</th>\n",
              "      <th>TEMPO_CLIMA</th>\n",
              "      <th>SITUACAO_SEMAFORO</th>\n",
              "      <th>SINALIZACAO</th>\n",
              "      <th>CONDICAO_VIA</th>\n",
              "      <th>CONSERVACAO_VIA</th>\n",
              "      <th>PERIODO_DO_DIA</th>\n",
              "    </tr>\n",
              "  </thead>\n",
              "  <tbody>\n",
              "    <tr>\n",
              "      <th>38916</th>\n",
              "      <td>SEM VITIMA</td>\n",
              "      <td>ABALROAMENTO LONGITUDINAL</td>\n",
              "      <td>2.0</td>\n",
              "      <td>0.0</td>\n",
              "      <td>0.0</td>\n",
              "      <td>0.0</td>\n",
              "      <td>0.0</td>\n",
              "      <td>0.0</td>\n",
              "      <td>0.0</td>\n",
              "      <td>0.0</td>\n",
              "      <td>BOM</td>\n",
              "      <td>SEM DEFEITO</td>\n",
              "      <td>PERFEITO ESTADO</td>\n",
              "      <td>SECA</td>\n",
              "      <td>PERFEITO ESTADO</td>\n",
              "      <td>MADRUGADA</td>\n",
              "    </tr>\n",
              "    <tr>\n",
              "      <th>38919</th>\n",
              "      <td>SEM VITIMA</td>\n",
              "      <td>COLISAO TRASEIRA</td>\n",
              "      <td>2.0</td>\n",
              "      <td>0.0</td>\n",
              "      <td>0.0</td>\n",
              "      <td>0.0</td>\n",
              "      <td>0.0</td>\n",
              "      <td>0.0</td>\n",
              "      <td>0.0</td>\n",
              "      <td>0.0</td>\n",
              "      <td>BOM</td>\n",
              "      <td>NAO EXISTE</td>\n",
              "      <td>NAO EXISTENTE</td>\n",
              "      <td>SECA</td>\n",
              "      <td>PERFEITO ESTADO</td>\n",
              "      <td>MANHA</td>\n",
              "    </tr>\n",
              "    <tr>\n",
              "      <th>38920</th>\n",
              "      <td>SEM VITIMA</td>\n",
              "      <td>COLISAO TRASEIRA</td>\n",
              "      <td>2.0</td>\n",
              "      <td>0.0</td>\n",
              "      <td>0.0</td>\n",
              "      <td>0.0</td>\n",
              "      <td>0.0</td>\n",
              "      <td>0.0</td>\n",
              "      <td>0.0</td>\n",
              "      <td>0.0</td>\n",
              "      <td>BOM</td>\n",
              "      <td>SEM DEFEITO</td>\n",
              "      <td>PERFEITO ESTADO</td>\n",
              "      <td>SECA</td>\n",
              "      <td>PERFEITO ESTADO</td>\n",
              "      <td>MANHA</td>\n",
              "    </tr>\n",
              "    <tr>\n",
              "      <th>38921</th>\n",
              "      <td>SEM VITIMA</td>\n",
              "      <td>ABALROAMENTO LONGITUDINAL</td>\n",
              "      <td>0.0</td>\n",
              "      <td>0.0</td>\n",
              "      <td>0.0</td>\n",
              "      <td>0.0</td>\n",
              "      <td>0.0</td>\n",
              "      <td>1.0</td>\n",
              "      <td>1.0</td>\n",
              "      <td>0.0</td>\n",
              "      <td>BOM</td>\n",
              "      <td>NAO EXISTE</td>\n",
              "      <td>PERFEITO ESTADO</td>\n",
              "      <td>SECA</td>\n",
              "      <td>PERFEITO ESTADO</td>\n",
              "      <td>TARDE</td>\n",
              "    </tr>\n",
              "    <tr>\n",
              "      <th>38922</th>\n",
              "      <td>SEM VITIMA</td>\n",
              "      <td>CHOQUE VEICULO PARADO</td>\n",
              "      <td>2.0</td>\n",
              "      <td>0.0</td>\n",
              "      <td>0.0</td>\n",
              "      <td>0.0</td>\n",
              "      <td>0.0</td>\n",
              "      <td>0.0</td>\n",
              "      <td>0.0</td>\n",
              "      <td>0.0</td>\n",
              "      <td>BOM</td>\n",
              "      <td>NAO EXISTE</td>\n",
              "      <td>NAO EXISTENTE</td>\n",
              "      <td>SECA</td>\n",
              "      <td>PERFEITO ESTADO</td>\n",
              "      <td>TARDE</td>\n",
              "    </tr>\n",
              "  </tbody>\n",
              "</table>\n",
              "</div>"
            ],
            "text/plain": [
              "      NATUREZA_ACIDENTE  ... PERIODO_DO_DIA\n",
              "38916        SEM VITIMA  ...      MADRUGADA\n",
              "38919        SEM VITIMA  ...          MANHA\n",
              "38920        SEM VITIMA  ...          MANHA\n",
              "38921        SEM VITIMA  ...          TARDE\n",
              "38922        SEM VITIMA  ...          TARDE\n",
              "\n",
              "[5 rows x 16 columns]"
            ]
          },
          "metadata": {
            "tags": []
          },
          "execution_count": 14
        }
      ]
    },
    {
      "cell_type": "code",
      "metadata": {
        "colab": {
          "base_uri": "https://localhost:8080/"
        },
        "id": "wetLVxnyJ8Eg",
        "outputId": "fac20670-7fa4-4917-c589-739d770eac18"
      },
      "source": [
        "df['TIPO'].unique()"
      ],
      "execution_count": 15,
      "outputs": [
        {
          "output_type": "execute_result",
          "data": {
            "text/plain": [
              "array(['ABALROAMENTO LONGITUDINAL', 'COLISAO TRASEIRA',\n",
              "       'CHOQUE VEICULO PARADO', 'ABALROAMENTO TRANSVERSAL', 'CAPOTAMENTO',\n",
              "       'COLISAO FRONTAL', 'COLISAO COM CICLISTA', 'ATROPELAMENTO',\n",
              "       'CHOQUE OBJETO FIXO', 'ATROPELAMENTO ANIMAL', 'COLISAO',\n",
              "       'ACID  DE PERCURSO', 'CHOQUE', 'TOMBAMENTO', 'ENGAVETAMENTO'],\n",
              "      dtype=object)"
            ]
          },
          "metadata": {
            "tags": []
          },
          "execution_count": 15
        }
      ]
    },
    {
      "cell_type": "code",
      "metadata": {
        "colab": {
          "base_uri": "https://localhost:8080/"
        },
        "id": "QVFIuHpLKGiw",
        "outputId": "ae164a0a-32d3-463b-d1ac-d7a8ecb365c8"
      },
      "source": [
        "df['TEMPO_CLIMA'].unique()"
      ],
      "execution_count": 16,
      "outputs": [
        {
          "output_type": "execute_result",
          "data": {
            "text/plain": [
              "array(['BOM', 'CHUVOSO', 'NUBLADO'], dtype=object)"
            ]
          },
          "metadata": {
            "tags": []
          },
          "execution_count": 16
        }
      ]
    },
    {
      "cell_type": "code",
      "metadata": {
        "colab": {
          "base_uri": "https://localhost:8080/"
        },
        "id": "eZcmbgsVKLli",
        "outputId": "c68d5986-f4ec-4126-abd4-adcf691aad10"
      },
      "source": [
        "df['SITUACAO_SEMAFORO'].unique()"
      ],
      "execution_count": 17,
      "outputs": [
        {
          "output_type": "execute_result",
          "data": {
            "text/plain": [
              "array(['SEM DEFEITO', 'NAO EXISTE', 'INTERMITENTE', 'SEM INFORMACAO',\n",
              "       'COM DEFEITO', 'DESLIGADO'], dtype=object)"
            ]
          },
          "metadata": {
            "tags": []
          },
          "execution_count": 17
        }
      ]
    },
    {
      "cell_type": "code",
      "metadata": {
        "colab": {
          "base_uri": "https://localhost:8080/"
        },
        "id": "NtjDVl4_KMJ5",
        "outputId": "edbae90b-aead-4d39-afe0-1f7b05724c6d"
      },
      "source": [
        "df['SINALIZACAO'].unique()"
      ],
      "execution_count": 18,
      "outputs": [
        {
          "output_type": "execute_result",
          "data": {
            "text/plain": [
              "array(['PERFEITO ESTADO', 'NAO EXISTENTE', 'ILEGIVEL', 'INCOMPLETA'],\n",
              "      dtype=object)"
            ]
          },
          "metadata": {
            "tags": []
          },
          "execution_count": 18
        }
      ]
    },
    {
      "cell_type": "code",
      "metadata": {
        "colab": {
          "base_uri": "https://localhost:8080/"
        },
        "id": "tHABvrCkKL8n",
        "outputId": "56973647-3920-4eb8-eff7-ed6dfd202616"
      },
      "source": [
        "df['CONDICAO_VIA'].unique()"
      ],
      "execution_count": 19,
      "outputs": [
        {
          "output_type": "execute_result",
          "data": {
            "text/plain": [
              "array(['SECA', 'MOLHADA', 'OUTROS', 'OLEOSA'], dtype=object)"
            ]
          },
          "metadata": {
            "tags": []
          },
          "execution_count": 19
        }
      ]
    },
    {
      "cell_type": "code",
      "metadata": {
        "colab": {
          "base_uri": "https://localhost:8080/"
        },
        "id": "WLN9ndbmKR93",
        "outputId": "90b81207-26cf-40fb-fc00-81940a39eec6"
      },
      "source": [
        "df['CONSERVACAO_VIA'].unique()"
      ],
      "execution_count": 20,
      "outputs": [
        {
          "output_type": "execute_result",
          "data": {
            "text/plain": [
              "array(['PERFEITO ESTADO', 'MAL ILUMINADA', 'MAL CONSERVADA', 'NAO HA',\n",
              "       'OUTROS'], dtype=object)"
            ]
          },
          "metadata": {
            "tags": []
          },
          "execution_count": 20
        }
      ]
    },
    {
      "cell_type": "code",
      "metadata": {
        "colab": {
          "base_uri": "https://localhost:8080/"
        },
        "id": "lfbHgdIUKYRA",
        "outputId": "0da89001-eb6c-4651-c8c2-9da7f6ee2e33"
      },
      "source": [
        "df['PERIODO_DO_DIA'].unique()"
      ],
      "execution_count": 21,
      "outputs": [
        {
          "output_type": "execute_result",
          "data": {
            "text/plain": [
              "array(['MADRUGADA', 'MANHA', 'TARDE', 'NOITE'], dtype=object)"
            ]
          },
          "metadata": {
            "tags": []
          },
          "execution_count": 21
        }
      ]
    },
    {
      "cell_type": "code",
      "metadata": {
        "id": "FDAo6RAqG6FF"
      },
      "source": [
        "from sklearn.compose import ColumnTransformer\n",
        "from sklearn.preprocessing import OneHotEncoder\n",
        "X_df = df.drop('NATUREZA_ACIDENTE', axis=1)\n",
        "ct = ColumnTransformer(transformers=[('encoder', OneHotEncoder(),[0,9,10,11,12,13,14])],remainder='passthrough')\n",
        "X_df = np.array(ct.fit_transform(X_df))"
      ],
      "execution_count": 22,
      "outputs": []
    },
    {
      "cell_type": "code",
      "metadata": {
        "colab": {
          "base_uri": "https://localhost:8080/"
        },
        "id": "MW-xEY-rHNb3",
        "outputId": "6e83395c-74c7-4d11-cc50-e7388b6f7687"
      },
      "source": [
        "print(X_df[0])"
      ],
      "execution_count": 23,
      "outputs": [
        {
          "output_type": "stream",
          "text": [
            "[1. 0. 0. 0. 0. 0. 0. 0. 0. 0. 0. 0. 0. 0. 0. 1. 0. 0. 0. 0. 0. 0. 1. 0.\n",
            " 0. 0. 0. 1. 0. 0. 0. 1. 0. 0. 0. 0. 1. 1. 0. 0. 0. 2. 0. 0. 0. 0. 0. 0.\n",
            " 0.]\n"
          ],
          "name": "stdout"
        }
      ]
    },
    {
      "cell_type": "code",
      "metadata": {
        "id": "QZl2XJQksTLb"
      },
      "source": [
        "# Dados\n",
        "from sklearn.metrics import accuracy_score, f1_score, precision_score, recall_score\n",
        "from sklearn.model_selection import train_test_split\n",
        "import seaborn as sns\n",
        "#X_df = df.drop('NATUREZA_ACIDENTE', axis=1)\n",
        "y_df = df['NATUREZA_ACIDENTE']\n",
        "Xtrain, Xtest, ytrain, ytest = train_test_split(X_df, y_df, test_size=0.2, random_state=1)\n",
        "\n",
        "Xtrain, X_val, ytrain, y_val = train_test_split(Xtrain, ytrain, test_size=0.25, random_state=1) # 0.25 x 0.8 = 0.2\n",
        "#Xtrain, Xtest, ytrain, ytest = train_test_split(X_df, y_df,\n",
        "#                                                random_state=1)"
      ],
      "execution_count": 24,
      "outputs": []
    },
    {
      "cell_type": "markdown",
      "metadata": {
        "id": "Qv2e64wXyRVl"
      },
      "source": [
        "# Experimentos Gerais"
      ]
    },
    {
      "cell_type": "markdown",
      "metadata": {
        "id": "xUmiu5Vr4HqA"
      },
      "source": [
        "## GAUSSIANNB"
      ]
    },
    {
      "cell_type": "code",
      "metadata": {
        "id": "-HQh7Maqo3R-"
      },
      "source": [
        "#experiment_id = mlflow.create_experiment(\"Experimentos Gerais\")\n",
        "#experiment = mlflow.get_experiment(experiment_id)"
      ],
      "execution_count": null,
      "outputs": []
    },
    {
      "cell_type": "code",
      "metadata": {
        "id": "vxjj7XvRzkTg"
      },
      "source": [
        "from sklearn.naive_bayes import GaussianNB # 1. escolha da técnica\n",
        "model = GaussianNB()                       # 2. instanciação do modelo\n",
        "\n",
        "model.fit(Xtrain, ytrain)                  # 3. criação do modelo\n",
        "y_model = model.predict(Xtest)             # 4. predição em novos dados\n",
        "ypred_train = model.predict(Xtrain)  \n",
        "\n",
        "with mlflow.start_run(run_name=\"Gaussian Naive Bayes - Train\"):\n",
        "  mlflow.log_metric(\"Accuracy\", accuracy_score(ytrain, ypred_train))\n",
        "  mlflow.log_metric(\"Precision\", precision_score(ytrain, ypred_train, average='macro'))\n",
        "  mlflow.log_metric(\"Recall score\", recall_score(ytrain, ypred_train, average='macro'))\n",
        "  mlflow.log_metric(\"F1 score\", f1_score(ytrain, ypred_train,average='macro'))\n",
        "\n",
        "with mlflow.start_run(run_name=\"Gaussian Naive Bayes - Test\"):\n",
        "  mlflow.log_metric(\"Accuracy\", accuracy_score(ytest, y_model))\n",
        "  mlflow.log_metric(\"Precision\", precision_score(ytest, y_model, average='macro'))\n",
        "  mlflow.log_metric(\"Recall score\", recall_score(ytest, y_model, average='macro'))\n",
        "  mlflow.log_metric(\"F1 score\", f1_score(ytest, y_model,average='macro'))"
      ],
      "execution_count": null,
      "outputs": []
    },
    {
      "cell_type": "code",
      "metadata": {
        "id": "82ozkwVFZaS-"
      },
      "source": [
        ""
      ],
      "execution_count": null,
      "outputs": []
    },
    {
      "cell_type": "markdown",
      "metadata": {
        "id": "vzNO8CWn4FfY"
      },
      "source": [
        "## MLP"
      ]
    },
    {
      "cell_type": "code",
      "metadata": {
        "id": "E2KfZqOWzsYO",
        "colab": {
          "base_uri": "https://localhost:8080/"
        },
        "outputId": "1c42ef4f-d237-42e2-ce0a-6f96b9b919b0"
      },
      "source": [
        "from sklearn.neural_network import MLPClassifier\n",
        "model = MLPClassifier(hidden_layer_sizes=(100,100,100), max_iter=50, alpha=0.0001, solver='sgd', verbose=10,  random_state=21,tol=0.000000001)\n",
        "model.fit(Xtrain, ytrain)                 \n",
        "y_model = model.predict(Xtest)           \n",
        "ypred_train = model.predict(Xtrain)      "
      ],
      "execution_count": null,
      "outputs": [
        {
          "output_type": "stream",
          "text": [
            "Iteration 1, loss = 0.58818649\n",
            "Iteration 2, loss = 0.52302285\n",
            "Iteration 3, loss = 0.50534097\n",
            "Iteration 4, loss = 0.48867542\n",
            "Iteration 5, loss = 0.47192654\n",
            "Iteration 6, loss = 0.45495726\n",
            "Iteration 7, loss = 0.43817591\n",
            "Iteration 8, loss = 0.42196119\n",
            "Iteration 9, loss = 0.40644047\n",
            "Iteration 10, loss = 0.39219508\n",
            "Iteration 11, loss = 0.37990464\n",
            "Iteration 12, loss = 0.36921189\n",
            "Iteration 13, loss = 0.36059302\n",
            "Iteration 14, loss = 0.35355778\n",
            "Iteration 15, loss = 0.34790613\n",
            "Iteration 16, loss = 0.34338793\n",
            "Iteration 17, loss = 0.33944440\n",
            "Iteration 18, loss = 0.33618231\n",
            "Iteration 19, loss = 0.33343200\n",
            "Iteration 20, loss = 0.33089463\n",
            "Iteration 21, loss = 0.32854247\n",
            "Iteration 22, loss = 0.32648108\n",
            "Iteration 23, loss = 0.32464116\n",
            "Iteration 24, loss = 0.32279620\n",
            "Iteration 25, loss = 0.32111168\n",
            "Iteration 26, loss = 0.31958925\n",
            "Iteration 27, loss = 0.31815491\n",
            "Iteration 28, loss = 0.31675351\n",
            "Iteration 29, loss = 0.31548677\n",
            "Iteration 30, loss = 0.31421752\n",
            "Iteration 31, loss = 0.31313802\n",
            "Iteration 32, loss = 0.31210234\n",
            "Iteration 33, loss = 0.31111977\n",
            "Iteration 34, loss = 0.31011537\n",
            "Iteration 35, loss = 0.30913621\n",
            "Iteration 36, loss = 0.30836893\n",
            "Iteration 37, loss = 0.30760406\n",
            "Iteration 38, loss = 0.30664841\n",
            "Iteration 39, loss = 0.30592858\n",
            "Iteration 40, loss = 0.30528278\n",
            "Iteration 41, loss = 0.30450803\n",
            "Iteration 42, loss = 0.30393309\n",
            "Iteration 43, loss = 0.30326748\n",
            "Iteration 44, loss = 0.30278670\n",
            "Iteration 45, loss = 0.30198635\n",
            "Iteration 46, loss = 0.30154464\n",
            "Iteration 47, loss = 0.30089913\n",
            "Iteration 48, loss = 0.30036090\n",
            "Iteration 49, loss = 0.29985331\n",
            "Iteration 50, loss = 0.29935175\n"
          ],
          "name": "stdout"
        },
        {
          "output_type": "stream",
          "text": [
            "/usr/local/lib/python3.7/dist-packages/sklearn/neural_network/_multilayer_perceptron.py:571: ConvergenceWarning: Stochastic Optimizer: Maximum iterations (50) reached and the optimization hasn't converged yet.\n",
            "  % self.max_iter, ConvergenceWarning)\n"
          ],
          "name": "stderr"
        }
      ]
    },
    {
      "cell_type": "code",
      "metadata": {
        "id": "BZOY3cEG3Q5n"
      },
      "source": [
        "with mlflow.start_run(run_name=\"MLP Classifier - Train\"):\n",
        "     \n",
        "  #print(\"ACC TRAINING:\" + str(accuracy_score(ytrain, ypred_train)))\n",
        "  #print(\"ACC TEST:\" + str(accuracy_score(ytest, y_model)))\n",
        "  mlflow.log_metric(\"Accuracy\", accuracy_score(ytrain, ypred_train))\n",
        "  mlflow.log_metric(\"Precision\", precision_score(ytrain, ypred_train, average='macro'))\n",
        "  mlflow.log_metric(\"Recall score\", recall_score(ytrain, ypred_train, average='macro'))\n",
        "  mlflow.log_metric(\"F1 score\", f1_score(ytrain, ypred_train,average='macro'))\n",
        "\n",
        "with mlflow.start_run(run_name=\"MLP Classifier- Test\"):\n",
        "  mlflow.log_metric(\"Accuracy\", accuracy_score(ytest, y_model))\n",
        "  mlflow.log_metric(\"Precision\", precision_score(ytest, y_model, average='macro'))\n",
        "  mlflow.log_metric(\"Recall score\", recall_score(ytest, y_model, average='macro'))\n",
        "  mlflow.log_metric(\"F1 score\", f1_score(ytest, y_model,average='macro'))"
      ],
      "execution_count": null,
      "outputs": []
    },
    {
      "cell_type": "markdown",
      "metadata": {
        "id": "fdQL2Z7x4Cm0"
      },
      "source": [
        "## RandomForest"
      ]
    },
    {
      "cell_type": "code",
      "metadata": {
        "id": "N_yEZtak3hrL"
      },
      "source": [
        "from sklearn.ensemble import RandomForestClassifier\n",
        "model = RandomForestClassifier(n_estimators=1000)\n",
        "model.fit(Xtrain, ytrain)                 \n",
        "y_model = model.predict(Xtest)           \n",
        "ypred_train = model.predict(Xtrain)   "
      ],
      "execution_count": null,
      "outputs": []
    },
    {
      "cell_type": "code",
      "metadata": {
        "id": "fQ0Q_rRa3zKj"
      },
      "source": [
        "with mlflow.start_run(run_name=\"Random Forest - Train\"):\n",
        "     \n",
        "  from sklearn.metrics import accuracy_score, f1_score, precision_score, recall_score\n",
        "  #print(\"ACC TRAINING:\" + str(accuracy_score(ytrain, ypred_train)))\n",
        "  #print(\"ACC TEST:\" + str(accuracy_score(ytest, y_model)))\n",
        "  mlflow.log_metric(\"Accuracy\", accuracy_score(ytrain, ypred_train))\n",
        "  mlflow.log_metric(\"Precision\", precision_score(ytrain, ypred_train, average='macro'))\n",
        "  mlflow.log_metric(\"Recall score\", recall_score(ytrain, ypred_train, average='macro'))\n",
        "  mlflow.log_metric(\"F1 score\", f1_score(ytrain, ypred_train,average='macro'))\n",
        "\n",
        "with mlflow.start_run(run_name=\"Random Forest - Test\"):\n",
        "  mlflow.log_metric(\"Accuracy\", accuracy_score(ytest, y_model))\n",
        "  mlflow.log_metric(\"Precision\", precision_score(ytest, y_model, average='macro'))\n",
        "  mlflow.log_metric(\"Recall score\", recall_score(ytest, y_model, average='macro'))\n",
        "  mlflow.log_metric(\"F1 score\", f1_score(ytest, y_model,average='macro'))"
      ],
      "execution_count": null,
      "outputs": []
    },
    {
      "cell_type": "markdown",
      "metadata": {
        "id": "q70C2VPj4Axo"
      },
      "source": [
        "## KNN"
      ]
    },
    {
      "cell_type": "code",
      "metadata": {
        "id": "kw7QHfXC3z7L"
      },
      "source": [
        "from sklearn.neighbors import KNeighborsClassifier\n",
        "model = KNeighborsClassifier(n_neighbors=1)\n",
        "model.fit(Xtrain, ytrain)                 \n",
        "y_model = model.predict(Xtest)           \n",
        "ypred_train = model.predict(Xtrain)"
      ],
      "execution_count": null,
      "outputs": []
    },
    {
      "cell_type": "code",
      "metadata": {
        "id": "rBarIR5i39GQ"
      },
      "source": [
        "with mlflow.start_run(run_name=\"KNeighbors Classifier - Train\"):\n",
        "     \n",
        "  from sklearn.metrics import accuracy_score, f1_score, precision_score, recall_score\n",
        "  #print(\"ACC TRAINING:\" + str(accuracy_score(ytrain, ypred_train)))\n",
        "  #print(\"ACC TEST:\" + str(accuracy_score(ytest, y_model)))\n",
        "  mlflow.log_metric(\"Accuracy\", accuracy_score(ytrain, ypred_train))\n",
        "  mlflow.log_metric(\"Precision\", precision_score(ytrain, ypred_train, average='macro'))\n",
        "  mlflow.log_metric(\"Recall score\", recall_score(ytrain, ypred_train, average='macro'))\n",
        "  mlflow.log_metric(\"F1 score\", f1_score(ytrain, ypred_train,average='macro'))\n",
        "\n",
        "with mlflow.start_run(run_name=\"KNeighbors Classifier - Test\"):\n",
        "  mlflow.log_metric(\"Accuracy\", accuracy_score(ytest, y_model))\n",
        "  mlflow.log_metric(\"Precision\", precision_score(ytest, y_model, average='macro'))\n",
        "  mlflow.log_metric(\"Recall score\", recall_score(ytest, y_model, average='macro'))\n",
        "  mlflow.log_metric(\"F1 score\", f1_score(ytest, y_model,average='macro'))"
      ],
      "execution_count": null,
      "outputs": []
    },
    {
      "cell_type": "code",
      "metadata": {
        "id": "VRcGbXG639rS",
        "colab": {
          "base_uri": "https://localhost:8080/"
        },
        "outputId": "718ed230-b290-49b4-8d36-4e07d9213970"
      },
      "source": [
        "#run tracking UI in the background\n",
        "get_ipython().system_raw(\"mlflow ui --port 5000 &\") # run tracking UI in the background\n",
        "\n",
        "# create remote tunnel using ngrok.com to allow local port access\n",
        "# borrowed from https://colab.research.google.com/github/alfozan/MLflow-GBRT-demo/blob/master/MLflow-GBRT-demo.ipynb#scrollTo=4h3bKHMYUIG6\n",
        "\n",
        "from pyngrok import ngrok\n",
        "\n",
        "# Terminate open tunnels if exist\n",
        "ngrok.kill()\n",
        "\n",
        "# Setting the authtoken (optional)\n",
        "# Get your authtoken from https://dashboard.ngrok.com/auth\n",
        "NGROK_AUTH_TOKEN = \"\"\n",
        "ngrok.set_auth_token(NGROK_AUTH_TOKEN)\n",
        "# Open an HTTPs tunnel on port 5000 for http://localhost:5000\n",
        "ngrok_tunnel = ngrok.connect(addr=\"5000\", proto=\"http\", bind_tls=True , name='Exp')\n",
        "print(\"MLflow Tracking UI:\", ngrok_tunnel.public_url)"
      ],
      "execution_count": null,
      "outputs": [
        {
          "output_type": "stream",
          "text": [
            "MLflow Tracking UI: https://51a70bbbdd25.ngrok.io\n"
          ],
          "name": "stdout"
        }
      ]
    },
    {
      "cell_type": "markdown",
      "metadata": {
        "id": "GfXRAk6soeEK"
      },
      "source": [
        "### Hiperparametros com o OPTUNA"
      ]
    },
    {
      "cell_type": "code",
      "metadata": {
        "id": "B7YYXr_Hov23"
      },
      "source": [
        "experiment_id = mlflow.create_experiment(\"Experimentos - Optuna\")\n",
        "experiment = mlflow.get_experiment(experiment_id)"
      ],
      "execution_count": null,
      "outputs": []
    },
    {
      "cell_type": "code",
      "metadata": {
        "id": "m-MnyeB-dosm",
        "colab": {
          "base_uri": "https://localhost:8080/"
        },
        "outputId": "75ddfa24-4392-4a07-9140-fd2d678329d9"
      },
      "source": [
        "import optuna\n",
        "classes = list(set(y_df))\n",
        "#Step 1. Define an objective function to be maximized.\n",
        "def objective(trial):\n",
        "\n",
        "    classifier_name = trial.suggest_categorical(\"classifier\", [\"GaussianNB\", \"RandomForest\",\"KNN\",\"MLP\"])\n",
        "    \n",
        "    # Step 2. Setup values for the hyperparameters:\n",
        "    if classifier_name == 'GaussianNB':\n",
        "        smoothing = trial.suggest_float(\"smoothing\", 1e-10, 1e-8, log=True)\n",
        "        classifier_obj = GaussianNB(var_smoothing=smoothing)\n",
        "    elif classifier_name == 'RandomForest':\n",
        "        rf_n_estimators = trial.suggest_int(\"rf_n_estimators\", 10, 1000)\n",
        "        rf_max_depth = trial.suggest_int(\"rf_max_depth\", 2, 32, log=True)\n",
        "        classifier_obj = RandomForestClassifier(\n",
        "            max_depth=rf_max_depth, n_estimators=rf_n_estimators\n",
        "        )\n",
        "    elif classifier_name == 'KNN':\n",
        "        neighbors = trial.suggest_int(\"neighbors\", 1, 10)\n",
        "        algorithm = trial.suggest_categorical(\"algorithm\", [\"auto\", \"ball_tree\", \"kd_tree\", \"brute\"])\n",
        "        classifier_obj = KNeighborsClassifier(n_neighbors=neighbors, algorithm=algorithm)\n",
        "\n",
        "    else:\n",
        "        neurons = trial.suggest_int(\"neurons\", 50, 200)\n",
        "        depth = trial.suggest_int(\"depth\",1,4)\n",
        "        layer_sizes = tuple([neurons for _ in range(depth)])\n",
        "        alpha = trial.suggest_float(\"alpha\",0.000001,0.001)\n",
        "        activation_function = trial.suggest_categorical(\"activation_function\",[\"identity\",\"logistic\",\"tanh\",\"relu\"])\n",
        "        \n",
        "        classifier_obj = MLPClassifier(hidden_layer_sizes=layer_sizes, alpha=alpha, activation=activation_function)\n",
        "    for step in range(100):\n",
        "        classifier_obj.fit(Xtrain, ytrain)\n",
        "        \n",
        "        # Report intermediate objective value.\n",
        "        intermediate_value = classifier_obj.score(Xtest, ytest)\n",
        "        trial.report(intermediate_value, step)\n",
        "\n",
        "        # Handle pruning based on the intermediate value.\n",
        "        if trial.should_prune():\n",
        "            raise optuna.TrialPruned()\n",
        "        return intermediate_value\n",
        "\n",
        "# Step 4: Running it\n",
        "study = optuna.create_study(direction=\"maximize\")\n",
        "study.optimize(objective, n_trials=100)\n",
        "\n",
        "# Calculating the pruned and completed trials\n",
        "pruned_trials = [t for t in study.trials if t.state == optuna.trial.TrialState.PRUNED]\n",
        "complete_trials = [t for t in study.trials if t.state == optuna.trial.TrialState.COMPLETE]\n",
        "\n",
        "print(\"  Number of finished trials: \", len(study.trials))\n",
        "print(\"  Number of pruned trials: \", len(pruned_trials))\n",
        "print(\"  Number of complete trials: \", len(complete_trials))\n",
        "\n",
        "\n",
        "with mlflow.start_run(experiment_id=1 , run_name=f\"BEST GENERAL METHOD - [{study.best_params['classifier']}]\"):\n",
        "  mlflow.log_metric(\"Accuracy\",study.best_value)\n",
        "  mlflow.log_params(study.best_params)"
      ],
      "execution_count": null,
      "outputs": [
        {
          "output_type": "stream",
          "text": [
            "\u001b[32m[I 2021-08-15 02:53:57,227]\u001b[0m A new study created in memory with name: no-name-a1c8f83c-61af-4ea9-a83c-bc6774b44bac\u001b[0m\n",
            "\u001b[32m[I 2021-08-15 02:54:31,176]\u001b[0m Trial 0 finished with value: 0.8802333562113933 and parameters: {'classifier': 'MLP', 'neurons': 178, 'depth': 3, 'alpha': 0.0009134624314201127, 'activation_function': 'logistic'}. Best is trial 0 with value: 0.8802333562113933.\u001b[0m\n",
            "\u001b[32m[I 2021-08-15 02:54:51,820]\u001b[0m Trial 1 finished with value: 0.8603294440631435 and parameters: {'classifier': 'MLP', 'neurons': 60, 'depth': 3, 'alpha': 0.0009289978529192752, 'activation_function': 'relu'}. Best is trial 0 with value: 0.8802333562113933.\u001b[0m\n",
            "\u001b[32m[I 2021-08-15 02:54:52,926]\u001b[0m Trial 2 finished with value: 0.8332189430336308 and parameters: {'classifier': 'KNN', 'neighbors': 5, 'algorithm': 'auto'}. Best is trial 0 with value: 0.8802333562113933.\u001b[0m\n",
            "\u001b[32m[I 2021-08-15 02:54:54,655]\u001b[0m Trial 3 finished with value: 0.8164035689773507 and parameters: {'classifier': 'KNN', 'neighbors': 1, 'algorithm': 'ball_tree'}. Best is trial 0 with value: 0.8802333562113933.\u001b[0m\n",
            "\u001b[32m[I 2021-08-15 02:55:28,662]\u001b[0m Trial 4 finished with value: 0.8665065202470831 and parameters: {'classifier': 'MLP', 'neurons': 151, 'depth': 4, 'alpha': 0.0005593267704798034, 'activation_function': 'relu'}. Best is trial 0 with value: 0.8802333562113933.\u001b[0m\n"
          ],
          "name": "stderr"
        },
        {
          "output_type": "stream",
          "text": [
            "  Number of finished trials:  5\n",
            "  Number of pruned trials:  0\n",
            "  Number of complete trials:  5\n"
          ],
          "name": "stdout"
        }
      ]
    },
    {
      "cell_type": "code",
      "metadata": {
        "id": "ivP0-MIHoYNj"
      },
      "source": [
        ""
      ],
      "execution_count": null,
      "outputs": []
    },
    {
      "cell_type": "code",
      "metadata": {
        "id": "RyTZxJyZhqs1",
        "colab": {
          "base_uri": "https://localhost:8080/"
        },
        "outputId": "3d419e7c-4142-485b-9cf7-0285855f6683"
      },
      "source": [
        "import optuna\n",
        "classes = list(set(y_df))\n",
        "#Step 1. Define an objective function to be maximized.\n",
        "def objective(trial):\n",
        "    \n",
        "    # Step 2. Setup values for the hyperparameters:\n",
        "    \n",
        "    smoothing = trial.suggest_float(\"smoothing\", 1e-10, 1e-8, log=True)\n",
        "    classifier_obj = GaussianNB(var_smoothing=smoothing)\n",
        "    for step in range(100):\n",
        "        classifier_obj.fit(Xtrain, ytrain)\n",
        "        \n",
        "        # Report intermediate objective value.\n",
        "        intermediate_value = classifier_obj.score(Xtest, ytest)\n",
        "        trial.report(intermediate_value, step)\n",
        "\n",
        "        # Handle pruning based on the intermediate value.\n",
        "        if trial.should_prune():\n",
        "            raise optuna.TrialPruned()\n",
        "        return intermediate_value\n",
        "\n",
        "# Step 4: Running it\n",
        "study = optuna.create_study(direction=\"maximize\")\n",
        "study.optimize(objective, n_trials=100)\n",
        "\n",
        "# Calculating the pruned and completed trials\n",
        "pruned_trials = [t for t in study.trials if t.state == optuna.trial.TrialState.PRUNED]\n",
        "complete_trials = [t for t in study.trials if t.state == optuna.trial.TrialState.COMPLETE]\n",
        "\n",
        "print(\"  Number of finished trials: \", len(study.trials))\n",
        "print(\"  Number of pruned trials: \", len(pruned_trials))\n",
        "print(\"  Number of complete trials: \", len(complete_trials))\n",
        "\n",
        "with mlflow.start_run(experiment_id=1 , run_name=\"BEST - GaussianNB\"):\n",
        "  mlflow.log_metric(\"Accuracy\",study.best_value)\n",
        "  mlflow.log_param(\"classifier\",\"Gaussian NB\")\n",
        "  mlflow.log_params(study.best_params)"
      ],
      "execution_count": null,
      "outputs": [
        {
          "output_type": "stream",
          "text": [
            "\u001b[32m[I 2021-08-15 02:55:28,727]\u001b[0m A new study created in memory with name: no-name-711de698-6cff-4679-9fbf-d0cd15e3933a\u001b[0m\n",
            "\u001b[32m[I 2021-08-15 02:55:28,768]\u001b[0m Trial 0 finished with value: 0.7786547700754975 and parameters: {'smoothing': 1.340336302659873e-10}. Best is trial 0 with value: 0.7786547700754975.\u001b[0m\n",
            "\u001b[32m[I 2021-08-15 02:55:28,798]\u001b[0m Trial 1 finished with value: 0.7789979409746054 and parameters: {'smoothing': 5.608363529747824e-10}. Best is trial 1 with value: 0.7789979409746054.\u001b[0m\n",
            "\u001b[32m[I 2021-08-15 02:55:28,823]\u001b[0m Trial 2 finished with value: 0.7786547700754975 and parameters: {'smoothing': 1.5020370220712692e-09}. Best is trial 1 with value: 0.7789979409746054.\u001b[0m\n",
            "\u001b[32m[I 2021-08-15 02:55:28,848]\u001b[0m Trial 3 finished with value: 0.7786547700754975 and parameters: {'smoothing': 8.160051979614083e-10}. Best is trial 1 with value: 0.7789979409746054.\u001b[0m\n",
            "\u001b[32m[I 2021-08-15 02:55:28,872]\u001b[0m Trial 4 finished with value: 0.7786547700754975 and parameters: {'smoothing': 3.246411253820552e-09}. Best is trial 1 with value: 0.7789979409746054.\u001b[0m\n"
          ],
          "name": "stderr"
        },
        {
          "output_type": "stream",
          "text": [
            "  Number of finished trials:  5\n",
            "  Number of pruned trials:  0\n",
            "  Number of complete trials:  5\n"
          ],
          "name": "stdout"
        }
      ]
    },
    {
      "cell_type": "code",
      "metadata": {
        "id": "azLi2uIl2OJe",
        "colab": {
          "base_uri": "https://localhost:8080/"
        },
        "outputId": "5a9b3b81-5eb1-4bf3-a55a-205550acfc20"
      },
      "source": [
        "import optuna\n",
        "classes = list(set(y_df))\n",
        "#Step 1. Define an objective function to be maximized.\n",
        "def objective(trial):\n",
        "\n",
        "    rf_n_estimators = trial.suggest_int(\"rf_n_estimators\", 10, 1000)\n",
        "    rf_max_depth = trial.suggest_int(\"rf_max_depth\", 2, 32, log=True)\n",
        "    classifier_obj = RandomForestClassifier(\n",
        "        max_depth=rf_max_depth, n_estimators=rf_n_estimators\n",
        "    )\n",
        "    for step in range(100):\n",
        "        classifier_obj.fit(Xtrain, ytrain)\n",
        "        \n",
        "        # Report intermediate objective value.\n",
        "        intermediate_value = classifier_obj.score(Xtest, ytest)\n",
        "        trial.report(intermediate_value, step)\n",
        "\n",
        "        # Handle pruning based on the intermediate value.\n",
        "        if trial.should_prune():\n",
        "            raise optuna.TrialPruned()\n",
        "        return intermediate_value\n",
        "\n",
        "# Step 4: Running it\n",
        "study = optuna.create_study(direction=\"maximize\")\n",
        "study.optimize(objective, n_trials=100)\n",
        "\n",
        "# Calculating the pruned and completed trials\n",
        "pruned_trials = [t for t in study.trials if t.state == optuna.trial.TrialState.PRUNED]\n",
        "complete_trials = [t for t in study.trials if t.state == optuna.trial.TrialState.COMPLETE]\n",
        "\n",
        "print(\"  Number of finished trials: \", len(study.trials))\n",
        "print(\"  Number of pruned trials: \", len(pruned_trials))\n",
        "print(\"  Number of complete trials: \", len(complete_trials))\n",
        "\n",
        "with mlflow.start_run(experiment_id=1 , run_name=\"BEST - RandomForestClassifier\"):\n",
        "  mlflow.log_metric(\"Accuracy\",study.best_value)\n",
        "  mlflow.log_param(\"classifier\",\"Random Forest Classifier\")\n",
        "  mlflow.log_params(study.best_params)"
      ],
      "execution_count": null,
      "outputs": [
        {
          "output_type": "stream",
          "text": [
            "\u001b[32m[I 2021-08-15 02:55:28,916]\u001b[0m A new study created in memory with name: no-name-a4c9dc7d-d530-476b-876d-d06691130b3c\u001b[0m\n",
            "\u001b[32m[I 2021-08-15 02:55:34,708]\u001b[0m Trial 0 finished with value: 0.8706245710363761 and parameters: {'rf_n_estimators': 927, 'rf_max_depth': 16}. Best is trial 0 with value: 0.8706245710363761.\u001b[0m\n",
            "\u001b[32m[I 2021-08-15 02:55:40,877]\u001b[0m Trial 1 finished with value: 0.8668496911461908 and parameters: {'rf_n_estimators': 933, 'rf_max_depth': 19}. Best is trial 0 with value: 0.8706245710363761.\u001b[0m\n",
            "\u001b[32m[I 2021-08-15 02:55:45,131]\u001b[0m Trial 2 finished with value: 0.8743994509265615 and parameters: {'rf_n_estimators': 927, 'rf_max_depth': 9}. Best is trial 2 with value: 0.8743994509265615.\u001b[0m\n",
            "\u001b[32m[I 2021-08-15 02:55:46,467]\u001b[0m Trial 3 finished with value: 0.7755662319835278 and parameters: {'rf_n_estimators': 455, 'rf_max_depth': 3}. Best is trial 2 with value: 0.8743994509265615.\u001b[0m\n",
            "\u001b[32m[I 2021-08-15 02:55:53,795]\u001b[0m Trial 4 finished with value: 0.8668496911461908 and parameters: {'rf_n_estimators': 999, 'rf_max_depth': 27}. Best is trial 2 with value: 0.8743994509265615.\u001b[0m\n"
          ],
          "name": "stderr"
        },
        {
          "output_type": "stream",
          "text": [
            "  Number of finished trials:  5\n",
            "  Number of pruned trials:  0\n",
            "  Number of complete trials:  5\n"
          ],
          "name": "stdout"
        }
      ]
    },
    {
      "cell_type": "code",
      "metadata": {
        "id": "TisMeVht2XE4",
        "colab": {
          "base_uri": "https://localhost:8080/"
        },
        "outputId": "55e4065d-2969-4366-f0ec-127c5fd93e3e"
      },
      "source": [
        "import optuna\n",
        "classes = list(set(y_df))\n",
        "#Step 1. Define an objective function to be maximized.\n",
        "def objective(trial):\n",
        "\n",
        "   \n",
        "    neighbors = trial.suggest_int(\"neighbors\", 1, 10)\n",
        "    algorithm = trial.suggest_categorical(\"algorithm\", [\"auto\", \"ball_tree\", \"kd_tree\", \"brute\"])\n",
        "    classifier_obj = KNeighborsClassifier(n_neighbors=neighbors, algorithm=algorithm)\n",
        "    for step in range(100):\n",
        "        classifier_obj.fit(Xtrain, ytrain)\n",
        "        \n",
        "        # Report intermediate objective value.\n",
        "        intermediate_value = classifier_obj.score(Xtest, ytest)\n",
        "        trial.report(intermediate_value, step)\n",
        "\n",
        "        # Handle pruning based on the intermediate value.\n",
        "        if trial.should_prune():\n",
        "            raise optuna.TrialPruned()\n",
        "        return intermediate_value\n",
        "\n",
        "# Step 4: Running it\n",
        "study = optuna.create_study(direction=\"maximize\")\n",
        "study.optimize(objective, n_trials=100)\n",
        "\n",
        "# Calculating the pruned and completed trials\n",
        "pruned_trials = [t for t in study.trials if t.state == optuna.trial.TrialState.PRUNED]\n",
        "complete_trials = [t for t in study.trials if t.state == optuna.trial.TrialState.COMPLETE]\n",
        "\n",
        "print(\"  Number of finished trials: \", len(study.trials))\n",
        "print(\"  Number of pruned trials: \", len(pruned_trials))\n",
        "print(\"  Number of complete trials: \", len(complete_trials))\n",
        "\n",
        "with mlflow.start_run(experiment_id=1 , run_name=\"BEST - KNeighbors Classifier\"):\n",
        "  mlflow.log_metric(\"Accuracy\",study.best_value)\n",
        "  mlflow.log_param(\"classifier\",\"K-Neighbors Classifier\")\n",
        "  mlflow.log_params(study.best_params)"
      ],
      "execution_count": null,
      "outputs": [
        {
          "output_type": "stream",
          "text": [
            "\u001b[32m[I 2021-08-15 02:55:53,838]\u001b[0m A new study created in memory with name: no-name-56212936-2447-4b3d-8985-f146ff2dac54\u001b[0m\n",
            "\u001b[32m[I 2021-08-15 02:55:55,628]\u001b[0m Trial 0 finished with value: 0.7886067261496225 and parameters: {'neighbors': 2, 'algorithm': 'ball_tree'}. Best is trial 0 with value: 0.7886067261496225.\u001b[0m\n",
            "\u001b[32m[I 2021-08-15 02:55:57,395]\u001b[0m Trial 1 finished with value: 0.8318462594371997 and parameters: {'neighbors': 5, 'algorithm': 'ball_tree'}. Best is trial 1 with value: 0.8318462594371997.\u001b[0m\n",
            "\u001b[32m[I 2021-08-15 02:55:59,129]\u001b[0m Trial 2 finished with value: 0.8472889498970487 and parameters: {'neighbors': 4, 'algorithm': 'ball_tree'}. Best is trial 2 with value: 0.8472889498970487.\u001b[0m\n",
            "\u001b[32m[I 2021-08-15 02:56:00,088]\u001b[0m Trial 3 finished with value: 0.846945778997941 and parameters: {'neighbors': 3, 'algorithm': 'auto'}. Best is trial 2 with value: 0.8472889498970487.\u001b[0m\n",
            "\u001b[32m[I 2021-08-15 02:56:01,855]\u001b[0m Trial 4 finished with value: 0.7886067261496225 and parameters: {'neighbors': 2, 'algorithm': 'ball_tree'}. Best is trial 2 with value: 0.8472889498970487.\u001b[0m\n"
          ],
          "name": "stderr"
        },
        {
          "output_type": "stream",
          "text": [
            "  Number of finished trials:  5\n",
            "  Number of pruned trials:  0\n",
            "  Number of complete trials:  5\n"
          ],
          "name": "stdout"
        }
      ]
    },
    {
      "cell_type": "code",
      "metadata": {
        "id": "xSr7OtWd2cOj",
        "colab": {
          "base_uri": "https://localhost:8080/"
        },
        "outputId": "b3a8478f-7f98-459f-b736-d1f67839a890"
      },
      "source": [
        "import optuna\n",
        "classes = list(set(y_df))\n",
        "#Step 1. Define an objective function to be maximized.\n",
        "def objective(trial):\n",
        "\n",
        "    neurons = trial.suggest_int(\"neurons\", 50, 200)\n",
        "    depth = trial.suggest_int(\"depth\",1,4)\n",
        "    layer_sizes = tuple([neurons for _ in range(depth)])\n",
        "    alpha = trial.suggest_float(\"alpha\",0.000001,0.001)\n",
        "    activation_function = trial.suggest_categorical(\"activation_function\",[\"identity\",\"logistic\",\"tanh\",\"relu\"])\n",
        "    \n",
        "    classifier_obj = MLPClassifier(hidden_layer_sizes=layer_sizes, alpha=alpha, activation=activation_function)\n",
        "    for step in range(100):\n",
        "        classifier_obj.fit(Xtrain, ytrain)\n",
        "        \n",
        "        # Report intermediate objective value.\n",
        "        intermediate_value = classifier_obj.score(Xtest, ytest)\n",
        "        trial.report(intermediate_value, step)\n",
        "\n",
        "        # Handle pruning based on the intermediate value.\n",
        "        if trial.should_prune():\n",
        "            raise optuna.TrialPruned()\n",
        "        return intermediate_value\n",
        "\n",
        "# Step 4: Running it\n",
        "study = optuna.create_study(direction=\"maximize\")\n",
        "study.optimize(objective, n_trials=100)\n",
        "\n",
        "# Calculating the pruned and completed trials\n",
        "pruned_trials = [t for t in study.trials if t.state == optuna.trial.TrialState.PRUNED]\n",
        "complete_trials = [t for t in study.trials if t.state == optuna.trial.TrialState.COMPLETE]\n",
        "\n",
        "print(\"  Number of finished trials: \", len(study.trials))\n",
        "print(\"  Number of pruned trials: \", len(pruned_trials))\n",
        "print(\"  Number of complete trials: \", len(complete_trials))\n",
        "\n",
        "with mlflow.start_run(experiment_id=1 , run_name=\"BEST - MLP Classifier\"):\n",
        "  mlflow.log_metric(\"Accuracy\",study.best_value)\n",
        "  mlflow.log_param(\"classifier\",\"MLP Classifier\")\n",
        "  mlflow.log_params(study.best_params)"
      ],
      "execution_count": null,
      "outputs": [
        {
          "output_type": "stream",
          "text": [
            "\u001b[32m[I 2021-08-15 02:56:01,908]\u001b[0m A new study created in memory with name: no-name-e190cd83-1138-4730-b07f-665ffbe67920\u001b[0m\n",
            "/usr/local/lib/python3.7/dist-packages/sklearn/neural_network/_multilayer_perceptron.py:571: ConvergenceWarning:\n",
            "\n",
            "Stochastic Optimizer: Maximum iterations (200) reached and the optimization hasn't converged yet.\n",
            "\n",
            "\u001b[32m[I 2021-08-15 02:56:58,454]\u001b[0m Trial 0 finished with value: 0.865133836650652 and parameters: {'neurons': 120, 'depth': 3, 'alpha': 0.00032111368784051424, 'activation_function': 'tanh'}. Best is trial 0 with value: 0.865133836650652.\u001b[0m\n",
            "\u001b[32m[I 2021-08-15 02:57:37,200]\u001b[0m Trial 1 finished with value: 0.8774879890185312 and parameters: {'neurons': 153, 'depth': 4, 'alpha': 0.0003771654560390796, 'activation_function': 'logistic'}. Best is trial 1 with value: 0.8774879890185312.\u001b[0m\n",
            "/usr/local/lib/python3.7/dist-packages/sklearn/neural_network/_multilayer_perceptron.py:571: ConvergenceWarning:\n",
            "\n",
            "Stochastic Optimizer: Maximum iterations (200) reached and the optimization hasn't converged yet.\n",
            "\n",
            "\u001b[32m[I 2021-08-15 02:57:49,997]\u001b[0m Trial 2 finished with value: 0.8695950583390528 and parameters: {'neurons': 146, 'depth': 1, 'alpha': 0.00026104673600638206, 'activation_function': 'relu'}. Best is trial 1 with value: 0.8774879890185312.\u001b[0m\n",
            "\u001b[32m[I 2021-08-15 02:58:49,027]\u001b[0m Trial 3 finished with value: 0.8599862731640356 and parameters: {'neurons': 125, 'depth': 3, 'alpha': 0.0009422237369427844, 'activation_function': 'tanh'}. Best is trial 1 with value: 0.8774879890185312.\u001b[0m\n",
            "/usr/local/lib/python3.7/dist-packages/sklearn/neural_network/_multilayer_perceptron.py:571: ConvergenceWarning:\n",
            "\n",
            "Stochastic Optimizer: Maximum iterations (200) reached and the optimization hasn't converged yet.\n",
            "\n",
            "\u001b[32m[I 2021-08-15 02:59:54,242]\u001b[0m Trial 4 finished with value: 0.8661633493479753 and parameters: {'neurons': 200, 'depth': 2, 'alpha': 0.0005209317719547139, 'activation_function': 'tanh'}. Best is trial 1 with value: 0.8774879890185312.\u001b[0m\n"
          ],
          "name": "stderr"
        },
        {
          "output_type": "stream",
          "text": [
            "  Number of finished trials:  5\n",
            "  Number of pruned trials:  0\n",
            "  Number of complete trials:  5\n"
          ],
          "name": "stdout"
        }
      ]
    },
    {
      "cell_type": "code",
      "metadata": {
        "id": "0h7QoczU19V0",
        "colab": {
          "base_uri": "https://localhost:8080/"
        },
        "outputId": "54582c70-ed89-4502-a823-b589596e190a"
      },
      "source": [
        "![picture](https://drive.google.com/file/d/14IggvPIO7AcqxXvHrPBOWHUNpPzou0dL/view?usp=sharing)"
      ],
      "execution_count": null,
      "outputs": [
        {
          "output_type": "stream",
          "text": [
            "/bin/bash: -c: line 0: syntax error near unexpected token `https://drive.google.com/file/d/14IggvPIO7AcqxXvHrPBOWHUNpPzou0dL/view?usp=sharing'\n",
            "/bin/bash: -c: line 0: `[](https://drive.google.com/file/d/14IggvPIO7AcqxXvHrPBOWHUNpPzou0dL/view?usp=sharing)'\n"
          ],
          "name": "stdout"
        }
      ]
    },
    {
      "cell_type": "code",
      "metadata": {
        "id": "xQ8vUh3_lfiu",
        "colab": {
          "base_uri": "https://localhost:8080/"
        },
        "outputId": "65c9ed0c-b2e9-4629-a0c3-3f8f29068c07"
      },
      "source": [
        "![picture](https://drive.google.com/file/d/17JW0ECH_R22U0p2OIP_AD7i3ffTk7bRP/view)"
      ],
      "execution_count": null,
      "outputs": [
        {
          "output_type": "stream",
          "text": [
            "/bin/bash: -c: line 0: syntax error near unexpected token `https://drive.google.com/file/d/17JW0ECH_R22U0p2OIP_AD7i3ffTk7bRP/view'\n",
            "/bin/bash: -c: line 0: `[](https://drive.google.com/file/d/17JW0ECH_R22U0p2OIP_AD7i3ffTk7bRP/view)'\n"
          ],
          "name": "stdout"
        }
      ]
    },
    {
      "cell_type": "code",
      "metadata": {
        "id": "cSecmyQ1xZP-"
      },
      "source": [
        ""
      ],
      "execution_count": null,
      "outputs": []
    },
    {
      "cell_type": "markdown",
      "metadata": {
        "id": "wtu1b1UPxilW"
      },
      "source": [
        "# Diagnóstico dos resultados dos treinamentos"
      ]
    },
    {
      "cell_type": "markdown",
      "metadata": {
        "id": "kXU3LzQaSAL4"
      },
      "source": [
        "Como verificado nos testes acima, o algoritmo que obteve o melhor resultado foi o MLP, vamos fazer um calculo de vies e variancia para diagnosticar o modelo..."
      ]
    },
    {
      "cell_type": "code",
      "metadata": {
        "id": "hgtx7IuZxlsJ",
        "outputId": "c3410d4e-ce44-48af-9dab-3de7e9a08f8c",
        "colab": {
          "base_uri": "https://localhost:8080/"
        }
      },
      "source": [
        "from sklearn.neural_network import MLPClassifier\n",
        "model = MLPClassifier(hidden_layer_sizes=(157,157,157) , alpha=0.0009900006704345403, activation='logistic', verbose=10)\n",
        "model.fit(Xtrain, ytrain)                 \n",
        "y_model = model.predict(Xtest)           \n",
        "ypred_train = model.predict(Xtrain)      "
      ],
      "execution_count": 32,
      "outputs": [
        {
          "output_type": "stream",
          "text": [
            "Iteration 1, loss = 0.59053437\n",
            "Iteration 2, loss = 0.57601328\n",
            "Iteration 3, loss = 0.54821456\n",
            "Iteration 4, loss = 0.38442157\n",
            "Iteration 5, loss = 0.31014396\n",
            "Iteration 6, loss = 0.30382006\n",
            "Iteration 7, loss = 0.30443053\n",
            "Iteration 8, loss = 0.30114901\n",
            "Iteration 9, loss = 0.29950990\n",
            "Iteration 10, loss = 0.29902406\n",
            "Iteration 11, loss = 0.29870950\n",
            "Iteration 12, loss = 0.29808276\n",
            "Iteration 13, loss = 0.29786148\n",
            "Iteration 14, loss = 0.29887023\n",
            "Iteration 15, loss = 0.29607985\n",
            "Iteration 16, loss = 0.29545464\n",
            "Iteration 17, loss = 0.29590393\n",
            "Iteration 18, loss = 0.29743229\n",
            "Iteration 19, loss = 0.29681694\n",
            "Iteration 20, loss = 0.29422390\n",
            "Iteration 21, loss = 0.29446518\n",
            "Iteration 22, loss = 0.29509034\n",
            "Iteration 23, loss = 0.29293254\n",
            "Iteration 24, loss = 0.29410552\n",
            "Iteration 25, loss = 0.29619055\n",
            "Iteration 26, loss = 0.29223484\n",
            "Iteration 27, loss = 0.29190607\n",
            "Iteration 28, loss = 0.29235705\n",
            "Iteration 29, loss = 0.29186028\n",
            "Iteration 30, loss = 0.29347063\n",
            "Iteration 31, loss = 0.29213544\n",
            "Iteration 32, loss = 0.29140979\n",
            "Iteration 33, loss = 0.29118205\n",
            "Iteration 34, loss = 0.29093219\n",
            "Iteration 35, loss = 0.29092750\n",
            "Iteration 36, loss = 0.29030200\n",
            "Iteration 37, loss = 0.29230995\n",
            "Iteration 38, loss = 0.29016490\n",
            "Iteration 39, loss = 0.28995332\n",
            "Iteration 40, loss = 0.29047716\n",
            "Iteration 41, loss = 0.29025851\n",
            "Iteration 42, loss = 0.29030695\n",
            "Iteration 43, loss = 0.29052510\n",
            "Iteration 44, loss = 0.29072994\n",
            "Iteration 45, loss = 0.29363417\n",
            "Iteration 46, loss = 0.29018288\n",
            "Iteration 47, loss = 0.29253911\n",
            "Iteration 48, loss = 0.29024871\n",
            "Iteration 49, loss = 0.28994882\n",
            "Iteration 50, loss = 0.28900292\n",
            "Iteration 51, loss = 0.29046017\n",
            "Iteration 52, loss = 0.28966951\n",
            "Iteration 53, loss = 0.29152449\n",
            "Iteration 54, loss = 0.28894404\n",
            "Iteration 55, loss = 0.29128335\n",
            "Iteration 56, loss = 0.28899484\n",
            "Iteration 57, loss = 0.29046086\n",
            "Iteration 58, loss = 0.28931184\n",
            "Iteration 59, loss = 0.29152303\n",
            "Iteration 60, loss = 0.28841863\n",
            "Iteration 61, loss = 0.28914271\n",
            "Iteration 62, loss = 0.28850322\n",
            "Iteration 63, loss = 0.28794103\n",
            "Iteration 64, loss = 0.28804020\n",
            "Iteration 65, loss = 0.28910706\n",
            "Iteration 66, loss = 0.28872807\n",
            "Iteration 67, loss = 0.28741631\n",
            "Iteration 68, loss = 0.28831670\n",
            "Iteration 69, loss = 0.29056579\n",
            "Iteration 70, loss = 0.29109871\n",
            "Iteration 71, loss = 0.28767931\n",
            "Iteration 72, loss = 0.28823318\n",
            "Iteration 73, loss = 0.28809218\n",
            "Iteration 74, loss = 0.28840794\n",
            "Iteration 75, loss = 0.28784692\n",
            "Iteration 76, loss = 0.28690566\n",
            "Iteration 77, loss = 0.28705886\n",
            "Iteration 78, loss = 0.28820927\n",
            "Iteration 79, loss = 0.28684720\n",
            "Iteration 80, loss = 0.28705354\n",
            "Iteration 81, loss = 0.28668697\n",
            "Iteration 82, loss = 0.28657132\n",
            "Iteration 83, loss = 0.28641770\n",
            "Iteration 84, loss = 0.28736629\n",
            "Iteration 85, loss = 0.28611559\n",
            "Iteration 86, loss = 0.28583969\n",
            "Iteration 87, loss = 0.28639699\n",
            "Iteration 88, loss = 0.28592612\n",
            "Iteration 89, loss = 0.28579343\n",
            "Iteration 90, loss = 0.28647971\n",
            "Iteration 91, loss = 0.28486707\n",
            "Iteration 92, loss = 0.28729277\n",
            "Iteration 93, loss = 0.28509459\n",
            "Iteration 94, loss = 0.28606312\n",
            "Iteration 95, loss = 0.28483334\n",
            "Iteration 96, loss = 0.28487343\n",
            "Iteration 97, loss = 0.28535937\n",
            "Iteration 98, loss = 0.28441064\n",
            "Iteration 99, loss = 0.28680467\n",
            "Iteration 100, loss = 0.28514616\n",
            "Iteration 101, loss = 0.28480919\n",
            "Iteration 102, loss = 0.28525456\n",
            "Iteration 103, loss = 0.28363784\n",
            "Iteration 104, loss = 0.28382718\n",
            "Iteration 105, loss = 0.28352435\n",
            "Iteration 106, loss = 0.28355632\n",
            "Iteration 107, loss = 0.28724871\n",
            "Iteration 108, loss = 0.28315703\n",
            "Iteration 109, loss = 0.28347494\n",
            "Iteration 110, loss = 0.28334621\n",
            "Iteration 111, loss = 0.28354058\n",
            "Iteration 112, loss = 0.28485321\n",
            "Iteration 113, loss = 0.28268276\n",
            "Iteration 114, loss = 0.28543759\n",
            "Iteration 115, loss = 0.28374928\n",
            "Iteration 116, loss = 0.28341424\n",
            "Iteration 117, loss = 0.28457900\n",
            "Iteration 118, loss = 0.28240953\n",
            "Iteration 119, loss = 0.28311048\n",
            "Iteration 120, loss = 0.28248362\n",
            "Iteration 121, loss = 0.28352004\n",
            "Iteration 122, loss = 0.28171958\n",
            "Iteration 123, loss = 0.28471299\n",
            "Iteration 124, loss = 0.28385282\n",
            "Iteration 125, loss = 0.28313649\n",
            "Iteration 126, loss = 0.28292401\n",
            "Iteration 127, loss = 0.28282059\n",
            "Iteration 128, loss = 0.28248868\n",
            "Iteration 129, loss = 0.28277418\n",
            "Iteration 130, loss = 0.28370940\n",
            "Iteration 131, loss = 0.28232480\n",
            "Iteration 132, loss = 0.28157796\n",
            "Iteration 133, loss = 0.28152884\n",
            "Iteration 134, loss = 0.28120252\n",
            "Iteration 135, loss = 0.28265243\n",
            "Iteration 136, loss = 0.28220299\n",
            "Iteration 137, loss = 0.28429597\n",
            "Iteration 138, loss = 0.28130663\n",
            "Iteration 139, loss = 0.28125549\n",
            "Iteration 140, loss = 0.28084729\n",
            "Iteration 141, loss = 0.28131875\n",
            "Iteration 142, loss = 0.28200130\n",
            "Iteration 143, loss = 0.28205767\n",
            "Iteration 144, loss = 0.28151326\n",
            "Iteration 145, loss = 0.28279550\n",
            "Iteration 146, loss = 0.28082763\n",
            "Iteration 147, loss = 0.28090678\n",
            "Iteration 148, loss = 0.28299593\n",
            "Iteration 149, loss = 0.28332672\n",
            "Iteration 150, loss = 0.28137133\n",
            "Iteration 151, loss = 0.28178148\n",
            "Training loss did not improve more than tol=0.000100 for 10 consecutive epochs. Stopping.\n"
          ],
          "name": "stdout"
        }
      ]
    },
    {
      "cell_type": "code",
      "metadata": {
        "id": "ljnlu9oqUjeN",
        "outputId": "f0240dfd-8d74-4205-bd04-adc7f44810b0",
        "colab": {
          "base_uri": "https://localhost:8080/"
        }
      },
      "source": [
        "from sklearn.metrics import accuracy_score, f1_score, precision_score, recall_score\n",
        "\n",
        "print('*'*10,'train','*'*10)\n",
        "\n",
        "accuracy_treino =accuracy_score(ytrain, ypred_train)\n",
        "precision_treino =precision_score(ytrain, ypred_train, average='macro')\n",
        "recall_treino =recall_score(ytrain, ypred_train, average='macro')\n",
        "f1_treino = f1_score(ytrain, ypred_train,average='macro')\n",
        "\n",
        "print(\"Accuracy\", accuracy_treino)\n",
        "print(\"Precision\", precision_treino)\n",
        "print(\"Recall \", recall_treino)\n",
        "print(\"F1 \", f1_treino)\n",
        "\n",
        "\n",
        "print('*'*10,'teste','*'*10)\n",
        "\n",
        "accuracy_teste =accuracy_score(ytest, y_model)\n",
        "precision_teste =precision_score(ytest, y_model, average='macro')\n",
        "recall_teste =recall_score(ytest, y_model, average='macro')\n",
        "f1_teste = f1_score(ytest, y_model,average='macro')\n",
        "\n",
        "print(\"Accuracy\", accuracy_teste)\n",
        "print(\"Precision\", precision_teste)\n",
        "print(\"Recall \", recall_teste)\n",
        "print(\"F1 \", f1_teste)\n",
        "\n",
        "print('-'*30)\n",
        "print('vies accuracy',(1-accuracy_treino)*100-5)\n",
        "print('variancia accuracy',(1-accuracy_teste)*100-(1-accuracy_treino)*100)\n",
        "print('-'*30)\n",
        "print('vies precision',(1-precision_treino)*100-5)\n",
        "print('variancia precision',(1-precision_teste)*100-(1-precision_treino)*100)\n",
        "print('-'*30)\n",
        "print('vies recall',(1-recall_treino)*100-5)\n",
        "print('variancia recall',(1-recall_teste)*100-(1-recall_treino)*100)\n",
        "print('-'*30)\n",
        "print('vies f1',(1-f1_treino)*100-5)\n",
        "print('variancia f1',(1-f1_teste)*100-(1-f1_treino)*100)\n"
      ],
      "execution_count": 37,
      "outputs": [
        {
          "output_type": "stream",
          "text": [
            "********** train **********\n",
            "Accuracy 0.8770022883295194\n",
            "Precision 0.8360361249125576\n",
            "Recall  0.8774474239906129\n",
            "F1  0.8520214705025974\n",
            "********** teste **********\n",
            "Accuracy 0.8785175017158545\n",
            "Precision 0.8468425406746943\n",
            "Recall  0.8776958253851588\n",
            "F1  0.8591731654187934\n",
            "------------------------------\n",
            "vies accuracy 7.299771167048057\n",
            "variancia accuracy -0.15152133863350947\n",
            "------------------------------\n",
            "vies precision 11.396387508744237\n",
            "variancia precision -1.0806415762136705\n",
            "------------------------------\n",
            "vies recall 7.255257600938707\n",
            "variancia recall -0.024840139454584076\n",
            "------------------------------\n",
            "vies f1 9.797852949740264\n",
            "variancia f1 -0.715169491619605\n"
          ],
          "name": "stdout"
        }
      ]
    },
    {
      "cell_type": "markdown",
      "metadata": {
        "id": "UZkTqd4sabwJ"
      },
      "source": [
        "#veredito:\n",
        "Podemos ver um claro exemplo de underfitting, pois nosso modelo possui um alto vies e uma baixa variancia...\n",
        "Para tratar o problema poderiamos:\n",
        "\n",
        "\n",
        "*   aumentar a complexidade do modelo\n",
        "*   adicionar mais features\n",
        "\n"
      ]
    },
    {
      "cell_type": "markdown",
      "metadata": {
        "id": "KLWwsdU0b5U8"
      },
      "source": [
        "#aumentando a complexidade do modelo"
      ]
    },
    {
      "cell_type": "code",
      "metadata": {
        "id": "cZICN1F2V-tm",
        "outputId": "2d992e9f-c838-4664-f796-756e514d869a",
        "colab": {
          "base_uri": "https://localhost:8080/"
        }
      },
      "source": [
        "from sklearn.neural_network import MLPClassifier\n",
        "model = MLPClassifier(hidden_layer_sizes=(157,157,157,100) , alpha=0.0009900006704345403, activation='logistic', verbose=10)\n",
        "model.fit(Xtrain, ytrain)                 \n",
        "y_model = model.predict(Xtest)           \n",
        "ypred_train = model.predict(Xtrain)      "
      ],
      "execution_count": 38,
      "outputs": [
        {
          "output_type": "stream",
          "text": [
            "Iteration 1, loss = 0.58516675\n",
            "Iteration 2, loss = 0.57889081\n",
            "Iteration 3, loss = 0.55601024\n",
            "Iteration 4, loss = 0.34423515\n",
            "Iteration 5, loss = 0.31169437\n",
            "Iteration 6, loss = 0.30596824\n",
            "Iteration 7, loss = 0.30448221\n",
            "Iteration 8, loss = 0.30233761\n",
            "Iteration 9, loss = 0.30103907\n",
            "Iteration 10, loss = 0.30123481\n",
            "Iteration 11, loss = 0.30248584\n",
            "Iteration 12, loss = 0.30282196\n",
            "Iteration 13, loss = 0.29858833\n",
            "Iteration 14, loss = 0.29939512\n",
            "Iteration 15, loss = 0.29915063\n",
            "Iteration 16, loss = 0.29623736\n",
            "Iteration 17, loss = 0.29595053\n",
            "Iteration 18, loss = 0.29534274\n",
            "Iteration 19, loss = 0.29745354\n",
            "Iteration 20, loss = 0.29806698\n",
            "Iteration 21, loss = 0.29387850\n",
            "Iteration 22, loss = 0.29472966\n",
            "Iteration 23, loss = 0.29294545\n",
            "Iteration 24, loss = 0.29272254\n",
            "Iteration 25, loss = 0.29337881\n",
            "Iteration 26, loss = 0.29393125\n",
            "Iteration 27, loss = 0.29170915\n",
            "Iteration 28, loss = 0.29103017\n",
            "Iteration 29, loss = 0.29261832\n",
            "Iteration 30, loss = 0.29045670\n",
            "Iteration 31, loss = 0.29189122\n",
            "Iteration 32, loss = 0.29351622\n",
            "Iteration 33, loss = 0.28998948\n",
            "Iteration 34, loss = 0.28982444\n",
            "Iteration 35, loss = 0.28957510\n",
            "Iteration 36, loss = 0.28967463\n",
            "Iteration 37, loss = 0.29066955\n",
            "Iteration 38, loss = 0.28983768\n",
            "Iteration 39, loss = 0.29062009\n",
            "Iteration 40, loss = 0.29347364\n",
            "Iteration 41, loss = 0.29290012\n",
            "Iteration 42, loss = 0.28943757\n",
            "Iteration 43, loss = 0.29003768\n",
            "Iteration 44, loss = 0.28780173\n",
            "Iteration 45, loss = 0.28802925\n",
            "Iteration 46, loss = 0.28832152\n",
            "Iteration 47, loss = 0.28827225\n",
            "Iteration 48, loss = 0.28916649\n",
            "Iteration 49, loss = 0.28743391\n",
            "Iteration 50, loss = 0.28790371\n",
            "Iteration 51, loss = 0.29023727\n",
            "Iteration 52, loss = 0.28847000\n",
            "Iteration 53, loss = 0.28750126\n",
            "Iteration 54, loss = 0.29046154\n",
            "Iteration 55, loss = 0.28957147\n",
            "Iteration 56, loss = 0.28723210\n",
            "Iteration 57, loss = 0.28757018\n",
            "Iteration 58, loss = 0.28867384\n",
            "Iteration 59, loss = 0.29129309\n",
            "Iteration 60, loss = 0.28861205\n",
            "Iteration 61, loss = 0.28705793\n",
            "Iteration 62, loss = 0.28806479\n",
            "Iteration 63, loss = 0.28857108\n",
            "Iteration 64, loss = 0.28752173\n",
            "Iteration 65, loss = 0.28842442\n",
            "Iteration 66, loss = 0.28693436\n",
            "Iteration 67, loss = 0.28832472\n",
            "Iteration 68, loss = 0.28867506\n",
            "Iteration 69, loss = 0.28790755\n",
            "Iteration 70, loss = 0.28837807\n",
            "Iteration 71, loss = 0.29006952\n",
            "Iteration 72, loss = 0.28809119\n",
            "Iteration 73, loss = 0.28637069\n",
            "Iteration 74, loss = 0.28703819\n",
            "Iteration 75, loss = 0.28668017\n",
            "Iteration 76, loss = 0.28715909\n",
            "Iteration 77, loss = 0.28630055\n",
            "Iteration 78, loss = 0.28716624\n",
            "Iteration 79, loss = 0.28614848\n",
            "Iteration 80, loss = 0.28760073\n",
            "Iteration 81, loss = 0.28772027\n",
            "Iteration 82, loss = 0.28568852\n",
            "Iteration 83, loss = 0.28606739\n",
            "Iteration 84, loss = 0.28661613\n",
            "Iteration 85, loss = 0.28787531\n",
            "Iteration 86, loss = 0.28580164\n",
            "Iteration 87, loss = 0.28631314\n",
            "Iteration 88, loss = 0.28805605\n",
            "Iteration 89, loss = 0.28742669\n",
            "Iteration 90, loss = 0.28603367\n",
            "Iteration 91, loss = 0.28581893\n",
            "Iteration 92, loss = 0.28509207\n",
            "Iteration 93, loss = 0.28986371\n",
            "Iteration 94, loss = 0.28555327\n",
            "Iteration 95, loss = 0.28515875\n",
            "Iteration 96, loss = 0.28547443\n",
            "Iteration 97, loss = 0.28810300\n",
            "Iteration 98, loss = 0.28684445\n",
            "Iteration 99, loss = 0.28478738\n",
            "Iteration 100, loss = 0.28477845\n",
            "Iteration 101, loss = 0.28628760\n",
            "Iteration 102, loss = 0.28518550\n",
            "Iteration 103, loss = 0.28409777\n",
            "Iteration 104, loss = 0.28604625\n",
            "Iteration 105, loss = 0.28574265\n",
            "Iteration 106, loss = 0.28512439\n",
            "Iteration 107, loss = 0.28339580\n",
            "Iteration 108, loss = 0.28521202\n",
            "Iteration 109, loss = 0.28341967\n",
            "Iteration 110, loss = 0.28368631\n",
            "Iteration 111, loss = 0.28256581\n",
            "Iteration 112, loss = 0.28573890\n",
            "Iteration 113, loss = 0.28554021\n",
            "Iteration 114, loss = 0.28324009\n",
            "Iteration 115, loss = 0.28329540\n",
            "Iteration 116, loss = 0.28417344\n",
            "Iteration 117, loss = 0.28404291\n",
            "Iteration 118, loss = 0.28368424\n",
            "Iteration 119, loss = 0.28240661\n",
            "Iteration 120, loss = 0.28248784\n",
            "Iteration 121, loss = 0.28498725\n",
            "Iteration 122, loss = 0.28199335\n",
            "Iteration 123, loss = 0.28305472\n",
            "Iteration 124, loss = 0.28320564\n",
            "Iteration 125, loss = 0.28221022\n",
            "Iteration 126, loss = 0.28267734\n",
            "Iteration 127, loss = 0.28169491\n",
            "Iteration 128, loss = 0.28152628\n",
            "Iteration 129, loss = 0.28190679\n",
            "Iteration 130, loss = 0.28157536\n",
            "Iteration 131, loss = 0.28262109\n",
            "Iteration 132, loss = 0.28158351\n",
            "Iteration 133, loss = 0.28212798\n",
            "Iteration 134, loss = 0.28152495\n",
            "Iteration 135, loss = 0.28151581\n",
            "Iteration 136, loss = 0.28126519\n",
            "Iteration 137, loss = 0.28109078\n",
            "Iteration 138, loss = 0.28103722\n",
            "Iteration 139, loss = 0.28109951\n",
            "Iteration 140, loss = 0.28306935\n",
            "Iteration 141, loss = 0.28124951\n",
            "Iteration 142, loss = 0.28030122\n",
            "Iteration 143, loss = 0.28060926\n",
            "Iteration 144, loss = 0.28041372\n",
            "Iteration 145, loss = 0.27935224\n",
            "Iteration 146, loss = 0.28083881\n",
            "Iteration 147, loss = 0.28004086\n",
            "Iteration 148, loss = 0.28125831\n",
            "Iteration 149, loss = 0.28051420\n",
            "Iteration 150, loss = 0.28097130\n",
            "Iteration 151, loss = 0.28030007\n",
            "Iteration 152, loss = 0.28150350\n",
            "Iteration 153, loss = 0.28144987\n",
            "Iteration 154, loss = 0.28162723\n",
            "Iteration 155, loss = 0.28178827\n",
            "Iteration 156, loss = 0.28053117\n",
            "Training loss did not improve more than tol=0.000100 for 10 consecutive epochs. Stopping.\n"
          ],
          "name": "stdout"
        }
      ]
    },
    {
      "cell_type": "markdown",
      "metadata": {
        "id": "5m7vn1ctcA9k"
      },
      "source": [
        "aumentar a complexidade do modelo parece não ter ajudado muito nesse caso..."
      ]
    },
    {
      "cell_type": "code",
      "metadata": {
        "id": "iRAEljfObm1g"
      },
      "source": [
        ""
      ],
      "execution_count": null,
      "outputs": []
    }
  ]
}