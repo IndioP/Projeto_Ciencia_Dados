{
  "nbformat": 4,
  "nbformat_minor": 0,
  "metadata": {
    "colab": {
      "name": "Copy of Projeto2.ipynb",
      "provenance": [],
      "collapsed_sections": []
    },
    "kernelspec": {
      "display_name": "Python 3",
      "name": "python3"
    },
    "language_info": {
      "name": "python"
    }
  },
  "cells": [
    {
      "cell_type": "code",
      "metadata": {
        "id": "kTn9BlhDdhIV",
        "colab": {
          "base_uri": "https://localhost:8080/"
        },
        "outputId": "a236654e-0791-4ee8-c808-ad0a813d1f5b"
      },
      "source": [
        "!pip install pyngrok --quiet\n",
        "!pip install mlflow --quiet\n",
        "!pip install optuna\n",
        "\n",
        "import matplotlib.pyplot as plt\n",
        "from scipy import stats\n",
        "import seaborn as sns\n",
        "import pandas as pd\n",
        "import numpy as np\n",
        "import mlflow"
      ],
      "execution_count": 3,
      "outputs": [
        {
          "output_type": "stream",
          "text": [
            "Requirement already satisfied: optuna in /usr/local/lib/python3.7/dist-packages (2.9.1)\n",
            "Requirement already satisfied: tqdm in /usr/local/lib/python3.7/dist-packages (from optuna) (4.62.0)\n",
            "Requirement already satisfied: colorlog in /usr/local/lib/python3.7/dist-packages (from optuna) (5.0.1)\n",
            "Requirement already satisfied: packaging>=20.0 in /usr/local/lib/python3.7/dist-packages (from optuna) (21.0)\n",
            "Requirement already satisfied: scipy!=1.4.0 in /usr/local/lib/python3.7/dist-packages (from optuna) (1.4.1)\n",
            "Requirement already satisfied: cliff in /usr/local/lib/python3.7/dist-packages (from optuna) (3.8.0)\n",
            "Requirement already satisfied: sqlalchemy>=1.1.0 in /usr/local/lib/python3.7/dist-packages (from optuna) (1.4.22)\n",
            "Requirement already satisfied: PyYAML in /usr/local/lib/python3.7/dist-packages (from optuna) (5.4.1)\n",
            "Requirement already satisfied: numpy in /usr/local/lib/python3.7/dist-packages (from optuna) (1.19.5)\n",
            "Requirement already satisfied: cmaes>=0.8.2 in /usr/local/lib/python3.7/dist-packages (from optuna) (0.8.2)\n",
            "Requirement already satisfied: alembic in /usr/local/lib/python3.7/dist-packages (from optuna) (1.4.1)\n",
            "Requirement already satisfied: pyparsing>=2.0.2 in /usr/local/lib/python3.7/dist-packages (from packaging>=20.0->optuna) (2.4.7)\n",
            "Requirement already satisfied: importlib-metadata in /usr/local/lib/python3.7/dist-packages (from sqlalchemy>=1.1.0->optuna) (4.6.3)\n",
            "Requirement already satisfied: greenlet!=0.4.17 in /usr/local/lib/python3.7/dist-packages (from sqlalchemy>=1.1.0->optuna) (1.1.1)\n",
            "Requirement already satisfied: python-editor>=0.3 in /usr/local/lib/python3.7/dist-packages (from alembic->optuna) (1.0.4)\n",
            "Requirement already satisfied: python-dateutil in /usr/local/lib/python3.7/dist-packages (from alembic->optuna) (2.8.2)\n",
            "Requirement already satisfied: Mako in /usr/local/lib/python3.7/dist-packages (from alembic->optuna) (1.1.4)\n",
            "Requirement already satisfied: pbr!=2.1.0,>=2.0.0 in /usr/local/lib/python3.7/dist-packages (from cliff->optuna) (5.6.0)\n",
            "Requirement already satisfied: stevedore>=2.0.1 in /usr/local/lib/python3.7/dist-packages (from cliff->optuna) (3.3.0)\n",
            "Requirement already satisfied: cmd2>=1.0.0 in /usr/local/lib/python3.7/dist-packages (from cliff->optuna) (2.1.2)\n",
            "Requirement already satisfied: PrettyTable>=0.7.2 in /usr/local/lib/python3.7/dist-packages (from cliff->optuna) (2.1.0)\n",
            "Requirement already satisfied: attrs>=16.3.0 in /usr/local/lib/python3.7/dist-packages (from cmd2>=1.0.0->cliff->optuna) (21.2.0)\n",
            "Requirement already satisfied: typing-extensions in /usr/local/lib/python3.7/dist-packages (from cmd2>=1.0.0->cliff->optuna) (3.7.4.3)\n",
            "Requirement already satisfied: pyperclip>=1.6 in /usr/local/lib/python3.7/dist-packages (from cmd2>=1.0.0->cliff->optuna) (1.8.2)\n",
            "Requirement already satisfied: colorama>=0.3.7 in /usr/local/lib/python3.7/dist-packages (from cmd2>=1.0.0->cliff->optuna) (0.4.4)\n",
            "Requirement already satisfied: wcwidth>=0.1.7 in /usr/local/lib/python3.7/dist-packages (from cmd2>=1.0.0->cliff->optuna) (0.2.5)\n",
            "Requirement already satisfied: zipp>=0.5 in /usr/local/lib/python3.7/dist-packages (from importlib-metadata->sqlalchemy>=1.1.0->optuna) (3.5.0)\n",
            "Requirement already satisfied: MarkupSafe>=0.9.2 in /usr/local/lib/python3.7/dist-packages (from Mako->alembic->optuna) (2.0.1)\n",
            "Requirement already satisfied: six>=1.5 in /usr/local/lib/python3.7/dist-packages (from python-dateutil->alembic->optuna) (1.15.0)\n"
          ],
          "name": "stdout"
        }
      ]
    },
    {
      "cell_type": "code",
      "metadata": {
        "colab": {
          "base_uri": "https://localhost:8080/"
        },
        "id": "RcUFTwZB7LnN",
        "outputId": "9f0c9371-6419-4c9a-a115-cdff46fb64b9"
      },
      "source": [
        "from google.colab import drive\n",
        "drive.mount('/content/drive')"
      ],
      "execution_count": 4,
      "outputs": [
        {
          "output_type": "stream",
          "text": [
            "Drive already mounted at /content/drive; to attempt to forcibly remount, call drive.mount(\"/content/drive\", force_remount=True).\n"
          ],
          "name": "stdout"
        }
      ]
    },
    {
      "cell_type": "code",
      "metadata": {
        "id": "ZJU-z0kd7EpK"
      },
      "source": [
        "acidentes = pd.read_csv(\"/content/drive/MyDrive/ciencia-de-dados/dataset preprocessado/acidentes.csv\",delimiter = ';')"
      ],
      "execution_count": 5,
      "outputs": []
    },
    {
      "cell_type": "code",
      "metadata": {
        "id": "autU7r6ueed4"
      },
      "source": [
        "#acidentes=pd.read_csv(\"acidentes.csv\")"
      ],
      "execution_count": 6,
      "outputs": []
    },
    {
      "cell_type": "code",
      "metadata": {
        "colab": {
          "base_uri": "https://localhost:8080/",
          "height": 462
        },
        "id": "eybt3VDMevWU",
        "outputId": "e6708bcf-d0ea-4c7f-b618-1f0b10bbaac8"
      },
      "source": [
        "acidentes.head()"
      ],
      "execution_count": 7,
      "outputs": [
        {
          "output_type": "execute_result",
          "data": {
            "text/html": [
              "<div>\n",
              "<style scoped>\n",
              "    .dataframe tbody tr th:only-of-type {\n",
              "        vertical-align: middle;\n",
              "    }\n",
              "\n",
              "    .dataframe tbody tr th {\n",
              "        vertical-align: top;\n",
              "    }\n",
              "\n",
              "    .dataframe thead th {\n",
              "        text-align: right;\n",
              "    }\n",
              "</style>\n",
              "<table border=\"1\" class=\"dataframe\">\n",
              "  <thead>\n",
              "    <tr style=\"text-align: right;\">\n",
              "      <th></th>\n",
              "      <th>DATA</th>\n",
              "      <th>HORA</th>\n",
              "      <th>NATUREZA_ACIDENTE</th>\n",
              "      <th>SITUACAO</th>\n",
              "      <th>BAIRRO</th>\n",
              "      <th>ENDERECO</th>\n",
              "      <th>COMPLEMENTO</th>\n",
              "      <th>BAIRRO_CRUZAMENTO</th>\n",
              "      <th>TIPO</th>\n",
              "      <th>DESCRICAO</th>\n",
              "      <th>AUTO</th>\n",
              "      <th>MOTO</th>\n",
              "      <th>CICLOM</th>\n",
              "      <th>CICLISTA</th>\n",
              "      <th>PEDESTRE</th>\n",
              "      <th>ONIBUS</th>\n",
              "      <th>CAMINHAO</th>\n",
              "      <th>VIATURA</th>\n",
              "      <th>OUTROS</th>\n",
              "      <th>VITIMAS</th>\n",
              "      <th>VITIMASFATAIS</th>\n",
              "      <th>ACIDENTE_VERIFICADO</th>\n",
              "      <th>TEMPO_CLIMA</th>\n",
              "      <th>SITUACAO_SEMAFORO</th>\n",
              "      <th>SINALIZACAO</th>\n",
              "      <th>CONDICAO_VIA</th>\n",
              "      <th>CONSERVACAO_VIA</th>\n",
              "      <th>PONTO_CONTROLE</th>\n",
              "      <th>SITUACAO_PLACA</th>\n",
              "      <th>VELOCIDADE_MAX_VIA</th>\n",
              "      <th>MAO_DIRECAO</th>\n",
              "      <th>DIVISAO_VIA1</th>\n",
              "      <th>PERIODO_DO_DIA</th>\n",
              "      <th>DIA_DA_SEMANA</th>\n",
              "      <th>ANO</th>\n",
              "      <th>MES</th>\n",
              "      <th>QTD_ACIDENTES</th>\n",
              "    </tr>\n",
              "  </thead>\n",
              "  <tbody>\n",
              "    <tr>\n",
              "      <th>0</th>\n",
              "      <td>2015-12-03</td>\n",
              "      <td>11</td>\n",
              "      <td>SEM VITIMA</td>\n",
              "      <td>CANCELADA</td>\n",
              "      <td>CASA AMARELA</td>\n",
              "      <td>AV NORTE</td>\n",
              "      <td>SENTIDO SUBURBIO   E/F AO SESC</td>\n",
              "      <td>SEM INFORMACAO</td>\n",
              "      <td>COLISAO</td>\n",
              "      <td>COLISAO SEM VITIMAS</td>\n",
              "      <td>0.0</td>\n",
              "      <td>0.0</td>\n",
              "      <td>0.0</td>\n",
              "      <td>0.0</td>\n",
              "      <td>0.0</td>\n",
              "      <td>0.0</td>\n",
              "      <td>0.0</td>\n",
              "      <td>0.0</td>\n",
              "      <td>0.0</td>\n",
              "      <td>0.0</td>\n",
              "      <td>0.0</td>\n",
              "      <td>SEM INFORMACAO</td>\n",
              "      <td>SEM INFORMACAO</td>\n",
              "      <td>SEM INFORMACAO</td>\n",
              "      <td>SEM INFORMACAO</td>\n",
              "      <td>SEM INFORMACAO</td>\n",
              "      <td>SEM INFORMACAO</td>\n",
              "      <td>SEM INFORMACAO</td>\n",
              "      <td>SEM INFORMACAO</td>\n",
              "      <td>SEM INFORMACAO</td>\n",
              "      <td>SEM INFORMACAO</td>\n",
              "      <td>SEM INFORMACAO</td>\n",
              "      <td>MANHA</td>\n",
              "      <td>QUINTA</td>\n",
              "      <td>2015</td>\n",
              "      <td>12</td>\n",
              "      <td>1</td>\n",
              "    </tr>\n",
              "    <tr>\n",
              "      <th>1</th>\n",
              "      <td>2015-06-01</td>\n",
              "      <td>6</td>\n",
              "      <td>SEM VITIMA</td>\n",
              "      <td>FINALIZADA</td>\n",
              "      <td>ENCRUZILHADA</td>\n",
              "      <td>EST DE BELEM</td>\n",
              "      <td>IGREJA BATISTA MEMORIAL DE BELEM</td>\n",
              "      <td>SEM INFORMACAO</td>\n",
              "      <td>COLISAO</td>\n",
              "      <td>SEM VITIMAS</td>\n",
              "      <td>0.0</td>\n",
              "      <td>2.0</td>\n",
              "      <td>0.0</td>\n",
              "      <td>0.0</td>\n",
              "      <td>0.0</td>\n",
              "      <td>0.0</td>\n",
              "      <td>0.0</td>\n",
              "      <td>0.0</td>\n",
              "      <td>0.0</td>\n",
              "      <td>0.0</td>\n",
              "      <td>0.0</td>\n",
              "      <td>SEM INFORMACAO</td>\n",
              "      <td>SEM INFORMACAO</td>\n",
              "      <td>SEM INFORMACAO</td>\n",
              "      <td>SEM INFORMACAO</td>\n",
              "      <td>SEM INFORMACAO</td>\n",
              "      <td>SEM INFORMACAO</td>\n",
              "      <td>SEM INFORMACAO</td>\n",
              "      <td>SEM INFORMACAO</td>\n",
              "      <td>SEM INFORMACAO</td>\n",
              "      <td>SEM INFORMACAO</td>\n",
              "      <td>SEM INFORMACAO</td>\n",
              "      <td>MANHA</td>\n",
              "      <td>SEGUNDA</td>\n",
              "      <td>2015</td>\n",
              "      <td>6</td>\n",
              "      <td>1</td>\n",
              "    </tr>\n",
              "    <tr>\n",
              "      <th>2</th>\n",
              "      <td>2015-06-01</td>\n",
              "      <td>8</td>\n",
              "      <td>SEM VITIMA</td>\n",
              "      <td>FINALIZADA</td>\n",
              "      <td>BOA VIAGEM</td>\n",
              "      <td>RUA ERNESTO DE PAULA SANTOS</td>\n",
              "      <td>SEMAFORO NO217</td>\n",
              "      <td>SEM INFORMACAO</td>\n",
              "      <td>COLISAO</td>\n",
              "      <td>SEM VITIMA</td>\n",
              "      <td>1.0</td>\n",
              "      <td>0.0</td>\n",
              "      <td>0.0</td>\n",
              "      <td>0.0</td>\n",
              "      <td>0.0</td>\n",
              "      <td>0.0</td>\n",
              "      <td>1.0</td>\n",
              "      <td>0.0</td>\n",
              "      <td>0.0</td>\n",
              "      <td>0.0</td>\n",
              "      <td>0.0</td>\n",
              "      <td>SEM INFORMACAO</td>\n",
              "      <td>SEM INFORMACAO</td>\n",
              "      <td>SEM INFORMACAO</td>\n",
              "      <td>SEM INFORMACAO</td>\n",
              "      <td>SEM INFORMACAO</td>\n",
              "      <td>SEM INFORMACAO</td>\n",
              "      <td>SEM INFORMACAO</td>\n",
              "      <td>SEM INFORMACAO</td>\n",
              "      <td>SEM INFORMACAO</td>\n",
              "      <td>SEM INFORMACAO</td>\n",
              "      <td>SEM INFORMACAO</td>\n",
              "      <td>MANHA</td>\n",
              "      <td>SEGUNDA</td>\n",
              "      <td>2015</td>\n",
              "      <td>6</td>\n",
              "      <td>1</td>\n",
              "    </tr>\n",
              "    <tr>\n",
              "      <th>3</th>\n",
              "      <td>2015-06-01</td>\n",
              "      <td>8</td>\n",
              "      <td>SEM VITIMA</td>\n",
              "      <td>FINALIZADA</td>\n",
              "      <td>AFOGADOS</td>\n",
              "      <td>AV SUL</td>\n",
              "      <td>AO LADO DA ESTACAO LARGO DA PAZ</td>\n",
              "      <td>SEM INFORMACAO</td>\n",
              "      <td>COLISAO</td>\n",
              "      <td>COLISAO S/V</td>\n",
              "      <td>1.0</td>\n",
              "      <td>0.0</td>\n",
              "      <td>0.0</td>\n",
              "      <td>0.0</td>\n",
              "      <td>0.0</td>\n",
              "      <td>0.0</td>\n",
              "      <td>1.0</td>\n",
              "      <td>0.0</td>\n",
              "      <td>0.0</td>\n",
              "      <td>0.0</td>\n",
              "      <td>0.0</td>\n",
              "      <td>SEM INFORMACAO</td>\n",
              "      <td>SEM INFORMACAO</td>\n",
              "      <td>SEM INFORMACAO</td>\n",
              "      <td>SEM INFORMACAO</td>\n",
              "      <td>SEM INFORMACAO</td>\n",
              "      <td>SEM INFORMACAO</td>\n",
              "      <td>SEM INFORMACAO</td>\n",
              "      <td>SEM INFORMACAO</td>\n",
              "      <td>SEM INFORMACAO</td>\n",
              "      <td>SEM INFORMACAO</td>\n",
              "      <td>SEM INFORMACAO</td>\n",
              "      <td>MANHA</td>\n",
              "      <td>SEGUNDA</td>\n",
              "      <td>2015</td>\n",
              "      <td>6</td>\n",
              "      <td>1</td>\n",
              "    </tr>\n",
              "    <tr>\n",
              "      <th>4</th>\n",
              "      <td>2015-06-01</td>\n",
              "      <td>8</td>\n",
              "      <td>SEM VITIMA</td>\n",
              "      <td>CANCELADA</td>\n",
              "      <td>MADALENA</td>\n",
              "      <td>RUA BENFICA</td>\n",
              "      <td>EM  FRENTE AO CLUBE INTERNACIONAL</td>\n",
              "      <td>SEM INFORMACAO</td>\n",
              "      <td>COLISAO</td>\n",
              "      <td>GM RIBEIRO JA NO LOCAL VT 05</td>\n",
              "      <td>2.0</td>\n",
              "      <td>0.0</td>\n",
              "      <td>0.0</td>\n",
              "      <td>0.0</td>\n",
              "      <td>0.0</td>\n",
              "      <td>0.0</td>\n",
              "      <td>0.0</td>\n",
              "      <td>0.0</td>\n",
              "      <td>0.0</td>\n",
              "      <td>0.0</td>\n",
              "      <td>0.0</td>\n",
              "      <td>SEM INFORMACAO</td>\n",
              "      <td>SEM INFORMACAO</td>\n",
              "      <td>SEM INFORMACAO</td>\n",
              "      <td>SEM INFORMACAO</td>\n",
              "      <td>SEM INFORMACAO</td>\n",
              "      <td>SEM INFORMACAO</td>\n",
              "      <td>SEM INFORMACAO</td>\n",
              "      <td>SEM INFORMACAO</td>\n",
              "      <td>SEM INFORMACAO</td>\n",
              "      <td>SEM INFORMACAO</td>\n",
              "      <td>SEM INFORMACAO</td>\n",
              "      <td>MANHA</td>\n",
              "      <td>SEGUNDA</td>\n",
              "      <td>2015</td>\n",
              "      <td>6</td>\n",
              "      <td>1</td>\n",
              "    </tr>\n",
              "  </tbody>\n",
              "</table>\n",
              "</div>"
            ],
            "text/plain": [
              "         DATA  HORA NATUREZA_ACIDENTE  ...   ANO MES QTD_ACIDENTES\n",
              "0  2015-12-03    11        SEM VITIMA  ...  2015  12             1\n",
              "1  2015-06-01     6        SEM VITIMA  ...  2015   6             1\n",
              "2  2015-06-01     8        SEM VITIMA  ...  2015   6             1\n",
              "3  2015-06-01     8        SEM VITIMA  ...  2015   6             1\n",
              "4  2015-06-01     8        SEM VITIMA  ...  2015   6             1\n",
              "\n",
              "[5 rows x 37 columns]"
            ]
          },
          "metadata": {
            "tags": []
          },
          "execution_count": 7
        }
      ]
    },
    {
      "cell_type": "code",
      "metadata": {
        "id": "bIdZEHMK1fMG"
      },
      "source": [
        "acidentes['NATUREZA_ACIDENTE'] = acidentes['NATUREZA_ACIDENTE'].replace('VITIMA FATAL', 'COM VITIMA')\n",
        "acidentes['NATUREZA_ACIDENTE'] = acidentes['NATUREZA_ACIDENTE'].replace('SEM INFORMACAO', np.NaN)\n",
        "acidentes['NATUREZA_ACIDENTE'] = acidentes['NATUREZA_ACIDENTE'].replace('ENTRADA E SAIDA', np.NaN)\n",
        "acidentes['NATUREZA_ACIDENTE'] = acidentes['NATUREZA_ACIDENTE'].replace('APOIO', np.NaN)"
      ],
      "execution_count": 8,
      "outputs": []
    },
    {
      "cell_type": "code",
      "metadata": {
        "id": "v3RDMfaehM6B"
      },
      "source": [
        "df = acidentes[['NATUREZA_ACIDENTE','TIPO','AUTO', 'MOTO', 'CICLOM', 'CICLISTA','PEDESTRE','ONIBUS','CAMINHAO','VIATURA','TEMPO_CLIMA','SITUACAO_SEMAFORO','SINALIZACAO','CONDICAO_VIA','CONSERVACAO_VIA','PERIODO_DO_DIA']]"
      ],
      "execution_count": 9,
      "outputs": []
    },
    {
      "cell_type": "code",
      "metadata": {
        "colab": {
          "base_uri": "https://localhost:8080/",
          "height": 204
        },
        "id": "fX7-7QbbiG1j",
        "outputId": "bbff7791-6289-421b-9207-02bc3be67b00"
      },
      "source": [
        "df.head()"
      ],
      "execution_count": 10,
      "outputs": [
        {
          "output_type": "execute_result",
          "data": {
            "text/html": [
              "<div>\n",
              "<style scoped>\n",
              "    .dataframe tbody tr th:only-of-type {\n",
              "        vertical-align: middle;\n",
              "    }\n",
              "\n",
              "    .dataframe tbody tr th {\n",
              "        vertical-align: top;\n",
              "    }\n",
              "\n",
              "    .dataframe thead th {\n",
              "        text-align: right;\n",
              "    }\n",
              "</style>\n",
              "<table border=\"1\" class=\"dataframe\">\n",
              "  <thead>\n",
              "    <tr style=\"text-align: right;\">\n",
              "      <th></th>\n",
              "      <th>NATUREZA_ACIDENTE</th>\n",
              "      <th>TIPO</th>\n",
              "      <th>AUTO</th>\n",
              "      <th>MOTO</th>\n",
              "      <th>CICLOM</th>\n",
              "      <th>CICLISTA</th>\n",
              "      <th>PEDESTRE</th>\n",
              "      <th>ONIBUS</th>\n",
              "      <th>CAMINHAO</th>\n",
              "      <th>VIATURA</th>\n",
              "      <th>TEMPO_CLIMA</th>\n",
              "      <th>SITUACAO_SEMAFORO</th>\n",
              "      <th>SINALIZACAO</th>\n",
              "      <th>CONDICAO_VIA</th>\n",
              "      <th>CONSERVACAO_VIA</th>\n",
              "      <th>PERIODO_DO_DIA</th>\n",
              "    </tr>\n",
              "  </thead>\n",
              "  <tbody>\n",
              "    <tr>\n",
              "      <th>0</th>\n",
              "      <td>SEM VITIMA</td>\n",
              "      <td>COLISAO</td>\n",
              "      <td>0.0</td>\n",
              "      <td>0.0</td>\n",
              "      <td>0.0</td>\n",
              "      <td>0.0</td>\n",
              "      <td>0.0</td>\n",
              "      <td>0.0</td>\n",
              "      <td>0.0</td>\n",
              "      <td>0.0</td>\n",
              "      <td>SEM INFORMACAO</td>\n",
              "      <td>SEM INFORMACAO</td>\n",
              "      <td>SEM INFORMACAO</td>\n",
              "      <td>SEM INFORMACAO</td>\n",
              "      <td>SEM INFORMACAO</td>\n",
              "      <td>MANHA</td>\n",
              "    </tr>\n",
              "    <tr>\n",
              "      <th>1</th>\n",
              "      <td>SEM VITIMA</td>\n",
              "      <td>COLISAO</td>\n",
              "      <td>0.0</td>\n",
              "      <td>2.0</td>\n",
              "      <td>0.0</td>\n",
              "      <td>0.0</td>\n",
              "      <td>0.0</td>\n",
              "      <td>0.0</td>\n",
              "      <td>0.0</td>\n",
              "      <td>0.0</td>\n",
              "      <td>SEM INFORMACAO</td>\n",
              "      <td>SEM INFORMACAO</td>\n",
              "      <td>SEM INFORMACAO</td>\n",
              "      <td>SEM INFORMACAO</td>\n",
              "      <td>SEM INFORMACAO</td>\n",
              "      <td>MANHA</td>\n",
              "    </tr>\n",
              "    <tr>\n",
              "      <th>2</th>\n",
              "      <td>SEM VITIMA</td>\n",
              "      <td>COLISAO</td>\n",
              "      <td>1.0</td>\n",
              "      <td>0.0</td>\n",
              "      <td>0.0</td>\n",
              "      <td>0.0</td>\n",
              "      <td>0.0</td>\n",
              "      <td>0.0</td>\n",
              "      <td>1.0</td>\n",
              "      <td>0.0</td>\n",
              "      <td>SEM INFORMACAO</td>\n",
              "      <td>SEM INFORMACAO</td>\n",
              "      <td>SEM INFORMACAO</td>\n",
              "      <td>SEM INFORMACAO</td>\n",
              "      <td>SEM INFORMACAO</td>\n",
              "      <td>MANHA</td>\n",
              "    </tr>\n",
              "    <tr>\n",
              "      <th>3</th>\n",
              "      <td>SEM VITIMA</td>\n",
              "      <td>COLISAO</td>\n",
              "      <td>1.0</td>\n",
              "      <td>0.0</td>\n",
              "      <td>0.0</td>\n",
              "      <td>0.0</td>\n",
              "      <td>0.0</td>\n",
              "      <td>0.0</td>\n",
              "      <td>1.0</td>\n",
              "      <td>0.0</td>\n",
              "      <td>SEM INFORMACAO</td>\n",
              "      <td>SEM INFORMACAO</td>\n",
              "      <td>SEM INFORMACAO</td>\n",
              "      <td>SEM INFORMACAO</td>\n",
              "      <td>SEM INFORMACAO</td>\n",
              "      <td>MANHA</td>\n",
              "    </tr>\n",
              "    <tr>\n",
              "      <th>4</th>\n",
              "      <td>SEM VITIMA</td>\n",
              "      <td>COLISAO</td>\n",
              "      <td>2.0</td>\n",
              "      <td>0.0</td>\n",
              "      <td>0.0</td>\n",
              "      <td>0.0</td>\n",
              "      <td>0.0</td>\n",
              "      <td>0.0</td>\n",
              "      <td>0.0</td>\n",
              "      <td>0.0</td>\n",
              "      <td>SEM INFORMACAO</td>\n",
              "      <td>SEM INFORMACAO</td>\n",
              "      <td>SEM INFORMACAO</td>\n",
              "      <td>SEM INFORMACAO</td>\n",
              "      <td>SEM INFORMACAO</td>\n",
              "      <td>MANHA</td>\n",
              "    </tr>\n",
              "  </tbody>\n",
              "</table>\n",
              "</div>"
            ],
            "text/plain": [
              "  NATUREZA_ACIDENTE     TIPO  ...  CONSERVACAO_VIA  PERIODO_DO_DIA\n",
              "0        SEM VITIMA  COLISAO  ...   SEM INFORMACAO           MANHA\n",
              "1        SEM VITIMA  COLISAO  ...   SEM INFORMACAO           MANHA\n",
              "2        SEM VITIMA  COLISAO  ...   SEM INFORMACAO           MANHA\n",
              "3        SEM VITIMA  COLISAO  ...   SEM INFORMACAO           MANHA\n",
              "4        SEM VITIMA  COLISAO  ...   SEM INFORMACAO           MANHA\n",
              "\n",
              "[5 rows x 16 columns]"
            ]
          },
          "metadata": {
            "tags": []
          },
          "execution_count": 10
        }
      ]
    },
    {
      "cell_type": "code",
      "metadata": {
        "colab": {
          "base_uri": "https://localhost:8080/"
        },
        "id": "-FhsZzt6mYrS",
        "outputId": "04464fca-1963-43d3-ee2f-2b7ef067f701"
      },
      "source": [
        "df['NATUREZA_ACIDENTE'] = df['NATUREZA_ACIDENTE'].replace('SEM INFORMACAO', np.nan)\n",
        "df['TIPO'] = df['TIPO'].replace('SEM INFORMACAO', np.nan)\n",
        "df['TEMPO_CLIMA'] = df['TEMPO_CLIMA'].replace('SEM INFORMACAO', np.nan)\n",
        "df['SINALIZACAO'] = df['SINALIZACAO'].replace('SEM INFORMACAO', np.nan)\n",
        "df['CONDICAO_VIA'] = df['CONDICAO_VIA'].replace('SEM INFORMACAO', np.nan)\n",
        "df['CONSERVACAO_VIA'] = df['CONSERVACAO_VIA'].replace('SEM INFORMACAO', np.nan)\n",
        "#df['SITUACAO_PLACA'] = df['SITUACAO_PLACA'].replace('SEM INFORMACAO', np.nan)\n",
        "#df['VELOCIDADE_MAX_VIA'] = df['VELOCIDADE_MAX_VIA'].replace('SEM INFORMACAO', np.nan)\n",
        "df['PERIODO_DO_DIA'] = df['PERIODO_DO_DIA'].replace('SEM INFORMACAO', np.nan)"
      ],
      "execution_count": 11,
      "outputs": [
        {
          "output_type": "stream",
          "text": [
            "/usr/local/lib/python3.7/dist-packages/ipykernel_launcher.py:1: SettingWithCopyWarning:\n",
            "\n",
            "\n",
            "A value is trying to be set on a copy of a slice from a DataFrame.\n",
            "Try using .loc[row_indexer,col_indexer] = value instead\n",
            "\n",
            "See the caveats in the documentation: https://pandas.pydata.org/pandas-docs/stable/user_guide/indexing.html#returning-a-view-versus-a-copy\n",
            "\n",
            "/usr/local/lib/python3.7/dist-packages/ipykernel_launcher.py:2: SettingWithCopyWarning:\n",
            "\n",
            "\n",
            "A value is trying to be set on a copy of a slice from a DataFrame.\n",
            "Try using .loc[row_indexer,col_indexer] = value instead\n",
            "\n",
            "See the caveats in the documentation: https://pandas.pydata.org/pandas-docs/stable/user_guide/indexing.html#returning-a-view-versus-a-copy\n",
            "\n",
            "/usr/local/lib/python3.7/dist-packages/ipykernel_launcher.py:3: SettingWithCopyWarning:\n",
            "\n",
            "\n",
            "A value is trying to be set on a copy of a slice from a DataFrame.\n",
            "Try using .loc[row_indexer,col_indexer] = value instead\n",
            "\n",
            "See the caveats in the documentation: https://pandas.pydata.org/pandas-docs/stable/user_guide/indexing.html#returning-a-view-versus-a-copy\n",
            "\n",
            "/usr/local/lib/python3.7/dist-packages/ipykernel_launcher.py:4: SettingWithCopyWarning:\n",
            "\n",
            "\n",
            "A value is trying to be set on a copy of a slice from a DataFrame.\n",
            "Try using .loc[row_indexer,col_indexer] = value instead\n",
            "\n",
            "See the caveats in the documentation: https://pandas.pydata.org/pandas-docs/stable/user_guide/indexing.html#returning-a-view-versus-a-copy\n",
            "\n",
            "/usr/local/lib/python3.7/dist-packages/ipykernel_launcher.py:5: SettingWithCopyWarning:\n",
            "\n",
            "\n",
            "A value is trying to be set on a copy of a slice from a DataFrame.\n",
            "Try using .loc[row_indexer,col_indexer] = value instead\n",
            "\n",
            "See the caveats in the documentation: https://pandas.pydata.org/pandas-docs/stable/user_guide/indexing.html#returning-a-view-versus-a-copy\n",
            "\n",
            "/usr/local/lib/python3.7/dist-packages/ipykernel_launcher.py:6: SettingWithCopyWarning:\n",
            "\n",
            "\n",
            "A value is trying to be set on a copy of a slice from a DataFrame.\n",
            "Try using .loc[row_indexer,col_indexer] = value instead\n",
            "\n",
            "See the caveats in the documentation: https://pandas.pydata.org/pandas-docs/stable/user_guide/indexing.html#returning-a-view-versus-a-copy\n",
            "\n",
            "/usr/local/lib/python3.7/dist-packages/ipykernel_launcher.py:9: SettingWithCopyWarning:\n",
            "\n",
            "\n",
            "A value is trying to be set on a copy of a slice from a DataFrame.\n",
            "Try using .loc[row_indexer,col_indexer] = value instead\n",
            "\n",
            "See the caveats in the documentation: https://pandas.pydata.org/pandas-docs/stable/user_guide/indexing.html#returning-a-view-versus-a-copy\n",
            "\n"
          ],
          "name": "stderr"
        }
      ]
    },
    {
      "cell_type": "code",
      "metadata": {
        "colab": {
          "base_uri": "https://localhost:8080/"
        },
        "id": "lmR1oLBrmo0m",
        "outputId": "f5b430c6-93e9-4618-c156-9cc54a4364d9"
      },
      "source": [
        "print(df.isnull().sum()/len(df))"
      ],
      "execution_count": 12,
      "outputs": [
        {
          "output_type": "stream",
          "text": [
            "NATUREZA_ACIDENTE    0.007309\n",
            "TIPO                 0.000983\n",
            "AUTO                 0.000000\n",
            "MOTO                 0.000000\n",
            "CICLOM               0.000000\n",
            "CICLISTA             0.000000\n",
            "PEDESTRE             0.000000\n",
            "ONIBUS               0.000000\n",
            "CAMINHAO             0.000000\n",
            "VIATURA              0.000000\n",
            "TEMPO_CLIMA          0.739553\n",
            "SITUACAO_SEMAFORO    0.000000\n",
            "SINALIZACAO          0.744415\n",
            "CONDICAO_VIA         0.740381\n",
            "CONSERVACAO_VIA      0.744087\n",
            "PERIODO_DO_DIA       0.000000\n",
            "dtype: float64\n"
          ],
          "name": "stdout"
        }
      ]
    },
    {
      "cell_type": "code",
      "metadata": {
        "id": "ExY3-D-uqj3Y"
      },
      "source": [
        "df = df[df['CONSERVACAO_VIA'].notna()]\n",
        "df = df[df['SINALIZACAO'].notna()]\n",
        "df = df[df['CONDICAO_VIA'].notna()]\n",
        "df = df[df['TEMPO_CLIMA'].notna()]\n",
        "df = df[df['NATUREZA_ACIDENTE'].notna()]"
      ],
      "execution_count": 13,
      "outputs": []
    },
    {
      "cell_type": "code",
      "metadata": {
        "colab": {
          "base_uri": "https://localhost:8080/"
        },
        "id": "VGw42p-uqoOA",
        "outputId": "03e4a312-9488-47ab-fe5f-2c278e9d040f"
      },
      "source": [
        "len(df)"
      ],
      "execution_count": 14,
      "outputs": [
        {
          "output_type": "execute_result",
          "data": {
            "text/plain": [
              "14568"
            ]
          },
          "metadata": {
            "tags": []
          },
          "execution_count": 14
        }
      ]
    },
    {
      "cell_type": "code",
      "metadata": {
        "colab": {
          "base_uri": "https://localhost:8080/"
        },
        "id": "90k86hfCsQeg",
        "outputId": "64635fea-f9a3-4472-f977-5ed85dc2d5c0"
      },
      "source": [
        "print(df.isnull().sum()/len(df))"
      ],
      "execution_count": 15,
      "outputs": [
        {
          "output_type": "stream",
          "text": [
            "NATUREZA_ACIDENTE    0.0\n",
            "TIPO                 0.0\n",
            "AUTO                 0.0\n",
            "MOTO                 0.0\n",
            "CICLOM               0.0\n",
            "CICLISTA             0.0\n",
            "PEDESTRE             0.0\n",
            "ONIBUS               0.0\n",
            "CAMINHAO             0.0\n",
            "VIATURA              0.0\n",
            "TEMPO_CLIMA          0.0\n",
            "SITUACAO_SEMAFORO    0.0\n",
            "SINALIZACAO          0.0\n",
            "CONDICAO_VIA         0.0\n",
            "CONSERVACAO_VIA      0.0\n",
            "PERIODO_DO_DIA       0.0\n",
            "dtype: float64\n"
          ],
          "name": "stdout"
        }
      ]
    },
    {
      "cell_type": "code",
      "metadata": {
        "colab": {
          "base_uri": "https://localhost:8080/",
          "height": 204
        },
        "id": "LdIBsQTqJpM-",
        "outputId": "01c552b0-8360-458d-c882-93ed574fc437"
      },
      "source": [
        "df.head()"
      ],
      "execution_count": 16,
      "outputs": [
        {
          "output_type": "execute_result",
          "data": {
            "text/html": [
              "<div>\n",
              "<style scoped>\n",
              "    .dataframe tbody tr th:only-of-type {\n",
              "        vertical-align: middle;\n",
              "    }\n",
              "\n",
              "    .dataframe tbody tr th {\n",
              "        vertical-align: top;\n",
              "    }\n",
              "\n",
              "    .dataframe thead th {\n",
              "        text-align: right;\n",
              "    }\n",
              "</style>\n",
              "<table border=\"1\" class=\"dataframe\">\n",
              "  <thead>\n",
              "    <tr style=\"text-align: right;\">\n",
              "      <th></th>\n",
              "      <th>NATUREZA_ACIDENTE</th>\n",
              "      <th>TIPO</th>\n",
              "      <th>AUTO</th>\n",
              "      <th>MOTO</th>\n",
              "      <th>CICLOM</th>\n",
              "      <th>CICLISTA</th>\n",
              "      <th>PEDESTRE</th>\n",
              "      <th>ONIBUS</th>\n",
              "      <th>CAMINHAO</th>\n",
              "      <th>VIATURA</th>\n",
              "      <th>TEMPO_CLIMA</th>\n",
              "      <th>SITUACAO_SEMAFORO</th>\n",
              "      <th>SINALIZACAO</th>\n",
              "      <th>CONDICAO_VIA</th>\n",
              "      <th>CONSERVACAO_VIA</th>\n",
              "      <th>PERIODO_DO_DIA</th>\n",
              "    </tr>\n",
              "  </thead>\n",
              "  <tbody>\n",
              "    <tr>\n",
              "      <th>38916</th>\n",
              "      <td>SEM VITIMA</td>\n",
              "      <td>ABALROAMENTO LONGITUDINAL</td>\n",
              "      <td>2.0</td>\n",
              "      <td>0.0</td>\n",
              "      <td>0.0</td>\n",
              "      <td>0.0</td>\n",
              "      <td>0.0</td>\n",
              "      <td>0.0</td>\n",
              "      <td>0.0</td>\n",
              "      <td>0.0</td>\n",
              "      <td>BOM</td>\n",
              "      <td>SEM DEFEITO</td>\n",
              "      <td>PERFEITO ESTADO</td>\n",
              "      <td>SECA</td>\n",
              "      <td>PERFEITO ESTADO</td>\n",
              "      <td>MADRUGADA</td>\n",
              "    </tr>\n",
              "    <tr>\n",
              "      <th>38919</th>\n",
              "      <td>SEM VITIMA</td>\n",
              "      <td>COLISAO TRASEIRA</td>\n",
              "      <td>2.0</td>\n",
              "      <td>0.0</td>\n",
              "      <td>0.0</td>\n",
              "      <td>0.0</td>\n",
              "      <td>0.0</td>\n",
              "      <td>0.0</td>\n",
              "      <td>0.0</td>\n",
              "      <td>0.0</td>\n",
              "      <td>BOM</td>\n",
              "      <td>NAO EXISTE</td>\n",
              "      <td>NAO EXISTENTE</td>\n",
              "      <td>SECA</td>\n",
              "      <td>PERFEITO ESTADO</td>\n",
              "      <td>MANHA</td>\n",
              "    </tr>\n",
              "    <tr>\n",
              "      <th>38920</th>\n",
              "      <td>SEM VITIMA</td>\n",
              "      <td>COLISAO TRASEIRA</td>\n",
              "      <td>2.0</td>\n",
              "      <td>0.0</td>\n",
              "      <td>0.0</td>\n",
              "      <td>0.0</td>\n",
              "      <td>0.0</td>\n",
              "      <td>0.0</td>\n",
              "      <td>0.0</td>\n",
              "      <td>0.0</td>\n",
              "      <td>BOM</td>\n",
              "      <td>SEM DEFEITO</td>\n",
              "      <td>PERFEITO ESTADO</td>\n",
              "      <td>SECA</td>\n",
              "      <td>PERFEITO ESTADO</td>\n",
              "      <td>MANHA</td>\n",
              "    </tr>\n",
              "    <tr>\n",
              "      <th>38921</th>\n",
              "      <td>SEM VITIMA</td>\n",
              "      <td>ABALROAMENTO LONGITUDINAL</td>\n",
              "      <td>0.0</td>\n",
              "      <td>0.0</td>\n",
              "      <td>0.0</td>\n",
              "      <td>0.0</td>\n",
              "      <td>0.0</td>\n",
              "      <td>1.0</td>\n",
              "      <td>1.0</td>\n",
              "      <td>0.0</td>\n",
              "      <td>BOM</td>\n",
              "      <td>NAO EXISTE</td>\n",
              "      <td>PERFEITO ESTADO</td>\n",
              "      <td>SECA</td>\n",
              "      <td>PERFEITO ESTADO</td>\n",
              "      <td>TARDE</td>\n",
              "    </tr>\n",
              "    <tr>\n",
              "      <th>38922</th>\n",
              "      <td>SEM VITIMA</td>\n",
              "      <td>CHOQUE VEICULO PARADO</td>\n",
              "      <td>2.0</td>\n",
              "      <td>0.0</td>\n",
              "      <td>0.0</td>\n",
              "      <td>0.0</td>\n",
              "      <td>0.0</td>\n",
              "      <td>0.0</td>\n",
              "      <td>0.0</td>\n",
              "      <td>0.0</td>\n",
              "      <td>BOM</td>\n",
              "      <td>NAO EXISTE</td>\n",
              "      <td>NAO EXISTENTE</td>\n",
              "      <td>SECA</td>\n",
              "      <td>PERFEITO ESTADO</td>\n",
              "      <td>TARDE</td>\n",
              "    </tr>\n",
              "  </tbody>\n",
              "</table>\n",
              "</div>"
            ],
            "text/plain": [
              "      NATUREZA_ACIDENTE  ... PERIODO_DO_DIA\n",
              "38916        SEM VITIMA  ...      MADRUGADA\n",
              "38919        SEM VITIMA  ...          MANHA\n",
              "38920        SEM VITIMA  ...          MANHA\n",
              "38921        SEM VITIMA  ...          TARDE\n",
              "38922        SEM VITIMA  ...          TARDE\n",
              "\n",
              "[5 rows x 16 columns]"
            ]
          },
          "metadata": {
            "tags": []
          },
          "execution_count": 16
        }
      ]
    },
    {
      "cell_type": "code",
      "metadata": {
        "colab": {
          "base_uri": "https://localhost:8080/"
        },
        "id": "wetLVxnyJ8Eg",
        "outputId": "a7965e95-4c69-42e8-b367-4b387ce78d65"
      },
      "source": [
        "df['TIPO'].unique()"
      ],
      "execution_count": 17,
      "outputs": [
        {
          "output_type": "execute_result",
          "data": {
            "text/plain": [
              "array(['ABALROAMENTO LONGITUDINAL', 'COLISAO TRASEIRA',\n",
              "       'CHOQUE VEICULO PARADO', 'ABALROAMENTO TRANSVERSAL', 'CAPOTAMENTO',\n",
              "       'COLISAO FRONTAL', 'COLISAO COM CICLISTA', 'ATROPELAMENTO',\n",
              "       'CHOQUE OBJETO FIXO', 'ATROPELAMENTO ANIMAL', 'COLISAO',\n",
              "       'ACID  DE PERCURSO', 'CHOQUE', 'TOMBAMENTO', 'ENGAVETAMENTO'],\n",
              "      dtype=object)"
            ]
          },
          "metadata": {
            "tags": []
          },
          "execution_count": 17
        }
      ]
    },
    {
      "cell_type": "code",
      "metadata": {
        "colab": {
          "base_uri": "https://localhost:8080/"
        },
        "id": "QVFIuHpLKGiw",
        "outputId": "0dbea47f-3948-4ac2-85a9-790129a14cca"
      },
      "source": [
        "df['TEMPO_CLIMA'].unique()"
      ],
      "execution_count": 18,
      "outputs": [
        {
          "output_type": "execute_result",
          "data": {
            "text/plain": [
              "array(['BOM', 'CHUVOSO', 'NUBLADO'], dtype=object)"
            ]
          },
          "metadata": {
            "tags": []
          },
          "execution_count": 18
        }
      ]
    },
    {
      "cell_type": "code",
      "metadata": {
        "colab": {
          "base_uri": "https://localhost:8080/"
        },
        "id": "eZcmbgsVKLli",
        "outputId": "2c350396-4a8b-40a2-9a64-a2b445a88835"
      },
      "source": [
        "df['SITUACAO_SEMAFORO'].unique()"
      ],
      "execution_count": 19,
      "outputs": [
        {
          "output_type": "execute_result",
          "data": {
            "text/plain": [
              "array(['SEM DEFEITO', 'NAO EXISTE', 'INTERMITENTE', 'SEM INFORMACAO',\n",
              "       'COM DEFEITO', 'DESLIGADO'], dtype=object)"
            ]
          },
          "metadata": {
            "tags": []
          },
          "execution_count": 19
        }
      ]
    },
    {
      "cell_type": "code",
      "metadata": {
        "colab": {
          "base_uri": "https://localhost:8080/"
        },
        "id": "NtjDVl4_KMJ5",
        "outputId": "de656c48-9e83-4973-ad9b-0d318a4c650b"
      },
      "source": [
        "df['SINALIZACAO'].unique()"
      ],
      "execution_count": 20,
      "outputs": [
        {
          "output_type": "execute_result",
          "data": {
            "text/plain": [
              "array(['PERFEITO ESTADO', 'NAO EXISTENTE', 'ILEGIVEL', 'INCOMPLETA'],\n",
              "      dtype=object)"
            ]
          },
          "metadata": {
            "tags": []
          },
          "execution_count": 20
        }
      ]
    },
    {
      "cell_type": "code",
      "metadata": {
        "colab": {
          "base_uri": "https://localhost:8080/"
        },
        "id": "tHABvrCkKL8n",
        "outputId": "f86d3899-d283-4a0c-86cf-260548fad7d2"
      },
      "source": [
        "df['CONDICAO_VIA'].unique()"
      ],
      "execution_count": 21,
      "outputs": [
        {
          "output_type": "execute_result",
          "data": {
            "text/plain": [
              "array(['SECA', 'MOLHADA', 'OUTROS', 'OLEOSA'], dtype=object)"
            ]
          },
          "metadata": {
            "tags": []
          },
          "execution_count": 21
        }
      ]
    },
    {
      "cell_type": "code",
      "metadata": {
        "colab": {
          "base_uri": "https://localhost:8080/"
        },
        "id": "WLN9ndbmKR93",
        "outputId": "31ccd1ce-2c63-4552-b51d-643a2fe383c0"
      },
      "source": [
        "df['CONSERVACAO_VIA'].unique()"
      ],
      "execution_count": 22,
      "outputs": [
        {
          "output_type": "execute_result",
          "data": {
            "text/plain": [
              "array(['PERFEITO ESTADO', 'MAL ILUMINADA', 'MAL CONSERVADA', 'NAO HA',\n",
              "       'OUTROS'], dtype=object)"
            ]
          },
          "metadata": {
            "tags": []
          },
          "execution_count": 22
        }
      ]
    },
    {
      "cell_type": "code",
      "metadata": {
        "colab": {
          "base_uri": "https://localhost:8080/"
        },
        "id": "lfbHgdIUKYRA",
        "outputId": "b0900bb7-6d18-4312-afe8-da0576309ed1"
      },
      "source": [
        "df['PERIODO_DO_DIA'].unique()"
      ],
      "execution_count": 23,
      "outputs": [
        {
          "output_type": "execute_result",
          "data": {
            "text/plain": [
              "array(['MADRUGADA', 'MANHA', 'TARDE', 'NOITE'], dtype=object)"
            ]
          },
          "metadata": {
            "tags": []
          },
          "execution_count": 23
        }
      ]
    },
    {
      "cell_type": "code",
      "metadata": {
        "id": "GXT1EYLBKUKq",
        "colab": {
          "base_uri": "https://localhost:8080/",
          "height": 111
        },
        "outputId": "297fdd21-d26f-467a-ca6a-4acc4a12254e"
      },
      "source": [
        "df.head(2)"
      ],
      "execution_count": 24,
      "outputs": [
        {
          "output_type": "execute_result",
          "data": {
            "text/html": [
              "<div>\n",
              "<style scoped>\n",
              "    .dataframe tbody tr th:only-of-type {\n",
              "        vertical-align: middle;\n",
              "    }\n",
              "\n",
              "    .dataframe tbody tr th {\n",
              "        vertical-align: top;\n",
              "    }\n",
              "\n",
              "    .dataframe thead th {\n",
              "        text-align: right;\n",
              "    }\n",
              "</style>\n",
              "<table border=\"1\" class=\"dataframe\">\n",
              "  <thead>\n",
              "    <tr style=\"text-align: right;\">\n",
              "      <th></th>\n",
              "      <th>NATUREZA_ACIDENTE</th>\n",
              "      <th>TIPO</th>\n",
              "      <th>AUTO</th>\n",
              "      <th>MOTO</th>\n",
              "      <th>CICLOM</th>\n",
              "      <th>CICLISTA</th>\n",
              "      <th>PEDESTRE</th>\n",
              "      <th>ONIBUS</th>\n",
              "      <th>CAMINHAO</th>\n",
              "      <th>VIATURA</th>\n",
              "      <th>TEMPO_CLIMA</th>\n",
              "      <th>SITUACAO_SEMAFORO</th>\n",
              "      <th>SINALIZACAO</th>\n",
              "      <th>CONDICAO_VIA</th>\n",
              "      <th>CONSERVACAO_VIA</th>\n",
              "      <th>PERIODO_DO_DIA</th>\n",
              "    </tr>\n",
              "  </thead>\n",
              "  <tbody>\n",
              "    <tr>\n",
              "      <th>38916</th>\n",
              "      <td>SEM VITIMA</td>\n",
              "      <td>ABALROAMENTO LONGITUDINAL</td>\n",
              "      <td>2.0</td>\n",
              "      <td>0.0</td>\n",
              "      <td>0.0</td>\n",
              "      <td>0.0</td>\n",
              "      <td>0.0</td>\n",
              "      <td>0.0</td>\n",
              "      <td>0.0</td>\n",
              "      <td>0.0</td>\n",
              "      <td>BOM</td>\n",
              "      <td>SEM DEFEITO</td>\n",
              "      <td>PERFEITO ESTADO</td>\n",
              "      <td>SECA</td>\n",
              "      <td>PERFEITO ESTADO</td>\n",
              "      <td>MADRUGADA</td>\n",
              "    </tr>\n",
              "    <tr>\n",
              "      <th>38919</th>\n",
              "      <td>SEM VITIMA</td>\n",
              "      <td>COLISAO TRASEIRA</td>\n",
              "      <td>2.0</td>\n",
              "      <td>0.0</td>\n",
              "      <td>0.0</td>\n",
              "      <td>0.0</td>\n",
              "      <td>0.0</td>\n",
              "      <td>0.0</td>\n",
              "      <td>0.0</td>\n",
              "      <td>0.0</td>\n",
              "      <td>BOM</td>\n",
              "      <td>NAO EXISTE</td>\n",
              "      <td>NAO EXISTENTE</td>\n",
              "      <td>SECA</td>\n",
              "      <td>PERFEITO ESTADO</td>\n",
              "      <td>MANHA</td>\n",
              "    </tr>\n",
              "  </tbody>\n",
              "</table>\n",
              "</div>"
            ],
            "text/plain": [
              "      NATUREZA_ACIDENTE  ... PERIODO_DO_DIA\n",
              "38916        SEM VITIMA  ...      MADRUGADA\n",
              "38919        SEM VITIMA  ...          MANHA\n",
              "\n",
              "[2 rows x 16 columns]"
            ]
          },
          "metadata": {
            "tags": []
          },
          "execution_count": 24
        }
      ]
    },
    {
      "cell_type": "code",
      "metadata": {
        "id": "FDAo6RAqG6FF"
      },
      "source": [
        "from sklearn.compose import ColumnTransformer\n",
        "from sklearn.preprocessing import OneHotEncoder\n",
        "X_df = df.drop('NATUREZA_ACIDENTE', axis=1)\n",
        "ct = ColumnTransformer(transformers=[('encoder', OneHotEncoder(),[0,9,10,11,12,13,14])],remainder='passthrough')\n",
        "X_df = np.array(ct.fit_transform(X_df))"
      ],
      "execution_count": 25,
      "outputs": []
    },
    {
      "cell_type": "code",
      "metadata": {
        "colab": {
          "base_uri": "https://localhost:8080/"
        },
        "id": "MW-xEY-rHNb3",
        "outputId": "fee55048-e653-4433-cfa8-6511acdc74a9"
      },
      "source": [
        "print(X_df[0])"
      ],
      "execution_count": 26,
      "outputs": [
        {
          "output_type": "stream",
          "text": [
            "[1. 0. 0. 0. 0. 0. 0. 0. 0. 0. 0. 0. 0. 0. 0. 1. 0. 0. 0. 0. 0. 0. 1. 0.\n",
            " 0. 0. 0. 1. 0. 0. 0. 1. 0. 0. 0. 0. 1. 1. 0. 0. 0. 2. 0. 0. 0. 0. 0. 0.\n",
            " 0.]\n"
          ],
          "name": "stdout"
        }
      ]
    },
    {
      "cell_type": "code",
      "metadata": {
        "id": "QZl2XJQksTLb"
      },
      "source": [
        "# Dados\n",
        "from sklearn.metrics import accuracy_score, f1_score, precision_score, recall_score\n",
        "from sklearn.model_selection import train_test_split\n",
        "import seaborn as sns\n",
        "#X_df = df.drop('NATUREZA_ACIDENTE', axis=1)\n",
        "y_df = df['NATUREZA_ACIDENTE']\n",
        "Xtrain, Xtest, ytrain, ytest = train_test_split(X_df, y_df, test_size=0.2, random_state=1)\n",
        "\n",
        "Xtrain, X_val, ytrain, y_val = train_test_split(Xtrain, ytrain, test_size=0.25, random_state=1) # 0.25 x 0.8 = 0.2\n",
        "#Xtrain, Xtest, ytrain, ytest = train_test_split(X_df, y_df,\n",
        "#                                                random_state=1)"
      ],
      "execution_count": 27,
      "outputs": []
    },
    {
      "cell_type": "markdown",
      "metadata": {
        "id": "Qv2e64wXyRVl"
      },
      "source": [
        "# Experimentos Gerais"
      ]
    },
    {
      "cell_type": "markdown",
      "metadata": {
        "id": "xUmiu5Vr4HqA"
      },
      "source": [
        "## GAUSSIANNB"
      ]
    },
    {
      "cell_type": "code",
      "metadata": {
        "id": "-HQh7Maqo3R-"
      },
      "source": [
        "#experiment_id = mlflow.create_experiment(\"Experimentos Gerais\")\n",
        "#experiment = mlflow.get_experiment(experiment_id)"
      ],
      "execution_count": 28,
      "outputs": []
    },
    {
      "cell_type": "code",
      "metadata": {
        "id": "vxjj7XvRzkTg"
      },
      "source": [
        "from sklearn.naive_bayes import GaussianNB # 1. escolha da técnica\n",
        "model = GaussianNB()                       # 2. instanciação do modelo\n",
        "\n",
        "model.fit(Xtrain, ytrain)                  # 3. criação do modelo\n",
        "y_model = model.predict(X_val)             # 4. predição em novos dados\n",
        "ypred_train = model.predict(Xtrain)  \n",
        "\n",
        "with mlflow.start_run(run_name=\"Gaussian Naive Bayes - Train\"):\n",
        "  mlflow.log_metric(\"Accuracy\", accuracy_score(ytrain, ypred_train))\n",
        "  mlflow.log_metric(\"Precision\", precision_score(ytrain, ypred_train, average='macro'))\n",
        "  mlflow.log_metric(\"Recall score\", recall_score(ytrain, ypred_train, average='macro'))\n",
        "  mlflow.log_metric(\"F1 score\", f1_score(ytrain, ypred_train,average='macro'))\n",
        "\n",
        "with mlflow.start_run(run_name=\"Gaussian Naive Bayes - Validation\"):\n",
        "  mlflow.log_metric(\"Accuracy\", accuracy_score(y_val, y_model))\n",
        "  mlflow.log_metric(\"Precision\", precision_score(y_val, y_model, average='macro'))\n",
        "  mlflow.log_metric(\"Recall score\", recall_score(y_val, y_model, average='macro'))\n",
        "  mlflow.log_metric(\"F1 score\", f1_score(y_val, y_model,average='macro'))"
      ],
      "execution_count": 29,
      "outputs": []
    },
    {
      "cell_type": "code",
      "metadata": {
        "id": "82ozkwVFZaS-"
      },
      "source": [
        ""
      ],
      "execution_count": 29,
      "outputs": []
    },
    {
      "cell_type": "markdown",
      "metadata": {
        "id": "vzNO8CWn4FfY"
      },
      "source": [
        "## MLP"
      ]
    },
    {
      "cell_type": "code",
      "metadata": {
        "id": "E2KfZqOWzsYO",
        "colab": {
          "base_uri": "https://localhost:8080/"
        },
        "outputId": "668ba677-db84-4643-c43c-fdd16c425a76"
      },
      "source": [
        "from sklearn.neural_network import MLPClassifier\n",
        "model = MLPClassifier(hidden_layer_sizes=(100,100,100), max_iter=50, alpha=0.0001, solver='sgd', verbose=10,  random_state=21,tol=0.000000001)\n",
        "model.fit(Xtrain, ytrain)                 \n",
        "y_model = model.predict(X_val)           \n",
        "ypred_train = model.predict(Xtrain)      "
      ],
      "execution_count": 30,
      "outputs": [
        {
          "output_type": "stream",
          "text": [
            "Iteration 1, loss = 0.58818649\n",
            "Iteration 2, loss = 0.52302285\n",
            "Iteration 3, loss = 0.50534097\n",
            "Iteration 4, loss = 0.48867542\n",
            "Iteration 5, loss = 0.47192654\n",
            "Iteration 6, loss = 0.45495726\n",
            "Iteration 7, loss = 0.43817591\n",
            "Iteration 8, loss = 0.42196119\n",
            "Iteration 9, loss = 0.40644047\n",
            "Iteration 10, loss = 0.39219508\n",
            "Iteration 11, loss = 0.37990464\n",
            "Iteration 12, loss = 0.36921189\n",
            "Iteration 13, loss = 0.36059302\n",
            "Iteration 14, loss = 0.35355778\n",
            "Iteration 15, loss = 0.34790613\n",
            "Iteration 16, loss = 0.34338793\n",
            "Iteration 17, loss = 0.33944440\n",
            "Iteration 18, loss = 0.33618231\n",
            "Iteration 19, loss = 0.33343200\n",
            "Iteration 20, loss = 0.33089463\n",
            "Iteration 21, loss = 0.32854247\n",
            "Iteration 22, loss = 0.32648108\n",
            "Iteration 23, loss = 0.32464116\n",
            "Iteration 24, loss = 0.32279620\n",
            "Iteration 25, loss = 0.32111168\n",
            "Iteration 26, loss = 0.31958925\n",
            "Iteration 27, loss = 0.31815491\n",
            "Iteration 28, loss = 0.31675351\n",
            "Iteration 29, loss = 0.31548677\n",
            "Iteration 30, loss = 0.31421752\n",
            "Iteration 31, loss = 0.31313802\n",
            "Iteration 32, loss = 0.31210234\n",
            "Iteration 33, loss = 0.31111977\n",
            "Iteration 34, loss = 0.31011537\n",
            "Iteration 35, loss = 0.30913621\n",
            "Iteration 36, loss = 0.30836893\n",
            "Iteration 37, loss = 0.30760406\n",
            "Iteration 38, loss = 0.30664841\n",
            "Iteration 39, loss = 0.30592858\n",
            "Iteration 40, loss = 0.30528278\n",
            "Iteration 41, loss = 0.30450803\n",
            "Iteration 42, loss = 0.30393309\n",
            "Iteration 43, loss = 0.30326748\n",
            "Iteration 44, loss = 0.30278670\n",
            "Iteration 45, loss = 0.30198635\n",
            "Iteration 46, loss = 0.30154464\n",
            "Iteration 47, loss = 0.30089913\n",
            "Iteration 48, loss = 0.30036090\n",
            "Iteration 49, loss = 0.29985331\n",
            "Iteration 50, loss = 0.29935175\n"
          ],
          "name": "stdout"
        },
        {
          "output_type": "stream",
          "text": [
            "/usr/local/lib/python3.7/dist-packages/sklearn/neural_network/_multilayer_perceptron.py:571: ConvergenceWarning:\n",
            "\n",
            "Stochastic Optimizer: Maximum iterations (50) reached and the optimization hasn't converged yet.\n",
            "\n"
          ],
          "name": "stderr"
        }
      ]
    },
    {
      "cell_type": "code",
      "metadata": {
        "id": "BZOY3cEG3Q5n"
      },
      "source": [
        "with mlflow.start_run(run_name=\"MLP Classifier - Train\"):\n",
        "     \n",
        "  #print(\"ACC TRAINING:\" + str(accuracy_score(ytrain, ypred_train)))\n",
        "  #print(\"ACC TEST:\" + str(accuracy_score(ytest, y_model)))\n",
        "  mlflow.log_metric(\"Accuracy\", accuracy_score(ytrain, ypred_train))\n",
        "  mlflow.log_metric(\"Precision\", precision_score(ytrain, ypred_train, average='macro'))\n",
        "  mlflow.log_metric(\"Recall score\", recall_score(ytrain, ypred_train, average='macro'))\n",
        "  mlflow.log_metric(\"F1 score\", f1_score(ytrain, ypred_train,average='macro'))\n",
        "\n",
        "with mlflow.start_run(run_name=\"MLP Classifier- Validation\"):\n",
        "  mlflow.log_metric(\"Accuracy\", accuracy_score(y_val, y_model))\n",
        "  mlflow.log_metric(\"Precision\", precision_score(y_val, y_model, average='macro'))\n",
        "  mlflow.log_metric(\"Recall score\", recall_score(y_val, y_model, average='macro'))\n",
        "  mlflow.log_metric(\"F1 score\", f1_score(y_val, y_model,average='macro'))"
      ],
      "execution_count": 31,
      "outputs": []
    },
    {
      "cell_type": "markdown",
      "metadata": {
        "id": "fdQL2Z7x4Cm0"
      },
      "source": [
        "## RandomForest"
      ]
    },
    {
      "cell_type": "code",
      "metadata": {
        "id": "N_yEZtak3hrL"
      },
      "source": [
        "from sklearn.ensemble import RandomForestClassifier\n",
        "model = RandomForestClassifier(n_estimators=1000)\n",
        "model.fit(Xtrain, ytrain)                 \n",
        "y_model = model.predict(X_val)           \n",
        "ypred_train = model.predict(Xtrain)   "
      ],
      "execution_count": 32,
      "outputs": []
    },
    {
      "cell_type": "code",
      "metadata": {
        "id": "fQ0Q_rRa3zKj"
      },
      "source": [
        "with mlflow.start_run(run_name=\"Random Forest - Train\"):\n",
        "     \n",
        "  from sklearn.metrics import accuracy_score, f1_score, precision_score, recall_score\n",
        "  #print(\"ACC TRAINING:\" + str(accuracy_score(ytrain, ypred_train)))\n",
        "  #print(\"ACC TEST:\" + str(accuracy_score(ytest, y_model)))\n",
        "  mlflow.log_metric(\"Accuracy\", accuracy_score(ytrain, ypred_train))\n",
        "  mlflow.log_metric(\"Precision\", precision_score(ytrain, ypred_train, average='macro'))\n",
        "  mlflow.log_metric(\"Recall score\", recall_score(ytrain, ypred_train, average='macro'))\n",
        "  mlflow.log_metric(\"F1 score\", f1_score(ytrain, ypred_train,average='macro'))\n",
        "\n",
        "with mlflow.start_run(run_name=\"Random Forest - Validation\"):\n",
        "  mlflow.log_metric(\"Accuracy\", accuracy_score(y_val, y_model))\n",
        "  mlflow.log_metric(\"Precision\", precision_score(y_val, y_model, average='macro'))\n",
        "  mlflow.log_metric(\"Recall score\", recall_score(y_val, y_model, average='macro'))\n",
        "  mlflow.log_metric(\"F1 score\", f1_score(y_val, y_model,average='macro'))"
      ],
      "execution_count": 33,
      "outputs": []
    },
    {
      "cell_type": "markdown",
      "metadata": {
        "id": "q70C2VPj4Axo"
      },
      "source": [
        "## KNN"
      ]
    },
    {
      "cell_type": "code",
      "metadata": {
        "id": "kw7QHfXC3z7L"
      },
      "source": [
        "from sklearn.neighbors import KNeighborsClassifier\n",
        "model = KNeighborsClassifier(n_neighbors=1)\n",
        "model.fit(Xtrain, ytrain)                 \n",
        "y_model = model.predict(X_val)           \n",
        "ypred_train = model.predict(Xtrain)"
      ],
      "execution_count": 34,
      "outputs": []
    },
    {
      "cell_type": "code",
      "metadata": {
        "id": "rBarIR5i39GQ"
      },
      "source": [
        "with mlflow.start_run(run_name=\"KNeighbors Classifier - Train\"):\n",
        "     \n",
        "  from sklearn.metrics import accuracy_score, f1_score, precision_score, recall_score\n",
        "  #print(\"ACC TRAINING:\" + str(accuracy_score(ytrain, ypred_train)))\n",
        "  #print(\"ACC TEST:\" + str(accuracy_score(ytest, y_model)))\n",
        "  mlflow.log_metric(\"Accuracy\", accuracy_score(ytrain, ypred_train))\n",
        "  mlflow.log_metric(\"Precision\", precision_score(ytrain, ypred_train, average='macro'))\n",
        "  mlflow.log_metric(\"Recall score\", recall_score(ytrain, ypred_train, average='macro'))\n",
        "  mlflow.log_metric(\"F1 score\", f1_score(ytrain, ypred_train,average='macro'))\n",
        "\n",
        "with mlflow.start_run(run_name=\"KNeighbors Classifier - Validation\"):\n",
        "  mlflow.log_metric(\"Accuracy\", accuracy_score(y_val, y_model))\n",
        "  mlflow.log_metric(\"Precision\", precision_score(y_val, y_model, average='macro'))\n",
        "  mlflow.log_metric(\"Recall score\", recall_score(y_val, y_model, average='macro'))\n",
        "  mlflow.log_metric(\"F1 score\", f1_score(y_val, y_model,average='macro'))"
      ],
      "execution_count": 35,
      "outputs": []
    },
    {
      "cell_type": "code",
      "metadata": {
        "id": "VRcGbXG639rS",
        "colab": {
          "base_uri": "https://localhost:8080/"
        },
        "outputId": "ba12fdb7-d663-4f41-ccbc-b769a87f0a81"
      },
      "source": [
        "#run tracking UI in the background\n",
        "get_ipython().system_raw(\"mlflow ui --port 5000 &\") # run tracking UI in the background\n",
        "\n",
        "# create remote tunnel using ngrok.com to allow local port access\n",
        "# borrowed from https://colab.research.google.com/github/alfozan/MLflow-GBRT-demo/blob/master/MLflow-GBRT-demo.ipynb#scrollTo=4h3bKHMYUIG6\n",
        "\n",
        "from pyngrok import ngrok\n",
        "\n",
        "# Terminate open tunnels if exist\n",
        "ngrok.kill()\n",
        "\n",
        "# Setting the authtoken (optional)\n",
        "# Get your authtoken from https://dashboard.ngrok.com/auth\n",
        "NGROK_AUTH_TOKEN = \"\"\n",
        "ngrok.set_auth_token(NGROK_AUTH_TOKEN)\n",
        "# Open an HTTPs tunnel on port 5000 for http://localhost:5000\n",
        "ngrok_tunnel = ngrok.connect(addr=\"5000\", proto=\"http\", bind_tls=True , name='Exp')\n",
        "print(\"MLflow Tracking UI:\", ngrok_tunnel.public_url)"
      ],
      "execution_count": 36,
      "outputs": [
        {
          "output_type": "stream",
          "text": [
            "MLflow Tracking UI: https://1d3a305692db.ngrok.io\n"
          ],
          "name": "stdout"
        }
      ]
    },
    {
      "cell_type": "markdown",
      "metadata": {
        "id": "GfXRAk6soeEK"
      },
      "source": [
        "### Hiperparametros com o OPTUNA"
      ]
    },
    {
      "cell_type": "code",
      "metadata": {
        "id": "B7YYXr_Hov23"
      },
      "source": [
        "experiment_id = mlflow.create_experiment(\"Hiperparametros - Optuna\")\n",
        "experiment = mlflow.get_experiment(experiment_id)"
      ],
      "execution_count": null,
      "outputs": []
    },
    {
      "cell_type": "code",
      "metadata": {
        "id": "m-MnyeB-dosm",
        "colab": {
          "base_uri": "https://localhost:8080/"
        },
        "outputId": "3c0cde37-3935-409b-dda3-023e5480fb01"
      },
      "source": [
        "import optuna\n",
        "classes = list(set(y_df))\n",
        "#Step 1. Define an objective function to be maximized.\n",
        "def objective(trial):\n",
        "\n",
        "    classifier_name = trial.suggest_categorical(\"classifier\", [\"GaussianNB\", \"RandomForest\",\"KNN\",\"MLP\"])\n",
        "    \n",
        "    # Step 2. Setup values for the hyperparameters:\n",
        "    if classifier_name == 'GaussianNB':\n",
        "        smoothing = trial.suggest_float(\"smoothing\", 1e-10, 1e-8, log=True)\n",
        "        classifier_obj = GaussianNB(var_smoothing=smoothing)\n",
        "    elif classifier_name == 'RandomForest':\n",
        "        rf_n_estimators = trial.suggest_int(\"rf_n_estimators\", 10, 1000)\n",
        "        rf_max_depth = trial.suggest_int(\"rf_max_depth\", 2, 32, log=True)\n",
        "        classifier_obj = RandomForestClassifier(\n",
        "            max_depth=rf_max_depth, n_estimators=rf_n_estimators\n",
        "        )\n",
        "    elif classifier_name == 'KNN':\n",
        "        neighbors = trial.suggest_int(\"neighbors\", 1, 10)\n",
        "        algorithm = trial.suggest_categorical(\"algorithm\", [\"auto\", \"ball_tree\", \"kd_tree\", \"brute\"])\n",
        "        classifier_obj = KNeighborsClassifier(n_neighbors=neighbors, algorithm=algorithm)\n",
        "\n",
        "    else:\n",
        "        neurons = trial.suggest_int(\"neurons\", 50, 200)\n",
        "        depth = trial.suggest_int(\"depth\",1,4)\n",
        "        layer_sizes = tuple([neurons for _ in range(depth)])\n",
        "        alpha = trial.suggest_float(\"alpha\",0.000001,0.001)\n",
        "        activation_function = trial.suggest_categorical(\"activation_function\",[\"identity\",\"logistic\",\"tanh\",\"relu\"])\n",
        "        \n",
        "        classifier_obj = MLPClassifier(hidden_layer_sizes=layer_sizes, alpha=alpha, activation=activation_function)\n",
        "    for step in range(100):\n",
        "        classifier_obj.fit(Xtrain, ytrain)\n",
        "        \n",
        "        # Report intermediate objective value.\n",
        "        intermediate_value = classifier_obj.score(X_val, y_val)\n",
        "        trial.report(intermediate_value, step)\n",
        "\n",
        "        # Handle pruning based on the intermediate value.\n",
        "        if trial.should_prune():\n",
        "            raise optuna.TrialPruned()\n",
        "        return intermediate_value\n",
        "\n",
        "# Step 4: Running it\n",
        "study = optuna.create_study(direction=\"maximize\")\n",
        "study.optimize(objective, n_trials=100)\n",
        "\n",
        "# Calculating the pruned and completed trials\n",
        "pruned_trials = [t for t in study.trials if t.state == optuna.trial.TrialState.PRUNED]\n",
        "complete_trials = [t for t in study.trials if t.state == optuna.trial.TrialState.COMPLETE]\n",
        "\n",
        "print(\"  Number of finished trials: \", len(study.trials))\n",
        "print(\"  Number of pruned trials: \", len(pruned_trials))\n",
        "print(\"  Number of complete trials: \", len(complete_trials))\n",
        "\n",
        "\n",
        "with mlflow.start_run(experiment_id=1 , run_name=f\"BEST GENERAL METHOD - [{study.best_params['classifier']}]\"):\n",
        "  mlflow.log_metric(\"Accuracy\",study.best_value)\n",
        "  mlflow.log_params(study.best_params)"
      ],
      "execution_count": 37,
      "outputs": [
        {
          "output_type": "stream",
          "text": [
            "\u001b[32m[I 2021-08-16 04:38:38,381]\u001b[0m A new study created in memory with name: no-name-626c3506-c15f-477b-807a-fa4981ea237a\u001b[0m\n",
            "/usr/local/lib/python3.7/dist-packages/sklearn/neural_network/_multilayer_perceptron.py:571: ConvergenceWarning:\n",
            "\n",
            "Stochastic Optimizer: Maximum iterations (200) reached and the optimization hasn't converged yet.\n",
            "\n",
            "\u001b[32m[I 2021-08-16 04:38:55,814]\u001b[0m Trial 0 finished with value: 0.8459162663006177 and parameters: {'classifier': 'MLP', 'neurons': 144, 'depth': 1, 'alpha': 0.0007109020616390485, 'activation_function': 'relu'}. Best is trial 0 with value: 0.8459162663006177.\u001b[0m\n",
            "\u001b[32m[I 2021-08-16 04:38:57,122]\u001b[0m Trial 1 finished with value: 0.8596431022649279 and parameters: {'classifier': 'KNN', 'neighbors': 6, 'algorithm': 'auto'}. Best is trial 1 with value: 0.8596431022649279.\u001b[0m\n",
            "\u001b[32m[I 2021-08-16 04:39:16,758]\u001b[0m Trial 2 finished with value: 0.8726835964310227 and parameters: {'classifier': 'MLP', 'neurons': 146, 'depth': 1, 'alpha': 0.0004941525658752639, 'activation_function': 'logistic'}. Best is trial 2 with value: 0.8726835964310227.\u001b[0m\n",
            "\u001b[32m[I 2021-08-16 04:39:45,221]\u001b[0m Trial 3 finished with value: 0.8709677419354839 and parameters: {'classifier': 'MLP', 'neurons': 200, 'depth': 1, 'alpha': 0.00014311506352582243, 'activation_function': 'logistic'}. Best is trial 2 with value: 0.8726835964310227.\u001b[0m\n",
            "\u001b[32m[I 2021-08-16 04:39:49,220]\u001b[0m Trial 4 finished with value: 0.8417982155113246 and parameters: {'classifier': 'RandomForest', 'rf_n_estimators': 841, 'rf_max_depth': 4}. Best is trial 2 with value: 0.8726835964310227.\u001b[0m\n",
            "\u001b[32m[I 2021-08-16 04:39:49,262]\u001b[0m Trial 5 pruned. \u001b[0m\n",
            "\u001b[32m[I 2021-08-16 04:39:55,939]\u001b[0m Trial 6 finished with value: 0.8661633493479753 and parameters: {'classifier': 'RandomForest', 'rf_n_estimators': 846, 'rf_max_depth': 14}. Best is trial 2 with value: 0.8726835964310227.\u001b[0m\n",
            "\u001b[32m[I 2021-08-16 04:39:55,986]\u001b[0m Trial 7 pruned. \u001b[0m\n",
            "\u001b[32m[I 2021-08-16 04:39:56,027]\u001b[0m Trial 8 pruned. \u001b[0m\n",
            "\u001b[32m[I 2021-08-16 04:39:57,287]\u001b[0m Trial 9 pruned. \u001b[0m\n",
            "\u001b[32m[I 2021-08-16 04:40:24,609]\u001b[0m Trial 10 finished with value: 0.8754289636238847 and parameters: {'classifier': 'MLP', 'neurons': 50, 'depth': 4, 'alpha': 0.0004075456893296385, 'activation_function': 'logistic'}. Best is trial 10 with value: 0.8754289636238847.\u001b[0m\n",
            "\u001b[32m[I 2021-08-16 04:40:44,641]\u001b[0m Trial 11 finished with value: 0.8706245710363761 and parameters: {'classifier': 'MLP', 'neurons': 55, 'depth': 4, 'alpha': 0.0003958197052773924, 'activation_function': 'logistic'}. Best is trial 10 with value: 0.8754289636238847.\u001b[0m\n",
            "\u001b[32m[I 2021-08-16 04:40:47,534]\u001b[0m Trial 12 finished with value: 0.8737131091283459 and parameters: {'classifier': 'MLP', 'neurons': 55, 'depth': 4, 'alpha': 0.0005031151449777895, 'activation_function': 'identity'}. Best is trial 10 with value: 0.8754289636238847.\u001b[0m\n",
            "\u001b[32m[I 2021-08-16 04:40:51,491]\u001b[0m Trial 13 finished with value: 0.8730267673301304 and parameters: {'classifier': 'MLP', 'neurons': 57, 'depth': 4, 'alpha': 0.0003469652295253523, 'activation_function': 'identity'}. Best is trial 10 with value: 0.8754289636238847.\u001b[0m\n",
            "\u001b[32m[I 2021-08-16 04:40:53,437]\u001b[0m Trial 14 pruned. \u001b[0m\n",
            "/usr/local/lib/python3.7/dist-packages/sklearn/neural_network/_multilayer_perceptron.py:571: ConvergenceWarning:\n",
            "\n",
            "Stochastic Optimizer: Maximum iterations (200) reached and the optimization hasn't converged yet.\n",
            "\n",
            "\u001b[32m[I 2021-08-16 04:41:47,842]\u001b[0m Trial 15 pruned. \u001b[0m\n",
            "\u001b[32m[I 2021-08-16 04:41:55,581]\u001b[0m Trial 16 pruned. \u001b[0m\n",
            "\u001b[32m[I 2021-08-16 04:41:58,281]\u001b[0m Trial 17 finished with value: 0.8785175017158545 and parameters: {'classifier': 'MLP', 'neurons': 50, 'depth': 4, 'alpha': 0.0001946484649645652, 'activation_function': 'identity'}. Best is trial 17 with value: 0.8785175017158545.\u001b[0m\n",
            "\u001b[32m[I 2021-08-16 04:41:59,723]\u001b[0m Trial 18 pruned. \u001b[0m\n",
            "\u001b[32m[I 2021-08-16 04:42:16,936]\u001b[0m Trial 19 pruned. \u001b[0m\n",
            "/usr/local/lib/python3.7/dist-packages/sklearn/neural_network/_multilayer_perceptron.py:571: ConvergenceWarning:\n",
            "\n",
            "Stochastic Optimizer: Maximum iterations (200) reached and the optimization hasn't converged yet.\n",
            "\n",
            "\u001b[32m[I 2021-08-16 04:43:23,369]\u001b[0m Trial 20 pruned. \u001b[0m\n",
            "\u001b[32m[I 2021-08-16 04:43:27,861]\u001b[0m Trial 21 pruned. \u001b[0m\n",
            "\u001b[32m[I 2021-08-16 04:43:34,799]\u001b[0m Trial 22 finished with value: 0.8730267673301304 and parameters: {'classifier': 'MLP', 'neurons': 70, 'depth': 4, 'alpha': 0.0002964507027312205, 'activation_function': 'identity'}. Best is trial 17 with value: 0.8785175017158545.\u001b[0m\n",
            "\u001b[32m[I 2021-08-16 04:43:40,740]\u001b[0m Trial 23 pruned. \u001b[0m\n",
            "\u001b[32m[I 2021-08-16 04:44:04,549]\u001b[0m Trial 24 pruned. \u001b[0m\n",
            "\u001b[32m[I 2021-08-16 04:44:07,675]\u001b[0m Trial 25 finished with value: 0.8747426218256692 and parameters: {'classifier': 'MLP', 'neurons': 51, 'depth': 4, 'alpha': 1.0567104897067468e-05, 'activation_function': 'identity'}. Best is trial 17 with value: 0.8785175017158545.\u001b[0m\n",
            "\u001b[32m[I 2021-08-16 04:44:07,727]\u001b[0m Trial 26 pruned. \u001b[0m\n",
            "\u001b[32m[I 2021-08-16 04:44:08,228]\u001b[0m Trial 27 pruned. \u001b[0m\n",
            "\u001b[32m[I 2021-08-16 04:44:08,739]\u001b[0m Trial 28 pruned. \u001b[0m\n",
            "\u001b[32m[I 2021-08-16 04:44:13,474]\u001b[0m Trial 29 finished with value: 0.8737131091283459 and parameters: {'classifier': 'MLP', 'neurons': 114, 'depth': 2, 'alpha': 2.563626629404111e-05, 'activation_function': 'identity'}. Best is trial 17 with value: 0.8785175017158545.\u001b[0m\n",
            "\u001b[32m[I 2021-08-16 04:44:28,560]\u001b[0m Trial 30 finished with value: 0.8750857927247769 and parameters: {'classifier': 'MLP', 'neurons': 69, 'depth': 4, 'alpha': 0.00012414764727757292, 'activation_function': 'logistic'}. Best is trial 17 with value: 0.8785175017158545.\u001b[0m\n",
            "/usr/local/lib/python3.7/dist-packages/sklearn/neural_network/_multilayer_perceptron.py:571: ConvergenceWarning:\n",
            "\n",
            "Stochastic Optimizer: Maximum iterations (200) reached and the optimization hasn't converged yet.\n",
            "\n",
            "\u001b[32m[I 2021-08-16 04:45:18,260]\u001b[0m Trial 31 finished with value: 0.8733699382292381 and parameters: {'classifier': 'MLP', 'neurons': 70, 'depth': 4, 'alpha': 0.00011226863905220567, 'activation_function': 'logistic'}. Best is trial 17 with value: 0.8785175017158545.\u001b[0m\n",
            "/usr/local/lib/python3.7/dist-packages/sklearn/neural_network/_multilayer_perceptron.py:571: ConvergenceWarning:\n",
            "\n",
            "Stochastic Optimizer: Maximum iterations (200) reached and the optimization hasn't converged yet.\n",
            "\n",
            "\u001b[32m[I 2021-08-16 04:45:55,038]\u001b[0m Trial 32 pruned. \u001b[0m\n",
            "/usr/local/lib/python3.7/dist-packages/sklearn/neural_network/_multilayer_perceptron.py:571: ConvergenceWarning:\n",
            "\n",
            "Stochastic Optimizer: Maximum iterations (200) reached and the optimization hasn't converged yet.\n",
            "\n",
            "\u001b[32m[I 2021-08-16 04:46:43,771]\u001b[0m Trial 33 finished with value: 0.8730267673301304 and parameters: {'classifier': 'MLP', 'neurons': 70, 'depth': 4, 'alpha': 0.00024178307303356262, 'activation_function': 'logistic'}. Best is trial 17 with value: 0.8785175017158545.\u001b[0m\n",
            "\u001b[32m[I 2021-08-16 04:46:48,552]\u001b[0m Trial 34 pruned. \u001b[0m\n",
            "\u001b[32m[I 2021-08-16 04:47:27,029]\u001b[0m Trial 35 finished with value: 0.8747426218256692 and parameters: {'classifier': 'MLP', 'neurons': 79, 'depth': 4, 'alpha': 0.00015688768358454764, 'activation_function': 'logistic'}. Best is trial 17 with value: 0.8785175017158545.\u001b[0m\n",
            "\u001b[32m[I 2021-08-16 04:47:28,451]\u001b[0m Trial 36 pruned. \u001b[0m\n",
            "/usr/local/lib/python3.7/dist-packages/sklearn/neural_network/_multilayer_perceptron.py:571: ConvergenceWarning:\n",
            "\n",
            "Stochastic Optimizer: Maximum iterations (200) reached and the optimization hasn't converged yet.\n",
            "\n",
            "\u001b[32m[I 2021-08-16 04:48:00,222]\u001b[0m Trial 37 pruned. \u001b[0m\n",
            "\u001b[32m[I 2021-08-16 04:48:02,025]\u001b[0m Trial 38 pruned. \u001b[0m\n",
            "\u001b[32m[I 2021-08-16 04:48:02,061]\u001b[0m Trial 39 pruned. \u001b[0m\n",
            "\u001b[32m[I 2021-08-16 04:49:15,632]\u001b[0m Trial 40 pruned. \u001b[0m\n",
            "\u001b[32m[I 2021-08-16 04:49:49,712]\u001b[0m Trial 41 finished with value: 0.8737131091283459 and parameters: {'classifier': 'MLP', 'neurons': 84, 'depth': 4, 'alpha': 0.0001507763638356304, 'activation_function': 'logistic'}. Best is trial 17 with value: 0.8785175017158545.\u001b[0m\n",
            "\u001b[32m[I 2021-08-16 04:50:05,369]\u001b[0m Trial 42 finished with value: 0.8737131091283459 and parameters: {'classifier': 'MLP', 'neurons': 63, 'depth': 4, 'alpha': 0.000194973508029943, 'activation_function': 'logistic'}. Best is trial 17 with value: 0.8785175017158545.\u001b[0m\n",
            "\u001b[32m[I 2021-08-16 04:50:34,815]\u001b[0m Trial 43 finished with value: 0.8740562800274537 and parameters: {'classifier': 'MLP', 'neurons': 77, 'depth': 4, 'alpha': 2.0425286832330326e-06, 'activation_function': 'logistic'}. Best is trial 17 with value: 0.8785175017158545.\u001b[0m\n",
            "\u001b[32m[I 2021-08-16 04:51:06,219]\u001b[0m Trial 44 finished with value: 0.8733699382292381 and parameters: {'classifier': 'MLP', 'neurons': 62, 'depth': 4, 'alpha': 0.0003242687773276304, 'activation_function': 'logistic'}. Best is trial 17 with value: 0.8785175017158545.\u001b[0m\n",
            "\u001b[32m[I 2021-08-16 04:51:10,044]\u001b[0m Trial 45 pruned. \u001b[0m\n",
            "\u001b[32m[I 2021-08-16 04:51:10,082]\u001b[0m Trial 46 pruned. \u001b[0m\n",
            "\u001b[32m[I 2021-08-16 04:51:18,611]\u001b[0m Trial 47 pruned. \u001b[0m\n",
            "\u001b[32m[I 2021-08-16 04:52:17,827]\u001b[0m Trial 48 pruned. \u001b[0m\n",
            "\u001b[32m[I 2021-08-16 04:52:18,630]\u001b[0m Trial 49 pruned. \u001b[0m\n",
            "\u001b[32m[I 2021-08-16 04:53:02,667]\u001b[0m Trial 50 finished with value: 0.8737131091283459 and parameters: {'classifier': 'MLP', 'neurons': 77, 'depth': 4, 'alpha': 0.0008620053179643763, 'activation_function': 'logistic'}. Best is trial 17 with value: 0.8785175017158545.\u001b[0m\n",
            "\u001b[32m[I 2021-08-16 04:53:30,200]\u001b[0m Trial 51 finished with value: 0.8750857927247769 and parameters: {'classifier': 'MLP', 'neurons': 108, 'depth': 4, 'alpha': 3.3161167510636306e-06, 'activation_function': 'logistic'}. Best is trial 17 with value: 0.8785175017158545.\u001b[0m\n",
            "\u001b[32m[I 2021-08-16 04:54:25,907]\u001b[0m Trial 52 finished with value: 0.8740562800274537 and parameters: {'classifier': 'MLP', 'neurons': 110, 'depth': 4, 'alpha': 6.825118399252649e-05, 'activation_function': 'logistic'}. Best is trial 17 with value: 0.8785175017158545.\u001b[0m\n",
            "\u001b[32m[I 2021-08-16 04:54:56,775]\u001b[0m Trial 53 finished with value: 0.8737131091283459 and parameters: {'classifier': 'MLP', 'neurons': 137, 'depth': 4, 'alpha': 0.00013766726556740821, 'activation_function': 'logistic'}. Best is trial 17 with value: 0.8785175017158545.\u001b[0m\n",
            "\u001b[32m[I 2021-08-16 04:55:46,715]\u001b[0m Trial 54 finished with value: 0.8737131091283459 and parameters: {'classifier': 'MLP', 'neurons': 103, 'depth': 4, 'alpha': 0.00016571844443075113, 'activation_function': 'logistic'}. Best is trial 17 with value: 0.8785175017158545.\u001b[0m\n",
            "\u001b[32m[I 2021-08-16 04:57:01,662]\u001b[0m Trial 55 pruned. \u001b[0m\n",
            "\u001b[32m[I 2021-08-16 04:58:42,529]\u001b[0m Trial 56 pruned. \u001b[0m\n",
            "\u001b[32m[I 2021-08-16 04:58:46,286]\u001b[0m Trial 57 pruned. \u001b[0m\n",
            "\u001b[32m[I 2021-08-16 04:58:46,340]\u001b[0m Trial 58 pruned. \u001b[0m\n",
            "\u001b[32m[I 2021-08-16 04:58:52,002]\u001b[0m Trial 59 pruned. \u001b[0m\n",
            "\u001b[32m[I 2021-08-16 04:59:29,403]\u001b[0m Trial 60 pruned. \u001b[0m\n",
            "\u001b[32m[I 2021-08-16 05:00:29,665]\u001b[0m Trial 61 finished with value: 0.8743994509265615 and parameters: {'classifier': 'MLP', 'neurons': 75, 'depth': 4, 'alpha': 7.1910195246204656e-06, 'activation_function': 'logistic'}. Best is trial 17 with value: 0.8785175017158545.\u001b[0m\n",
            "\u001b[32m[I 2021-08-16 05:01:35,339]\u001b[0m Trial 62 pruned. \u001b[0m\n",
            "\u001b[32m[I 2021-08-16 05:01:56,550]\u001b[0m Trial 63 finished with value: 0.8737131091283459 and parameters: {'classifier': 'MLP', 'neurons': 57, 'depth': 4, 'alpha': 5.8994250808196814e-05, 'activation_function': 'logistic'}. Best is trial 17 with value: 0.8785175017158545.\u001b[0m\n",
            "\u001b[32m[I 2021-08-16 05:03:06,687]\u001b[0m Trial 64 pruned. \u001b[0m\n",
            "\u001b[32m[I 2021-08-16 05:03:24,492]\u001b[0m Trial 65 finished with value: 0.8737131091283459 and parameters: {'classifier': 'MLP', 'neurons': 101, 'depth': 4, 'alpha': 0.0005815156415395001, 'activation_function': 'identity'}. Best is trial 17 with value: 0.8785175017158545.\u001b[0m\n",
            "\u001b[32m[I 2021-08-16 05:03:27,500]\u001b[0m Trial 66 pruned. \u001b[0m\n",
            "/usr/local/lib/python3.7/dist-packages/sklearn/neural_network/_multilayer_perceptron.py:571: ConvergenceWarning:\n",
            "\n",
            "Stochastic Optimizer: Maximum iterations (200) reached and the optimization hasn't converged yet.\n",
            "\n",
            "\u001b[32m[I 2021-08-16 05:04:20,514]\u001b[0m Trial 67 finished with value: 0.8737131091283459 and parameters: {'classifier': 'MLP', 'neurons': 51, 'depth': 4, 'alpha': 5.722119615516175e-05, 'activation_function': 'logistic'}. Best is trial 17 with value: 0.8785175017158545.\u001b[0m\n",
            "\u001b[32m[I 2021-08-16 05:04:48,754]\u001b[0m Trial 68 pruned. \u001b[0m\n",
            "\u001b[32m[I 2021-08-16 05:04:57,060]\u001b[0m Trial 69 finished with value: 0.8750857927247769 and parameters: {'classifier': 'MLP', 'neurons': 64, 'depth': 4, 'alpha': 0.00037826518420699365, 'activation_function': 'identity'}. Best is trial 17 with value: 0.8785175017158545.\u001b[0m\n",
            "\u001b[32m[I 2021-08-16 05:05:01,052]\u001b[0m Trial 70 finished with value: 0.8757721345229924 and parameters: {'classifier': 'MLP', 'neurons': 65, 'depth': 3, 'alpha': 0.0004674310016937399, 'activation_function': 'identity'}. Best is trial 17 with value: 0.8785175017158545.\u001b[0m\n",
            "\u001b[32m[I 2021-08-16 05:05:06,581]\u001b[0m Trial 71 finished with value: 0.8747426218256692 and parameters: {'classifier': 'MLP', 'neurons': 65, 'depth': 2, 'alpha': 0.00044055395893020764, 'activation_function': 'identity'}. Best is trial 17 with value: 0.8785175017158545.\u001b[0m\n",
            "\u001b[32m[I 2021-08-16 05:05:11,428]\u001b[0m Trial 72 finished with value: 0.8740562800274537 and parameters: {'classifier': 'MLP', 'neurons': 56, 'depth': 3, 'alpha': 0.0004974217461355113, 'activation_function': 'identity'}. Best is trial 17 with value: 0.8785175017158545.\u001b[0m\n",
            "\u001b[32m[I 2021-08-16 05:05:17,835]\u001b[0m Trial 73 finished with value: 0.8768016472203157 and parameters: {'classifier': 'MLP', 'neurons': 66, 'depth': 4, 'alpha': 0.0003637870678883083, 'activation_function': 'identity'}. Best is trial 17 with value: 0.8785175017158545.\u001b[0m\n",
            "\u001b[32m[I 2021-08-16 05:05:20,054]\u001b[0m Trial 74 finished with value: 0.8747426218256692 and parameters: {'classifier': 'MLP', 'neurons': 65, 'depth': 2, 'alpha': 0.0004464072108000528, 'activation_function': 'identity'}. Best is trial 17 with value: 0.8785175017158545.\u001b[0m\n",
            "\u001b[32m[I 2021-08-16 05:05:23,270]\u001b[0m Trial 75 pruned. \u001b[0m\n",
            "\u001b[32m[I 2021-08-16 05:05:26,561]\u001b[0m Trial 76 pruned. \u001b[0m\n",
            "\u001b[32m[I 2021-08-16 05:05:30,471]\u001b[0m Trial 77 pruned. \u001b[0m\n",
            "\u001b[32m[I 2021-08-16 05:05:30,517]\u001b[0m Trial 78 pruned. \u001b[0m\n",
            "\u001b[32m[I 2021-08-16 05:05:33,072]\u001b[0m Trial 79 finished with value: 0.8740562800274537 and parameters: {'classifier': 'MLP', 'neurons': 64, 'depth': 2, 'alpha': 0.0005656611676059056, 'activation_function': 'identity'}. Best is trial 17 with value: 0.8785175017158545.\u001b[0m\n",
            "\u001b[32m[I 2021-08-16 05:05:34,799]\u001b[0m Trial 80 pruned. \u001b[0m\n",
            "\u001b[32m[I 2021-08-16 05:05:36,784]\u001b[0m Trial 81 pruned. \u001b[0m\n",
            "\u001b[32m[I 2021-08-16 05:05:39,547]\u001b[0m Trial 82 finished with value: 0.8737131091283459 and parameters: {'classifier': 'MLP', 'neurons': 71, 'depth': 2, 'alpha': 0.0005256365364978022, 'activation_function': 'identity'}. Best is trial 17 with value: 0.8785175017158545.\u001b[0m\n",
            "\u001b[32m[I 2021-08-16 05:05:42,851]\u001b[0m Trial 83 finished with value: 0.8757721345229924 and parameters: {'classifier': 'MLP', 'neurons': 56, 'depth': 4, 'alpha': 0.0003410424941398194, 'activation_function': 'identity'}. Best is trial 17 with value: 0.8785175017158545.\u001b[0m\n",
            "\u001b[32m[I 2021-08-16 05:05:47,804]\u001b[0m Trial 84 finished with value: 0.8774879890185312 and parameters: {'classifier': 'MLP', 'neurons': 58, 'depth': 4, 'alpha': 0.00031794376712207637, 'activation_function': 'identity'}. Best is trial 17 with value: 0.8785175017158545.\u001b[0m\n",
            "\u001b[32m[I 2021-08-16 05:05:52,618]\u001b[0m Trial 85 pruned. \u001b[0m\n",
            "\u001b[32m[I 2021-08-16 05:06:05,824]\u001b[0m Trial 86 finished with value: 0.8740562800274537 and parameters: {'classifier': 'MLP', 'neurons': 154, 'depth': 4, 'alpha': 0.00036700077395052365, 'activation_function': 'identity'}. Best is trial 17 with value: 0.8785175017158545.\u001b[0m\n",
            "\u001b[32m[I 2021-08-16 05:06:11,796]\u001b[0m Trial 87 pruned. \u001b[0m\n",
            "\u001b[32m[I 2021-08-16 05:06:18,169]\u001b[0m Trial 88 finished with value: 0.8774879890185312 and parameters: {'classifier': 'MLP', 'neurons': 54, 'depth': 4, 'alpha': 0.00030988350005381135, 'activation_function': 'identity'}. Best is trial 17 with value: 0.8785175017158545.\u001b[0m\n",
            "\u001b[32m[I 2021-08-16 05:06:21,704]\u001b[0m Trial 89 finished with value: 0.8743994509265615 and parameters: {'classifier': 'MLP', 'neurons': 54, 'depth': 4, 'alpha': 0.0003127806879646411, 'activation_function': 'identity'}. Best is trial 17 with value: 0.8785175017158545.\u001b[0m\n",
            "\u001b[32m[I 2021-08-16 05:06:28,840]\u001b[0m Trial 90 pruned. \u001b[0m\n",
            "\u001b[32m[I 2021-08-16 05:06:32,529]\u001b[0m Trial 91 finished with value: 0.8750857927247769 and parameters: {'classifier': 'MLP', 'neurons': 61, 'depth': 4, 'alpha': 0.000364181308914154, 'activation_function': 'identity'}. Best is trial 17 with value: 0.8785175017158545.\u001b[0m\n",
            "/usr/local/lib/python3.7/dist-packages/sklearn/neural_network/_multilayer_perceptron.py:571: ConvergenceWarning:\n",
            "\n",
            "Stochastic Optimizer: Maximum iterations (200) reached and the optimization hasn't converged yet.\n",
            "\n",
            "\u001b[32m[I 2021-08-16 05:07:28,919]\u001b[0m Trial 92 pruned. \u001b[0m\n",
            "\u001b[32m[I 2021-08-16 05:07:33,799]\u001b[0m Trial 93 pruned. \u001b[0m\n",
            "\u001b[32m[I 2021-08-16 05:07:39,185]\u001b[0m Trial 94 finished with value: 0.8778311599176389 and parameters: {'classifier': 'MLP', 'neurons': 59, 'depth': 4, 'alpha': 0.00025199494756605005, 'activation_function': 'identity'}. Best is trial 17 with value: 0.8785175017158545.\u001b[0m\n",
            "\u001b[32m[I 2021-08-16 05:07:43,992]\u001b[0m Trial 95 pruned. \u001b[0m\n",
            "\u001b[32m[I 2021-08-16 05:07:44,132]\u001b[0m Trial 96 pruned. \u001b[0m\n",
            "\u001b[32m[I 2021-08-16 05:07:44,168]\u001b[0m Trial 97 pruned. \u001b[0m\n",
            "\u001b[32m[I 2021-08-16 05:07:48,857]\u001b[0m Trial 98 pruned. \u001b[0m\n",
            "\u001b[32m[I 2021-08-16 05:08:08,745]\u001b[0m Trial 99 pruned. \u001b[0m\n"
          ],
          "name": "stderr"
        },
        {
          "output_type": "stream",
          "text": [
            "  Number of finished trials:  100\n",
            "  Number of pruned trials:  54\n",
            "  Number of complete trials:  46\n"
          ],
          "name": "stdout"
        }
      ]
    },
    {
      "cell_type": "code",
      "metadata": {
        "id": "ivP0-MIHoYNj"
      },
      "source": [
        ""
      ],
      "execution_count": null,
      "outputs": []
    },
    {
      "cell_type": "code",
      "metadata": {
        "id": "RyTZxJyZhqs1",
        "colab": {
          "base_uri": "https://localhost:8080/"
        },
        "outputId": "0597ccf6-1b3a-497b-ffc7-fb575122f8bb"
      },
      "source": [
        "import optuna\n",
        "classes = list(set(y_df))\n",
        "#Step 1. Define an objective function to be maximized.\n",
        "def objective(trial):\n",
        "    \n",
        "    # Step 2. Setup values for the hyperparameters:\n",
        "    \n",
        "    smoothing = trial.suggest_float(\"smoothing\", 1e-10, 1e-8, log=True)\n",
        "    classifier_obj = GaussianNB(var_smoothing=smoothing)\n",
        "    for step in range(100):\n",
        "        classifier_obj.fit(Xtrain, ytrain)\n",
        "        \n",
        "        # Report intermediate objective value.\n",
        "        intermediate_value = classifier_obj.score(X_val, y_val)\n",
        "        trial.report(intermediate_value, step)\n",
        "\n",
        "        # Handle pruning based on the intermediate value.\n",
        "        if trial.should_prune():\n",
        "            raise optuna.TrialPruned()\n",
        "        return intermediate_value\n",
        "\n",
        "# Step 4: Running it\n",
        "study = optuna.create_study(direction=\"maximize\")\n",
        "study.optimize(objective, n_trials=100)\n",
        "\n",
        "# Calculating the pruned and completed trials\n",
        "pruned_trials = [t for t in study.trials if t.state == optuna.trial.TrialState.PRUNED]\n",
        "complete_trials = [t for t in study.trials if t.state == optuna.trial.TrialState.COMPLETE]\n",
        "\n",
        "print(\"  Number of finished trials: \", len(study.trials))\n",
        "print(\"  Number of pruned trials: \", len(pruned_trials))\n",
        "print(\"  Number of complete trials: \", len(complete_trials))\n",
        "\n",
        "with mlflow.start_run(experiment_id=1 , run_name=\"BEST - GaussianNB\"):\n",
        "  mlflow.log_metric(\"Accuracy\",study.best_value)\n",
        "  mlflow.log_param(\"classifier\",\"Gaussian NB\")\n",
        "  mlflow.log_params(study.best_params)"
      ],
      "execution_count": null,
      "outputs": [
        {
          "output_type": "stream",
          "text": [
            "\u001b[32m[I 2021-08-15 23:31:08,533]\u001b[0m A new study created in memory with name: no-name-5b0dd8a7-fe6a-4d66-8eae-6e971180aeda\u001b[0m\n",
            "\u001b[32m[I 2021-08-15 23:31:08,566]\u001b[0m Trial 0 finished with value: 0.7882635552505147 and parameters: {'smoothing': 1.046993351736841e-09}. Best is trial 0 with value: 0.7882635552505147.\u001b[0m\n",
            "\u001b[32m[I 2021-08-15 23:31:08,597]\u001b[0m Trial 1 finished with value: 0.7882635552505147 and parameters: {'smoothing': 4.425686687277464e-09}. Best is trial 0 with value: 0.7882635552505147.\u001b[0m\n",
            "\u001b[32m[I 2021-08-15 23:31:08,629]\u001b[0m Trial 2 finished with value: 0.7882635552505147 and parameters: {'smoothing': 3.668108866568335e-09}. Best is trial 0 with value: 0.7882635552505147.\u001b[0m\n",
            "\u001b[32m[I 2021-08-15 23:31:08,659]\u001b[0m Trial 3 finished with value: 0.7882635552505147 and parameters: {'smoothing': 8.753059143342447e-09}. Best is trial 0 with value: 0.7882635552505147.\u001b[0m\n",
            "\u001b[32m[I 2021-08-15 23:31:08,689]\u001b[0m Trial 4 finished with value: 0.7882635552505147 and parameters: {'smoothing': 1.8163535714358813e-09}. Best is trial 0 with value: 0.7882635552505147.\u001b[0m\n",
            "\u001b[32m[I 2021-08-15 23:31:08,719]\u001b[0m Trial 5 finished with value: 0.7882635552505147 and parameters: {'smoothing': 9.108128296894198e-10}. Best is trial 0 with value: 0.7882635552505147.\u001b[0m\n",
            "\u001b[32m[I 2021-08-15 23:31:08,754]\u001b[0m Trial 6 finished with value: 0.7882635552505147 and parameters: {'smoothing': 2.5328995536761066e-10}. Best is trial 0 with value: 0.7882635552505147.\u001b[0m\n",
            "\u001b[32m[I 2021-08-15 23:31:08,786]\u001b[0m Trial 7 finished with value: 0.7882635552505147 and parameters: {'smoothing': 5.608385912780626e-09}. Best is trial 0 with value: 0.7882635552505147.\u001b[0m\n",
            "\u001b[32m[I 2021-08-15 23:31:08,816]\u001b[0m Trial 8 finished with value: 0.7882635552505147 and parameters: {'smoothing': 6.398859295565063e-09}. Best is trial 0 with value: 0.7882635552505147.\u001b[0m\n",
            "\u001b[32m[I 2021-08-15 23:31:08,847]\u001b[0m Trial 9 finished with value: 0.7886067261496225 and parameters: {'smoothing': 1.113953184491948e-10}. Best is trial 9 with value: 0.7886067261496225.\u001b[0m\n",
            "\u001b[32m[I 2021-08-15 23:31:08,880]\u001b[0m Trial 10 finished with value: 0.7886067261496225 and parameters: {'smoothing': 1.0663939702098285e-10}. Best is trial 9 with value: 0.7886067261496225.\u001b[0m\n",
            "\u001b[32m[I 2021-08-15 23:31:08,912]\u001b[0m Trial 11 finished with value: 0.7886067261496225 and parameters: {'smoothing': 1.0155323775311886e-10}. Best is trial 9 with value: 0.7886067261496225.\u001b[0m\n",
            "\u001b[32m[I 2021-08-15 23:31:08,945]\u001b[0m Trial 12 finished with value: 0.7886067261496225 and parameters: {'smoothing': 1.0126874246231193e-10}. Best is trial 9 with value: 0.7886067261496225.\u001b[0m\n",
            "\u001b[32m[I 2021-08-15 23:31:08,977]\u001b[0m Trial 13 finished with value: 0.7882635552505147 and parameters: {'smoothing': 2.6557294441948835e-10}. Best is trial 9 with value: 0.7886067261496225.\u001b[0m\n",
            "\u001b[32m[I 2021-08-15 23:31:09,009]\u001b[0m Trial 14 finished with value: 0.7882635552505147 and parameters: {'smoothing': 2.8506344132072725e-10}. Best is trial 9 with value: 0.7886067261496225.\u001b[0m\n",
            "\u001b[32m[I 2021-08-15 23:31:09,041]\u001b[0m Trial 15 finished with value: 0.7886067261496225 and parameters: {'smoothing': 1.7443164200981415e-10}. Best is trial 9 with value: 0.7886067261496225.\u001b[0m\n",
            "\u001b[32m[I 2021-08-15 23:31:09,073]\u001b[0m Trial 16 finished with value: 0.7882635552505147 and parameters: {'smoothing': 5.241698932405502e-10}. Best is trial 9 with value: 0.7886067261496225.\u001b[0m\n",
            "\u001b[32m[I 2021-08-15 23:31:09,109]\u001b[0m Trial 17 finished with value: 0.7882635552505147 and parameters: {'smoothing': 5.157577685721697e-10}. Best is trial 9 with value: 0.7886067261496225.\u001b[0m\n",
            "\u001b[32m[I 2021-08-15 23:31:09,143]\u001b[0m Trial 18 finished with value: 0.7886067261496225 and parameters: {'smoothing': 1.5622060921381656e-10}. Best is trial 9 with value: 0.7886067261496225.\u001b[0m\n",
            "\u001b[32m[I 2021-08-15 23:31:09,176]\u001b[0m Trial 19 finished with value: 0.7886067261496225 and parameters: {'smoothing': 1.651703500878627e-10}. Best is trial 9 with value: 0.7886067261496225.\u001b[0m\n",
            "\u001b[32m[I 2021-08-15 23:31:09,208]\u001b[0m Trial 20 finished with value: 0.7882635552505147 and parameters: {'smoothing': 4.4178761974323433e-10}. Best is trial 9 with value: 0.7886067261496225.\u001b[0m\n",
            "\u001b[32m[I 2021-08-15 23:31:09,240]\u001b[0m Trial 21 finished with value: 0.7886067261496225 and parameters: {'smoothing': 1.732985793952433e-10}. Best is trial 9 with value: 0.7886067261496225.\u001b[0m\n",
            "\u001b[32m[I 2021-08-15 23:31:09,272]\u001b[0m Trial 22 finished with value: 0.7886067261496225 and parameters: {'smoothing': 1.7783634096631194e-10}. Best is trial 9 with value: 0.7886067261496225.\u001b[0m\n",
            "\u001b[32m[I 2021-08-15 23:31:09,304]\u001b[0m Trial 23 finished with value: 0.7886067261496225 and parameters: {'smoothing': 1.446512263684455e-10}. Best is trial 9 with value: 0.7886067261496225.\u001b[0m\n",
            "\u001b[32m[I 2021-08-15 23:31:09,335]\u001b[0m Trial 24 finished with value: 0.7882635552505147 and parameters: {'smoothing': 3.421416344003438e-10}. Best is trial 9 with value: 0.7886067261496225.\u001b[0m\n",
            "\u001b[32m[I 2021-08-15 23:31:09,366]\u001b[0m Trial 25 finished with value: 0.7886067261496225 and parameters: {'smoothing': 2.1459234321981114e-10}. Best is trial 9 with value: 0.7886067261496225.\u001b[0m\n",
            "\u001b[32m[I 2021-08-15 23:31:09,398]\u001b[0m Trial 26 finished with value: 0.7882635552505147 and parameters: {'smoothing': 7.008777741329388e-10}. Best is trial 9 with value: 0.7886067261496225.\u001b[0m\n",
            "\u001b[32m[I 2021-08-15 23:31:09,430]\u001b[0m Trial 27 finished with value: 0.7882635552505147 and parameters: {'smoothing': 1.6815253414458679e-09}. Best is trial 9 with value: 0.7886067261496225.\u001b[0m\n",
            "\u001b[32m[I 2021-08-15 23:31:09,462]\u001b[0m Trial 28 finished with value: 0.7886067261496225 and parameters: {'smoothing': 2.1567721217261204e-10}. Best is trial 9 with value: 0.7886067261496225.\u001b[0m\n",
            "\u001b[32m[I 2021-08-15 23:31:09,495]\u001b[0m Trial 29 finished with value: 0.7882635552505147 and parameters: {'smoothing': 3.751907708895509e-10}. Best is trial 9 with value: 0.7886067261496225.\u001b[0m\n",
            "\u001b[32m[I 2021-08-15 23:31:09,528]\u001b[0m Trial 30 finished with value: 0.7886067261496225 and parameters: {'smoothing': 1.4281207374840331e-10}. Best is trial 9 with value: 0.7886067261496225.\u001b[0m\n",
            "\u001b[32m[I 2021-08-15 23:31:09,562]\u001b[0m Trial 31 finished with value: 0.7886067261496225 and parameters: {'smoothing': 2.2203955483510764e-10}. Best is trial 9 with value: 0.7886067261496225.\u001b[0m\n",
            "\u001b[32m[I 2021-08-15 23:31:09,595]\u001b[0m Trial 32 finished with value: 0.7886067261496225 and parameters: {'smoothing': 2.1618073450297753e-10}. Best is trial 9 with value: 0.7886067261496225.\u001b[0m\n",
            "\u001b[32m[I 2021-08-15 23:31:09,627]\u001b[0m Trial 33 finished with value: 0.7882635552505147 and parameters: {'smoothing': 3.4904227671781256e-10}. Best is trial 9 with value: 0.7886067261496225.\u001b[0m\n",
            "\u001b[32m[I 2021-08-15 23:31:09,658]\u001b[0m Trial 34 finished with value: 0.7886067261496225 and parameters: {'smoothing': 1.2769443128258672e-10}. Best is trial 9 with value: 0.7886067261496225.\u001b[0m\n",
            "\u001b[32m[I 2021-08-15 23:31:09,690]\u001b[0m Trial 35 finished with value: 0.7886067261496225 and parameters: {'smoothing': 1.7952347743675775e-10}. Best is trial 9 with value: 0.7886067261496225.\u001b[0m\n",
            "\u001b[32m[I 2021-08-15 23:31:09,723]\u001b[0m Trial 36 finished with value: 0.7886067261496225 and parameters: {'smoothing': 1.4353329168102836e-10}. Best is trial 9 with value: 0.7886067261496225.\u001b[0m\n",
            "\u001b[32m[I 2021-08-15 23:31:09,755]\u001b[0m Trial 37 finished with value: 0.7882635552505147 and parameters: {'smoothing': 7.07777388671568e-10}. Best is trial 9 with value: 0.7886067261496225.\u001b[0m\n",
            "\u001b[32m[I 2021-08-15 23:31:09,793]\u001b[0m Trial 38 finished with value: 0.7886067261496225 and parameters: {'smoothing': 1.4484619560658757e-10}. Best is trial 9 with value: 0.7886067261496225.\u001b[0m\n",
            "\u001b[32m[I 2021-08-15 23:31:09,825]\u001b[0m Trial 39 finished with value: 0.7882635552505147 and parameters: {'smoothing': 1.5248490147150497e-09}. Best is trial 9 with value: 0.7886067261496225.\u001b[0m\n",
            "\u001b[32m[I 2021-08-15 23:31:09,856]\u001b[0m Trial 40 finished with value: 0.7882635552505147 and parameters: {'smoothing': 3.0112364191545985e-09}. Best is trial 9 with value: 0.7886067261496225.\u001b[0m\n",
            "\u001b[32m[I 2021-08-15 23:31:09,888]\u001b[0m Trial 41 finished with value: 0.7886067261496225 and parameters: {'smoothing': 1.7590668438534334e-10}. Best is trial 9 with value: 0.7886067261496225.\u001b[0m\n",
            "\u001b[32m[I 2021-08-15 23:31:09,920]\u001b[0m Trial 42 finished with value: 0.7886067261496225 and parameters: {'smoothing': 1.849771660316212e-10}. Best is trial 9 with value: 0.7886067261496225.\u001b[0m\n",
            "\u001b[32m[I 2021-08-15 23:31:09,967]\u001b[0m Trial 43 finished with value: 0.7886067261496225 and parameters: {'smoothing': 1.2327607096992837e-10}. Best is trial 9 with value: 0.7886067261496225.\u001b[0m\n",
            "\u001b[32m[I 2021-08-15 23:31:10,000]\u001b[0m Trial 44 pruned. \u001b[0m\n",
            "\u001b[32m[I 2021-08-15 23:31:10,034]\u001b[0m Trial 45 finished with value: 0.7886067261496225 and parameters: {'smoothing': 1.2713911569631922e-10}. Best is trial 9 with value: 0.7886067261496225.\u001b[0m\n",
            "\u001b[32m[I 2021-08-15 23:31:10,065]\u001b[0m Trial 46 finished with value: 0.7886067261496225 and parameters: {'smoothing': 2.1822456801577847e-10}. Best is trial 9 with value: 0.7886067261496225.\u001b[0m\n",
            "\u001b[32m[I 2021-08-15 23:31:10,097]\u001b[0m Trial 47 finished with value: 0.7886067261496225 and parameters: {'smoothing': 1.2431056194129482e-10}. Best is trial 9 with value: 0.7886067261496225.\u001b[0m\n",
            "\u001b[32m[I 2021-08-15 23:31:10,130]\u001b[0m Trial 48 finished with value: 0.7886067261496225 and parameters: {'smoothing': 2.2959030090621175e-10}. Best is trial 9 with value: 0.7886067261496225.\u001b[0m\n",
            "\u001b[32m[I 2021-08-15 23:31:10,168]\u001b[0m Trial 49 finished with value: 0.7886067261496225 and parameters: {'smoothing': 2.2970013688022134e-10}. Best is trial 9 with value: 0.7886067261496225.\u001b[0m\n",
            "\u001b[32m[I 2021-08-15 23:31:10,199]\u001b[0m Trial 50 finished with value: 0.7886067261496225 and parameters: {'smoothing': 2.4038741175516794e-10}. Best is trial 9 with value: 0.7886067261496225.\u001b[0m\n",
            "\u001b[32m[I 2021-08-15 23:31:10,231]\u001b[0m Trial 51 pruned. \u001b[0m\n",
            "\u001b[32m[I 2021-08-15 23:31:10,264]\u001b[0m Trial 52 finished with value: 0.7886067261496225 and parameters: {'smoothing': 2.0510970180091117e-10}. Best is trial 9 with value: 0.7886067261496225.\u001b[0m\n",
            "\u001b[32m[I 2021-08-15 23:31:10,296]\u001b[0m Trial 53 finished with value: 0.7886067261496225 and parameters: {'smoothing': 1.061084404400406e-10}. Best is trial 9 with value: 0.7886067261496225.\u001b[0m\n",
            "\u001b[32m[I 2021-08-15 23:31:10,328]\u001b[0m Trial 54 finished with value: 0.7886067261496225 and parameters: {'smoothing': 1.0299642195272175e-10}. Best is trial 9 with value: 0.7886067261496225.\u001b[0m\n",
            "\u001b[32m[I 2021-08-15 23:31:10,365]\u001b[0m Trial 55 finished with value: 0.7886067261496225 and parameters: {'smoothing': 1.0485059975430946e-10}. Best is trial 9 with value: 0.7886067261496225.\u001b[0m\n",
            "\u001b[32m[I 2021-08-15 23:31:10,398]\u001b[0m Trial 56 pruned. \u001b[0m\n",
            "\u001b[32m[I 2021-08-15 23:31:10,433]\u001b[0m Trial 57 finished with value: 0.7886067261496225 and parameters: {'smoothing': 1.4080764007609347e-10}. Best is trial 9 with value: 0.7886067261496225.\u001b[0m\n",
            "\u001b[32m[I 2021-08-15 23:31:10,465]\u001b[0m Trial 58 pruned. \u001b[0m\n",
            "\u001b[32m[I 2021-08-15 23:31:10,499]\u001b[0m Trial 59 finished with value: 0.7886067261496225 and parameters: {'smoothing': 1.2833240125596682e-10}. Best is trial 9 with value: 0.7886067261496225.\u001b[0m\n",
            "\u001b[32m[I 2021-08-15 23:31:10,531]\u001b[0m Trial 60 finished with value: 0.7886067261496225 and parameters: {'smoothing': 1.3726167089565648e-10}. Best is trial 9 with value: 0.7886067261496225.\u001b[0m\n",
            "\u001b[32m[I 2021-08-15 23:31:10,563]\u001b[0m Trial 61 finished with value: 0.7886067261496225 and parameters: {'smoothing': 1.5479533840871274e-10}. Best is trial 9 with value: 0.7886067261496225.\u001b[0m\n",
            "\u001b[32m[I 2021-08-15 23:31:10,596]\u001b[0m Trial 62 finished with value: 0.7886067261496225 and parameters: {'smoothing': 1.8470029134404606e-10}. Best is trial 9 with value: 0.7886067261496225.\u001b[0m\n",
            "\u001b[32m[I 2021-08-15 23:31:10,627]\u001b[0m Trial 63 finished with value: 0.7886067261496225 and parameters: {'smoothing': 1.5633049692085144e-10}. Best is trial 9 with value: 0.7886067261496225.\u001b[0m\n",
            "\u001b[32m[I 2021-08-15 23:31:10,659]\u001b[0m Trial 64 finished with value: 0.7886067261496225 and parameters: {'smoothing': 1.9583671494280267e-10}. Best is trial 9 with value: 0.7886067261496225.\u001b[0m\n",
            "\u001b[32m[I 2021-08-15 23:31:10,694]\u001b[0m Trial 65 pruned. \u001b[0m\n",
            "\u001b[32m[I 2021-08-15 23:31:10,727]\u001b[0m Trial 66 finished with value: 0.7886067261496225 and parameters: {'smoothing': 1.1897484372040575e-10}. Best is trial 9 with value: 0.7886067261496225.\u001b[0m\n",
            "\u001b[32m[I 2021-08-15 23:31:10,759]\u001b[0m Trial 67 pruned. \u001b[0m\n",
            "\u001b[32m[I 2021-08-15 23:31:10,799]\u001b[0m Trial 68 finished with value: 0.7886067261496225 and parameters: {'smoothing': 2.4007303875131335e-10}. Best is trial 9 with value: 0.7886067261496225.\u001b[0m\n",
            "\u001b[32m[I 2021-08-15 23:31:10,831]\u001b[0m Trial 69 finished with value: 0.7886067261496225 and parameters: {'smoothing': 1.7543792147759692e-10}. Best is trial 9 with value: 0.7886067261496225.\u001b[0m\n",
            "\u001b[32m[I 2021-08-15 23:31:10,864]\u001b[0m Trial 70 pruned. \u001b[0m\n",
            "\u001b[32m[I 2021-08-15 23:31:10,899]\u001b[0m Trial 71 pruned. \u001b[0m\n",
            "\u001b[32m[I 2021-08-15 23:31:10,934]\u001b[0m Trial 72 finished with value: 0.7886067261496225 and parameters: {'smoothing': 2.4055491270348444e-10}. Best is trial 9 with value: 0.7886067261496225.\u001b[0m\n",
            "\u001b[32m[I 2021-08-15 23:31:10,967]\u001b[0m Trial 73 finished with value: 0.7886067261496225 and parameters: {'smoothing': 1.6260687875634303e-10}. Best is trial 9 with value: 0.7886067261496225.\u001b[0m\n",
            "\u001b[32m[I 2021-08-15 23:31:11,000]\u001b[0m Trial 74 finished with value: 0.7886067261496225 and parameters: {'smoothing': 1.1517520322806049e-10}. Best is trial 9 with value: 0.7886067261496225.\u001b[0m\n",
            "\u001b[32m[I 2021-08-15 23:31:11,034]\u001b[0m Trial 75 finished with value: 0.7886067261496225 and parameters: {'smoothing': 2.0240152227740632e-10}. Best is trial 9 with value: 0.7886067261496225.\u001b[0m\n",
            "\u001b[32m[I 2021-08-15 23:31:11,065]\u001b[0m Trial 76 finished with value: 0.7886067261496225 and parameters: {'smoothing': 2.0508886143450068e-10}. Best is trial 9 with value: 0.7886067261496225.\u001b[0m\n",
            "\u001b[32m[I 2021-08-15 23:31:11,098]\u001b[0m Trial 77 finished with value: 0.7886067261496225 and parameters: {'smoothing': 1.3776795679823528e-10}. Best is trial 9 with value: 0.7886067261496225.\u001b[0m\n",
            "\u001b[32m[I 2021-08-15 23:31:11,131]\u001b[0m Trial 78 pruned. \u001b[0m\n",
            "\u001b[32m[I 2021-08-15 23:31:11,164]\u001b[0m Trial 79 finished with value: 0.7886067261496225 and parameters: {'smoothing': 1.1075655492851369e-10}. Best is trial 9 with value: 0.7886067261496225.\u001b[0m\n",
            "\u001b[32m[I 2021-08-15 23:31:11,196]\u001b[0m Trial 80 finished with value: 0.7886067261496225 and parameters: {'smoothing': 1.0066559404241357e-10}. Best is trial 9 with value: 0.7886067261496225.\u001b[0m\n",
            "\u001b[32m[I 2021-08-15 23:31:11,228]\u001b[0m Trial 81 finished with value: 0.7886067261496225 and parameters: {'smoothing': 1.0406307057925992e-10}. Best is trial 9 with value: 0.7886067261496225.\u001b[0m\n",
            "\u001b[32m[I 2021-08-15 23:31:11,262]\u001b[0m Trial 82 finished with value: 0.7886067261496225 and parameters: {'smoothing': 1.3006753977730788e-10}. Best is trial 9 with value: 0.7886067261496225.\u001b[0m\n",
            "\u001b[32m[I 2021-08-15 23:31:11,305]\u001b[0m Trial 83 pruned. \u001b[0m\n",
            "\u001b[32m[I 2021-08-15 23:31:11,347]\u001b[0m Trial 84 finished with value: 0.7886067261496225 and parameters: {'smoothing': 1.652612921986791e-10}. Best is trial 9 with value: 0.7886067261496225.\u001b[0m\n",
            "\u001b[32m[I 2021-08-15 23:31:11,385]\u001b[0m Trial 85 finished with value: 0.7886067261496225 and parameters: {'smoothing': 1.0089486873121582e-10}. Best is trial 9 with value: 0.7886067261496225.\u001b[0m\n",
            "\u001b[32m[I 2021-08-15 23:31:11,418]\u001b[0m Trial 86 pruned. \u001b[0m\n",
            "\u001b[32m[I 2021-08-15 23:31:11,450]\u001b[0m Trial 87 finished with value: 0.7886067261496225 and parameters: {'smoothing': 1.5705051465965523e-10}. Best is trial 9 with value: 0.7886067261496225.\u001b[0m\n",
            "\u001b[32m[I 2021-08-15 23:31:11,482]\u001b[0m Trial 88 finished with value: 0.7886067261496225 and parameters: {'smoothing': 1.4054539613065163e-10}. Best is trial 9 with value: 0.7886067261496225.\u001b[0m\n",
            "\u001b[32m[I 2021-08-15 23:31:11,514]\u001b[0m Trial 89 finished with value: 0.7886067261496225 and parameters: {'smoothing': 1.8655184261720186e-10}. Best is trial 9 with value: 0.7886067261496225.\u001b[0m\n",
            "\u001b[32m[I 2021-08-15 23:31:11,546]\u001b[0m Trial 90 finished with value: 0.7886067261496225 and parameters: {'smoothing': 1.7979856543932569e-10}. Best is trial 9 with value: 0.7886067261496225.\u001b[0m\n",
            "\u001b[32m[I 2021-08-15 23:31:11,577]\u001b[0m Trial 91 finished with value: 0.7886067261496225 and parameters: {'smoothing': 1.1981031621434405e-10}. Best is trial 9 with value: 0.7886067261496225.\u001b[0m\n",
            "\u001b[32m[I 2021-08-15 23:31:11,609]\u001b[0m Trial 92 finished with value: 0.7886067261496225 and parameters: {'smoothing': 1.463927379552671e-10}. Best is trial 9 with value: 0.7886067261496225.\u001b[0m\n",
            "\u001b[32m[I 2021-08-15 23:31:11,642]\u001b[0m Trial 93 finished with value: 0.7886067261496225 and parameters: {'smoothing': 1.3527905576642252e-10}. Best is trial 9 with value: 0.7886067261496225.\u001b[0m\n",
            "\u001b[32m[I 2021-08-15 23:31:11,678]\u001b[0m Trial 94 finished with value: 0.7886067261496225 and parameters: {'smoothing': 1.131722676919827e-10}. Best is trial 9 with value: 0.7886067261496225.\u001b[0m\n",
            "\u001b[32m[I 2021-08-15 23:31:11,711]\u001b[0m Trial 95 finished with value: 0.7886067261496225 and parameters: {'smoothing': 1.55762094635189e-10}. Best is trial 9 with value: 0.7886067261496225.\u001b[0m\n",
            "\u001b[32m[I 2021-08-15 23:31:11,745]\u001b[0m Trial 96 finished with value: 0.7886067261496225 and parameters: {'smoothing': 1.229360896319841e-10}. Best is trial 9 with value: 0.7886067261496225.\u001b[0m\n",
            "\u001b[32m[I 2021-08-15 23:31:11,780]\u001b[0m Trial 97 finished with value: 0.7886067261496225 and parameters: {'smoothing': 1.5002898081720932e-10}. Best is trial 9 with value: 0.7886067261496225.\u001b[0m\n",
            "\u001b[32m[I 2021-08-15 23:31:11,820]\u001b[0m Trial 98 pruned. \u001b[0m\n",
            "\u001b[32m[I 2021-08-15 23:31:11,853]\u001b[0m Trial 99 finished with value: 0.7886067261496225 and parameters: {'smoothing': 1.9777631791527625e-10}. Best is trial 9 with value: 0.7886067261496225.\u001b[0m\n"
          ],
          "name": "stderr"
        },
        {
          "output_type": "stream",
          "text": [
            "  Number of finished trials:  100\n",
            "  Number of pruned trials:  12\n",
            "  Number of complete trials:  88\n"
          ],
          "name": "stdout"
        }
      ]
    },
    {
      "cell_type": "code",
      "metadata": {
        "id": "azLi2uIl2OJe",
        "colab": {
          "base_uri": "https://localhost:8080/"
        },
        "outputId": "d22c330a-8286-4a82-e3b9-babcbd04169d"
      },
      "source": [
        "import optuna\n",
        "classes = list(set(y_df))\n",
        "#Step 1. Define an objective function to be maximized.\n",
        "def objective(trial):\n",
        "\n",
        "    rf_n_estimators = trial.suggest_int(\"rf_n_estimators\", 10, 1000)\n",
        "    rf_max_depth = trial.suggest_int(\"rf_max_depth\", 2, 32, log=True)\n",
        "    classifier_obj = RandomForestClassifier(\n",
        "        max_depth=rf_max_depth, n_estimators=rf_n_estimators\n",
        "    )\n",
        "    for step in range(100):\n",
        "        classifier_obj.fit(Xtrain, ytrain)\n",
        "        \n",
        "        # Report intermediate objective value.\n",
        "        intermediate_value = classifier_obj.score(X_val, y_val)\n",
        "        trial.report(intermediate_value, step)\n",
        "\n",
        "        # Handle pruning based on the intermediate value.\n",
        "        if trial.should_prune():\n",
        "            raise optuna.TrialPruned()\n",
        "        return intermediate_value\n",
        "\n",
        "# Step 4: Running it\n",
        "study = optuna.create_study(direction=\"maximize\")\n",
        "study.optimize(objective, n_trials=100)\n",
        "\n",
        "# Calculating the pruned and completed trials\n",
        "pruned_trials = [t for t in study.trials if t.state == optuna.trial.TrialState.PRUNED]\n",
        "complete_trials = [t for t in study.trials if t.state == optuna.trial.TrialState.COMPLETE]\n",
        "\n",
        "print(\"  Number of finished trials: \", len(study.trials))\n",
        "print(\"  Number of pruned trials: \", len(pruned_trials))\n",
        "print(\"  Number of complete trials: \", len(complete_trials))\n",
        "\n",
        "with mlflow.start_run(experiment_id=1 , run_name=\"BEST - RandomForestClassifier\"):\n",
        "  mlflow.log_metric(\"Accuracy\",study.best_value)\n",
        "  mlflow.log_param(\"classifier\",\"Random Forest Classifier\")\n",
        "  mlflow.log_params(study.best_params)"
      ],
      "execution_count": null,
      "outputs": [
        {
          "output_type": "stream",
          "text": [
            "\u001b[32m[I 2021-08-15 23:37:50,993]\u001b[0m A new study created in memory with name: no-name-46b25e4f-e9ab-4b49-9ecf-569b8be15b15\u001b[0m\n",
            "\u001b[32m[I 2021-08-15 23:37:52,461]\u001b[0m Trial 0 finished with value: 0.8417982155113246 and parameters: {'rf_n_estimators': 414, 'rf_max_depth': 4}. Best is trial 0 with value: 0.8417982155113246.\u001b[0m\n",
            "\u001b[32m[I 2021-08-15 23:37:53,500]\u001b[0m Trial 1 finished with value: 0.8397391901166781 and parameters: {'rf_n_estimators': 286, 'rf_max_depth': 4}. Best is trial 0 with value: 0.8417982155113246.\u001b[0m\n",
            "\u001b[32m[I 2021-08-15 23:37:54,647]\u001b[0m Trial 2 finished with value: 0.7680164722031572 and parameters: {'rf_n_estimators': 397, 'rf_max_depth': 2}. Best is trial 0 with value: 0.8417982155113246.\u001b[0m\n",
            "\u001b[32m[I 2021-08-15 23:37:59,010]\u001b[0m Trial 3 finished with value: 0.8586135895676047 and parameters: {'rf_n_estimators': 588, 'rf_max_depth': 25}. Best is trial 3 with value: 0.8586135895676047.\u001b[0m\n",
            "\u001b[32m[I 2021-08-15 23:38:00,665]\u001b[0m Trial 4 finished with value: 0.8665065202470831 and parameters: {'rf_n_estimators': 260, 'rf_max_depth': 16}. Best is trial 4 with value: 0.8665065202470831.\u001b[0m\n",
            "\u001b[32m[I 2021-08-15 23:38:06,477]\u001b[0m Trial 5 finished with value: 0.8592999313658202 and parameters: {'rf_n_estimators': 758, 'rf_max_depth': 30}. Best is trial 4 with value: 0.8665065202470831.\u001b[0m\n",
            "\u001b[32m[I 2021-08-15 23:38:06,859]\u001b[0m Trial 6 finished with value: 0.858270418668497 and parameters: {'rf_n_estimators': 49, 'rf_max_depth': 32}. Best is trial 4 with value: 0.8665065202470831.\u001b[0m\n",
            "\u001b[32m[I 2021-08-15 23:38:08,516]\u001b[0m Trial 7 finished with value: 0.867879203843514 and parameters: {'rf_n_estimators': 300, 'rf_max_depth': 12}. Best is trial 7 with value: 0.867879203843514.\u001b[0m\n",
            "\u001b[32m[I 2021-08-15 23:38:08,899]\u001b[0m Trial 8 pruned. \u001b[0m\n",
            "\u001b[32m[I 2021-08-15 23:38:09,164]\u001b[0m Trial 9 pruned. \u001b[0m\n",
            "\u001b[32m[I 2021-08-15 23:38:12,755]\u001b[0m Trial 10 finished with value: 0.8706245710363761 and parameters: {'rf_n_estimators': 644, 'rf_max_depth': 12}. Best is trial 10 with value: 0.8706245710363761.\u001b[0m\n",
            "\u001b[32m[I 2021-08-15 23:38:17,976]\u001b[0m Trial 11 finished with value: 0.8716540837336993 and parameters: {'rf_n_estimators': 994, 'rf_max_depth': 10}. Best is trial 11 with value: 0.8716540837336993.\u001b[0m\n",
            "\u001b[32m[I 2021-08-15 23:38:22,831]\u001b[0m Trial 12 finished with value: 0.8730267673301304 and parameters: {'rf_n_estimators': 995, 'rf_max_depth': 9}. Best is trial 12 with value: 0.8730267673301304.\u001b[0m\n",
            "\u001b[32m[I 2021-08-15 23:38:27,086]\u001b[0m Trial 13 finished with value: 0.8733699382292381 and parameters: {'rf_n_estimators': 972, 'rf_max_depth': 7}. Best is trial 13 with value: 0.8733699382292381.\u001b[0m\n",
            "\u001b[32m[I 2021-08-15 23:38:31,426]\u001b[0m Trial 14 finished with value: 0.8743994509265615 and parameters: {'rf_n_estimators': 963, 'rf_max_depth': 7}. Best is trial 14 with value: 0.8743994509265615.\u001b[0m\n",
            "\u001b[32m[I 2021-08-15 23:38:34,652]\u001b[0m Trial 15 finished with value: 0.8713109128345916 and parameters: {'rf_n_estimators': 792, 'rf_max_depth': 6}. Best is trial 14 with value: 0.8743994509265615.\u001b[0m\n",
            "\u001b[32m[I 2021-08-15 23:38:38,054]\u001b[0m Trial 16 finished with value: 0.8719972546328071 and parameters: {'rf_n_estimators': 854, 'rf_max_depth': 6}. Best is trial 14 with value: 0.8743994509265615.\u001b[0m\n",
            "\u001b[32m[I 2021-08-15 23:38:44,025]\u001b[0m Trial 17 pruned. \u001b[0m\n",
            "\u001b[32m[I 2021-08-15 23:38:46,194]\u001b[0m Trial 18 pruned. \u001b[0m\n",
            "\u001b[32m[I 2021-08-15 23:38:50,129]\u001b[0m Trial 19 finished with value: 0.8726835964310227 and parameters: {'rf_n_estimators': 917, 'rf_max_depth': 7}. Best is trial 14 with value: 0.8743994509265615.\u001b[0m\n",
            "\u001b[32m[I 2021-08-15 23:38:52,492]\u001b[0m Trial 20 pruned. \u001b[0m\n",
            "\u001b[32m[I 2021-08-15 23:38:56,937]\u001b[0m Trial 21 finished with value: 0.8733699382292381 and parameters: {'rf_n_estimators': 965, 'rf_max_depth': 8}. Best is trial 14 with value: 0.8743994509265615.\u001b[0m\n",
            "\u001b[32m[I 2021-08-15 23:39:00,862]\u001b[0m Trial 22 finished with value: 0.8743994509265615 and parameters: {'rf_n_estimators': 834, 'rf_max_depth': 8}. Best is trial 14 with value: 0.8743994509265615.\u001b[0m\n",
            "\u001b[32m[I 2021-08-15 23:39:04,075]\u001b[0m Trial 23 pruned. \u001b[0m\n",
            "\u001b[32m[I 2021-08-15 23:39:08,026]\u001b[0m Trial 24 finished with value: 0.8730267673301304 and parameters: {'rf_n_estimators': 818, 'rf_max_depth': 9}. Best is trial 14 with value: 0.8743994509265615.\u001b[0m\n",
            "\u001b[32m[I 2021-08-15 23:39:13,769]\u001b[0m Trial 25 pruned. \u001b[0m\n",
            "\u001b[32m[I 2021-08-15 23:39:17,216]\u001b[0m Trial 26 finished with value: 0.8740562800274537 and parameters: {'rf_n_estimators': 738, 'rf_max_depth': 8}. Best is trial 14 with value: 0.8743994509265615.\u001b[0m\n",
            "\u001b[32m[I 2021-08-15 23:39:21,033]\u001b[0m Trial 27 pruned. \u001b[0m\n",
            "\u001b[32m[I 2021-08-15 23:39:23,764]\u001b[0m Trial 28 pruned. \u001b[0m\n",
            "\u001b[32m[I 2021-08-15 23:39:26,985]\u001b[0m Trial 29 pruned. \u001b[0m\n",
            "\u001b[32m[I 2021-08-15 23:39:28,907]\u001b[0m Trial 30 pruned. \u001b[0m\n",
            "\u001b[32m[I 2021-08-15 23:39:32,926]\u001b[0m Trial 31 finished with value: 0.8737131091283459 and parameters: {'rf_n_estimators': 928, 'rf_max_depth': 7}. Best is trial 14 with value: 0.8743994509265615.\u001b[0m\n",
            "\u001b[32m[I 2021-08-15 23:39:36,616]\u001b[0m Trial 32 finished with value: 0.8737131091283459 and parameters: {'rf_n_estimators': 800, 'rf_max_depth': 8}. Best is trial 14 with value: 0.8743994509265615.\u001b[0m\n",
            "\u001b[32m[I 2021-08-15 23:39:40,159]\u001b[0m Trial 33 finished with value: 0.8740562800274537 and parameters: {'rf_n_estimators': 775, 'rf_max_depth': 8}. Best is trial 14 with value: 0.8743994509265615.\u001b[0m\n",
            "\u001b[32m[I 2021-08-15 23:39:43,171]\u001b[0m Trial 34 finished with value: 0.8719972546328071 and parameters: {'rf_n_estimators': 750, 'rf_max_depth': 6}. Best is trial 14 with value: 0.8743994509265615.\u001b[0m\n",
            "\u001b[32m[I 2021-08-15 23:39:48,491]\u001b[0m Trial 35 pruned. \u001b[0m\n",
            "\u001b[32m[I 2021-08-15 23:39:50,763]\u001b[0m Trial 36 pruned. \u001b[0m\n",
            "\u001b[32m[I 2021-08-15 23:39:52,923]\u001b[0m Trial 37 finished with value: 0.8730267673301304 and parameters: {'rf_n_estimators': 452, 'rf_max_depth': 9}. Best is trial 14 with value: 0.8743994509265615.\u001b[0m\n",
            "\u001b[32m[I 2021-08-15 23:39:55,465]\u001b[0m Trial 38 pruned. \u001b[0m\n",
            "\u001b[32m[I 2021-08-15 23:39:58,952]\u001b[0m Trial 39 pruned. \u001b[0m\n",
            "\u001b[32m[I 2021-08-15 23:40:00,737]\u001b[0m Trial 40 pruned. \u001b[0m\n",
            "\u001b[32m[I 2021-08-15 23:40:05,028]\u001b[0m Trial 41 finished with value: 0.8743994509265615 and parameters: {'rf_n_estimators': 930, 'rf_max_depth': 8}. Best is trial 14 with value: 0.8743994509265615.\u001b[0m\n",
            "\u001b[32m[I 2021-08-15 23:40:09,056]\u001b[0m Trial 42 finished with value: 0.8743994509265615 and parameters: {'rf_n_estimators': 873, 'rf_max_depth': 8}. Best is trial 14 with value: 0.8743994509265615.\u001b[0m\n",
            "\u001b[32m[I 2021-08-15 23:40:12,914]\u001b[0m Trial 43 pruned. \u001b[0m\n",
            "\u001b[32m[I 2021-08-15 23:40:17,368]\u001b[0m Trial 44 finished with value: 0.8733699382292381 and parameters: {'rf_n_estimators': 875, 'rf_max_depth': 10}. Best is trial 14 with value: 0.8743994509265615.\u001b[0m\n",
            "\u001b[32m[I 2021-08-15 23:40:20,879]\u001b[0m Trial 45 pruned. \u001b[0m\n",
            "\u001b[32m[I 2021-08-15 23:40:24,726]\u001b[0m Trial 46 finished with value: 0.8743994509265615 and parameters: {'rf_n_estimators': 841, 'rf_max_depth': 8}. Best is trial 14 with value: 0.8743994509265615.\u001b[0m\n",
            "\u001b[32m[I 2021-08-15 23:40:29,336]\u001b[0m Trial 47 pruned. \u001b[0m\n",
            "\u001b[32m[I 2021-08-15 23:40:33,786]\u001b[0m Trial 48 finished with value: 0.8730267673301304 and parameters: {'rf_n_estimators': 887, 'rf_max_depth': 10}. Best is trial 14 with value: 0.8743994509265615.\u001b[0m\n",
            "\u001b[32m[I 2021-08-15 23:40:34,434]\u001b[0m Trial 49 finished with value: 0.8733699382292381 and parameters: {'rf_n_estimators': 153, 'rf_max_depth': 6}. Best is trial 14 with value: 0.8743994509265615.\u001b[0m\n",
            "\u001b[32m[I 2021-08-15 23:40:36,838]\u001b[0m Trial 50 pruned. \u001b[0m\n",
            "\u001b[32m[I 2021-08-15 23:40:41,361]\u001b[0m Trial 51 finished with value: 0.8740562800274537 and parameters: {'rf_n_estimators': 999, 'rf_max_depth': 8}. Best is trial 14 with value: 0.8743994509265615.\u001b[0m\n",
            "\u001b[32m[I 2021-08-15 23:40:44,846]\u001b[0m Trial 52 finished with value: 0.8743994509265615 and parameters: {'rf_n_estimators': 818, 'rf_max_depth': 7}. Best is trial 14 with value: 0.8743994509265615.\u001b[0m\n",
            "\u001b[32m[I 2021-08-15 23:40:48,342]\u001b[0m Trial 53 finished with value: 0.8743994509265615 and parameters: {'rf_n_estimators': 820, 'rf_max_depth': 7}. Best is trial 14 with value: 0.8743994509265615.\u001b[0m\n",
            "\u001b[32m[I 2021-08-15 23:40:52,383]\u001b[0m Trial 54 finished with value: 0.8730267673301304 and parameters: {'rf_n_estimators': 813, 'rf_max_depth': 9}. Best is trial 14 with value: 0.8743994509265615.\u001b[0m\n",
            "\u001b[32m[I 2021-08-15 23:40:56,402]\u001b[0m Trial 55 finished with value: 0.8747426218256692 and parameters: {'rf_n_estimators': 952, 'rf_max_depth': 7}. Best is trial 55 with value: 0.8747426218256692.\u001b[0m\n",
            "\u001b[32m[I 2021-08-15 23:41:00,240]\u001b[0m Trial 56 finished with value: 0.8733699382292381 and parameters: {'rf_n_estimators': 889, 'rf_max_depth': 7}. Best is trial 55 with value: 0.8747426218256692.\u001b[0m\n",
            "\u001b[32m[I 2021-08-15 23:41:03,864]\u001b[0m Trial 57 pruned. \u001b[0m\n",
            "\u001b[32m[I 2021-08-15 23:41:08,062]\u001b[0m Trial 58 finished with value: 0.8737131091283459 and parameters: {'rf_n_estimators': 968, 'rf_max_depth': 7}. Best is trial 55 with value: 0.8747426218256692.\u001b[0m\n",
            "\u001b[32m[I 2021-08-15 23:41:13,045]\u001b[0m Trial 59 pruned. \u001b[0m\n",
            "\u001b[32m[I 2021-08-15 23:41:17,710]\u001b[0m Trial 60 pruned. \u001b[0m\n",
            "\u001b[32m[I 2021-08-15 23:41:21,476]\u001b[0m Trial 61 pruned. \u001b[0m\n",
            "\u001b[32m[I 2021-08-15 23:41:24,384]\u001b[0m Trial 62 pruned. \u001b[0m\n",
            "\u001b[32m[I 2021-08-15 23:41:29,168]\u001b[0m Trial 63 pruned. \u001b[0m\n",
            "\u001b[32m[I 2021-08-15 23:41:32,328]\u001b[0m Trial 64 finished with value: 0.8733699382292381 and parameters: {'rf_n_estimators': 737, 'rf_max_depth': 7}. Best is trial 55 with value: 0.8747426218256692.\u001b[0m\n",
            "\u001b[32m[I 2021-08-15 23:41:35,878]\u001b[0m Trial 65 pruned. \u001b[0m\n",
            "\u001b[32m[I 2021-08-15 23:41:39,687]\u001b[0m Trial 66 finished with value: 0.8737131091283459 and parameters: {'rf_n_estimators': 809, 'rf_max_depth': 9}. Best is trial 55 with value: 0.8747426218256692.\u001b[0m\n",
            "\u001b[32m[I 2021-08-15 23:41:43,075]\u001b[0m Trial 67 pruned. \u001b[0m\n",
            "\u001b[32m[I 2021-08-15 23:41:49,833]\u001b[0m Trial 68 pruned. \u001b[0m\n",
            "\u001b[32m[I 2021-08-15 23:41:54,101]\u001b[0m Trial 69 finished with value: 0.8737131091283459 and parameters: {'rf_n_estimators': 952, 'rf_max_depth': 8}. Best is trial 55 with value: 0.8747426218256692.\u001b[0m\n",
            "\u001b[32m[I 2021-08-15 23:41:57,088]\u001b[0m Trial 70 pruned. \u001b[0m\n",
            "\u001b[32m[I 2021-08-15 23:42:01,078]\u001b[0m Trial 71 finished with value: 0.8733699382292381 and parameters: {'rf_n_estimators': 895, 'rf_max_depth': 8}. Best is trial 55 with value: 0.8747426218256692.\u001b[0m\n",
            "\u001b[32m[I 2021-08-15 23:42:05,770]\u001b[0m Trial 72 pruned. \u001b[0m\n",
            "\u001b[32m[I 2021-08-15 23:42:10,316]\u001b[0m Trial 73 pruned. \u001b[0m\n",
            "\u001b[32m[I 2021-08-15 23:42:13,473]\u001b[0m Trial 74 finished with value: 0.8733699382292381 and parameters: {'rf_n_estimators': 767, 'rf_max_depth': 6}. Best is trial 55 with value: 0.8747426218256692.\u001b[0m\n",
            "\u001b[32m[I 2021-08-15 23:42:18,288]\u001b[0m Trial 75 pruned. \u001b[0m\n",
            "\u001b[32m[I 2021-08-15 23:42:21,838]\u001b[0m Trial 76 finished with value: 0.8733699382292381 and parameters: {'rf_n_estimators': 825, 'rf_max_depth': 7}. Best is trial 55 with value: 0.8747426218256692.\u001b[0m\n",
            "\u001b[32m[I 2021-08-15 23:42:25,338]\u001b[0m Trial 77 pruned. \u001b[0m\n",
            "\u001b[32m[I 2021-08-15 23:42:29,490]\u001b[0m Trial 78 finished with value: 0.8733699382292381 and parameters: {'rf_n_estimators': 923, 'rf_max_depth': 8}. Best is trial 55 with value: 0.8747426218256692.\u001b[0m\n",
            "\u001b[32m[I 2021-08-15 23:42:34,615]\u001b[0m Trial 79 pruned. \u001b[0m\n",
            "\u001b[32m[I 2021-08-15 23:42:38,179]\u001b[0m Trial 80 finished with value: 0.8737131091283459 and parameters: {'rf_n_estimators': 842, 'rf_max_depth': 7}. Best is trial 55 with value: 0.8747426218256692.\u001b[0m\n",
            "\u001b[32m[I 2021-08-15 23:42:42,525]\u001b[0m Trial 81 finished with value: 0.8747426218256692 and parameters: {'rf_n_estimators': 983, 'rf_max_depth': 8}. Best is trial 55 with value: 0.8747426218256692.\u001b[0m\n",
            "\u001b[32m[I 2021-08-15 23:42:46,897]\u001b[0m Trial 82 finished with value: 0.8733699382292381 and parameters: {'rf_n_estimators': 943, 'rf_max_depth': 9}. Best is trial 55 with value: 0.8747426218256692.\u001b[0m\n",
            "\u001b[32m[I 2021-08-15 23:42:51,707]\u001b[0m Trial 83 pruned. \u001b[0m\n",
            "\u001b[32m[I 2021-08-15 23:42:56,589]\u001b[0m Trial 84 pruned. \u001b[0m\n",
            "\u001b[32m[I 2021-08-15 23:42:59,986]\u001b[0m Trial 85 pruned. \u001b[0m\n",
            "\u001b[32m[I 2021-08-15 23:43:04,498]\u001b[0m Trial 86 finished with value: 0.8740562800274537 and parameters: {'rf_n_estimators': 1000, 'rf_max_depth': 8}. Best is trial 55 with value: 0.8747426218256692.\u001b[0m\n",
            "\u001b[32m[I 2021-08-15 23:43:07,174]\u001b[0m Trial 87 pruned. \u001b[0m\n",
            "\u001b[32m[I 2021-08-15 23:43:08,941]\u001b[0m Trial 88 pruned. \u001b[0m\n",
            "\u001b[32m[I 2021-08-15 23:43:13,065]\u001b[0m Trial 89 finished with value: 0.8743994509265615 and parameters: {'rf_n_estimators': 964, 'rf_max_depth': 7}. Best is trial 55 with value: 0.8747426218256692.\u001b[0m\n",
            "\u001b[32m[I 2021-08-15 23:43:13,998]\u001b[0m Trial 90 finished with value: 0.8737131091283459 and parameters: {'rf_n_estimators': 198, 'rf_max_depth': 8}. Best is trial 55 with value: 0.8747426218256692.\u001b[0m\n",
            "\u001b[32m[I 2021-08-15 23:43:18,174]\u001b[0m Trial 91 finished with value: 0.8743994509265615 and parameters: {'rf_n_estimators': 968, 'rf_max_depth': 7}. Best is trial 55 with value: 0.8747426218256692.\u001b[0m\n",
            "\u001b[32m[I 2021-08-15 23:43:22,365]\u001b[0m Trial 92 finished with value: 0.8743994509265615 and parameters: {'rf_n_estimators': 970, 'rf_max_depth': 7}. Best is trial 55 with value: 0.8747426218256692.\u001b[0m\n",
            "\u001b[32m[I 2021-08-15 23:43:25,953]\u001b[0m Trial 93 pruned. \u001b[0m\n",
            "\u001b[32m[I 2021-08-15 23:43:30,031]\u001b[0m Trial 94 finished with value: 0.8743994509265615 and parameters: {'rf_n_estimators': 953, 'rf_max_depth': 7}. Best is trial 55 with value: 0.8747426218256692.\u001b[0m\n",
            "\u001b[32m[I 2021-08-15 23:43:34,685]\u001b[0m Trial 95 finished with value: 0.8733699382292381 and parameters: {'rf_n_estimators': 980, 'rf_max_depth': 9}. Best is trial 55 with value: 0.8747426218256692.\u001b[0m\n",
            "\u001b[32m[I 2021-08-15 23:43:38,208]\u001b[0m Trial 96 pruned. \u001b[0m\n",
            "\u001b[32m[I 2021-08-15 23:43:42,801]\u001b[0m Trial 97 pruned. \u001b[0m\n",
            "\u001b[32m[I 2021-08-15 23:43:46,742]\u001b[0m Trial 98 finished with value: 0.8737131091283459 and parameters: {'rf_n_estimators': 938, 'rf_max_depth': 7}. Best is trial 55 with value: 0.8747426218256692.\u001b[0m\n",
            "\u001b[32m[I 2021-08-15 23:43:51,241]\u001b[0m Trial 99 pruned. \u001b[0m\n"
          ],
          "name": "stderr"
        },
        {
          "output_type": "stream",
          "text": [
            "  Number of finished trials:  100\n",
            "  Number of pruned trials:  44\n",
            "  Number of complete trials:  56\n"
          ],
          "name": "stdout"
        }
      ]
    },
    {
      "cell_type": "code",
      "metadata": {
        "id": "TisMeVht2XE4",
        "colab": {
          "base_uri": "https://localhost:8080/"
        },
        "outputId": "ba7d2e71-2037-41e6-87b1-45258988f9b4"
      },
      "source": [
        "import optuna\n",
        "classes = list(set(y_df))\n",
        "#Step 1. Define an objective function to be maximized.\n",
        "def objective(trial):\n",
        "\n",
        "   \n",
        "    neighbors = trial.suggest_int(\"neighbors\", 1, 10)\n",
        "    algorithm = trial.suggest_categorical(\"algorithm\", [\"auto\", \"ball_tree\", \"kd_tree\", \"brute\"])\n",
        "    classifier_obj = KNeighborsClassifier(n_neighbors=neighbors, algorithm=algorithm)\n",
        "    for step in range(100):\n",
        "        classifier_obj.fit(Xtrain, ytrain)\n",
        "        \n",
        "        # Report intermediate objective value.\n",
        "        intermediate_value = classifier_obj.score(X_val, y_val)\n",
        "        trial.report(intermediate_value, step)\n",
        "\n",
        "        # Handle pruning based on the intermediate value.\n",
        "        if trial.should_prune():\n",
        "            raise optuna.TrialPruned()\n",
        "        return intermediate_value\n",
        "\n",
        "# Step 4: Running it\n",
        "study = optuna.create_study(direction=\"maximize\")\n",
        "study.optimize(objective, n_trials=100)\n",
        "\n",
        "# Calculating the pruned and completed trials\n",
        "pruned_trials = [t for t in study.trials if t.state == optuna.trial.TrialState.PRUNED]\n",
        "complete_trials = [t for t in study.trials if t.state == optuna.trial.TrialState.COMPLETE]\n",
        "\n",
        "print(\"  Number of finished trials: \", len(study.trials))\n",
        "print(\"  Number of pruned trials: \", len(pruned_trials))\n",
        "print(\"  Number of complete trials: \", len(complete_trials))\n",
        "\n",
        "with mlflow.start_run(experiment_id=1 , run_name=\"BEST - KNeighbors Classifier\"):\n",
        "  mlflow.log_metric(\"Accuracy\",study.best_value)\n",
        "  mlflow.log_param(\"classifier\",\"K-Neighbors Classifier\")\n",
        "  mlflow.log_params(study.best_params)"
      ],
      "execution_count": null,
      "outputs": [
        {
          "output_type": "stream",
          "text": [
            "\u001b[32m[I 2021-08-15 23:52:12,593]\u001b[0m A new study created in memory with name: no-name-26dd8290-5cfa-4c9a-b342-64a55b0ee104\u001b[0m\n",
            "\u001b[32m[I 2021-08-15 23:52:13,486]\u001b[0m Trial 0 finished with value: 0.8140013726835964 and parameters: {'neighbors': 1, 'algorithm': 'kd_tree'}. Best is trial 0 with value: 0.8140013726835964.\u001b[0m\n",
            "\u001b[32m[I 2021-08-15 23:52:14,535]\u001b[0m Trial 1 finished with value: 0.8476321207961565 and parameters: {'neighbors': 3, 'algorithm': 'kd_tree'}. Best is trial 1 with value: 0.8476321207961565.\u001b[0m\n",
            "\u001b[32m[I 2021-08-15 23:52:15,531]\u001b[0m Trial 2 finished with value: 0.7889498970487303 and parameters: {'neighbors': 2, 'algorithm': 'auto'}. Best is trial 1 with value: 0.8476321207961565.\u001b[0m\n",
            "\u001b[32m[I 2021-08-15 23:52:16,603]\u001b[0m Trial 3 finished with value: 0.8476321207961565 and parameters: {'neighbors': 3, 'algorithm': 'auto'}. Best is trial 1 with value: 0.8476321207961565.\u001b[0m\n",
            "\u001b[32m[I 2021-08-15 23:52:18,564]\u001b[0m Trial 4 finished with value: 0.8599862731640356 and parameters: {'neighbors': 8, 'algorithm': 'ball_tree'}. Best is trial 4 with value: 0.8599862731640356.\u001b[0m\n",
            "\u001b[32m[I 2021-08-15 23:52:19,220]\u001b[0m Trial 5 finished with value: 0.8647906657515443 and parameters: {'neighbors': 8, 'algorithm': 'brute'}. Best is trial 5 with value: 0.8647906657515443.\u001b[0m\n",
            "\u001b[32m[I 2021-08-15 23:52:21,210]\u001b[0m Trial 6 finished with value: 0.8599862731640356 and parameters: {'neighbors': 8, 'algorithm': 'ball_tree'}. Best is trial 5 with value: 0.8647906657515443.\u001b[0m\n",
            "\u001b[32m[I 2021-08-15 23:52:22,391]\u001b[0m Trial 7 pruned. \u001b[0m\n",
            "\u001b[32m[I 2021-08-15 23:52:23,695]\u001b[0m Trial 8 finished with value: 0.851063829787234 and parameters: {'neighbors': 9, 'algorithm': 'kd_tree'}. Best is trial 5 with value: 0.8647906657515443.\u001b[0m\n",
            "\u001b[32m[I 2021-08-15 23:52:24,800]\u001b[0m Trial 9 finished with value: 0.8544955387783116 and parameters: {'neighbors': 4, 'algorithm': 'kd_tree'}. Best is trial 5 with value: 0.8647906657515443.\u001b[0m\n",
            "\u001b[32m[I 2021-08-15 23:52:25,447]\u001b[0m Trial 10 finished with value: 0.8675360329444063 and parameters: {'neighbors': 10, 'algorithm': 'brute'}. Best is trial 10 with value: 0.8675360329444063.\u001b[0m\n",
            "\u001b[32m[I 2021-08-15 23:52:26,090]\u001b[0m Trial 11 finished with value: 0.8675360329444063 and parameters: {'neighbors': 10, 'algorithm': 'brute'}. Best is trial 10 with value: 0.8675360329444063.\u001b[0m\n",
            "\u001b[32m[I 2021-08-15 23:52:26,723]\u001b[0m Trial 12 finished with value: 0.8675360329444063 and parameters: {'neighbors': 10, 'algorithm': 'brute'}. Best is trial 10 with value: 0.8675360329444063.\u001b[0m\n",
            "\u001b[32m[I 2021-08-15 23:52:27,352]\u001b[0m Trial 13 finished with value: 0.8675360329444063 and parameters: {'neighbors': 10, 'algorithm': 'brute'}. Best is trial 10 with value: 0.8675360329444063.\u001b[0m\n",
            "\u001b[32m[I 2021-08-15 23:52:27,982]\u001b[0m Trial 14 finished with value: 0.8617021276595744 and parameters: {'neighbors': 6, 'algorithm': 'brute'}. Best is trial 10 with value: 0.8675360329444063.\u001b[0m\n",
            "\u001b[32m[I 2021-08-15 23:52:28,617]\u001b[0m Trial 15 pruned. \u001b[0m\n",
            "\u001b[32m[I 2021-08-15 23:52:29,249]\u001b[0m Trial 16 finished with value: 0.8675360329444063 and parameters: {'neighbors': 10, 'algorithm': 'brute'}. Best is trial 10 with value: 0.8675360329444063.\u001b[0m\n",
            "\u001b[32m[I 2021-08-15 23:52:29,876]\u001b[0m Trial 17 finished with value: 0.8617021276595744 and parameters: {'neighbors': 6, 'algorithm': 'brute'}. Best is trial 10 with value: 0.8675360329444063.\u001b[0m\n",
            "\u001b[32m[I 2021-08-15 23:52:30,494]\u001b[0m Trial 18 finished with value: 0.8634179821551132 and parameters: {'neighbors': 9, 'algorithm': 'brute'}. Best is trial 10 with value: 0.8675360329444063.\u001b[0m\n",
            "\u001b[32m[I 2021-08-15 23:52:32,443]\u001b[0m Trial 19 pruned. \u001b[0m\n",
            "\u001b[32m[I 2021-08-15 23:52:33,092]\u001b[0m Trial 20 pruned. \u001b[0m\n",
            "\u001b[32m[I 2021-08-15 23:52:33,724]\u001b[0m Trial 21 finished with value: 0.8675360329444063 and parameters: {'neighbors': 10, 'algorithm': 'brute'}. Best is trial 10 with value: 0.8675360329444063.\u001b[0m\n",
            "\u001b[32m[I 2021-08-15 23:52:34,349]\u001b[0m Trial 22 finished with value: 0.8675360329444063 and parameters: {'neighbors': 10, 'algorithm': 'brute'}. Best is trial 10 with value: 0.8675360329444063.\u001b[0m\n",
            "\u001b[32m[I 2021-08-15 23:52:34,984]\u001b[0m Trial 23 finished with value: 0.8634179821551132 and parameters: {'neighbors': 9, 'algorithm': 'brute'}. Best is trial 10 with value: 0.8675360329444063.\u001b[0m\n",
            "\u001b[32m[I 2021-08-15 23:52:35,602]\u001b[0m Trial 24 finished with value: 0.8675360329444063 and parameters: {'neighbors': 10, 'algorithm': 'brute'}. Best is trial 10 with value: 0.8675360329444063.\u001b[0m\n",
            "\u001b[32m[I 2021-08-15 23:52:36,216]\u001b[0m Trial 25 pruned. \u001b[0m\n",
            "\u001b[32m[I 2021-08-15 23:52:36,837]\u001b[0m Trial 26 finished with value: 0.8647906657515443 and parameters: {'neighbors': 8, 'algorithm': 'brute'}. Best is trial 10 with value: 0.8675360329444063.\u001b[0m\n",
            "\u001b[32m[I 2021-08-15 23:52:38,081]\u001b[0m Trial 27 pruned. \u001b[0m\n",
            "\u001b[32m[I 2021-08-15 23:52:40,051]\u001b[0m Trial 28 pruned. \u001b[0m\n",
            "\u001b[32m[I 2021-08-15 23:52:40,926]\u001b[0m Trial 29 pruned. \u001b[0m\n",
            "\u001b[32m[I 2021-08-15 23:52:41,555]\u001b[0m Trial 30 finished with value: 0.8634179821551132 and parameters: {'neighbors': 9, 'algorithm': 'brute'}. Best is trial 10 with value: 0.8675360329444063.\u001b[0m\n",
            "\u001b[32m[I 2021-08-15 23:52:42,209]\u001b[0m Trial 31 finished with value: 0.8675360329444063 and parameters: {'neighbors': 10, 'algorithm': 'brute'}. Best is trial 10 with value: 0.8675360329444063.\u001b[0m\n",
            "\u001b[32m[I 2021-08-15 23:52:42,830]\u001b[0m Trial 32 finished with value: 0.8675360329444063 and parameters: {'neighbors': 10, 'algorithm': 'brute'}. Best is trial 10 with value: 0.8675360329444063.\u001b[0m\n",
            "\u001b[32m[I 2021-08-15 23:52:43,454]\u001b[0m Trial 33 finished with value: 0.8634179821551132 and parameters: {'neighbors': 9, 'algorithm': 'brute'}. Best is trial 10 with value: 0.8675360329444063.\u001b[0m\n",
            "\u001b[32m[I 2021-08-15 23:52:44,074]\u001b[0m Trial 34 finished with value: 0.8647906657515443 and parameters: {'neighbors': 8, 'algorithm': 'brute'}. Best is trial 10 with value: 0.8675360329444063.\u001b[0m\n",
            "\u001b[32m[I 2021-08-15 23:52:45,373]\u001b[0m Trial 35 finished with value: 0.8641043239533288 and parameters: {'neighbors': 10, 'algorithm': 'auto'}. Best is trial 10 with value: 0.8675360329444063.\u001b[0m\n",
            "\u001b[32m[I 2021-08-15 23:52:46,650]\u001b[0m Trial 36 pruned. \u001b[0m\n",
            "\u001b[32m[I 2021-08-15 23:52:47,128]\u001b[0m Trial 37 pruned. \u001b[0m\n",
            "\u001b[32m[I 2021-08-15 23:52:49,039]\u001b[0m Trial 38 pruned. \u001b[0m\n",
            "\u001b[32m[I 2021-08-15 23:52:50,314]\u001b[0m Trial 39 finished with value: 0.8641043239533288 and parameters: {'neighbors': 10, 'algorithm': 'auto'}. Best is trial 10 with value: 0.8675360329444063.\u001b[0m\n",
            "\u001b[32m[I 2021-08-15 23:52:50,949]\u001b[0m Trial 40 finished with value: 0.8647906657515443 and parameters: {'neighbors': 8, 'algorithm': 'brute'}. Best is trial 10 with value: 0.8675360329444063.\u001b[0m\n",
            "\u001b[32m[I 2021-08-15 23:52:51,590]\u001b[0m Trial 41 finished with value: 0.8675360329444063 and parameters: {'neighbors': 10, 'algorithm': 'brute'}. Best is trial 10 with value: 0.8675360329444063.\u001b[0m\n",
            "\u001b[32m[I 2021-08-15 23:52:52,232]\u001b[0m Trial 42 finished with value: 0.8675360329444063 and parameters: {'neighbors': 10, 'algorithm': 'brute'}. Best is trial 10 with value: 0.8675360329444063.\u001b[0m\n",
            "\u001b[32m[I 2021-08-15 23:52:52,858]\u001b[0m Trial 43 pruned. \u001b[0m\n",
            "\u001b[32m[I 2021-08-15 23:52:53,496]\u001b[0m Trial 44 finished with value: 0.8675360329444063 and parameters: {'neighbors': 10, 'algorithm': 'brute'}. Best is trial 10 with value: 0.8675360329444063.\u001b[0m\n",
            "\u001b[32m[I 2021-08-15 23:52:54,588]\u001b[0m Trial 45 pruned. \u001b[0m\n",
            "\u001b[32m[I 2021-08-15 23:52:55,227]\u001b[0m Trial 46 pruned. \u001b[0m\n",
            "\u001b[32m[I 2021-08-15 23:52:55,858]\u001b[0m Trial 47 finished with value: 0.8675360329444063 and parameters: {'neighbors': 10, 'algorithm': 'brute'}. Best is trial 10 with value: 0.8675360329444063.\u001b[0m\n",
            "\u001b[32m[I 2021-08-15 23:52:57,802]\u001b[0m Trial 48 pruned. \u001b[0m\n",
            "\u001b[32m[I 2021-08-15 23:52:58,432]\u001b[0m Trial 49 finished with value: 0.8675360329444063 and parameters: {'neighbors': 10, 'algorithm': 'brute'}. Best is trial 10 with value: 0.8675360329444063.\u001b[0m\n",
            "\u001b[32m[I 2021-08-15 23:52:59,691]\u001b[0m Trial 50 pruned. \u001b[0m\n",
            "\u001b[32m[I 2021-08-15 23:53:00,318]\u001b[0m Trial 51 finished with value: 0.8675360329444063 and parameters: {'neighbors': 10, 'algorithm': 'brute'}. Best is trial 10 with value: 0.8675360329444063.\u001b[0m\n",
            "\u001b[32m[I 2021-08-15 23:53:00,941]\u001b[0m Trial 52 finished with value: 0.8675360329444063 and parameters: {'neighbors': 10, 'algorithm': 'brute'}. Best is trial 10 with value: 0.8675360329444063.\u001b[0m\n",
            "\u001b[32m[I 2021-08-15 23:53:01,567]\u001b[0m Trial 53 finished with value: 0.8675360329444063 and parameters: {'neighbors': 10, 'algorithm': 'brute'}. Best is trial 10 with value: 0.8675360329444063.\u001b[0m\n",
            "\u001b[32m[I 2021-08-15 23:53:02,198]\u001b[0m Trial 54 pruned. \u001b[0m\n",
            "\u001b[32m[I 2021-08-15 23:53:02,827]\u001b[0m Trial 55 finished with value: 0.8675360329444063 and parameters: {'neighbors': 10, 'algorithm': 'brute'}. Best is trial 10 with value: 0.8675360329444063.\u001b[0m\n",
            "\u001b[32m[I 2021-08-15 23:53:03,463]\u001b[0m Trial 56 pruned. \u001b[0m\n",
            "\u001b[32m[I 2021-08-15 23:53:04,093]\u001b[0m Trial 57 pruned. \u001b[0m\n",
            "\u001b[32m[I 2021-08-15 23:53:04,719]\u001b[0m Trial 58 pruned. \u001b[0m\n",
            "\u001b[32m[I 2021-08-15 23:53:06,011]\u001b[0m Trial 59 pruned. \u001b[0m\n",
            "\u001b[32m[I 2021-08-15 23:53:06,634]\u001b[0m Trial 60 pruned. \u001b[0m\n",
            "\u001b[32m[I 2021-08-15 23:53:07,260]\u001b[0m Trial 61 finished with value: 0.8675360329444063 and parameters: {'neighbors': 10, 'algorithm': 'brute'}. Best is trial 10 with value: 0.8675360329444063.\u001b[0m\n",
            "\u001b[32m[I 2021-08-15 23:53:07,883]\u001b[0m Trial 62 finished with value: 0.8675360329444063 and parameters: {'neighbors': 10, 'algorithm': 'brute'}. Best is trial 10 with value: 0.8675360329444063.\u001b[0m\n",
            "\u001b[32m[I 2021-08-15 23:53:08,516]\u001b[0m Trial 63 finished with value: 0.8675360329444063 and parameters: {'neighbors': 10, 'algorithm': 'brute'}. Best is trial 10 with value: 0.8675360329444063.\u001b[0m\n",
            "\u001b[32m[I 2021-08-15 23:53:09,151]\u001b[0m Trial 64 finished with value: 0.8675360329444063 and parameters: {'neighbors': 10, 'algorithm': 'brute'}. Best is trial 10 with value: 0.8675360329444063.\u001b[0m\n",
            "\u001b[32m[I 2021-08-15 23:53:09,762]\u001b[0m Trial 65 finished with value: 0.8675360329444063 and parameters: {'neighbors': 10, 'algorithm': 'brute'}. Best is trial 10 with value: 0.8675360329444063.\u001b[0m\n",
            "\u001b[32m[I 2021-08-15 23:53:10,387]\u001b[0m Trial 66 pruned. \u001b[0m\n",
            "\u001b[32m[I 2021-08-15 23:53:12,347]\u001b[0m Trial 67 pruned. \u001b[0m\n",
            "\u001b[32m[I 2021-08-15 23:53:13,003]\u001b[0m Trial 68 pruned. \u001b[0m\n",
            "\u001b[32m[I 2021-08-15 23:53:13,669]\u001b[0m Trial 69 finished with value: 0.8675360329444063 and parameters: {'neighbors': 10, 'algorithm': 'brute'}. Best is trial 10 with value: 0.8675360329444063.\u001b[0m\n",
            "\u001b[32m[I 2021-08-15 23:53:14,919]\u001b[0m Trial 70 pruned. \u001b[0m\n",
            "\u001b[32m[I 2021-08-15 23:53:15,558]\u001b[0m Trial 71 finished with value: 0.8675360329444063 and parameters: {'neighbors': 10, 'algorithm': 'brute'}. Best is trial 10 with value: 0.8675360329444063.\u001b[0m\n",
            "\u001b[32m[I 2021-08-15 23:53:16,217]\u001b[0m Trial 72 finished with value: 0.8675360329444063 and parameters: {'neighbors': 10, 'algorithm': 'brute'}. Best is trial 10 with value: 0.8675360329444063.\u001b[0m\n",
            "\u001b[32m[I 2021-08-15 23:53:16,859]\u001b[0m Trial 73 finished with value: 0.8675360329444063 and parameters: {'neighbors': 10, 'algorithm': 'brute'}. Best is trial 10 with value: 0.8675360329444063.\u001b[0m\n",
            "\u001b[32m[I 2021-08-15 23:53:17,500]\u001b[0m Trial 74 pruned. \u001b[0m\n",
            "\u001b[32m[I 2021-08-15 23:53:17,889]\u001b[0m Trial 75 pruned. \u001b[0m\n",
            "\u001b[32m[I 2021-08-15 23:53:18,530]\u001b[0m Trial 76 pruned. \u001b[0m\n",
            "\u001b[32m[I 2021-08-15 23:53:19,178]\u001b[0m Trial 77 finished with value: 0.8675360329444063 and parameters: {'neighbors': 10, 'algorithm': 'brute'}. Best is trial 10 with value: 0.8675360329444063.\u001b[0m\n",
            "\u001b[32m[I 2021-08-15 23:53:20,481]\u001b[0m Trial 78 pruned. \u001b[0m\n",
            "\u001b[32m[I 2021-08-15 23:53:20,924]\u001b[0m Trial 79 pruned. \u001b[0m\n",
            "\u001b[32m[I 2021-08-15 23:53:21,564]\u001b[0m Trial 80 pruned. \u001b[0m\n",
            "\u001b[32m[I 2021-08-15 23:53:22,202]\u001b[0m Trial 81 finished with value: 0.8675360329444063 and parameters: {'neighbors': 10, 'algorithm': 'brute'}. Best is trial 10 with value: 0.8675360329444063.\u001b[0m\n",
            "\u001b[32m[I 2021-08-15 23:53:22,844]\u001b[0m Trial 82 finished with value: 0.8675360329444063 and parameters: {'neighbors': 10, 'algorithm': 'brute'}. Best is trial 10 with value: 0.8675360329444063.\u001b[0m\n",
            "\u001b[32m[I 2021-08-15 23:53:23,491]\u001b[0m Trial 83 finished with value: 0.8675360329444063 and parameters: {'neighbors': 10, 'algorithm': 'brute'}. Best is trial 10 with value: 0.8675360329444063.\u001b[0m\n",
            "\u001b[32m[I 2021-08-15 23:53:24,134]\u001b[0m Trial 84 finished with value: 0.8675360329444063 and parameters: {'neighbors': 10, 'algorithm': 'brute'}. Best is trial 10 with value: 0.8675360329444063.\u001b[0m\n",
            "\u001b[32m[I 2021-08-15 23:53:26,143]\u001b[0m Trial 85 pruned. \u001b[0m\n",
            "\u001b[32m[I 2021-08-15 23:53:26,787]\u001b[0m Trial 86 finished with value: 0.8675360329444063 and parameters: {'neighbors': 10, 'algorithm': 'brute'}. Best is trial 10 with value: 0.8675360329444063.\u001b[0m\n",
            "\u001b[32m[I 2021-08-15 23:53:27,434]\u001b[0m Trial 87 pruned. \u001b[0m\n",
            "\u001b[32m[I 2021-08-15 23:53:28,718]\u001b[0m Trial 88 pruned. \u001b[0m\n",
            "\u001b[32m[I 2021-08-15 23:53:29,376]\u001b[0m Trial 89 finished with value: 0.8675360329444063 and parameters: {'neighbors': 10, 'algorithm': 'brute'}. Best is trial 10 with value: 0.8675360329444063.\u001b[0m\n",
            "\u001b[32m[I 2021-08-15 23:53:30,020]\u001b[0m Trial 90 finished with value: 0.8675360329444063 and parameters: {'neighbors': 10, 'algorithm': 'brute'}. Best is trial 10 with value: 0.8675360329444063.\u001b[0m\n",
            "\u001b[32m[I 2021-08-15 23:53:30,671]\u001b[0m Trial 91 finished with value: 0.8675360329444063 and parameters: {'neighbors': 10, 'algorithm': 'brute'}. Best is trial 10 with value: 0.8675360329444063.\u001b[0m\n",
            "\u001b[32m[I 2021-08-15 23:53:31,320]\u001b[0m Trial 92 finished with value: 0.8675360329444063 and parameters: {'neighbors': 10, 'algorithm': 'brute'}. Best is trial 10 with value: 0.8675360329444063.\u001b[0m\n",
            "\u001b[32m[I 2021-08-15 23:53:31,983]\u001b[0m Trial 93 finished with value: 0.8675360329444063 and parameters: {'neighbors': 10, 'algorithm': 'brute'}. Best is trial 10 with value: 0.8675360329444063.\u001b[0m\n",
            "\u001b[32m[I 2021-08-15 23:53:32,639]\u001b[0m Trial 94 finished with value: 0.8675360329444063 and parameters: {'neighbors': 10, 'algorithm': 'brute'}. Best is trial 10 with value: 0.8675360329444063.\u001b[0m\n",
            "\u001b[32m[I 2021-08-15 23:53:33,282]\u001b[0m Trial 95 pruned. \u001b[0m\n",
            "\u001b[32m[I 2021-08-15 23:53:33,944]\u001b[0m Trial 96 pruned. \u001b[0m\n",
            "\u001b[32m[I 2021-08-15 23:53:34,594]\u001b[0m Trial 97 finished with value: 0.8675360329444063 and parameters: {'neighbors': 10, 'algorithm': 'brute'}. Best is trial 10 with value: 0.8675360329444063.\u001b[0m\n",
            "\u001b[32m[I 2021-08-15 23:53:35,762]\u001b[0m Trial 98 pruned. \u001b[0m\n",
            "\u001b[32m[I 2021-08-15 23:53:36,408]\u001b[0m Trial 99 pruned. \u001b[0m\n"
          ],
          "name": "stderr"
        },
        {
          "output_type": "stream",
          "text": [
            "  Number of finished trials:  100\n",
            "  Number of pruned trials:  39\n",
            "  Number of complete trials:  61\n"
          ],
          "name": "stdout"
        }
      ]
    },
    {
      "cell_type": "code",
      "metadata": {
        "id": "xSr7OtWd2cOj",
        "colab": {
          "base_uri": "https://localhost:8080/"
        },
        "outputId": "73410fa8-3450-4e89-cc19-819918c54b49"
      },
      "source": [
        "import optuna\n",
        "classes = list(set(y_df))\n",
        "#Step 1. Define an objective function to be maximized.\n",
        "def objective(trial):\n",
        "\n",
        "    neurons = trial.suggest_int(\"neurons\", 50, 200)\n",
        "    depth = trial.suggest_int(\"depth\",1,4)\n",
        "    layer_sizes = tuple([neurons for _ in range(depth)])\n",
        "    alpha = trial.suggest_float(\"alpha\",0.000001,0.001)\n",
        "    activation_function = trial.suggest_categorical(\"activation_function\",[\"identity\",\"logistic\",\"tanh\",\"relu\"])\n",
        "    \n",
        "    classifier_obj = MLPClassifier(hidden_layer_sizes=layer_sizes, alpha=alpha, activation=activation_function)\n",
        "    for step in range(100):\n",
        "        classifier_obj.fit(Xtrain, ytrain)\n",
        "        \n",
        "        # Report intermediate objective value.\n",
        "        intermediate_value = classifier_obj.score(X_val, y_val)\n",
        "        trial.report(intermediate_value, step)\n",
        "\n",
        "        # Handle pruning based on the intermediate value.\n",
        "        if trial.should_prune():\n",
        "            raise optuna.TrialPruned()\n",
        "        return intermediate_value\n",
        "\n",
        "# Step 4: Running it\n",
        "study = optuna.create_study(direction=\"maximize\")\n",
        "study.optimize(objective, n_trials=100)\n",
        "\n",
        "# Calculating the pruned and completed trials\n",
        "pruned_trials = [t for t in study.trials if t.state == optuna.trial.TrialState.PRUNED]\n",
        "complete_trials = [t for t in study.trials if t.state == optuna.trial.TrialState.COMPLETE]\n",
        "\n",
        "print(\"  Number of finished trials: \", len(study.trials))\n",
        "print(\"  Number of pruned trials: \", len(pruned_trials))\n",
        "print(\"  Number of complete trials: \", len(complete_trials))\n",
        "\n",
        "with mlflow.start_run(experiment_id=1 , run_name=\"BEST - MLP Classifier\"):\n",
        "  mlflow.log_metric(\"Accuracy\",study.best_value)\n",
        "  mlflow.log_param(\"classifier\",\"MLP Classifier\")\n",
        "  mlflow.log_params(study.best_params)"
      ],
      "execution_count": null,
      "outputs": [
        {
          "output_type": "stream",
          "text": [
            "\u001b[32m[I 2021-08-15 23:53:36,501]\u001b[0m A new study created in memory with name: no-name-aa266ab2-3149-4328-81ca-94e926481a26\u001b[0m\n",
            "/usr/local/lib/python3.7/dist-packages/sklearn/neural_network/_multilayer_perceptron.py:571: ConvergenceWarning:\n",
            "\n",
            "Stochastic Optimizer: Maximum iterations (200) reached and the optimization hasn't converged yet.\n",
            "\n",
            "\u001b[32m[I 2021-08-15 23:54:28,305]\u001b[0m Trial 0 finished with value: 0.8572409059711736 and parameters: {'neurons': 152, 'depth': 2, 'alpha': 0.0008423090656821936, 'activation_function': 'tanh'}. Best is trial 0 with value: 0.8572409059711736.\u001b[0m\n",
            "\u001b[32m[I 2021-08-15 23:55:01,848]\u001b[0m Trial 1 finished with value: 0.853809196980096 and parameters: {'neurons': 138, 'depth': 3, 'alpha': 0.000470629697035064, 'activation_function': 'relu'}. Best is trial 0 with value: 0.8572409059711736.\u001b[0m\n",
            "/usr/local/lib/python3.7/dist-packages/sklearn/neural_network/_multilayer_perceptron.py:571: ConvergenceWarning:\n",
            "\n",
            "Stochastic Optimizer: Maximum iterations (200) reached and the optimization hasn't converged yet.\n",
            "\n",
            "\u001b[32m[I 2021-08-15 23:55:23,348]\u001b[0m Trial 2 finished with value: 0.8713109128345916 and parameters: {'neurons': 136, 'depth': 1, 'alpha': 4.474598886994464e-05, 'activation_function': 'tanh'}. Best is trial 2 with value: 0.8713109128345916.\u001b[0m\n",
            "\u001b[32m[I 2021-08-15 23:56:56,725]\u001b[0m Trial 3 finished with value: 0.8572409059711736 and parameters: {'neurons': 131, 'depth': 4, 'alpha': 0.0007856410305778542, 'activation_function': 'tanh'}. Best is trial 2 with value: 0.8713109128345916.\u001b[0m\n",
            "\u001b[32m[I 2021-08-15 23:57:04,323]\u001b[0m Trial 4 finished with value: 0.8747426218256692 and parameters: {'neurons': 162, 'depth': 3, 'alpha': 0.0009292742100397339, 'activation_function': 'identity'}. Best is trial 4 with value: 0.8747426218256692.\u001b[0m\n",
            "\u001b[32m[I 2021-08-15 23:57:28,467]\u001b[0m Trial 5 pruned. \u001b[0m\n",
            "\u001b[32m[I 2021-08-15 23:58:16,362]\u001b[0m Trial 6 finished with value: 0.8733699382292381 and parameters: {'neurons': 103, 'depth': 4, 'alpha': 0.00028149950021335516, 'activation_function': 'logistic'}. Best is trial 4 with value: 0.8747426218256692.\u001b[0m\n",
            "\u001b[32m[I 2021-08-15 23:58:18,367]\u001b[0m Trial 7 finished with value: 0.876458476321208 and parameters: {'neurons': 104, 'depth': 2, 'alpha': 0.00017940917756653364, 'activation_function': 'identity'}. Best is trial 7 with value: 0.876458476321208.\u001b[0m\n",
            "\u001b[32m[I 2021-08-15 23:58:39,289]\u001b[0m Trial 8 finished with value: 0.8740562800274537 and parameters: {'neurons': 50, 'depth': 4, 'alpha': 0.00018079253365169403, 'activation_function': 'logistic'}. Best is trial 7 with value: 0.876458476321208.\u001b[0m\n",
            "/usr/local/lib/python3.7/dist-packages/sklearn/neural_network/_multilayer_perceptron.py:571: ConvergenceWarning:\n",
            "\n",
            "Stochastic Optimizer: Maximum iterations (200) reached and the optimization hasn't converged yet.\n",
            "\n",
            "\u001b[32m[I 2021-08-15 23:59:04,143]\u001b[0m Trial 9 pruned. \u001b[0m\n",
            "\u001b[32m[I 2021-08-15 23:59:07,195]\u001b[0m Trial 10 pruned. \u001b[0m\n",
            "\u001b[32m[I 2021-08-15 23:59:17,025]\u001b[0m Trial 11 finished with value: 0.8761153054221003 and parameters: {'neurons': 182, 'depth': 3, 'alpha': 0.0009743349481417635, 'activation_function': 'identity'}. Best is trial 7 with value: 0.876458476321208.\u001b[0m\n",
            "\u001b[32m[I 2021-08-15 23:59:19,957]\u001b[0m Trial 12 finished with value: 0.8750857927247769 and parameters: {'neurons': 80, 'depth': 3, 'alpha': 0.0006265915250651983, 'activation_function': 'identity'}. Best is trial 7 with value: 0.876458476321208.\u001b[0m\n",
            "\u001b[32m[I 2021-08-15 23:59:29,690]\u001b[0m Trial 13 pruned. \u001b[0m\n",
            "\u001b[32m[I 2021-08-15 23:59:42,004]\u001b[0m Trial 14 finished with value: 0.8781743308167468 and parameters: {'neurons': 176, 'depth': 3, 'alpha': 6.493320156266807e-06, 'activation_function': 'identity'}. Best is trial 14 with value: 0.8781743308167468.\u001b[0m\n",
            "\u001b[32m[I 2021-08-15 23:59:43,478]\u001b[0m Trial 15 pruned. \u001b[0m\n",
            "\u001b[32m[I 2021-08-15 23:59:54,062]\u001b[0m Trial 16 pruned. \u001b[0m\n",
            "\u001b[32m[I 2021-08-15 23:59:55,523]\u001b[0m Trial 17 pruned. \u001b[0m\n",
            "\u001b[32m[I 2021-08-16 00:00:23,145]\u001b[0m Trial 18 pruned. \u001b[0m\n",
            "\u001b[32m[I 2021-08-16 00:00:28,588]\u001b[0m Trial 19 pruned. \u001b[0m\n",
            "\u001b[32m[I 2021-08-16 00:00:30,542]\u001b[0m Trial 20 finished with value: 0.8768016472203157 and parameters: {'neurons': 159, 'depth': 1, 'alpha': 0.00010331572429379955, 'activation_function': 'identity'}. Best is trial 14 with value: 0.8781743308167468.\u001b[0m\n",
            "\u001b[32m[I 2021-08-16 00:00:33,066]\u001b[0m Trial 21 pruned. \u001b[0m\n",
            "\u001b[32m[I 2021-08-16 00:00:35,408]\u001b[0m Trial 22 pruned. \u001b[0m\n",
            "\u001b[32m[I 2021-08-16 00:00:38,422]\u001b[0m Trial 23 pruned. \u001b[0m\n",
            "\u001b[32m[I 2021-08-16 00:00:42,449]\u001b[0m Trial 24 finished with value: 0.8781743308167468 and parameters: {'neurons': 122, 'depth': 2, 'alpha': 0.000419918635161924, 'activation_function': 'identity'}. Best is trial 14 with value: 0.8781743308167468.\u001b[0m\n",
            "\u001b[32m[I 2021-08-16 00:00:48,779]\u001b[0m Trial 25 pruned. \u001b[0m\n",
            "/usr/local/lib/python3.7/dist-packages/sklearn/neural_network/_multilayer_perceptron.py:571: ConvergenceWarning:\n",
            "\n",
            "Stochastic Optimizer: Maximum iterations (200) reached and the optimization hasn't converged yet.\n",
            "\n",
            "\u001b[32m[I 2021-08-16 00:01:52,154]\u001b[0m Trial 26 finished with value: 0.8750857927247769 and parameters: {'neurons': 186, 'depth': 2, 'alpha': 0.0003337680723895378, 'activation_function': 'logistic'}. Best is trial 14 with value: 0.8781743308167468.\u001b[0m\n",
            "/usr/local/lib/python3.7/dist-packages/sklearn/neural_network/_multilayer_perceptron.py:571: ConvergenceWarning:\n",
            "\n",
            "Stochastic Optimizer: Maximum iterations (200) reached and the optimization hasn't converged yet.\n",
            "\n",
            "\u001b[32m[I 2021-08-16 00:02:07,205]\u001b[0m Trial 27 pruned. \u001b[0m\n",
            "\u001b[32m[I 2021-08-16 00:04:14,309]\u001b[0m Trial 28 pruned. \u001b[0m\n",
            "/usr/local/lib/python3.7/dist-packages/sklearn/neural_network/_multilayer_perceptron.py:571: ConvergenceWarning:\n",
            "\n",
            "Stochastic Optimizer: Maximum iterations (200) reached and the optimization hasn't converged yet.\n",
            "\n",
            "\u001b[32m[I 2021-08-16 00:05:03,183]\u001b[0m Trial 29 pruned. \u001b[0m\n",
            "\u001b[32m[I 2021-08-16 00:05:10,884]\u001b[0m Trial 30 pruned. \u001b[0m\n",
            "\u001b[32m[I 2021-08-16 00:05:14,355]\u001b[0m Trial 31 pruned. \u001b[0m\n",
            "\u001b[32m[I 2021-08-16 00:05:18,499]\u001b[0m Trial 32 pruned. \u001b[0m\n",
            "\u001b[32m[I 2021-08-16 00:05:20,867]\u001b[0m Trial 33 pruned. \u001b[0m\n",
            "\u001b[32m[I 2021-08-16 00:05:24,797]\u001b[0m Trial 34 finished with value: 0.8754289636238847 and parameters: {'neurons': 129, 'depth': 3, 'alpha': 1.931888161115609e-06, 'activation_function': 'identity'}. Best is trial 14 with value: 0.8781743308167468.\u001b[0m\n",
            "/usr/local/lib/python3.7/dist-packages/sklearn/neural_network/_multilayer_perceptron.py:571: ConvergenceWarning:\n",
            "\n",
            "Stochastic Optimizer: Maximum iterations (200) reached and the optimization hasn't converged yet.\n",
            "\n",
            "\u001b[32m[I 2021-08-16 00:06:14,234]\u001b[0m Trial 35 pruned. \u001b[0m\n",
            "/usr/local/lib/python3.7/dist-packages/sklearn/neural_network/_multilayer_perceptron.py:571: ConvergenceWarning:\n",
            "\n",
            "Stochastic Optimizer: Maximum iterations (200) reached and the optimization hasn't converged yet.\n",
            "\n",
            "\u001b[32m[I 2021-08-16 00:06:52,497]\u001b[0m Trial 36 pruned. \u001b[0m\n",
            "\u001b[32m[I 2021-08-16 00:06:54,266]\u001b[0m Trial 37 pruned. \u001b[0m\n",
            "\u001b[32m[I 2021-08-16 00:06:58,744]\u001b[0m Trial 38 finished with value: 0.876458476321208 and parameters: {'neurons': 162, 'depth': 2, 'alpha': 0.00036790349820154885, 'activation_function': 'identity'}. Best is trial 14 with value: 0.8781743308167468.\u001b[0m\n",
            "\u001b[32m[I 2021-08-16 00:08:03,300]\u001b[0m Trial 39 pruned. \u001b[0m\n",
            "/usr/local/lib/python3.7/dist-packages/sklearn/neural_network/_multilayer_perceptron.py:571: ConvergenceWarning:\n",
            "\n",
            "Stochastic Optimizer: Maximum iterations (200) reached and the optimization hasn't converged yet.\n",
            "\n",
            "\u001b[32m[I 2021-08-16 00:09:16,824]\u001b[0m Trial 40 pruned. \u001b[0m\n",
            "\u001b[32m[I 2021-08-16 00:09:21,549]\u001b[0m Trial 41 pruned. \u001b[0m\n",
            "\u001b[32m[I 2021-08-16 00:09:25,265]\u001b[0m Trial 42 pruned. \u001b[0m\n",
            "\u001b[32m[I 2021-08-16 00:09:37,023]\u001b[0m Trial 43 finished with value: 0.8754289636238847 and parameters: {'neurons': 178, 'depth': 2, 'alpha': 0.00037380330194432894, 'activation_function': 'identity'}. Best is trial 14 with value: 0.8781743308167468.\u001b[0m\n",
            "\u001b[32m[I 2021-08-16 00:09:58,631]\u001b[0m Trial 44 pruned. \u001b[0m\n",
            "\u001b[32m[I 2021-08-16 00:10:03,148]\u001b[0m Trial 45 pruned. \u001b[0m\n",
            "\u001b[32m[I 2021-08-16 00:10:05,738]\u001b[0m Trial 46 pruned. \u001b[0m\n",
            "\u001b[32m[I 2021-08-16 00:10:15,619]\u001b[0m Trial 47 pruned. \u001b[0m\n",
            "\u001b[32m[I 2021-08-16 00:10:18,148]\u001b[0m Trial 48 pruned. \u001b[0m\n",
            "\u001b[32m[I 2021-08-16 00:10:42,967]\u001b[0m Trial 49 pruned. \u001b[0m\n",
            "\u001b[32m[I 2021-08-16 00:10:44,539]\u001b[0m Trial 50 finished with value: 0.8778311599176389 and parameters: {'neurons': 126, 'depth': 1, 'alpha': 0.0007289558790117903, 'activation_function': 'identity'}. Best is trial 14 with value: 0.8781743308167468.\u001b[0m\n",
            "\u001b[32m[I 2021-08-16 00:10:46,223]\u001b[0m Trial 51 pruned. \u001b[0m\n",
            "\u001b[32m[I 2021-08-16 00:10:48,469]\u001b[0m Trial 52 finished with value: 0.8781743308167468 and parameters: {'neurons': 93, 'depth': 1, 'alpha': 0.0009053540972229458, 'activation_function': 'identity'}. Best is trial 14 with value: 0.8781743308167468.\u001b[0m\n",
            "\u001b[32m[I 2021-08-16 00:10:49,976]\u001b[0m Trial 53 finished with value: 0.8768016472203157 and parameters: {'neurons': 71, 'depth': 1, 'alpha': 0.0009294938944546796, 'activation_function': 'identity'}. Best is trial 14 with value: 0.8781743308167468.\u001b[0m\n",
            "\u001b[32m[I 2021-08-16 00:10:52,317]\u001b[0m Trial 54 pruned. \u001b[0m\n",
            "\u001b[32m[I 2021-08-16 00:10:54,214]\u001b[0m Trial 55 pruned. \u001b[0m\n",
            "\u001b[32m[I 2021-08-16 00:10:55,840]\u001b[0m Trial 56 pruned. \u001b[0m\n",
            "/usr/local/lib/python3.7/dist-packages/sklearn/neural_network/_multilayer_perceptron.py:571: ConvergenceWarning:\n",
            "\n",
            "Stochastic Optimizer: Maximum iterations (200) reached and the optimization hasn't converged yet.\n",
            "\n",
            "\u001b[32m[I 2021-08-16 00:11:05,793]\u001b[0m Trial 57 pruned. \u001b[0m\n",
            "\u001b[32m[I 2021-08-16 00:11:07,914]\u001b[0m Trial 58 pruned. \u001b[0m\n",
            "\u001b[32m[I 2021-08-16 00:11:09,380]\u001b[0m Trial 59 pruned. \u001b[0m\n",
            "\u001b[32m[I 2021-08-16 00:11:11,742]\u001b[0m Trial 60 pruned. \u001b[0m\n",
            "\u001b[32m[I 2021-08-16 00:11:13,868]\u001b[0m Trial 61 pruned. \u001b[0m\n",
            "\u001b[32m[I 2021-08-16 00:11:16,157]\u001b[0m Trial 62 pruned. \u001b[0m\n",
            "\u001b[32m[I 2021-08-16 00:11:17,804]\u001b[0m Trial 63 pruned. \u001b[0m\n",
            "\u001b[32m[I 2021-08-16 00:11:21,265]\u001b[0m Trial 64 finished with value: 0.8761153054221003 and parameters: {'neurons': 171, 'depth': 1, 'alpha': 0.0009951516016758481, 'activation_function': 'identity'}. Best is trial 14 with value: 0.8781743308167468.\u001b[0m\n",
            "\u001b[32m[I 2021-08-16 00:11:23,277]\u001b[0m Trial 65 pruned. \u001b[0m\n",
            "\u001b[32m[I 2021-08-16 00:11:50,823]\u001b[0m Trial 66 pruned. \u001b[0m\n",
            "/usr/local/lib/python3.7/dist-packages/sklearn/neural_network/_multilayer_perceptron.py:571: ConvergenceWarning:\n",
            "\n",
            "Stochastic Optimizer: Maximum iterations (200) reached and the optimization hasn't converged yet.\n",
            "\n",
            "\u001b[32m[I 2021-08-16 00:12:10,009]\u001b[0m Trial 67 pruned. \u001b[0m\n",
            "\u001b[32m[I 2021-08-16 00:12:12,195]\u001b[0m Trial 68 pruned. \u001b[0m\n",
            "\u001b[32m[I 2021-08-16 00:12:23,036]\u001b[0m Trial 69 pruned. \u001b[0m\n",
            "\u001b[32m[I 2021-08-16 00:12:26,561]\u001b[0m Trial 70 finished with value: 0.8768016472203157 and parameters: {'neurons': 94, 'depth': 4, 'alpha': 0.0005527473673774924, 'activation_function': 'identity'}. Best is trial 14 with value: 0.8781743308167468.\u001b[0m\n",
            "\u001b[32m[I 2021-08-16 00:12:29,255]\u001b[0m Trial 71 pruned. \u001b[0m\n",
            "\u001b[32m[I 2021-08-16 00:12:38,149]\u001b[0m Trial 72 pruned. \u001b[0m\n",
            "\u001b[32m[I 2021-08-16 00:12:43,604]\u001b[0m Trial 73 pruned. \u001b[0m\n",
            "\u001b[32m[I 2021-08-16 00:12:56,641]\u001b[0m Trial 74 pruned. \u001b[0m\n",
            "\u001b[32m[I 2021-08-16 00:13:10,777]\u001b[0m Trial 75 pruned. \u001b[0m\n",
            "\u001b[32m[I 2021-08-16 00:13:13,104]\u001b[0m Trial 76 pruned. \u001b[0m\n",
            "/usr/local/lib/python3.7/dist-packages/sklearn/neural_network/_multilayer_perceptron.py:571: ConvergenceWarning:\n",
            "\n",
            "Stochastic Optimizer: Maximum iterations (200) reached and the optimization hasn't converged yet.\n",
            "\n",
            "\u001b[32m[I 2021-08-16 00:13:49,022]\u001b[0m Trial 77 pruned. \u001b[0m\n",
            "\u001b[32m[I 2021-08-16 00:13:54,929]\u001b[0m Trial 78 pruned. \u001b[0m\n",
            "\u001b[32m[I 2021-08-16 00:13:57,354]\u001b[0m Trial 79 finished with value: 0.8761153054221003 and parameters: {'neurons': 138, 'depth': 1, 'alpha': 0.0004016531947265015, 'activation_function': 'identity'}. Best is trial 14 with value: 0.8781743308167468.\u001b[0m\n",
            "\u001b[32m[I 2021-08-16 00:14:26,893]\u001b[0m Trial 80 pruned. \u001b[0m\n",
            "\u001b[32m[I 2021-08-16 00:14:29,214]\u001b[0m Trial 81 pruned. \u001b[0m\n",
            "\u001b[32m[I 2021-08-16 00:14:35,202]\u001b[0m Trial 82 pruned. \u001b[0m\n",
            "\u001b[32m[I 2021-08-16 00:14:38,195]\u001b[0m Trial 83 finished with value: 0.8768016472203157 and parameters: {'neurons': 108, 'depth': 2, 'alpha': 0.0005515550442016279, 'activation_function': 'identity'}. Best is trial 14 with value: 0.8781743308167468.\u001b[0m\n",
            "\u001b[32m[I 2021-08-16 00:14:42,067]\u001b[0m Trial 84 pruned. \u001b[0m\n",
            "\u001b[32m[I 2021-08-16 00:14:44,994]\u001b[0m Trial 85 pruned. \u001b[0m\n",
            "\u001b[32m[I 2021-08-16 00:14:47,371]\u001b[0m Trial 86 pruned. \u001b[0m\n",
            "\u001b[32m[I 2021-08-16 00:14:55,805]\u001b[0m Trial 87 finished with value: 0.876458476321208 and parameters: {'neurons': 133, 'depth': 3, 'alpha': 1.922869703151233e-05, 'activation_function': 'identity'}. Best is trial 14 with value: 0.8781743308167468.\u001b[0m\n",
            "\u001b[32m[I 2021-08-16 00:14:59,011]\u001b[0m Trial 88 pruned. \u001b[0m\n",
            "/usr/local/lib/python3.7/dist-packages/sklearn/neural_network/_multilayer_perceptron.py:571: ConvergenceWarning:\n",
            "\n",
            "Stochastic Optimizer: Maximum iterations (200) reached and the optimization hasn't converged yet.\n",
            "\n",
            "\u001b[32m[I 2021-08-16 00:15:15,914]\u001b[0m Trial 89 pruned. \u001b[0m\n",
            "\u001b[32m[I 2021-08-16 00:15:27,171]\u001b[0m Trial 90 finished with value: 0.8778311599176389 and parameters: {'neurons': 174, 'depth': 2, 'alpha': 0.0009316385602182238, 'activation_function': 'identity'}. Best is trial 14 with value: 0.8781743308167468.\u001b[0m\n",
            "\u001b[32m[I 2021-08-16 00:15:30,698]\u001b[0m Trial 91 pruned. \u001b[0m\n",
            "\u001b[32m[I 2021-08-16 00:15:35,414]\u001b[0m Trial 92 pruned. \u001b[0m\n",
            "\u001b[32m[I 2021-08-16 00:15:44,908]\u001b[0m Trial 93 finished with value: 0.8761153054221003 and parameters: {'neurons': 127, 'depth': 3, 'alpha': 0.0009760383776272728, 'activation_function': 'identity'}. Best is trial 14 with value: 0.8781743308167468.\u001b[0m\n",
            "\u001b[32m[I 2021-08-16 00:15:50,521]\u001b[0m Trial 94 pruned. \u001b[0m\n",
            "\u001b[32m[I 2021-08-16 00:15:57,049]\u001b[0m Trial 95 finished with value: 0.8771448181194235 and parameters: {'neurons': 169, 'depth': 2, 'alpha': 0.0009195357308264302, 'activation_function': 'identity'}. Best is trial 14 with value: 0.8781743308167468.\u001b[0m\n",
            "\u001b[32m[I 2021-08-16 00:16:05,584]\u001b[0m Trial 96 pruned. \u001b[0m\n",
            "\u001b[32m[I 2021-08-16 00:16:16,082]\u001b[0m Trial 97 pruned. \u001b[0m\n",
            "\u001b[32m[I 2021-08-16 00:16:44,795]\u001b[0m Trial 98 pruned. \u001b[0m\n",
            "\u001b[32m[I 2021-08-16 00:16:47,212]\u001b[0m Trial 99 finished with value: 0.8785175017158545 and parameters: {'neurons': 167, 'depth': 1, 'alpha': 0.0009718355952516894, 'activation_function': 'identity'}. Best is trial 99 with value: 0.8785175017158545.\u001b[0m\n"
          ],
          "name": "stderr"
        },
        {
          "output_type": "stream",
          "text": [
            "  Number of finished trials:  100\n",
            "  Number of pruned trials:  71\n",
            "  Number of complete trials:  29\n"
          ],
          "name": "stdout"
        }
      ]
    },
    {
      "cell_type": "markdown",
      "metadata": {
        "id": "A9A2VNS3Yy-X"
      },
      "source": [
        "![mlflow_experimentos_gerais.png](data:image/png;base64,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)"
      ]
    },
    {
      "cell_type": "markdown",
      "metadata": {
        "id": "VAMgw5D4Y0_r"
      },
      "source": [
        "![mlflow_experimentos_optuna.png](data:image/png;base64,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)"
      ]
    },
    {
      "cell_type": "code",
      "metadata": {
        "id": "0h7QoczU19V0",
        "colab": {
          "base_uri": "https://localhost:8080/"
        },
        "outputId": "90f423cb-85d9-4624-ba00-161474fd1372"
      },
      "source": [
        "!(https://drive.google.com/file/d/17JW0ECH_R22U0p2OIP_AD7i3ffTk7bRP/view?usp=sharing)"
      ],
      "execution_count": 50,
      "outputs": [
        {
          "output_type": "stream",
          "text": [
            "/bin/bash: https://drive.google.com/file/d/17JW0ECH_R22U0p2OIP_AD7i3ffTk7bRP/view?usp=sharing: No such file or directory\n"
          ],
          "name": "stdout"
        }
      ]
    },
    {
      "cell_type": "code",
      "metadata": {
        "id": "xQ8vUh3_lfiu",
        "colab": {
          "base_uri": "https://localhost:8080/"
        },
        "outputId": "71f3f6fb-53e2-44f3-f7fa-b75d0be975f5"
      },
      "source": [
        "!(https://drive.google.com/file/d/17JW0ECH_R22U0p2OIP_AD7i3ffTk7bRP/view)"
      ],
      "execution_count": 52,
      "outputs": [
        {
          "output_type": "stream",
          "text": [
            "/bin/bash: https://drive.google.com/file/d/17JW0ECH_R22U0p2OIP_AD7i3ffTk7bRP/view: No such file or directory\n"
          ],
          "name": "stdout"
        }
      ]
    },
    {
      "cell_type": "code",
      "metadata": {
        "id": "cSecmyQ1xZP-"
      },
      "source": [
        ""
      ],
      "execution_count": null,
      "outputs": []
    },
    {
      "cell_type": "markdown",
      "metadata": {
        "id": "wtu1b1UPxilW"
      },
      "source": [
        "# Diagnóstico dos resultados dos treinamentos"
      ]
    },
    {
      "cell_type": "markdown",
      "metadata": {
        "id": "kXU3LzQaSAL4"
      },
      "source": [
        "Como verificado nos testes acima, o algoritmo que obteve o melhor resultado foi o MLP, vamos fazer um calculo de vies e variancia para diagnosticar o modelo..."
      ]
    },
    {
      "cell_type": "code",
      "metadata": {
        "id": "hgtx7IuZxlsJ",
        "colab": {
          "base_uri": "https://localhost:8080/"
        },
        "outputId": "ec91784a-ee32-4bba-a4c0-0547cf5b1609"
      },
      "source": [
        "from sklearn.neural_network import MLPClassifier\n",
        "model = MLPClassifier(hidden_layer_sizes=(157,157,157) , alpha=0.0009900006704345403, activation='logistic', verbose=10)\n",
        "model.fit(Xtrain, ytrain)                 \n",
        "y_model = model.predict(Xtest)           \n",
        "ypred_train = model.predict(Xtrain)      "
      ],
      "execution_count": 53,
      "outputs": [
        {
          "output_type": "stream",
          "text": [
            "Iteration 1, loss = 0.58069318\n",
            "Iteration 2, loss = 0.56311362\n",
            "Iteration 3, loss = 0.41307983\n",
            "Iteration 4, loss = 0.31576881\n",
            "Iteration 5, loss = 0.30572239\n",
            "Iteration 6, loss = 0.30298891\n",
            "Iteration 7, loss = 0.30208592\n",
            "Iteration 8, loss = 0.30241449\n",
            "Iteration 9, loss = 0.30313059\n",
            "Iteration 10, loss = 0.30037489\n",
            "Iteration 11, loss = 0.29970674\n",
            "Iteration 12, loss = 0.29853822\n",
            "Iteration 13, loss = 0.29628933\n",
            "Iteration 14, loss = 0.29753389\n",
            "Iteration 15, loss = 0.29560495\n",
            "Iteration 16, loss = 0.29469243\n",
            "Iteration 17, loss = 0.29545058\n",
            "Iteration 18, loss = 0.29585028\n",
            "Iteration 19, loss = 0.29387698\n",
            "Iteration 20, loss = 0.29419751\n",
            "Iteration 21, loss = 0.29717265\n",
            "Iteration 22, loss = 0.29325438\n",
            "Iteration 23, loss = 0.29489671\n",
            "Iteration 24, loss = 0.29308360\n",
            "Iteration 25, loss = 0.29257759\n",
            "Iteration 26, loss = 0.29289692\n",
            "Iteration 27, loss = 0.29232258\n",
            "Iteration 28, loss = 0.29183670\n",
            "Iteration 29, loss = 0.29563059\n",
            "Iteration 30, loss = 0.29159436\n",
            "Iteration 31, loss = 0.29182082\n",
            "Iteration 32, loss = 0.29169411\n",
            "Iteration 33, loss = 0.29240814\n",
            "Iteration 34, loss = 0.29183215\n",
            "Iteration 35, loss = 0.29436276\n",
            "Iteration 36, loss = 0.29115487\n",
            "Iteration 37, loss = 0.29077699\n",
            "Iteration 38, loss = 0.29073776\n",
            "Iteration 39, loss = 0.29057171\n",
            "Iteration 40, loss = 0.28919720\n",
            "Iteration 41, loss = 0.28892808\n",
            "Iteration 42, loss = 0.29042799\n",
            "Iteration 43, loss = 0.28945810\n",
            "Iteration 44, loss = 0.29097588\n",
            "Iteration 45, loss = 0.28968515\n",
            "Iteration 46, loss = 0.29045475\n",
            "Iteration 47, loss = 0.29326686\n",
            "Iteration 48, loss = 0.29037804\n",
            "Iteration 49, loss = 0.29037752\n",
            "Iteration 50, loss = 0.28889277\n",
            "Iteration 51, loss = 0.29047067\n",
            "Iteration 52, loss = 0.28894689\n",
            "Training loss did not improve more than tol=0.000100 for 10 consecutive epochs. Stopping.\n"
          ],
          "name": "stdout"
        }
      ]
    },
    {
      "cell_type": "code",
      "metadata": {
        "id": "ljnlu9oqUjeN",
        "colab": {
          "base_uri": "https://localhost:8080/"
        },
        "outputId": "55229ef7-160a-4603-f9b3-fb325c0860d2"
      },
      "source": [
        "from sklearn.metrics import accuracy_score, f1_score, precision_score, recall_score\n",
        "\n",
        "print('*'*10,'train','*'*10)\n",
        "\n",
        "accuracy_treino =accuracy_score(ytrain, ypred_train)\n",
        "precision_treino =precision_score(ytrain, ypred_train, average='macro')\n",
        "recall_treino =recall_score(ytrain, ypred_train, average='macro')\n",
        "f1_treino = f1_score(ytrain, ypred_train,average='macro')\n",
        "\n",
        "print(\"Accuracy\", accuracy_treino)\n",
        "print(\"Precision\", precision_treino)\n",
        "print(\"Recall \", recall_treino)\n",
        "print(\"F1 \", f1_treino,'\\n')\n",
        "\n",
        "\n",
        "print('*'*10,'teste','*'*10)\n",
        "\n",
        "accuracy_teste =accuracy_score(ytest, y_model)\n",
        "precision_teste =precision_score(ytest, y_model, average='macro')\n",
        "recall_teste =recall_score(ytest, y_model, average='macro')\n",
        "f1_teste = f1_score(ytest, y_model,average='macro')\n",
        "\n",
        "print(\"Accuracy\", accuracy_teste)\n",
        "print(\"Precision\", precision_teste)\n",
        "print(\"Recall \", recall_teste)\n",
        "print(\"F1 \", f1_teste,'\\n')\n",
        "\n",
        "print('-'*30)\n",
        "print('vies accuracy',(1-accuracy_treino)*100-5)\n",
        "print('variancia accuracy',(1-accuracy_teste)*100-(1-accuracy_treino)*100)\n",
        "print('-'*30)\n",
        "print('vies precision',(1-precision_treino)*100-5)\n",
        "print('variancia precision',(1-precision_teste)*100-(1-precision_treino)*100)\n",
        "print('-'*30)\n",
        "print('vies recall',(1-recall_treino)*100-5)\n",
        "print('variancia recall',(1-recall_teste)*100-(1-recall_treino)*100)\n",
        "print('-'*30)\n",
        "print('vies f1',(1-f1_treino)*100-5)\n",
        "print('variancia f1',(1-f1_teste)*100-(1-f1_treino)*100)\n"
      ],
      "execution_count": 54,
      "outputs": [
        {
          "output_type": "stream",
          "text": [
            "********** train **********\n",
            "Accuracy 0.8765446224256292\n",
            "Precision 0.8355174587317444\n",
            "Recall  0.8789265749465474\n",
            "F1  0.8519710877690304 \n",
            "\n",
            "********** teste **********\n",
            "Accuracy 0.87920384351407\n",
            "Precision 0.847524809404705\n",
            "Recall  0.8802794706873229\n",
            "F1  0.8603786077063134 \n",
            "\n",
            "------------------------------\n",
            "vies accuracy 7.345537757437075\n",
            "variancia accuracy -0.26592210884407486\n",
            "------------------------------\n",
            "vies precision 11.448254126825557\n",
            "variancia precision -1.2007350672960548\n",
            "------------------------------\n",
            "vies recall 7.107342505345265\n",
            "variancia recall -0.13528957407755726\n",
            "------------------------------\n",
            "vies f1 9.802891223096958\n",
            "variancia f1 -0.8407519937282952\n"
          ],
          "name": "stdout"
        }
      ]
    },
    {
      "cell_type": "markdown",
      "metadata": {
        "id": "UZkTqd4sabwJ"
      },
      "source": [
        "#Veredito:\n",
        "Podemos ver um claro exemplo de ***underfitting***, pois nosso modelo possui um alto vies e uma baixa variancia...\n",
        "Para tratar o problema poderiamos:\n",
        "\n",
        "\n",
        "*   Aumentar a complexidade do modelo\n",
        "*   Adicionar mais features\n",
        "\n"
      ]
    },
    {
      "cell_type": "markdown",
      "metadata": {
        "id": "S03VrbqVUjOP"
      },
      "source": [
        "#Adicionando mais features"
      ]
    },
    {
      "cell_type": "code",
      "metadata": {
        "colab": {
          "base_uri": "https://localhost:8080/"
        },
        "id": "9X04ATnrU_Uw",
        "outputId": "28cca571-8494-4dc7-9bad-78248db8655b"
      },
      "source": [
        "comercios = pd.read_csv(\"/content/drive/MyDrive/ciencia-de-dados/dataset preprocessado/comercios.csv\",delimiter = ';')\n",
        "equipamentos_velocidade_vias = pd.read_csv(\"/content/drive/MyDrive/ciencia-de-dados/dataset preprocessado/equipamentos_velocidade_vias.csv\",delimiter = ';')\n",
        "velocidade_vias = pd.read_csv(\"/content/drive/MyDrive/ciencia-de-dados/dataset preprocessado/velocidade_vias.csv\",delimiter = ';')\n",
        "multas = pd.read_csv(\"/content/drive/MyDrive/ciencia-de-dados/dataset preprocessado/multas.csv\",delimiter = ';')"
      ],
      "execution_count": 55,
      "outputs": [
        {
          "output_type": "stream",
          "text": [
            "/usr/local/lib/python3.7/dist-packages/IPython/core/interactiveshell.py:2718: DtypeWarning:\n",
            "\n",
            "Columns (3) have mixed types.Specify dtype option on import or set low_memory=False.\n",
            "\n"
          ],
          "name": "stderr"
        }
      ]
    },
    {
      "cell_type": "code",
      "metadata": {
        "colab": {
          "base_uri": "https://localhost:8080/",
          "height": 204
        },
        "id": "Z8fsJ0S4VP6T",
        "outputId": "be69aa8b-616b-4e4b-cf7b-dcb2008a5830"
      },
      "source": [
        "comercios.head(5)"
      ],
      "execution_count": 56,
      "outputs": [
        {
          "output_type": "execute_result",
          "data": {
            "text/html": [
              "<div>\n",
              "<style scoped>\n",
              "    .dataframe tbody tr th:only-of-type {\n",
              "        vertical-align: middle;\n",
              "    }\n",
              "\n",
              "    .dataframe tbody tr th {\n",
              "        vertical-align: top;\n",
              "    }\n",
              "\n",
              "    .dataframe thead th {\n",
              "        text-align: right;\n",
              "    }\n",
              "</style>\n",
              "<table border=\"1\" class=\"dataframe\">\n",
              "  <thead>\n",
              "    <tr style=\"text-align: right;\">\n",
              "      <th></th>\n",
              "      <th>Unnamed: 0</th>\n",
              "      <th>ANO</th>\n",
              "      <th>CEP</th>\n",
              "      <th>LOCALIDADE</th>\n",
              "      <th>BAIRRO</th>\n",
              "      <th>LOGRADOURO</th>\n",
              "      <th>COMERCIO</th>\n",
              "    </tr>\n",
              "  </thead>\n",
              "  <tbody>\n",
              "    <tr>\n",
              "      <th>0</th>\n",
              "      <td>0</td>\n",
              "      <td>2021</td>\n",
              "      <td>52041-305</td>\n",
              "      <td>RECIFE</td>\n",
              "      <td>ROSARINHO</td>\n",
              "      <td>AMARO COUTINHO</td>\n",
              "      <td>RESTAURANTES, CAFETERIA , BARES E SIMILARES</td>\n",
              "    </tr>\n",
              "    <tr>\n",
              "      <th>1</th>\n",
              "      <td>1</td>\n",
              "      <td>2021</td>\n",
              "      <td>55690-000</td>\n",
              "      <td>BARRA DE GUABIRABA</td>\n",
              "      <td>-</td>\n",
              "      <td>AV  ENEIAS TEXEIRA DE CARVALHO N 101</td>\n",
              "      <td>RESTAURANTES, CAFETERIA , BARES E SIMILARES</td>\n",
              "    </tr>\n",
              "    <tr>\n",
              "      <th>2</th>\n",
              "      <td>2</td>\n",
              "      <td>2021</td>\n",
              "      <td>53025-080</td>\n",
              "      <td>OLINDA</td>\n",
              "      <td>AMPARO</td>\n",
              "      <td>DO AMPARO</td>\n",
              "      <td>RESTAURANTES, CAFETERIA , BARES E SIMILARES</td>\n",
              "    </tr>\n",
              "    <tr>\n",
              "      <th>3</th>\n",
              "      <td>3</td>\n",
              "      <td>2021</td>\n",
              "      <td>52061-420</td>\n",
              "      <td>RECIFE</td>\n",
              "      <td>CASA FORTE</td>\n",
              "      <td>DE CASA FORTE</td>\n",
              "      <td>RESTAURANTES, CAFETERIA , BARES E SIMILARES</td>\n",
              "    </tr>\n",
              "    <tr>\n",
              "      <th>4</th>\n",
              "      <td>4</td>\n",
              "      <td>2021</td>\n",
              "      <td>51111-000</td>\n",
              "      <td>RECIFE</td>\n",
              "      <td>BOA VIAGEM</td>\n",
              "      <td>BOA VIAGEM</td>\n",
              "      <td>RESTAURANTES, CAFETERIA , BARES E SIMILARES</td>\n",
              "    </tr>\n",
              "  </tbody>\n",
              "</table>\n",
              "</div>"
            ],
            "text/plain": [
              "   Unnamed: 0  ...                                     COMERCIO\n",
              "0           0  ...  RESTAURANTES, CAFETERIA , BARES E SIMILARES\n",
              "1           1  ...  RESTAURANTES, CAFETERIA , BARES E SIMILARES\n",
              "2           2  ...  RESTAURANTES, CAFETERIA , BARES E SIMILARES\n",
              "3           3  ...  RESTAURANTES, CAFETERIA , BARES E SIMILARES\n",
              "4           4  ...  RESTAURANTES, CAFETERIA , BARES E SIMILARES\n",
              "\n",
              "[5 rows x 7 columns]"
            ]
          },
          "metadata": {
            "tags": []
          },
          "execution_count": 56
        }
      ]
    },
    {
      "cell_type": "code",
      "metadata": {
        "colab": {
          "base_uri": "https://localhost:8080/",
          "height": 204
        },
        "id": "QSSIl41AVTjX",
        "outputId": "caa7df3a-360a-4abc-bd97-22f91f0c4c9e"
      },
      "source": [
        "equipamentos_velocidade_vias.head(5)"
      ],
      "execution_count": 57,
      "outputs": [
        {
          "output_type": "execute_result",
          "data": {
            "text/html": [
              "<div>\n",
              "<style scoped>\n",
              "    .dataframe tbody tr th:only-of-type {\n",
              "        vertical-align: middle;\n",
              "    }\n",
              "\n",
              "    .dataframe tbody tr th {\n",
              "        vertical-align: top;\n",
              "    }\n",
              "\n",
              "    .dataframe thead th {\n",
              "        text-align: right;\n",
              "    }\n",
              "</style>\n",
              "<table border=\"1\" class=\"dataframe\">\n",
              "  <thead>\n",
              "    <tr style=\"text-align: right;\">\n",
              "      <th></th>\n",
              "      <th>Unnamed: 0</th>\n",
              "      <th>ANO</th>\n",
              "      <th>EQUIPAMENTO</th>\n",
              "      <th>LOGRADOURO</th>\n",
              "      <th>VELOCIDADE_VIA</th>\n",
              "      <th>LATITUDE</th>\n",
              "      <th>LONGITUDE</th>\n",
              "    </tr>\n",
              "  </thead>\n",
              "  <tbody>\n",
              "    <tr>\n",
              "      <th>0</th>\n",
              "      <td>0</td>\n",
              "      <td>2016</td>\n",
              "      <td>5941</td>\n",
              "      <td>AV  MAL  MASCARENHAS DE MORAES, EM FRENTE AERO...</td>\n",
              "      <td>60 KM/H</td>\n",
              "      <td>-8.130970</td>\n",
              "      <td>-34.916161</td>\n",
              "    </tr>\n",
              "    <tr>\n",
              "      <th>1</th>\n",
              "      <td>1</td>\n",
              "      <td>2016</td>\n",
              "      <td>5942</td>\n",
              "      <td>AV  MAL  MASCARENHAS DE MORAES, EM FRENTE AERO...</td>\n",
              "      <td>60 KM/H</td>\n",
              "      <td>-8.130647</td>\n",
              "      <td>-34.915886</td>\n",
              "    </tr>\n",
              "    <tr>\n",
              "      <th>2</th>\n",
              "      <td>2</td>\n",
              "      <td>2016</td>\n",
              "      <td>5943</td>\n",
              "      <td>AV  BOA VIAGEM - TERCEIRO JARDIM</td>\n",
              "      <td>60 KM/H</td>\n",
              "      <td>-8.107843</td>\n",
              "      <td>-34.888161</td>\n",
              "    </tr>\n",
              "    <tr>\n",
              "      <th>3</th>\n",
              "      <td>3</td>\n",
              "      <td>2016</td>\n",
              "      <td>5944</td>\n",
              "      <td>DEFRONTE A PCA  GOV  PAULO GUERRA, CABANGA - S...</td>\n",
              "      <td>60 KM/H</td>\n",
              "      <td>-8.080121</td>\n",
              "      <td>-34.892187</td>\n",
              "    </tr>\n",
              "    <tr>\n",
              "      <th>4</th>\n",
              "      <td>4</td>\n",
              "      <td>2016</td>\n",
              "      <td>5945</td>\n",
              "      <td>APOS PONTE AGAMENON MAGALHAES, CABANGA - SENT ...</td>\n",
              "      <td>60 KM/H</td>\n",
              "      <td>-8.080820</td>\n",
              "      <td>-34.891159</td>\n",
              "    </tr>\n",
              "  </tbody>\n",
              "</table>\n",
              "</div>"
            ],
            "text/plain": [
              "   Unnamed: 0   ANO EQUIPAMENTO  ... VELOCIDADE_VIA  LATITUDE  LONGITUDE\n",
              "0           0  2016        5941  ...        60 KM/H -8.130970 -34.916161\n",
              "1           1  2016        5942  ...        60 KM/H -8.130647 -34.915886\n",
              "2           2  2016        5943  ...        60 KM/H -8.107843 -34.888161\n",
              "3           3  2016        5944  ...        60 KM/H -8.080121 -34.892187\n",
              "4           4  2016        5945  ...        60 KM/H -8.080820 -34.891159\n",
              "\n",
              "[5 rows x 7 columns]"
            ]
          },
          "metadata": {
            "tags": []
          },
          "execution_count": 57
        }
      ]
    },
    {
      "cell_type": "code",
      "metadata": {
        "colab": {
          "base_uri": "https://localhost:8080/",
          "height": 204
        },
        "id": "mVv5o2AgVUAC",
        "outputId": "444a648f-bebf-487d-c815-e8cdf1d19372"
      },
      "source": [
        "velocidade_vias.head(5)"
      ],
      "execution_count": 58,
      "outputs": [
        {
          "output_type": "execute_result",
          "data": {
            "text/html": [
              "<div>\n",
              "<style scoped>\n",
              "    .dataframe tbody tr th:only-of-type {\n",
              "        vertical-align: middle;\n",
              "    }\n",
              "\n",
              "    .dataframe tbody tr th {\n",
              "        vertical-align: top;\n",
              "    }\n",
              "\n",
              "    .dataframe thead th {\n",
              "        text-align: right;\n",
              "    }\n",
              "</style>\n",
              "<table border=\"1\" class=\"dataframe\">\n",
              "  <thead>\n",
              "    <tr style=\"text-align: right;\">\n",
              "      <th></th>\n",
              "      <th>Unnamed: 0</th>\n",
              "      <th>ANO</th>\n",
              "      <th>MES</th>\n",
              "      <th>EQUIPAMENTO</th>\n",
              "      <th>DATA</th>\n",
              "      <th>HORA</th>\n",
              "      <th>QTD_0A10KM</th>\n",
              "      <th>QTD_11A20KM</th>\n",
              "      <th>QTD_21A30KM</th>\n",
              "      <th>QTD_31A40KM</th>\n",
              "      <th>QTD_41A50KM</th>\n",
              "      <th>QTD_51A60KM</th>\n",
              "      <th>QTD_61A70KM</th>\n",
              "      <th>QTD_71A80KM</th>\n",
              "      <th>QTD_81A90KM</th>\n",
              "      <th>QTD_91A100KM</th>\n",
              "      <th>QTD_ACIMADE100KM</th>\n",
              "    </tr>\n",
              "  </thead>\n",
              "  <tbody>\n",
              "    <tr>\n",
              "      <th>0</th>\n",
              "      <td>0</td>\n",
              "      <td>2016</td>\n",
              "      <td>1</td>\n",
              "      <td>FS002</td>\n",
              "      <td>2016-01-01</td>\n",
              "      <td>0.0</td>\n",
              "      <td>0.0</td>\n",
              "      <td>2.0</td>\n",
              "      <td>0.0</td>\n",
              "      <td>0.0</td>\n",
              "      <td>0.0</td>\n",
              "      <td>0.0</td>\n",
              "      <td>0.0</td>\n",
              "      <td>0.0</td>\n",
              "      <td>0.0</td>\n",
              "      <td>0.0</td>\n",
              "      <td>0.0</td>\n",
              "    </tr>\n",
              "    <tr>\n",
              "      <th>1</th>\n",
              "      <td>1</td>\n",
              "      <td>2016</td>\n",
              "      <td>1</td>\n",
              "      <td>FS002</td>\n",
              "      <td>2016-01-01</td>\n",
              "      <td>0.0</td>\n",
              "      <td>0.0</td>\n",
              "      <td>1.0</td>\n",
              "      <td>0.0</td>\n",
              "      <td>0.0</td>\n",
              "      <td>0.0</td>\n",
              "      <td>0.0</td>\n",
              "      <td>0.0</td>\n",
              "      <td>0.0</td>\n",
              "      <td>0.0</td>\n",
              "      <td>0.0</td>\n",
              "      <td>0.0</td>\n",
              "    </tr>\n",
              "    <tr>\n",
              "      <th>2</th>\n",
              "      <td>2</td>\n",
              "      <td>2016</td>\n",
              "      <td>1</td>\n",
              "      <td>FS002</td>\n",
              "      <td>2016-01-01</td>\n",
              "      <td>0.0</td>\n",
              "      <td>1.0</td>\n",
              "      <td>3.0</td>\n",
              "      <td>1.0</td>\n",
              "      <td>0.0</td>\n",
              "      <td>0.0</td>\n",
              "      <td>0.0</td>\n",
              "      <td>0.0</td>\n",
              "      <td>0.0</td>\n",
              "      <td>0.0</td>\n",
              "      <td>0.0</td>\n",
              "      <td>0.0</td>\n",
              "    </tr>\n",
              "    <tr>\n",
              "      <th>3</th>\n",
              "      <td>3</td>\n",
              "      <td>2016</td>\n",
              "      <td>1</td>\n",
              "      <td>FS002</td>\n",
              "      <td>2016-01-01</td>\n",
              "      <td>0.0</td>\n",
              "      <td>1.0</td>\n",
              "      <td>1.0</td>\n",
              "      <td>0.0</td>\n",
              "      <td>0.0</td>\n",
              "      <td>0.0</td>\n",
              "      <td>0.0</td>\n",
              "      <td>0.0</td>\n",
              "      <td>0.0</td>\n",
              "      <td>0.0</td>\n",
              "      <td>0.0</td>\n",
              "      <td>0.0</td>\n",
              "    </tr>\n",
              "    <tr>\n",
              "      <th>4</th>\n",
              "      <td>4</td>\n",
              "      <td>2016</td>\n",
              "      <td>1</td>\n",
              "      <td>FS002</td>\n",
              "      <td>2016-01-01</td>\n",
              "      <td>1.0</td>\n",
              "      <td>0.0</td>\n",
              "      <td>4.0</td>\n",
              "      <td>0.0</td>\n",
              "      <td>0.0</td>\n",
              "      <td>0.0</td>\n",
              "      <td>0.0</td>\n",
              "      <td>0.0</td>\n",
              "      <td>0.0</td>\n",
              "      <td>0.0</td>\n",
              "      <td>0.0</td>\n",
              "      <td>0.0</td>\n",
              "    </tr>\n",
              "  </tbody>\n",
              "</table>\n",
              "</div>"
            ],
            "text/plain": [
              "   Unnamed: 0   ANO  MES  ... QTD_81A90KM QTD_91A100KM  QTD_ACIMADE100KM\n",
              "0           0  2016    1  ...         0.0          0.0               0.0\n",
              "1           1  2016    1  ...         0.0          0.0               0.0\n",
              "2           2  2016    1  ...         0.0          0.0               0.0\n",
              "3           3  2016    1  ...         0.0          0.0               0.0\n",
              "4           4  2016    1  ...         0.0          0.0               0.0\n",
              "\n",
              "[5 rows x 17 columns]"
            ]
          },
          "metadata": {
            "tags": []
          },
          "execution_count": 58
        }
      ]
    },
    {
      "cell_type": "code",
      "metadata": {
        "colab": {
          "base_uri": "https://localhost:8080/",
          "height": 204
        },
        "id": "20BZ-yLnVUOB",
        "outputId": "3c85e85d-d073-47bf-dc62-2726c8fbc125"
      },
      "source": [
        "multas.head(5)"
      ],
      "execution_count": 59,
      "outputs": [
        {
          "output_type": "execute_result",
          "data": {
            "text/html": [
              "<div>\n",
              "<style scoped>\n",
              "    .dataframe tbody tr th:only-of-type {\n",
              "        vertical-align: middle;\n",
              "    }\n",
              "\n",
              "    .dataframe tbody tr th {\n",
              "        vertical-align: top;\n",
              "    }\n",
              "\n",
              "    .dataframe thead th {\n",
              "        text-align: right;\n",
              "    }\n",
              "</style>\n",
              "<table border=\"1\" class=\"dataframe\">\n",
              "  <thead>\n",
              "    <tr style=\"text-align: right;\">\n",
              "      <th></th>\n",
              "      <th>Unnamed: 0</th>\n",
              "      <th>DATAINFRACAO</th>\n",
              "      <th>HORAINFRACAO</th>\n",
              "      <th>INFRACAO</th>\n",
              "      <th>DESCRICAOINFRACAO</th>\n",
              "      <th>LOCALCOMETIMENTO</th>\n",
              "      <th>PERIODO_DO_DIA_INFRACAO</th>\n",
              "      <th>DIA_DA_SEMANA_INFRACAO</th>\n",
              "    </tr>\n",
              "  </thead>\n",
              "  <tbody>\n",
              "    <tr>\n",
              "      <th>0</th>\n",
              "      <td>0</td>\n",
              "      <td>2015-10-26</td>\n",
              "      <td>8</td>\n",
              "      <td>5541.0</td>\n",
              "      <td>ESTACIONAR O VEICULO EM DESACORDO COM AS CONDI...</td>\n",
              "      <td>AV PORTUGAL EM FRENTE AO IMOVEL N 89</td>\n",
              "      <td>MANHA</td>\n",
              "      <td>SEGUNDA</td>\n",
              "    </tr>\n",
              "    <tr>\n",
              "      <th>1</th>\n",
              "      <td>1</td>\n",
              "      <td>2015-10-26</td>\n",
              "      <td>8</td>\n",
              "      <td>5541.0</td>\n",
              "      <td>ESTACIONAR O VEICULO EM DESACORDO COM AS CONDI...</td>\n",
              "      <td>AV PORTUGAL EM FRENTE AO IMOVEL N 89</td>\n",
              "      <td>MANHA</td>\n",
              "      <td>SEGUNDA</td>\n",
              "    </tr>\n",
              "    <tr>\n",
              "      <th>2</th>\n",
              "      <td>2</td>\n",
              "      <td>2015-10-26</td>\n",
              "      <td>8</td>\n",
              "      <td>5525.0</td>\n",
              "      <td>ESTACIONAR O VEICULO NA CONTRAMAO DE DIRECAO</td>\n",
              "      <td>AV PORTUGAL EM FRENTE AO IMOVEL N 101</td>\n",
              "      <td>MANHA</td>\n",
              "      <td>SEGUNDA</td>\n",
              "    </tr>\n",
              "    <tr>\n",
              "      <th>3</th>\n",
              "      <td>3</td>\n",
              "      <td>2015-10-26</td>\n",
              "      <td>8</td>\n",
              "      <td>5550.0</td>\n",
              "      <td>ESTACIONAR O VEICULO EM LOCAIS E HORARIOS PROI...</td>\n",
              "      <td>RUA PACIFICO DOS SANTOS EM FRENTE AO IMOVEL N 124</td>\n",
              "      <td>MANHA</td>\n",
              "      <td>SEGUNDA</td>\n",
              "    </tr>\n",
              "    <tr>\n",
              "      <th>4</th>\n",
              "      <td>4</td>\n",
              "      <td>2015-10-26</td>\n",
              "      <td>9</td>\n",
              "      <td>7366.0</td>\n",
              "      <td>DIRIGIR O VEICULO UTILIZANDO-SE DE TELEFONE CE...</td>\n",
              "      <td>AV GOV AGAMENON MAGALHAES EM FRENTE AO SEMAFOR...</td>\n",
              "      <td>MANHA</td>\n",
              "      <td>SEGUNDA</td>\n",
              "    </tr>\n",
              "  </tbody>\n",
              "</table>\n",
              "</div>"
            ],
            "text/plain": [
              "   Unnamed: 0 DATAINFRACAO  ...  PERIODO_DO_DIA_INFRACAO  DIA_DA_SEMANA_INFRACAO\n",
              "0           0   2015-10-26  ...                    MANHA                 SEGUNDA\n",
              "1           1   2015-10-26  ...                    MANHA                 SEGUNDA\n",
              "2           2   2015-10-26  ...                    MANHA                 SEGUNDA\n",
              "3           3   2015-10-26  ...                    MANHA                 SEGUNDA\n",
              "4           4   2015-10-26  ...                    MANHA                 SEGUNDA\n",
              "\n",
              "[5 rows x 8 columns]"
            ]
          },
          "metadata": {
            "tags": []
          },
          "execution_count": 59
        }
      ]
    },
    {
      "cell_type": "markdown",
      "metadata": {
        "id": "v4SVq_XJVix-"
      },
      "source": [
        "A principio houve uma espectativa de que seria interessante trazer algumas das informações disponibilizadas nos datasets mencionados, para o dataset principal (***acidentes***), porém, a região de ***join*** entre eles não se mostrou tão eficaz, com casos em que a distribuição de possibilidades não abrange tanto o dataset principal, ou que, mesmo com a tentativa de trazer alguma nova feature, não houve (ou houve pouquissima), alteração nos resultados já encontrados anteriormente"
      ]
    },
    {
      "cell_type": "markdown",
      "metadata": {
        "id": "KLWwsdU0b5U8"
      },
      "source": [
        "#Aumentando a complexidade do modelo"
      ]
    },
    {
      "cell_type": "code",
      "metadata": {
        "id": "cZICN1F2V-tm",
        "colab": {
          "base_uri": "https://localhost:8080/"
        },
        "outputId": "6832a509-7021-448a-d6f5-570d36fc0a8e"
      },
      "source": [
        "from sklearn.neural_network import MLPClassifier\n",
        "model = MLPClassifier(hidden_layer_sizes=(157,157,157,100) , alpha=0.0009900006704345403, activation='logistic', verbose=10)\n",
        "model.fit(Xtrain, ytrain)                 \n",
        "y_model = model.predict(Xtest)           \n",
        "ypred_train = model.predict(Xtrain)      "
      ],
      "execution_count": 44,
      "outputs": [
        {
          "output_type": "stream",
          "text": [
            "Iteration 1, loss = 0.58656764\n",
            "Iteration 2, loss = 0.57872257\n",
            "Iteration 3, loss = 0.56238280\n",
            "Iteration 4, loss = 0.37233051\n",
            "Iteration 5, loss = 0.31023781\n",
            "Iteration 6, loss = 0.30616643\n",
            "Iteration 7, loss = 0.30530288\n",
            "Iteration 8, loss = 0.30200670\n",
            "Iteration 9, loss = 0.30059684\n",
            "Iteration 10, loss = 0.29985580\n",
            "Iteration 11, loss = 0.29863084\n",
            "Iteration 12, loss = 0.29876002\n",
            "Iteration 13, loss = 0.30144102\n",
            "Iteration 14, loss = 0.29605394\n",
            "Iteration 15, loss = 0.29536665\n",
            "Iteration 16, loss = 0.29502486\n",
            "Iteration 17, loss = 0.29813857\n",
            "Iteration 18, loss = 0.29651448\n",
            "Iteration 19, loss = 0.29399278\n",
            "Iteration 20, loss = 0.29391524\n",
            "Iteration 21, loss = 0.29237941\n",
            "Iteration 22, loss = 0.29321270\n",
            "Iteration 23, loss = 0.29218440\n",
            "Iteration 24, loss = 0.29329836\n",
            "Iteration 25, loss = 0.29270520\n",
            "Iteration 26, loss = 0.29286112\n",
            "Iteration 27, loss = 0.29448616\n",
            "Iteration 28, loss = 0.29170164\n",
            "Iteration 29, loss = 0.29050767\n",
            "Iteration 30, loss = 0.29095576\n",
            "Iteration 31, loss = 0.29039219\n",
            "Iteration 32, loss = 0.28971270\n",
            "Iteration 33, loss = 0.29027060\n",
            "Iteration 34, loss = 0.28937155\n",
            "Iteration 35, loss = 0.28889716\n",
            "Iteration 36, loss = 0.28846226\n",
            "Iteration 37, loss = 0.29034648\n",
            "Iteration 38, loss = 0.28953096\n",
            "Iteration 39, loss = 0.29001961\n",
            "Iteration 40, loss = 0.28833751\n",
            "Iteration 41, loss = 0.29032982\n",
            "Iteration 42, loss = 0.28824833\n",
            "Iteration 43, loss = 0.28771594\n",
            "Iteration 44, loss = 0.28787885\n",
            "Iteration 45, loss = 0.28899133\n",
            "Iteration 46, loss = 0.28888362\n",
            "Iteration 47, loss = 0.28853867\n",
            "Iteration 48, loss = 0.28861321\n",
            "Iteration 49, loss = 0.28812676\n",
            "Iteration 50, loss = 0.28728460\n",
            "Iteration 51, loss = 0.28840420\n",
            "Iteration 52, loss = 0.28975817\n",
            "Iteration 53, loss = 0.28783743\n",
            "Iteration 54, loss = 0.28714553\n",
            "Iteration 55, loss = 0.28888299\n",
            "Iteration 56, loss = 0.28673615\n",
            "Iteration 57, loss = 0.28769969\n",
            "Iteration 58, loss = 0.28665416\n",
            "Iteration 59, loss = 0.28758250\n",
            "Iteration 60, loss = 0.29063087\n",
            "Iteration 61, loss = 0.28738698\n",
            "Iteration 62, loss = 0.28771910\n",
            "Iteration 63, loss = 0.28718373\n",
            "Iteration 64, loss = 0.28856785\n",
            "Iteration 65, loss = 0.28663501\n",
            "Iteration 66, loss = 0.28747132\n",
            "Iteration 67, loss = 0.28637261\n",
            "Iteration 68, loss = 0.28617075\n",
            "Iteration 69, loss = 0.28660722\n",
            "Iteration 70, loss = 0.28653414\n",
            "Iteration 71, loss = 0.28506104\n",
            "Iteration 72, loss = 0.28635800\n",
            "Iteration 73, loss = 0.28593986\n",
            "Iteration 74, loss = 0.28656505\n",
            "Iteration 75, loss = 0.28587546\n",
            "Iteration 76, loss = 0.28663674\n",
            "Iteration 77, loss = 0.28909600\n",
            "Iteration 78, loss = 0.28744476\n",
            "Iteration 79, loss = 0.28537551\n",
            "Iteration 80, loss = 0.28558109\n",
            "Iteration 81, loss = 0.28821906\n",
            "Iteration 82, loss = 0.28585471\n",
            "Training loss did not improve more than tol=0.000100 for 10 consecutive epochs. Stopping.\n"
          ],
          "name": "stdout"
        }
      ]
    },
    {
      "cell_type": "markdown",
      "metadata": {
        "id": "5m7vn1ctcA9k"
      },
      "source": [
        "Aumentar a complexidade do modelo parece não ter ajudado muito nesse caso, visto que não houve tanta diferença em relação a variancia e vies dos dados do ***MLP - Classifier*** anterior"
      ]
    },
    {
      "cell_type": "code",
      "metadata": {
        "colab": {
          "base_uri": "https://localhost:8080/"
        },
        "id": "aP0benhvXieJ",
        "outputId": "7d5078f3-fe16-4c2e-d599-2d2242347995"
      },
      "source": [
        "from sklearn.metrics import accuracy_score, f1_score, precision_score, recall_score\n",
        "\n",
        "print('*'*10,'train','*'*10)\n",
        "\n",
        "accuracy_treino =accuracy_score(ytrain, ypred_train)\n",
        "precision_treino =precision_score(ytrain, ypred_train, average='macro')\n",
        "recall_treino =recall_score(ytrain, ypred_train, average='macro')\n",
        "f1_treino = f1_score(ytrain, ypred_train,average='macro')\n",
        "\n",
        "print(\"Accuracy\", accuracy_treino)\n",
        "print(\"Precision\", precision_treino)\n",
        "print(\"Recall \", recall_treino)\n",
        "print(\"F1 \", f1_treino,'\\n')\n",
        "\n",
        "\n",
        "print('*'*10,'teste','*'*10)\n",
        "\n",
        "accuracy_teste =accuracy_score(ytest, y_model)\n",
        "precision_teste =precision_score(ytest, y_model, average='macro')\n",
        "recall_teste =recall_score(ytest, y_model, average='macro')\n",
        "f1_teste = f1_score(ytest, y_model,average='macro')\n",
        "\n",
        "print(\"Accuracy\", accuracy_teste)\n",
        "print(\"Precision\", precision_teste)\n",
        "print(\"Recall \", recall_teste)\n",
        "print(\"F1 \", f1_teste,'\\n')\n",
        "\n",
        "print('-'*30)\n",
        "print('vies accuracy',(1-accuracy_treino)*100-5)\n",
        "print('variancia accuracy',(1-accuracy_teste)*100-(1-accuracy_treino)*100)\n",
        "print('-'*30)\n",
        "print('vies precision',(1-precision_treino)*100-5)\n",
        "print('variancia precision',(1-precision_teste)*100-(1-precision_treino)*100)\n",
        "print('-'*30)\n",
        "print('vies recall',(1-recall_treino)*100-5)\n",
        "print('variancia recall',(1-recall_teste)*100-(1-recall_treino)*100)\n",
        "print('-'*30)\n",
        "print('vies f1',(1-f1_treino)*100-5)\n",
        "print('variancia f1',(1-f1_teste)*100-(1-f1_treino)*100)\n"
      ],
      "execution_count": 45,
      "outputs": [
        {
          "output_type": "stream",
          "text": [
            "********** train **********\n",
            "Accuracy 0.8762013729977117\n",
            "Precision 0.8351230568509833\n",
            "Recall  0.8780042630440128\n",
            "F1  0.8514431474093271 \n",
            "\n",
            "********** teste **********\n",
            "Accuracy 0.8785175017158545\n",
            "Precision 0.8468425406746943\n",
            "Recall  0.8776958253851588\n",
            "F1  0.8591731654187934 \n",
            "\n",
            "------------------------------\n",
            "vies accuracy 7.379862700228827\n",
            "variancia accuracy -0.2316128718142796\n",
            "------------------------------\n",
            "vies precision 11.487694314901667\n",
            "variancia precision -1.1719483823711005\n",
            "------------------------------\n",
            "vies recall 7.199573695598719\n",
            "variancia recall 0.03084376588540394\n",
            "------------------------------\n",
            "vies f1 9.855685259067286\n",
            "variancia f1 -0.7730018009466271\n"
          ],
          "name": "stdout"
        }
      ]
    },
    {
      "cell_type": "code",
      "metadata": {
        "id": "OXYSxaAVXqmb"
      },
      "source": [
        ""
      ],
      "execution_count": null,
      "outputs": []
    }
  ]
}