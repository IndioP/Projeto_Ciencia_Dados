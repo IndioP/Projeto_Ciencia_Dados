{
  "nbformat": 4,
  "nbformat_minor": 0,
  "metadata": {
    "colab": {
      "name": "projeto2 ciencia de dados.ipynb",
      "provenance": [],
      "collapsed_sections": [],
      "authorship_tag": "ABX9TyOG9bXRJK/owBFCSY7c6Gnl",
      "include_colab_link": true
    },
    "kernelspec": {
      "display_name": "Python 3",
      "name": "python3"
    },
    "language_info": {
      "name": "python"
    }
  },
  "cells": [
    {
      "cell_type": "markdown",
      "metadata": {
        "id": "view-in-github",
        "colab_type": "text"
      },
      "source": [
        "<a href=\"https://colab.research.google.com/github/IndioP/Projeto_Ciencia_Dados/blob/main/Projeto2.ipynb\" target=\"_parent\"><img src=\"https://colab.research.google.com/assets/colab-badge.svg\" alt=\"Open In Colab\"/></a>"
      ]
    },
    {
      "cell_type": "code",
      "metadata": {
        "id": "kTn9BlhDdhIV"
      },
      "source": [
        "import matplotlib.pyplot as plt\n",
        "from scipy import stats\n",
        "import seaborn as sns\n",
        "import pandas as pd\n",
        "import numpy as np"
      ],
      "execution_count": null,
      "outputs": []
    },
    {
      "cell_type": "code",
      "metadata": {
        "id": "autU7r6ueed4"
      },
      "source": [
        "acidentes=pd.read_csv(\"acidentes.csv\")"
      ],
      "execution_count": null,
      "outputs": []
    },
    {
      "cell_type": "code",
      "metadata": {
        "colab": {
          "base_uri": "https://localhost:8080/",
          "height": 422
        },
        "id": "eybt3VDMevWU",
        "outputId": "631cef75-4e59-41e7-822b-6da003008c58"
      },
      "source": [
        "acidentes.head()"
      ],
      "execution_count": null,
      "outputs": [
        {
          "output_type": "execute_result",
          "data": {
            "text/html": [
              "<div>\n",
              "<style scoped>\n",
              "    .dataframe tbody tr th:only-of-type {\n",
              "        vertical-align: middle;\n",
              "    }\n",
              "\n",
              "    .dataframe tbody tr th {\n",
              "        vertical-align: top;\n",
              "    }\n",
              "\n",
              "    .dataframe thead th {\n",
              "        text-align: right;\n",
              "    }\n",
              "</style>\n",
              "<table border=\"1\" class=\"dataframe\">\n",
              "  <thead>\n",
              "    <tr style=\"text-align: right;\">\n",
              "      <th></th>\n",
              "      <th>DATA</th>\n",
              "      <th>HORA</th>\n",
              "      <th>NATUREZA_ACIDENTE</th>\n",
              "      <th>SITUACAO</th>\n",
              "      <th>BAIRRO</th>\n",
              "      <th>ENDERECO</th>\n",
              "      <th>COMPLEMENTO</th>\n",
              "      <th>BAIRRO_CRUZAMENTO</th>\n",
              "      <th>TIPO</th>\n",
              "      <th>DESCRICAO</th>\n",
              "      <th>AUTO</th>\n",
              "      <th>MOTO</th>\n",
              "      <th>CICLOM</th>\n",
              "      <th>CICLISTA</th>\n",
              "      <th>PEDESTRE</th>\n",
              "      <th>ONIBUS</th>\n",
              "      <th>CAMINHAO</th>\n",
              "      <th>VIATURA</th>\n",
              "      <th>OUTROS</th>\n",
              "      <th>VITIMAS</th>\n",
              "      <th>VITIMASFATAIS</th>\n",
              "      <th>ACIDENTE_VERIFICADO</th>\n",
              "      <th>TEMPO_CLIMA</th>\n",
              "      <th>SITUACAO_SEMAFORO</th>\n",
              "      <th>SINALIZACAO</th>\n",
              "      <th>CONDICAO_VIA</th>\n",
              "      <th>CONSERVACAO_VIA</th>\n",
              "      <th>PONTO_CONTROLE</th>\n",
              "      <th>SITUACAO_PLACA</th>\n",
              "      <th>VELOCIDADE_MAX_VIA</th>\n",
              "      <th>MAO_DIRECAO</th>\n",
              "      <th>DIVISAO_VIA1</th>\n",
              "      <th>PERIODO_DO_DIA</th>\n",
              "      <th>DIA_DA_SEMANA</th>\n",
              "      <th>ANO</th>\n",
              "      <th>MES</th>\n",
              "      <th>QTD_ACIDENTES</th>\n",
              "    </tr>\n",
              "  </thead>\n",
              "  <tbody>\n",
              "    <tr>\n",
              "      <th>0</th>\n",
              "      <td>2015-12-03</td>\n",
              "      <td>11</td>\n",
              "      <td>SEM VITIMA</td>\n",
              "      <td>CANCELADA</td>\n",
              "      <td>CASA AMARELA</td>\n",
              "      <td>AV NORTE</td>\n",
              "      <td>SENTIDO SUBURBIO   E/F AO SESC</td>\n",
              "      <td>SEM INFORMACAO</td>\n",
              "      <td>COLISAO</td>\n",
              "      <td>COLISAO SEM VITIMAS</td>\n",
              "      <td>0.0</td>\n",
              "      <td>0.0</td>\n",
              "      <td>0.0</td>\n",
              "      <td>0.0</td>\n",
              "      <td>0.0</td>\n",
              "      <td>0.0</td>\n",
              "      <td>0.0</td>\n",
              "      <td>0.0</td>\n",
              "      <td>0.0</td>\n",
              "      <td>0.0</td>\n",
              "      <td>0.0</td>\n",
              "      <td>SEM INFORMACAO</td>\n",
              "      <td>SEM INFORMACAO</td>\n",
              "      <td>SEM INFORMACAO</td>\n",
              "      <td>SEM INFORMACAO</td>\n",
              "      <td>SEM INFORMACAO</td>\n",
              "      <td>SEM INFORMACAO</td>\n",
              "      <td>SEM INFORMACAO</td>\n",
              "      <td>SEM INFORMACAO</td>\n",
              "      <td>SEM INFORMACAO</td>\n",
              "      <td>SEM INFORMACAO</td>\n",
              "      <td>SEM INFORMACAO</td>\n",
              "      <td>MANHA</td>\n",
              "      <td>QUINTA</td>\n",
              "      <td>2015</td>\n",
              "      <td>12</td>\n",
              "      <td>1</td>\n",
              "    </tr>\n",
              "    <tr>\n",
              "      <th>1</th>\n",
              "      <td>2015-06-01</td>\n",
              "      <td>6</td>\n",
              "      <td>SEM VITIMA</td>\n",
              "      <td>FINALIZADA</td>\n",
              "      <td>ENCRUZILHADA</td>\n",
              "      <td>EST DE BELEM</td>\n",
              "      <td>IGREJA BATISTA MEMORIAL DE BELEM</td>\n",
              "      <td>SEM INFORMACAO</td>\n",
              "      <td>COLISAO</td>\n",
              "      <td>SEM VITIMAS</td>\n",
              "      <td>0.0</td>\n",
              "      <td>2.0</td>\n",
              "      <td>0.0</td>\n",
              "      <td>0.0</td>\n",
              "      <td>0.0</td>\n",
              "      <td>0.0</td>\n",
              "      <td>0.0</td>\n",
              "      <td>0.0</td>\n",
              "      <td>0.0</td>\n",
              "      <td>0.0</td>\n",
              "      <td>0.0</td>\n",
              "      <td>SEM INFORMACAO</td>\n",
              "      <td>SEM INFORMACAO</td>\n",
              "      <td>SEM INFORMACAO</td>\n",
              "      <td>SEM INFORMACAO</td>\n",
              "      <td>SEM INFORMACAO</td>\n",
              "      <td>SEM INFORMACAO</td>\n",
              "      <td>SEM INFORMACAO</td>\n",
              "      <td>SEM INFORMACAO</td>\n",
              "      <td>SEM INFORMACAO</td>\n",
              "      <td>SEM INFORMACAO</td>\n",
              "      <td>SEM INFORMACAO</td>\n",
              "      <td>MANHA</td>\n",
              "      <td>SEGUNDA</td>\n",
              "      <td>2015</td>\n",
              "      <td>6</td>\n",
              "      <td>1</td>\n",
              "    </tr>\n",
              "    <tr>\n",
              "      <th>2</th>\n",
              "      <td>2015-06-01</td>\n",
              "      <td>8</td>\n",
              "      <td>SEM VITIMA</td>\n",
              "      <td>FINALIZADA</td>\n",
              "      <td>BOA VIAGEM</td>\n",
              "      <td>RUA ERNESTO DE PAULA SANTOS</td>\n",
              "      <td>SEMAFORO NO217</td>\n",
              "      <td>SEM INFORMACAO</td>\n",
              "      <td>COLISAO</td>\n",
              "      <td>SEM VITIMA</td>\n",
              "      <td>1.0</td>\n",
              "      <td>0.0</td>\n",
              "      <td>0.0</td>\n",
              "      <td>0.0</td>\n",
              "      <td>0.0</td>\n",
              "      <td>0.0</td>\n",
              "      <td>1.0</td>\n",
              "      <td>0.0</td>\n",
              "      <td>0.0</td>\n",
              "      <td>0.0</td>\n",
              "      <td>0.0</td>\n",
              "      <td>SEM INFORMACAO</td>\n",
              "      <td>SEM INFORMACAO</td>\n",
              "      <td>SEM INFORMACAO</td>\n",
              "      <td>SEM INFORMACAO</td>\n",
              "      <td>SEM INFORMACAO</td>\n",
              "      <td>SEM INFORMACAO</td>\n",
              "      <td>SEM INFORMACAO</td>\n",
              "      <td>SEM INFORMACAO</td>\n",
              "      <td>SEM INFORMACAO</td>\n",
              "      <td>SEM INFORMACAO</td>\n",
              "      <td>SEM INFORMACAO</td>\n",
              "      <td>MANHA</td>\n",
              "      <td>SEGUNDA</td>\n",
              "      <td>2015</td>\n",
              "      <td>6</td>\n",
              "      <td>1</td>\n",
              "    </tr>\n",
              "    <tr>\n",
              "      <th>3</th>\n",
              "      <td>2015-06-01</td>\n",
              "      <td>8</td>\n",
              "      <td>SEM VITIMA</td>\n",
              "      <td>FINALIZADA</td>\n",
              "      <td>AFOGADOS</td>\n",
              "      <td>AV SUL</td>\n",
              "      <td>AO LADO DA ESTACAO LARGO DA PAZ</td>\n",
              "      <td>SEM INFORMACAO</td>\n",
              "      <td>COLISAO</td>\n",
              "      <td>COLISAO S/V</td>\n",
              "      <td>1.0</td>\n",
              "      <td>0.0</td>\n",
              "      <td>0.0</td>\n",
              "      <td>0.0</td>\n",
              "      <td>0.0</td>\n",
              "      <td>0.0</td>\n",
              "      <td>1.0</td>\n",
              "      <td>0.0</td>\n",
              "      <td>0.0</td>\n",
              "      <td>0.0</td>\n",
              "      <td>0.0</td>\n",
              "      <td>SEM INFORMACAO</td>\n",
              "      <td>SEM INFORMACAO</td>\n",
              "      <td>SEM INFORMACAO</td>\n",
              "      <td>SEM INFORMACAO</td>\n",
              "      <td>SEM INFORMACAO</td>\n",
              "      <td>SEM INFORMACAO</td>\n",
              "      <td>SEM INFORMACAO</td>\n",
              "      <td>SEM INFORMACAO</td>\n",
              "      <td>SEM INFORMACAO</td>\n",
              "      <td>SEM INFORMACAO</td>\n",
              "      <td>SEM INFORMACAO</td>\n",
              "      <td>MANHA</td>\n",
              "      <td>SEGUNDA</td>\n",
              "      <td>2015</td>\n",
              "      <td>6</td>\n",
              "      <td>1</td>\n",
              "    </tr>\n",
              "    <tr>\n",
              "      <th>4</th>\n",
              "      <td>2015-06-01</td>\n",
              "      <td>8</td>\n",
              "      <td>SEM VITIMA</td>\n",
              "      <td>CANCELADA</td>\n",
              "      <td>MADALENA</td>\n",
              "      <td>RUA BENFICA</td>\n",
              "      <td>EM  FRENTE AO CLUBE INTERNACIONAL</td>\n",
              "      <td>SEM INFORMACAO</td>\n",
              "      <td>COLISAO</td>\n",
              "      <td>GM RIBEIRO JA NO LOCAL VT 05</td>\n",
              "      <td>2.0</td>\n",
              "      <td>0.0</td>\n",
              "      <td>0.0</td>\n",
              "      <td>0.0</td>\n",
              "      <td>0.0</td>\n",
              "      <td>0.0</td>\n",
              "      <td>0.0</td>\n",
              "      <td>0.0</td>\n",
              "      <td>0.0</td>\n",
              "      <td>0.0</td>\n",
              "      <td>0.0</td>\n",
              "      <td>SEM INFORMACAO</td>\n",
              "      <td>SEM INFORMACAO</td>\n",
              "      <td>SEM INFORMACAO</td>\n",
              "      <td>SEM INFORMACAO</td>\n",
              "      <td>SEM INFORMACAO</td>\n",
              "      <td>SEM INFORMACAO</td>\n",
              "      <td>SEM INFORMACAO</td>\n",
              "      <td>SEM INFORMACAO</td>\n",
              "      <td>SEM INFORMACAO</td>\n",
              "      <td>SEM INFORMACAO</td>\n",
              "      <td>SEM INFORMACAO</td>\n",
              "      <td>MANHA</td>\n",
              "      <td>SEGUNDA</td>\n",
              "      <td>2015</td>\n",
              "      <td>6</td>\n",
              "      <td>1</td>\n",
              "    </tr>\n",
              "  </tbody>\n",
              "</table>\n",
              "</div>"
            ],
            "text/plain": [
              "         DATA  HORA NATUREZA_ACIDENTE  ...   ANO MES QTD_ACIDENTES\n",
              "0  2015-12-03    11        SEM VITIMA  ...  2015  12             1\n",
              "1  2015-06-01     6        SEM VITIMA  ...  2015   6             1\n",
              "2  2015-06-01     8        SEM VITIMA  ...  2015   6             1\n",
              "3  2015-06-01     8        SEM VITIMA  ...  2015   6             1\n",
              "4  2015-06-01     8        SEM VITIMA  ...  2015   6             1\n",
              "\n",
              "[5 rows x 37 columns]"
            ]
          },
          "metadata": {
            "tags": []
          },
          "execution_count": 3
        }
      ]
    },
    {
      "cell_type": "code",
      "metadata": {
        "id": "bIdZEHMK1fMG"
      },
      "source": [
        "acidentes['NATUREZA_ACIDENTE'] = acidentes['NATUREZA_ACIDENTE'].replace('VITIMA FATAL', 'COM VITIMA')\n",
        "acidentes['NATUREZA_ACIDENTE'] = acidentes['NATUREZA_ACIDENTE'].replace('SEM INFORMACAO', np.NaN)\n",
        "acidentes['NATUREZA_ACIDENTE'] = acidentes['NATUREZA_ACIDENTE'].replace('ENTRADA E SAIDA', np.NaN)\n",
        "acidentes['NATUREZA_ACIDENTE'] = acidentes['NATUREZA_ACIDENTE'].replace('APOIO', np.NaN)\n"
      ],
      "execution_count": null,
      "outputs": []
    },
    {
      "cell_type": "code",
      "metadata": {
        "id": "v3RDMfaehM6B"
      },
      "source": [
        "df = acidentes[['NATUREZA_ACIDENTE','TIPO', 'AUTO', 'MOTO', 'CICLOM', 'CICLISTA','PEDESTRE','ONIBUS','CAMINHAO','VIATURA','TEMPO_CLIMA','SITUACAO_SEMAFORO','SINALIZACAO','CONDICAO_VIA','CONSERVACAO_VIA','PERIODO_DO_DIA']]"
      ],
      "execution_count": null,
      "outputs": []
    },
    {
      "cell_type": "code",
      "metadata": {
        "colab": {
          "base_uri": "https://localhost:8080/",
          "height": 305
        },
        "id": "fX7-7QbbiG1j",
        "outputId": "a04b1b69-0afa-458f-9558-d1a3bec86cb3"
      },
      "source": [
        "df.head()"
      ],
      "execution_count": null,
      "outputs": [
        {
          "output_type": "execute_result",
          "data": {
            "text/html": [
              "<div>\n",
              "<style scoped>\n",
              "    .dataframe tbody tr th:only-of-type {\n",
              "        vertical-align: middle;\n",
              "    }\n",
              "\n",
              "    .dataframe tbody tr th {\n",
              "        vertical-align: top;\n",
              "    }\n",
              "\n",
              "    .dataframe thead th {\n",
              "        text-align: right;\n",
              "    }\n",
              "</style>\n",
              "<table border=\"1\" class=\"dataframe\">\n",
              "  <thead>\n",
              "    <tr style=\"text-align: right;\">\n",
              "      <th></th>\n",
              "      <th>NATUREZA_ACIDENTE</th>\n",
              "      <th>TIPO</th>\n",
              "      <th>AUTO</th>\n",
              "      <th>MOTO</th>\n",
              "      <th>CICLOM</th>\n",
              "      <th>CICLISTA</th>\n",
              "      <th>PEDESTRE</th>\n",
              "      <th>ONIBUS</th>\n",
              "      <th>CAMINHAO</th>\n",
              "      <th>VIATURA</th>\n",
              "      <th>TEMPO_CLIMA</th>\n",
              "      <th>SITUACAO_SEMAFORO</th>\n",
              "      <th>SINALIZACAO</th>\n",
              "      <th>CONDICAO_VIA</th>\n",
              "      <th>CONSERVACAO_VIA</th>\n",
              "      <th>PERIODO_DO_DIA</th>\n",
              "    </tr>\n",
              "  </thead>\n",
              "  <tbody>\n",
              "    <tr>\n",
              "      <th>0</th>\n",
              "      <td>SEM VITIMA</td>\n",
              "      <td>COLISAO</td>\n",
              "      <td>0.0</td>\n",
              "      <td>0.0</td>\n",
              "      <td>0.0</td>\n",
              "      <td>0.0</td>\n",
              "      <td>0.0</td>\n",
              "      <td>0.0</td>\n",
              "      <td>0.0</td>\n",
              "      <td>0.0</td>\n",
              "      <td>SEM INFORMACAO</td>\n",
              "      <td>SEM INFORMACAO</td>\n",
              "      <td>SEM INFORMACAO</td>\n",
              "      <td>SEM INFORMACAO</td>\n",
              "      <td>SEM INFORMACAO</td>\n",
              "      <td>MANHA</td>\n",
              "    </tr>\n",
              "    <tr>\n",
              "      <th>1</th>\n",
              "      <td>SEM VITIMA</td>\n",
              "      <td>COLISAO</td>\n",
              "      <td>0.0</td>\n",
              "      <td>2.0</td>\n",
              "      <td>0.0</td>\n",
              "      <td>0.0</td>\n",
              "      <td>0.0</td>\n",
              "      <td>0.0</td>\n",
              "      <td>0.0</td>\n",
              "      <td>0.0</td>\n",
              "      <td>SEM INFORMACAO</td>\n",
              "      <td>SEM INFORMACAO</td>\n",
              "      <td>SEM INFORMACAO</td>\n",
              "      <td>SEM INFORMACAO</td>\n",
              "      <td>SEM INFORMACAO</td>\n",
              "      <td>MANHA</td>\n",
              "    </tr>\n",
              "    <tr>\n",
              "      <th>2</th>\n",
              "      <td>SEM VITIMA</td>\n",
              "      <td>COLISAO</td>\n",
              "      <td>1.0</td>\n",
              "      <td>0.0</td>\n",
              "      <td>0.0</td>\n",
              "      <td>0.0</td>\n",
              "      <td>0.0</td>\n",
              "      <td>0.0</td>\n",
              "      <td>1.0</td>\n",
              "      <td>0.0</td>\n",
              "      <td>SEM INFORMACAO</td>\n",
              "      <td>SEM INFORMACAO</td>\n",
              "      <td>SEM INFORMACAO</td>\n",
              "      <td>SEM INFORMACAO</td>\n",
              "      <td>SEM INFORMACAO</td>\n",
              "      <td>MANHA</td>\n",
              "    </tr>\n",
              "    <tr>\n",
              "      <th>3</th>\n",
              "      <td>SEM VITIMA</td>\n",
              "      <td>COLISAO</td>\n",
              "      <td>1.0</td>\n",
              "      <td>0.0</td>\n",
              "      <td>0.0</td>\n",
              "      <td>0.0</td>\n",
              "      <td>0.0</td>\n",
              "      <td>0.0</td>\n",
              "      <td>1.0</td>\n",
              "      <td>0.0</td>\n",
              "      <td>SEM INFORMACAO</td>\n",
              "      <td>SEM INFORMACAO</td>\n",
              "      <td>SEM INFORMACAO</td>\n",
              "      <td>SEM INFORMACAO</td>\n",
              "      <td>SEM INFORMACAO</td>\n",
              "      <td>MANHA</td>\n",
              "    </tr>\n",
              "    <tr>\n",
              "      <th>4</th>\n",
              "      <td>SEM VITIMA</td>\n",
              "      <td>COLISAO</td>\n",
              "      <td>2.0</td>\n",
              "      <td>0.0</td>\n",
              "      <td>0.0</td>\n",
              "      <td>0.0</td>\n",
              "      <td>0.0</td>\n",
              "      <td>0.0</td>\n",
              "      <td>0.0</td>\n",
              "      <td>0.0</td>\n",
              "      <td>SEM INFORMACAO</td>\n",
              "      <td>SEM INFORMACAO</td>\n",
              "      <td>SEM INFORMACAO</td>\n",
              "      <td>SEM INFORMACAO</td>\n",
              "      <td>SEM INFORMACAO</td>\n",
              "      <td>MANHA</td>\n",
              "    </tr>\n",
              "  </tbody>\n",
              "</table>\n",
              "</div>"
            ],
            "text/plain": [
              "  NATUREZA_ACIDENTE     TIPO  ...  CONSERVACAO_VIA  PERIODO_DO_DIA\n",
              "0        SEM VITIMA  COLISAO  ...   SEM INFORMACAO           MANHA\n",
              "1        SEM VITIMA  COLISAO  ...   SEM INFORMACAO           MANHA\n",
              "2        SEM VITIMA  COLISAO  ...   SEM INFORMACAO           MANHA\n",
              "3        SEM VITIMA  COLISAO  ...   SEM INFORMACAO           MANHA\n",
              "4        SEM VITIMA  COLISAO  ...   SEM INFORMACAO           MANHA\n",
              "\n",
              "[5 rows x 16 columns]"
            ]
          },
          "metadata": {
            "tags": []
          },
          "execution_count": 6
        }
      ]
    },
    {
      "cell_type": "code",
      "metadata": {
        "colab": {
          "base_uri": "https://localhost:8080/"
        },
        "id": "-FhsZzt6mYrS",
        "outputId": "d57c40b6-24f9-4ced-cda6-5136223247c8"
      },
      "source": [
        "df['NATUREZA_ACIDENTE'] = df['NATUREZA_ACIDENTE'].replace('SEM INFORMACAO', np.nan)\n",
        "df['TIPO'] = df['TIPO'].replace('SEM INFORMACAO', np.nan)\n",
        "df['TEMPO_CLIMA'] = df['TEMPO_CLIMA'].replace('SEM INFORMACAO', np.nan)\n",
        "df['SINALIZACAO'] = df['SINALIZACAO'].replace('SEM INFORMACAO', np.nan)\n",
        "df['CONDICAO_VIA'] = df['CONDICAO_VIA'].replace('SEM INFORMACAO', np.nan)\n",
        "df['CONSERVACAO_VIA'] = df['CONSERVACAO_VIA'].replace('SEM INFORMACAO', np.nan)\n",
        "#df['SITUACAO_PLACA'] = df['SITUACAO_PLACA'].replace('SEM INFORMACAO', np.nan)\n",
        "#df['VELOCIDADE_MAX_VIA'] = df['VELOCIDADE_MAX_VIA'].replace('SEM INFORMACAO', np.nan)\n",
        "df['PERIODO_DO_DIA'] = df['PERIODO_DO_DIA'].replace('SEM INFORMACAO', np.nan)"
      ],
      "execution_count": null,
      "outputs": [
        {
          "output_type": "stream",
          "text": [
            "/usr/local/lib/python3.7/dist-packages/ipykernel_launcher.py:1: SettingWithCopyWarning: \n",
            "A value is trying to be set on a copy of a slice from a DataFrame.\n",
            "Try using .loc[row_indexer,col_indexer] = value instead\n",
            "\n",
            "See the caveats in the documentation: https://pandas.pydata.org/pandas-docs/stable/user_guide/indexing.html#returning-a-view-versus-a-copy\n",
            "  \"\"\"Entry point for launching an IPython kernel.\n",
            "/usr/local/lib/python3.7/dist-packages/ipykernel_launcher.py:2: SettingWithCopyWarning: \n",
            "A value is trying to be set on a copy of a slice from a DataFrame.\n",
            "Try using .loc[row_indexer,col_indexer] = value instead\n",
            "\n",
            "See the caveats in the documentation: https://pandas.pydata.org/pandas-docs/stable/user_guide/indexing.html#returning-a-view-versus-a-copy\n",
            "  \n",
            "/usr/local/lib/python3.7/dist-packages/ipykernel_launcher.py:3: SettingWithCopyWarning: \n",
            "A value is trying to be set on a copy of a slice from a DataFrame.\n",
            "Try using .loc[row_indexer,col_indexer] = value instead\n",
            "\n",
            "See the caveats in the documentation: https://pandas.pydata.org/pandas-docs/stable/user_guide/indexing.html#returning-a-view-versus-a-copy\n",
            "  This is separate from the ipykernel package so we can avoid doing imports until\n",
            "/usr/local/lib/python3.7/dist-packages/ipykernel_launcher.py:4: SettingWithCopyWarning: \n",
            "A value is trying to be set on a copy of a slice from a DataFrame.\n",
            "Try using .loc[row_indexer,col_indexer] = value instead\n",
            "\n",
            "See the caveats in the documentation: https://pandas.pydata.org/pandas-docs/stable/user_guide/indexing.html#returning-a-view-versus-a-copy\n",
            "  after removing the cwd from sys.path.\n",
            "/usr/local/lib/python3.7/dist-packages/ipykernel_launcher.py:5: SettingWithCopyWarning: \n",
            "A value is trying to be set on a copy of a slice from a DataFrame.\n",
            "Try using .loc[row_indexer,col_indexer] = value instead\n",
            "\n",
            "See the caveats in the documentation: https://pandas.pydata.org/pandas-docs/stable/user_guide/indexing.html#returning-a-view-versus-a-copy\n",
            "  \"\"\"\n",
            "/usr/local/lib/python3.7/dist-packages/ipykernel_launcher.py:6: SettingWithCopyWarning: \n",
            "A value is trying to be set on a copy of a slice from a DataFrame.\n",
            "Try using .loc[row_indexer,col_indexer] = value instead\n",
            "\n",
            "See the caveats in the documentation: https://pandas.pydata.org/pandas-docs/stable/user_guide/indexing.html#returning-a-view-versus-a-copy\n",
            "  \n",
            "/usr/local/lib/python3.7/dist-packages/ipykernel_launcher.py:9: SettingWithCopyWarning: \n",
            "A value is trying to be set on a copy of a slice from a DataFrame.\n",
            "Try using .loc[row_indexer,col_indexer] = value instead\n",
            "\n",
            "See the caveats in the documentation: https://pandas.pydata.org/pandas-docs/stable/user_guide/indexing.html#returning-a-view-versus-a-copy\n",
            "  if __name__ == '__main__':\n"
          ],
          "name": "stderr"
        }
      ]
    },
    {
      "cell_type": "code",
      "metadata": {
        "colab": {
          "base_uri": "https://localhost:8080/"
        },
        "id": "lmR1oLBrmo0m",
        "outputId": "d34480d3-cd95-4f89-a7c1-5bd1c06b189d"
      },
      "source": [
        "print(df.isnull().sum()/len(df))"
      ],
      "execution_count": null,
      "outputs": [
        {
          "output_type": "stream",
          "text": [
            "NATUREZA_ACIDENTE    0.007309\n",
            "TIPO                 0.000983\n",
            "AUTO                 0.000000\n",
            "MOTO                 0.000000\n",
            "CICLOM               0.000000\n",
            "CICLISTA             0.000000\n",
            "PEDESTRE             0.000000\n",
            "ONIBUS               0.000000\n",
            "CAMINHAO             0.000000\n",
            "VIATURA              0.000000\n",
            "TEMPO_CLIMA          0.739553\n",
            "SITUACAO_SEMAFORO    0.000000\n",
            "SINALIZACAO          0.744415\n",
            "CONDICAO_VIA         0.740381\n",
            "CONSERVACAO_VIA      0.744087\n",
            "PERIODO_DO_DIA       0.000000\n",
            "dtype: float64\n"
          ],
          "name": "stdout"
        }
      ]
    },
    {
      "cell_type": "code",
      "metadata": {
        "id": "ExY3-D-uqj3Y"
      },
      "source": [
        "df = df[df['CONSERVACAO_VIA'].notna()]\n",
        "df = df[df['SINALIZACAO'].notna()]\n",
        "df = df[df['CONDICAO_VIA'].notna()]\n",
        "df = df[df['TEMPO_CLIMA'].notna()]\n",
        "df = df[df['NATUREZA_ACIDENTE'].notna()]"
      ],
      "execution_count": null,
      "outputs": []
    },
    {
      "cell_type": "code",
      "metadata": {
        "colab": {
          "base_uri": "https://localhost:8080/"
        },
        "id": "VGw42p-uqoOA",
        "outputId": "8a73366b-0f6e-4073-caad-ec1ec8ebe0bc"
      },
      "source": [
        "len(df)"
      ],
      "execution_count": null,
      "outputs": [
        {
          "output_type": "execute_result",
          "data": {
            "text/plain": [
              "14568"
            ]
          },
          "metadata": {
            "tags": []
          },
          "execution_count": 10
        }
      ]
    },
    {
      "cell_type": "code",
      "metadata": {
        "colab": {
          "base_uri": "https://localhost:8080/"
        },
        "id": "90k86hfCsQeg",
        "outputId": "c3768b5e-990e-4394-e5c4-8f6a450f42ee"
      },
      "source": [
        "print(df.isnull().sum()/len(df))"
      ],
      "execution_count": null,
      "outputs": [
        {
          "output_type": "stream",
          "text": [
            "NATUREZA_ACIDENTE    0.0\n",
            "TIPO                 0.0\n",
            "AUTO                 0.0\n",
            "MOTO                 0.0\n",
            "CICLOM               0.0\n",
            "CICLISTA             0.0\n",
            "PEDESTRE             0.0\n",
            "ONIBUS               0.0\n",
            "CAMINHAO             0.0\n",
            "VIATURA              0.0\n",
            "TEMPO_CLIMA          0.0\n",
            "SITUACAO_SEMAFORO    0.0\n",
            "SINALIZACAO          0.0\n",
            "CONDICAO_VIA         0.0\n",
            "CONSERVACAO_VIA      0.0\n",
            "PERIODO_DO_DIA       0.0\n",
            "dtype: float64\n"
          ],
          "name": "stdout"
        }
      ]
    },
    {
      "cell_type": "code",
      "metadata": {
        "colab": {
          "base_uri": "https://localhost:8080/",
          "height": 322
        },
        "id": "LdIBsQTqJpM-",
        "outputId": "ef66afc4-cc42-4432-e93e-657b41c4a7d6"
      },
      "source": [
        "df.head()"
      ],
      "execution_count": null,
      "outputs": [
        {
          "output_type": "execute_result",
          "data": {
            "text/html": [
              "<div>\n",
              "<style scoped>\n",
              "    .dataframe tbody tr th:only-of-type {\n",
              "        vertical-align: middle;\n",
              "    }\n",
              "\n",
              "    .dataframe tbody tr th {\n",
              "        vertical-align: top;\n",
              "    }\n",
              "\n",
              "    .dataframe thead th {\n",
              "        text-align: right;\n",
              "    }\n",
              "</style>\n",
              "<table border=\"1\" class=\"dataframe\">\n",
              "  <thead>\n",
              "    <tr style=\"text-align: right;\">\n",
              "      <th></th>\n",
              "      <th>NATUREZA_ACIDENTE</th>\n",
              "      <th>TIPO</th>\n",
              "      <th>AUTO</th>\n",
              "      <th>MOTO</th>\n",
              "      <th>CICLOM</th>\n",
              "      <th>CICLISTA</th>\n",
              "      <th>PEDESTRE</th>\n",
              "      <th>ONIBUS</th>\n",
              "      <th>CAMINHAO</th>\n",
              "      <th>VIATURA</th>\n",
              "      <th>TEMPO_CLIMA</th>\n",
              "      <th>SITUACAO_SEMAFORO</th>\n",
              "      <th>SINALIZACAO</th>\n",
              "      <th>CONDICAO_VIA</th>\n",
              "      <th>CONSERVACAO_VIA</th>\n",
              "      <th>PERIODO_DO_DIA</th>\n",
              "    </tr>\n",
              "  </thead>\n",
              "  <tbody>\n",
              "    <tr>\n",
              "      <th>38916</th>\n",
              "      <td>SEM VITIMA</td>\n",
              "      <td>ABALROAMENTO LONGITUDINAL</td>\n",
              "      <td>2.0</td>\n",
              "      <td>0.0</td>\n",
              "      <td>0.0</td>\n",
              "      <td>0.0</td>\n",
              "      <td>0.0</td>\n",
              "      <td>0.0</td>\n",
              "      <td>0.0</td>\n",
              "      <td>0.0</td>\n",
              "      <td>BOM</td>\n",
              "      <td>SEM DEFEITO</td>\n",
              "      <td>PERFEITO ESTADO</td>\n",
              "      <td>SECA</td>\n",
              "      <td>PERFEITO ESTADO</td>\n",
              "      <td>MADRUGADA</td>\n",
              "    </tr>\n",
              "    <tr>\n",
              "      <th>38919</th>\n",
              "      <td>SEM VITIMA</td>\n",
              "      <td>COLISAO TRASEIRA</td>\n",
              "      <td>2.0</td>\n",
              "      <td>0.0</td>\n",
              "      <td>0.0</td>\n",
              "      <td>0.0</td>\n",
              "      <td>0.0</td>\n",
              "      <td>0.0</td>\n",
              "      <td>0.0</td>\n",
              "      <td>0.0</td>\n",
              "      <td>BOM</td>\n",
              "      <td>NAO EXISTE</td>\n",
              "      <td>NAO EXISTENTE</td>\n",
              "      <td>SECA</td>\n",
              "      <td>PERFEITO ESTADO</td>\n",
              "      <td>MANHA</td>\n",
              "    </tr>\n",
              "    <tr>\n",
              "      <th>38920</th>\n",
              "      <td>SEM VITIMA</td>\n",
              "      <td>COLISAO TRASEIRA</td>\n",
              "      <td>2.0</td>\n",
              "      <td>0.0</td>\n",
              "      <td>0.0</td>\n",
              "      <td>0.0</td>\n",
              "      <td>0.0</td>\n",
              "      <td>0.0</td>\n",
              "      <td>0.0</td>\n",
              "      <td>0.0</td>\n",
              "      <td>BOM</td>\n",
              "      <td>SEM DEFEITO</td>\n",
              "      <td>PERFEITO ESTADO</td>\n",
              "      <td>SECA</td>\n",
              "      <td>PERFEITO ESTADO</td>\n",
              "      <td>MANHA</td>\n",
              "    </tr>\n",
              "    <tr>\n",
              "      <th>38921</th>\n",
              "      <td>SEM VITIMA</td>\n",
              "      <td>ABALROAMENTO LONGITUDINAL</td>\n",
              "      <td>0.0</td>\n",
              "      <td>0.0</td>\n",
              "      <td>0.0</td>\n",
              "      <td>0.0</td>\n",
              "      <td>0.0</td>\n",
              "      <td>1.0</td>\n",
              "      <td>1.0</td>\n",
              "      <td>0.0</td>\n",
              "      <td>BOM</td>\n",
              "      <td>NAO EXISTE</td>\n",
              "      <td>PERFEITO ESTADO</td>\n",
              "      <td>SECA</td>\n",
              "      <td>PERFEITO ESTADO</td>\n",
              "      <td>TARDE</td>\n",
              "    </tr>\n",
              "    <tr>\n",
              "      <th>38922</th>\n",
              "      <td>SEM VITIMA</td>\n",
              "      <td>CHOQUE VEICULO PARADO</td>\n",
              "      <td>2.0</td>\n",
              "      <td>0.0</td>\n",
              "      <td>0.0</td>\n",
              "      <td>0.0</td>\n",
              "      <td>0.0</td>\n",
              "      <td>0.0</td>\n",
              "      <td>0.0</td>\n",
              "      <td>0.0</td>\n",
              "      <td>BOM</td>\n",
              "      <td>NAO EXISTE</td>\n",
              "      <td>NAO EXISTENTE</td>\n",
              "      <td>SECA</td>\n",
              "      <td>PERFEITO ESTADO</td>\n",
              "      <td>TARDE</td>\n",
              "    </tr>\n",
              "  </tbody>\n",
              "</table>\n",
              "</div>"
            ],
            "text/plain": [
              "      NATUREZA_ACIDENTE  ... PERIODO_DO_DIA\n",
              "38916        SEM VITIMA  ...      MADRUGADA\n",
              "38919        SEM VITIMA  ...          MANHA\n",
              "38920        SEM VITIMA  ...          MANHA\n",
              "38921        SEM VITIMA  ...          TARDE\n",
              "38922        SEM VITIMA  ...          TARDE\n",
              "\n",
              "[5 rows x 16 columns]"
            ]
          },
          "metadata": {
            "tags": []
          },
          "execution_count": 12
        }
      ]
    },
    {
      "cell_type": "code",
      "metadata": {
        "colab": {
          "base_uri": "https://localhost:8080/"
        },
        "id": "wetLVxnyJ8Eg",
        "outputId": "07570c29-c933-4240-9ff5-2c91e99f8305"
      },
      "source": [
        "df['TIPO'].unique()"
      ],
      "execution_count": null,
      "outputs": [
        {
          "output_type": "execute_result",
          "data": {
            "text/plain": [
              "array(['ABALROAMENTO LONGITUDINAL', 'COLISAO TRASEIRA',\n",
              "       'CHOQUE VEICULO PARADO', 'ABALROAMENTO TRANSVERSAL', 'CAPOTAMENTO',\n",
              "       'COLISAO FRONTAL', 'COLISAO COM CICLISTA', 'ATROPELAMENTO',\n",
              "       'CHOQUE OBJETO FIXO', 'ATROPELAMENTO ANIMAL', 'COLISAO',\n",
              "       'ACID  DE PERCURSO', 'CHOQUE', 'TOMBAMENTO', 'ENGAVETAMENTO'],\n",
              "      dtype=object)"
            ]
          },
          "metadata": {
            "tags": []
          },
          "execution_count": 13
        }
      ]
    },
    {
      "cell_type": "code",
      "metadata": {
        "colab": {
          "base_uri": "https://localhost:8080/"
        },
        "id": "QVFIuHpLKGiw",
        "outputId": "8f76a55c-62ff-4ffe-9183-719b80e0a587"
      },
      "source": [
        "df['TEMPO_CLIMA'].unique()"
      ],
      "execution_count": null,
      "outputs": [
        {
          "output_type": "execute_result",
          "data": {
            "text/plain": [
              "array(['BOM', 'CHUVOSO', 'NUBLADO'], dtype=object)"
            ]
          },
          "metadata": {
            "tags": []
          },
          "execution_count": 14
        }
      ]
    },
    {
      "cell_type": "code",
      "metadata": {
        "colab": {
          "base_uri": "https://localhost:8080/"
        },
        "id": "eZcmbgsVKLli",
        "outputId": "260f989d-3eaf-46a2-ab1d-3c5446de7ecf"
      },
      "source": [
        "df['SITUACAO_SEMAFORO'].unique()"
      ],
      "execution_count": null,
      "outputs": [
        {
          "output_type": "execute_result",
          "data": {
            "text/plain": [
              "array(['SEM DEFEITO', 'NAO EXISTE', 'INTERMITENTE', 'SEM INFORMACAO',\n",
              "       'COM DEFEITO', 'DESLIGADO'], dtype=object)"
            ]
          },
          "metadata": {
            "tags": []
          },
          "execution_count": 15
        }
      ]
    },
    {
      "cell_type": "code",
      "metadata": {
        "colab": {
          "base_uri": "https://localhost:8080/"
        },
        "id": "NtjDVl4_KMJ5",
        "outputId": "0474d711-76aa-4240-8077-8d8ef291758f"
      },
      "source": [
        "df['SINALIZACAO'].unique()"
      ],
      "execution_count": null,
      "outputs": [
        {
          "output_type": "execute_result",
          "data": {
            "text/plain": [
              "array(['PERFEITO ESTADO', 'NAO EXISTENTE', 'ILEGIVEL', 'INCOMPLETA'],\n",
              "      dtype=object)"
            ]
          },
          "metadata": {
            "tags": []
          },
          "execution_count": 16
        }
      ]
    },
    {
      "cell_type": "code",
      "metadata": {
        "colab": {
          "base_uri": "https://localhost:8080/"
        },
        "id": "tHABvrCkKL8n",
        "outputId": "445576e6-32c8-42bb-8b78-42bdbc373610"
      },
      "source": [
        "df['CONDICAO_VIA'].unique()"
      ],
      "execution_count": null,
      "outputs": [
        {
          "output_type": "execute_result",
          "data": {
            "text/plain": [
              "array(['SECA', 'MOLHADA', 'OUTROS', 'OLEOSA'], dtype=object)"
            ]
          },
          "metadata": {
            "tags": []
          },
          "execution_count": 17
        }
      ]
    },
    {
      "cell_type": "code",
      "metadata": {
        "colab": {
          "base_uri": "https://localhost:8080/"
        },
        "id": "WLN9ndbmKR93",
        "outputId": "d3f4c769-75ec-4a4f-8389-d4aa9335ec06"
      },
      "source": [
        "df['CONSERVACAO_VIA'].unique()"
      ],
      "execution_count": null,
      "outputs": [
        {
          "output_type": "execute_result",
          "data": {
            "text/plain": [
              "array(['PERFEITO ESTADO', 'MAL ILUMINADA', 'MAL CONSERVADA', 'NAO HA',\n",
              "       'OUTROS'], dtype=object)"
            ]
          },
          "metadata": {
            "tags": []
          },
          "execution_count": 18
        }
      ]
    },
    {
      "cell_type": "code",
      "metadata": {
        "colab": {
          "base_uri": "https://localhost:8080/"
        },
        "id": "lfbHgdIUKYRA",
        "outputId": "26fd7bdb-822f-4bf8-9eae-b40c14fc9984"
      },
      "source": [
        "df['PERIODO_DO_DIA'].unique()"
      ],
      "execution_count": null,
      "outputs": [
        {
          "output_type": "execute_result",
          "data": {
            "text/plain": [
              "array(['MADRUGADA', 'MANHA', 'TARDE', 'NOITE'], dtype=object)"
            ]
          },
          "metadata": {
            "tags": []
          },
          "execution_count": 19
        }
      ]
    },
    {
      "cell_type": "code",
      "metadata": {
        "id": "FDAo6RAqG6FF"
      },
      "source": [
        "from sklearn.compose import ColumnTransformer\n",
        "from sklearn.preprocessing import OneHotEncoder\n",
        "X_df = df.drop('NATUREZA_ACIDENTE', axis=1)\n",
        "ct = ColumnTransformer(transformers=[('encoder', OneHotEncoder(),[0,9,10,11,12,13,14])],remainder='passthrough')\n",
        "X_df = np.array(ct.fit_transform(X_df))"
      ],
      "execution_count": null,
      "outputs": []
    },
    {
      "cell_type": "code",
      "metadata": {
        "colab": {
          "base_uri": "https://localhost:8080/"
        },
        "id": "MW-xEY-rHNb3",
        "outputId": "eedfab11-0ccd-4ae2-b54a-d2692239ca29"
      },
      "source": [
        "print(X_df[0])"
      ],
      "execution_count": null,
      "outputs": [
        {
          "output_type": "stream",
          "text": [
            "[1. 0. 0. 0. 0. 0. 0. 0. 0. 0. 0. 0. 0. 0. 0. 1. 0. 0. 0. 0. 0. 0. 1. 0.\n",
            " 0. 0. 0. 1. 0. 0. 0. 1. 0. 0. 0. 0. 1. 1. 0. 0. 0. 2. 0. 0. 0. 0. 0. 0.\n",
            " 0.]\n"
          ],
          "name": "stdout"
        }
      ]
    },
    {
      "cell_type": "code",
      "metadata": {
        "id": "QZl2XJQksTLb"
      },
      "source": [
        "# Dados\n",
        "from sklearn.model_selection import train_test_split\n",
        "import seaborn as sns\n",
        "#X_df = df.drop('NATUREZA_ACIDENTE', axis=1)\n",
        "y_df = df['NATUREZA_ACIDENTE']\n",
        "Xtrain, Xtest, ytrain, ytest = train_test_split(X_df, y_df, test_size=0.2, random_state=1)\n",
        "\n",
        "Xtrain, X_val, ytrain, y_val = train_test_split(Xtrain, ytrain, test_size=0.25, random_state=1) # 0.25 x 0.8 = 0.2\n",
        "#Xtrain, Xtest, ytrain, ytest = train_test_split(X_df, y_df,\n",
        "#                                                random_state=1)"
      ],
      "execution_count": null,
      "outputs": []
    },
    {
      "cell_type": "markdown",
      "metadata": {
        "id": "xUmiu5Vr4HqA"
      },
      "source": [
        "#GAUSSIANNB"
      ]
    },
    {
      "cell_type": "code",
      "metadata": {
        "id": "vxjj7XvRzkTg"
      },
      "source": [
        "from sklearn.naive_bayes import GaussianNB # 1. escolha da técnica\n",
        "model = GaussianNB()                       # 2. instanciação do modelo\n",
        "model.fit(Xtrain, ytrain)                  # 3. criação do modelo\n",
        "y_model = model.predict(Xtest)             # 4. predição em novos dados\n",
        "ypred_train = model.predict(Xtrain)             "
      ],
      "execution_count": null,
      "outputs": []
    },
    {
      "cell_type": "code",
      "metadata": {
        "colab": {
          "base_uri": "https://localhost:8080/"
        },
        "id": "-vO-Ff653D9X",
        "outputId": "219e1948-89b0-4a6b-9bd3-f7ce3adc6328"
      },
      "source": [
        "from sklearn.metrics import accuracy_score\n",
        "from sklearn.metrics import accuracy_score\n",
        "print(\"ACC TRAINING:\" + str(accuracy_score(ytrain, ypred_train)))\n",
        "print(\"ACC TEST:\" + str(accuracy_score(ytest, y_model)))"
      ],
      "execution_count": null,
      "outputs": [
        {
          "output_type": "stream",
          "text": [
            "ACC TRAINING:0.7907322654462242\n",
            "ACC TEST:0.7786547700754975\n"
          ],
          "name": "stdout"
        }
      ]
    },
    {
      "cell_type": "markdown",
      "metadata": {
        "id": "vzNO8CWn4FfY"
      },
      "source": [
        "#MLP"
      ]
    },
    {
      "cell_type": "code",
      "metadata": {
        "id": "E2KfZqOWzsYO",
        "colab": {
          "base_uri": "https://localhost:8080/"
        },
        "outputId": "4a42de21-f33f-4260-bf7f-ea044c79708d"
      },
      "source": [
        "from sklearn.neural_network import MLPClassifier\n",
        "model = MLPClassifier(hidden_layer_sizes=(100,100,100), max_iter=50, alpha=0.0001, solver='sgd', verbose=10,  random_state=21,tol=0.000000001)\n",
        "model.fit(Xtrain, ytrain)                 \n",
        "y_model = model.predict(Xtest)           \n",
        "ypred_train = model.predict(Xtrain)      "
      ],
      "execution_count": null,
      "outputs": [
        {
          "output_type": "stream",
          "text": [
            "Iteration 1, loss = 0.58818649\n",
            "Iteration 2, loss = 0.52302285\n",
            "Iteration 3, loss = 0.50534097\n",
            "Iteration 4, loss = 0.48867542\n",
            "Iteration 5, loss = 0.47192654\n",
            "Iteration 6, loss = 0.45495726\n",
            "Iteration 7, loss = 0.43817591\n",
            "Iteration 8, loss = 0.42196119\n",
            "Iteration 9, loss = 0.40644047\n",
            "Iteration 10, loss = 0.39219508\n",
            "Iteration 11, loss = 0.37990464\n",
            "Iteration 12, loss = 0.36921189\n",
            "Iteration 13, loss = 0.36059302\n",
            "Iteration 14, loss = 0.35355778\n",
            "Iteration 15, loss = 0.34790613\n",
            "Iteration 16, loss = 0.34338793\n",
            "Iteration 17, loss = 0.33944440\n",
            "Iteration 18, loss = 0.33618231\n",
            "Iteration 19, loss = 0.33343200\n",
            "Iteration 20, loss = 0.33089463\n",
            "Iteration 21, loss = 0.32854247\n",
            "Iteration 22, loss = 0.32648108\n",
            "Iteration 23, loss = 0.32464116\n",
            "Iteration 24, loss = 0.32279620\n",
            "Iteration 25, loss = 0.32111168\n",
            "Iteration 26, loss = 0.31958925\n",
            "Iteration 27, loss = 0.31815491\n",
            "Iteration 28, loss = 0.31675351\n",
            "Iteration 29, loss = 0.31548677\n",
            "Iteration 30, loss = 0.31421752\n",
            "Iteration 31, loss = 0.31313802\n",
            "Iteration 32, loss = 0.31210234\n",
            "Iteration 33, loss = 0.31111977\n",
            "Iteration 34, loss = 0.31011537\n",
            "Iteration 35, loss = 0.30913621\n",
            "Iteration 36, loss = 0.30836893\n",
            "Iteration 37, loss = 0.30760406\n",
            "Iteration 38, loss = 0.30664841\n",
            "Iteration 39, loss = 0.30592858\n",
            "Iteration 40, loss = 0.30528278\n",
            "Iteration 41, loss = 0.30450803\n",
            "Iteration 42, loss = 0.30393309\n",
            "Iteration 43, loss = 0.30326748\n",
            "Iteration 44, loss = 0.30278670\n",
            "Iteration 45, loss = 0.30198635\n",
            "Iteration 46, loss = 0.30154464\n",
            "Iteration 47, loss = 0.30089913\n",
            "Iteration 48, loss = 0.30036090\n",
            "Iteration 49, loss = 0.29985331\n",
            "Iteration 50, loss = 0.29935175\n"
          ],
          "name": "stdout"
        },
        {
          "output_type": "stream",
          "text": [
            "/usr/local/lib/python3.7/dist-packages/sklearn/neural_network/_multilayer_perceptron.py:571: ConvergenceWarning: Stochastic Optimizer: Maximum iterations (50) reached and the optimization hasn't converged yet.\n",
            "  % self.max_iter, ConvergenceWarning)\n"
          ],
          "name": "stderr"
        }
      ]
    },
    {
      "cell_type": "code",
      "metadata": {
        "colab": {
          "base_uri": "https://localhost:8080/"
        },
        "id": "BZOY3cEG3Q5n",
        "outputId": "c40677c1-ea89-4c7d-d1e5-0df3400cd4a0"
      },
      "source": [
        "from sklearn.metrics import accuracy_score\n",
        "from sklearn.metrics import accuracy_score\n",
        "print(\"ACC TRAINING:\" + str(accuracy_score(ytrain, ypred_train)))\n",
        "print(\"ACC TEST:\" + str(accuracy_score(ytest, y_model)))"
      ],
      "execution_count": null,
      "outputs": [
        {
          "output_type": "stream",
          "text": [
            "ACC TRAINING:0.8739130434782608\n",
            "ACC TEST:0.8730267673301304\n"
          ],
          "name": "stdout"
        }
      ]
    },
    {
      "cell_type": "markdown",
      "metadata": {
        "id": "fdQL2Z7x4Cm0"
      },
      "source": [
        "#RandomForest"
      ]
    },
    {
      "cell_type": "code",
      "metadata": {
        "id": "N_yEZtak3hrL"
      },
      "source": [
        "from sklearn.ensemble import RandomForestClassifier\n",
        "model = RandomForestClassifier(n_estimators=1000)\n",
        "model.fit(Xtrain, ytrain)                 \n",
        "y_model = model.predict(Xtest)           \n",
        "ypred_train = model.predict(Xtrain)   "
      ],
      "execution_count": null,
      "outputs": []
    },
    {
      "cell_type": "code",
      "metadata": {
        "colab": {
          "base_uri": "https://localhost:8080/"
        },
        "id": "fQ0Q_rRa3zKj",
        "outputId": "6d8de733-f21e-4255-f75d-67ef321f8e41"
      },
      "source": [
        "from sklearn.metrics import accuracy_score\n",
        "from sklearn.metrics import accuracy_score\n",
        "print(\"ACC TRAINING:\" + str(accuracy_score(ytrain, ypred_train)))\n",
        "print(\"ACC TEST:\" + str(accuracy_score(ytest, y_model)))"
      ],
      "execution_count": null,
      "outputs": [
        {
          "output_type": "stream",
          "text": [
            "ACC TRAINING:0.9091533180778032\n",
            "ACC TEST:0.8644474948524365\n"
          ],
          "name": "stdout"
        }
      ]
    },
    {
      "cell_type": "markdown",
      "metadata": {
        "id": "q70C2VPj4Axo"
      },
      "source": [
        "#KNN"
      ]
    },
    {
      "cell_type": "code",
      "metadata": {
        "id": "kw7QHfXC3z7L"
      },
      "source": [
        "from sklearn.neighbors import KNeighborsClassifier\n",
        "model = KNeighborsClassifier(n_neighbors=1)\n",
        "model.fit(Xtrain, ytrain)                 \n",
        "y_model = model.predict(Xtest)           \n",
        "ypred_train = model.predict(Xtrain)"
      ],
      "execution_count": null,
      "outputs": []
    },
    {
      "cell_type": "code",
      "metadata": {
        "colab": {
          "base_uri": "https://localhost:8080/"
        },
        "id": "rBarIR5i39GQ",
        "outputId": "a097221f-759d-4875-d7d8-7cb445d94c00"
      },
      "source": [
        "from sklearn.metrics import accuracy_score\n",
        "from sklearn.metrics import accuracy_score\n",
        "print(\"ACC TRAINING:\" + str(accuracy_score(ytrain, ypred_train)))\n",
        "print(\"ACC TEST:\" + str(accuracy_score(ytest, y_model)))"
      ],
      "execution_count": null,
      "outputs": [
        {
          "output_type": "stream",
          "text": [
            "ACC TRAINING:0.881578947368421\n",
            "ACC TEST:0.8194921070693205\n"
          ],
          "name": "stdout"
        }
      ]
    },
    {
      "cell_type": "code",
      "metadata": {
        "id": "VRcGbXG639rS"
      },
      "source": [
        ""
      ],
      "execution_count": null,
      "outputs": []
    }
  ]
}